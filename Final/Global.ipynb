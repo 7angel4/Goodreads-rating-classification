{
 "cells": [
  {
   "cell_type": "code",
   "execution_count": 2,
   "id": "14efbbec",
   "metadata": {},
   "outputs": [],
   "source": [
    "import pandas as pd\n",
    "import numpy as np\n",
    "import sklearn\n",
    "import matplotlib.pyplot as plt\n",
    "from sklearn.feature_selection import chi2, SelectKBest, SelectFromModel"
   ]
  },
  {
   "cell_type": "code",
   "execution_count": 3,
   "id": "78e2c499",
   "metadata": {},
   "outputs": [],
   "source": [
    "import warnings\n",
    "warnings.filterwarnings('ignore')"
   ]
  },
  {
   "cell_type": "code",
   "execution_count": 4,
   "id": "d030454b",
   "metadata": {},
   "outputs": [],
   "source": [
    "%run TextPreprocessing.ipynb\n",
    "%run HelperFunctions.ipynb"
   ]
  },
  {
   "cell_type": "code",
   "execution_count": 2,
   "id": "64f55cbe",
   "metadata": {},
   "outputs": [],
   "source": [
    "RESOURCE_DIR = \"./Resources/\"\n",
    "DATASET_DIR = RESOURCE_DIR + \"Datasets/\"\n",
    "FIGURE_DIR = RESOURCE_DIR + \"Figures/\"\n",
    "PREDICTION_DIR = RESOURCE_DIR + \"Predictions/\"\n",
    "CLASS_LABEL = \"rating_label\""
   ]
  },
  {
   "cell_type": "code",
   "execution_count": null,
   "id": "1bfc03b7",
   "metadata": {},
   "outputs": [],
   "source": []
  }
 ],
 "metadata": {
  "kernelspec": {
   "display_name": "Python 3",
   "language": "python",
   "name": "python3"
  },
  "language_info": {
   "codemirror_mode": {
    "name": "ipython",
    "version": 3
   },
   "file_extension": ".py",
   "mimetype": "text/x-python",
   "name": "python",
   "nbconvert_exporter": "python",
   "pygments_lexer": "ipython3",
   "version": "3.8.8"
  }
 },
 "nbformat": 4,
 "nbformat_minor": 5
}
