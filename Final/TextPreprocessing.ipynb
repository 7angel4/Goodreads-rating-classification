{
 "cells": [
  {
   "cell_type": "code",
   "execution_count": 5,
   "id": "59c7c64d",
   "metadata": {},
   "outputs": [],
   "source": [
    "import nltk\n",
    "import re\n",
    "import numpy as np\n",
    "from sklearn.feature_extraction.text import TfidfVectorizer\n",
    "from nltk.stem import WordNetLemmatizer\n",
    "from nltk.corpus import stopwords"
   ]
  },
  {
   "cell_type": "code",
   "execution_count": 2,
   "id": "68b677ee",
   "metadata": {},
   "outputs": [],
   "source": [
    "def preprocess(text, stop_words_removal=True, lemmatize=True, min_word_len=2):\n",
    "    \"\"\"\n",
    "    Returns the preprocessed form of the input `text` as a string.\n",
    "    - stop_words_removal: whether stop words are to be removed.\n",
    "    - lemmatize: whether lemmatization is applied.\n",
    "    - min_word_len: an integer for the minimum word length. Words shorter than this are removed.\n",
    "    \"\"\"\n",
    "    \n",
    "    text_processed = re.sub('[^a-zA-Z]', ' ', text) # Remove non-alphabetic characters\n",
    "    text_processed = re.sub('\\s+', ' ', text_processed) # Replace multiple spaces with single space\n",
    "    text_processed = text_processed.lower() # Lower case\n",
    "    \n",
    "    text_words = text_processed.split() # Tokenize\n",
    "    text_words = [w for w in text_words if len(w) >= min_word_len] # remove words too short\n",
    "    if stop_words_removal:\n",
    "        stop_words = stopwords.words('english')\n",
    "        text_words = [w for w in text_words if not w in stop_words] # Stopwords removal\n",
    "    if lemmatize:\n",
    "        text_words = [WordNetLemmatizer().lemmatize(w) for w in text_words]  # Lemmatization\n",
    "    \n",
    "    return ' '.join(text_words)\n"
   ]
  },
  {
   "cell_type": "code",
   "execution_count": 8,
   "id": "5a80cfd3",
   "metadata": {},
   "outputs": [],
   "source": [
    "def preprocess_text_feature(df, feature, ngram=2, vectorizer=None, max_features=50, delimiter=' '):\n",
    "    \"\"\"\n",
    "    Converts the feature in the given dataset to TF-IDF features.\n",
    "    - ngram: n-value for n-grams to be extracted.\n",
    "    - vectorizer: the vectorizer to use. If None, a TfIdfVectorzer is created.\n",
    "    - max_features: the top number of features to keep in the vocabulary, \n",
    "                    ordered by term frequency across the corpus (dataset).\n",
    "    - delimiter: delimiter for the individual tokens in the extracted ngrams.\n",
    "    Returns the transformed dataset and vectorizer used.\n",
    "    \"\"\"\n",
    "    \n",
    "    corpus = df[feature]\n",
    "    if vectorizer is None:\n",
    "        vectorizer = TfidfVectorizer(preprocessor=preprocess, min_df=2, \n",
    "                                     max_df=len(df), ngram_range=(ngram,ngram), \n",
    "                                     max_features=max_features).fit(corpus)  # take the top 50 features by term frequency\n",
    "    \n",
    "    transformed_matrix = vectorizer.transform(corpus)\n",
    "    transformed_df = pd.DataFrame(transformed_matrix.todense())\n",
    "    vocab = vectorizer.vocabulary_\n",
    "    \n",
    "    if delimiter != ' ':\n",
    "        vocab = [delimiter.join(w.split()) for w in vocab]\n",
    "        \n",
    "    transformed_df = transformed_df.set_axis(vocab, axis=1, inplace=False)  # rename the columns\n",
    "    return transformed_df, vectorizer\n"
   ]
  },
  {
   "cell_type": "code",
   "execution_count": null,
   "id": "c5d1e202",
   "metadata": {},
   "outputs": [],
   "source": []
  }
 ],
 "metadata": {
  "kernelspec": {
   "display_name": "Python 3 (ipykernel)",
   "language": "python",
   "name": "python3"
  },
  "language_info": {
   "codemirror_mode": {
    "name": "ipython",
    "version": 3
   },
   "file_extension": ".py",
   "mimetype": "text/x-python",
   "name": "python",
   "nbconvert_exporter": "python",
   "pygments_lexer": "ipython3",
   "version": "3.8.8"
  }
 },
 "nbformat": 4,
 "nbformat_minor": 5
}
