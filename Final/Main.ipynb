{
 "cells": [
  {
   "cell_type": "markdown",
   "id": "36aa0dcc",
   "metadata": {},
   "source": [
    "###### ### The University of Melbourne, School of Computing and Information Systems\n",
    "# COMP30027 Machine Learning, 2023 Semester 1\n",
    "\n",
    "## Assignment 2: Book Rating Prediction"
   ]
  },
  {
   "cell_type": "markdown",
   "id": "ad7b7d63",
   "metadata": {},
   "source": [
    "**Student IDs:**     1264462 & 1269549"
   ]
  },
  {
   "cell_type": "markdown",
   "id": "a4ee271d",
   "metadata": {},
   "source": [
    "# README\n",
    "\n",
    "* To run the complete code in Jupyter Notebook, simply click Kernel > Restart & Run All.\n",
    "    * Note that it might take a while to generate the output - the slowest model takes about < 7 minutes.\n",
    "    * Alternatively, select the relevant cell, and click 'Run'.\n",
    "* Code lines commented out with `##` are for printing out information that may be of interest. You may uncomment it to see the output.\n",
    "* The dataset files (both the original and preprocessed) are assumed to exist in the directory \"**./Resources/Datasets/**\".\n",
    "* Here we make use of the IPython built-in magic command (`%run`) to run the helper notebook: `Global.ipynb`. You do not need to open and run it separately.\n",
    "* This code makes use of a library \"mlxtend\". To install it, run in the terminal: `pip install mlxtend`.\n",
    "    * More details about this library can be found here: https://rasbt.github.io/mlxtend/.\n",
    "* Each model may use a slightly different version of the preprocessed dataset. Running this code generates the \"train_df.csv\" and \"test_df.csv\" file. \n",
    "    * The other versions were pre-generated, which only requires a small change in a function parameter or some further feature selection.\n",
    "    * A more detailed description of these datasets can be found in \"README.txt\" in the \"Resources\" folder residing in the same directory. \n",
    "* This code also generates CSV files (\"[model]_pred.csv\"), which contain the final predictions made by each model on the test set."
   ]
  },
  {
   "cell_type": "code",
   "execution_count": 1,
   "id": "14efbbec",
   "metadata": {},
   "outputs": [],
   "source": [
    "%run Global.ipynb"
   ]
  },
  {
   "cell_type": "code",
   "execution_count": 2,
   "id": "81812266",
   "metadata": {},
   "outputs": [],
   "source": [
    "# Load datasets\n",
    "train_df = pd.read_csv(DATASET_DIR + \"book_rating_train.csv\", index_col = False, delimiter = ',', header=0)\n",
    "test_df = pd.read_csv(DATASET_DIR + \"book_rating_test.csv\", index_col = False, delimiter = ',', header=0)\n",
    "entire_df = pd.concat([train_df, test_df])"
   ]
  },
  {
   "cell_type": "markdown",
   "id": "d6e25a82",
   "metadata": {},
   "source": [
    "# 1. Data Preprocessing"
   ]
  },
  {
   "cell_type": "markdown",
   "id": "53c4fe86",
   "metadata": {},
   "source": [
    "Note: Here we show the individual preprocessing steps for the training set for clarity. At the end we pull everything together to preprocess the test set."
   ]
  },
  {
   "cell_type": "markdown",
   "id": "1d1b1fa6",
   "metadata": {},
   "source": [
    "## Preprocess String features: Authors and Publisher"
   ]
  },
  {
   "cell_type": "code",
   "execution_count": 3,
   "id": "58dcc204",
   "metadata": {},
   "outputs": [],
   "source": [
    "CATEGORICAL_FEATURES = ['Authors', 'Publisher']\n",
    "MISSING_CAT_VAL = ''"
   ]
  },
  {
   "cell_type": "code",
   "execution_count": 4,
   "id": "ad7ab1c8",
   "metadata": {},
   "outputs": [],
   "source": [
    "train_df = train_df.drop('Language', axis=1)  # this feature has too many missing values\n",
    "\n",
    "for df in [train_df, entire_df]:\n",
    "    for feature in CATEGORICAL_FEATURES:\n",
    "        df[feature] = df[feature].fillna(MISSING_CAT_VAL)  # impute missing values\n",
    "        df[feature] = df[feature].apply(lambda x: preprocess(x, stop_words_removal=False, lemmatize=False, min_word_len=0))"
   ]
  },
  {
   "cell_type": "markdown",
   "id": "5d720b85",
   "metadata": {},
   "source": [
    "### One-Hot Encoding"
   ]
  },
  {
   "cell_type": "code",
   "execution_count": 5,
   "id": "c5d64489",
   "metadata": {},
   "outputs": [
    {
     "data": {
      "text/html": [
       "<style>#sk-container-id-1 {color: black;background-color: white;}#sk-container-id-1 pre{padding: 0;}#sk-container-id-1 div.sk-toggleable {background-color: white;}#sk-container-id-1 label.sk-toggleable__label {cursor: pointer;display: block;width: 100%;margin-bottom: 0;padding: 0.3em;box-sizing: border-box;text-align: center;}#sk-container-id-1 label.sk-toggleable__label-arrow:before {content: \"▸\";float: left;margin-right: 0.25em;color: #696969;}#sk-container-id-1 label.sk-toggleable__label-arrow:hover:before {color: black;}#sk-container-id-1 div.sk-estimator:hover label.sk-toggleable__label-arrow:before {color: black;}#sk-container-id-1 div.sk-toggleable__content {max-height: 0;max-width: 0;overflow: hidden;text-align: left;background-color: #f0f8ff;}#sk-container-id-1 div.sk-toggleable__content pre {margin: 0.2em;color: black;border-radius: 0.25em;background-color: #f0f8ff;}#sk-container-id-1 input.sk-toggleable__control:checked~div.sk-toggleable__content {max-height: 200px;max-width: 100%;overflow: auto;}#sk-container-id-1 input.sk-toggleable__control:checked~label.sk-toggleable__label-arrow:before {content: \"▾\";}#sk-container-id-1 div.sk-estimator input.sk-toggleable__control:checked~label.sk-toggleable__label {background-color: #d4ebff;}#sk-container-id-1 div.sk-label input.sk-toggleable__control:checked~label.sk-toggleable__label {background-color: #d4ebff;}#sk-container-id-1 input.sk-hidden--visually {border: 0;clip: rect(1px 1px 1px 1px);clip: rect(1px, 1px, 1px, 1px);height: 1px;margin: -1px;overflow: hidden;padding: 0;position: absolute;width: 1px;}#sk-container-id-1 div.sk-estimator {font-family: monospace;background-color: #f0f8ff;border: 1px dotted black;border-radius: 0.25em;box-sizing: border-box;margin-bottom: 0.5em;}#sk-container-id-1 div.sk-estimator:hover {background-color: #d4ebff;}#sk-container-id-1 div.sk-parallel-item::after {content: \"\";width: 100%;border-bottom: 1px solid gray;flex-grow: 1;}#sk-container-id-1 div.sk-label:hover label.sk-toggleable__label {background-color: #d4ebff;}#sk-container-id-1 div.sk-serial::before {content: \"\";position: absolute;border-left: 1px solid gray;box-sizing: border-box;top: 0;bottom: 0;left: 50%;z-index: 0;}#sk-container-id-1 div.sk-serial {display: flex;flex-direction: column;align-items: center;background-color: white;padding-right: 0.2em;padding-left: 0.2em;position: relative;}#sk-container-id-1 div.sk-item {position: relative;z-index: 1;}#sk-container-id-1 div.sk-parallel {display: flex;align-items: stretch;justify-content: center;background-color: white;position: relative;}#sk-container-id-1 div.sk-item::before, #sk-container-id-1 div.sk-parallel-item::before {content: \"\";position: absolute;border-left: 1px solid gray;box-sizing: border-box;top: 0;bottom: 0;left: 50%;z-index: -1;}#sk-container-id-1 div.sk-parallel-item {display: flex;flex-direction: column;z-index: 1;position: relative;background-color: white;}#sk-container-id-1 div.sk-parallel-item:first-child::after {align-self: flex-end;width: 50%;}#sk-container-id-1 div.sk-parallel-item:last-child::after {align-self: flex-start;width: 50%;}#sk-container-id-1 div.sk-parallel-item:only-child::after {width: 0;}#sk-container-id-1 div.sk-dashed-wrapped {border: 1px dashed gray;margin: 0 0.4em 0.5em 0.4em;box-sizing: border-box;padding-bottom: 0.4em;background-color: white;}#sk-container-id-1 div.sk-label label {font-family: monospace;font-weight: bold;display: inline-block;line-height: 1.2em;}#sk-container-id-1 div.sk-label-container {text-align: center;}#sk-container-id-1 div.sk-container {/* jupyter's `normalize.less` sets `[hidden] { display: none; }` but bootstrap.min.css set `[hidden] { display: none !important; }` so we also need the `!important` here to be able to override the default hidden behavior on the sphinx rendered scikit-learn.org. See: https://github.com/scikit-learn/scikit-learn/issues/21755 */display: inline-block !important;position: relative;}#sk-container-id-1 div.sk-text-repr-fallback {display: none;}</style><div id=\"sk-container-id-1\" class=\"sk-top-container\"><div class=\"sk-text-repr-fallback\"><pre>OneHotEncoder(handle_unknown=&#x27;infrequent_if_exist&#x27;, min_frequency=3,\n",
       "              sparse=False, sparse_output=False)</pre><b>In a Jupyter environment, please rerun this cell to show the HTML representation or trust the notebook. <br />On GitHub, the HTML representation is unable to render, please try loading this page with nbviewer.org.</b></div><div class=\"sk-container\" hidden><div class=\"sk-item\"><div class=\"sk-estimator sk-toggleable\"><input class=\"sk-toggleable__control sk-hidden--visually\" id=\"sk-estimator-id-1\" type=\"checkbox\" checked><label for=\"sk-estimator-id-1\" class=\"sk-toggleable__label sk-toggleable__label-arrow\">OneHotEncoder</label><div class=\"sk-toggleable__content\"><pre>OneHotEncoder(handle_unknown=&#x27;infrequent_if_exist&#x27;, min_frequency=3,\n",
       "              sparse=False, sparse_output=False)</pre></div></div></div></div></div>"
      ],
      "text/plain": [
       "OneHotEncoder(handle_unknown='infrequent_if_exist', min_frequency=3,\n",
       "              sparse=False, sparse_output=False)"
      ]
     },
     "execution_count": 5,
     "metadata": {},
     "output_type": "execute_result"
    }
   ],
   "source": [
    "from sklearn.preprocessing import OneHotEncoder\n",
    "\n",
    "OHE = OneHotEncoder(handle_unknown='infrequent_if_exist', min_frequency=3, sparse=False)\n",
    "OHE.fit(entire_df[CATEGORICAL_FEATURES])"
   ]
  },
  {
   "cell_type": "code",
   "execution_count": 6,
   "id": "f82b3598",
   "metadata": {},
   "outputs": [],
   "source": [
    "def ohe_transform(df, has_labels=False):\n",
    "    \"\"\"\n",
    "    Transforms the dataset by one-hot-encoding, on the categorical features only.\n",
    "    `has_label` indicates whether the DataFrame contains the class labels.\n",
    "        If True, these are moved to the last column.\n",
    "    Returns the transformed DataFrame.\n",
    "    \"\"\"\n",
    "    transformed_mat = OHE.transform(df[CATEGORICAL_FEATURES])\n",
    "    transformed_cat_df = pd.DataFrame(transformed_mat).set_axis(OHE.get_feature_names_out(), axis=1, inplace=False)\n",
    "    transformed_df = pd.concat([df.reset_index(drop=True), transformed_cat_df], axis=1)\n",
    "    transformed_df = transformed_df.drop(CATEGORICAL_FEATURES, axis=1)  # drop the original attributes\n",
    "    \n",
    "    if has_labels:\n",
    "        # move rating_label to the last column\n",
    "        labels = transformed_df[CLASS_LABEL]\n",
    "        transformed_df = pd.concat([transformed_df.drop([CLASS_LABEL], axis=1), labels], axis=1)\n",
    "    \n",
    "    return transformed_df"
   ]
  },
  {
   "cell_type": "code",
   "execution_count": 7,
   "id": "dbd0c918",
   "metadata": {},
   "outputs": [
    {
     "name": "stdout",
     "output_type": "stream",
     "text": [
      "497 features are significant.\n"
     ]
    }
   ],
   "source": [
    "ALPHA = 0.05\n",
    "\n",
    "# Select one-hot-encoded features using chi2\n",
    "x2 = SelectKBest(chi2, k='all')\n",
    "x2.fit(ohe_transform(train_df)[OHE.get_feature_names_out()], train_df[CLASS_LABEL])\n",
    "pvals = pd.DataFrame(x2.pvalues_, index=x2.feature_names_in_, columns=['p-value'])\n",
    "## print(pvals)\n",
    "\n",
    "INSIG_OHE_FEATURES = pvals[pvals['p-value'] >= ALPHA].index.tolist()  # insignificant encoded features\n",
    "sig_ohe_features = pvals[pvals['p-value'] < ALPHA].index.tolist()\n",
    "print(len(sig_ohe_features), \"features are significant.\")\n",
    "## sig_ohe_features"
   ]
  },
  {
   "cell_type": "code",
   "execution_count": 8,
   "id": "be01b925",
   "metadata": {},
   "outputs": [],
   "source": [
    "train_df = ohe_transform(train_df, has_labels=True)\n",
    "train_df = train_df.drop(INSIG_OHE_FEATURES, axis=1)"
   ]
  },
  {
   "cell_type": "markdown",
   "id": "402e29f9",
   "metadata": {},
   "source": [
    "## Discretize 'Numerical' features"
   ]
  },
  {
   "cell_type": "code",
   "execution_count": 9,
   "id": "0269bf6d",
   "metadata": {},
   "outputs": [],
   "source": [
    "# First drop PublishDay and PublishMonth\n",
    "train_df = train_df.drop(['PublishDay', 'PublishMonth'], axis=1)"
   ]
  },
  {
   "cell_type": "code",
   "execution_count": 10,
   "id": "58895b04",
   "metadata": {},
   "outputs": [],
   "source": [
    "from sklearn.preprocessing import KBinsDiscretizer\n",
    "\n",
    "def discretize(df, feature, discretizer=None, strategy='kmeans', n_bins=5):\n",
    "    \"\"\"\n",
    "    Discretizes the feature in the given DataFrame.\n",
    "    - discretizer: the discretizer; \n",
    "      If None, creates a KBinsDiscretizer for ordinal data, with the specified strategy and number of bins.\n",
    "    - strategy: the discretization strategy (one of ['kmeans', 'quantile', 'uniform']).\n",
    "    - n_bins: the number of bins.\n",
    "    Returns the transformed dataset and discretizer used.\n",
    "    \"\"\"\n",
    "    \n",
    "    if discretizer is None:\n",
    "        discretizer = KBinsDiscretizer(n_bins=n_bins, encode='ordinal', strategy=strategy)\n",
    "        discretizer.fit(df[[feature]])\n",
    "        \n",
    "    transformed_df = df.copy()\n",
    "    transformed_df[feature] = discretizer.transform(df[[feature]])\n",
    "    \n",
    "    return transformed_df, discretizer"
   ]
  },
  {
   "cell_type": "code",
   "execution_count": 11,
   "id": "7136bd76",
   "metadata": {},
   "outputs": [],
   "source": [
    "# PublishYear\n",
    "train_df, DISCRETIZER_PY = discretize(train_df, 'PublishYear', strategy='uniform', n_bins=15)\n",
    "\n",
    "# pagesNumber\n",
    "train_df, DISCRETIZER_PN = discretize(train_df, 'pagesNumber', strategy='kmeans', n_bins=7)"
   ]
  },
  {
   "cell_type": "markdown",
   "id": "d95929a9",
   "metadata": {},
   "source": [
    "## Text Pre-processing"
   ]
  },
  {
   "cell_type": "code",
   "execution_count": 12,
   "id": "c1f1faff",
   "metadata": {},
   "outputs": [],
   "source": [
    "TEXT_FEATURES = ['Name', 'Description']"
   ]
  },
  {
   "cell_type": "code",
   "execution_count": 13,
   "id": "b7ce7c3e",
   "metadata": {},
   "outputs": [],
   "source": [
    "train_df_name, VECTORIZER_NAME = preprocess_text_feature(train_df, 'Name', ngram=2, delimiter='_')  # distinguish from Description features\n",
    "train_df_desc, VECTORIZER_DESC = preprocess_text_feature(train_df, 'Description', ngram=2)"
   ]
  },
  {
   "cell_type": "code",
   "execution_count": 14,
   "id": "4aea491f",
   "metadata": {},
   "outputs": [],
   "source": [
    "# Bind them together\n",
    "train_df = pd.concat([train_df.reset_index(drop=True), train_df_name, train_df_desc], axis=1)\n",
    "train_df = train_df.drop(TEXT_FEATURES, axis=1)  # drop the original columns"
   ]
  },
  {
   "cell_type": "code",
   "execution_count": 15,
   "id": "4b7247bd",
   "metadata": {},
   "outputs": [],
   "source": [
    "# Move rating_label to the last column\n",
    "labels = train_df[CLASS_LABEL].astype('category')\n",
    "train_df = pd.concat([train_df.drop([CLASS_LABEL], axis=1), labels], axis=1) "
   ]
  },
  {
   "cell_type": "markdown",
   "id": "ded16240",
   "metadata": {},
   "source": [
    "## Normalization"
   ]
  },
  {
   "cell_type": "code",
   "execution_count": 16,
   "id": "e65de9f5",
   "metadata": {},
   "outputs": [],
   "source": [
    "from sklearn.preprocessing import MinMaxScaler\n",
    "\n",
    "train_df_X = train_df.iloc[:,:-1]\n",
    "train_df_y = train_df.iloc[:,-1]\n",
    "SCALER = MinMaxScaler()\n",
    "scaled = SCALER.fit_transform(train_df_X)"
   ]
  },
  {
   "cell_type": "code",
   "execution_count": 17,
   "id": "aa6df720",
   "metadata": {},
   "outputs": [
    {
     "data": {
      "text/html": [
       "<div>\n",
       "<style scoped>\n",
       "    .dataframe tbody tr th:only-of-type {\n",
       "        vertical-align: middle;\n",
       "    }\n",
       "\n",
       "    .dataframe tbody tr th {\n",
       "        vertical-align: top;\n",
       "    }\n",
       "\n",
       "    .dataframe thead th {\n",
       "        text-align: right;\n",
       "    }\n",
       "</style>\n",
       "<table border=\"1\" class=\"dataframe\">\n",
       "  <thead>\n",
       "    <tr style=\"text-align: right;\">\n",
       "      <th></th>\n",
       "      <th>PublishYear</th>\n",
       "      <th>pagesNumber</th>\n",
       "      <th>Authors_</th>\n",
       "      <th>Authors_aaron mccollough</th>\n",
       "      <th>Authors_abu hamid al ghazali</th>\n",
       "      <th>Authors_agatha christie</th>\n",
       "      <th>Authors_alba de c spedes</th>\n",
       "      <th>Authors_alexander kent</th>\n",
       "      <th>Authors_alexander schmemann</th>\n",
       "      <th>Authors_alexandre dumas</th>\n",
       "      <th>...</th>\n",
       "      <th>book offer</th>\n",
       "      <th>young woman</th>\n",
       "      <th>science fiction</th>\n",
       "      <th>well known</th>\n",
       "      <th>br em</th>\n",
       "      <th>real life</th>\n",
       "      <th>tell story</th>\n",
       "      <th>african american</th>\n",
       "      <th>san francisco</th>\n",
       "      <th>rating_label</th>\n",
       "    </tr>\n",
       "  </thead>\n",
       "  <tbody>\n",
       "    <tr>\n",
       "      <th>0</th>\n",
       "      <td>0.928571</td>\n",
       "      <td>0.000000</td>\n",
       "      <td>0.0</td>\n",
       "      <td>0.0</td>\n",
       "      <td>0.0</td>\n",
       "      <td>0.0</td>\n",
       "      <td>0.0</td>\n",
       "      <td>0.0</td>\n",
       "      <td>0.0</td>\n",
       "      <td>0.0</td>\n",
       "      <td>...</td>\n",
       "      <td>0.0</td>\n",
       "      <td>0.0</td>\n",
       "      <td>0.0</td>\n",
       "      <td>0.0</td>\n",
       "      <td>0.0</td>\n",
       "      <td>0.0</td>\n",
       "      <td>0.0</td>\n",
       "      <td>0.0</td>\n",
       "      <td>0.0</td>\n",
       "      <td>4.0</td>\n",
       "    </tr>\n",
       "    <tr>\n",
       "      <th>1</th>\n",
       "      <td>0.857143</td>\n",
       "      <td>0.333333</td>\n",
       "      <td>0.0</td>\n",
       "      <td>0.0</td>\n",
       "      <td>0.0</td>\n",
       "      <td>0.0</td>\n",
       "      <td>0.0</td>\n",
       "      <td>0.0</td>\n",
       "      <td>0.0</td>\n",
       "      <td>0.0</td>\n",
       "      <td>...</td>\n",
       "      <td>0.0</td>\n",
       "      <td>0.0</td>\n",
       "      <td>0.0</td>\n",
       "      <td>0.0</td>\n",
       "      <td>0.0</td>\n",
       "      <td>0.0</td>\n",
       "      <td>0.0</td>\n",
       "      <td>0.0</td>\n",
       "      <td>0.0</td>\n",
       "      <td>4.0</td>\n",
       "    </tr>\n",
       "    <tr>\n",
       "      <th>2</th>\n",
       "      <td>0.928571</td>\n",
       "      <td>0.000000</td>\n",
       "      <td>0.0</td>\n",
       "      <td>0.0</td>\n",
       "      <td>0.0</td>\n",
       "      <td>0.0</td>\n",
       "      <td>0.0</td>\n",
       "      <td>0.0</td>\n",
       "      <td>0.0</td>\n",
       "      <td>0.0</td>\n",
       "      <td>...</td>\n",
       "      <td>0.0</td>\n",
       "      <td>0.0</td>\n",
       "      <td>0.0</td>\n",
       "      <td>0.0</td>\n",
       "      <td>0.0</td>\n",
       "      <td>0.0</td>\n",
       "      <td>0.0</td>\n",
       "      <td>0.0</td>\n",
       "      <td>0.0</td>\n",
       "      <td>4.0</td>\n",
       "    </tr>\n",
       "    <tr>\n",
       "      <th>3</th>\n",
       "      <td>0.928571</td>\n",
       "      <td>0.166667</td>\n",
       "      <td>0.0</td>\n",
       "      <td>0.0</td>\n",
       "      <td>0.0</td>\n",
       "      <td>0.0</td>\n",
       "      <td>0.0</td>\n",
       "      <td>0.0</td>\n",
       "      <td>0.0</td>\n",
       "      <td>0.0</td>\n",
       "      <td>...</td>\n",
       "      <td>0.0</td>\n",
       "      <td>0.0</td>\n",
       "      <td>0.0</td>\n",
       "      <td>0.0</td>\n",
       "      <td>0.0</td>\n",
       "      <td>0.0</td>\n",
       "      <td>0.0</td>\n",
       "      <td>0.0</td>\n",
       "      <td>0.0</td>\n",
       "      <td>4.0</td>\n",
       "    </tr>\n",
       "    <tr>\n",
       "      <th>4</th>\n",
       "      <td>0.928571</td>\n",
       "      <td>0.166667</td>\n",
       "      <td>0.0</td>\n",
       "      <td>0.0</td>\n",
       "      <td>0.0</td>\n",
       "      <td>0.0</td>\n",
       "      <td>0.0</td>\n",
       "      <td>0.0</td>\n",
       "      <td>0.0</td>\n",
       "      <td>0.0</td>\n",
       "      <td>...</td>\n",
       "      <td>0.0</td>\n",
       "      <td>0.0</td>\n",
       "      <td>0.0</td>\n",
       "      <td>0.0</td>\n",
       "      <td>0.0</td>\n",
       "      <td>0.0</td>\n",
       "      <td>0.0</td>\n",
       "      <td>0.0</td>\n",
       "      <td>0.0</td>\n",
       "      <td>3.0</td>\n",
       "    </tr>\n",
       "    <tr>\n",
       "      <th>...</th>\n",
       "      <td>...</td>\n",
       "      <td>...</td>\n",
       "      <td>...</td>\n",
       "      <td>...</td>\n",
       "      <td>...</td>\n",
       "      <td>...</td>\n",
       "      <td>...</td>\n",
       "      <td>...</td>\n",
       "      <td>...</td>\n",
       "      <td>...</td>\n",
       "      <td>...</td>\n",
       "      <td>...</td>\n",
       "      <td>...</td>\n",
       "      <td>...</td>\n",
       "      <td>...</td>\n",
       "      <td>...</td>\n",
       "      <td>...</td>\n",
       "      <td>...</td>\n",
       "      <td>...</td>\n",
       "      <td>...</td>\n",
       "      <td>...</td>\n",
       "    </tr>\n",
       "    <tr>\n",
       "      <th>23058</th>\n",
       "      <td>0.857143</td>\n",
       "      <td>0.000000</td>\n",
       "      <td>0.0</td>\n",
       "      <td>0.0</td>\n",
       "      <td>0.0</td>\n",
       "      <td>0.0</td>\n",
       "      <td>0.0</td>\n",
       "      <td>0.0</td>\n",
       "      <td>0.0</td>\n",
       "      <td>0.0</td>\n",
       "      <td>...</td>\n",
       "      <td>0.0</td>\n",
       "      <td>0.0</td>\n",
       "      <td>0.0</td>\n",
       "      <td>0.0</td>\n",
       "      <td>0.0</td>\n",
       "      <td>0.0</td>\n",
       "      <td>0.0</td>\n",
       "      <td>0.0</td>\n",
       "      <td>0.0</td>\n",
       "      <td>4.0</td>\n",
       "    </tr>\n",
       "    <tr>\n",
       "      <th>23059</th>\n",
       "      <td>0.928571</td>\n",
       "      <td>0.000000</td>\n",
       "      <td>0.0</td>\n",
       "      <td>0.0</td>\n",
       "      <td>0.0</td>\n",
       "      <td>0.0</td>\n",
       "      <td>0.0</td>\n",
       "      <td>0.0</td>\n",
       "      <td>0.0</td>\n",
       "      <td>0.0</td>\n",
       "      <td>...</td>\n",
       "      <td>0.0</td>\n",
       "      <td>0.0</td>\n",
       "      <td>0.0</td>\n",
       "      <td>0.0</td>\n",
       "      <td>0.0</td>\n",
       "      <td>0.0</td>\n",
       "      <td>0.0</td>\n",
       "      <td>0.0</td>\n",
       "      <td>0.0</td>\n",
       "      <td>4.0</td>\n",
       "    </tr>\n",
       "    <tr>\n",
       "      <th>23060</th>\n",
       "      <td>0.857143</td>\n",
       "      <td>0.000000</td>\n",
       "      <td>0.0</td>\n",
       "      <td>0.0</td>\n",
       "      <td>0.0</td>\n",
       "      <td>0.0</td>\n",
       "      <td>0.0</td>\n",
       "      <td>0.0</td>\n",
       "      <td>0.0</td>\n",
       "      <td>0.0</td>\n",
       "      <td>...</td>\n",
       "      <td>0.0</td>\n",
       "      <td>0.0</td>\n",
       "      <td>0.0</td>\n",
       "      <td>0.0</td>\n",
       "      <td>0.0</td>\n",
       "      <td>0.0</td>\n",
       "      <td>0.0</td>\n",
       "      <td>0.0</td>\n",
       "      <td>0.0</td>\n",
       "      <td>4.0</td>\n",
       "    </tr>\n",
       "    <tr>\n",
       "      <th>23061</th>\n",
       "      <td>0.928571</td>\n",
       "      <td>0.000000</td>\n",
       "      <td>0.0</td>\n",
       "      <td>0.0</td>\n",
       "      <td>0.0</td>\n",
       "      <td>0.0</td>\n",
       "      <td>0.0</td>\n",
       "      <td>0.0</td>\n",
       "      <td>0.0</td>\n",
       "      <td>0.0</td>\n",
       "      <td>...</td>\n",
       "      <td>0.0</td>\n",
       "      <td>0.0</td>\n",
       "      <td>0.0</td>\n",
       "      <td>0.0</td>\n",
       "      <td>0.0</td>\n",
       "      <td>0.0</td>\n",
       "      <td>0.0</td>\n",
       "      <td>0.0</td>\n",
       "      <td>0.0</td>\n",
       "      <td>4.0</td>\n",
       "    </tr>\n",
       "    <tr>\n",
       "      <th>23062</th>\n",
       "      <td>0.928571</td>\n",
       "      <td>0.000000</td>\n",
       "      <td>0.0</td>\n",
       "      <td>0.0</td>\n",
       "      <td>0.0</td>\n",
       "      <td>0.0</td>\n",
       "      <td>0.0</td>\n",
       "      <td>0.0</td>\n",
       "      <td>0.0</td>\n",
       "      <td>0.0</td>\n",
       "      <td>...</td>\n",
       "      <td>0.0</td>\n",
       "      <td>0.0</td>\n",
       "      <td>0.0</td>\n",
       "      <td>0.0</td>\n",
       "      <td>1.0</td>\n",
       "      <td>0.0</td>\n",
       "      <td>0.0</td>\n",
       "      <td>0.0</td>\n",
       "      <td>0.0</td>\n",
       "      <td>4.0</td>\n",
       "    </tr>\n",
       "  </tbody>\n",
       "</table>\n",
       "<p>23063 rows × 607 columns</p>\n",
       "</div>"
      ],
      "text/plain": [
       "       PublishYear  pagesNumber  Authors_  Authors_aaron mccollough  \\\n",
       "0         0.928571     0.000000       0.0                       0.0   \n",
       "1         0.857143     0.333333       0.0                       0.0   \n",
       "2         0.928571     0.000000       0.0                       0.0   \n",
       "3         0.928571     0.166667       0.0                       0.0   \n",
       "4         0.928571     0.166667       0.0                       0.0   \n",
       "...            ...          ...       ...                       ...   \n",
       "23058     0.857143     0.000000       0.0                       0.0   \n",
       "23059     0.928571     0.000000       0.0                       0.0   \n",
       "23060     0.857143     0.000000       0.0                       0.0   \n",
       "23061     0.928571     0.000000       0.0                       0.0   \n",
       "23062     0.928571     0.000000       0.0                       0.0   \n",
       "\n",
       "       Authors_abu hamid al ghazali  Authors_agatha christie  \\\n",
       "0                               0.0                      0.0   \n",
       "1                               0.0                      0.0   \n",
       "2                               0.0                      0.0   \n",
       "3                               0.0                      0.0   \n",
       "4                               0.0                      0.0   \n",
       "...                             ...                      ...   \n",
       "23058                           0.0                      0.0   \n",
       "23059                           0.0                      0.0   \n",
       "23060                           0.0                      0.0   \n",
       "23061                           0.0                      0.0   \n",
       "23062                           0.0                      0.0   \n",
       "\n",
       "       Authors_alba de c spedes  Authors_alexander kent  \\\n",
       "0                           0.0                     0.0   \n",
       "1                           0.0                     0.0   \n",
       "2                           0.0                     0.0   \n",
       "3                           0.0                     0.0   \n",
       "4                           0.0                     0.0   \n",
       "...                         ...                     ...   \n",
       "23058                       0.0                     0.0   \n",
       "23059                       0.0                     0.0   \n",
       "23060                       0.0                     0.0   \n",
       "23061                       0.0                     0.0   \n",
       "23062                       0.0                     0.0   \n",
       "\n",
       "       Authors_alexander schmemann  Authors_alexandre dumas  ...  book offer  \\\n",
       "0                              0.0                      0.0  ...         0.0   \n",
       "1                              0.0                      0.0  ...         0.0   \n",
       "2                              0.0                      0.0  ...         0.0   \n",
       "3                              0.0                      0.0  ...         0.0   \n",
       "4                              0.0                      0.0  ...         0.0   \n",
       "...                            ...                      ...  ...         ...   \n",
       "23058                          0.0                      0.0  ...         0.0   \n",
       "23059                          0.0                      0.0  ...         0.0   \n",
       "23060                          0.0                      0.0  ...         0.0   \n",
       "23061                          0.0                      0.0  ...         0.0   \n",
       "23062                          0.0                      0.0  ...         0.0   \n",
       "\n",
       "       young woman  science fiction  well known  br em  real life  tell story  \\\n",
       "0              0.0              0.0         0.0    0.0        0.0         0.0   \n",
       "1              0.0              0.0         0.0    0.0        0.0         0.0   \n",
       "2              0.0              0.0         0.0    0.0        0.0         0.0   \n",
       "3              0.0              0.0         0.0    0.0        0.0         0.0   \n",
       "4              0.0              0.0         0.0    0.0        0.0         0.0   \n",
       "...            ...              ...         ...    ...        ...         ...   \n",
       "23058          0.0              0.0         0.0    0.0        0.0         0.0   \n",
       "23059          0.0              0.0         0.0    0.0        0.0         0.0   \n",
       "23060          0.0              0.0         0.0    0.0        0.0         0.0   \n",
       "23061          0.0              0.0         0.0    0.0        0.0         0.0   \n",
       "23062          0.0              0.0         0.0    1.0        0.0         0.0   \n",
       "\n",
       "       african american  san francisco  rating_label  \n",
       "0                   0.0            0.0           4.0  \n",
       "1                   0.0            0.0           4.0  \n",
       "2                   0.0            0.0           4.0  \n",
       "3                   0.0            0.0           4.0  \n",
       "4                   0.0            0.0           3.0  \n",
       "...                 ...            ...           ...  \n",
       "23058               0.0            0.0           4.0  \n",
       "23059               0.0            0.0           4.0  \n",
       "23060               0.0            0.0           4.0  \n",
       "23061               0.0            0.0           4.0  \n",
       "23062               0.0            0.0           4.0  \n",
       "\n",
       "[23063 rows x 607 columns]"
      ]
     },
     "execution_count": 17,
     "metadata": {},
     "output_type": "execute_result"
    }
   ],
   "source": [
    "scaled_X = pd.DataFrame(scaled, columns=train_df_X.columns)\n",
    "train_df = pd.concat([scaled_X, train_df_y], axis=1)\n",
    "train_df"
   ]
  },
  {
   "cell_type": "code",
   "execution_count": 18,
   "id": "25e75980",
   "metadata": {},
   "outputs": [],
   "source": [
    "# Save the preprocessed training set\n",
    "train_df.to_csv(DATASET_DIR + \"train_df.csv\", index=False)"
   ]
  },
  {
   "cell_type": "markdown",
   "id": "15a06799",
   "metadata": {},
   "source": [
    "## Altogether"
   ]
  },
  {
   "cell_type": "code",
   "execution_count": 19,
   "id": "2c99b233",
   "metadata": {},
   "outputs": [],
   "source": [
    "def preprocess_feature_df(df, name_vectorizer, desc_vectorizer, scaler, max_features = 50):\n",
    "    \"\"\"\n",
    "    Preprocesses the test dataset and returns the preprocessed version as a DataFrame.\n",
    "    \"\"\"\n",
    "    df = df.copy()\n",
    "    \n",
    "    # preprocess string features\n",
    "    df = df.drop(['Language'], axis=1)\n",
    "    \n",
    "    for feature in CATEGORICAL_FEATURES:\n",
    "        df[feature] = df[feature].fillna(MISSING_CAT_VAL)  # imputation\n",
    "        df[feature] = df[feature].apply(lambda x: preprocess(str(x), stop_words_removal=False, lemmatize=False, min_word_len=0))\n",
    "    df = ohe_transform(df).drop(INSIG_OHE_FEATURES, axis=1)  # one-hot-encoding\n",
    "    \n",
    "    # preprocess numerical features\n",
    "    df = df.drop(['PublishDay', 'PublishMonth'], axis=1)\n",
    "    df = discretize(df, 'PublishYear', discretizer=DISCRETIZER_PY)[0]\n",
    "    df = discretize(df, 'pagesNumber', discretizer=DISCRETIZER_PN)[0]\n",
    "    \n",
    "    # preprocess text features\n",
    "    df_name, name_vectorizer = preprocess_text_feature(df, 'Name', vectorizer=name_vectorizer, delimiter='_', max_features = max_features)\n",
    "    df_desc, desc_vectorizer = preprocess_text_feature(df, 'Description', vectorizer=desc_vectorizer, max_features = max_features)\n",
    "    \n",
    "    # put together and discard the (obsolete) original features\n",
    "    df = pd.concat([df.reset_index(drop=True), df_name, df_desc], axis=1)\n",
    "    df = df.drop(['Name', 'Description'], axis=1)\n",
    "    \n",
    "    # normalize\n",
    "    if scaler is None: \n",
    "            scaler = MinMaxScaler().fit(df)\n",
    "    df = pd.DataFrame(scaler.transform(df), columns=df.columns)\n",
    "        \n",
    "    return df, name_vectorizer, desc_vectorizer, scaler"
   ]
  },
  {
   "cell_type": "code",
   "execution_count": 20,
   "id": "6e403a9a",
   "metadata": {},
   "outputs": [],
   "source": [
    "# Apply to the test set\n",
    "test_df = preprocess_feature_df(test_df, VECTORIZER_NAME, VECTORIZER_DESC, SCALER)[0]\n",
    "test_df.to_csv(DATASET_DIR + \"test_df.csv\", index=False)"
   ]
  },
  {
   "cell_type": "code",
   "execution_count": 21,
   "id": "e05c900f",
   "metadata": {},
   "outputs": [],
   "source": [
    "### Also used to create datasets of different sizes\n",
    "##train_df_orig = pd.read_csv(DATASET_DIR + \"book_rating_train.csv\", index_col = False, delimiter = ',', header=0)\n",
    "##X_train_orig = train_df_orig.iloc[:,:-1]\n",
    "##y_train = train_df_orig.iloc[:,-1]\n",
    "##\n",
    "##X_train_50 = preprocess_feature_df(X_train_orig, None, None, None, max_features=50)[0]\n",
    "##train_df_50 = pd.concat([X_train_50, y_train], axis=1)\n",
    "##train_df_50.to_csv(DATASET_DIR + \"train_df_50.csv\", index=False)\n",
    "##\n",
    "##X_train_100 = preprocess_feature_df(X_train_orig, None, None, None, max_features=100)[0]\n",
    "##train_df_100 = pd.concat([X_train_100, y_train], axis=1)\n",
    "##train_df_100.to_csv(DATASET_DIR + \"train_df_100.csv\", index=False)\n",
    "##\n",
    "##X_train_200 = preprocess_feature_df(X_train_orig, None, None, None, max_features=200)[0]\n",
    "##train_df_200 = pd.concat([X_train_200, y_train], axis=1)\n",
    "##train_df_200.to_csv(DATASET_DIR + \"train_df_200.csv\", index=False)\n",
    "##\n",
    "##X_train_300, VECTORIZER_NAME_300, VECTORIZER_DESC_300, SCALER_300 = preprocess_feature_df(X_train_orig, None, None, None, max_features=300)\n",
    "##train_df_300 = pd.concat([X_train_300, y_train], axis=1)\n",
    "##train_df_300.to_csv(DATASET_DIR + \"train_df_300.csv\", index=False)\n",
    "##\n",
    "### create testing dataset for 300 features \n",
    "##test_300 = pd.read_csv(DATASET_DIR + \"book_rating_test.csv\", index_col = False, delimiter = ',', header=0)\n",
    "##test_300 = preprocess_feature_df(test_300, VECTORIZER_NAME_300, VECTORIZER_DESC_300, SCALER_300, max_features=300)[0]\n",
    "##test_300.to_csv(DATASET_DIR + \"test_df_300.csv\", index=False)"
   ]
  },
  {
   "cell_type": "markdown",
   "id": "d9fdc3b1",
   "metadata": {},
   "source": [
    "# 2. Building the models"
   ]
  },
  {
   "cell_type": "code",
   "execution_count": 49,
   "id": "e5a55ed3",
   "metadata": {},
   "outputs": [],
   "source": [
    "train_df = pd.read_csv(DATASET_DIR + \"train_df.csv\", keep_default_na=False)  # Alternative\n",
    "# These are the 50-TFIDF-features dataset\n",
    "X_train = train_df.iloc[:,:-1]\n",
    "y_train = train_df.iloc[:,-1]"
   ]
  },
  {
   "cell_type": "markdown",
   "id": "ffe892a9",
   "metadata": {},
   "source": [
    "## 1) Linear SVM"
   ]
  },
  {
   "cell_type": "code",
   "execution_count": 31,
   "id": "6bf6819a",
   "metadata": {},
   "outputs": [],
   "source": [
    "from sklearn.svm import LinearSVC"
   ]
  },
  {
   "cell_type": "code",
   "execution_count": 32,
   "id": "44b708ed",
   "metadata": {},
   "outputs": [
    {
     "data": {
      "text/html": [
       "<style>#sk-container-id-4 {color: black;background-color: white;}#sk-container-id-4 pre{padding: 0;}#sk-container-id-4 div.sk-toggleable {background-color: white;}#sk-container-id-4 label.sk-toggleable__label {cursor: pointer;display: block;width: 100%;margin-bottom: 0;padding: 0.3em;box-sizing: border-box;text-align: center;}#sk-container-id-4 label.sk-toggleable__label-arrow:before {content: \"▸\";float: left;margin-right: 0.25em;color: #696969;}#sk-container-id-4 label.sk-toggleable__label-arrow:hover:before {color: black;}#sk-container-id-4 div.sk-estimator:hover label.sk-toggleable__label-arrow:before {color: black;}#sk-container-id-4 div.sk-toggleable__content {max-height: 0;max-width: 0;overflow: hidden;text-align: left;background-color: #f0f8ff;}#sk-container-id-4 div.sk-toggleable__content pre {margin: 0.2em;color: black;border-radius: 0.25em;background-color: #f0f8ff;}#sk-container-id-4 input.sk-toggleable__control:checked~div.sk-toggleable__content {max-height: 200px;max-width: 100%;overflow: auto;}#sk-container-id-4 input.sk-toggleable__control:checked~label.sk-toggleable__label-arrow:before {content: \"▾\";}#sk-container-id-4 div.sk-estimator input.sk-toggleable__control:checked~label.sk-toggleable__label {background-color: #d4ebff;}#sk-container-id-4 div.sk-label input.sk-toggleable__control:checked~label.sk-toggleable__label {background-color: #d4ebff;}#sk-container-id-4 input.sk-hidden--visually {border: 0;clip: rect(1px 1px 1px 1px);clip: rect(1px, 1px, 1px, 1px);height: 1px;margin: -1px;overflow: hidden;padding: 0;position: absolute;width: 1px;}#sk-container-id-4 div.sk-estimator {font-family: monospace;background-color: #f0f8ff;border: 1px dotted black;border-radius: 0.25em;box-sizing: border-box;margin-bottom: 0.5em;}#sk-container-id-4 div.sk-estimator:hover {background-color: #d4ebff;}#sk-container-id-4 div.sk-parallel-item::after {content: \"\";width: 100%;border-bottom: 1px solid gray;flex-grow: 1;}#sk-container-id-4 div.sk-label:hover label.sk-toggleable__label {background-color: #d4ebff;}#sk-container-id-4 div.sk-serial::before {content: \"\";position: absolute;border-left: 1px solid gray;box-sizing: border-box;top: 0;bottom: 0;left: 50%;z-index: 0;}#sk-container-id-4 div.sk-serial {display: flex;flex-direction: column;align-items: center;background-color: white;padding-right: 0.2em;padding-left: 0.2em;position: relative;}#sk-container-id-4 div.sk-item {position: relative;z-index: 1;}#sk-container-id-4 div.sk-parallel {display: flex;align-items: stretch;justify-content: center;background-color: white;position: relative;}#sk-container-id-4 div.sk-item::before, #sk-container-id-4 div.sk-parallel-item::before {content: \"\";position: absolute;border-left: 1px solid gray;box-sizing: border-box;top: 0;bottom: 0;left: 50%;z-index: -1;}#sk-container-id-4 div.sk-parallel-item {display: flex;flex-direction: column;z-index: 1;position: relative;background-color: white;}#sk-container-id-4 div.sk-parallel-item:first-child::after {align-self: flex-end;width: 50%;}#sk-container-id-4 div.sk-parallel-item:last-child::after {align-self: flex-start;width: 50%;}#sk-container-id-4 div.sk-parallel-item:only-child::after {width: 0;}#sk-container-id-4 div.sk-dashed-wrapped {border: 1px dashed gray;margin: 0 0.4em 0.5em 0.4em;box-sizing: border-box;padding-bottom: 0.4em;background-color: white;}#sk-container-id-4 div.sk-label label {font-family: monospace;font-weight: bold;display: inline-block;line-height: 1.2em;}#sk-container-id-4 div.sk-label-container {text-align: center;}#sk-container-id-4 div.sk-container {/* jupyter's `normalize.less` sets `[hidden] { display: none; }` but bootstrap.min.css set `[hidden] { display: none !important; }` so we also need the `!important` here to be able to override the default hidden behavior on the sphinx rendered scikit-learn.org. See: https://github.com/scikit-learn/scikit-learn/issues/21755 */display: inline-block !important;position: relative;}#sk-container-id-4 div.sk-text-repr-fallback {display: none;}</style><div id=\"sk-container-id-4\" class=\"sk-top-container\"><div class=\"sk-text-repr-fallback\"><pre>LinearSVC(C=5, dual=False, random_state=30027)</pre><b>In a Jupyter environment, please rerun this cell to show the HTML representation or trust the notebook. <br />On GitHub, the HTML representation is unable to render, please try loading this page with nbviewer.org.</b></div><div class=\"sk-container\" hidden><div class=\"sk-item\"><div class=\"sk-estimator sk-toggleable\"><input class=\"sk-toggleable__control sk-hidden--visually\" id=\"sk-estimator-id-6\" type=\"checkbox\" checked><label for=\"sk-estimator-id-6\" class=\"sk-toggleable__label sk-toggleable__label-arrow\">LinearSVC</label><div class=\"sk-toggleable__content\"><pre>LinearSVC(C=5, dual=False, random_state=30027)</pre></div></div></div></div></div>"
      ],
      "text/plain": [
       "LinearSVC(C=5, dual=False, random_state=30027)"
      ]
     },
     "execution_count": 32,
     "metadata": {},
     "output_type": "execute_result"
    }
   ],
   "source": [
    "# LSVM's dataset with its own selected features\n",
    "lsvm_train = pd.read_csv(DATASET_DIR + \"LSVM_train.csv\", keep_default_na=False)\n",
    "X_lsvm = lsvm_train.iloc[:,:-1]\n",
    "\n",
    "lsvm = LinearSVC(random_state=30027, C=5, dual=False)\n",
    "lsvm.fit(X_lsvm, y_train)"
   ]
  },
  {
   "cell_type": "code",
   "execution_count": 33,
   "id": "84b8909f",
   "metadata": {},
   "outputs": [
    {
     "name": "stdout",
     "output_type": "stream",
     "text": [
      "LinearSVC prediction took 4.0656561851501465 seconds.\n",
      "\n",
      "   3.0_precision  3.0_recall  3.0_f1-score  4.0_precision  4.0_recall  \\\n",
      "0       0.750000    0.194208      0.308525       0.739480    0.964837   \n",
      "1       0.718954    0.187394      0.297297       0.739953    0.965453   \n",
      "2       0.755102    0.189420      0.302865       0.739437    0.971622   \n",
      "3       0.735714    0.175768      0.283747       0.738028    0.969772   \n",
      "4       0.804196    0.196246      0.315501       0.740741    0.974707   \n",
      "5       0.689655    0.170648      0.273598       0.737612    0.964220   \n",
      "6       0.750000    0.163823      0.268908       0.735198    0.972856   \n",
      "7       0.755245    0.184300      0.296296       0.740376    0.972856   \n",
      "8       0.767606    0.185690      0.299040       0.737113    0.970988   \n",
      "9       0.742647    0.172061      0.279391       0.737612    0.964815   \n",
      "\n",
      "   4.0_f1-score  5.0_precision  5.0_recall  5.0_f1-score  accuracy  \n",
      "0      0.837259       0.450000    0.181818      0.258993  0.735154  \n",
      "1      0.837794       0.641026    0.252525      0.362319  0.736888  \n",
      "2      0.839776       0.500000    0.150000      0.230769  0.737321  \n",
      "3      0.838176       0.583333    0.212121      0.311111  0.735473  \n",
      "4      0.841769       0.533333    0.161616      0.248062  0.741977  \n",
      "5      0.835829       0.595238    0.252525      0.354610  0.732003  \n",
      "6      0.837493       0.636364    0.212121      0.318182  0.734605  \n",
      "7      0.840842       0.606061    0.202020      0.303030  0.739376  \n",
      "8      0.838039       0.500000    0.151515      0.232558  0.735906  \n",
      "9      0.836052       0.470588    0.242424      0.320000  0.732003  \n"
     ]
    },
    {
     "data": {
      "image/png": "[encoded data removed]",
      "text/plain": [
       "<Figure size 432x288 with 2 Axes>"
      ]
     },
     "metadata": {
      "needs_background": "light"
     },
     "output_type": "display_data"
    },
    {
     "data": {
      "text/html": [
       "<div>\n",
       "<style scoped>\n",
       "    .dataframe tbody tr th:only-of-type {\n",
       "        vertical-align: middle;\n",
       "    }\n",
       "\n",
       "    .dataframe tbody tr th {\n",
       "        vertical-align: top;\n",
       "    }\n",
       "\n",
       "    .dataframe thead th {\n",
       "        text-align: right;\n",
       "    }\n",
       "</style>\n",
       "<table border=\"1\" class=\"dataframe\">\n",
       "  <thead>\n",
       "    <tr style=\"text-align: right;\">\n",
       "      <th></th>\n",
       "      <th>mean</th>\n",
       "      <th>std</th>\n",
       "    </tr>\n",
       "  </thead>\n",
       "  <tbody>\n",
       "    <tr>\n",
       "      <th>3.0_precision</th>\n",
       "      <td>0.746912</td>\n",
       "      <td>0.029942</td>\n",
       "    </tr>\n",
       "    <tr>\n",
       "      <th>3.0_recall</th>\n",
       "      <td>0.181956</td>\n",
       "      <td>0.010811</td>\n",
       "    </tr>\n",
       "    <tr>\n",
       "      <th>3.0_f1-score</th>\n",
       "      <td>0.292517</td>\n",
       "      <td>0.015405</td>\n",
       "    </tr>\n",
       "    <tr>\n",
       "      <th>4.0_precision</th>\n",
       "      <td>0.738555</td>\n",
       "      <td>0.001735</td>\n",
       "    </tr>\n",
       "    <tr>\n",
       "      <th>4.0_recall</th>\n",
       "      <td>0.969213</td>\n",
       "      <td>0.003994</td>\n",
       "    </tr>\n",
       "    <tr>\n",
       "      <th>4.0_f1-score</th>\n",
       "      <td>0.838303</td>\n",
       "      <td>0.001941</td>\n",
       "    </tr>\n",
       "    <tr>\n",
       "      <th>5.0_precision</th>\n",
       "      <td>0.551594</td>\n",
       "      <td>0.069605</td>\n",
       "    </tr>\n",
       "    <tr>\n",
       "      <th>5.0_recall</th>\n",
       "      <td>0.201869</td>\n",
       "      <td>0.039771</td>\n",
       "    </tr>\n",
       "    <tr>\n",
       "      <th>5.0_f1-score</th>\n",
       "      <td>0.293963</td>\n",
       "      <td>0.048402</td>\n",
       "    </tr>\n",
       "    <tr>\n",
       "      <th>accuracy</th>\n",
       "      <td>0.736071</td>\n",
       "      <td>0.003064</td>\n",
       "    </tr>\n",
       "  </tbody>\n",
       "</table>\n",
       "</div>"
      ],
      "text/plain": [
       "                   mean       std\n",
       "3.0_precision  0.746912  0.029942\n",
       "3.0_recall     0.181956  0.010811\n",
       "3.0_f1-score   0.292517  0.015405\n",
       "4.0_precision  0.738555  0.001735\n",
       "4.0_recall     0.969213  0.003994\n",
       "4.0_f1-score   0.838303  0.001941\n",
       "5.0_precision  0.551594  0.069605\n",
       "5.0_recall     0.201869  0.039771\n",
       "5.0_f1-score   0.293963  0.048402\n",
       "accuracy       0.736071  0.003064"
      ]
     },
     "execution_count": 33,
     "metadata": {},
     "output_type": "execute_result"
    }
   ],
   "source": [
    "y_pred_lsvm, lsvm_report = cross_val_report(lsvm, X_lsvm, y_train)\n",
    "lsvm_report"
   ]
  },
  {
   "cell_type": "code",
   "execution_count": 34,
   "id": "b2a102c7",
   "metadata": {},
   "outputs": [],
   "source": [
    "LSVM_FEATURES = X_lsvm.columns  # will be used for test set"
   ]
  },
  {
   "cell_type": "markdown",
   "id": "520d7b7e",
   "metadata": {},
   "source": [
    "## 2) Stacking Naive Bayes"
   ]
  },
  {
   "cell_type": "code",
   "execution_count": 27,
   "id": "326d1f24",
   "metadata": {},
   "outputs": [],
   "source": [
    "from mlxtend.classifier import StackingCVClassifier\n",
    "from mlxtend.feature_selection import ColumnSelector\n",
    "from sklearn.pipeline import make_pipeline\n",
    "from sklearn.naive_bayes import GaussianNB, MultinomialNB, BernoulliNB, CategoricalNB"
   ]
  },
  {
   "cell_type": "code",
   "execution_count": 28,
   "id": "d7db45a0",
   "metadata": {},
   "outputs": [],
   "source": [
    "GNB_FEATURES = ['pagesNumber', 'PublishYear']\n",
    "BNB_FEATURES = read_list(RESOURCE_DIR + \"BNB_features.txt\")\n",
    "MNB_FEATURES = read_list(RESOURCE_DIR + \"MNB_features.txt\")"
   ]
  },
  {
   "cell_type": "code",
   "execution_count": 29,
   "id": "66c1b22c",
   "metadata": {},
   "outputs": [
    {
     "data": {
      "text/html": [
       "<style>#sk-container-id-3 {color: black;background-color: white;}#sk-container-id-3 pre{padding: 0;}#sk-container-id-3 div.sk-toggleable {background-color: white;}#sk-container-id-3 label.sk-toggleable__label {cursor: pointer;display: block;width: 100%;margin-bottom: 0;padding: 0.3em;box-sizing: border-box;text-align: center;}#sk-container-id-3 label.sk-toggleable__label-arrow:before {content: \"▸\";float: left;margin-right: 0.25em;color: #696969;}#sk-container-id-3 label.sk-toggleable__label-arrow:hover:before {color: black;}#sk-container-id-3 div.sk-estimator:hover label.sk-toggleable__label-arrow:before {color: black;}#sk-container-id-3 div.sk-toggleable__content {max-height: 0;max-width: 0;overflow: hidden;text-align: left;background-color: #f0f8ff;}#sk-container-id-3 div.sk-toggleable__content pre {margin: 0.2em;color: black;border-radius: 0.25em;background-color: #f0f8ff;}#sk-container-id-3 input.sk-toggleable__control:checked~div.sk-toggleable__content {max-height: 200px;max-width: 100%;overflow: auto;}#sk-container-id-3 input.sk-toggleable__control:checked~label.sk-toggleable__label-arrow:before {content: \"▾\";}#sk-container-id-3 div.sk-estimator input.sk-toggleable__control:checked~label.sk-toggleable__label {background-color: #d4ebff;}#sk-container-id-3 div.sk-label input.sk-toggleable__control:checked~label.sk-toggleable__label {background-color: #d4ebff;}#sk-container-id-3 input.sk-hidden--visually {border: 0;clip: rect(1px 1px 1px 1px);clip: rect(1px, 1px, 1px, 1px);height: 1px;margin: -1px;overflow: hidden;padding: 0;position: absolute;width: 1px;}#sk-container-id-3 div.sk-estimator {font-family: monospace;background-color: #f0f8ff;border: 1px dotted black;border-radius: 0.25em;box-sizing: border-box;margin-bottom: 0.5em;}#sk-container-id-3 div.sk-estimator:hover {background-color: #d4ebff;}#sk-container-id-3 div.sk-parallel-item::after {content: \"\";width: 100%;border-bottom: 1px solid gray;flex-grow: 1;}#sk-container-id-3 div.sk-label:hover label.sk-toggleable__label {background-color: #d4ebff;}#sk-container-id-3 div.sk-serial::before {content: \"\";position: absolute;border-left: 1px solid gray;box-sizing: border-box;top: 0;bottom: 0;left: 50%;z-index: 0;}#sk-container-id-3 div.sk-serial {display: flex;flex-direction: column;align-items: center;background-color: white;padding-right: 0.2em;padding-left: 0.2em;position: relative;}#sk-container-id-3 div.sk-item {position: relative;z-index: 1;}#sk-container-id-3 div.sk-parallel {display: flex;align-items: stretch;justify-content: center;background-color: white;position: relative;}#sk-container-id-3 div.sk-item::before, #sk-container-id-3 div.sk-parallel-item::before {content: \"\";position: absolute;border-left: 1px solid gray;box-sizing: border-box;top: 0;bottom: 0;left: 50%;z-index: -1;}#sk-container-id-3 div.sk-parallel-item {display: flex;flex-direction: column;z-index: 1;position: relative;background-color: white;}#sk-container-id-3 div.sk-parallel-item:first-child::after {align-self: flex-end;width: 50%;}#sk-container-id-3 div.sk-parallel-item:last-child::after {align-self: flex-start;width: 50%;}#sk-container-id-3 div.sk-parallel-item:only-child::after {width: 0;}#sk-container-id-3 div.sk-dashed-wrapped {border: 1px dashed gray;margin: 0 0.4em 0.5em 0.4em;box-sizing: border-box;padding-bottom: 0.4em;background-color: white;}#sk-container-id-3 div.sk-label label {font-family: monospace;font-weight: bold;display: inline-block;line-height: 1.2em;}#sk-container-id-3 div.sk-label-container {text-align: center;}#sk-container-id-3 div.sk-container {/* jupyter's `normalize.less` sets `[hidden] { display: none; }` but bootstrap.min.css set `[hidden] { display: none !important; }` so we also need the `!important` here to be able to override the default hidden behavior on the sphinx rendered scikit-learn.org. See: https://github.com/scikit-learn/scikit-learn/issues/21755 */display: inline-block !important;position: relative;}#sk-container-id-3 div.sk-text-repr-fallback {display: none;}</style><div id=\"sk-container-id-3\" class=\"sk-top-container\"><div class=\"sk-text-repr-fallback\"><pre>StackingCVClassifier(classifiers=[Pipeline(steps=[(&#x27;columnselector&#x27;,\n",
       "                                                   ColumnSelector(cols=[&#x27;pagesNumber&#x27;,\n",
       "                                                                        &#x27;PublishYear&#x27;])),\n",
       "                                                  (&#x27;gaussiannb&#x27;,\n",
       "                                                   GaussianNB(var_smoothing=0.1))]),\n",
       "                                  Pipeline(steps=[(&#x27;columnselector&#x27;,\n",
       "                                                   ColumnSelector(cols=[&#x27;Authors_&#x27;,\n",
       "                                                                        &#x27;Authors_aaron &#x27;\n",
       "                                                                        &#x27;mccollough&#x27;,\n",
       "                                                                        &#x27;Authors_abu &#x27;\n",
       "                                                                        &#x27;hamid &#x27;\n",
       "                                                                        &#x27;al &#x27;\n",
       "                                                                        &#x27;ghazali&#x27;,\n",
       "                                                                        &#x27;Authors_agatha &#x27;\n",
       "                                                                        &#x27;christie&#x27;,\n",
       "                                                                        &#x27;Authors_alba &#x27;\n",
       "                                                                        &#x27;de c &#x27;\n",
       "                                                                        &#x27;spedes&#x27;,...\n",
       "                                                                        &#x27;year &#x27;\n",
       "                                                                        &#x27;old&#x27;,\n",
       "                                                                        &#x27;year &#x27;\n",
       "                                                                        &#x27;ago&#x27;,\n",
       "                                                                        &#x27;short &#x27;\n",
       "                                                                        &#x27;story&#x27;,\n",
       "                                                                        &#x27;time &#x27;\n",
       "                                                                        &#x27;br&#x27;,\n",
       "                                                                        &#x27;first &#x27;\n",
       "                                                                        &#x27;time&#x27;,\n",
       "                                                                        &#x27;around &#x27;\n",
       "                                                                        &#x27;world&#x27;,\n",
       "                                                                        &#x27;best &#x27;\n",
       "                                                                        &#x27;selling&#x27;,\n",
       "                                                                        &#x27;civil &#x27;\n",
       "                                                                        &#x27;war&#x27;,\n",
       "                                                                        &#x27;book &#x27;\n",
       "                                                                        &#x27;br&#x27;,\n",
       "                                                                        &#x27;united &#x27;\n",
       "                                                                        &#x27;state&#x27;,\n",
       "                                                                        &#x27;full &#x27;\n",
       "                                                                        &#x27;color&#x27;,\n",
       "                                                                        &#x27;th &#x27;\n",
       "                                                                        &#x27;century&#x27;,\n",
       "                                                                        &#x27;br &#x27;\n",
       "                                                                        &#x27;new&#x27;,\n",
       "                                                                        &#x27;available &#x27;\n",
       "                                                                        &#x27;purchase&#x27;,\n",
       "                                                                        &#x27;step &#x27;\n",
       "                                                                        &#x27;step&#x27;,\n",
       "                                                                        &#x27;well &#x27;\n",
       "                                                                        &#x27;known&#x27;,\n",
       "                                                                        &#x27;real &#x27;\n",
       "                                                                        &#x27;life&#x27;, ...])),\n",
       "                                                  (&#x27;multinomialnb&#x27;,\n",
       "                                                   MultinomialNB(alpha=0.01))])],\n",
       "                     meta_classifier=CategoricalNB(alpha=0.01),\n",
       "                     random_state=30027)</pre><b>In a Jupyter environment, please rerun this cell to show the HTML representation or trust the notebook. <br />On GitHub, the HTML representation is unable to render, please try loading this page with nbviewer.org.</b></div><div class=\"sk-container\" hidden><div class=\"sk-item sk-dashed-wrapped\"><div class=\"sk-label-container\"><div class=\"sk-label sk-toggleable\"><input class=\"sk-toggleable__control sk-hidden--visually\" id=\"sk-estimator-id-3\" type=\"checkbox\" ><label for=\"sk-estimator-id-3\" class=\"sk-toggleable__label sk-toggleable__label-arrow\">StackingCVClassifier</label><div class=\"sk-toggleable__content\"><pre>StackingCVClassifier(classifiers=[Pipeline(steps=[(&#x27;columnselector&#x27;,\n",
       "                                                   ColumnSelector(cols=[&#x27;pagesNumber&#x27;,\n",
       "                                                                        &#x27;PublishYear&#x27;])),\n",
       "                                                  (&#x27;gaussiannb&#x27;,\n",
       "                                                   GaussianNB(var_smoothing=0.1))]),\n",
       "                                  Pipeline(steps=[(&#x27;columnselector&#x27;,\n",
       "                                                   ColumnSelector(cols=[&#x27;Authors_&#x27;,\n",
       "                                                                        &#x27;Authors_aaron &#x27;\n",
       "                                                                        &#x27;mccollough&#x27;,\n",
       "                                                                        &#x27;Authors_abu &#x27;\n",
       "                                                                        &#x27;hamid &#x27;\n",
       "                                                                        &#x27;al &#x27;\n",
       "                                                                        &#x27;ghazali&#x27;,\n",
       "                                                                        &#x27;Authors_agatha &#x27;\n",
       "                                                                        &#x27;christie&#x27;,\n",
       "                                                                        &#x27;Authors_alba &#x27;\n",
       "                                                                        &#x27;de c &#x27;\n",
       "                                                                        &#x27;spedes&#x27;,...\n",
       "                                                                        &#x27;year &#x27;\n",
       "                                                                        &#x27;old&#x27;,\n",
       "                                                                        &#x27;year &#x27;\n",
       "                                                                        &#x27;ago&#x27;,\n",
       "                                                                        &#x27;short &#x27;\n",
       "                                                                        &#x27;story&#x27;,\n",
       "                                                                        &#x27;time &#x27;\n",
       "                                                                        &#x27;br&#x27;,\n",
       "                                                                        &#x27;first &#x27;\n",
       "                                                                        &#x27;time&#x27;,\n",
       "                                                                        &#x27;around &#x27;\n",
       "                                                                        &#x27;world&#x27;,\n",
       "                                                                        &#x27;best &#x27;\n",
       "                                                                        &#x27;selling&#x27;,\n",
       "                                                                        &#x27;civil &#x27;\n",
       "                                                                        &#x27;war&#x27;,\n",
       "                                                                        &#x27;book &#x27;\n",
       "                                                                        &#x27;br&#x27;,\n",
       "                                                                        &#x27;united &#x27;\n",
       "                                                                        &#x27;state&#x27;,\n",
       "                                                                        &#x27;full &#x27;\n",
       "                                                                        &#x27;color&#x27;,\n",
       "                                                                        &#x27;th &#x27;\n",
       "                                                                        &#x27;century&#x27;,\n",
       "                                                                        &#x27;br &#x27;\n",
       "                                                                        &#x27;new&#x27;,\n",
       "                                                                        &#x27;available &#x27;\n",
       "                                                                        &#x27;purchase&#x27;,\n",
       "                                                                        &#x27;step &#x27;\n",
       "                                                                        &#x27;step&#x27;,\n",
       "                                                                        &#x27;well &#x27;\n",
       "                                                                        &#x27;known&#x27;,\n",
       "                                                                        &#x27;real &#x27;\n",
       "                                                                        &#x27;life&#x27;, ...])),\n",
       "                                                  (&#x27;multinomialnb&#x27;,\n",
       "                                                   MultinomialNB(alpha=0.01))])],\n",
       "                     meta_classifier=CategoricalNB(alpha=0.01),\n",
       "                     random_state=30027)</pre></div></div></div><div class=\"sk-parallel\"><div class=\"sk-parallel-item\"><div class=\"sk-item\"><div class=\"sk-label-container\"><div class=\"sk-label sk-toggleable\"><input class=\"sk-toggleable__control sk-hidden--visually\" id=\"sk-estimator-id-4\" type=\"checkbox\" ><label for=\"sk-estimator-id-4\" class=\"sk-toggleable__label sk-toggleable__label-arrow\">meta_classifier: CategoricalNB</label><div class=\"sk-toggleable__content\"><pre>CategoricalNB(alpha=0.01)</pre></div></div></div><div class=\"sk-serial\"><div class=\"sk-item\"><div class=\"sk-estimator sk-toggleable\"><input class=\"sk-toggleable__control sk-hidden--visually\" id=\"sk-estimator-id-5\" type=\"checkbox\" ><label for=\"sk-estimator-id-5\" class=\"sk-toggleable__label sk-toggleable__label-arrow\">CategoricalNB</label><div class=\"sk-toggleable__content\"><pre>CategoricalNB(alpha=0.01)</pre></div></div></div></div></div></div></div></div></div></div>"
      ],
      "text/plain": [
       "StackingCVClassifier(classifiers=[Pipeline(steps=[('columnselector',\n",
       "                                                   ColumnSelector(cols=['pagesNumber',\n",
       "                                                                        'PublishYear'])),\n",
       "                                                  ('gaussiannb',\n",
       "                                                   GaussianNB(var_smoothing=0.1))]),\n",
       "                                  Pipeline(steps=[('columnselector',\n",
       "                                                   ColumnSelector(cols=['Authors_',\n",
       "                                                                        'Authors_aaron '\n",
       "                                                                        'mccollough',\n",
       "                                                                        'Authors_abu '\n",
       "                                                                        'hamid '\n",
       "                                                                        'al '\n",
       "                                                                        'ghazali',\n",
       "                                                                        'Authors_agatha '\n",
       "                                                                        'christie',\n",
       "                                                                        'Authors_alba '\n",
       "                                                                        'de c '\n",
       "                                                                        'spedes',...\n",
       "                                                                        'year '\n",
       "                                                                        'old',\n",
       "                                                                        'year '\n",
       "                                                                        'ago',\n",
       "                                                                        'short '\n",
       "                                                                        'story',\n",
       "                                                                        'time '\n",
       "                                                                        'br',\n",
       "                                                                        'first '\n",
       "                                                                        'time',\n",
       "                                                                        'around '\n",
       "                                                                        'world',\n",
       "                                                                        'best '\n",
       "                                                                        'selling',\n",
       "                                                                        'civil '\n",
       "                                                                        'war',\n",
       "                                                                        'book '\n",
       "                                                                        'br',\n",
       "                                                                        'united '\n",
       "                                                                        'state',\n",
       "                                                                        'full '\n",
       "                                                                        'color',\n",
       "                                                                        'th '\n",
       "                                                                        'century',\n",
       "                                                                        'br '\n",
       "                                                                        'new',\n",
       "                                                                        'available '\n",
       "                                                                        'purchase',\n",
       "                                                                        'step '\n",
       "                                                                        'step',\n",
       "                                                                        'well '\n",
       "                                                                        'known',\n",
       "                                                                        'real '\n",
       "                                                                        'life', ...])),\n",
       "                                                  ('multinomialnb',\n",
       "                                                   MultinomialNB(alpha=0.01))])],\n",
       "                     meta_classifier=CategoricalNB(alpha=0.01),\n",
       "                     random_state=30027)"
      ]
     },
     "execution_count": 29,
     "metadata": {},
     "output_type": "execute_result"
    }
   ],
   "source": [
    "gnb = make_pipeline(ColumnSelector(GNB_FEATURES),\n",
    "                      GaussianNB(var_smoothing=0.1))\n",
    "bnb = make_pipeline(ColumnSelector(BNB_FEATURES),\n",
    "                      BernoulliNB(alpha=0.1))\n",
    "mnb = make_pipeline(ColumnSelector(MNB_FEATURES),\n",
    "                      MultinomialNB(alpha=0.01))\n",
    "\n",
    "cvsnb = StackingCVClassifier(classifiers=[gnb, bnb, mnb], \n",
    "                            meta_classifier=CategoricalNB(alpha=0.01),\n",
    "                            random_state=30027)\n",
    "\n",
    "cvsnb.fit(X_train, y_train)"
   ]
  },
  {
   "cell_type": "code",
   "execution_count": 30,
   "id": "4a43ad92",
   "metadata": {},
   "outputs": [
    {
     "name": "stdout",
     "output_type": "stream",
     "text": [
      "StackingCVClassifier prediction took 10.162692785263062 seconds.\n",
      "\n",
      "   3.0_precision  3.0_recall  3.0_f1-score  4.0_precision  4.0_recall  \\\n",
      "0       0.738562    0.192504      0.305405       0.738884    0.963603   \n",
      "1       0.705521    0.195911      0.306667       0.740548    0.966687   \n",
      "2       0.751592    0.201365      0.317631       0.741631    0.970389   \n",
      "3       0.713333    0.182594      0.290761       0.738701    0.967921   \n",
      "4       0.751592    0.201365      0.317631       0.740462    0.969772   \n",
      "5       0.712418    0.186007      0.294993       0.740898    0.966687   \n",
      "6       0.696296    0.160410      0.260749       0.735514    0.971006   \n",
      "7       0.743243    0.187713      0.299728       0.740254    0.972239   \n",
      "8       0.733766    0.192504      0.304993       0.739274    0.967901   \n",
      "9       0.699301    0.170358      0.273973       0.737488    0.964198   \n",
      "\n",
      "   4.0_f1-score  5.0_precision  5.0_recall  5.0_f1-score  accuracy  \n",
      "0      0.836412       0.425000    0.171717      0.244604  0.733420  \n",
      "1      0.838641       0.714286    0.202020      0.314961  0.737755  \n",
      "2      0.840727       0.551724    0.160000      0.248062  0.739922  \n",
      "3      0.837917       0.562500    0.181818      0.274809  0.734605  \n",
      "4      0.839744       0.538462    0.141414      0.224000  0.738942  \n",
      "5      0.838865       0.631579    0.242424      0.350365  0.737207  \n",
      "6      0.837011       0.741935    0.232323      0.353846  0.733304  \n",
      "7      0.840533       0.655172    0.191919      0.296875  0.739376  \n",
      "8      0.838279       0.580645    0.181818      0.276923  0.736774  \n",
      "9      0.835741       0.533333    0.242424      0.333333  0.731136  \n"
     ]
    },
    {
     "data": {
      "image/png": "[encoded data removed]",
      "text/plain": [
       "<Figure size 432x288 with 2 Axes>"
      ]
     },
     "metadata": {
      "needs_background": "light"
     },
     "output_type": "display_data"
    },
    {
     "data": {
      "text/html": [
       "<div>\n",
       "<style scoped>\n",
       "    .dataframe tbody tr th:only-of-type {\n",
       "        vertical-align: middle;\n",
       "    }\n",
       "\n",
       "    .dataframe tbody tr th {\n",
       "        vertical-align: top;\n",
       "    }\n",
       "\n",
       "    .dataframe thead th {\n",
       "        text-align: right;\n",
       "    }\n",
       "</style>\n",
       "<table border=\"1\" class=\"dataframe\">\n",
       "  <thead>\n",
       "    <tr style=\"text-align: right;\">\n",
       "      <th></th>\n",
       "      <th>mean</th>\n",
       "      <th>std</th>\n",
       "    </tr>\n",
       "  </thead>\n",
       "  <tbody>\n",
       "    <tr>\n",
       "      <th>3.0_precision</th>\n",
       "      <td>0.724563</td>\n",
       "      <td>0.021510</td>\n",
       "    </tr>\n",
       "    <tr>\n",
       "      <th>3.0_recall</th>\n",
       "      <td>0.187073</td>\n",
       "      <td>0.013155</td>\n",
       "    </tr>\n",
       "    <tr>\n",
       "      <th>3.0_f1-score</th>\n",
       "      <td>0.297253</td>\n",
       "      <td>0.018176</td>\n",
       "    </tr>\n",
       "    <tr>\n",
       "      <th>4.0_precision</th>\n",
       "      <td>0.739365</td>\n",
       "      <td>0.001823</td>\n",
       "    </tr>\n",
       "    <tr>\n",
       "      <th>4.0_recall</th>\n",
       "      <td>0.968040</td>\n",
       "      <td>0.002850</td>\n",
       "    </tr>\n",
       "    <tr>\n",
       "      <th>4.0_f1-score</th>\n",
       "      <td>0.838387</td>\n",
       "      <td>0.001675</td>\n",
       "    </tr>\n",
       "    <tr>\n",
       "      <th>5.0_precision</th>\n",
       "      <td>0.593464</td>\n",
       "      <td>0.094156</td>\n",
       "    </tr>\n",
       "    <tr>\n",
       "      <th>5.0_recall</th>\n",
       "      <td>0.194788</td>\n",
       "      <td>0.034858</td>\n",
       "    </tr>\n",
       "    <tr>\n",
       "      <th>5.0_f1-score</th>\n",
       "      <td>0.291778</td>\n",
       "      <td>0.045721</td>\n",
       "    </tr>\n",
       "    <tr>\n",
       "      <th>accuracy</th>\n",
       "      <td>0.736244</td>\n",
       "      <td>0.002972</td>\n",
       "    </tr>\n",
       "  </tbody>\n",
       "</table>\n",
       "</div>"
      ],
      "text/plain": [
       "                   mean       std\n",
       "3.0_precision  0.724563  0.021510\n",
       "3.0_recall     0.187073  0.013155\n",
       "3.0_f1-score   0.297253  0.018176\n",
       "4.0_precision  0.739365  0.001823\n",
       "4.0_recall     0.968040  0.002850\n",
       "4.0_f1-score   0.838387  0.001675\n",
       "5.0_precision  0.593464  0.094156\n",
       "5.0_recall     0.194788  0.034858\n",
       "5.0_f1-score   0.291778  0.045721\n",
       "accuracy       0.736244  0.002972"
      ]
     },
     "execution_count": 30,
     "metadata": {},
     "output_type": "execute_result"
    }
   ],
   "source": [
    "y_pred_cvsnb, cvsnb_report = cross_val_report(cvsnb, X_train, y_train)\n",
    "cvsnb_report"
   ]
  },
  {
   "cell_type": "markdown",
   "id": "602f1c4a",
   "metadata": {},
   "source": [
    "## 3) Logistic Regression"
   ]
  },
  {
   "cell_type": "code",
   "execution_count": 35,
   "id": "8875b6f0",
   "metadata": {},
   "outputs": [],
   "source": [
    "train_df_logr = pd.read_csv(DATASET_DIR + \"train_df_300.csv\", keep_default_na=False)  # Alternative\n",
    "X_train_logr = train_df_logr.iloc[:,:-1]\n",
    "y_train = train_df_logr.iloc[:,-1]"
   ]
  },
  {
   "cell_type": "code",
   "execution_count": 36,
   "id": "208876cf",
   "metadata": {},
   "outputs": [],
   "source": [
    "from sklearn.linear_model import LogisticRegression"
   ]
  },
  {
   "cell_type": "code",
   "execution_count": 37,
   "id": "594e16c9",
   "metadata": {},
   "outputs": [
    {
     "data": {
      "text/html": [
       "<style>#sk-container-id-5 {color: black;background-color: white;}#sk-container-id-5 pre{padding: 0;}#sk-container-id-5 div.sk-toggleable {background-color: white;}#sk-container-id-5 label.sk-toggleable__label {cursor: pointer;display: block;width: 100%;margin-bottom: 0;padding: 0.3em;box-sizing: border-box;text-align: center;}#sk-container-id-5 label.sk-toggleable__label-arrow:before {content: \"▸\";float: left;margin-right: 0.25em;color: #696969;}#sk-container-id-5 label.sk-toggleable__label-arrow:hover:before {color: black;}#sk-container-id-5 div.sk-estimator:hover label.sk-toggleable__label-arrow:before {color: black;}#sk-container-id-5 div.sk-toggleable__content {max-height: 0;max-width: 0;overflow: hidden;text-align: left;background-color: #f0f8ff;}#sk-container-id-5 div.sk-toggleable__content pre {margin: 0.2em;color: black;border-radius: 0.25em;background-color: #f0f8ff;}#sk-container-id-5 input.sk-toggleable__control:checked~div.sk-toggleable__content {max-height: 200px;max-width: 100%;overflow: auto;}#sk-container-id-5 input.sk-toggleable__control:checked~label.sk-toggleable__label-arrow:before {content: \"▾\";}#sk-container-id-5 div.sk-estimator input.sk-toggleable__control:checked~label.sk-toggleable__label {background-color: #d4ebff;}#sk-container-id-5 div.sk-label input.sk-toggleable__control:checked~label.sk-toggleable__label {background-color: #d4ebff;}#sk-container-id-5 input.sk-hidden--visually {border: 0;clip: rect(1px 1px 1px 1px);clip: rect(1px, 1px, 1px, 1px);height: 1px;margin: -1px;overflow: hidden;padding: 0;position: absolute;width: 1px;}#sk-container-id-5 div.sk-estimator {font-family: monospace;background-color: #f0f8ff;border: 1px dotted black;border-radius: 0.25em;box-sizing: border-box;margin-bottom: 0.5em;}#sk-container-id-5 div.sk-estimator:hover {background-color: #d4ebff;}#sk-container-id-5 div.sk-parallel-item::after {content: \"\";width: 100%;border-bottom: 1px solid gray;flex-grow: 1;}#sk-container-id-5 div.sk-label:hover label.sk-toggleable__label {background-color: #d4ebff;}#sk-container-id-5 div.sk-serial::before {content: \"\";position: absolute;border-left: 1px solid gray;box-sizing: border-box;top: 0;bottom: 0;left: 50%;z-index: 0;}#sk-container-id-5 div.sk-serial {display: flex;flex-direction: column;align-items: center;background-color: white;padding-right: 0.2em;padding-left: 0.2em;position: relative;}#sk-container-id-5 div.sk-item {position: relative;z-index: 1;}#sk-container-id-5 div.sk-parallel {display: flex;align-items: stretch;justify-content: center;background-color: white;position: relative;}#sk-container-id-5 div.sk-item::before, #sk-container-id-5 div.sk-parallel-item::before {content: \"\";position: absolute;border-left: 1px solid gray;box-sizing: border-box;top: 0;bottom: 0;left: 50%;z-index: -1;}#sk-container-id-5 div.sk-parallel-item {display: flex;flex-direction: column;z-index: 1;position: relative;background-color: white;}#sk-container-id-5 div.sk-parallel-item:first-child::after {align-self: flex-end;width: 50%;}#sk-container-id-5 div.sk-parallel-item:last-child::after {align-self: flex-start;width: 50%;}#sk-container-id-5 div.sk-parallel-item:only-child::after {width: 0;}#sk-container-id-5 div.sk-dashed-wrapped {border: 1px dashed gray;margin: 0 0.4em 0.5em 0.4em;box-sizing: border-box;padding-bottom: 0.4em;background-color: white;}#sk-container-id-5 div.sk-label label {font-family: monospace;font-weight: bold;display: inline-block;line-height: 1.2em;}#sk-container-id-5 div.sk-label-container {text-align: center;}#sk-container-id-5 div.sk-container {/* jupyter's `normalize.less` sets `[hidden] { display: none; }` but bootstrap.min.css set `[hidden] { display: none !important; }` so we also need the `!important` here to be able to override the default hidden behavior on the sphinx rendered scikit-learn.org. See: https://github.com/scikit-learn/scikit-learn/issues/21755 */display: inline-block !important;position: relative;}#sk-container-id-5 div.sk-text-repr-fallback {display: none;}</style><div id=\"sk-container-id-5\" class=\"sk-top-container\"><div class=\"sk-text-repr-fallback\"><pre>LogisticRegression(C=5, max_iter=50, random_state=30027, solver=&#x27;sag&#x27;)</pre><b>In a Jupyter environment, please rerun this cell to show the HTML representation or trust the notebook. <br />On GitHub, the HTML representation is unable to render, please try loading this page with nbviewer.org.</b></div><div class=\"sk-container\" hidden><div class=\"sk-item\"><div class=\"sk-estimator sk-toggleable\"><input class=\"sk-toggleable__control sk-hidden--visually\" id=\"sk-estimator-id-7\" type=\"checkbox\" checked><label for=\"sk-estimator-id-7\" class=\"sk-toggleable__label sk-toggleable__label-arrow\">LogisticRegression</label><div class=\"sk-toggleable__content\"><pre>LogisticRegression(C=5, max_iter=50, random_state=30027, solver=&#x27;sag&#x27;)</pre></div></div></div></div></div>"
      ],
      "text/plain": [
       "LogisticRegression(C=5, max_iter=50, random_state=30027, solver='sag')"
      ]
     },
     "execution_count": 37,
     "metadata": {},
     "output_type": "execute_result"
    }
   ],
   "source": [
    "logr = LogisticRegression(solver='sag', max_iter=50, C=5, random_state=30027)  # uses Stochastic Average Gradient descent solver\n",
    "logr.fit(X_train_logr, y_train)"
   ]
  },
  {
   "cell_type": "code",
   "execution_count": 38,
   "id": "67a3f4a0",
   "metadata": {},
   "outputs": [],
   "source": [
    "selector = SelectFromModel(logr, prefit=True).fit(X_train_logr, y_train)\n",
    "LR_FEATURES = [X_train_logr.columns[i] for i in selector.get_support(indices=True)]"
   ]
  },
  {
   "cell_type": "code",
   "execution_count": 39,
   "id": "027ae062",
   "metadata": {},
   "outputs": [
    {
     "name": "stdout",
     "output_type": "stream",
     "text": [
      "LogisticRegression prediction took 68.53750801086426 seconds.\n",
      "\n",
      "   3.0_precision  3.0_recall  3.0_f1-score  4.0_precision  4.0_recall  \\\n",
      "0       0.816794    0.182283      0.298050       0.739252    0.975941   \n",
      "1       0.733333    0.149915      0.248939       0.733736    0.974090   \n",
      "2       0.818898    0.177474      0.291725       0.738404    0.982110   \n",
      "3       0.754386    0.146758      0.245714       0.732192    0.976558   \n",
      "4       0.803279    0.167235      0.276836       0.735622    0.978408   \n",
      "5       0.735043    0.146758      0.244666       0.733796    0.977791   \n",
      "6       0.823529    0.143345      0.244186       0.733763    0.982727   \n",
      "7       0.777778    0.167235      0.275281       0.738726    0.980259   \n",
      "8       0.860870    0.168654      0.282051       0.736574    0.982099   \n",
      "9       0.777778    0.143101      0.241727       0.734136    0.978395   \n",
      "\n",
      "   4.0_f1-score  5.0_precision  5.0_recall  5.0_f1-score  accuracy  \n",
      "0      0.841266       0.527778    0.191919      0.281481  0.740355  \n",
      "1      0.837000       0.685714    0.242424      0.358209  0.732987  \n",
      "2      0.842997       0.583333    0.140000      0.225806  0.741222  \n",
      "3      0.836902       0.533333    0.161616      0.248062  0.730703  \n",
      "4      0.839820       0.571429    0.161616      0.251969  0.737207  \n",
      "5      0.838403       0.758621    0.222222      0.343750  0.734172  \n",
      "6      0.840190       0.696970    0.232323      0.348485  0.737207  \n",
      "7      0.842524       0.689655    0.202020      0.312500  0.740243  \n",
      "8      0.841799       0.548387    0.171717      0.261538  0.740243  \n",
      "9      0.838846       0.589744    0.232323      0.333333  0.733738  \n"
     ]
    },
    {
     "data": {
      "image/png": "[encoded data removed]",
      "text/plain": [
       "<Figure size 432x288 with 2 Axes>"
      ]
     },
     "metadata": {
      "needs_background": "light"
     },
     "output_type": "display_data"
    },
    {
     "data": {
      "text/html": [
       "<div>\n",
       "<style scoped>\n",
       "    .dataframe tbody tr th:only-of-type {\n",
       "        vertical-align: middle;\n",
       "    }\n",
       "\n",
       "    .dataframe tbody tr th {\n",
       "        vertical-align: top;\n",
       "    }\n",
       "\n",
       "    .dataframe thead th {\n",
       "        text-align: right;\n",
       "    }\n",
       "</style>\n",
       "<table border=\"1\" class=\"dataframe\">\n",
       "  <thead>\n",
       "    <tr style=\"text-align: right;\">\n",
       "      <th></th>\n",
       "      <th>mean</th>\n",
       "      <th>std</th>\n",
       "    </tr>\n",
       "  </thead>\n",
       "  <tbody>\n",
       "    <tr>\n",
       "      <th>3.0_precision</th>\n",
       "      <td>0.790169</td>\n",
       "      <td>0.041732</td>\n",
       "    </tr>\n",
       "    <tr>\n",
       "      <th>3.0_recall</th>\n",
       "      <td>0.159276</td>\n",
       "      <td>0.014876</td>\n",
       "    </tr>\n",
       "    <tr>\n",
       "      <th>3.0_f1-score</th>\n",
       "      <td>0.264918</td>\n",
       "      <td>0.022013</td>\n",
       "    </tr>\n",
       "    <tr>\n",
       "      <th>4.0_precision</th>\n",
       "      <td>0.735620</td>\n",
       "      <td>0.002489</td>\n",
       "    </tr>\n",
       "    <tr>\n",
       "      <th>4.0_recall</th>\n",
       "      <td>0.978838</td>\n",
       "      <td>0.002908</td>\n",
       "    </tr>\n",
       "    <tr>\n",
       "      <th>4.0_f1-score</th>\n",
       "      <td>0.839975</td>\n",
       "      <td>0.002179</td>\n",
       "    </tr>\n",
       "    <tr>\n",
       "      <th>5.0_precision</th>\n",
       "      <td>0.618496</td>\n",
       "      <td>0.081684</td>\n",
       "    </tr>\n",
       "    <tr>\n",
       "      <th>5.0_recall</th>\n",
       "      <td>0.195818</td>\n",
       "      <td>0.035939</td>\n",
       "    </tr>\n",
       "    <tr>\n",
       "      <th>5.0_f1-score</th>\n",
       "      <td>0.296513</td>\n",
       "      <td>0.048454</td>\n",
       "    </tr>\n",
       "    <tr>\n",
       "      <th>accuracy</th>\n",
       "      <td>0.736808</td>\n",
       "      <td>0.003715</td>\n",
       "    </tr>\n",
       "  </tbody>\n",
       "</table>\n",
       "</div>"
      ],
      "text/plain": [
       "                   mean       std\n",
       "3.0_precision  0.790169  0.041732\n",
       "3.0_recall     0.159276  0.014876\n",
       "3.0_f1-score   0.264918  0.022013\n",
       "4.0_precision  0.735620  0.002489\n",
       "4.0_recall     0.978838  0.002908\n",
       "4.0_f1-score   0.839975  0.002179\n",
       "5.0_precision  0.618496  0.081684\n",
       "5.0_recall     0.195818  0.035939\n",
       "5.0_f1-score   0.296513  0.048454\n",
       "accuracy       0.736808  0.003715"
      ]
     },
     "execution_count": 39,
     "metadata": {},
     "output_type": "execute_result"
    }
   ],
   "source": [
    "logr.fit(X_train_logr[LR_FEATURES], y_train)\n",
    "y_pred_logr, logr_report = cross_val_report(logr, X_train_logr[LR_FEATURES], y_train)\n",
    "logr_report"
   ]
  },
  {
   "cell_type": "markdown",
   "id": "04bbf9fe",
   "metadata": {},
   "source": [
    "## 4) StackingClassifier"
   ]
  },
  {
   "cell_type": "code",
   "execution_count": 40,
   "id": "eaa832b9",
   "metadata": {},
   "outputs": [],
   "source": [
    "from sklearn.naive_bayes import MultinomialNB, CategoricalNB\n",
    "from sklearn import svm\n",
    "from sklearn.linear_model import LogisticRegression\n",
    "from sklearn.tree import DecisionTreeClassifier\n",
    "from sklearn.neighbors import KNeighborsClassifier\n",
    "from mlxtend.classifier import StackingCVClassifier"
   ]
  },
  {
   "cell_type": "code",
   "execution_count": 50,
   "id": "42773311",
   "metadata": {},
   "outputs": [
    {
     "data": {
      "text/html": [
       "<style>#sk-container-id-9 {color: black;background-color: white;}#sk-container-id-9 pre{padding: 0;}#sk-container-id-9 div.sk-toggleable {background-color: white;}#sk-container-id-9 label.sk-toggleable__label {cursor: pointer;display: block;width: 100%;margin-bottom: 0;padding: 0.3em;box-sizing: border-box;text-align: center;}#sk-container-id-9 label.sk-toggleable__label-arrow:before {content: \"▸\";float: left;margin-right: 0.25em;color: #696969;}#sk-container-id-9 label.sk-toggleable__label-arrow:hover:before {color: black;}#sk-container-id-9 div.sk-estimator:hover label.sk-toggleable__label-arrow:before {color: black;}#sk-container-id-9 div.sk-toggleable__content {max-height: 0;max-width: 0;overflow: hidden;text-align: left;background-color: #f0f8ff;}#sk-container-id-9 div.sk-toggleable__content pre {margin: 0.2em;color: black;border-radius: 0.25em;background-color: #f0f8ff;}#sk-container-id-9 input.sk-toggleable__control:checked~div.sk-toggleable__content {max-height: 200px;max-width: 100%;overflow: auto;}#sk-container-id-9 input.sk-toggleable__control:checked~label.sk-toggleable__label-arrow:before {content: \"▾\";}#sk-container-id-9 div.sk-estimator input.sk-toggleable__control:checked~label.sk-toggleable__label {background-color: #d4ebff;}#sk-container-id-9 div.sk-label input.sk-toggleable__control:checked~label.sk-toggleable__label {background-color: #d4ebff;}#sk-container-id-9 input.sk-hidden--visually {border: 0;clip: rect(1px 1px 1px 1px);clip: rect(1px, 1px, 1px, 1px);height: 1px;margin: -1px;overflow: hidden;padding: 0;position: absolute;width: 1px;}#sk-container-id-9 div.sk-estimator {font-family: monospace;background-color: #f0f8ff;border: 1px dotted black;border-radius: 0.25em;box-sizing: border-box;margin-bottom: 0.5em;}#sk-container-id-9 div.sk-estimator:hover {background-color: #d4ebff;}#sk-container-id-9 div.sk-parallel-item::after {content: \"\";width: 100%;border-bottom: 1px solid gray;flex-grow: 1;}#sk-container-id-9 div.sk-label:hover label.sk-toggleable__label {background-color: #d4ebff;}#sk-container-id-9 div.sk-serial::before {content: \"\";position: absolute;border-left: 1px solid gray;box-sizing: border-box;top: 0;bottom: 0;left: 50%;z-index: 0;}#sk-container-id-9 div.sk-serial {display: flex;flex-direction: column;align-items: center;background-color: white;padding-right: 0.2em;padding-left: 0.2em;position: relative;}#sk-container-id-9 div.sk-item {position: relative;z-index: 1;}#sk-container-id-9 div.sk-parallel {display: flex;align-items: stretch;justify-content: center;background-color: white;position: relative;}#sk-container-id-9 div.sk-item::before, #sk-container-id-9 div.sk-parallel-item::before {content: \"\";position: absolute;border-left: 1px solid gray;box-sizing: border-box;top: 0;bottom: 0;left: 50%;z-index: -1;}#sk-container-id-9 div.sk-parallel-item {display: flex;flex-direction: column;z-index: 1;position: relative;background-color: white;}#sk-container-id-9 div.sk-parallel-item:first-child::after {align-self: flex-end;width: 50%;}#sk-container-id-9 div.sk-parallel-item:last-child::after {align-self: flex-start;width: 50%;}#sk-container-id-9 div.sk-parallel-item:only-child::after {width: 0;}#sk-container-id-9 div.sk-dashed-wrapped {border: 1px dashed gray;margin: 0 0.4em 0.5em 0.4em;box-sizing: border-box;padding-bottom: 0.4em;background-color: white;}#sk-container-id-9 div.sk-label label {font-family: monospace;font-weight: bold;display: inline-block;line-height: 1.2em;}#sk-container-id-9 div.sk-label-container {text-align: center;}#sk-container-id-9 div.sk-container {/* jupyter's `normalize.less` sets `[hidden] { display: none; }` but bootstrap.min.css set `[hidden] { display: none !important; }` so we also need the `!important` here to be able to override the default hidden behavior on the sphinx rendered scikit-learn.org. See: https://github.com/scikit-learn/scikit-learn/issues/21755 */display: inline-block !important;position: relative;}#sk-container-id-9 div.sk-text-repr-fallback {display: none;}</style><div id=\"sk-container-id-9\" class=\"sk-top-container\"><div class=\"sk-text-repr-fallback\"><pre>StackingCVClassifier(classifiers=[MultinomialNB(alpha=1),\n",
       "                                  LinearSVC(C=5, dual=False,\n",
       "                                            random_state=30027),\n",
       "                                  LogisticRegression(max_iter=50,\n",
       "                                                     random_state=30027,\n",
       "                                                     solver=&#x27;sag&#x27;),\n",
       "                                  DecisionTreeClassifier(max_depth=200,\n",
       "                                                         random_state=30027)],\n",
       "                     meta_classifier=CategoricalNB(), random_state=30027)</pre><b>In a Jupyter environment, please rerun this cell to show the HTML representation or trust the notebook. <br />On GitHub, the HTML representation is unable to render, please try loading this page with nbviewer.org.</b></div><div class=\"sk-container\" hidden><div class=\"sk-item sk-dashed-wrapped\"><div class=\"sk-label-container\"><div class=\"sk-label sk-toggleable\"><input class=\"sk-toggleable__control sk-hidden--visually\" id=\"sk-estimator-id-17\" type=\"checkbox\" ><label for=\"sk-estimator-id-17\" class=\"sk-toggleable__label sk-toggleable__label-arrow\">StackingCVClassifier</label><div class=\"sk-toggleable__content\"><pre>StackingCVClassifier(classifiers=[MultinomialNB(alpha=1),\n",
       "                                  LinearSVC(C=5, dual=False,\n",
       "                                            random_state=30027),\n",
       "                                  LogisticRegression(max_iter=50,\n",
       "                                                     random_state=30027,\n",
       "                                                     solver=&#x27;sag&#x27;),\n",
       "                                  DecisionTreeClassifier(max_depth=200,\n",
       "                                                         random_state=30027)],\n",
       "                     meta_classifier=CategoricalNB(), random_state=30027)</pre></div></div></div><div class=\"sk-parallel\"><div class=\"sk-parallel-item\"><div class=\"sk-item\"><div class=\"sk-label-container\"><div class=\"sk-label sk-toggleable\"><input class=\"sk-toggleable__control sk-hidden--visually\" id=\"sk-estimator-id-18\" type=\"checkbox\" ><label for=\"sk-estimator-id-18\" class=\"sk-toggleable__label sk-toggleable__label-arrow\">meta_classifier: CategoricalNB</label><div class=\"sk-toggleable__content\"><pre>CategoricalNB()</pre></div></div></div><div class=\"sk-serial\"><div class=\"sk-item\"><div class=\"sk-estimator sk-toggleable\"><input class=\"sk-toggleable__control sk-hidden--visually\" id=\"sk-estimator-id-19\" type=\"checkbox\" ><label for=\"sk-estimator-id-19\" class=\"sk-toggleable__label sk-toggleable__label-arrow\">CategoricalNB</label><div class=\"sk-toggleable__content\"><pre>CategoricalNB()</pre></div></div></div></div></div></div></div></div></div></div>"
      ],
      "text/plain": [
       "StackingCVClassifier(classifiers=[MultinomialNB(alpha=1),\n",
       "                                  LinearSVC(C=5, dual=False,\n",
       "                                            random_state=30027),\n",
       "                                  LogisticRegression(max_iter=50,\n",
       "                                                     random_state=30027,\n",
       "                                                     solver='sag'),\n",
       "                                  DecisionTreeClassifier(max_depth=200,\n",
       "                                                         random_state=30027)],\n",
       "                     meta_classifier=CategoricalNB(), random_state=30027)"
      ]
     },
     "execution_count": 50,
     "metadata": {},
     "output_type": "execute_result"
    }
   ],
   "source": [
    "# Multinomial NB\n",
    "mnb = MultinomialNB(alpha = 1)\n",
    "# Linear SVM\n",
    "linearSVM = svm.LinearSVC(random_state=30027, C=5, dual=False)\n",
    "# Logistic Regression\n",
    "logr = LogisticRegression(solver='sag', max_iter=50, random_state = 30027)\n",
    "# Decision tree\n",
    "dt = DecisionTreeClassifier(criterion = \"gini\", max_depth = 200, random_state = 30027)\n",
    "\n",
    "# Stack\n",
    "sclf = StackingCVClassifier(classifiers=[mnb, linearSVM, logr, dt], \n",
    "                            meta_classifier=CategoricalNB(),\n",
    "                            cv = 2,\n",
    "                            random_state=30027)\n",
    "\n",
    "sclf.fit(X_train, y_train)"
   ]
  },
  {
   "cell_type": "code",
   "execution_count": 51,
   "id": "506fc760",
   "metadata": {},
   "outputs": [
    {
     "name": "stdout",
     "output_type": "stream",
     "text": [
      "StackingCVClassifier prediction took 227.29478192329407 seconds.\n",
      "\n",
      "   3.0_precision  3.0_recall  3.0_f1-score  4.0_precision  4.0_recall  \\\n",
      "0       0.707182    0.218058      0.333333       0.743541    0.958667   \n",
      "1       0.708333    0.202726      0.315232       0.741584    0.964837   \n",
      "2       0.682081    0.201365      0.310935       0.741305    0.959901   \n",
      "3       0.680723    0.192833      0.300532       0.739934    0.963603   \n",
      "4       0.754491    0.215017      0.334661       0.743250    0.967921   \n",
      "5       0.666667    0.184300      0.288770       0.740229    0.958051   \n",
      "6       0.724138    0.179181      0.287278       0.739539    0.970389   \n",
      "7       0.713415    0.199659      0.312000       0.742439    0.969155   \n",
      "8       0.707602    0.206133      0.319261       0.741445    0.962963   \n",
      "9       0.707792    0.185690      0.294197       0.739336    0.962963   \n",
      "\n",
      "   4.0_f1-score  5.0_precision  5.0_recall  5.0_f1-score  accuracy  \n",
      "0      0.837510       0.500000    0.181818      0.266667  0.736888  \n",
      "1      0.838606       0.700000    0.212121      0.325581  0.738622  \n",
      "2      0.836559       0.542857    0.190000      0.281481  0.733853  \n",
      "3      0.837085       0.586207    0.171717      0.265625  0.733738  \n",
      "4      0.840836       0.535714    0.151515      0.236220  0.741544  \n",
      "5      0.835171       0.586957    0.272727      0.372414  0.732003  \n",
      "6      0.839381       0.705882    0.242424      0.360902  0.738075  \n",
      "7      0.840781       0.692308    0.181818      0.288000  0.739809  \n",
      "8      0.837809       0.645161    0.202020      0.307692  0.737641  \n",
      "9      0.836461       0.547619    0.232323      0.326241  0.733738  \n"
     ]
    },
    {
     "data": {
      "image/png": "[encoded data removed]",
      "text/plain": [
       "<Figure size 432x288 with 2 Axes>"
      ]
     },
     "metadata": {
      "needs_background": "light"
     },
     "output_type": "display_data"
    },
    {
     "data": {
      "text/html": [
       "<div>\n",
       "<style scoped>\n",
       "    .dataframe tbody tr th:only-of-type {\n",
       "        vertical-align: middle;\n",
       "    }\n",
       "\n",
       "    .dataframe tbody tr th {\n",
       "        vertical-align: top;\n",
       "    }\n",
       "\n",
       "    .dataframe thead th {\n",
       "        text-align: right;\n",
       "    }\n",
       "</style>\n",
       "<table border=\"1\" class=\"dataframe\">\n",
       "  <thead>\n",
       "    <tr style=\"text-align: right;\">\n",
       "      <th></th>\n",
       "      <th>mean</th>\n",
       "      <th>std</th>\n",
       "    </tr>\n",
       "  </thead>\n",
       "  <tbody>\n",
       "    <tr>\n",
       "      <th>3.0_precision</th>\n",
       "      <td>0.705242</td>\n",
       "      <td>0.024722</td>\n",
       "    </tr>\n",
       "    <tr>\n",
       "      <th>3.0_recall</th>\n",
       "      <td>0.198496</td>\n",
       "      <td>0.012962</td>\n",
       "    </tr>\n",
       "    <tr>\n",
       "      <th>3.0_f1-score</th>\n",
       "      <td>0.309620</td>\n",
       "      <td>0.016917</td>\n",
       "    </tr>\n",
       "    <tr>\n",
       "      <th>4.0_precision</th>\n",
       "      <td>0.741260</td>\n",
       "      <td>0.001497</td>\n",
       "    </tr>\n",
       "    <tr>\n",
       "      <th>4.0_recall</th>\n",
       "      <td>0.963845</td>\n",
       "      <td>0.004297</td>\n",
       "    </tr>\n",
       "    <tr>\n",
       "      <th>4.0_f1-score</th>\n",
       "      <td>0.838020</td>\n",
       "      <td>0.001874</td>\n",
       "    </tr>\n",
       "    <tr>\n",
       "      <th>5.0_precision</th>\n",
       "      <td>0.604271</td>\n",
       "      <td>0.076078</td>\n",
       "    </tr>\n",
       "    <tr>\n",
       "      <th>5.0_recall</th>\n",
       "      <td>0.203848</td>\n",
       "      <td>0.036589</td>\n",
       "    </tr>\n",
       "    <tr>\n",
       "      <th>5.0_f1-score</th>\n",
       "      <td>0.303082</td>\n",
       "      <td>0.043599</td>\n",
       "    </tr>\n",
       "    <tr>\n",
       "      <th>accuracy</th>\n",
       "      <td>0.736591</td>\n",
       "      <td>0.003113</td>\n",
       "    </tr>\n",
       "  </tbody>\n",
       "</table>\n",
       "</div>"
      ],
      "text/plain": [
       "                   mean       std\n",
       "3.0_precision  0.705242  0.024722\n",
       "3.0_recall     0.198496  0.012962\n",
       "3.0_f1-score   0.309620  0.016917\n",
       "4.0_precision  0.741260  0.001497\n",
       "4.0_recall     0.963845  0.004297\n",
       "4.0_f1-score   0.838020  0.001874\n",
       "5.0_precision  0.604271  0.076078\n",
       "5.0_recall     0.203848  0.036589\n",
       "5.0_f1-score   0.303082  0.043599\n",
       "accuracy       0.736591  0.003113"
      ]
     },
     "execution_count": 51,
     "metadata": {},
     "output_type": "execute_result"
    }
   ],
   "source": [
    "y_pred_sclf, sclf_report = cross_val_report(sclf, X_train, y_train)\n",
    "sclf_report"
   ]
  },
  {
   "cell_type": "markdown",
   "id": "c6c844d6",
   "metadata": {},
   "source": [
    "## 5) Baselines"
   ]
  },
  {
   "cell_type": "markdown",
   "id": "e1019aa6",
   "metadata": {},
   "source": [
    "### 0R"
   ]
  },
  {
   "cell_type": "code",
   "execution_count": 45,
   "id": "7ef0fbc9",
   "metadata": {},
   "outputs": [
    {
     "name": "stdout",
     "output_type": "stream",
     "text": [
      "DummyClassifier prediction took 0.5309910774230957 seconds.\n",
      "\n",
      "   3.0_precision  3.0_recall  3.0_f1-score  4.0_precision  4.0_recall  \\\n",
      "0            0.0         0.0           0.0       0.702644         1.0   \n",
      "1            0.0         0.0           0.0       0.702644         1.0   \n",
      "2            0.0         0.0           0.0       0.702644         1.0   \n",
      "3            0.0         0.0           0.0       0.702949         1.0   \n",
      "4            0.0         0.0           0.0       0.702949         1.0   \n",
      "5            0.0         0.0           0.0       0.702949         1.0   \n",
      "6            0.0         0.0           0.0       0.702949         1.0   \n",
      "7            0.0         0.0           0.0       0.702949         1.0   \n",
      "8            0.0         0.0           0.0       0.702515         1.0   \n",
      "9            0.0         0.0           0.0       0.702515         1.0   \n",
      "\n",
      "   4.0_f1-score  5.0_precision  5.0_recall  5.0_f1-score  accuracy  \n",
      "0      0.825356            0.0         0.0           0.0  0.702644  \n",
      "1      0.825356            0.0         0.0           0.0  0.702644  \n",
      "2      0.825356            0.0         0.0           0.0  0.702644  \n",
      "3      0.825567            0.0         0.0           0.0  0.702949  \n",
      "4      0.825567            0.0         0.0           0.0  0.702949  \n",
      "5      0.825567            0.0         0.0           0.0  0.702949  \n",
      "6      0.825567            0.0         0.0           0.0  0.702949  \n",
      "7      0.825567            0.0         0.0           0.0  0.702949  \n",
      "8      0.825267            0.0         0.0           0.0  0.702515  \n",
      "9      0.825267            0.0         0.0           0.0  0.702515  \n"
     ]
    },
    {
     "data": {
      "image/png": "[encoded data removed]",
      "text/plain": [
       "<Figure size 432x288 with 2 Axes>"
      ]
     },
     "metadata": {
      "needs_background": "light"
     },
     "output_type": "display_data"
    },
    {
     "data": {
      "text/html": [
       "<div>\n",
       "<style scoped>\n",
       "    .dataframe tbody tr th:only-of-type {\n",
       "        vertical-align: middle;\n",
       "    }\n",
       "\n",
       "    .dataframe tbody tr th {\n",
       "        vertical-align: top;\n",
       "    }\n",
       "\n",
       "    .dataframe thead th {\n",
       "        text-align: right;\n",
       "    }\n",
       "</style>\n",
       "<table border=\"1\" class=\"dataframe\">\n",
       "  <thead>\n",
       "    <tr style=\"text-align: right;\">\n",
       "      <th></th>\n",
       "      <th>mean</th>\n",
       "      <th>std</th>\n",
       "    </tr>\n",
       "  </thead>\n",
       "  <tbody>\n",
       "    <tr>\n",
       "      <th>3.0_precision</th>\n",
       "      <td>0.000000</td>\n",
       "      <td>0.000000</td>\n",
       "    </tr>\n",
       "    <tr>\n",
       "      <th>3.0_recall</th>\n",
       "      <td>0.000000</td>\n",
       "      <td>0.000000</td>\n",
       "    </tr>\n",
       "    <tr>\n",
       "      <th>3.0_f1-score</th>\n",
       "      <td>0.000000</td>\n",
       "      <td>0.000000</td>\n",
       "    </tr>\n",
       "    <tr>\n",
       "      <th>4.0_precision</th>\n",
       "      <td>0.702771</td>\n",
       "      <td>0.000194</td>\n",
       "    </tr>\n",
       "    <tr>\n",
       "      <th>4.0_recall</th>\n",
       "      <td>1.000000</td>\n",
       "      <td>0.000000</td>\n",
       "    </tr>\n",
       "    <tr>\n",
       "      <th>4.0_f1-score</th>\n",
       "      <td>0.825444</td>\n",
       "      <td>0.000134</td>\n",
       "    </tr>\n",
       "    <tr>\n",
       "      <th>5.0_precision</th>\n",
       "      <td>0.000000</td>\n",
       "      <td>0.000000</td>\n",
       "    </tr>\n",
       "    <tr>\n",
       "      <th>5.0_recall</th>\n",
       "      <td>0.000000</td>\n",
       "      <td>0.000000</td>\n",
       "    </tr>\n",
       "    <tr>\n",
       "      <th>5.0_f1-score</th>\n",
       "      <td>0.000000</td>\n",
       "      <td>0.000000</td>\n",
       "    </tr>\n",
       "    <tr>\n",
       "      <th>accuracy</th>\n",
       "      <td>0.702771</td>\n",
       "      <td>0.000194</td>\n",
       "    </tr>\n",
       "  </tbody>\n",
       "</table>\n",
       "</div>"
      ],
      "text/plain": [
       "                   mean       std\n",
       "3.0_precision  0.000000  0.000000\n",
       "3.0_recall     0.000000  0.000000\n",
       "3.0_f1-score   0.000000  0.000000\n",
       "4.0_precision  0.702771  0.000194\n",
       "4.0_recall     1.000000  0.000000\n",
       "4.0_f1-score   0.825444  0.000134\n",
       "5.0_precision  0.000000  0.000000\n",
       "5.0_recall     0.000000  0.000000\n",
       "5.0_f1-score   0.000000  0.000000\n",
       "accuracy       0.702771  0.000194"
      ]
     },
     "execution_count": 45,
     "metadata": {},
     "output_type": "execute_result"
    }
   ],
   "source": [
    "from sklearn.dummy import DummyClassifier\n",
    "\n",
    "zero_r = DummyClassifier(strategy='most_frequent').fit(X_train, y_train)\n",
    "y_pred_zero_r, zero_r_report = cross_val_report(zero_r, X_train, y_train)\n",
    "zero_r_report"
   ]
  },
  {
   "cell_type": "markdown",
   "id": "13071b38",
   "metadata": {},
   "source": [
    "### 1R"
   ]
  },
  {
   "cell_type": "code",
   "execution_count": 46,
   "id": "288f9f81",
   "metadata": {},
   "outputs": [
    {
     "name": "stdout",
     "output_type": "stream",
     "text": [
      "DecisionTreeClassifier prediction took 1.2957539558410645 seconds.\n",
      "\n",
      "   3.0_precision  3.0_recall  3.0_f1-score  4.0_precision  4.0_recall  \\\n",
      "0            0.0         0.0           0.0       0.702644         1.0   \n",
      "1            0.0         0.0           0.0       0.702644         1.0   \n",
      "2            0.0         0.0           0.0       0.702644         1.0   \n",
      "3            0.0         0.0           0.0       0.702949         1.0   \n",
      "4            0.0         0.0           0.0       0.702949         1.0   \n",
      "5            0.0         0.0           0.0       0.702949         1.0   \n",
      "6            0.0         0.0           0.0       0.702949         1.0   \n",
      "7            0.0         0.0           0.0       0.702949         1.0   \n",
      "8            0.0         0.0           0.0       0.702515         1.0   \n",
      "9            0.0         0.0           0.0       0.702515         1.0   \n",
      "\n",
      "   4.0_f1-score  5.0_precision  5.0_recall  5.0_f1-score  accuracy  \n",
      "0      0.825356            0.0         0.0           0.0  0.702644  \n",
      "1      0.825356            0.0         0.0           0.0  0.702644  \n",
      "2      0.825356            0.0         0.0           0.0  0.702644  \n",
      "3      0.825567            0.0         0.0           0.0  0.702949  \n",
      "4      0.825567            0.0         0.0           0.0  0.702949  \n",
      "5      0.825567            0.0         0.0           0.0  0.702949  \n",
      "6      0.825567            0.0         0.0           0.0  0.702949  \n",
      "7      0.825567            0.0         0.0           0.0  0.702949  \n",
      "8      0.825267            0.0         0.0           0.0  0.702515  \n",
      "9      0.825267            0.0         0.0           0.0  0.702515  \n"
     ]
    },
    {
     "data": {
      "image/png": "[encoded data removed]",
      "text/plain": [
       "<Figure size 432x288 with 2 Axes>"
      ]
     },
     "metadata": {
      "needs_background": "light"
     },
     "output_type": "display_data"
    },
    {
     "data": {
      "text/html": [
       "<div>\n",
       "<style scoped>\n",
       "    .dataframe tbody tr th:only-of-type {\n",
       "        vertical-align: middle;\n",
       "    }\n",
       "\n",
       "    .dataframe tbody tr th {\n",
       "        vertical-align: top;\n",
       "    }\n",
       "\n",
       "    .dataframe thead th {\n",
       "        text-align: right;\n",
       "    }\n",
       "</style>\n",
       "<table border=\"1\" class=\"dataframe\">\n",
       "  <thead>\n",
       "    <tr style=\"text-align: right;\">\n",
       "      <th></th>\n",
       "      <th>mean</th>\n",
       "      <th>std</th>\n",
       "    </tr>\n",
       "  </thead>\n",
       "  <tbody>\n",
       "    <tr>\n",
       "      <th>3.0_precision</th>\n",
       "      <td>0.000000</td>\n",
       "      <td>0.000000</td>\n",
       "    </tr>\n",
       "    <tr>\n",
       "      <th>3.0_recall</th>\n",
       "      <td>0.000000</td>\n",
       "      <td>0.000000</td>\n",
       "    </tr>\n",
       "    <tr>\n",
       "      <th>3.0_f1-score</th>\n",
       "      <td>0.000000</td>\n",
       "      <td>0.000000</td>\n",
       "    </tr>\n",
       "    <tr>\n",
       "      <th>4.0_precision</th>\n",
       "      <td>0.702771</td>\n",
       "      <td>0.000194</td>\n",
       "    </tr>\n",
       "    <tr>\n",
       "      <th>4.0_recall</th>\n",
       "      <td>1.000000</td>\n",
       "      <td>0.000000</td>\n",
       "    </tr>\n",
       "    <tr>\n",
       "      <th>4.0_f1-score</th>\n",
       "      <td>0.825444</td>\n",
       "      <td>0.000134</td>\n",
       "    </tr>\n",
       "    <tr>\n",
       "      <th>5.0_precision</th>\n",
       "      <td>0.000000</td>\n",
       "      <td>0.000000</td>\n",
       "    </tr>\n",
       "    <tr>\n",
       "      <th>5.0_recall</th>\n",
       "      <td>0.000000</td>\n",
       "      <td>0.000000</td>\n",
       "    </tr>\n",
       "    <tr>\n",
       "      <th>5.0_f1-score</th>\n",
       "      <td>0.000000</td>\n",
       "      <td>0.000000</td>\n",
       "    </tr>\n",
       "    <tr>\n",
       "      <th>accuracy</th>\n",
       "      <td>0.702771</td>\n",
       "      <td>0.000194</td>\n",
       "    </tr>\n",
       "  </tbody>\n",
       "</table>\n",
       "</div>"
      ],
      "text/plain": [
       "                   mean       std\n",
       "3.0_precision  0.000000  0.000000\n",
       "3.0_recall     0.000000  0.000000\n",
       "3.0_f1-score   0.000000  0.000000\n",
       "4.0_precision  0.702771  0.000194\n",
       "4.0_recall     1.000000  0.000000\n",
       "4.0_f1-score   0.825444  0.000134\n",
       "5.0_precision  0.000000  0.000000\n",
       "5.0_recall     0.000000  0.000000\n",
       "5.0_f1-score   0.000000  0.000000\n",
       "accuracy       0.702771  0.000194"
      ]
     },
     "execution_count": 46,
     "metadata": {},
     "output_type": "execute_result"
    }
   ],
   "source": [
    "from sklearn.tree import DecisionTreeClassifier\n",
    "\n",
    "one_r = DecisionTreeClassifier(max_depth=1).fit(X_train, y_train)\n",
    "y_pred_one_r, one_r_report = cross_val_report(one_r, X_train, y_train)\n",
    "one_r_report"
   ]
  },
  {
   "cell_type": "code",
   "execution_count": 88,
   "id": "440c64ed",
   "metadata": {},
   "outputs": [
    {
     "data": {
      "text/plain": [
       "[Text(0.5, 0.75, 'x[1] <= 0.25\\ngini = 0.44\\nsamples = 23063\\nvalue = [5864, 16208, 991]'),\n",
       " Text(0.25, 0.25, 'gini = 0.452\\nsamples = 17602\\nvalue = [4900, 12063, 639]'),\n",
       " Text(0.75, 0.25, 'gini = 0.389\\nsamples = 5461\\nvalue = [964, 4145, 352]')]"
      ]
     },
     "execution_count": 88,
     "metadata": {},
     "output_type": "execute_result"
    },
    {
     "data": {
      "image/png": "[encoded data removed]",
      "text/plain": [
       "<Figure size 640x480 with 1 Axes>"
      ]
     },
     "metadata": {},
     "output_type": "display_data"
    }
   ],
   "source": [
    "# Look at the Decision Stump\n",
    "from sklearn import tree\n",
    "tree.plot_tree(one_r)"
   ]
  },
  {
   "cell_type": "markdown",
   "id": "4c5f522f",
   "metadata": {},
   "source": [
    "# 3. Final predictions on the test set"
   ]
  },
  {
   "cell_type": "code",
   "execution_count": 89,
   "id": "d8bb1fca",
   "metadata": {},
   "outputs": [],
   "source": [
    "## X_test = pd.read_csv(DATASET_DIR + \"test_df.csv\", keep_default_na=False)  # Alternative\n",
    "X_test = test_df"
   ]
  },
  {
   "cell_type": "code",
   "execution_count": 90,
   "id": "4397d176",
   "metadata": {},
   "outputs": [],
   "source": [
    "# Linear SVM\n",
    "X_test_lsvm = X_test[LSVM_FEATURES]\n",
    "get_pred_df(lsvm.predict(X_test_lsvm)).to_csv(PREDICTION_DIR+\"lsvm_pred.csv\", index=False)"
   ]
  },
  {
   "cell_type": "code",
   "execution_count": 91,
   "id": "dc9eff23",
   "metadata": {},
   "outputs": [],
   "source": [
    "# Stacking NB\n",
    "get_pred_df(cvsnb.predict(X_test)).to_csv(PREDICTION_DIR+\"cvsnb_pred.csv\", index=False)"
   ]
  },
  {
   "cell_type": "code",
   "execution_count": 29,
   "id": "7925e81e",
   "metadata": {},
   "outputs": [],
   "source": [
    "# Logistic Regression\n",
    "X_test_logr = pd.read_csv(DATASET_DIR + \"test_df_300.csv\", keep_default_na=False)\n",
    "get_pred_df(logr.predict(X_test_logr[LR_FEATURES])).to_csv(PREDICTION_DIR+\"logr_pred.csv\", index=False)"
   ]
  },
  {
   "cell_type": "code",
   "execution_count": null,
   "id": "ea5330a2",
   "metadata": {},
   "outputs": [],
   "source": [
    "# Stacking Clf\n",
    "get_pred_df(sclf.predict(X_test_sclf)).to_csv(PREDICTION_DIR+\"sclf_pred.csv\", index=False)\n",
    "pd.read_csv(\"sclf_pred.csv\")  # how the results look"
   ]
  },
  {
   "cell_type": "code",
   "execution_count": null,
   "id": "2ebf9eed",
   "metadata": {},
   "outputs": [],
   "source": []
  }
 ],
 "metadata": {
  "kernelspec": {
   "display_name": "Python 3 (ipykernel)",
   "language": "python",
   "name": "python3"
  },
  "language_info": {
   "codemirror_mode": {
    "name": "ipython",
    "version": 3
   },
   "file_extension": ".py",
   "mimetype": "text/x-python",
   "name": "python",
   "nbconvert_exporter": "python",
   "pygments_lexer": "ipython3",
   "version": "3.9.16"
  }
 },
 "nbformat": 4,
 "nbformat_minor": 5
}
