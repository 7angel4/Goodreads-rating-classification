{
 "cells": [
  {
   "cell_type": "code",
   "execution_count": 1,
   "id": "61bc517d",
   "metadata": {},
   "outputs": [],
   "source": [
    "%run Global.ipynb"
   ]
  },
  {
   "cell_type": "code",
   "execution_count": 2,
   "id": "4f76d5e6",
   "metadata": {},
   "outputs": [],
   "source": [
    "train_df_ohe_selected = pd.read_csv(DATASET_DIR + \"train_df.csv\", keep_default_na=False)\n",
    "\n",
    "X = train_df_ohe_selected.iloc[:,:-1] # (transformed) attributes\n",
    "y = train_df_ohe_selected.iloc[:,-1]  # ground truth labels"
   ]
  },
  {
   "cell_type": "code",
   "execution_count": 3,
   "id": "d669399e",
   "metadata": {},
   "outputs": [],
   "source": [
    "# run in terminal: python -m pip install mlxtend\n",
    "# https://rasbt.github.io/mlxtend/user_guide/classifier/StackingCVClassifier/#example-3-stacked-cv-classification-and-gridsearch\n",
    "import mlxtend\n",
    "from mlxtend.classifier import StackingCVClassifier"
   ]
  },
  {
   "cell_type": "code",
   "execution_count": 4,
   "id": "deb6691e",
   "metadata": {},
   "outputs": [],
   "source": [
    "from sklearn.tree import DecisionTreeClassifier\n",
    "from sklearn.pipeline import Pipeline\n",
    "from sklearn.naive_bayes import GaussianNB, MultinomialNB, CategoricalNB\n",
    "from sklearn.linear_model import LogisticRegression\n",
    "from sklearn import svm"
   ]
  },
  {
   "cell_type": "markdown",
   "id": "5b46ce31",
   "metadata": {},
   "source": [
    "## StackingClf1 - 3 Base Classifiers"
   ]
  },
  {
   "cell_type": "code",
   "execution_count": 5,
   "id": "f855d3e5",
   "metadata": {},
   "outputs": [],
   "source": [
    "mnb = MultinomialNB()\n",
    "linearSVM = svm.LinearSVC(random_state=30027)\n",
    "logr = LogisticRegression(solver='sag', max_iter=50, random_state = 30027)"
   ]
  },
  {
   "cell_type": "code",
   "execution_count": 6,
   "id": "925cd85d",
   "metadata": {},
   "outputs": [
    {
     "name": "stdout",
     "output_type": "stream",
     "text": [
      "Fitting 2 folds for each of 4 candidates, totalling 8 fits\n",
      "[CV] END linearsvc__C=1, logisticregression__C=1, multinomialnb__alpha=0.5; total time=  12.9s\n",
      "[CV] END linearsvc__C=1, logisticregression__C=1, multinomialnb__alpha=0.5; total time=  13.8s\n",
      "[CV] END linearsvc__C=1, logisticregression__C=1, multinomialnb__alpha=1; total time=  12.4s\n",
      "[CV] END linearsvc__C=1, logisticregression__C=1, multinomialnb__alpha=1; total time=  12.7s\n",
      "[CV] END linearsvc__C=5, logisticregression__C=1, multinomialnb__alpha=0.5; total time=  14.3s\n",
      "[CV] END linearsvc__C=5, logisticregression__C=1, multinomialnb__alpha=0.5; total time=  14.0s\n",
      "[CV] END linearsvc__C=5, logisticregression__C=1, multinomialnb__alpha=1; total time=  13.8s\n",
      "[CV] END linearsvc__C=5, logisticregression__C=1, multinomialnb__alpha=1; total time=  14.1s\n",
      "0.7337292874990828\n"
     ]
    },
    {
     "data": {
      "text/plain": [
       "array([{'linearsvc__C': 5, 'logisticregression__C': 1, 'multinomialnb__alpha': 1}],\n",
       "      dtype=object)"
      ]
     },
     "execution_count": 6,
     "metadata": {},
     "output_type": "execute_result"
    }
   ],
   "source": [
    "# tune hyperparameters\n",
    "param_grid = {'linearsvc__C': [1,5], 'multinomialnb__alpha': [0.5, 1], 'logisticregression__C': [1]}\n",
    "sclf3 = StackingCVClassifier(classifiers=[mnb, linearSVM, logr], \n",
    "                            meta_classifier=CategoricalNB(),\n",
    "                            cv = 2,\n",
    "                            random_state=30027)\n",
    "sclf3.meta_classifier = CategoricalNB()\n",
    "grid = tune_hyperparameter(sclf3, param_grid, X, y, cv=2)\n",
    "print(max(grid['mean_test_accuracy']))\n",
    "grid.loc[grid['mean_test_accuracy'] == max(grid['mean_test_accuracy'])]['params'].values"
   ]
  },
  {
   "cell_type": "code",
   "execution_count": 8,
   "id": "5f391b04",
   "metadata": {},
   "outputs": [
    {
     "name": "stdout",
     "output_type": "stream",
     "text": [
      "StackingCVClassifier prediction took 303.52299642562866 seconds.\n",
      "\n",
      "   3.0_precision  3.0_recall  3.0_f1-score  4.0_precision  4.0_recall  \\\n",
      "0       0.707182    0.218058      0.333333       0.743159    0.954966   \n",
      "1       0.708333    0.202726      0.315232       0.743798    0.961752   \n",
      "2       0.682081    0.201365      0.310935       0.741305    0.959901   \n",
      "3       0.680723    0.192833      0.300532       0.741076    0.960518   \n",
      "4       0.754491    0.215017      0.334661       0.744175    0.965453   \n",
      "5       0.666667    0.184300      0.288770       0.740229    0.958051   \n",
      "6       0.724138    0.179181      0.287278       0.739849    0.966687   \n",
      "7       0.717791    0.199659      0.312417       0.742424    0.967304   \n",
      "8       0.707602    0.206133      0.319261       0.741412    0.959259   \n",
      "9       0.707792    0.185690      0.294197       0.740229    0.958642   \n",
      "\n",
      "   4.0_f1-score  5.0_precision  5.0_recall  5.0_f1-score  accuracy  \n",
      "0      0.835853       0.441860    0.191919      0.267606  0.734720  \n",
      "1      0.838849       0.627907    0.272727      0.380282  0.739055  \n",
      "2      0.836559       0.542857    0.190000      0.281481  0.733853  \n",
      "3      0.836647       0.564103    0.222222      0.318841  0.733738  \n",
      "4      0.840494       0.500000    0.181818      0.266667  0.741110  \n",
      "5      0.835171       0.586957    0.272727      0.372414  0.732003  \n",
      "6      0.838192       0.627907    0.272727      0.380282  0.736774  \n",
      "7      0.840075       0.645161    0.202020      0.307692  0.739376  \n",
      "8      0.836383       0.564103    0.222222      0.318841  0.735906  \n",
      "9      0.835395       0.500000    0.272727      0.352941  0.732437  \n"
     ]
    },
    {
     "data": {
      "image/png": "[encoded data removed]",
      "text/plain": [
       "<Figure size 432x288 with 2 Axes>"
      ]
     },
     "metadata": {
      "needs_background": "light"
     },
     "output_type": "display_data"
    },
    {
     "data": {
      "text/html": [
       "<div>\n",
       "<style scoped>\n",
       "    .dataframe tbody tr th:only-of-type {\n",
       "        vertical-align: middle;\n",
       "    }\n",
       "\n",
       "    .dataframe tbody tr th {\n",
       "        vertical-align: top;\n",
       "    }\n",
       "\n",
       "    .dataframe thead th {\n",
       "        text-align: right;\n",
       "    }\n",
       "</style>\n",
       "<table border=\"1\" class=\"dataframe\">\n",
       "  <thead>\n",
       "    <tr style=\"text-align: right;\">\n",
       "      <th></th>\n",
       "      <th>mean</th>\n",
       "      <th>std</th>\n",
       "    </tr>\n",
       "  </thead>\n",
       "  <tbody>\n",
       "    <tr>\n",
       "      <th>3.0_precision</th>\n",
       "      <td>0.705680</td>\n",
       "      <td>0.024920</td>\n",
       "    </tr>\n",
       "    <tr>\n",
       "      <th>3.0_recall</th>\n",
       "      <td>0.198496</td>\n",
       "      <td>0.012962</td>\n",
       "    </tr>\n",
       "    <tr>\n",
       "      <th>3.0_f1-score</th>\n",
       "      <td>0.309662</td>\n",
       "      <td>0.016924</td>\n",
       "    </tr>\n",
       "    <tr>\n",
       "      <th>4.0_precision</th>\n",
       "      <td>0.741766</td>\n",
       "      <td>0.001546</td>\n",
       "    </tr>\n",
       "    <tr>\n",
       "      <th>4.0_recall</th>\n",
       "      <td>0.961253</td>\n",
       "      <td>0.004041</td>\n",
       "    </tr>\n",
       "    <tr>\n",
       "      <th>4.0_f1-score</th>\n",
       "      <td>0.837362</td>\n",
       "      <td>0.001919</td>\n",
       "    </tr>\n",
       "    <tr>\n",
       "      <th>5.0_precision</th>\n",
       "      <td>0.560085</td>\n",
       "      <td>0.065563</td>\n",
       "    </tr>\n",
       "    <tr>\n",
       "      <th>5.0_recall</th>\n",
       "      <td>0.230111</td>\n",
       "      <td>0.038841</td>\n",
       "    </tr>\n",
       "    <tr>\n",
       "      <th>5.0_f1-score</th>\n",
       "      <td>0.324705</td>\n",
       "      <td>0.044853</td>\n",
       "    </tr>\n",
       "    <tr>\n",
       "      <th>accuracy</th>\n",
       "      <td>0.735897</td>\n",
       "      <td>0.003116</td>\n",
       "    </tr>\n",
       "  </tbody>\n",
       "</table>\n",
       "</div>"
      ],
      "text/plain": [
       "                   mean       std\n",
       "3.0_precision  0.705680  0.024920\n",
       "3.0_recall     0.198496  0.012962\n",
       "3.0_f1-score   0.309662  0.016924\n",
       "4.0_precision  0.741766  0.001546\n",
       "4.0_recall     0.961253  0.004041\n",
       "4.0_f1-score   0.837362  0.001919\n",
       "5.0_precision  0.560085  0.065563\n",
       "5.0_recall     0.230111  0.038841\n",
       "5.0_f1-score   0.324705  0.044853\n",
       "accuracy       0.735897  0.003116"
      ]
     },
     "execution_count": 8,
     "metadata": {},
     "output_type": "execute_result"
    }
   ],
   "source": [
    "mnb = MultinomialNB(alpha = 1)\n",
    "linearSVM = svm.LinearSVC(random_state=30027, C=5)\n",
    "logr = LogisticRegression(solver='sag', max_iter=50, C=1, random_state = 30027)\n",
    "\n",
    "sclf3 = StackingCVClassifier(classifiers=[mnb, linearSVM, logr], \n",
    "                            meta_classifier=CategoricalNB(),\n",
    "                            cv = 2,\n",
    "                            random_state=30027)\n",
    "y_pred3, sclf3_report = cross_val_report(sclf3, X, y)\n",
    "sclf3_report"
   ]
  },
  {
   "cell_type": "markdown",
   "id": "e704c602",
   "metadata": {},
   "source": [
    "## StackingClf2 - 4 Base Classifiers"
   ]
  },
  {
   "cell_type": "markdown",
   "id": "6ce142ce",
   "metadata": {},
   "source": [
    "### Observe DT's performance"
   ]
  },
  {
   "cell_type": "code",
   "execution_count": 9,
   "id": "1ac7413b",
   "metadata": {},
   "outputs": [
    {
     "name": "stdout",
     "output_type": "stream",
     "text": [
      "DecisionTreeClassifier prediction took 27.65723419189453 seconds.\n",
      "\n",
      "   3.0_precision  3.0_recall  3.0_f1-score  4.0_precision  4.0_recall  \\\n",
      "0       0.412651    0.233390      0.298150       0.730093    0.871067   \n",
      "1       0.456026    0.238501      0.313199       0.732179    0.887107   \n",
      "2       0.423948    0.223549      0.292737       0.730710    0.882171   \n",
      "3       0.415584    0.218430      0.286353       0.730710    0.882171   \n",
      "4       0.461806    0.226962      0.304348       0.733367    0.897594   \n",
      "5       0.455197    0.216724      0.293642       0.732458    0.895126   \n",
      "6       0.403785    0.218430      0.283499       0.725691    0.874769   \n",
      "7       0.427692    0.237201      0.305159       0.731282    0.879704   \n",
      "8       0.455128    0.241908      0.315907       0.734558    0.888272   \n",
      "9       0.428571    0.240204      0.307860       0.730093    0.871605   \n",
      "\n",
      "   4.0_f1-score  5.0_precision  5.0_recall  5.0_f1-score  accuracy  \n",
      "0      0.794374       0.341463    0.141414      0.200000  0.677503  \n",
      "1      0.802232       0.305556    0.111111      0.162963  0.688773  \n",
      "2      0.799329       0.292683    0.120000      0.170213  0.681838  \n",
      "3      0.799329       0.341463    0.141414      0.200000  0.681700  \n",
      "4      0.807212       0.352941    0.121212      0.180451  0.693842  \n",
      "5      0.805664       0.413043    0.191919      0.262069  0.692541  \n",
      "6      0.793287       0.342857    0.121212      0.179104  0.675629  \n",
      "7      0.798656       0.322581    0.101010      0.153846  0.683001  \n",
      "8      0.804135       0.400000    0.141414      0.208955  0.691674  \n",
      "9      0.794598       0.418605    0.181818      0.253521  0.681266  \n"
     ]
    },
    {
     "data": {
      "image/png": "[encoded data removed]",
      "text/plain": [
       "<Figure size 432x288 with 2 Axes>"
      ]
     },
     "metadata": {
      "needs_background": "light"
     },
     "output_type": "display_data"
    },
    {
     "data": {
      "text/html": [
       "<div>\n",
       "<style scoped>\n",
       "    .dataframe tbody tr th:only-of-type {\n",
       "        vertical-align: middle;\n",
       "    }\n",
       "\n",
       "    .dataframe tbody tr th {\n",
       "        vertical-align: top;\n",
       "    }\n",
       "\n",
       "    .dataframe thead th {\n",
       "        text-align: right;\n",
       "    }\n",
       "</style>\n",
       "<table border=\"1\" class=\"dataframe\">\n",
       "  <thead>\n",
       "    <tr style=\"text-align: right;\">\n",
       "      <th></th>\n",
       "      <th>mean</th>\n",
       "      <th>std</th>\n",
       "    </tr>\n",
       "  </thead>\n",
       "  <tbody>\n",
       "    <tr>\n",
       "      <th>3.0_precision</th>\n",
       "      <td>0.434039</td>\n",
       "      <td>0.021166</td>\n",
       "    </tr>\n",
       "    <tr>\n",
       "      <th>3.0_recall</th>\n",
       "      <td>0.229530</td>\n",
       "      <td>0.009855</td>\n",
       "    </tr>\n",
       "    <tr>\n",
       "      <th>3.0_f1-score</th>\n",
       "      <td>0.300086</td>\n",
       "      <td>0.011003</td>\n",
       "    </tr>\n",
       "    <tr>\n",
       "      <th>4.0_precision</th>\n",
       "      <td>0.731114</td>\n",
       "      <td>0.002397</td>\n",
       "    </tr>\n",
       "    <tr>\n",
       "      <th>4.0_recall</th>\n",
       "      <td>0.882959</td>\n",
       "      <td>0.009171</td>\n",
       "    </tr>\n",
       "    <tr>\n",
       "      <th>4.0_f1-score</th>\n",
       "      <td>0.799882</td>\n",
       "      <td>0.004884</td>\n",
       "    </tr>\n",
       "    <tr>\n",
       "      <th>5.0_precision</th>\n",
       "      <td>0.353119</td>\n",
       "      <td>0.043845</td>\n",
       "    </tr>\n",
       "    <tr>\n",
       "      <th>5.0_recall</th>\n",
       "      <td>0.137253</td>\n",
       "      <td>0.029506</td>\n",
       "    </tr>\n",
       "    <tr>\n",
       "      <th>5.0_f1-score</th>\n",
       "      <td>0.197112</td>\n",
       "      <td>0.036396</td>\n",
       "    </tr>\n",
       "    <tr>\n",
       "      <th>accuracy</th>\n",
       "      <td>0.684777</td>\n",
       "      <td>0.006465</td>\n",
       "    </tr>\n",
       "  </tbody>\n",
       "</table>\n",
       "</div>"
      ],
      "text/plain": [
       "                   mean       std\n",
       "3.0_precision  0.434039  0.021166\n",
       "3.0_recall     0.229530  0.009855\n",
       "3.0_f1-score   0.300086  0.011003\n",
       "4.0_precision  0.731114  0.002397\n",
       "4.0_recall     0.882959  0.009171\n",
       "4.0_f1-score   0.799882  0.004884\n",
       "5.0_precision  0.353119  0.043845\n",
       "5.0_recall     0.137253  0.029506\n",
       "5.0_f1-score   0.197112  0.036396\n",
       "accuracy       0.684777  0.006465"
      ]
     },
     "execution_count": 9,
     "metadata": {},
     "output_type": "execute_result"
    }
   ],
   "source": [
    "# look at dt's performance\n",
    "dt = DecisionTreeClassifier(criterion = \"entropy\", max_depth = 200, random_state = 30027)\n",
    "y_pred_dt, dt_report = cross_val_report(dt, X, y)\n",
    "dt_report"
   ]
  },
  {
   "cell_type": "code",
   "execution_count": 10,
   "id": "a8bc58a9",
   "metadata": {},
   "outputs": [
    {
     "name": "stdout",
     "output_type": "stream",
     "text": [
      "DecisionTreeClassifier prediction took 28.367126941680908 seconds.\n",
      "\n",
      "   3.0_precision  3.0_recall  3.0_f1-score  4.0_precision  4.0_recall  \\\n",
      "0       0.412979    0.238501      0.302376       0.729632    0.867366   \n",
      "1       0.450000    0.245315      0.317530       0.733367    0.884022   \n",
      "2       0.403175    0.216724      0.281909       0.727459    0.876002   \n",
      "3       0.417178    0.232082      0.298246       0.731266    0.872918   \n",
      "4       0.459016    0.238908      0.314254       0.735234    0.890808   \n",
      "5       0.459930    0.225256      0.302405       0.733536    0.893276   \n",
      "6       0.413793    0.225256      0.291713       0.726807    0.874769   \n",
      "7       0.425926    0.235495      0.303297       0.731282    0.879704   \n",
      "8       0.446541    0.241908      0.313812       0.734391    0.885802   \n",
      "9       0.428135    0.238501      0.306346       0.729758    0.873457   \n",
      "\n",
      "   4.0_f1-score  5.0_precision  5.0_recall  5.0_f1-score  accuracy  \n",
      "0      0.792559       0.341463    0.141414      0.200000  0.676203  \n",
      "1      0.801678       0.333333    0.111111      0.166667  0.688340  \n",
      "2      0.794850       0.250000    0.100000      0.142857  0.674902  \n",
      "3      0.795838       0.311111    0.141414      0.194444  0.678664  \n",
      "4      0.805579       0.324324    0.121212      0.176471  0.692108  \n",
      "5      0.805563       0.400000    0.181818      0.250000  0.692975  \n",
      "6      0.793953       0.361111    0.131313      0.192593  0.677797  \n",
      "7      0.798656       0.375000    0.121212      0.183206  0.683435  \n",
      "8      0.803022       0.411765    0.141414      0.210526  0.689939  \n",
      "9      0.795167       0.425000    0.171717      0.244604  0.681700  \n"
     ]
    },
    {
     "data": {
      "image/png": "[encoded data removed]",
      "text/plain": [
       "<Figure size 432x288 with 2 Axes>"
      ]
     },
     "metadata": {
      "needs_background": "light"
     },
     "output_type": "display_data"
    },
    {
     "data": {
      "text/html": [
       "<div>\n",
       "<style scoped>\n",
       "    .dataframe tbody tr th:only-of-type {\n",
       "        vertical-align: middle;\n",
       "    }\n",
       "\n",
       "    .dataframe tbody tr th {\n",
       "        vertical-align: top;\n",
       "    }\n",
       "\n",
       "    .dataframe thead th {\n",
       "        text-align: right;\n",
       "    }\n",
       "</style>\n",
       "<table border=\"1\" class=\"dataframe\">\n",
       "  <thead>\n",
       "    <tr style=\"text-align: right;\">\n",
       "      <th></th>\n",
       "      <th>mean</th>\n",
       "      <th>std</th>\n",
       "    </tr>\n",
       "  </thead>\n",
       "  <tbody>\n",
       "    <tr>\n",
       "      <th>3.0_precision</th>\n",
       "      <td>0.431667</td>\n",
       "      <td>0.020656</td>\n",
       "    </tr>\n",
       "    <tr>\n",
       "      <th>3.0_recall</th>\n",
       "      <td>0.233795</td>\n",
       "      <td>0.008895</td>\n",
       "    </tr>\n",
       "    <tr>\n",
       "      <th>3.0_f1-score</th>\n",
       "      <td>0.303189</td>\n",
       "      <td>0.010859</td>\n",
       "    </tr>\n",
       "    <tr>\n",
       "      <th>4.0_precision</th>\n",
       "      <td>0.731273</td>\n",
       "      <td>0.002875</td>\n",
       "    </tr>\n",
       "    <tr>\n",
       "      <th>4.0_recall</th>\n",
       "      <td>0.879812</td>\n",
       "      <td>0.008423</td>\n",
       "    </tr>\n",
       "    <tr>\n",
       "      <th>4.0_f1-score</th>\n",
       "      <td>0.798687</td>\n",
       "      <td>0.004918</td>\n",
       "    </tr>\n",
       "    <tr>\n",
       "      <th>5.0_precision</th>\n",
       "      <td>0.353311</td>\n",
       "      <td>0.052811</td>\n",
       "    </tr>\n",
       "    <tr>\n",
       "      <th>5.0_recall</th>\n",
       "      <td>0.136263</td>\n",
       "      <td>0.025467</td>\n",
       "    </tr>\n",
       "    <tr>\n",
       "      <th>5.0_f1-score</th>\n",
       "      <td>0.196137</td>\n",
       "      <td>0.032912</td>\n",
       "    </tr>\n",
       "    <tr>\n",
       "      <th>accuracy</th>\n",
       "      <td>0.683606</td>\n",
       "      <td>0.006790</td>\n",
       "    </tr>\n",
       "  </tbody>\n",
       "</table>\n",
       "</div>"
      ],
      "text/plain": [
       "                   mean       std\n",
       "3.0_precision  0.431667  0.020656\n",
       "3.0_recall     0.233795  0.008895\n",
       "3.0_f1-score   0.303189  0.010859\n",
       "4.0_precision  0.731273  0.002875\n",
       "4.0_recall     0.879812  0.008423\n",
       "4.0_f1-score   0.798687  0.004918\n",
       "5.0_precision  0.353311  0.052811\n",
       "5.0_recall     0.136263  0.025467\n",
       "5.0_f1-score   0.196137  0.032912\n",
       "accuracy       0.683606  0.006790"
      ]
     },
     "execution_count": 10,
     "metadata": {},
     "output_type": "execute_result"
    }
   ],
   "source": [
    "# look at dt's performance\n",
    "dt = DecisionTreeClassifier(criterion = \"entropy\", max_depth = 400, random_state = 30027)\n",
    "y_pred_dt, dt_report = cross_val_report(dt, X, y)\n",
    "dt_report"
   ]
  },
  {
   "cell_type": "markdown",
   "id": "3b767708",
   "metadata": {},
   "source": [
    "### Train StackingClf2"
   ]
  },
  {
   "cell_type": "code",
   "execution_count": 11,
   "id": "3092e3e0",
   "metadata": {},
   "outputs": [
    {
     "name": "stdout",
     "output_type": "stream",
     "text": [
      "Fitting 2 folds for each of 72 candidates, totalling 144 fits\n",
      "[CV] END decisiontreeclassifier__criterion=gini, decisiontreeclassifier__max_depth=200, linearsvc__C=1, logisticregression__C=0.5, multinomialnb__alpha=0.5; total time=  13.5s\n",
      "[CV] END decisiontreeclassifier__criterion=gini, decisiontreeclassifier__max_depth=200, linearsvc__C=1, logisticregression__C=0.5, multinomialnb__alpha=0.5; total time=  12.7s\n",
      "[CV] END decisiontreeclassifier__criterion=gini, decisiontreeclassifier__max_depth=200, linearsvc__C=1, logisticregression__C=0.5, multinomialnb__alpha=1; total time=  14.5s\n",
      "[CV] END decisiontreeclassifier__criterion=gini, decisiontreeclassifier__max_depth=200, linearsvc__C=1, logisticregression__C=0.5, multinomialnb__alpha=1; total time=  14.0s\n",
      "[CV] END decisiontreeclassifier__criterion=gini, decisiontreeclassifier__max_depth=200, linearsvc__C=1, logisticregression__C=1, multinomialnb__alpha=0.5; total time=  18.3s\n",
      "[CV] END decisiontreeclassifier__criterion=gini, decisiontreeclassifier__max_depth=200, linearsvc__C=1, logisticregression__C=1, multinomialnb__alpha=0.5; total time=  14.7s\n",
      "[CV] END decisiontreeclassifier__criterion=gini, decisiontreeclassifier__max_depth=200, linearsvc__C=1, logisticregression__C=1, multinomialnb__alpha=1; total time=  13.1s\n",
      "[CV] END decisiontreeclassifier__criterion=gini, decisiontreeclassifier__max_depth=200, linearsvc__C=1, logisticregression__C=1, multinomialnb__alpha=1; total time=  14.1s\n",
      "[CV] END decisiontreeclassifier__criterion=gini, decisiontreeclassifier__max_depth=200, linearsvc__C=1, logisticregression__C=5, multinomialnb__alpha=0.5; total time=  20.0s\n",
      "[CV] END decisiontreeclassifier__criterion=gini, decisiontreeclassifier__max_depth=200, linearsvc__C=1, logisticregression__C=5, multinomialnb__alpha=0.5; total time=  20.6s\n",
      "[CV] END decisiontreeclassifier__criterion=gini, decisiontreeclassifier__max_depth=200, linearsvc__C=1, logisticregression__C=5, multinomialnb__alpha=1; total time=  17.1s\n",
      "[CV] END decisiontreeclassifier__criterion=gini, decisiontreeclassifier__max_depth=200, linearsvc__C=1, logisticregression__C=5, multinomialnb__alpha=1; total time=  12.5s\n",
      "[CV] END decisiontreeclassifier__criterion=gini, decisiontreeclassifier__max_depth=200, linearsvc__C=5, logisticregression__C=0.5, multinomialnb__alpha=0.5; total time=  11.5s\n",
      "[CV] END decisiontreeclassifier__criterion=gini, decisiontreeclassifier__max_depth=200, linearsvc__C=5, logisticregression__C=0.5, multinomialnb__alpha=0.5; total time=   9.9s\n",
      "[CV] END decisiontreeclassifier__criterion=gini, decisiontreeclassifier__max_depth=200, linearsvc__C=5, logisticregression__C=0.5, multinomialnb__alpha=1; total time=   9.9s\n",
      "[CV] END decisiontreeclassifier__criterion=gini, decisiontreeclassifier__max_depth=200, linearsvc__C=5, logisticregression__C=0.5, multinomialnb__alpha=1; total time=   9.8s\n",
      "[CV] END decisiontreeclassifier__criterion=gini, decisiontreeclassifier__max_depth=200, linearsvc__C=5, logisticregression__C=1, multinomialnb__alpha=0.5; total time=  12.5s\n",
      "[CV] END decisiontreeclassifier__criterion=gini, decisiontreeclassifier__max_depth=200, linearsvc__C=5, logisticregression__C=1, multinomialnb__alpha=0.5; total time=  13.1s\n",
      "[CV] END decisiontreeclassifier__criterion=gini, decisiontreeclassifier__max_depth=200, linearsvc__C=5, logisticregression__C=1, multinomialnb__alpha=1; total time=  15.2s\n",
      "[CV] END decisiontreeclassifier__criterion=gini, decisiontreeclassifier__max_depth=200, linearsvc__C=5, logisticregression__C=1, multinomialnb__alpha=1; total time=  13.7s\n",
      "[CV] END decisiontreeclassifier__criterion=gini, decisiontreeclassifier__max_depth=200, linearsvc__C=5, logisticregression__C=5, multinomialnb__alpha=0.5; total time=  15.9s\n",
      "[CV] END decisiontreeclassifier__criterion=gini, decisiontreeclassifier__max_depth=200, linearsvc__C=5, logisticregression__C=5, multinomialnb__alpha=0.5; total time=  14.9s\n",
      "[CV] END decisiontreeclassifier__criterion=gini, decisiontreeclassifier__max_depth=200, linearsvc__C=5, logisticregression__C=5, multinomialnb__alpha=1; total time=  18.0s\n",
      "[CV] END decisiontreeclassifier__criterion=gini, decisiontreeclassifier__max_depth=200, linearsvc__C=5, logisticregression__C=5, multinomialnb__alpha=1; total time=  15.4s\n",
      "[CV] END decisiontreeclassifier__criterion=gini, decisiontreeclassifier__max_depth=400, linearsvc__C=1, logisticregression__C=0.5, multinomialnb__alpha=0.5; total time=   8.8s\n",
      "[CV] END decisiontreeclassifier__criterion=gini, decisiontreeclassifier__max_depth=400, linearsvc__C=1, logisticregression__C=0.5, multinomialnb__alpha=0.5; total time=   8.6s\n",
      "[CV] END decisiontreeclassifier__criterion=gini, decisiontreeclassifier__max_depth=400, linearsvc__C=1, logisticregression__C=0.5, multinomialnb__alpha=1; total time=   8.1s\n",
      "[CV] END decisiontreeclassifier__criterion=gini, decisiontreeclassifier__max_depth=400, linearsvc__C=1, logisticregression__C=0.5, multinomialnb__alpha=1; total time=   8.2s\n",
      "[CV] END decisiontreeclassifier__criterion=gini, decisiontreeclassifier__max_depth=400, linearsvc__C=1, logisticregression__C=1, multinomialnb__alpha=0.5; total time=  12.9s\n",
      "[CV] END decisiontreeclassifier__criterion=gini, decisiontreeclassifier__max_depth=400, linearsvc__C=1, logisticregression__C=1, multinomialnb__alpha=0.5; total time=  12.2s\n",
      "[CV] END decisiontreeclassifier__criterion=gini, decisiontreeclassifier__max_depth=400, linearsvc__C=1, logisticregression__C=1, multinomialnb__alpha=1; total time=  11.3s\n",
      "[CV] END decisiontreeclassifier__criterion=gini, decisiontreeclassifier__max_depth=400, linearsvc__C=1, logisticregression__C=1, multinomialnb__alpha=1; total time=  12.0s\n",
      "[CV] END decisiontreeclassifier__criterion=gini, decisiontreeclassifier__max_depth=400, linearsvc__C=1, logisticregression__C=5, multinomialnb__alpha=0.5; total time=  13.6s\n",
      "[CV] END decisiontreeclassifier__criterion=gini, decisiontreeclassifier__max_depth=400, linearsvc__C=1, logisticregression__C=5, multinomialnb__alpha=0.5; total time=  12.8s\n",
      "[CV] END decisiontreeclassifier__criterion=gini, decisiontreeclassifier__max_depth=400, linearsvc__C=1, logisticregression__C=5, multinomialnb__alpha=1; total time=  13.8s\n",
      "[CV] END decisiontreeclassifier__criterion=gini, decisiontreeclassifier__max_depth=400, linearsvc__C=1, logisticregression__C=5, multinomialnb__alpha=1; total time=  13.9s\n",
      "[CV] END decisiontreeclassifier__criterion=gini, decisiontreeclassifier__max_depth=400, linearsvc__C=5, logisticregression__C=0.5, multinomialnb__alpha=0.5; total time=  11.7s\n",
      "[CV] END decisiontreeclassifier__criterion=gini, decisiontreeclassifier__max_depth=400, linearsvc__C=5, logisticregression__C=0.5, multinomialnb__alpha=0.5; total time=  11.0s\n",
      "[CV] END decisiontreeclassifier__criterion=gini, decisiontreeclassifier__max_depth=400, linearsvc__C=5, logisticregression__C=0.5, multinomialnb__alpha=1; total time=  11.5s\n",
      "[CV] END decisiontreeclassifier__criterion=gini, decisiontreeclassifier__max_depth=400, linearsvc__C=5, logisticregression__C=0.5, multinomialnb__alpha=1; total time=  10.9s\n",
      "[CV] END decisiontreeclassifier__criterion=gini, decisiontreeclassifier__max_depth=400, linearsvc__C=5, logisticregression__C=1, multinomialnb__alpha=0.5; total time=  13.4s\n",
      "[CV] END decisiontreeclassifier__criterion=gini, decisiontreeclassifier__max_depth=400, linearsvc__C=5, logisticregression__C=1, multinomialnb__alpha=0.5; total time=  11.6s\n",
      "[CV] END decisiontreeclassifier__criterion=gini, decisiontreeclassifier__max_depth=400, linearsvc__C=5, logisticregression__C=1, multinomialnb__alpha=1; total time=  12.9s\n",
      "[CV] END decisiontreeclassifier__criterion=gini, decisiontreeclassifier__max_depth=400, linearsvc__C=5, logisticregression__C=1, multinomialnb__alpha=1; total time=  13.0s\n",
      "[CV] END decisiontreeclassifier__criterion=gini, decisiontreeclassifier__max_depth=400, linearsvc__C=5, logisticregression__C=5, multinomialnb__alpha=0.5; total time=  15.8s\n",
      "[CV] END decisiontreeclassifier__criterion=gini, decisiontreeclassifier__max_depth=400, linearsvc__C=5, logisticregression__C=5, multinomialnb__alpha=0.5; total time=  13.9s\n",
      "[CV] END decisiontreeclassifier__criterion=gini, decisiontreeclassifier__max_depth=400, linearsvc__C=5, logisticregression__C=5, multinomialnb__alpha=1; total time=  14.4s\n"
     ]
    },
    {
     "name": "stdout",
     "output_type": "stream",
     "text": [
      "[CV] END decisiontreeclassifier__criterion=gini, decisiontreeclassifier__max_depth=400, linearsvc__C=5, logisticregression__C=5, multinomialnb__alpha=1; total time=  15.1s\n",
      "[CV] END decisiontreeclassifier__criterion=entropy, decisiontreeclassifier__max_depth=200, linearsvc__C=1, logisticregression__C=0.5, multinomialnb__alpha=0.5; total time=   8.8s\n",
      "[CV] END decisiontreeclassifier__criterion=entropy, decisiontreeclassifier__max_depth=200, linearsvc__C=1, logisticregression__C=0.5, multinomialnb__alpha=0.5; total time=   9.2s\n",
      "[CV] END decisiontreeclassifier__criterion=entropy, decisiontreeclassifier__max_depth=200, linearsvc__C=1, logisticregression__C=0.5, multinomialnb__alpha=1; total time=   8.1s\n",
      "[CV] END decisiontreeclassifier__criterion=entropy, decisiontreeclassifier__max_depth=200, linearsvc__C=1, logisticregression__C=0.5, multinomialnb__alpha=1; total time=   8.0s\n",
      "[CV] END decisiontreeclassifier__criterion=entropy, decisiontreeclassifier__max_depth=200, linearsvc__C=1, logisticregression__C=1, multinomialnb__alpha=0.5; total time=   9.2s\n",
      "[CV] END decisiontreeclassifier__criterion=entropy, decisiontreeclassifier__max_depth=200, linearsvc__C=1, logisticregression__C=1, multinomialnb__alpha=0.5; total time=   9.8s\n",
      "[CV] END decisiontreeclassifier__criterion=entropy, decisiontreeclassifier__max_depth=200, linearsvc__C=1, logisticregression__C=1, multinomialnb__alpha=1; total time=   9.5s\n",
      "[CV] END decisiontreeclassifier__criterion=entropy, decisiontreeclassifier__max_depth=200, linearsvc__C=1, logisticregression__C=1, multinomialnb__alpha=1; total time=  10.6s\n",
      "[CV] END decisiontreeclassifier__criterion=entropy, decisiontreeclassifier__max_depth=200, linearsvc__C=1, logisticregression__C=5, multinomialnb__alpha=0.5; total time=  12.5s\n",
      "[CV] END decisiontreeclassifier__criterion=entropy, decisiontreeclassifier__max_depth=200, linearsvc__C=1, logisticregression__C=5, multinomialnb__alpha=0.5; total time=  12.6s\n",
      "[CV] END decisiontreeclassifier__criterion=entropy, decisiontreeclassifier__max_depth=200, linearsvc__C=1, logisticregression__C=5, multinomialnb__alpha=1; total time=  12.4s\n",
      "[CV] END decisiontreeclassifier__criterion=entropy, decisiontreeclassifier__max_depth=200, linearsvc__C=1, logisticregression__C=5, multinomialnb__alpha=1; total time=  13.3s\n",
      "[CV] END decisiontreeclassifier__criterion=entropy, decisiontreeclassifier__max_depth=200, linearsvc__C=5, logisticregression__C=0.5, multinomialnb__alpha=0.5; total time=  10.7s\n",
      "[CV] END decisiontreeclassifier__criterion=entropy, decisiontreeclassifier__max_depth=200, linearsvc__C=5, logisticregression__C=0.5, multinomialnb__alpha=0.5; total time=  10.3s\n",
      "[CV] END decisiontreeclassifier__criterion=entropy, decisiontreeclassifier__max_depth=200, linearsvc__C=5, logisticregression__C=0.5, multinomialnb__alpha=1; total time=  11.0s\n",
      "[CV] END decisiontreeclassifier__criterion=entropy, decisiontreeclassifier__max_depth=200, linearsvc__C=5, logisticregression__C=0.5, multinomialnb__alpha=1; total time=  10.6s\n",
      "[CV] END decisiontreeclassifier__criterion=entropy, decisiontreeclassifier__max_depth=200, linearsvc__C=5, logisticregression__C=1, multinomialnb__alpha=0.5; total time=  12.0s\n",
      "[CV] END decisiontreeclassifier__criterion=entropy, decisiontreeclassifier__max_depth=200, linearsvc__C=5, logisticregression__C=1, multinomialnb__alpha=0.5; total time=  12.7s\n",
      "[CV] END decisiontreeclassifier__criterion=entropy, decisiontreeclassifier__max_depth=200, linearsvc__C=5, logisticregression__C=1, multinomialnb__alpha=1; total time=  12.9s\n",
      "[CV] END decisiontreeclassifier__criterion=entropy, decisiontreeclassifier__max_depth=200, linearsvc__C=5, logisticregression__C=1, multinomialnb__alpha=1; total time=  14.5s\n",
      "[CV] END decisiontreeclassifier__criterion=entropy, decisiontreeclassifier__max_depth=200, linearsvc__C=5, logisticregression__C=5, multinomialnb__alpha=0.5; total time=  13.9s\n",
      "[CV] END decisiontreeclassifier__criterion=entropy, decisiontreeclassifier__max_depth=200, linearsvc__C=5, logisticregression__C=5, multinomialnb__alpha=0.5; total time=  15.2s\n",
      "[CV] END decisiontreeclassifier__criterion=entropy, decisiontreeclassifier__max_depth=200, linearsvc__C=5, logisticregression__C=5, multinomialnb__alpha=1; total time=  17.6s\n",
      "[CV] END decisiontreeclassifier__criterion=entropy, decisiontreeclassifier__max_depth=200, linearsvc__C=5, logisticregression__C=5, multinomialnb__alpha=1; total time=  13.6s\n",
      "[CV] END decisiontreeclassifier__criterion=entropy, decisiontreeclassifier__max_depth=400, linearsvc__C=1, logisticregression__C=0.5, multinomialnb__alpha=0.5; total time=   8.1s\n",
      "[CV] END decisiontreeclassifier__criterion=entropy, decisiontreeclassifier__max_depth=400, linearsvc__C=1, logisticregression__C=0.5, multinomialnb__alpha=0.5; total time=   8.4s\n",
      "[CV] END decisiontreeclassifier__criterion=entropy, decisiontreeclassifier__max_depth=400, linearsvc__C=1, logisticregression__C=0.5, multinomialnb__alpha=1; total time=   8.0s\n",
      "[CV] END decisiontreeclassifier__criterion=entropy, decisiontreeclassifier__max_depth=400, linearsvc__C=1, logisticregression__C=0.5, multinomialnb__alpha=1; total time=   9.1s\n",
      "[CV] END decisiontreeclassifier__criterion=entropy, decisiontreeclassifier__max_depth=400, linearsvc__C=1, logisticregression__C=1, multinomialnb__alpha=0.5; total time=   9.5s\n",
      "[CV] END decisiontreeclassifier__criterion=entropy, decisiontreeclassifier__max_depth=400, linearsvc__C=1, logisticregression__C=1, multinomialnb__alpha=0.5; total time=  10.6s\n",
      "[CV] END decisiontreeclassifier__criterion=entropy, decisiontreeclassifier__max_depth=400, linearsvc__C=1, logisticregression__C=1, multinomialnb__alpha=1; total time=   9.4s\n",
      "[CV] END decisiontreeclassifier__criterion=entropy, decisiontreeclassifier__max_depth=400, linearsvc__C=1, logisticregression__C=1, multinomialnb__alpha=1; total time=  11.5s\n",
      "[CV] END decisiontreeclassifier__criterion=entropy, decisiontreeclassifier__max_depth=400, linearsvc__C=1, logisticregression__C=5, multinomialnb__alpha=0.5; total time=  13.8s\n",
      "[CV] END decisiontreeclassifier__criterion=entropy, decisiontreeclassifier__max_depth=400, linearsvc__C=1, logisticregression__C=5, multinomialnb__alpha=0.5; total time=  13.5s\n",
      "[CV] END decisiontreeclassifier__criterion=entropy, decisiontreeclassifier__max_depth=400, linearsvc__C=1, logisticregression__C=5, multinomialnb__alpha=1; total time=  12.0s\n",
      "[CV] END decisiontreeclassifier__criterion=entropy, decisiontreeclassifier__max_depth=400, linearsvc__C=1, logisticregression__C=5, multinomialnb__alpha=1; total time=  11.5s\n",
      "[CV] END decisiontreeclassifier__criterion=entropy, decisiontreeclassifier__max_depth=400, linearsvc__C=5, logisticregression__C=0.5, multinomialnb__alpha=0.5; total time=   9.8s\n",
      "[CV] END decisiontreeclassifier__criterion=entropy, decisiontreeclassifier__max_depth=400, linearsvc__C=5, logisticregression__C=0.5, multinomialnb__alpha=0.5; total time=   9.7s\n",
      "[CV] END decisiontreeclassifier__criterion=entropy, decisiontreeclassifier__max_depth=400, linearsvc__C=5, logisticregression__C=0.5, multinomialnb__alpha=1; total time=   9.7s\n",
      "[CV] END decisiontreeclassifier__criterion=entropy, decisiontreeclassifier__max_depth=400, linearsvc__C=5, logisticregression__C=0.5, multinomialnb__alpha=1; total time=   9.4s\n",
      "[CV] END decisiontreeclassifier__criterion=entropy, decisiontreeclassifier__max_depth=400, linearsvc__C=5, logisticregression__C=1, multinomialnb__alpha=0.5; total time=  11.4s\n",
      "[CV] END decisiontreeclassifier__criterion=entropy, decisiontreeclassifier__max_depth=400, linearsvc__C=5, logisticregression__C=1, multinomialnb__alpha=0.5; total time=  11.4s\n",
      "[CV] END decisiontreeclassifier__criterion=entropy, decisiontreeclassifier__max_depth=400, linearsvc__C=5, logisticregression__C=1, multinomialnb__alpha=1; total time=  11.5s\n",
      "[CV] END decisiontreeclassifier__criterion=entropy, decisiontreeclassifier__max_depth=400, linearsvc__C=5, logisticregression__C=1, multinomialnb__alpha=1; total time=  11.2s\n",
      "[CV] END decisiontreeclassifier__criterion=entropy, decisiontreeclassifier__max_depth=400, linearsvc__C=5, logisticregression__C=5, multinomialnb__alpha=0.5; total time=  15.6s\n",
      "[CV] END decisiontreeclassifier__criterion=entropy, decisiontreeclassifier__max_depth=400, linearsvc__C=5, logisticregression__C=5, multinomialnb__alpha=0.5; total time=  14.7s\n"
     ]
    },
    {
     "name": "stdout",
     "output_type": "stream",
     "text": [
      "[CV] END decisiontreeclassifier__criterion=entropy, decisiontreeclassifier__max_depth=400, linearsvc__C=5, logisticregression__C=5, multinomialnb__alpha=1; total time=  16.9s\n",
      "[CV] END decisiontreeclassifier__criterion=entropy, decisiontreeclassifier__max_depth=400, linearsvc__C=5, logisticregression__C=5, multinomialnb__alpha=1; total time=  15.3s\n",
      "[CV] END decisiontreeclassifier__criterion=log_loss, decisiontreeclassifier__max_depth=200, linearsvc__C=1, logisticregression__C=0.5, multinomialnb__alpha=0.5; total time=   9.3s\n",
      "[CV] END decisiontreeclassifier__criterion=log_loss, decisiontreeclassifier__max_depth=200, linearsvc__C=1, logisticregression__C=0.5, multinomialnb__alpha=0.5; total time=   8.1s\n",
      "[CV] END decisiontreeclassifier__criterion=log_loss, decisiontreeclassifier__max_depth=200, linearsvc__C=1, logisticregression__C=0.5, multinomialnb__alpha=1; total time=   7.9s\n",
      "[CV] END decisiontreeclassifier__criterion=log_loss, decisiontreeclassifier__max_depth=200, linearsvc__C=1, logisticregression__C=0.5, multinomialnb__alpha=1; total time=   8.3s\n",
      "[CV] END decisiontreeclassifier__criterion=log_loss, decisiontreeclassifier__max_depth=200, linearsvc__C=1, logisticregression__C=1, multinomialnb__alpha=0.5; total time=   9.2s\n",
      "[CV] END decisiontreeclassifier__criterion=log_loss, decisiontreeclassifier__max_depth=200, linearsvc__C=1, logisticregression__C=1, multinomialnb__alpha=0.5; total time=  10.2s\n",
      "[CV] END decisiontreeclassifier__criterion=log_loss, decisiontreeclassifier__max_depth=200, linearsvc__C=1, logisticregression__C=1, multinomialnb__alpha=1; total time=   9.7s\n",
      "[CV] END decisiontreeclassifier__criterion=log_loss, decisiontreeclassifier__max_depth=200, linearsvc__C=1, logisticregression__C=1, multinomialnb__alpha=1; total time=  10.0s\n",
      "[CV] END decisiontreeclassifier__criterion=log_loss, decisiontreeclassifier__max_depth=200, linearsvc__C=1, logisticregression__C=5, multinomialnb__alpha=0.5; total time=  11.5s\n",
      "[CV] END decisiontreeclassifier__criterion=log_loss, decisiontreeclassifier__max_depth=200, linearsvc__C=1, logisticregression__C=5, multinomialnb__alpha=0.5; total time=  11.3s\n",
      "[CV] END decisiontreeclassifier__criterion=log_loss, decisiontreeclassifier__max_depth=200, linearsvc__C=1, logisticregression__C=5, multinomialnb__alpha=1; total time=  11.5s\n",
      "[CV] END decisiontreeclassifier__criterion=log_loss, decisiontreeclassifier__max_depth=200, linearsvc__C=1, logisticregression__C=5, multinomialnb__alpha=1; total time=  11.6s\n",
      "[CV] END decisiontreeclassifier__criterion=log_loss, decisiontreeclassifier__max_depth=200, linearsvc__C=5, logisticregression__C=0.5, multinomialnb__alpha=0.5; total time=   9.8s\n",
      "[CV] END decisiontreeclassifier__criterion=log_loss, decisiontreeclassifier__max_depth=200, linearsvc__C=5, logisticregression__C=0.5, multinomialnb__alpha=0.5; total time=   9.4s\n",
      "[CV] END decisiontreeclassifier__criterion=log_loss, decisiontreeclassifier__max_depth=200, linearsvc__C=5, logisticregression__C=0.5, multinomialnb__alpha=1; total time=   9.7s\n",
      "[CV] END decisiontreeclassifier__criterion=log_loss, decisiontreeclassifier__max_depth=200, linearsvc__C=5, logisticregression__C=0.5, multinomialnb__alpha=1; total time=   9.5s\n",
      "[CV] END decisiontreeclassifier__criterion=log_loss, decisiontreeclassifier__max_depth=200, linearsvc__C=5, logisticregression__C=1, multinomialnb__alpha=0.5; total time=  11.9s\n",
      "[CV] END decisiontreeclassifier__criterion=log_loss, decisiontreeclassifier__max_depth=200, linearsvc__C=5, logisticregression__C=1, multinomialnb__alpha=0.5; total time=  11.8s\n",
      "[CV] END decisiontreeclassifier__criterion=log_loss, decisiontreeclassifier__max_depth=200, linearsvc__C=5, logisticregression__C=1, multinomialnb__alpha=1; total time=  11.4s\n",
      "[CV] END decisiontreeclassifier__criterion=log_loss, decisiontreeclassifier__max_depth=200, linearsvc__C=5, logisticregression__C=1, multinomialnb__alpha=1; total time=  11.3s\n",
      "[CV] END decisiontreeclassifier__criterion=log_loss, decisiontreeclassifier__max_depth=200, linearsvc__C=5, logisticregression__C=5, multinomialnb__alpha=0.5; total time=  13.4s\n",
      "[CV] END decisiontreeclassifier__criterion=log_loss, decisiontreeclassifier__max_depth=200, linearsvc__C=5, logisticregression__C=5, multinomialnb__alpha=0.5; total time=  12.8s\n",
      "[CV] END decisiontreeclassifier__criterion=log_loss, decisiontreeclassifier__max_depth=200, linearsvc__C=5, logisticregression__C=5, multinomialnb__alpha=1; total time=  13.3s\n",
      "[CV] END decisiontreeclassifier__criterion=log_loss, decisiontreeclassifier__max_depth=200, linearsvc__C=5, logisticregression__C=5, multinomialnb__alpha=1; total time=  13.0s\n",
      "[CV] END decisiontreeclassifier__criterion=log_loss, decisiontreeclassifier__max_depth=400, linearsvc__C=1, logisticregression__C=0.5, multinomialnb__alpha=0.5; total time=   8.0s\n",
      "[CV] END decisiontreeclassifier__criterion=log_loss, decisiontreeclassifier__max_depth=400, linearsvc__C=1, logisticregression__C=0.5, multinomialnb__alpha=0.5; total time=   8.0s\n",
      "[CV] END decisiontreeclassifier__criterion=log_loss, decisiontreeclassifier__max_depth=400, linearsvc__C=1, logisticregression__C=0.5, multinomialnb__alpha=1; total time=   7.8s\n",
      "[CV] END decisiontreeclassifier__criterion=log_loss, decisiontreeclassifier__max_depth=400, linearsvc__C=1, logisticregression__C=0.5, multinomialnb__alpha=1; total time=   8.5s\n",
      "[CV] END decisiontreeclassifier__criterion=log_loss, decisiontreeclassifier__max_depth=400, linearsvc__C=1, logisticregression__C=1, multinomialnb__alpha=0.5; total time=   9.2s\n",
      "[CV] END decisiontreeclassifier__criterion=log_loss, decisiontreeclassifier__max_depth=400, linearsvc__C=1, logisticregression__C=1, multinomialnb__alpha=0.5; total time=  10.3s\n",
      "[CV] END decisiontreeclassifier__criterion=log_loss, decisiontreeclassifier__max_depth=400, linearsvc__C=1, logisticregression__C=1, multinomialnb__alpha=1; total time=   9.2s\n",
      "[CV] END decisiontreeclassifier__criterion=log_loss, decisiontreeclassifier__max_depth=400, linearsvc__C=1, logisticregression__C=1, multinomialnb__alpha=1; total time=   9.8s\n",
      "[CV] END decisiontreeclassifier__criterion=log_loss, decisiontreeclassifier__max_depth=400, linearsvc__C=1, logisticregression__C=5, multinomialnb__alpha=0.5; total time=  11.3s\n",
      "[CV] END decisiontreeclassifier__criterion=log_loss, decisiontreeclassifier__max_depth=400, linearsvc__C=1, logisticregression__C=5, multinomialnb__alpha=0.5; total time=  11.5s\n",
      "[CV] END decisiontreeclassifier__criterion=log_loss, decisiontreeclassifier__max_depth=400, linearsvc__C=1, logisticregression__C=5, multinomialnb__alpha=1; total time=  11.6s\n",
      "[CV] END decisiontreeclassifier__criterion=log_loss, decisiontreeclassifier__max_depth=400, linearsvc__C=1, logisticregression__C=5, multinomialnb__alpha=1; total time=  11.4s\n",
      "[CV] END decisiontreeclassifier__criterion=log_loss, decisiontreeclassifier__max_depth=400, linearsvc__C=5, logisticregression__C=0.5, multinomialnb__alpha=0.5; total time=   9.8s\n",
      "[CV] END decisiontreeclassifier__criterion=log_loss, decisiontreeclassifier__max_depth=400, linearsvc__C=5, logisticregression__C=0.5, multinomialnb__alpha=0.5; total time=   9.5s\n",
      "[CV] END decisiontreeclassifier__criterion=log_loss, decisiontreeclassifier__max_depth=400, linearsvc__C=5, logisticregression__C=0.5, multinomialnb__alpha=1; total time=   9.8s\n",
      "[CV] END decisiontreeclassifier__criterion=log_loss, decisiontreeclassifier__max_depth=400, linearsvc__C=5, logisticregression__C=0.5, multinomialnb__alpha=1; total time=  10.0s\n",
      "[CV] END decisiontreeclassifier__criterion=log_loss, decisiontreeclassifier__max_depth=400, linearsvc__C=5, logisticregression__C=1, multinomialnb__alpha=0.5; total time=  11.6s\n",
      "[CV] END decisiontreeclassifier__criterion=log_loss, decisiontreeclassifier__max_depth=400, linearsvc__C=5, logisticregression__C=1, multinomialnb__alpha=0.5; total time=  11.5s\n",
      "[CV] END decisiontreeclassifier__criterion=log_loss, decisiontreeclassifier__max_depth=400, linearsvc__C=5, logisticregression__C=1, multinomialnb__alpha=1; total time=  11.2s\n",
      "[CV] END decisiontreeclassifier__criterion=log_loss, decisiontreeclassifier__max_depth=400, linearsvc__C=5, logisticregression__C=1, multinomialnb__alpha=1; total time=  11.3s\n",
      "[CV] END decisiontreeclassifier__criterion=log_loss, decisiontreeclassifier__max_depth=400, linearsvc__C=5, logisticregression__C=5, multinomialnb__alpha=0.5; total time=  13.4s\n"
     ]
    },
    {
     "name": "stdout",
     "output_type": "stream",
     "text": [
      "[CV] END decisiontreeclassifier__criterion=log_loss, decisiontreeclassifier__max_depth=400, linearsvc__C=5, logisticregression__C=5, multinomialnb__alpha=0.5; total time=  13.7s\n",
      "[CV] END decisiontreeclassifier__criterion=log_loss, decisiontreeclassifier__max_depth=400, linearsvc__C=5, logisticregression__C=5, multinomialnb__alpha=1; total time=  13.3s\n",
      "[CV] END decisiontreeclassifier__criterion=log_loss, decisiontreeclassifier__max_depth=400, linearsvc__C=5, logisticregression__C=5, multinomialnb__alpha=1; total time=  12.8s\n",
      "0.7342929703166656\n"
     ]
    },
    {
     "data": {
      "text/plain": [
       "array([{'decisiontreeclassifier__criterion': 'gini', 'decisiontreeclassifier__max_depth': 200, 'linearsvc__C': 5, 'logisticregression__C': 1, 'multinomialnb__alpha': 1}],\n",
       "      dtype=object)"
      ]
     },
     "execution_count": 11,
     "metadata": {},
     "output_type": "execute_result"
    }
   ],
   "source": [
    "# tune hyperparameters\n",
    "sclf4 = StackingCVClassifier(classifiers=[mnb, linearSVM, logr, dt], \n",
    "                            meta_classifier=CategoricalNB(),\n",
    "                            cv = 2,\n",
    "                            random_state=30027)\n",
    "param_grid = {'linearsvc__C': [1,5], 'multinomialnb__alpha': [0.5, 1], 'logisticregression__C': [0.5, 1, 5], 'decisiontreeclassifier__max_depth': [200, 400], 'decisiontreeclassifier__criterion': ['gini', 'entropy', 'log_loss']}\n",
    "grid4 = tune_hyperparameter(sclf4, param_grid, X, y, cv=2)\n",
    "print(max(grid4['mean_test_accuracy']))\n",
    "grid4.loc[grid4['mean_test_accuracy'] == max(grid4['mean_test_accuracy'])]['params'].values"
   ]
  },
  {
   "cell_type": "code",
   "execution_count": 12,
   "id": "3996167c",
   "metadata": {},
   "outputs": [
    {
     "name": "stdout",
     "output_type": "stream",
     "text": [
      "StackingCVClassifier prediction took 578.6408429145813 seconds.\n",
      "\n",
      "   3.0_precision  3.0_recall  3.0_f1-score  4.0_precision  4.0_recall  \\\n",
      "0       0.707182    0.218058      0.333333       0.743541    0.958667   \n",
      "1       0.708333    0.202726      0.315232       0.741584    0.964837   \n",
      "2       0.682081    0.201365      0.310935       0.741305    0.959901   \n",
      "3       0.680723    0.192833      0.300532       0.739934    0.963603   \n",
      "4       0.754491    0.215017      0.334661       0.743250    0.967921   \n",
      "5       0.666667    0.184300      0.288770       0.740229    0.958051   \n",
      "6       0.724138    0.179181      0.287278       0.739539    0.970389   \n",
      "7       0.713415    0.199659      0.312000       0.742439    0.969155   \n",
      "8       0.707602    0.206133      0.319261       0.741445    0.962963   \n",
      "9       0.707792    0.185690      0.294197       0.739336    0.962963   \n",
      "\n",
      "   4.0_f1-score  5.0_precision  5.0_recall  5.0_f1-score  accuracy  \n",
      "0      0.837510       0.500000    0.181818      0.266667  0.736888  \n",
      "1      0.838606       0.700000    0.212121      0.325581  0.738622  \n",
      "2      0.836559       0.542857    0.190000      0.281481  0.733853  \n",
      "3      0.837085       0.586207    0.171717      0.265625  0.733738  \n",
      "4      0.840836       0.535714    0.151515      0.236220  0.741544  \n",
      "5      0.835171       0.586957    0.272727      0.372414  0.732003  \n",
      "6      0.839381       0.705882    0.242424      0.360902  0.738075  \n",
      "7      0.840781       0.692308    0.181818      0.288000  0.739809  \n",
      "8      0.837809       0.645161    0.202020      0.307692  0.737641  \n",
      "9      0.836461       0.547619    0.232323      0.326241  0.733738  \n"
     ]
    },
    {
     "data": {
      "image/png": "[encoded data removed]",
      "text/plain": [
       "<Figure size 432x288 with 2 Axes>"
      ]
     },
     "metadata": {
      "needs_background": "light"
     },
     "output_type": "display_data"
    },
    {
     "data": {
      "text/html": [
       "<div>\n",
       "<style scoped>\n",
       "    .dataframe tbody tr th:only-of-type {\n",
       "        vertical-align: middle;\n",
       "    }\n",
       "\n",
       "    .dataframe tbody tr th {\n",
       "        vertical-align: top;\n",
       "    }\n",
       "\n",
       "    .dataframe thead th {\n",
       "        text-align: right;\n",
       "    }\n",
       "</style>\n",
       "<table border=\"1\" class=\"dataframe\">\n",
       "  <thead>\n",
       "    <tr style=\"text-align: right;\">\n",
       "      <th></th>\n",
       "      <th>mean</th>\n",
       "      <th>std</th>\n",
       "    </tr>\n",
       "  </thead>\n",
       "  <tbody>\n",
       "    <tr>\n",
       "      <th>3.0_precision</th>\n",
       "      <td>0.705242</td>\n",
       "      <td>0.024722</td>\n",
       "    </tr>\n",
       "    <tr>\n",
       "      <th>3.0_recall</th>\n",
       "      <td>0.198496</td>\n",
       "      <td>0.012962</td>\n",
       "    </tr>\n",
       "    <tr>\n",
       "      <th>3.0_f1-score</th>\n",
       "      <td>0.309620</td>\n",
       "      <td>0.016917</td>\n",
       "    </tr>\n",
       "    <tr>\n",
       "      <th>4.0_precision</th>\n",
       "      <td>0.741260</td>\n",
       "      <td>0.001497</td>\n",
       "    </tr>\n",
       "    <tr>\n",
       "      <th>4.0_recall</th>\n",
       "      <td>0.963845</td>\n",
       "      <td>0.004297</td>\n",
       "    </tr>\n",
       "    <tr>\n",
       "      <th>4.0_f1-score</th>\n",
       "      <td>0.838020</td>\n",
       "      <td>0.001874</td>\n",
       "    </tr>\n",
       "    <tr>\n",
       "      <th>5.0_precision</th>\n",
       "      <td>0.604271</td>\n",
       "      <td>0.076078</td>\n",
       "    </tr>\n",
       "    <tr>\n",
       "      <th>5.0_recall</th>\n",
       "      <td>0.203848</td>\n",
       "      <td>0.036589</td>\n",
       "    </tr>\n",
       "    <tr>\n",
       "      <th>5.0_f1-score</th>\n",
       "      <td>0.303082</td>\n",
       "      <td>0.043599</td>\n",
       "    </tr>\n",
       "    <tr>\n",
       "      <th>accuracy</th>\n",
       "      <td>0.736591</td>\n",
       "      <td>0.003113</td>\n",
       "    </tr>\n",
       "  </tbody>\n",
       "</table>\n",
       "</div>"
      ],
      "text/plain": [
       "                   mean       std\n",
       "3.0_precision  0.705242  0.024722\n",
       "3.0_recall     0.198496  0.012962\n",
       "3.0_f1-score   0.309620  0.016917\n",
       "4.0_precision  0.741260  0.001497\n",
       "4.0_recall     0.963845  0.004297\n",
       "4.0_f1-score   0.838020  0.001874\n",
       "5.0_precision  0.604271  0.076078\n",
       "5.0_recall     0.203848  0.036589\n",
       "5.0_f1-score   0.303082  0.043599\n",
       "accuracy       0.736591  0.003113"
      ]
     },
     "execution_count": 12,
     "metadata": {},
     "output_type": "execute_result"
    }
   ],
   "source": [
    "mnb = MultinomialNB(alpha = 1)\n",
    "linearSVM = svm.LinearSVC(C=5, dual=False,random_state=30027)\n",
    "logr = LogisticRegression(solver='sag', max_iter=50, random_state = 30027)\n",
    "dt = DecisionTreeClassifier(criterion = \"gini\", max_depth = 200, random_state = 30027)\n",
    "\n",
    "sclf4 = StackingCVClassifier(classifiers=[mnb, linearSVM, logr, dt], \n",
    "                            meta_classifier=CategoricalNB(),\n",
    "                            cv = 2,\n",
    "                            random_state=30027)\n",
    "y_pred4, sclf4_report = cross_val_report(sclf4, X, y)\n",
    "sclf4_report"
   ]
  },
  {
   "cell_type": "markdown",
   "id": "fbcc5452",
   "metadata": {},
   "source": [
    "### Diversity"
   ]
  },
  {
   "cell_type": "code",
   "execution_count": 13,
   "id": "b5b7301f",
   "metadata": {},
   "outputs": [
    {
     "name": "stdout",
     "output_type": "stream",
     "text": [
      "MultinomialNB prediction took 0.9108009338378906 seconds.\n",
      "\n",
      "   3.0_precision  3.0_recall  3.0_f1-score  4.0_precision  4.0_recall  \\\n",
      "0       0.705479    0.175468      0.281037       0.734207    0.967921   \n",
      "1       0.738462    0.163543      0.267782       0.734136    0.977791   \n",
      "2       0.750000    0.179181      0.289256       0.737284    0.974707   \n",
      "3       0.712000    0.151877      0.250352       0.733179    0.974707   \n",
      "4       0.755396    0.179181      0.289655       0.735253    0.976558   \n",
      "5       0.666667    0.163823      0.263014       0.735115    0.967304   \n",
      "6       0.717949    0.143345      0.238976       0.731178    0.976558   \n",
      "7       0.767442    0.168942      0.276923       0.737135    0.980876   \n",
      "8       0.739726    0.183986      0.294679       0.737482    0.972840   \n",
      "9       0.721311    0.149915      0.248237       0.732499    0.975309   \n",
      "\n",
      "   4.0_f1-score  5.0_precision  5.0_recall  5.0_f1-score  accuracy  \n",
      "0      0.835019       0.500000    0.121212      0.195122  0.729952  \n",
      "1      0.838624       0.888889    0.161616      0.273504  0.735587  \n",
      "2      0.839532       0.583333    0.140000      0.225806  0.736454  \n",
      "3      0.836864       0.653846    0.171717      0.272000  0.731136  \n",
      "4      0.838898       0.714286    0.101010      0.176991  0.736340  \n",
      "5      0.835376       0.724138    0.212121      0.328125  0.730703  \n",
      "6      0.836239       0.750000    0.181818      0.292683  0.730703  \n",
      "7      0.841715       0.800000    0.161616      0.268908  0.739376  \n",
      "8      0.838967       0.695652    0.161616      0.262295  0.737207  \n",
      "9      0.836643       0.629630    0.171717      0.269841  0.730703  \n"
     ]
    },
    {
     "data": {
      "image/png": "[encoded data removed]",
      "text/plain": [
       "<Figure size 432x288 with 2 Axes>"
      ]
     },
     "metadata": {
      "needs_background": "light"
     },
     "output_type": "display_data"
    },
    {
     "name": "stdout",
     "output_type": "stream",
     "text": [
      "LinearSVC prediction took 6.916563987731934 seconds.\n",
      "\n",
      "   3.0_precision  3.0_recall  3.0_f1-score  4.0_precision  4.0_recall  \\\n",
      "0       0.743590    0.197615      0.312248       0.739687    0.962369   \n",
      "1       0.729730    0.183986      0.293878       0.739972    0.967304   \n",
      "2       0.740000    0.189420      0.301630       0.738375    0.969772   \n",
      "3       0.727273    0.177474      0.285322       0.738476    0.968538   \n",
      "4       0.801370    0.199659      0.319672       0.742011    0.974090   \n",
      "5       0.694444    0.170648      0.273973       0.737264    0.964220   \n",
      "6       0.758065    0.160410      0.264789       0.734513    0.972856   \n",
      "7       0.753425    0.187713      0.300546       0.741071    0.972856   \n",
      "8       0.760274    0.189097      0.302865       0.737435    0.969136   \n",
      "9       0.746269    0.170358      0.277393       0.737388    0.965432   \n",
      "\n",
      "   4.0_f1-score  5.0_precision  5.0_recall  5.0_f1-score  accuracy  \n",
      "0      0.836461       0.428571    0.181818      0.255319  0.734287  \n",
      "1      0.838503       0.600000    0.242424      0.345324  0.736888  \n",
      "2      0.838400       0.464286    0.130000      0.203125  0.735154  \n",
      "3      0.838004       0.594595    0.222222      0.323529  0.735473  \n",
      "4      0.842358       0.500000    0.161616      0.244275  0.742411  \n",
      "5      0.835605       0.547619    0.232323      0.326241  0.731136  \n",
      "6      0.837049       0.600000    0.212121      0.313433  0.733738  \n",
      "7      0.841291       0.625000    0.202020      0.305344  0.740243  \n",
      "8      0.837557       0.483871    0.151515      0.230769  0.735473  \n",
      "9      0.836140       0.490196    0.252525      0.333333  0.732437  \n"
     ]
    },
    {
     "data": {
      "image/png": "[encoded data removed]",
      "text/plain": [
       "<Figure size 432x288 with 2 Axes>"
      ]
     },
     "metadata": {
      "needs_background": "light"
     },
     "output_type": "display_data"
    },
    {
     "name": "stdout",
     "output_type": "stream",
     "text": [
      "LogisticRegression prediction took 71.63627004623413 seconds.\n",
      "\n",
      "   3.0_precision  3.0_recall  3.0_f1-score  4.0_precision  4.0_recall  \\\n",
      "0       0.721854    0.185690      0.295393       0.734295    0.973473   \n",
      "1       0.717391    0.168654      0.273103       0.732747    0.975941   \n",
      "2       0.673333    0.172355      0.274457       0.731844    0.969772   \n",
      "3       0.686131    0.160410      0.260028       0.731787    0.972856   \n",
      "4       0.780142    0.187713      0.302613       0.736427    0.979025   \n",
      "5       0.656489    0.146758      0.239888       0.729592    0.970389   \n",
      "6       0.741667    0.151877      0.252125       0.731371    0.980876   \n",
      "7       0.728571    0.174061      0.280992       0.734571    0.976558   \n",
      "8       0.731544    0.185690      0.296196       0.734760    0.974691   \n",
      "9       0.692857    0.165247      0.266850       0.731787    0.973457   \n",
      "\n",
      "   4.0_f1-score  5.0_precision  5.0_recall  5.0_f1-score  accuracy  \n",
      "0      0.837135       0.714286    0.050505      0.094340  0.733420  \n",
      "1      0.837037       0.900000    0.090909      0.165138  0.732553  \n",
      "2      0.834174       0.666667    0.060000      0.110092  0.727785  \n",
      "3      0.835275       0.642857    0.090909      0.159292  0.728534  \n",
      "4      0.840572       0.700000    0.070707      0.128440  0.738942  \n",
      "5      0.832936       0.736842    0.141414      0.237288  0.725499  \n",
      "6      0.837945       0.916667    0.111111      0.198198  0.732871  \n",
      "7      0.838453       0.727273    0.080808      0.145455  0.734172  \n",
      "8      0.837888       0.875000    0.070707      0.130841  0.735039  \n",
      "9      0.835497       0.727273    0.080808      0.145455  0.729402  \n"
     ]
    },
    {
     "data": {
      "image/png": "[encoded data removed]",
      "text/plain": [
       "<Figure size 432x288 with 2 Axes>"
      ]
     },
     "metadata": {
      "needs_background": "light"
     },
     "output_type": "display_data"
    },
    {
     "name": "stdout",
     "output_type": "stream",
     "text": [
      "DecisionTreeClassifier prediction took 22.98205280303955 seconds.\n",
      "\n",
      "   3.0_precision  3.0_recall  3.0_f1-score  4.0_precision  4.0_recall  \\\n",
      "0       0.398256    0.233390      0.294307       0.728743    0.861814   \n",
      "1       0.457317    0.255537      0.327869       0.736004    0.884022   \n",
      "2       0.452599    0.252560      0.324206       0.735917    0.878470   \n",
      "3       0.433628    0.250853      0.317838       0.736241    0.874769   \n",
      "4       0.459283    0.240614      0.315789       0.734048    0.887107   \n",
      "5       0.448718    0.238908      0.311804       0.735490    0.883405   \n",
      "6       0.424242    0.215017      0.285391       0.727042    0.884022   \n",
      "7       0.437107    0.237201      0.307522       0.734015    0.885256   \n",
      "8       0.455414    0.243612      0.317425       0.733504    0.885185   \n",
      "9       0.429851    0.245315      0.312364       0.730709    0.870988   \n",
      "\n",
      "   4.0_f1-score  5.0_precision  5.0_recall  5.0_f1-score  accuracy  \n",
      "0      0.789712       0.347826    0.161616      0.220690  0.671868  \n",
      "1      0.803251       0.375000    0.121212      0.183206  0.691374  \n",
      "2      0.800900       0.288889    0.130000      0.179310  0.687039  \n",
      "3      0.799549       0.292683    0.121212      0.171429  0.683868  \n",
      "4      0.803352       0.325000    0.131313      0.187050  0.690373  \n",
      "5      0.802691       0.425532    0.202020      0.273973  0.690373  \n",
      "6      0.797884       0.421053    0.161616      0.233577  0.683001  \n",
      "7      0.802573       0.424242    0.141414      0.212121  0.688638  \n",
      "8      0.802238       0.351351    0.131313      0.191176  0.689506  \n",
      "9      0.794706       0.425000    0.171717      0.244604  0.681700  \n"
     ]
    },
    {
     "data": {
      "image/png": "[encoded data removed]",
      "text/plain": [
       "<Figure size 432x288 with 2 Axes>"
      ]
     },
     "metadata": {
      "needs_background": "light"
     },
     "output_type": "display_data"
    },
    {
     "data": {
      "text/html": [
       "<style  type=\"text/css\" >\n",
       "#T_ffdca_row0_col0,#T_ffdca_row1_col1,#T_ffdca_row2_col2,#T_ffdca_row3_col3{\n",
       "            background-color:  #f7fbff;\n",
       "            color:  #000000;\n",
       "        }#T_ffdca_row0_col1{\n",
       "            background-color:  #d6e5f4;\n",
       "            color:  #000000;\n",
       "        }#T_ffdca_row0_col2{\n",
       "            background-color:  #cde0f1;\n",
       "            color:  #000000;\n",
       "        }#T_ffdca_row0_col3,#T_ffdca_row3_col0,#T_ffdca_row3_col1,#T_ffdca_row3_col2{\n",
       "            background-color:  #08306b;\n",
       "            color:  #f1f1f1;\n",
       "        }#T_ffdca_row1_col0{\n",
       "            background-color:  #d6e6f4;\n",
       "            color:  #000000;\n",
       "        }#T_ffdca_row1_col2{\n",
       "            background-color:  #d0e2f2;\n",
       "            color:  #000000;\n",
       "        }#T_ffdca_row1_col3{\n",
       "            background-color:  #083573;\n",
       "            color:  #f1f1f1;\n",
       "        }#T_ffdca_row2_col0{\n",
       "            background-color:  #d0e1f2;\n",
       "            color:  #000000;\n",
       "        }#T_ffdca_row2_col1{\n",
       "            background-color:  #d2e3f3;\n",
       "            color:  #000000;\n",
       "        }#T_ffdca_row2_col3{\n",
       "            background-color:  #083d7f;\n",
       "            color:  #f1f1f1;\n",
       "        }</style><table id=\"T_ffdca_\" ><thead>    <tr>        <th class=\"blank level0\" ></th>        <th class=\"col_heading level0 col0\" >mnb</th>        <th class=\"col_heading level0 col1\" >svm</th>        <th class=\"col_heading level0 col2\" >logr</th>        <th class=\"col_heading level0 col3\" >dt</th>    </tr></thead><tbody>\n",
       "                <tr>\n",
       "                        <th id=\"T_ffdca_level0_row0\" class=\"row_heading level0 row0\" >mnb</th>\n",
       "                        <td id=\"T_ffdca_row0_col0\" class=\"data row0 col0\" >0</td>\n",
       "                        <td id=\"T_ffdca_row0_col1\" class=\"data row0 col1\" >528</td>\n",
       "                        <td id=\"T_ffdca_row0_col2\" class=\"data row0 col2\" >652</td>\n",
       "                        <td id=\"T_ffdca_row0_col3\" class=\"data row0 col3\" >3211</td>\n",
       "            </tr>\n",
       "            <tr>\n",
       "                        <th id=\"T_ffdca_level0_row1\" class=\"row_heading level0 row1\" >svm</th>\n",
       "                        <td id=\"T_ffdca_row1_col0\" class=\"data row1 col0\" >528</td>\n",
       "                        <td id=\"T_ffdca_row1_col1\" class=\"data row1 col1\" >0</td>\n",
       "                        <td id=\"T_ffdca_row1_col2\" class=\"data row1 col2\" >597</td>\n",
       "                        <td id=\"T_ffdca_row1_col3\" class=\"data row1 col3\" >3142</td>\n",
       "            </tr>\n",
       "            <tr>\n",
       "                        <th id=\"T_ffdca_level0_row2\" class=\"row_heading level0 row2\" >logr</th>\n",
       "                        <td id=\"T_ffdca_row2_col0\" class=\"data row2 col0\" >652</td>\n",
       "                        <td id=\"T_ffdca_row2_col1\" class=\"data row2 col1\" >597</td>\n",
       "                        <td id=\"T_ffdca_row2_col2\" class=\"data row2 col2\" >0</td>\n",
       "                        <td id=\"T_ffdca_row2_col3\" class=\"data row2 col3\" >3040</td>\n",
       "            </tr>\n",
       "            <tr>\n",
       "                        <th id=\"T_ffdca_level0_row3\" class=\"row_heading level0 row3\" >dt</th>\n",
       "                        <td id=\"T_ffdca_row3_col0\" class=\"data row3 col0\" >3211</td>\n",
       "                        <td id=\"T_ffdca_row3_col1\" class=\"data row3 col1\" >3142</td>\n",
       "                        <td id=\"T_ffdca_row3_col2\" class=\"data row3 col2\" >3040</td>\n",
       "                        <td id=\"T_ffdca_row3_col3\" class=\"data row3 col3\" >0</td>\n",
       "            </tr>\n",
       "    </tbody></table>"
      ],
      "text/plain": [
       "<pandas.io.formats.style.Styler at 0x7f97dbe4f1c0>"
      ]
     },
     "execution_count": 13,
     "metadata": {},
     "output_type": "execute_result"
    }
   ],
   "source": [
    "clfs = [\"mnb\", \"svm\", \"logr\", \"dt\"]\n",
    "preds1 = [cross_val_report(clf, X, y)[0] for clf in [mnb, linearSVM, logr, dt]]\n",
    "predictions1 = pd.DataFrame({clfs[i]:preds1[i] for i in range(len(clfs))})\n",
    "differences1 = {clf:[] for clf in clfs}\n",
    "for clf1 in clfs: \n",
    "    for clf2 in clfs: \n",
    "        differences1[clf1].append(sum(predictions1[clf1] != predictions1[clf2]))\n",
    "differences1 = pd.DataFrame(differences1, index = clfs)\n",
    "differences1.style.background_gradient(cmap='Blues')"
   ]
  },
  {
   "cell_type": "markdown",
   "id": "4c483023",
   "metadata": {},
   "source": [
    "## Comparison between SVM, StackingClf1, StackingClf2"
   ]
  },
  {
   "cell_type": "code",
   "execution_count": 15,
   "id": "54d91544",
   "metadata": {},
   "outputs": [
    {
     "name": "stdout",
     "output_type": "stream",
     "text": [
      "LinearSVC prediction took 7.387901782989502 seconds.\n",
      "\n",
      "   3.0_precision  3.0_recall  3.0_f1-score  4.0_precision  4.0_recall  \\\n",
      "0       0.743590    0.197615      0.312248       0.739687    0.962369   \n",
      "1       0.729730    0.183986      0.293878       0.739972    0.967304   \n",
      "2       0.740000    0.189420      0.301630       0.738375    0.969772   \n",
      "3       0.727273    0.177474      0.285322       0.738476    0.968538   \n",
      "4       0.801370    0.199659      0.319672       0.742011    0.974090   \n",
      "5       0.694444    0.170648      0.273973       0.737264    0.964220   \n",
      "6       0.758065    0.160410      0.264789       0.734513    0.972856   \n",
      "7       0.753425    0.187713      0.300546       0.741071    0.972856   \n",
      "8       0.760274    0.189097      0.302865       0.737435    0.969136   \n",
      "9       0.746269    0.170358      0.277393       0.737388    0.965432   \n",
      "\n",
      "   4.0_f1-score  5.0_precision  5.0_recall  5.0_f1-score  accuracy  \n",
      "0      0.836461       0.428571    0.181818      0.255319  0.734287  \n",
      "1      0.838503       0.600000    0.242424      0.345324  0.736888  \n",
      "2      0.838400       0.464286    0.130000      0.203125  0.735154  \n",
      "3      0.838004       0.594595    0.222222      0.323529  0.735473  \n",
      "4      0.842358       0.500000    0.161616      0.244275  0.742411  \n",
      "5      0.835605       0.547619    0.232323      0.326241  0.731136  \n",
      "6      0.837049       0.600000    0.212121      0.313433  0.733738  \n",
      "7      0.841291       0.625000    0.202020      0.305344  0.740243  \n",
      "8      0.837557       0.483871    0.151515      0.230769  0.735473  \n",
      "9      0.836140       0.490196    0.252525      0.333333  0.732437  \n"
     ]
    },
    {
     "data": {
      "image/png": "[encoded data removed]",
      "text/plain": [
       "<Figure size 432x288 with 2 Axes>"
      ]
     },
     "metadata": {
      "needs_background": "light"
     },
     "output_type": "display_data"
    },
    {
     "data": {
      "text/html": [
       "<div>\n",
       "<style scoped>\n",
       "    .dataframe tbody tr th:only-of-type {\n",
       "        vertical-align: middle;\n",
       "    }\n",
       "\n",
       "    .dataframe tbody tr th {\n",
       "        vertical-align: top;\n",
       "    }\n",
       "\n",
       "    .dataframe thead th {\n",
       "        text-align: right;\n",
       "    }\n",
       "</style>\n",
       "<table border=\"1\" class=\"dataframe\">\n",
       "  <thead>\n",
       "    <tr style=\"text-align: right;\">\n",
       "      <th></th>\n",
       "      <th>mean</th>\n",
       "      <th>std</th>\n",
       "    </tr>\n",
       "  </thead>\n",
       "  <tbody>\n",
       "    <tr>\n",
       "      <th>3.0_precision</th>\n",
       "      <td>0.745444</td>\n",
       "      <td>0.027452</td>\n",
       "    </tr>\n",
       "    <tr>\n",
       "      <th>3.0_recall</th>\n",
       "      <td>0.182638</td>\n",
       "      <td>0.012669</td>\n",
       "    </tr>\n",
       "    <tr>\n",
       "      <th>3.0_f1-score</th>\n",
       "      <td>0.293232</td>\n",
       "      <td>0.017548</td>\n",
       "    </tr>\n",
       "    <tr>\n",
       "      <th>4.0_precision</th>\n",
       "      <td>0.738619</td>\n",
       "      <td>0.002165</td>\n",
       "    </tr>\n",
       "    <tr>\n",
       "      <th>4.0_recall</th>\n",
       "      <td>0.968657</td>\n",
       "      <td>0.003912</td>\n",
       "    </tr>\n",
       "    <tr>\n",
       "      <th>4.0_f1-score</th>\n",
       "      <td>0.838137</td>\n",
       "      <td>0.002178</td>\n",
       "    </tr>\n",
       "    <tr>\n",
       "      <th>5.0_precision</th>\n",
       "      <td>0.533414</td>\n",
       "      <td>0.068645</td>\n",
       "    </tr>\n",
       "    <tr>\n",
       "      <th>5.0_recall</th>\n",
       "      <td>0.198859</td>\n",
       "      <td>0.041218</td>\n",
       "    </tr>\n",
       "    <tr>\n",
       "      <th>5.0_f1-score</th>\n",
       "      <td>0.288069</td>\n",
       "      <td>0.049969</td>\n",
       "    </tr>\n",
       "    <tr>\n",
       "      <th>accuracy</th>\n",
       "      <td>0.735724</td>\n",
       "      <td>0.003412</td>\n",
       "    </tr>\n",
       "  </tbody>\n",
       "</table>\n",
       "</div>"
      ],
      "text/plain": [
       "                   mean       std\n",
       "3.0_precision  0.745444  0.027452\n",
       "3.0_recall     0.182638  0.012669\n",
       "3.0_f1-score   0.293232  0.017548\n",
       "4.0_precision  0.738619  0.002165\n",
       "4.0_recall     0.968657  0.003912\n",
       "4.0_f1-score   0.838137  0.002178\n",
       "5.0_precision  0.533414  0.068645\n",
       "5.0_recall     0.198859  0.041218\n",
       "5.0_f1-score   0.288069  0.049969\n",
       "accuracy       0.735724  0.003412"
      ]
     },
     "execution_count": 15,
     "metadata": {},
     "output_type": "execute_result"
    }
   ],
   "source": [
    "# look at linear SVM performance\n",
    "linearSVM = svm.LinearSVC(dual=False, C=5, random_state=30027)\n",
    "y_pred_svm, svm_report = cross_val_report(linearSVM, X, y)\n",
    "svm_report"
   ]
  },
  {
   "cell_type": "code",
   "execution_count": 16,
   "id": "f4891338",
   "metadata": {},
   "outputs": [
    {
     "name": "stdout",
     "output_type": "stream",
     "text": [
      "       Metrics    SVM  Stacking_Clf_1  Stacking_Clf_2\n",
      "0  3-precision  0.745           0.706           0.706\n",
      "1     3-recall  0.183           0.198           0.198\n",
      "2  4-precision  0.739           0.742           0.741\n",
      "3     4-recall  0.969           0.961           0.964\n",
      "4  5-precision  0.533           0.560           0.606\n",
      "5     5-recall  0.199           0.230           0.201\n",
      "6     accuracy  0.736           0.736           0.737\n"
     ]
    },
    {
     "data": {
      "image/png": "[encoded data removed]",
      "text/plain": [
       "<Figure size 720x360 with 1 Axes>"
      ]
     },
     "metadata": {
      "needs_background": "light"
     },
     "output_type": "display_data"
    }
   ],
   "source": [
    "import pandas as pd\n",
    "import matplotlib.pyplot as plt\n",
    "performances = {'Metrics': ['3-precision', '3-recall', '4-precision', '4-recall', '5-precision', '5-recall','accuracy'],\n",
    "                'SVM': [0.745, 0.183, 0.739, 0.969, 0.533, 0.199, 0.736],\n",
    "                'Stacking_Clf_1': [0.706, 0.198, 0.742, 0.961, 0.56, 0.23, 0.736],\n",
    "                'Stacking_Clf_2': [0.706, 0.198, 0.741, 0.964, 0.606, 0.201, 0.737]}\n",
    "performance_df = pd.DataFrame(performances, columns = ['Metrics', 'SVM', 'Stacking_Clf_1', 'Stacking_Clf_2'])\n",
    "print(performance_df)\n",
    "\n",
    "pos = list(range(len(performance_df['SVM'])))\n",
    "width = 0.25\n",
    "\n",
    "fig, ax = plt.subplots(figsize = (10,5))\n",
    "plt.bar(pos, performance_df['SVM'], width, alpha=0.5, color='Red')\n",
    "plt.bar([p+width for p in pos], performance_df['Stacking_Clf_1'], width, alpha=0.5, color='Orange')\n",
    "plt.bar([p+width*2 for p in pos], performance_df['Stacking_Clf_2'], width, alpha=0.5, color='Green')\n",
    "ax.set_ylabel('Performance')\n",
    "ax.set_title('Classifier Performance')\n",
    "ax.set_xticks([p+1.5*width for p in pos])\n",
    "ax.set_xticklabels(performance_df['Metrics'])\n",
    "plt.xlim(min(pos)-width, max(pos)+width*4)\n",
    "plt.ylim([0.15, 1])\n",
    "\n",
    "plt.legend(['SVM', 'Stacking_Clf_1', 'Stacking_Clf_2'], loc='upper left')\n",
    "plt.grid()\n",
    "plt.show()"
   ]
  },
  {
   "cell_type": "markdown",
   "id": "d9369b9d",
   "metadata": {},
   "source": [
    "## using different number of feature selection"
   ]
  },
  {
   "cell_type": "code",
   "execution_count": 18,
   "id": "e2a6055b",
   "metadata": {},
   "outputs": [
    {
     "name": "stdout",
     "output_type": "stream",
     "text": [
      "================================================================================\n",
      "selected 50 features\n",
      "\n",
      "StackingCVClassifier prediction took 233.1409101486206 seconds.\n",
      "\n",
      "   3.0_precision  3.0_recall  3.0_f1-score  4.0_precision  4.0_recall  \\\n",
      "0       0.707182    0.218058      0.333333       0.743541    0.958667   \n",
      "1       0.708333    0.202726      0.315232       0.741584    0.964837   \n",
      "2       0.682081    0.201365      0.310935       0.741305    0.959901   \n",
      "3       0.680723    0.192833      0.300532       0.739934    0.963603   \n",
      "4       0.754491    0.215017      0.334661       0.743250    0.967921   \n",
      "5       0.666667    0.184300      0.288770       0.740229    0.958051   \n",
      "6       0.724138    0.179181      0.287278       0.739539    0.970389   \n",
      "7       0.713415    0.199659      0.312000       0.742439    0.969155   \n",
      "8       0.707602    0.206133      0.319261       0.741445    0.962963   \n",
      "9       0.707792    0.185690      0.294197       0.739336    0.962963   \n",
      "\n",
      "   4.0_f1-score  5.0_precision  5.0_recall  5.0_f1-score  accuracy  \n",
      "0      0.837510       0.500000    0.181818      0.266667  0.736888  \n",
      "1      0.838606       0.700000    0.212121      0.325581  0.738622  \n",
      "2      0.836559       0.542857    0.190000      0.281481  0.733853  \n",
      "3      0.837085       0.586207    0.171717      0.265625  0.733738  \n",
      "4      0.840836       0.535714    0.151515      0.236220  0.741544  \n",
      "5      0.835171       0.586957    0.272727      0.372414  0.732003  \n",
      "6      0.839381       0.705882    0.242424      0.360902  0.738075  \n",
      "7      0.840781       0.692308    0.181818      0.288000  0.739809  \n",
      "8      0.837809       0.645161    0.202020      0.307692  0.737641  \n",
      "9      0.836461       0.547619    0.232323      0.326241  0.733738  \n"
     ]
    },
    {
     "data": {
      "image/png": "[encoded data removed]",
      "text/plain": [
       "<Figure size 432x288 with 2 Axes>"
      ]
     },
     "metadata": {
      "needs_background": "light"
     },
     "output_type": "display_data"
    },
    {
     "name": "stdout",
     "output_type": "stream",
     "text": [
      "                   mean       std\n",
      "3.0_precision  0.705242  0.024722\n",
      "3.0_recall     0.198496  0.012962\n",
      "3.0_f1-score   0.309620  0.016917\n",
      "4.0_precision  0.741260  0.001497\n",
      "4.0_recall     0.963845  0.004297\n",
      "4.0_f1-score   0.838020  0.001874\n",
      "5.0_precision  0.604271  0.076078\n",
      "5.0_recall     0.203848  0.036589\n",
      "5.0_f1-score   0.303082  0.043599\n",
      "accuracy       0.736591  0.003113\n",
      "\n",
      "================================================================================\n",
      "\n",
      "================================================================================\n",
      "selected 100 features\n",
      "\n",
      "StackingCVClassifier prediction took 385.3257508277893 seconds.\n",
      "\n",
      "   3.0_precision  3.0_recall  3.0_f1-score  4.0_precision  4.0_recall  \\\n",
      "0       0.695000    0.236797      0.353240       0.746016    0.953115   \n",
      "1       0.682796    0.216354      0.328590       0.745673    0.956817   \n",
      "2       0.688525    0.215017      0.327698       0.743295    0.957434   \n",
      "3       0.640449    0.194539      0.298429       0.739027    0.955583   \n",
      "4       0.748571    0.223549      0.344284       0.744297    0.966070   \n",
      "5       0.674157    0.204778      0.314136       0.744019    0.959284   \n",
      "6       0.701863    0.192833      0.302544       0.740548    0.966687   \n",
      "7       0.694915    0.209898      0.322412       0.743821    0.965453   \n",
      "8       0.682796    0.216354      0.328590       0.742926    0.956173   \n",
      "9       0.678788    0.190801      0.297872       0.739648    0.959259   \n",
      "\n",
      "   4.0_f1-score  5.0_precision  5.0_recall  5.0_f1-score  accuracy  \n",
      "0      0.836945       0.472222    0.171717      0.251852  0.737321  \n",
      "1      0.838152       0.682927    0.282828      0.400000  0.739489  \n",
      "2      0.836883       0.527778    0.190000      0.279412  0.735587  \n",
      "3      0.833468       0.531250    0.171717      0.259542  0.728534  \n",
      "4      0.840805       0.555556    0.151515      0.238095  0.742411  \n",
      "5      0.838049       0.684211    0.262626      0.379562  0.737641  \n",
      "6      0.838641       0.758621    0.222222      0.343750  0.738075  \n",
      "7      0.840268       0.720000    0.181818      0.290323  0.739809  \n",
      "8      0.836167       0.628571    0.222222      0.328358  0.736340  \n",
      "9      0.835259       0.575000    0.232323      0.330935  0.732437  \n"
     ]
    },
    {
     "data": {
      "image/png": "[encoded data removed]",
      "text/plain": [
       "<Figure size 432x288 with 2 Axes>"
      ]
     },
     "metadata": {
      "needs_background": "light"
     },
     "output_type": "display_data"
    },
    {
     "name": "stdout",
     "output_type": "stream",
     "text": [
      "                   mean       std\n",
      "3.0_precision  0.688786  0.026964\n",
      "3.0_recall     0.210092  0.014671\n",
      "3.0_f1-score   0.321779  0.018767\n",
      "4.0_precision  0.742927  0.002420\n",
      "4.0_recall     0.959588  0.004818\n",
      "4.0_f1-score   0.837464  0.002220\n",
      "5.0_precision  0.613614  0.095080\n",
      "5.0_recall     0.208899  0.042693\n",
      "5.0_f1-score   0.310183  0.055049\n",
      "accuracy       0.736764  0.003936\n",
      "\n",
      "================================================================================\n",
      "\n",
      "================================================================================\n",
      "selected 200 features\n",
      "\n",
      "StackingCVClassifier prediction took 361.75549960136414 seconds.\n",
      "\n",
      "   3.0_precision  3.0_recall  3.0_f1-score  4.0_precision  4.0_recall  \\\n",
      "0       0.683486    0.253833      0.370186       0.748660    0.948180   \n",
      "1       0.663366    0.228279      0.339670       0.746854    0.951882   \n",
      "2       0.680000    0.232082      0.346056       0.744231    0.954966   \n",
      "3       0.629032    0.199659      0.303109       0.739904    0.949414   \n",
      "4       0.740933    0.244027      0.367137       0.748560    0.962369   \n",
      "5       0.666667    0.218430      0.329049       0.747099    0.953115   \n",
      "6       0.684524    0.196246      0.305040       0.741093    0.962369   \n",
      "7       0.675000    0.230375      0.343511       0.746756    0.958667   \n",
      "8       0.653465    0.224872      0.334601       0.742747    0.948148   \n",
      "9       0.636842    0.206133      0.311454       0.741795    0.948765   \n",
      "\n",
      "   4.0_f1-score  5.0_precision  5.0_recall  5.0_f1-score  accuracy  \n",
      "0      0.836690       0.444444    0.161616      0.237037  0.737755  \n",
      "1      0.836995       0.666667    0.262626      0.376812  0.738188  \n",
      "2      0.836531       0.518519    0.140000      0.220472  0.736021  \n",
      "3      0.831667       0.550000    0.222222      0.316547  0.727667  \n",
      "4      0.842105       0.551724    0.161616      0.250000  0.745447  \n",
      "5      0.837625       0.608696    0.282828      0.386207  0.737641  \n",
      "6      0.837359       0.696970    0.232323      0.348485  0.736340  \n",
      "7      0.839546       0.720000    0.181818      0.290323  0.740243  \n",
      "8      0.832972       0.583333    0.212121      0.311111  0.732437  \n",
      "9      0.832611       0.545455    0.242424      0.335664  0.729402  \n"
     ]
    },
    {
     "data": {
      "image/png": "[encoded data removed]",
      "text/plain": [
       "<Figure size 432x288 with 2 Axes>"
      ]
     },
     "metadata": {
      "needs_background": "light"
     },
     "output_type": "display_data"
    },
    {
     "name": "stdout",
     "output_type": "stream",
     "text": [
      "                   mean       std\n",
      "3.0_precision  0.671332  0.030980\n",
      "3.0_recall     0.223394  0.018635\n",
      "3.0_f1-score   0.334981  0.023551\n",
      "4.0_precision  0.744770  0.003226\n",
      "4.0_recall     0.953788  0.005619\n",
      "4.0_f1-score   0.836410  0.003229\n",
      "5.0_precision  0.588581  0.085596\n",
      "5.0_recall     0.209960  0.047321\n",
      "5.0_f1-score   0.307266  0.057452\n",
      "accuracy       0.736114  0.005201\n",
      "\n",
      "================================================================================\n",
      "\n",
      "================================================================================\n",
      "selected 300 features\n",
      "\n",
      "StackingCVClassifier prediction took 613.6839120388031 seconds.\n",
      "\n",
      "   3.0_precision  3.0_recall  3.0_f1-score  4.0_precision  4.0_recall  \\\n",
      "0       0.644898    0.269165      0.379808       0.750992    0.933991   \n",
      "1       0.674757    0.236797      0.350567       0.748425    0.952498   \n",
      "2       0.679245    0.245734      0.360902       0.746854    0.951882   \n",
      "3       0.611111    0.206485      0.308673       0.738462    0.947563   \n",
      "4       0.703349    0.250853      0.369811       0.749396    0.957434   \n",
      "5       0.643564    0.221843      0.329949       0.744108    0.954349   \n",
      "6       0.670330    0.208191      0.317708       0.741766    0.958667   \n",
      "7       0.657143    0.235495      0.346734       0.747709    0.956200   \n",
      "8       0.652174    0.229983      0.340050       0.741671    0.948148   \n",
      "9       0.641026    0.212947      0.319693       0.741562    0.949383   \n",
      "\n",
      "   4.0_f1-score  5.0_precision  5.0_recall  5.0_f1-score  accuracy  \n",
      "0      0.832554       0.391304    0.181818      0.248276  0.732553  \n",
      "1      0.838219       0.578947    0.222222      0.321168  0.739055  \n",
      "2      0.836995       0.482759    0.140000      0.217054  0.737321  \n",
      "3      0.830046       0.535714    0.151515      0.236220  0.725065  \n",
      "4      0.840737       0.653846    0.171717      0.272000  0.744146  \n",
      "5      0.836216       0.760000    0.191919      0.306452  0.735473  \n",
      "6      0.836383       0.724138    0.212121      0.328125  0.735906  \n",
      "7      0.839199       0.739130    0.171717      0.278689  0.739376  \n",
      "8      0.832295       0.535714    0.151515      0.236220  0.731136  \n",
      "9      0.832702       0.567568    0.212121      0.308824  0.730269  \n"
     ]
    },
    {
     "data": {
      "image/png": "[encoded data removed]",
      "text/plain": [
       "<Figure size 432x288 with 2 Axes>"
      ]
     },
     "metadata": {
      "needs_background": "light"
     },
     "output_type": "display_data"
    },
    {
     "name": "stdout",
     "output_type": "stream",
     "text": [
      "                   mean       std\n",
      "3.0_precision  0.657760  0.025477\n",
      "3.0_recall     0.231749  0.020133\n",
      "3.0_f1-score   0.342390  0.023575\n",
      "4.0_precision  0.745094  0.004144\n",
      "4.0_recall     0.951012  0.007097\n",
      "4.0_f1-score   0.835535  0.003473\n",
      "5.0_precision  0.596912  0.120292\n",
      "5.0_recall     0.180667  0.028572\n",
      "5.0_f1-score   0.275303  0.039705\n",
      "accuracy       0.735030  0.005453\n",
      "\n",
      "================================================================================\n",
      "\n"
     ]
    }
   ],
   "source": [
    "from sklearn.naive_bayes import MultinomialNB, CategoricalNB\n",
    "from sklearn import svm\n",
    "from sklearn.linear_model import LogisticRegression\n",
    "from sklearn.tree import DecisionTreeClassifier\n",
    "from sklearn.neighbors import KNeighborsClassifier\n",
    "from mlxtend.classifier import StackingCVClassifier\n",
    "\n",
    "mnb = MultinomialNB(alpha = 1)\n",
    "linearSVM = svm.LinearSVC(C=5, dual = False, random_state = 30027)\n",
    "logr = LogisticRegression(solver='sag', max_iter=50, random_state = 30027)\n",
    "dt = DecisionTreeClassifier(max_depth = 200, random_state = 30027)\n",
    "sclf = StackingCVClassifier(classifiers=[mnb, linearSVM, logr, dt], \n",
    "                            meta_classifier=CategoricalNB(),\n",
    "                            cv = 2,\n",
    "                            random_state=30027)\n",
    "\n",
    "nums = ['50', '100', '200', '300']\n",
    "train_dfs = [pd.read_csv(DATASET_DIR + \"train_df_\"+num+\".csv\", keep_default_na=False) for num in nums]\n",
    "\n",
    "for i in range(4): \n",
    "    print(\"================================================================================\")\n",
    "    print(f'selected {nums[i]} features\\n')\n",
    "    train_df = train_dfs[i]\n",
    "    X_train = train_df.iloc[:,:-1]\n",
    "    y_train = train_df.iloc[:,-1]\n",
    "    _, report = cross_val_report(sclf, X_train, y_train)\n",
    "    print(report)\n",
    "    print('\\n================================================================================\\n')"
   ]
  },
  {
   "cell_type": "code",
   "execution_count": null,
   "id": "2c452281",
   "metadata": {},
   "outputs": [],
   "source": []
  }
 ],
 "metadata": {
  "kernelspec": {
   "display_name": "Python 3",
   "language": "python",
   "name": "python3"
  }
 },
 "nbformat": 4,
 "nbformat_minor": 5
}
