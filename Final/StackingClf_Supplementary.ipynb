{
 "cells": [
  {
   "cell_type": "code",
   "execution_count": 7,
   "id": "61bc517d",
   "metadata": {},
   "outputs": [],
   "source": [
    "%run Global.ipynb\n",
    "%run Helper_Functions.ipynb"
   ]
  },
  {
   "cell_type": "code",
   "execution_count": 15,
   "id": "4f76d5e6",
   "metadata": {},
   "outputs": [],
   "source": [
    "train_df_ohe_selected = pd.read_csv(\"./Final/Datasets/train_df.csv\", keep_default_na=False)\n",
    "\n",
    "X = train_df_ohe_selected.iloc[:,:-1] # (transformed) attributes\n",
    "y = train_df_ohe_selected.iloc[:,-1]  # ground truth labels"
   ]
  },
  {
   "cell_type": "code",
   "execution_count": 16,
   "id": "d669399e",
   "metadata": {},
   "outputs": [],
   "source": [
    "# run in terminal: python -m pip install mlxtend\n",
    "# https://rasbt.github.io/mlxtend/user_guide/classifier/StackingCVClassifier/#example-3-stacked-cv-classification-and-gridsearch\n",
    "import mlxtend\n",
    "from mlxtend.classifier import StackingCVClassifier"
   ]
  },
  {
   "cell_type": "code",
   "execution_count": 17,
   "id": "deb6691e",
   "metadata": {},
   "outputs": [],
   "source": [
    "from sklearn.tree import DecisionTreeClassifier\n",
    "from sklearn.pipeline import Pipeline\n",
    "from sklearn.neighbors import KNeighborsClassifier\n",
    "from sklearn.naive_bayes import GaussianNB, MultinomialNB, CategoricalNB\n",
    "from sklearn.linear_model import LogisticRegression\n",
    "from sklearn import svm"
   ]
  },
  {
   "cell_type": "markdown",
   "id": "3463d7fe",
   "metadata": {},
   "source": [
    "## StackingClf1 - 5 Base with individually tuned hyperparameters"
   ]
  },
  {
   "cell_type": "markdown",
   "id": "2308d9de",
   "metadata": {},
   "source": [
    "### Tune base classifiers"
   ]
  },
  {
   "cell_type": "code",
   "execution_count": null,
   "id": "ba602fb4",
   "metadata": {},
   "outputs": [],
   "source": [
    "# tune knn\n",
    "knn = KNeighborsClassifier(n_neighbors=3)\n",
    "param_grid = {'n_neighbors': [1, 5, 10, 15]}\n",
    "grid_knn = tune_hyperparameter(knn, param_grid, X, y, cv=4)\n",
    "print(max(grid_knn['mean_test_accuracy']))\n",
    "grid_knn.loc[grid_knn['mean_test_accuracy'] == max(grid_knn['mean_test_accuracy'])]['params'].values"
   ]
  },
  {
   "cell_type": "code",
   "execution_count": null,
   "id": "fff0cccb",
   "metadata": {},
   "outputs": [],
   "source": [
    "knn = KNeighborsClassifier(n_neighbors=15)\n",
    "y_pred_knn, knn_report = cross_val_report(knn, X, y)\n",
    "knn_report"
   ]
  },
  {
   "cell_type": "code",
   "execution_count": null,
   "id": "1343bcfb",
   "metadata": {},
   "outputs": [],
   "source": [
    "# tune dt\n",
    "dt = DecisionTreeClassifier(random_state = 30027)\n",
    "dt.get_params()\n",
    "param_grid = {'criterion': ['gini', 'entropy', 'log_loss'], 'max_depth': [200, 400, 600]}\n",
    "grid_dt = tune_hyperparameter(dt, param_grid, X, y, cv = 3)\n",
    "print(max(grid_dt['mean_test_accuracy']))\n",
    "grid_dt.loc[grid_dt['mean_test_accuracy'] == max(grid_dt['mean_test_accuracy'])]['params'].values"
   ]
  },
  {
   "cell_type": "code",
   "execution_count": null,
   "id": "05297455",
   "metadata": {},
   "outputs": [],
   "source": [
    "dt = DecisionTreeClassifier(criterion = \"entropy\", max_depth = 400, random_state = 30027)\n",
    "y_pred_dt, dt_report = cross_val_report(dt, X, y)\n",
    "dt_report"
   ]
  },
  {
   "cell_type": "code",
   "execution_count": null,
   "id": "26421a66",
   "metadata": {},
   "outputs": [],
   "source": [
    "# tune mnb\n",
    "mnb = MultinomialNB()\n",
    "param_grid = {'alpha': [0.1, 0.5, 1,2]}\n",
    "grid_mnb = tune_hyperparameter(mnb, param_grid, X, y, cv=4)\n",
    "print(max(grid_mnb['mean_test_accuracy']))\n",
    "grid_mnb.loc[grid_mnb['mean_test_accuracy'] == max(grid_mnb['mean_test_accuracy'])]['params'].values"
   ]
  },
  {
   "cell_type": "code",
   "execution_count": null,
   "id": "59837e62",
   "metadata": {},
   "outputs": [],
   "source": [
    "mnb = MultinomialNB(alpha=1)\n",
    "y_pred_mnb, mnb_report = cross_val_report(mnb, X, y)\n",
    "mnb_report"
   ]
  },
  {
   "cell_type": "code",
   "execution_count": null,
   "id": "e5659ea5",
   "metadata": {},
   "outputs": [],
   "source": [
    "# tune svm\n",
    "linearSVM = svm.LinearSVC(dual=False, random_state=30027)\n",
    "param_grid = {'C': [1,3,5]}\n",
    "grid_svm = tune_hyperparameter(linearSVM, param_grid, X, y, cv=4)\n",
    "print(max(grid_svm['mean_test_accuracy']))\n",
    "grid_svm.loc[grid_svm['mean_test_accuracy'] == max(grid_svm['mean_test_accuracy'])]['params'].values"
   ]
  },
  {
   "cell_type": "code",
   "execution_count": null,
   "id": "109ee00d",
   "metadata": {},
   "outputs": [],
   "source": [
    "linearSVM = svm.LinearSVC(dual=False, C=5, random_state=30027)\n",
    "y_pred_svm, svm_report = cross_val_report(linearSVM, X, y)\n",
    "svm_report"
   ]
  },
  {
   "cell_type": "code",
   "execution_count": null,
   "id": "460614c4",
   "metadata": {},
   "outputs": [],
   "source": [
    "# base classifiers with individually tuned hyperparameters\n",
    "mnb = MultinomialNB(alpha=1)\n",
    "linearSVM = svm.LinearSVC(C=5, dual=False, random_state=30027)\n",
    "logr = LogisticRegression(solver='sag', max_iter=50, random_state = 30027)\n",
    "dt = DecisionTreeClassifier(criterion = \"entropy\", max_depth = 400, random_state = 30027)\n",
    "knn = KNeighborsClassifier(n_neighbors=15)\n",
    "\n",
    "sclf5 = StackingCVClassifier(classifiers=[mnb, linearSVM, logr, dt, knn], \n",
    "                            meta_classifier=CategoricalNB(),\n",
    "                            cv = 2,\n",
    "                            random_state=30027)\n",
    "y_pred5, sclf5_report = cross_val_report(sclf5, X, y)\n",
    "sclf5_report"
   ]
  },
  {
   "cell_type": "markdown",
   "id": "7a3fc758",
   "metadata": {},
   "source": [
    "### diversity"
   ]
  },
  {
   "cell_type": "code",
   "execution_count": null,
   "id": "da931a4c",
   "metadata": {},
   "outputs": [],
   "source": [
    "clfs = [\"mnb\", \"svm\", \"logr\", \"dt\", \"knn\"]\n",
    "preds0 = [cross_val_report(clf, X, y)[0] for clf in [mnb, linearSVM, logr, dt, knn]]\n",
    "predictions0 = pd.DataFrame({clfs[i]:preds0[i] for i in range(5)})\n",
    "differences0 = {clf:[] for clf in clfs}\n",
    "for clf1 in clfs: \n",
    "    for clf2 in clfs: \n",
    "        differences0[clf1].append(sum(predictions0[clf1] != predictions0[clf2]))\n",
    "differences0 = pd.DataFrame(differences0, index = clfs)\n",
    "differences0.style.background_gradient(cmap='Blues')"
   ]
  },
  {
   "cell_type": "markdown",
   "id": "e704c602",
   "metadata": {},
   "source": [
    "## StackingClf2 - 5 Base Classifiers with tuned hyperparameter"
   ]
  },
  {
   "cell_type": "code",
   "execution_count": null,
   "id": "3092e3e0",
   "metadata": {},
   "outputs": [],
   "source": [
    "sclf5 = StackingCVClassifier(classifiers=[mnb, linearSVM, logr, dt, knn], \n",
    "                            meta_classifier=CategoricalNB(),\n",
    "                            cv = 2,\n",
    "                            random_state=30027)\n",
    "param_grid = {'linearsvc__C': [1,5], 'multinomialnb__alpha': [0.5, 1], 'logisticregression__max_iter': [50, 100], 'decisiontreeclassifier__max_depth': [200, 400], 'kneighborsclassifier__n_neighbors': [5, 10, 15]}\n",
    "grid5 = tune_hyperparameter(sclf5, param_grid, X, y, cv=2)\n",
    "print(max(grid5['mean_test_accuracy']))\n",
    "grid5.loc[grid5['mean_test_accuracy'] == max(grid5['mean_test_accuracy'])]['params'].values"
   ]
  },
  {
   "cell_type": "code",
   "execution_count": null,
   "id": "3996167c",
   "metadata": {},
   "outputs": [],
   "source": [
    "# base classifiers with tuned hyperparameters\n",
    "mnb = MultinomialNB(alpha = 1)\n",
    "linearSVM = svm.LinearSVC(C=5, dual=False,random_state=30027)\n",
    "logr = LogisticRegression(solver='sag', max_iter=50, random_state = 30027)\n",
    "dt = DecisionTreeClassifier(max_depth = 200, random_state = 30027)\n",
    "knn = KNeighborsClassifier(n_neighbors=10)\n",
    "\n",
    "sclf5 = StackingCVClassifier(classifiers=[mnb, linearSVM, logr, dt, knn], \n",
    "                            meta_classifier=CategoricalNB(),\n",
    "                            cv = 2,\n",
    "                            random_state=30027)\n",
    "y_pred5, sclf5_report = cross_val_report(sclf5, X, y)\n",
    "sclf5_report"
   ]
  },
  {
   "cell_type": "markdown",
   "id": "fbcc5452",
   "metadata": {},
   "source": [
    "### diversity"
   ]
  },
  {
   "cell_type": "code",
   "execution_count": null,
   "id": "b5b7301f",
   "metadata": {},
   "outputs": [],
   "source": [
    "clfs = [\"mnb\", \"svm\", \"logr\", \"dt\", \"knn\"]\n",
    "preds1 = [cross_val_report(clf, X, y)[0] for clf in [mnb, linearSVM, logr, dt, knn]]\n",
    "predictions1 = pd.DataFrame({clfs[i]:preds1[i] for i in range(5)})\n",
    "differences1 = {clf:[] for clf in clfs}\n",
    "for clf1 in clfs: \n",
    "    for clf2 in clfs: \n",
    "        differences1[clf1].append(sum(predictions1[clf1] != predictions1[clf2]))\n",
    "differences1 = pd.DataFrame(differences1, index = clfs)\n",
    "differences1.style.background_gradient(cmap='Blues')"
   ]
  },
  {
   "cell_type": "markdown",
   "id": "4c483023",
   "metadata": {},
   "source": [
    "## Comparison between SVM, StackingClf1, StackingClf2"
   ]
  },
  {
   "cell_type": "code",
   "execution_count": null,
   "id": "f4891338",
   "metadata": {},
   "outputs": [],
   "source": [
    "import pandas as pd\n",
    "import matplotlib.pyplot as plt\n",
    "performances = {'Metrics': ['3-precision', '3-recall', '4-precision', '4-recall', '5-precision', '5-recall','accuracy'],\n",
    "                'SVM': [0.745, 0.183, 0.739, 0.969, 0.533, 0.199, 0.736],\n",
    "                'Stacking_Clf_1': [0.678, 0.212, 0.743, 0.957, 0.602, 0.209, 0.736],\n",
    "                'Stacking_Clf_2': [0.705, 0.198, 0.742, 0.963, 0.589, 0.214, 0.737]}\n",
    "performance_df = pd.DataFrame(performances, columns = ['Metrics', 'SVM', 'Stacking_Clf_1', 'Stacking_Clf_2'])\n",
    "print(performance_df)\n",
    "\n",
    "pos = list(range(len(performance_df['SVM'])))\n",
    "width = 0.25\n",
    "\n",
    "fig, ax = plt.subplots(figsize = (10,5))\n",
    "plt.bar(pos, performance_df['SVM'], width, alpha=0.5, color='Red')\n",
    "plt.bar([p+width for p in pos], performance_df['Stacking_Clf_1'], width, alpha=0.5, color='Orange')\n",
    "plt.bar([p+width*2 for p in pos], performance_df['Stacking_Clf_2'], width, alpha=0.5, color='Green')\n",
    "ax.set_ylabel('Performance')\n",
    "ax.set_title('Classifier Performance')\n",
    "ax.set_xticks([p+1.5*width for p in pos])\n",
    "ax.set_xticklabels(performance_df['Metrics'])\n",
    "plt.xlim(min(pos)-width, max(pos)+width*4)\n",
    "plt.ylim([0.15, 1])\n",
    "\n",
    "plt.legend(['SVM', 'Stacking_Clf_1', 'Stacking_Clf_2'], loc='upper left')\n",
    "plt.grid()\n",
    "plt.show()"
   ]
  },
  {
   "cell_type": "markdown",
   "id": "275aac53",
   "metadata": {},
   "source": [
    "## 4 Base Classifiers"
   ]
  },
  {
   "cell_type": "markdown",
   "id": "48697330",
   "metadata": {},
   "source": [
    "### remove kNN"
   ]
  },
  {
   "cell_type": "code",
   "execution_count": 18,
   "id": "6a0be3ce",
   "metadata": {},
   "outputs": [
    {
     "name": "stdout",
     "output_type": "stream",
     "text": [
      "Fitting 2 folds for each of 24 candidates, totalling 48 fits\n",
      "[CV] END decisiontreeclassifier__max_depth=200, linearsvc__C=1, logisticregression__max_iter=50, multinomialnb__alpha=0.1; total time=   9.6s\n",
      "[CV] END decisiontreeclassifier__max_depth=200, linearsvc__C=1, logisticregression__max_iter=50, multinomialnb__alpha=0.1; total time=   9.9s\n",
      "[CV] END decisiontreeclassifier__max_depth=200, linearsvc__C=1, logisticregression__max_iter=50, multinomialnb__alpha=0.5; total time=   8.9s\n",
      "[CV] END decisiontreeclassifier__max_depth=200, linearsvc__C=1, logisticregression__max_iter=50, multinomialnb__alpha=0.5; total time=  10.0s\n",
      "[CV] END decisiontreeclassifier__max_depth=200, linearsvc__C=1, logisticregression__max_iter=50, multinomialnb__alpha=1; total time=   9.1s\n",
      "[CV] END decisiontreeclassifier__max_depth=200, linearsvc__C=1, logisticregression__max_iter=50, multinomialnb__alpha=1; total time=  10.5s\n",
      "[CV] END decisiontreeclassifier__max_depth=200, linearsvc__C=1, logisticregression__max_iter=100, multinomialnb__alpha=0.1; total time=  13.8s\n",
      "[CV] END decisiontreeclassifier__max_depth=200, linearsvc__C=1, logisticregression__max_iter=100, multinomialnb__alpha=0.1; total time=  12.1s\n",
      "[CV] END decisiontreeclassifier__max_depth=200, linearsvc__C=1, logisticregression__max_iter=100, multinomialnb__alpha=0.5; total time=  14.7s\n",
      "[CV] END decisiontreeclassifier__max_depth=200, linearsvc__C=1, logisticregression__max_iter=100, multinomialnb__alpha=0.5; total time=  10.9s\n",
      "[CV] END decisiontreeclassifier__max_depth=200, linearsvc__C=1, logisticregression__max_iter=100, multinomialnb__alpha=1; total time=  10.1s\n",
      "[CV] END decisiontreeclassifier__max_depth=200, linearsvc__C=1, logisticregression__max_iter=100, multinomialnb__alpha=1; total time=  11.1s\n",
      "[CV] END decisiontreeclassifier__max_depth=200, linearsvc__C=5, logisticregression__max_iter=50, multinomialnb__alpha=0.1; total time=  10.4s\n",
      "[CV] END decisiontreeclassifier__max_depth=200, linearsvc__C=5, logisticregression__max_iter=50, multinomialnb__alpha=0.1; total time=  11.3s\n",
      "[CV] END decisiontreeclassifier__max_depth=200, linearsvc__C=5, logisticregression__max_iter=50, multinomialnb__alpha=0.5; total time=  10.4s\n",
      "[CV] END decisiontreeclassifier__max_depth=200, linearsvc__C=5, logisticregression__max_iter=50, multinomialnb__alpha=0.5; total time=  11.0s\n",
      "[CV] END decisiontreeclassifier__max_depth=200, linearsvc__C=5, logisticregression__max_iter=50, multinomialnb__alpha=1; total time=  10.3s\n",
      "[CV] END decisiontreeclassifier__max_depth=200, linearsvc__C=5, logisticregression__max_iter=50, multinomialnb__alpha=1; total time=  11.2s\n",
      "[CV] END decisiontreeclassifier__max_depth=200, linearsvc__C=5, logisticregression__max_iter=100, multinomialnb__alpha=0.1; total time=   8.9s\n",
      "[CV] END decisiontreeclassifier__max_depth=200, linearsvc__C=5, logisticregression__max_iter=100, multinomialnb__alpha=0.1; total time=  10.1s\n",
      "[CV] END decisiontreeclassifier__max_depth=200, linearsvc__C=5, logisticregression__max_iter=100, multinomialnb__alpha=0.5; total time=   9.2s\n",
      "[CV] END decisiontreeclassifier__max_depth=200, linearsvc__C=5, logisticregression__max_iter=100, multinomialnb__alpha=0.5; total time=  10.3s\n",
      "[CV] END decisiontreeclassifier__max_depth=200, linearsvc__C=5, logisticregression__max_iter=100, multinomialnb__alpha=1; total time=   9.6s\n",
      "[CV] END decisiontreeclassifier__max_depth=200, linearsvc__C=5, logisticregression__max_iter=100, multinomialnb__alpha=1; total time=  10.1s\n",
      "[CV] END decisiontreeclassifier__max_depth=400, linearsvc__C=1, logisticregression__max_iter=50, multinomialnb__alpha=0.1; total time=   9.9s\n",
      "[CV] END decisiontreeclassifier__max_depth=400, linearsvc__C=1, logisticregression__max_iter=50, multinomialnb__alpha=0.1; total time=  11.4s\n",
      "[CV] END decisiontreeclassifier__max_depth=400, linearsvc__C=1, logisticregression__max_iter=50, multinomialnb__alpha=0.5; total time=  10.5s\n",
      "[CV] END decisiontreeclassifier__max_depth=400, linearsvc__C=1, logisticregression__max_iter=50, multinomialnb__alpha=0.5; total time=   9.8s\n",
      "[CV] END decisiontreeclassifier__max_depth=400, linearsvc__C=1, logisticregression__max_iter=50, multinomialnb__alpha=1; total time=   8.7s\n",
      "[CV] END decisiontreeclassifier__max_depth=400, linearsvc__C=1, logisticregression__max_iter=50, multinomialnb__alpha=1; total time=   9.6s\n",
      "[CV] END decisiontreeclassifier__max_depth=400, linearsvc__C=1, logisticregression__max_iter=100, multinomialnb__alpha=0.1; total time=   9.1s\n",
      "[CV] END decisiontreeclassifier__max_depth=400, linearsvc__C=1, logisticregression__max_iter=100, multinomialnb__alpha=0.1; total time=   9.8s\n",
      "[CV] END decisiontreeclassifier__max_depth=400, linearsvc__C=1, logisticregression__max_iter=100, multinomialnb__alpha=0.5; total time=   9.1s\n",
      "[CV] END decisiontreeclassifier__max_depth=400, linearsvc__C=1, logisticregression__max_iter=100, multinomialnb__alpha=0.5; total time=   9.7s\n",
      "[CV] END decisiontreeclassifier__max_depth=400, linearsvc__C=1, logisticregression__max_iter=100, multinomialnb__alpha=1; total time=   8.8s\n",
      "[CV] END decisiontreeclassifier__max_depth=400, linearsvc__C=1, logisticregression__max_iter=100, multinomialnb__alpha=1; total time=   9.9s\n",
      "[CV] END decisiontreeclassifier__max_depth=400, linearsvc__C=5, logisticregression__max_iter=50, multinomialnb__alpha=0.1; total time=  10.6s\n",
      "[CV] END decisiontreeclassifier__max_depth=400, linearsvc__C=5, logisticregression__max_iter=50, multinomialnb__alpha=0.1; total time=  10.7s\n",
      "[CV] END decisiontreeclassifier__max_depth=400, linearsvc__C=5, logisticregression__max_iter=50, multinomialnb__alpha=0.5; total time=   9.2s\n",
      "[CV] END decisiontreeclassifier__max_depth=400, linearsvc__C=5, logisticregression__max_iter=50, multinomialnb__alpha=0.5; total time=   9.9s\n",
      "[CV] END decisiontreeclassifier__max_depth=400, linearsvc__C=5, logisticregression__max_iter=50, multinomialnb__alpha=1; total time=   9.5s\n",
      "[CV] END decisiontreeclassifier__max_depth=400, linearsvc__C=5, logisticregression__max_iter=50, multinomialnb__alpha=1; total time=   9.7s\n",
      "[CV] END decisiontreeclassifier__max_depth=400, linearsvc__C=5, logisticregression__max_iter=100, multinomialnb__alpha=0.1; total time=   9.0s\n",
      "[CV] END decisiontreeclassifier__max_depth=400, linearsvc__C=5, logisticregression__max_iter=100, multinomialnb__alpha=0.1; total time=   9.8s\n",
      "[CV] END decisiontreeclassifier__max_depth=400, linearsvc__C=5, logisticregression__max_iter=100, multinomialnb__alpha=0.5; total time=   9.0s\n",
      "[CV] END decisiontreeclassifier__max_depth=400, linearsvc__C=5, logisticregression__max_iter=100, multinomialnb__alpha=0.5; total time=   9.7s\n",
      "[CV] END decisiontreeclassifier__max_depth=400, linearsvc__C=5, logisticregression__max_iter=100, multinomialnb__alpha=1; total time=   8.9s\n",
      "[CV] END decisiontreeclassifier__max_depth=400, linearsvc__C=5, logisticregression__max_iter=100, multinomialnb__alpha=1; total time=   9.7s\n",
      "0.7342929703166656\n"
     ]
    },
    {
     "data": {
      "text/plain": [
       "array([{'decisiontreeclassifier__max_depth': 200, 'linearsvc__C': 5, 'logisticregression__max_iter': 50, 'multinomialnb__alpha': 1},\n",
       "       {'decisiontreeclassifier__max_depth': 200, 'linearsvc__C': 5, 'logisticregression__max_iter': 100, 'multinomialnb__alpha': 1}],\n",
       "      dtype=object)"
      ]
     },
     "execution_count": 18,
     "metadata": {},
     "output_type": "execute_result"
    }
   ],
   "source": [
    "mnb = MultinomialNB(alpha = 1)\n",
    "linearSVM = svm.LinearSVC(C=5, dual=False,random_state=30027)\n",
    "logr = LogisticRegression(solver='sag', max_iter=50, random_state = 30027)\n",
    "dt = DecisionTreeClassifier(max_depth = 200, random_state = 30027)\n",
    "\n",
    "sclf_knn = StackingCVClassifier(classifiers=[mnb, linearSVM, logr, dt], \n",
    "                            meta_classifier=CategoricalNB(),\n",
    "                            cv = 2,\n",
    "                            random_state=30027)\n",
    "param_grid = {'linearsvc__C': [1, 5], 'multinomialnb__alpha': [0.1, 0.5, 1], 'logisticregression__max_iter': [50, 100], 'decisiontreeclassifier__max_depth': [200, 400]}\n",
    "grid4_cat = tune_hyperparameter(sclf_knn, param_grid, X, y, cv=2)\n",
    "print(max(grid4_cat['mean_test_accuracy']))\n",
    "grid4_cat.loc[grid4_cat['mean_test_accuracy'] == max(grid4_cat['mean_test_accuracy'])]['params'].values\n"
   ]
  },
  {
   "cell_type": "code",
   "execution_count": 19,
   "id": "12bc87a0",
   "metadata": {},
   "outputs": [
    {
     "name": "stdout",
     "output_type": "stream",
     "text": [
      "StackingCVClassifier prediction took 184.0039768218994 seconds.\n",
      "\n",
      "   3.0_precision  3.0_recall  3.0_f1-score  4.0_precision  4.0_recall  \\\n",
      "0       0.707182    0.218058      0.333333       0.743541    0.958667   \n",
      "1       0.708333    0.202726      0.315232       0.741584    0.964837   \n",
      "2       0.682081    0.201365      0.310935       0.741305    0.959901   \n",
      "3       0.680723    0.192833      0.300532       0.739934    0.963603   \n",
      "4       0.754491    0.215017      0.334661       0.743250    0.967921   \n",
      "5       0.666667    0.184300      0.288770       0.740229    0.958051   \n",
      "6       0.724138    0.179181      0.287278       0.739539    0.970389   \n",
      "7       0.713415    0.199659      0.312000       0.742439    0.969155   \n",
      "8       0.707602    0.206133      0.319261       0.741445    0.962963   \n",
      "9       0.707792    0.185690      0.294197       0.739336    0.962963   \n",
      "\n",
      "   4.0_f1-score  5.0_precision  5.0_recall  5.0_f1-score  accuracy  \n",
      "0      0.837510       0.500000    0.181818      0.266667  0.736888  \n",
      "1      0.838606       0.700000    0.212121      0.325581  0.738622  \n",
      "2      0.836559       0.542857    0.190000      0.281481  0.733853  \n",
      "3      0.837085       0.586207    0.171717      0.265625  0.733738  \n",
      "4      0.840836       0.535714    0.151515      0.236220  0.741544  \n",
      "5      0.835171       0.586957    0.272727      0.372414  0.732003  \n",
      "6      0.839381       0.705882    0.242424      0.360902  0.738075  \n",
      "7      0.840781       0.692308    0.181818      0.288000  0.739809  \n",
      "8      0.837809       0.645161    0.202020      0.307692  0.737641  \n",
      "9      0.836461       0.547619    0.232323      0.326241  0.733738  \n"
     ]
    },
    {
     "data": {
      "image/png": "[encoded data removed]",
      "text/plain": [
       "<Figure size 432x288 with 2 Axes>"
      ]
     },
     "metadata": {
      "needs_background": "light"
     },
     "output_type": "display_data"
    },
    {
     "data": {
      "text/html": [
       "<div>\n",
       "<style scoped>\n",
       "    .dataframe tbody tr th:only-of-type {\n",
       "        vertical-align: middle;\n",
       "    }\n",
       "\n",
       "    .dataframe tbody tr th {\n",
       "        vertical-align: top;\n",
       "    }\n",
       "\n",
       "    .dataframe thead th {\n",
       "        text-align: right;\n",
       "    }\n",
       "</style>\n",
       "<table border=\"1\" class=\"dataframe\">\n",
       "  <thead>\n",
       "    <tr style=\"text-align: right;\">\n",
       "      <th></th>\n",
       "      <th>mean</th>\n",
       "      <th>std</th>\n",
       "    </tr>\n",
       "  </thead>\n",
       "  <tbody>\n",
       "    <tr>\n",
       "      <th>3.0_precision</th>\n",
       "      <td>0.705242</td>\n",
       "      <td>0.024722</td>\n",
       "    </tr>\n",
       "    <tr>\n",
       "      <th>3.0_recall</th>\n",
       "      <td>0.198496</td>\n",
       "      <td>0.012962</td>\n",
       "    </tr>\n",
       "    <tr>\n",
       "      <th>3.0_f1-score</th>\n",
       "      <td>0.309620</td>\n",
       "      <td>0.016917</td>\n",
       "    </tr>\n",
       "    <tr>\n",
       "      <th>4.0_precision</th>\n",
       "      <td>0.741260</td>\n",
       "      <td>0.001497</td>\n",
       "    </tr>\n",
       "    <tr>\n",
       "      <th>4.0_recall</th>\n",
       "      <td>0.963845</td>\n",
       "      <td>0.004297</td>\n",
       "    </tr>\n",
       "    <tr>\n",
       "      <th>4.0_f1-score</th>\n",
       "      <td>0.838020</td>\n",
       "      <td>0.001874</td>\n",
       "    </tr>\n",
       "    <tr>\n",
       "      <th>5.0_precision</th>\n",
       "      <td>0.604271</td>\n",
       "      <td>0.076078</td>\n",
       "    </tr>\n",
       "    <tr>\n",
       "      <th>5.0_recall</th>\n",
       "      <td>0.203848</td>\n",
       "      <td>0.036589</td>\n",
       "    </tr>\n",
       "    <tr>\n",
       "      <th>5.0_f1-score</th>\n",
       "      <td>0.303082</td>\n",
       "      <td>0.043599</td>\n",
       "    </tr>\n",
       "    <tr>\n",
       "      <th>accuracy</th>\n",
       "      <td>0.736591</td>\n",
       "      <td>0.003113</td>\n",
       "    </tr>\n",
       "  </tbody>\n",
       "</table>\n",
       "</div>"
      ],
      "text/plain": [
       "                   mean       std\n",
       "3.0_precision  0.705242  0.024722\n",
       "3.0_recall     0.198496  0.012962\n",
       "3.0_f1-score   0.309620  0.016917\n",
       "4.0_precision  0.741260  0.001497\n",
       "4.0_recall     0.963845  0.004297\n",
       "4.0_f1-score   0.838020  0.001874\n",
       "5.0_precision  0.604271  0.076078\n",
       "5.0_recall     0.203848  0.036589\n",
       "5.0_f1-score   0.303082  0.043599\n",
       "accuracy       0.736591  0.003113"
      ]
     },
     "execution_count": 19,
     "metadata": {},
     "output_type": "execute_result"
    }
   ],
   "source": [
    "mnb = MultinomialNB(alpha = 1)\n",
    "linearSVM = svm.LinearSVC(C=5, dual=False,random_state=30027)\n",
    "logr = LogisticRegression(solver='sag', max_iter=50, random_state = 30027)\n",
    "dt = DecisionTreeClassifier(max_depth = 200, random_state = 30027)\n",
    "\n",
    "sclf_knn = StackingCVClassifier(classifiers=[mnb, linearSVM, logr, dt], \n",
    "                            meta_classifier=CategoricalNB(),\n",
    "                            cv = 2,\n",
    "                            random_state=30027)\n",
    "y_pred_knn, sclf_knn_report = cross_val_report(sclf_knn, X, y)\n",
    "sclf_knn_report"
   ]
  },
  {
   "cell_type": "markdown",
   "id": "55b03eb8",
   "metadata": {},
   "source": [
    "### remove decision tree"
   ]
  },
  {
   "cell_type": "code",
   "execution_count": null,
   "id": "289ace9e",
   "metadata": {},
   "outputs": [],
   "source": [
    "param_grid = {'linearsvc__C': [1,5], 'multinomialnb__alpha': [0.1, 0.5, 1], 'logisticregression__max_iter': [50, 100], 'kneighborsclassifier__n_neighbors': [5, 10, 15]}\n",
    "sclf_dt = StackingCVClassifier(classifiers=[mnb, linearSVM, logr, knn], \n",
    "                            meta_classifier=CategoricalNB(),\n",
    "                            cv = 2,\n",
    "                            random_state=30027)\n",
    "grid_dt = tune_hyperparameter(sclf_dt, param_grid, X, y, cv=2)\n",
    "print(max(grid_dt['mean_test_accuracy']))\n",
    "grid_dt.loc[grid_dt['mean_test_accuracy'] == max(grid_dt['mean_test_accuracy'])]['params'].values"
   ]
  },
  {
   "cell_type": "code",
   "execution_count": null,
   "id": "10eb865b",
   "metadata": {},
   "outputs": [],
   "source": [
    "mnb = MultinomialNB(alpha = 2)\n",
    "linearSVM = svm.LinearSVC(random_state=30027, C=5)\n",
    "logr = LogisticRegression(solver='sag', max_iter=50, random_state = 30027)\n",
    "knn = KNeighborsClassifier(n_neighbors=10)\n",
    "\n",
    "sclf_dt = StackingCVClassifier(classifiers=[mnb, linearSVM, logr, knn], \n",
    "                            meta_classifier=CategoricalNB(),\n",
    "                            cv = 2,\n",
    "                            random_state=30027)\n",
    "y_pred_dt, sclf_dt_report = cross_val_report(sclf_dt, X, y)\n",
    "sclf_dt_report"
   ]
  },
  {
   "cell_type": "markdown",
   "id": "5b46ce31",
   "metadata": {},
   "source": [
    "## 3 Base Classifiers"
   ]
  },
  {
   "cell_type": "code",
   "execution_count": null,
   "id": "925cd85d",
   "metadata": {},
   "outputs": [],
   "source": [
    "param_grid = {'linearsvc__C': [1,5], 'multinomialnb__alpha': [0.1, 0.5, 1], 'logisticregression__max_iter': [50, 100]}\n",
    "sclf3_cat = StackingCVClassifier(classifiers=[mnb, linearSVM, logr], \n",
    "                            meta_classifier=CategoricalNB(),\n",
    "                            cv = 2,\n",
    "                            random_state=30027)\n",
    "sclf3_cat.meta_classifier = CategoricalNB()\n",
    "grid_cat = tune_hyperparameter(sclf3_cat, param_grid, X, y, cv=2)\n",
    "print(max(grid_cat['mean_test_accuracy']))\n",
    "grid_cat.loc[grid_cat['mean_test_accuracy'] == max(grid_cat['mean_test_accuracy'])]['params'].values"
   ]
  },
  {
   "cell_type": "code",
   "execution_count": null,
   "id": "5f391b04",
   "metadata": {},
   "outputs": [],
   "source": [
    "mnb = MultinomialNB(alpha = 1)\n",
    "linearSVM = svm.LinearSVC(random_state=30027, C=5)\n",
    "logr = LogisticRegression(solver='sag', max_iter=50, random_state = 30027)\n",
    "\n",
    "sclf3_cat = StackingCVClassifier(classifiers=[mnb, linearSVM, logr], \n",
    "                            meta_classifier=CategoricalNB(),\n",
    "                            cv = 2,\n",
    "                            random_state=30027)\n",
    "y_pred3_cat, sclf3_cat_report = cross_val_report(sclf3_cat, X, y)\n",
    "sclf3_cat_report"
   ]
  },
  {
   "cell_type": "markdown",
   "id": "0c2432ce",
   "metadata": {},
   "source": [
    "## Choose metaclassifier"
   ]
  },
  {
   "cell_type": "code",
   "execution_count": 101,
   "id": "cc7eb713",
   "metadata": {},
   "outputs": [
    {
     "name": "stdout",
     "output_type": "stream",
     "text": [
      "============================== Logistic regression ==============================\n",
      "StackingCVClassifier prediction took 469.1887540817261 seconds.\n",
      "\n",
      "   3.0_precision  3.0_recall  3.0_f1-score  4.0_precision  4.0_recall  \\\n",
      "0       0.729032    0.192504      0.304582       0.737213    0.969155   \n",
      "1       0.726619    0.172061      0.278237       0.735734    0.970389   \n",
      "2       0.751773    0.180887      0.291609       0.736156    0.975941   \n",
      "3       0.733813    0.174061      0.281379       0.735691    0.975324   \n",
      "4       0.774648    0.187713      0.302198       0.737209    0.977791   \n",
      "5       0.730496    0.175768      0.283356       0.738195    0.974090   \n",
      "6       0.745902    0.155290      0.257062       0.733025    0.979025   \n",
      "7       0.770833    0.189420      0.304110       0.741017    0.979642   \n",
      "8       0.789855    0.185690      0.300690       0.736427    0.979630   \n",
      "9       0.726027    0.180579      0.289222       0.737850    0.974691   \n",
      "\n",
      "   4.0_f1-score  5.0_precision  5.0_recall  5.0_f1-score  accuracy  \n",
      "0      0.837420       0.476190    0.101010      0.166667  0.734287  \n",
      "1      0.836925       0.633333    0.191919      0.294574  0.733853  \n",
      "2      0.839257       0.529412    0.090000      0.153846  0.735587  \n",
      "3      0.838727       0.777778    0.141414      0.239316  0.735906  \n",
      "4      0.840626       0.714286    0.101010      0.176991  0.739376  \n",
      "5      0.839894       0.769231    0.202020      0.320000  0.738075  \n",
      "6      0.838352       0.842105    0.161616      0.271186  0.734605  \n",
      "7      0.843783       0.789474    0.151515      0.254237  0.743278  \n",
      "8      0.840795       0.615385    0.080808      0.142857  0.738942  \n",
      "9      0.839894       0.750000    0.151515      0.252101  0.737207  \n"
     ]
    },
    {
     "data": {
      "image/png": "[encoded data removed]",
      "text/plain": [
       "<Figure size 432x288 with 2 Axes>"
      ]
     },
     "metadata": {
      "needs_background": "light"
     },
     "output_type": "display_data"
    },
    {
     "name": "stdout",
     "output_type": "stream",
     "text": [
      "                   mean       std\n",
      "3.0_precision  0.747900  0.023116\n",
      "3.0_recall     0.179397  0.010859\n",
      "3.0_f1-score   0.289245  0.014959\n",
      "4.0_precision  0.736852  0.002063\n",
      "4.0_recall     0.975568  0.003668\n",
      "4.0_f1-score   0.839567  0.001958\n",
      "5.0_precision  0.689719  0.120869\n",
      "5.0_recall     0.137283  0.042488\n",
      "5.0_f1-score   0.227178  0.062595\n",
      "accuracy       0.737112  0.002908\n",
      "\n",
      "\n",
      "\n",
      "============================== Categorical naive bayes ==============================\n",
      "StackingCVClassifier prediction took 467.2307381629944 seconds.\n",
      "\n",
      "   3.0_precision  3.0_recall  3.0_f1-score  4.0_precision  4.0_recall  \\\n",
      "0       0.701087    0.219761      0.334630       0.744264    0.960518   \n",
      "1       0.691358    0.190801      0.299065       0.740038    0.962369   \n",
      "2       0.689266    0.208191      0.319790       0.741782    0.960518   \n",
      "3       0.692771    0.196246      0.305851       0.740548    0.966687   \n",
      "4       0.723757    0.223549      0.341591       0.745098    0.961135   \n",
      "5       0.683230    0.187713      0.294511       0.740284    0.963603   \n",
      "6       0.734694    0.184300      0.294679       0.740828    0.971622   \n",
      "7       0.705882    0.204778      0.317460       0.742532    0.966070   \n",
      "8       0.718563    0.204429      0.318302       0.741355    0.966049   \n",
      "9       0.712500    0.194208      0.305221       0.741690    0.964198   \n",
      "\n",
      "   4.0_f1-score  5.0_precision  5.0_recall  5.0_f1-score  accuracy  \n",
      "0      0.838675       0.580645    0.181818      0.276923  0.738622  \n",
      "1      0.836685       0.648649    0.242424      0.352941  0.735154  \n",
      "2      0.837097       0.516129    0.160000      0.244275  0.734720  \n",
      "3      0.838641       0.666667    0.161616      0.260163  0.736340  \n",
      "4      0.839440       0.558824    0.191919      0.285714  0.740676  \n",
      "5      0.837309       0.685714    0.242424      0.358209  0.735473  \n",
      "6      0.840673       0.727273    0.242424      0.363636  0.740243  \n",
      "7      0.839678       0.666667    0.181818      0.285714  0.738942  \n",
      "8      0.838917       0.678571    0.191919      0.299213  0.738942  \n",
      "9      0.838433       0.575000    0.232323      0.330935  0.736774  \n"
     ]
    },
    {
     "data": {
      "image/png": "[encoded data removed]",
      "text/plain": [
       "<Figure size 432x288 with 2 Axes>"
      ]
     },
     "metadata": {
      "needs_background": "light"
     },
     "output_type": "display_data"
    },
    {
     "name": "stdout",
     "output_type": "stream",
     "text": [
      "                   mean       std\n",
      "3.0_precision  0.705311  0.016819\n",
      "3.0_recall     0.201398  0.013186\n",
      "3.0_f1-score   0.313110  0.016202\n",
      "4.0_precision  0.741842  0.001686\n",
      "4.0_recall     0.964277  0.003470\n",
      "4.0_f1-score   0.838555  0.001241\n",
      "5.0_precision  0.630414  0.067867\n",
      "5.0_recall     0.202869  0.033710\n",
      "5.0_f1-score   0.305772  0.042815\n",
      "accuracy       0.737589  0.002164\n",
      "\n",
      "\n",
      "\n"
     ]
    }
   ],
   "source": [
    "# 4 base classifiers - removed kNN\n",
    "sclf = sclf_knn\n",
    "meta_clfs = {\"Logistic regression\": LogisticRegression(random_state = 30027), \"Categorical naive bayes\": CategoricalNB()}\n",
    "predictions = {}\n",
    "reports = {}\n",
    "for name, meta_clf in meta_clfs.items(): \n",
    "    sclf.meta_classifier = meta_clf\n",
    "    print(f'============================== {name} ==============================')\n",
    "    predictions[name], reports[name] = cross_val_report(sclf, X, y)\n",
    "    print(reports[name])\n",
    "    print('\\n\\n')"
   ]
  },
  {
   "cell_type": "markdown",
   "id": "d9369b9d",
   "metadata": {},
   "source": [
    "## using different number of feature selection"
   ]
  },
  {
   "cell_type": "code",
   "execution_count": 6,
   "id": "e2a6055b",
   "metadata": {},
   "outputs": [
    {
     "name": "stdout",
     "output_type": "stream",
     "text": [
      "================================================================================\n",
      "selected 50 features\n",
      "\n",
      "StackingCVClassifier prediction took 179.56503820419312 seconds.\n",
      "\n",
      "   3.0_precision  3.0_recall  3.0_f1-score  4.0_precision  4.0_recall  \\\n",
      "0       0.707182    0.218058      0.333333       0.743541    0.958667   \n",
      "1       0.708333    0.202726      0.315232       0.741584    0.964837   \n",
      "2       0.682081    0.201365      0.310935       0.741305    0.959901   \n",
      "3       0.680723    0.192833      0.300532       0.739934    0.963603   \n",
      "4       0.754491    0.215017      0.334661       0.743250    0.967921   \n",
      "5       0.666667    0.184300      0.288770       0.740229    0.958051   \n",
      "6       0.724138    0.179181      0.287278       0.739539    0.970389   \n",
      "7       0.713415    0.199659      0.312000       0.742439    0.969155   \n",
      "8       0.707602    0.206133      0.319261       0.741445    0.962963   \n",
      "9       0.707792    0.185690      0.294197       0.739336    0.962963   \n",
      "\n",
      "   4.0_f1-score  5.0_precision  5.0_recall  5.0_f1-score  accuracy  \n",
      "0      0.837510       0.500000    0.181818      0.266667  0.736888  \n",
      "1      0.838606       0.700000    0.212121      0.325581  0.738622  \n",
      "2      0.836559       0.542857    0.190000      0.281481  0.733853  \n",
      "3      0.837085       0.586207    0.171717      0.265625  0.733738  \n",
      "4      0.840836       0.535714    0.151515      0.236220  0.741544  \n",
      "5      0.835171       0.586957    0.272727      0.372414  0.732003  \n",
      "6      0.839381       0.705882    0.242424      0.360902  0.738075  \n",
      "7      0.840781       0.692308    0.181818      0.288000  0.739809  \n",
      "8      0.837809       0.645161    0.202020      0.307692  0.737641  \n",
      "9      0.836461       0.547619    0.232323      0.326241  0.733738  \n"
     ]
    },
    {
     "data": {
      "image/png": "[encoded data removed]",
      "text/plain": [
       "<Figure size 432x288 with 2 Axes>"
      ]
     },
     "metadata": {
      "needs_background": "light"
     },
     "output_type": "display_data"
    },
    {
     "name": "stdout",
     "output_type": "stream",
     "text": [
      "                   mean       std\n",
      "3.0_precision  0.705242  0.024722\n",
      "3.0_recall     0.198496  0.012962\n",
      "3.0_f1-score   0.309620  0.016917\n",
      "4.0_precision  0.741260  0.001497\n",
      "4.0_recall     0.963845  0.004297\n",
      "4.0_f1-score   0.838020  0.001874\n",
      "5.0_precision  0.604271  0.076078\n",
      "5.0_recall     0.203848  0.036589\n",
      "5.0_f1-score   0.303082  0.043599\n",
      "accuracy       0.736591  0.003113\n",
      "\n",
      "================================================================================\n",
      "\n",
      "\n",
      "================================================================================\n",
      "selected 100 features\n",
      "\n",
      "StackingCVClassifier prediction took 256.4132900238037 seconds.\n",
      "\n",
      "   3.0_precision  3.0_recall  3.0_f1-score  4.0_precision  4.0_recall  \\\n",
      "0       0.695000    0.236797      0.353240       0.746016    0.953115   \n",
      "1       0.682796    0.216354      0.328590       0.745673    0.956817   \n",
      "2       0.688525    0.215017      0.327698       0.743295    0.957434   \n",
      "3       0.640449    0.194539      0.298429       0.739027    0.955583   \n",
      "4       0.748571    0.223549      0.344284       0.744297    0.966070   \n",
      "5       0.674157    0.204778      0.314136       0.744019    0.959284   \n",
      "6       0.701863    0.192833      0.302544       0.740548    0.966687   \n",
      "7       0.694915    0.209898      0.322412       0.743821    0.965453   \n",
      "8       0.682796    0.216354      0.328590       0.742926    0.956173   \n",
      "9       0.678788    0.190801      0.297872       0.739648    0.959259   \n",
      "\n",
      "   4.0_f1-score  5.0_precision  5.0_recall  5.0_f1-score  accuracy  \n",
      "0      0.836945       0.472222    0.171717      0.251852  0.737321  \n",
      "1      0.838152       0.682927    0.282828      0.400000  0.739489  \n",
      "2      0.836883       0.527778    0.190000      0.279412  0.735587  \n",
      "3      0.833468       0.531250    0.171717      0.259542  0.728534  \n",
      "4      0.840805       0.555556    0.151515      0.238095  0.742411  \n",
      "5      0.838049       0.684211    0.262626      0.379562  0.737641  \n",
      "6      0.838641       0.758621    0.222222      0.343750  0.738075  \n",
      "7      0.840268       0.720000    0.181818      0.290323  0.739809  \n",
      "8      0.836167       0.628571    0.222222      0.328358  0.736340  \n",
      "9      0.835259       0.575000    0.232323      0.330935  0.732437  \n"
     ]
    },
    {
     "data": {
      "image/png": "[encoded data removed]",
      "text/plain": [
       "<Figure size 432x288 with 2 Axes>"
      ]
     },
     "metadata": {
      "needs_background": "light"
     },
     "output_type": "display_data"
    },
    {
     "name": "stdout",
     "output_type": "stream",
     "text": [
      "                   mean       std\n",
      "3.0_precision  0.688786  0.026964\n",
      "3.0_recall     0.210092  0.014671\n",
      "3.0_f1-score   0.321779  0.018767\n",
      "4.0_precision  0.742927  0.002420\n",
      "4.0_recall     0.959588  0.004818\n",
      "4.0_f1-score   0.837464  0.002220\n",
      "5.0_precision  0.613614  0.095080\n",
      "5.0_recall     0.208899  0.042693\n",
      "5.0_f1-score   0.310183  0.055049\n",
      "accuracy       0.736764  0.003936\n",
      "\n",
      "================================================================================\n",
      "\n",
      "\n",
      "================================================================================\n",
      "selected 200 features\n",
      "\n",
      "StackingCVClassifier prediction took 342.240825176239 seconds.\n",
      "\n",
      "   3.0_precision  3.0_recall  3.0_f1-score  4.0_precision  4.0_recall  \\\n",
      "0       0.683486    0.253833      0.370186       0.748660    0.948180   \n",
      "1       0.663366    0.228279      0.339670       0.746854    0.951882   \n",
      "2       0.680000    0.232082      0.346056       0.744231    0.954966   \n",
      "3       0.629032    0.199659      0.303109       0.739904    0.949414   \n",
      "4       0.740933    0.244027      0.367137       0.748560    0.962369   \n",
      "5       0.666667    0.218430      0.329049       0.747099    0.953115   \n",
      "6       0.684524    0.196246      0.305040       0.741093    0.962369   \n",
      "7       0.675000    0.230375      0.343511       0.746756    0.958667   \n",
      "8       0.653465    0.224872      0.334601       0.742747    0.948148   \n",
      "9       0.636842    0.206133      0.311454       0.741795    0.948765   \n",
      "\n",
      "   4.0_f1-score  5.0_precision  5.0_recall  5.0_f1-score  accuracy  \n",
      "0      0.836690       0.444444    0.161616      0.237037  0.737755  \n",
      "1      0.836995       0.666667    0.262626      0.376812  0.738188  \n",
      "2      0.836531       0.518519    0.140000      0.220472  0.736021  \n",
      "3      0.831667       0.550000    0.222222      0.316547  0.727667  \n",
      "4      0.842105       0.551724    0.161616      0.250000  0.745447  \n",
      "5      0.837625       0.608696    0.282828      0.386207  0.737641  \n",
      "6      0.837359       0.696970    0.232323      0.348485  0.736340  \n",
      "7      0.839546       0.720000    0.181818      0.290323  0.740243  \n",
      "8      0.832972       0.583333    0.212121      0.311111  0.732437  \n",
      "9      0.832611       0.545455    0.242424      0.335664  0.729402  \n"
     ]
    },
    {
     "data": {
      "image/png": "[encoded data removed]",
      "text/plain": [
       "<Figure size 432x288 with 2 Axes>"
      ]
     },
     "metadata": {
      "needs_background": "light"
     },
     "output_type": "display_data"
    },
    {
     "name": "stdout",
     "output_type": "stream",
     "text": [
      "                   mean       std\n",
      "3.0_precision  0.671332  0.030980\n",
      "3.0_recall     0.223394  0.018635\n",
      "3.0_f1-score   0.334981  0.023551\n",
      "4.0_precision  0.744770  0.003226\n",
      "4.0_recall     0.953788  0.005619\n",
      "4.0_f1-score   0.836410  0.003229\n",
      "5.0_precision  0.588581  0.085596\n",
      "5.0_recall     0.209960  0.047321\n",
      "5.0_f1-score   0.307266  0.057452\n",
      "accuracy       0.736114  0.005201\n",
      "\n",
      "================================================================================\n",
      "\n",
      "\n",
      "================================================================================\n",
      "selected 300 features\n",
      "\n",
      "StackingCVClassifier prediction took 394.88301610946655 seconds.\n",
      "\n",
      "   3.0_precision  3.0_recall  3.0_f1-score  4.0_precision  4.0_recall  \\\n",
      "0       0.644898    0.269165      0.379808       0.750992    0.933991   \n",
      "1       0.674757    0.236797      0.350567       0.748425    0.952498   \n",
      "2       0.679245    0.245734      0.360902       0.746854    0.951882   \n",
      "3       0.611111    0.206485      0.308673       0.738462    0.947563   \n",
      "4       0.703349    0.250853      0.369811       0.749396    0.957434   \n",
      "5       0.643564    0.221843      0.329949       0.744108    0.954349   \n",
      "6       0.670330    0.208191      0.317708       0.741766    0.958667   \n",
      "7       0.657143    0.235495      0.346734       0.747709    0.956200   \n",
      "8       0.652174    0.229983      0.340050       0.741671    0.948148   \n",
      "9       0.641026    0.212947      0.319693       0.741562    0.949383   \n",
      "\n",
      "   4.0_f1-score  5.0_precision  5.0_recall  5.0_f1-score  accuracy  \n",
      "0      0.832554       0.391304    0.181818      0.248276  0.732553  \n",
      "1      0.838219       0.578947    0.222222      0.321168  0.739055  \n",
      "2      0.836995       0.482759    0.140000      0.217054  0.737321  \n",
      "3      0.830046       0.535714    0.151515      0.236220  0.725065  \n",
      "4      0.840737       0.653846    0.171717      0.272000  0.744146  \n",
      "5      0.836216       0.760000    0.191919      0.306452  0.735473  \n",
      "6      0.836383       0.724138    0.212121      0.328125  0.735906  \n",
      "7      0.839199       0.739130    0.171717      0.278689  0.739376  \n",
      "8      0.832295       0.535714    0.151515      0.236220  0.731136  \n",
      "9      0.832702       0.567568    0.212121      0.308824  0.730269  \n"
     ]
    },
    {
     "data": {
      "image/png": "[encoded data removed]",
      "text/plain": [
       "<Figure size 432x288 with 2 Axes>"
      ]
     },
     "metadata": {
      "needs_background": "light"
     },
     "output_type": "display_data"
    },
    {
     "name": "stdout",
     "output_type": "stream",
     "text": [
      "                   mean       std\n",
      "3.0_precision  0.657760  0.025477\n",
      "3.0_recall     0.231749  0.020133\n",
      "3.0_f1-score   0.342390  0.023575\n",
      "4.0_precision  0.745094  0.004144\n",
      "4.0_recall     0.951012  0.007097\n",
      "4.0_f1-score   0.835535  0.003473\n",
      "5.0_precision  0.596912  0.120292\n",
      "5.0_recall     0.180667  0.028572\n",
      "5.0_f1-score   0.275303  0.039705\n",
      "accuracy       0.735030  0.005453\n",
      "\n",
      "================================================================================\n",
      "\n",
      "\n"
     ]
    }
   ],
   "source": [
    "from sklearn.naive_bayes import MultinomialNB, CategoricalNB\n",
    "from sklearn import svm\n",
    "from sklearn.linear_model import LogisticRegression\n",
    "from sklearn.tree import DecisionTreeClassifier\n",
    "from sklearn.neighbors import KNeighborsClassifier\n",
    "from mlxtend.classifier import StackingCVClassifier\n",
    "\n",
    "mnb = MultinomialNB(alpha = 1)\n",
    "linearSVM = svm.LinearSVC(C=5, dual = False, random_state = 30027)\n",
    "logr = LogisticRegression(solver='sag', max_iter=50, random_state = 30027)\n",
    "dt = DecisionTreeClassifier(max_depth = 200, random_state = 30027)\n",
    "sclf = StackingCVClassifier(classifiers=[mnb, linearSVM, logr, dt], \n",
    "                            meta_classifier=CategoricalNB(),\n",
    "                            cv = 2,\n",
    "                            random_state=30027)\n",
    "\n",
    "train_df_50 = pd.read_csv(\"./Final/Datasets/train_df_50.csv\", keep_default_na=False)\n",
    "train_df_100 = pd.read_csv(\"./Final/Datasets/train_df_100.csv\", keep_default_na=False)\n",
    "train_df_200 = pd.read_csv(\"./Final/Datasets/train_df_200.csv\", keep_default_na=False)\n",
    "train_df_300 = pd.read_csv(\"./Final/Datasets/train_df_300.csv\", keep_default_na=False)\n",
    "nums = ['50', '100', '200', '300']\n",
    "train_dfs = [pd.read_csv(\"./Final/Datasets/train_df_\"+num+\".csv\", keep_default_na=False) for num in nums]\n",
    "\n",
    "for i in range(4): \n",
    "    print(\"================================================================================\")\n",
    "    print(f'selected {nums[i]} features\\n')\n",
    "    train_df = train_dfs[i]\n",
    "    X_train = train_df.iloc[:,:-1]\n",
    "    y_train = train_df.iloc[:,-1]\n",
    "    _, report = cross_val_report(sclf, X_train, y_train)\n",
    "    print(report)\n",
    "    print('\\n================================================================================\\n')"
   ]
  }
 ],
 "metadata": {
  "kernelspec": {
   "display_name": "Python 3",
   "language": "python",
   "name": "python3"
  },
  "language_info": {
   "codemirror_mode": {
    "name": "ipython",
    "version": 3
   },
   "file_extension": ".py",
   "mimetype": "text/x-python",
   "name": "python",
   "nbconvert_exporter": "python",
   "pygments_lexer": "ipython3",
   "version": "3.8.8"
  }
 },
 "nbformat": 4,
 "nbformat_minor": 5
}
