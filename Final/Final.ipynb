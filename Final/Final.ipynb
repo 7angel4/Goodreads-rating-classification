{
 "cells": [
  {
   "cell_type": "markdown",
   "id": "36aa0dcc",
   "metadata": {},
   "source": [
    "###### ### The University of Melbourne, School of Computing and Information Systems\n",
    "# COMP30027 Machine Learning, 2023 Semester 1\n",
    "\n",
    "## Assignment 2: Book Rating Prediction"
   ]
  },
  {
   "cell_type": "markdown",
   "id": "ad7b7d63",
   "metadata": {},
   "source": [
    "**Student IDs:**     1264462 & 1269549"
   ]
  },
  {
   "cell_type": "markdown",
   "id": "a4ee271d",
   "metadata": {},
   "source": [
    "# README\n",
    "\n",
    "* To run the complete code in Jupyter Notebook, simply click Kernel > Restart & Run All.\n",
    "    * Note that it might take a while to generate the output - the slowest model takes about < 7 minutes.\n",
    "    * Alternatively, select the relevant cell, and click 'Run'.\n",
    "* Code lines commented out with `##` are for printing out information that may be of interest. You may uncomment it to see the output.\n",
    "* The dataset files (both the original and preprocessed) are assumed to exist in a folder named '**Datasets**', which resides in the same directory as this notebook.\n",
    "* There are two helper notebooks in the same directory, namely \"TextPreprocessing.ipynb\" and \"HelperFunctions.ipynb\". Here we make use of the IPython built-in magic command (`%run`) to run these files. You do not need to open and run them separately.\n",
    "* Each model may use a different version of the preprocessed dataset. Running this code generates the \"train_df_ohe.csv\" and \"train_df_oe.csv\" file. \n",
    "    * We have generated the other versions beforehand (\"train_df_ohe_300\", \"train_df_oe_300\"), which only requires a small change in a function parameter.\n",
    "    * All required, preprocessed datasets lie in the 'Datasets' folder.\n",
    "* This code also generates a file \"predictions.csv\", which are the final predictions made by the selected model on the test set."
   ]
  },
  {
   "cell_type": "code",
   "execution_count": 1,
   "id": "14efbbec",
   "metadata": {},
   "outputs": [],
   "source": [
    "import pandas as pd\n",
    "import numpy as np\n",
    "import sklearn\n",
    "import matplotlib.pyplot as plt\n",
    "from sklearn.feature_selection import chi2, SelectKBest, SelectFromModel"
   ]
  },
  {
   "cell_type": "code",
   "execution_count": 2,
   "id": "78e2c499",
   "metadata": {},
   "outputs": [],
   "source": [
    "import warnings\n",
    "warnings.filterwarnings('ignore')"
   ]
  },
  {
   "cell_type": "code",
   "execution_count": 3,
   "id": "d030454b",
   "metadata": {},
   "outputs": [],
   "source": [
    "%run TextPreprocessing.ipynb\n",
    "%run HelperFunctions.ipynb"
   ]
  },
  {
   "cell_type": "code",
   "execution_count": 4,
   "id": "64f55cbe",
   "metadata": {},
   "outputs": [],
   "source": [
    "DATASET_DIR = \"./Datasets/\"\n",
    "CLASS_LABEL = \"rating_label\""
   ]
  },
  {
   "cell_type": "code",
   "execution_count": 5,
   "id": "81812266",
   "metadata": {},
   "outputs": [],
   "source": [
    "# Load datasets\n",
    "train_df = pd.read_csv(DATASET_DIR + \"book_rating_train.csv\", index_col = False, delimiter = ',', header=0)\n",
    "test_df = pd.read_csv(DATASET_DIR + \"book_rating_test.csv\", index_col = False, delimiter = ',', header=0)\n",
    "entire_df = pd.concat([train_df, test_df])"
   ]
  },
  {
   "cell_type": "markdown",
   "id": "d6e25a82",
   "metadata": {},
   "source": [
    "# 1. Data Preprocessing"
   ]
  },
  {
   "cell_type": "markdown",
   "id": "53c4fe86",
   "metadata": {},
   "source": [
    "Note: Here we show the individual preprocessing steps for the training set for clarity. At the end we pull everything together to preprocess the test set."
   ]
  },
  {
   "cell_type": "markdown",
   "id": "1d1b1fa6",
   "metadata": {},
   "source": [
    "## Preprocess String features: Authors and Publisher"
   ]
  },
  {
   "cell_type": "code",
   "execution_count": 6,
   "id": "58dcc204",
   "metadata": {},
   "outputs": [],
   "source": [
    "CATEGORICAL_FEATURES = ['Authors', 'Publisher']\n",
    "MISSING_CAT_VAL = ''"
   ]
  },
  {
   "cell_type": "code",
   "execution_count": 7,
   "id": "ad7ab1c8",
   "metadata": {},
   "outputs": [],
   "source": [
    "train_df = train_df.drop('Language', axis=1)  # this feature has too many missing values\n",
    "\n",
    "for df in [train_df, entire_df]:\n",
    "    for feature in CATEGORICAL_FEATURES:\n",
    "        df[feature] = df[feature].fillna(MISSING_CAT_VAL)  # impute missing values\n",
    "        df[feature] = df[feature].apply(lambda x: preprocess(x, stop_words_removal=False, lemmatize=False, min_word_len=0))"
   ]
  },
  {
   "cell_type": "markdown",
   "id": "5d720b85",
   "metadata": {},
   "source": [
    "### Version 1: One-Hot Encoding\n",
    "Some models will use different encodings of the categorical features."
   ]
  },
  {
   "cell_type": "code",
   "execution_count": 8,
   "id": "c5d64489",
   "metadata": {},
   "outputs": [
    {
     "data": {
      "text/html": [
       "<style>#sk-container-id-1 {color: black;background-color: white;}#sk-container-id-1 pre{padding: 0;}#sk-container-id-1 div.sk-toggleable {background-color: white;}#sk-container-id-1 label.sk-toggleable__label {cursor: pointer;display: block;width: 100%;margin-bottom: 0;padding: 0.3em;box-sizing: border-box;text-align: center;}#sk-container-id-1 label.sk-toggleable__label-arrow:before {content: \"▸\";float: left;margin-right: 0.25em;color: #696969;}#sk-container-id-1 label.sk-toggleable__label-arrow:hover:before {color: black;}#sk-container-id-1 div.sk-estimator:hover label.sk-toggleable__label-arrow:before {color: black;}#sk-container-id-1 div.sk-toggleable__content {max-height: 0;max-width: 0;overflow: hidden;text-align: left;background-color: #f0f8ff;}#sk-container-id-1 div.sk-toggleable__content pre {margin: 0.2em;color: black;border-radius: 0.25em;background-color: #f0f8ff;}#sk-container-id-1 input.sk-toggleable__control:checked~div.sk-toggleable__content {max-height: 200px;max-width: 100%;overflow: auto;}#sk-container-id-1 input.sk-toggleable__control:checked~label.sk-toggleable__label-arrow:before {content: \"▾\";}#sk-container-id-1 div.sk-estimator input.sk-toggleable__control:checked~label.sk-toggleable__label {background-color: #d4ebff;}#sk-container-id-1 div.sk-label input.sk-toggleable__control:checked~label.sk-toggleable__label {background-color: #d4ebff;}#sk-container-id-1 input.sk-hidden--visually {border: 0;clip: rect(1px 1px 1px 1px);clip: rect(1px, 1px, 1px, 1px);height: 1px;margin: -1px;overflow: hidden;padding: 0;position: absolute;width: 1px;}#sk-container-id-1 div.sk-estimator {font-family: monospace;background-color: #f0f8ff;border: 1px dotted black;border-radius: 0.25em;box-sizing: border-box;margin-bottom: 0.5em;}#sk-container-id-1 div.sk-estimator:hover {background-color: #d4ebff;}#sk-container-id-1 div.sk-parallel-item::after {content: \"\";width: 100%;border-bottom: 1px solid gray;flex-grow: 1;}#sk-container-id-1 div.sk-label:hover label.sk-toggleable__label {background-color: #d4ebff;}#sk-container-id-1 div.sk-serial::before {content: \"\";position: absolute;border-left: 1px solid gray;box-sizing: border-box;top: 0;bottom: 0;left: 50%;z-index: 0;}#sk-container-id-1 div.sk-serial {display: flex;flex-direction: column;align-items: center;background-color: white;padding-right: 0.2em;padding-left: 0.2em;position: relative;}#sk-container-id-1 div.sk-item {position: relative;z-index: 1;}#sk-container-id-1 div.sk-parallel {display: flex;align-items: stretch;justify-content: center;background-color: white;position: relative;}#sk-container-id-1 div.sk-item::before, #sk-container-id-1 div.sk-parallel-item::before {content: \"\";position: absolute;border-left: 1px solid gray;box-sizing: border-box;top: 0;bottom: 0;left: 50%;z-index: -1;}#sk-container-id-1 div.sk-parallel-item {display: flex;flex-direction: column;z-index: 1;position: relative;background-color: white;}#sk-container-id-1 div.sk-parallel-item:first-child::after {align-self: flex-end;width: 50%;}#sk-container-id-1 div.sk-parallel-item:last-child::after {align-self: flex-start;width: 50%;}#sk-container-id-1 div.sk-parallel-item:only-child::after {width: 0;}#sk-container-id-1 div.sk-dashed-wrapped {border: 1px dashed gray;margin: 0 0.4em 0.5em 0.4em;box-sizing: border-box;padding-bottom: 0.4em;background-color: white;}#sk-container-id-1 div.sk-label label {font-family: monospace;font-weight: bold;display: inline-block;line-height: 1.2em;}#sk-container-id-1 div.sk-label-container {text-align: center;}#sk-container-id-1 div.sk-container {/* jupyter's `normalize.less` sets `[hidden] { display: none; }` but bootstrap.min.css set `[hidden] { display: none !important; }` so we also need the `!important` here to be able to override the default hidden behavior on the sphinx rendered scikit-learn.org. See: https://github.com/scikit-learn/scikit-learn/issues/21755 */display: inline-block !important;position: relative;}#sk-container-id-1 div.sk-text-repr-fallback {display: none;}</style><div id=\"sk-container-id-1\" class=\"sk-top-container\"><div class=\"sk-text-repr-fallback\"><pre>OneHotEncoder(handle_unknown=&#x27;infrequent_if_exist&#x27;, min_frequency=3,\n",
       "              sparse=False, sparse_output=False)</pre><b>In a Jupyter environment, please rerun this cell to show the HTML representation or trust the notebook. <br />On GitHub, the HTML representation is unable to render, please try loading this page with nbviewer.org.</b></div><div class=\"sk-container\" hidden><div class=\"sk-item\"><div class=\"sk-estimator sk-toggleable\"><input class=\"sk-toggleable__control sk-hidden--visually\" id=\"sk-estimator-id-1\" type=\"checkbox\" checked><label for=\"sk-estimator-id-1\" class=\"sk-toggleable__label sk-toggleable__label-arrow\">OneHotEncoder</label><div class=\"sk-toggleable__content\"><pre>OneHotEncoder(handle_unknown=&#x27;infrequent_if_exist&#x27;, min_frequency=3,\n",
       "              sparse=False, sparse_output=False)</pre></div></div></div></div></div>"
      ],
      "text/plain": [
       "OneHotEncoder(handle_unknown='infrequent_if_exist', min_frequency=3,\n",
       "              sparse=False, sparse_output=False)"
      ]
     },
     "execution_count": 8,
     "metadata": {},
     "output_type": "execute_result"
    }
   ],
   "source": [
    "from sklearn.preprocessing import OneHotEncoder\n",
    "\n",
    "OHE = OneHotEncoder(handle_unknown='infrequent_if_exist', min_frequency=3, sparse=False)\n",
    "OHE.fit(entire_df[CATEGORICAL_FEATURES])"
   ]
  },
  {
   "cell_type": "code",
   "execution_count": 9,
   "id": "f82b3598",
   "metadata": {},
   "outputs": [],
   "source": [
    "def ohe_transform(df, has_labels=False):\n",
    "    \"\"\"\n",
    "    Transforms the dataset by one-hot-encoding, on the categorical features only.\n",
    "    `has_label` indicates whether the DataFrame contains the class labels.\n",
    "        If True, these are moved to the last column.\n",
    "    Returns the transformed DataFrame.\n",
    "    \"\"\"\n",
    "    transformed_mat = OHE.transform(df[CATEGORICAL_FEATURES])\n",
    "    transformed_cat_df = pd.DataFrame(transformed_mat).set_axis(OHE.get_feature_names_out(), axis=1, inplace=False)\n",
    "    transformed_df = pd.concat([df.reset_index(drop=True), transformed_cat_df], axis=1)\n",
    "    transformed_df = transformed_df.drop(CATEGORICAL_FEATURES, axis=1)  # drop the original attributes\n",
    "    \n",
    "    if has_labels:\n",
    "        # move rating_label to the last column\n",
    "        labels = transformed_df[CLASS_LABEL]\n",
    "        transformed_df = pd.concat([transformed_df.drop([CLASS_LABEL], axis=1), labels], axis=1)\n",
    "    \n",
    "    return transformed_df"
   ]
  },
  {
   "cell_type": "code",
   "execution_count": 10,
   "id": "dbd0c918",
   "metadata": {},
   "outputs": [
    {
     "name": "stdout",
     "output_type": "stream",
     "text": [
      "497 features are significant.\n"
     ]
    }
   ],
   "source": [
    "ALPHA = 0.05\n",
    "\n",
    "# Select one-hot-encoded features using chi2\n",
    "x2 = SelectKBest(chi2, k='all')\n",
    "x2.fit(ohe_transform(train_df)[OHE.get_feature_names_out()], train_df[CLASS_LABEL])\n",
    "pvals = pd.DataFrame(x2.pvalues_, index=x2.feature_names_in_, columns=['p-value'])\n",
    "## print(pvals)\n",
    "\n",
    "INSIG_OHE_FEATURES = pvals[pvals['p-value'] >= ALPHA].index.tolist()  # insignificant encoded features\n",
    "sig_ohe_features = pvals[pvals['p-value'] < ALPHA].index.tolist()\n",
    "print(len(sig_ohe_features), \"features are significant.\")\n",
    "## sig_ohe_features"
   ]
  },
  {
   "cell_type": "markdown",
   "id": "c7626436",
   "metadata": {},
   "source": [
    "### Version 2: Ordinal Encoding"
   ]
  },
  {
   "cell_type": "code",
   "execution_count": 11,
   "id": "33e77571",
   "metadata": {},
   "outputs": [
    {
     "data": {
      "text/html": [
       "<style>#sk-container-id-2 {color: black;background-color: white;}#sk-container-id-2 pre{padding: 0;}#sk-container-id-2 div.sk-toggleable {background-color: white;}#sk-container-id-2 label.sk-toggleable__label {cursor: pointer;display: block;width: 100%;margin-bottom: 0;padding: 0.3em;box-sizing: border-box;text-align: center;}#sk-container-id-2 label.sk-toggleable__label-arrow:before {content: \"▸\";float: left;margin-right: 0.25em;color: #696969;}#sk-container-id-2 label.sk-toggleable__label-arrow:hover:before {color: black;}#sk-container-id-2 div.sk-estimator:hover label.sk-toggleable__label-arrow:before {color: black;}#sk-container-id-2 div.sk-toggleable__content {max-height: 0;max-width: 0;overflow: hidden;text-align: left;background-color: #f0f8ff;}#sk-container-id-2 div.sk-toggleable__content pre {margin: 0.2em;color: black;border-radius: 0.25em;background-color: #f0f8ff;}#sk-container-id-2 input.sk-toggleable__control:checked~div.sk-toggleable__content {max-height: 200px;max-width: 100%;overflow: auto;}#sk-container-id-2 input.sk-toggleable__control:checked~label.sk-toggleable__label-arrow:before {content: \"▾\";}#sk-container-id-2 div.sk-estimator input.sk-toggleable__control:checked~label.sk-toggleable__label {background-color: #d4ebff;}#sk-container-id-2 div.sk-label input.sk-toggleable__control:checked~label.sk-toggleable__label {background-color: #d4ebff;}#sk-container-id-2 input.sk-hidden--visually {border: 0;clip: rect(1px 1px 1px 1px);clip: rect(1px, 1px, 1px, 1px);height: 1px;margin: -1px;overflow: hidden;padding: 0;position: absolute;width: 1px;}#sk-container-id-2 div.sk-estimator {font-family: monospace;background-color: #f0f8ff;border: 1px dotted black;border-radius: 0.25em;box-sizing: border-box;margin-bottom: 0.5em;}#sk-container-id-2 div.sk-estimator:hover {background-color: #d4ebff;}#sk-container-id-2 div.sk-parallel-item::after {content: \"\";width: 100%;border-bottom: 1px solid gray;flex-grow: 1;}#sk-container-id-2 div.sk-label:hover label.sk-toggleable__label {background-color: #d4ebff;}#sk-container-id-2 div.sk-serial::before {content: \"\";position: absolute;border-left: 1px solid gray;box-sizing: border-box;top: 0;bottom: 0;left: 50%;z-index: 0;}#sk-container-id-2 div.sk-serial {display: flex;flex-direction: column;align-items: center;background-color: white;padding-right: 0.2em;padding-left: 0.2em;position: relative;}#sk-container-id-2 div.sk-item {position: relative;z-index: 1;}#sk-container-id-2 div.sk-parallel {display: flex;align-items: stretch;justify-content: center;background-color: white;position: relative;}#sk-container-id-2 div.sk-item::before, #sk-container-id-2 div.sk-parallel-item::before {content: \"\";position: absolute;border-left: 1px solid gray;box-sizing: border-box;top: 0;bottom: 0;left: 50%;z-index: -1;}#sk-container-id-2 div.sk-parallel-item {display: flex;flex-direction: column;z-index: 1;position: relative;background-color: white;}#sk-container-id-2 div.sk-parallel-item:first-child::after {align-self: flex-end;width: 50%;}#sk-container-id-2 div.sk-parallel-item:last-child::after {align-self: flex-start;width: 50%;}#sk-container-id-2 div.sk-parallel-item:only-child::after {width: 0;}#sk-container-id-2 div.sk-dashed-wrapped {border: 1px dashed gray;margin: 0 0.4em 0.5em 0.4em;box-sizing: border-box;padding-bottom: 0.4em;background-color: white;}#sk-container-id-2 div.sk-label label {font-family: monospace;font-weight: bold;display: inline-block;line-height: 1.2em;}#sk-container-id-2 div.sk-label-container {text-align: center;}#sk-container-id-2 div.sk-container {/* jupyter's `normalize.less` sets `[hidden] { display: none; }` but bootstrap.min.css set `[hidden] { display: none !important; }` so we also need the `!important` here to be able to override the default hidden behavior on the sphinx rendered scikit-learn.org. See: https://github.com/scikit-learn/scikit-learn/issues/21755 */display: inline-block !important;position: relative;}#sk-container-id-2 div.sk-text-repr-fallback {display: none;}</style><div id=\"sk-container-id-2\" class=\"sk-top-container\"><div class=\"sk-text-repr-fallback\"><pre>OrdinalEncoder(handle_unknown=&#x27;use_encoded_value&#x27;, unknown_value=-1)</pre><b>In a Jupyter environment, please rerun this cell to show the HTML representation or trust the notebook. <br />On GitHub, the HTML representation is unable to render, please try loading this page with nbviewer.org.</b></div><div class=\"sk-container\" hidden><div class=\"sk-item\"><div class=\"sk-estimator sk-toggleable\"><input class=\"sk-toggleable__control sk-hidden--visually\" id=\"sk-estimator-id-2\" type=\"checkbox\" checked><label for=\"sk-estimator-id-2\" class=\"sk-toggleable__label sk-toggleable__label-arrow\">OrdinalEncoder</label><div class=\"sk-toggleable__content\"><pre>OrdinalEncoder(handle_unknown=&#x27;use_encoded_value&#x27;, unknown_value=-1)</pre></div></div></div></div></div>"
      ],
      "text/plain": [
       "OrdinalEncoder(handle_unknown='use_encoded_value', unknown_value=-1)"
      ]
     },
     "execution_count": 11,
     "metadata": {},
     "output_type": "execute_result"
    }
   ],
   "source": [
    "from sklearn.preprocessing import OrdinalEncoder\n",
    "\n",
    "ORD_ENCODER = OrdinalEncoder(handle_unknown=\"use_encoded_value\", unknown_value=-1)\n",
    "ORD_ENCODER.fit(entire_df[CATEGORICAL_FEATURES])"
   ]
  },
  {
   "cell_type": "code",
   "execution_count": 12,
   "id": "0002a439",
   "metadata": {},
   "outputs": [],
   "source": [
    "def ord_enc_transform(df):\n",
    "    \"\"\"\n",
    "    Transforms the dataset by one-hot-encoding, on the categorical features only.\n",
    "    Returns the transformed DataFrame.\n",
    "    \"\"\"\n",
    "    df = df.copy()\n",
    "    df[CATEGORICAL_FEATURES] = ORD_ENCODER.transform(df[CATEGORICAL_FEATURES])\n",
    "    for i in range(len(CATEGORICAL_FEATURES)):  \n",
    "        # some models (e.g. CategoricalNB), cannot handle negative values, so we replace -1 with the next unused int to denote unseen values\n",
    "        df[CATEGORICAL_FEATURES[i]] = df[CATEGORICAL_FEATURES[i]].replace(-1, ORD_ENCODER.categories_[i].size)\n",
    "    \n",
    "    return df"
   ]
  },
  {
   "cell_type": "markdown",
   "id": "402e29f9",
   "metadata": {},
   "source": [
    "## Discretize 'Numerical' features"
   ]
  },
  {
   "cell_type": "code",
   "execution_count": 13,
   "id": "58895b04",
   "metadata": {},
   "outputs": [],
   "source": [
    "from sklearn.preprocessing import KBinsDiscretizer\n",
    "\n",
    "def discretize(df, feature, discretizer=None, strategy='kmeans', n_bins=5):\n",
    "    \"\"\"\n",
    "    Discretizes the feature in the given DataFrame.\n",
    "    - discretizer: the discretizer; \n",
    "      If None, creates a KBinsDiscretizer for ordinal data, with the specified strategy and number of bins.\n",
    "    - strategy: the discretization strategy (one of ['kmeans', 'quantile', 'uniform']).\n",
    "    - n_bins: the number of bins.\n",
    "    Returns the transformed dataset and discretizer used.\n",
    "    \"\"\"\n",
    "    \n",
    "    if discretizer is None:\n",
    "        discretizer = KBinsDiscretizer(n_bins=n_bins, encode='ordinal', strategy=strategy)\n",
    "        discretizer.fit(df[[feature]])\n",
    "        \n",
    "    transformed_df = df.copy()\n",
    "    transformed_df[feature] = discretizer.transform(df[[feature]])\n",
    "    \n",
    "    return transformed_df, discretizer"
   ]
  },
  {
   "cell_type": "code",
   "execution_count": 14,
   "id": "7136bd76",
   "metadata": {},
   "outputs": [],
   "source": [
    "# PublishYear\n",
    "train_df, DISCRETIZER_PY = discretize(train_df, 'PublishYear', strategy='uniform', n_bins=15)\n",
    "\n",
    "# PublishMonth\n",
    "train_df, DISCRETIZER_PM = discretize(train_df, 'PublishMonth', strategy='quantile', n_bins=6)\n",
    "\n",
    "# PublishDay\n",
    "train_df, DISCRETIZER_PD = discretize(train_df, 'PublishDay', strategy='quantile', n_bins=11)\n",
    "\n",
    "# pagesNumber\n",
    "train_df, DISCRETIZER_PN = discretize(train_df, 'pagesNumber', strategy='kmeans', n_bins=7)"
   ]
  },
  {
   "cell_type": "markdown",
   "id": "d95929a9",
   "metadata": {},
   "source": [
    "## Text Pre-processing"
   ]
  },
  {
   "cell_type": "code",
   "execution_count": 15,
   "id": "c1f1faff",
   "metadata": {},
   "outputs": [],
   "source": [
    "TEXT_FEATURES = ['Name', 'Description']"
   ]
  },
  {
   "cell_type": "code",
   "execution_count": 16,
   "id": "b7ce7c3e",
   "metadata": {},
   "outputs": [],
   "source": [
    "# set max_features=300 to generate the dataset version for the Logistic Regression classifier\n",
    "train_df_name, VECTORIZER_NAME = preprocess_text_feature(train_df, 'Name', ngram=2, delimiter='_')  # distinguish from Description features\n",
    "train_df_desc, VECTORIZER_DESC = preprocess_text_feature(train_df, 'Description', ngram=2)"
   ]
  },
  {
   "cell_type": "code",
   "execution_count": 17,
   "id": "4aea491f",
   "metadata": {},
   "outputs": [],
   "source": [
    "# Bind them together\n",
    "train_df = pd.concat([train_df.reset_index(drop=True), train_df_name, train_df_desc], axis=1)\n",
    "train_df = train_df.drop(TEXT_FEATURES, axis=1)  # drop the original columns"
   ]
  },
  {
   "cell_type": "code",
   "execution_count": 18,
   "id": "4b7247bd",
   "metadata": {},
   "outputs": [],
   "source": [
    "# Finally, move rating_label to the last column\n",
    "labels = train_df[CLASS_LABEL].astype('category')\n",
    "train_df = pd.concat([train_df.drop([CLASS_LABEL], axis=1), labels], axis=1) "
   ]
  },
  {
   "cell_type": "markdown",
   "id": "15a06799",
   "metadata": {},
   "source": [
    "## Altogether"
   ]
  },
  {
   "cell_type": "code",
   "execution_count": 19,
   "id": "2c99b233",
   "metadata": {},
   "outputs": [],
   "source": [
    "def preprocess_test_df(df):\n",
    "    \"\"\"\n",
    "    Preprocesses the test dataset and returns the preprocessed version as a DataFrame.\n",
    "    \"\"\"\n",
    "    df = df.copy()\n",
    "    \n",
    "    # preprocess string features\n",
    "    for feature in CATEGORICAL_FEATURES:\n",
    "        df[feature] = df[feature].fillna(MISSING_CAT_VAL)  # imputation\n",
    "        df[feature] = df[feature].apply(lambda x: preprocess(str(x), stop_words_removal=False, lemmatize=False, min_word_len=0))\n",
    "    \n",
    "    # preprocess numerical features\n",
    "    df = discretize(df, 'PublishDay', discretizer=DISCRETIZER_PD)[0]\n",
    "    df = discretize(df, 'PublishMonth', discretizer=DISCRETIZER_PM)[0]\n",
    "    df = discretize(df, 'PublishYear', discretizer=DISCRETIZER_PY)[0]\n",
    "    df = discretize(df, 'pagesNumber', discretizer=DISCRETIZER_PN)[0]\n",
    "    \n",
    "    # preprocess text features\n",
    "    df_name = preprocess_text_feature(df, 'Name', vectorizer=VECTORIZER_NAME, delimiter='_')[0]\n",
    "    df_desc = preprocess_text_feature(df, 'Description', vectorizer=VECTORIZER_DESC)[0]\n",
    "    \n",
    "    # discard the obsolete original features and unwanted features\n",
    "    df = pd.concat([df.reset_index(drop=True), df_name, df_desc], axis=1)\n",
    "    df = df.drop(['Name', 'Description', 'Language'], axis=1)\n",
    "        \n",
    "    return df"
   ]
  },
  {
   "cell_type": "code",
   "execution_count": 20,
   "id": "bdc8f4e9",
   "metadata": {},
   "outputs": [],
   "source": [
    "# For simplicity, we save the preprocessed datasets\n",
    "train_df.to_csv(DATASET_DIR + \"train_df.csv\", index=False)\n",
    "\n",
    "# Encoded versions\n",
    "train_df_ohe = ohe_transform(train_df, has_labels=True).drop(INSIG_OHE_FEATURES, axis=1)  # drop the 'insignificant' OHE features\n",
    "train_df_oe = ord_enc_transform(train_df)\n",
    "train_df_ohe.to_csv(DATASET_DIR + \"train_df_ohe.csv\", index=False)\n",
    "train_df_oe.to_csv(DATASET_DIR + \"train_df_oe.csv\", index=False)"
   ]
  },
  {
   "cell_type": "markdown",
   "id": "d9fdc3b1",
   "metadata": {},
   "source": [
    "# 2. Building the models"
   ]
  },
  {
   "cell_type": "markdown",
   "id": "b0dd0157",
   "metadata": {},
   "source": [
    "Training sets for each model:\n",
    "- `logr`: train_df_ohe_300.csv, the one-hot-encoded dataset with 300 'Name' and 'Description' features, respectively.\n",
    "        This is generated by setting `max_features=300` in the `preprocess_text_feature()` function.\n",
    "- `rf`, `cvsnb`, baselines: train_df_ohe.csv, the one-hot-encoded dataset with 50 'Name' and 'Description' features, respectively.\n",
    "- `sclf`: train_df_oe.csv, the ordinal-encoded dataset with 50 'Name' and 'Description' features, respectively."
   ]
  },
  {
   "cell_type": "code",
   "execution_count": 21,
   "id": "e5a55ed3",
   "metadata": {},
   "outputs": [],
   "source": [
    "## train_df_ohe = pd.read_csv(DATASET_DIR + \"/train_df_ohe.csv\", keep_default_na=False)  # Alternative\n",
    "X_train = train_df_ohe.iloc[:,:-1]\n",
    "y_train = train_df_ohe.iloc[:,-1]"
   ]
  },
  {
   "cell_type": "markdown",
   "id": "ffe892a9",
   "metadata": {},
   "source": [
    "## 1) Random Forest"
   ]
  },
  {
   "cell_type": "code",
   "execution_count": 22,
   "id": "edfd2f8b",
   "metadata": {},
   "outputs": [],
   "source": [
    "from sklearn.ensemble import RandomForestClassifier"
   ]
  },
  {
   "cell_type": "code",
   "execution_count": 23,
   "id": "ceb5227e",
   "metadata": {},
   "outputs": [],
   "source": [
    "RF_FEATURES = chi2_select_features(X_train, y_train)\n",
    "RF_FEATURES.remove('PublishDay')\n",
    "\n",
    "rf = RandomForestClassifier(random_state=30027, \n",
    "                            max_samples=0.3, max_features='log2', \n",
    "                            criterion='entropy', n_estimators=100, \n",
    "                            oob_score=True)"
   ]
  },
  {
   "cell_type": "code",
   "execution_count": 24,
   "id": "9fab34e7",
   "metadata": {},
   "outputs": [
    {
     "name": "stdout",
     "output_type": "stream",
     "text": [
      "RandomForestClassifier prediction took 23.309219121932983 seconds.\n",
      "\n",
      "   3.0_precision  3.0_recall  3.0_f1-score  4.0_precision  4.0_recall  \\\n",
      "0       0.650000    0.155026      0.250344       0.727062    0.967921   \n",
      "1       0.616667    0.126065      0.209335       0.723169    0.968538   \n",
      "2       0.653465    0.112628      0.192140       0.720782    0.977791   \n",
      "3       0.541667    0.110922      0.184136       0.721198    0.965453   \n",
      "4       0.632812    0.138225      0.226891       0.727567    0.970389   \n",
      "5       0.596330    0.110922      0.187050       0.722146    0.971622   \n",
      "6       0.649485    0.107509      0.184480       0.721311    0.977175   \n",
      "7       0.623762    0.107509      0.183406       0.721513    0.976558   \n",
      "8       0.666667    0.132879      0.221591       0.725391    0.973457   \n",
      "9       0.717172    0.120954      0.206997       0.724122    0.980247   \n",
      "\n",
      "   4.0_f1-score  5.0_precision  5.0_recall  5.0_f1-score  accuracy  \n",
      "0      0.830378       0.444444    0.040404      0.074074  0.721283  \n",
      "1      0.828059       0.562500    0.090909      0.156522  0.716515  \n",
      "2      0.829843       0.571429    0.040000      0.074766  0.717382  \n",
      "3      0.825640       0.625000    0.101010      0.173913  0.711188  \n",
      "4      0.831615       0.687500    0.111111      0.191304  0.722029  \n",
      "5      0.828511       0.750000    0.121212      0.208696  0.716392  \n",
      "6      0.829971       0.769231    0.101010      0.178571  0.718560  \n",
      "7      0.829882       0.727273    0.080808      0.145455  0.717259  \n",
      "8      0.831313       0.533333    0.080808      0.140351  0.721162  \n",
      "9      0.832940       0.642857    0.090909      0.159292  0.723330  \n"
     ]
    },
    {
     "data": {
      "image/png": "[encoded data removed]",
      "text/plain": [
       "<Figure size 640x480 with 2 Axes>"
      ]
     },
     "metadata": {},
     "output_type": "display_data"
    },
    {
     "data": {
      "text/html": [
       "<div>\n",
       "<style scoped>\n",
       "    .dataframe tbody tr th:only-of-type {\n",
       "        vertical-align: middle;\n",
       "    }\n",
       "\n",
       "    .dataframe tbody tr th {\n",
       "        vertical-align: top;\n",
       "    }\n",
       "\n",
       "    .dataframe thead th {\n",
       "        text-align: right;\n",
       "    }\n",
       "</style>\n",
       "<table border=\"1\" class=\"dataframe\">\n",
       "  <thead>\n",
       "    <tr style=\"text-align: right;\">\n",
       "      <th></th>\n",
       "      <th>mean</th>\n",
       "      <th>std</th>\n",
       "    </tr>\n",
       "  </thead>\n",
       "  <tbody>\n",
       "    <tr>\n",
       "      <th>3.0_precision</th>\n",
       "      <td>0.634803</td>\n",
       "      <td>0.046193</td>\n",
       "    </tr>\n",
       "    <tr>\n",
       "      <th>3.0_recall</th>\n",
       "      <td>0.122264</td>\n",
       "      <td>0.015785</td>\n",
       "    </tr>\n",
       "    <tr>\n",
       "      <th>3.0_f1-score</th>\n",
       "      <td>0.204637</td>\n",
       "      <td>0.022711</td>\n",
       "    </tr>\n",
       "    <tr>\n",
       "      <th>4.0_precision</th>\n",
       "      <td>0.723426</td>\n",
       "      <td>0.002506</td>\n",
       "    </tr>\n",
       "    <tr>\n",
       "      <th>4.0_recall</th>\n",
       "      <td>0.972915</td>\n",
       "      <td>0.004911</td>\n",
       "    </tr>\n",
       "    <tr>\n",
       "      <th>4.0_f1-score</th>\n",
       "      <td>0.829815</td>\n",
       "      <td>0.002050</td>\n",
       "    </tr>\n",
       "    <tr>\n",
       "      <th>5.0_precision</th>\n",
       "      <td>0.631357</td>\n",
       "      <td>0.104609</td>\n",
       "    </tr>\n",
       "    <tr>\n",
       "      <th>5.0_recall</th>\n",
       "      <td>0.085818</td>\n",
       "      <td>0.027117</td>\n",
       "    </tr>\n",
       "    <tr>\n",
       "      <th>5.0_f1-score</th>\n",
       "      <td>0.150294</td>\n",
       "      <td>0.044977</td>\n",
       "    </tr>\n",
       "    <tr>\n",
       "      <th>accuracy</th>\n",
       "      <td>0.718510</td>\n",
       "      <td>0.003579</td>\n",
       "    </tr>\n",
       "  </tbody>\n",
       "</table>\n",
       "</div>"
      ],
      "text/plain": [
       "                   mean       std\n",
       "3.0_precision  0.634803  0.046193\n",
       "3.0_recall     0.122264  0.015785\n",
       "3.0_f1-score   0.204637  0.022711\n",
       "4.0_precision  0.723426  0.002506\n",
       "4.0_recall     0.972915  0.004911\n",
       "4.0_f1-score   0.829815  0.002050\n",
       "5.0_precision  0.631357  0.104609\n",
       "5.0_recall     0.085818  0.027117\n",
       "5.0_f1-score   0.150294  0.044977\n",
       "accuracy       0.718510  0.003579"
      ]
     },
     "execution_count": 24,
     "metadata": {},
     "output_type": "execute_result"
    }
   ],
   "source": [
    "rf.fit(X_train[RF_FEATURES], y_train)\n",
    "y_pred_rf, rf_report = cross_val_report(rf, X_train[RF_FEATURES], y_train)\n",
    "rf_report"
   ]
  },
  {
   "cell_type": "code",
   "execution_count": 25,
   "id": "9b5c323d",
   "metadata": {},
   "outputs": [
    {
     "data": {
      "text/plain": [
       "0.718076572865629"
      ]
     },
     "execution_count": 25,
     "metadata": {},
     "output_type": "execute_result"
    }
   ],
   "source": [
    "rf.oob_score_"
   ]
  },
  {
   "cell_type": "markdown",
   "id": "04bbf9fe",
   "metadata": {},
   "source": [
    "## 2) StackingClassifier"
   ]
  },
  {
   "cell_type": "code",
   "execution_count": 26,
   "id": "eaa832b9",
   "metadata": {},
   "outputs": [],
   "source": [
    "from sklearn.naive_bayes import GaussianNB\n",
    "from sklearn import svm\n",
    "from sklearn.linear_model import LogisticRegression\n",
    "from sklearn.tree import DecisionTreeClassifier\n",
    "from sklearn.neighbors import KNeighborsClassifier\n",
    "from mlxtend.classifier import StackingCVClassifier"
   ]
  },
  {
   "cell_type": "code",
   "execution_count": 27,
   "id": "42773311",
   "metadata": {},
   "outputs": [
    {
     "data": {
      "text/html": [
       "<style>#sk-container-id-3 {color: black;background-color: white;}#sk-container-id-3 pre{padding: 0;}#sk-container-id-3 div.sk-toggleable {background-color: white;}#sk-container-id-3 label.sk-toggleable__label {cursor: pointer;display: block;width: 100%;margin-bottom: 0;padding: 0.3em;box-sizing: border-box;text-align: center;}#sk-container-id-3 label.sk-toggleable__label-arrow:before {content: \"▸\";float: left;margin-right: 0.25em;color: #696969;}#sk-container-id-3 label.sk-toggleable__label-arrow:hover:before {color: black;}#sk-container-id-3 div.sk-estimator:hover label.sk-toggleable__label-arrow:before {color: black;}#sk-container-id-3 div.sk-toggleable__content {max-height: 0;max-width: 0;overflow: hidden;text-align: left;background-color: #f0f8ff;}#sk-container-id-3 div.sk-toggleable__content pre {margin: 0.2em;color: black;border-radius: 0.25em;background-color: #f0f8ff;}#sk-container-id-3 input.sk-toggleable__control:checked~div.sk-toggleable__content {max-height: 200px;max-width: 100%;overflow: auto;}#sk-container-id-3 input.sk-toggleable__control:checked~label.sk-toggleable__label-arrow:before {content: \"▾\";}#sk-container-id-3 div.sk-estimator input.sk-toggleable__control:checked~label.sk-toggleable__label {background-color: #d4ebff;}#sk-container-id-3 div.sk-label input.sk-toggleable__control:checked~label.sk-toggleable__label {background-color: #d4ebff;}#sk-container-id-3 input.sk-hidden--visually {border: 0;clip: rect(1px 1px 1px 1px);clip: rect(1px, 1px, 1px, 1px);height: 1px;margin: -1px;overflow: hidden;padding: 0;position: absolute;width: 1px;}#sk-container-id-3 div.sk-estimator {font-family: monospace;background-color: #f0f8ff;border: 1px dotted black;border-radius: 0.25em;box-sizing: border-box;margin-bottom: 0.5em;}#sk-container-id-3 div.sk-estimator:hover {background-color: #d4ebff;}#sk-container-id-3 div.sk-parallel-item::after {content: \"\";width: 100%;border-bottom: 1px solid gray;flex-grow: 1;}#sk-container-id-3 div.sk-label:hover label.sk-toggleable__label {background-color: #d4ebff;}#sk-container-id-3 div.sk-serial::before {content: \"\";position: absolute;border-left: 1px solid gray;box-sizing: border-box;top: 0;bottom: 0;left: 50%;z-index: 0;}#sk-container-id-3 div.sk-serial {display: flex;flex-direction: column;align-items: center;background-color: white;padding-right: 0.2em;padding-left: 0.2em;position: relative;}#sk-container-id-3 div.sk-item {position: relative;z-index: 1;}#sk-container-id-3 div.sk-parallel {display: flex;align-items: stretch;justify-content: center;background-color: white;position: relative;}#sk-container-id-3 div.sk-item::before, #sk-container-id-3 div.sk-parallel-item::before {content: \"\";position: absolute;border-left: 1px solid gray;box-sizing: border-box;top: 0;bottom: 0;left: 50%;z-index: -1;}#sk-container-id-3 div.sk-parallel-item {display: flex;flex-direction: column;z-index: 1;position: relative;background-color: white;}#sk-container-id-3 div.sk-parallel-item:first-child::after {align-self: flex-end;width: 50%;}#sk-container-id-3 div.sk-parallel-item:last-child::after {align-self: flex-start;width: 50%;}#sk-container-id-3 div.sk-parallel-item:only-child::after {width: 0;}#sk-container-id-3 div.sk-dashed-wrapped {border: 1px dashed gray;margin: 0 0.4em 0.5em 0.4em;box-sizing: border-box;padding-bottom: 0.4em;background-color: white;}#sk-container-id-3 div.sk-label label {font-family: monospace;font-weight: bold;display: inline-block;line-height: 1.2em;}#sk-container-id-3 div.sk-label-container {text-align: center;}#sk-container-id-3 div.sk-container {/* jupyter's `normalize.less` sets `[hidden] { display: none; }` but bootstrap.min.css set `[hidden] { display: none !important; }` so we also need the `!important` here to be able to override the default hidden behavior on the sphinx rendered scikit-learn.org. See: https://github.com/scikit-learn/scikit-learn/issues/21755 */display: inline-block !important;position: relative;}#sk-container-id-3 div.sk-text-repr-fallback {display: none;}</style><div id=\"sk-container-id-3\" class=\"sk-top-container\"><div class=\"sk-text-repr-fallback\"><pre>StackingCVClassifier(classifiers=[GaussianNB(),\n",
       "                                  LinearSVC(C=1, random_state=30027),\n",
       "                                  LogisticRegression(solver=&#x27;sag&#x27;),\n",
       "                                  DecisionTreeClassifier(max_depth=400,\n",
       "                                                         random_state=30027),\n",
       "                                  KNeighborsClassifier(n_neighbors=3)],\n",
       "                     meta_classifier=LogisticRegression(), random_state=30027)</pre><b>In a Jupyter environment, please rerun this cell to show the HTML representation or trust the notebook. <br />On GitHub, the HTML representation is unable to render, please try loading this page with nbviewer.org.</b></div><div class=\"sk-container\" hidden><div class=\"sk-item sk-dashed-wrapped\"><div class=\"sk-label-container\"><div class=\"sk-label sk-toggleable\"><input class=\"sk-toggleable__control sk-hidden--visually\" id=\"sk-estimator-id-3\" type=\"checkbox\" ><label for=\"sk-estimator-id-3\" class=\"sk-toggleable__label sk-toggleable__label-arrow\">StackingCVClassifier</label><div class=\"sk-toggleable__content\"><pre>StackingCVClassifier(classifiers=[GaussianNB(),\n",
       "                                  LinearSVC(C=1, random_state=30027),\n",
       "                                  LogisticRegression(solver=&#x27;sag&#x27;),\n",
       "                                  DecisionTreeClassifier(max_depth=400,\n",
       "                                                         random_state=30027),\n",
       "                                  KNeighborsClassifier(n_neighbors=3)],\n",
       "                     meta_classifier=LogisticRegression(), random_state=30027)</pre></div></div></div><div class=\"sk-parallel\"><div class=\"sk-parallel-item\"><div class=\"sk-item\"><div class=\"sk-label-container\"><div class=\"sk-label sk-toggleable\"><input class=\"sk-toggleable__control sk-hidden--visually\" id=\"sk-estimator-id-4\" type=\"checkbox\" ><label for=\"sk-estimator-id-4\" class=\"sk-toggleable__label sk-toggleable__label-arrow\">meta_classifier: LogisticRegression</label><div class=\"sk-toggleable__content\"><pre>LogisticRegression()</pre></div></div></div><div class=\"sk-serial\"><div class=\"sk-item\"><div class=\"sk-estimator sk-toggleable\"><input class=\"sk-toggleable__control sk-hidden--visually\" id=\"sk-estimator-id-5\" type=\"checkbox\" ><label for=\"sk-estimator-id-5\" class=\"sk-toggleable__label sk-toggleable__label-arrow\">LogisticRegression</label><div class=\"sk-toggleable__content\"><pre>LogisticRegression()</pre></div></div></div></div></div></div></div></div></div></div>"
      ],
      "text/plain": [
       "StackingCVClassifier(classifiers=[GaussianNB(),\n",
       "                                  LinearSVC(C=1, random_state=30027),\n",
       "                                  LogisticRegression(solver='sag'),\n",
       "                                  DecisionTreeClassifier(max_depth=400,\n",
       "                                                         random_state=30027),\n",
       "                                  KNeighborsClassifier(n_neighbors=3)],\n",
       "                     meta_classifier=LogisticRegression(), random_state=30027)"
      ]
     },
     "execution_count": 27,
     "metadata": {},
     "output_type": "execute_result"
    }
   ],
   "source": [
    "# Gaussian NB\n",
    "gnb = GaussianNB()\n",
    "# Linear SVM\n",
    "linearSVM = svm.LinearSVC(random_state=30027, C=1)\n",
    "# Logistic Regression\n",
    "logr = LogisticRegression(solver='sag', max_iter=100)\n",
    "# Decision tree\n",
    "dt = DecisionTreeClassifier(max_depth = 400, random_state = 30027)\n",
    "# 3NN\n",
    "knn = KNeighborsClassifier(n_neighbors=3)\n",
    "\n",
    "# Stack\n",
    "sclf = StackingCVClassifier(classifiers=[gnb, linearSVM, logr, dt, knn], \n",
    "                            meta_classifier=LogisticRegression(),\n",
    "                            cv=2,\n",
    "                            random_state=30027)\n",
    "\n",
    "sclf.fit(X_train, y_train)"
   ]
  },
  {
   "cell_type": "code",
   "execution_count": 28,
   "id": "506fc760",
   "metadata": {},
   "outputs": [
    {
     "name": "stdout",
     "output_type": "stream",
     "text": [
      "StackingCVClassifier prediction took 393.7739448547363 seconds.\n",
      "\n",
      "   3.0_precision  3.0_recall  3.0_f1-score  4.0_precision  4.0_recall  \\\n",
      "0       0.733696    0.229983      0.350195       0.741875    0.971622   \n",
      "1       0.721519    0.194208      0.306040       0.734979    0.973473   \n",
      "2       0.769784    0.182594      0.295172       0.734195    0.981493   \n",
      "3       0.737226    0.172355      0.279391       0.731550    0.978408   \n",
      "4       0.801325    0.206485      0.328358       0.738283    0.981493   \n",
      "5       0.677419    0.179181      0.283401       0.731628    0.970389   \n",
      "6       0.762712    0.153584      0.255682       0.727938    0.982110   \n",
      "7       0.771429    0.184300      0.297521       0.734166    0.979642   \n",
      "8       0.751634    0.195911      0.310811       0.735472    0.976543   \n",
      "9       0.746269    0.170358      0.277393       0.731797    0.980247   \n",
      "\n",
      "   4.0_f1-score  5.0_precision  5.0_recall  5.0_f1-score  accuracy  \n",
      "0      0.841346       0.000000    0.000000      0.000000  0.741222  \n",
      "1      0.837580       1.000000    0.020202      0.039604  0.734287  \n",
      "2      0.840021       1.000000    0.010000      0.019802  0.736454  \n",
      "3      0.837160       1.000000    0.010101      0.020000  0.732003  \n",
      "4      0.842691       0.000000    0.000000      0.000000  0.742411  \n",
      "5      0.834261       0.000000    0.000000      0.000000  0.727667  \n",
      "6      0.836134       0.000000    0.000000      0.000000  0.729402  \n",
      "7      0.839323       0.333333    0.010101      0.019608  0.735906  \n",
      "8      0.839035       0.000000    0.000000      0.000000  0.735906  \n",
      "9      0.837995       0.500000    0.010101      0.019802  0.732437  \n"
     ]
    },
    {
     "data": {
      "image/png": "[encoded data removed]",
      "text/plain": [
       "<Figure size 640x480 with 2 Axes>"
      ]
     },
     "metadata": {},
     "output_type": "display_data"
    },
    {
     "data": {
      "text/html": [
       "<div>\n",
       "<style scoped>\n",
       "    .dataframe tbody tr th:only-of-type {\n",
       "        vertical-align: middle;\n",
       "    }\n",
       "\n",
       "    .dataframe tbody tr th {\n",
       "        vertical-align: top;\n",
       "    }\n",
       "\n",
       "    .dataframe thead th {\n",
       "        text-align: right;\n",
       "    }\n",
       "</style>\n",
       "<table border=\"1\" class=\"dataframe\">\n",
       "  <thead>\n",
       "    <tr style=\"text-align: right;\">\n",
       "      <th></th>\n",
       "      <th>mean</th>\n",
       "      <th>std</th>\n",
       "    </tr>\n",
       "  </thead>\n",
       "  <tbody>\n",
       "    <tr>\n",
       "      <th>3.0_precision</th>\n",
       "      <td>0.747301</td>\n",
       "      <td>0.033497</td>\n",
       "    </tr>\n",
       "    <tr>\n",
       "      <th>3.0_recall</th>\n",
       "      <td>0.186896</td>\n",
       "      <td>0.021225</td>\n",
       "    </tr>\n",
       "    <tr>\n",
       "      <th>3.0_f1-score</th>\n",
       "      <td>0.298396</td>\n",
       "      <td>0.027195</td>\n",
       "    </tr>\n",
       "    <tr>\n",
       "      <th>4.0_precision</th>\n",
       "      <td>0.734188</td>\n",
       "      <td>0.003893</td>\n",
       "    </tr>\n",
       "    <tr>\n",
       "      <th>4.0_recall</th>\n",
       "      <td>0.977542</td>\n",
       "      <td>0.004325</td>\n",
       "    </tr>\n",
       "    <tr>\n",
       "      <th>4.0_f1-score</th>\n",
       "      <td>0.838555</td>\n",
       "      <td>0.002480</td>\n",
       "    </tr>\n",
       "    <tr>\n",
       "      <th>5.0_precision</th>\n",
       "      <td>0.383333</td>\n",
       "      <td>0.458460</td>\n",
       "    </tr>\n",
       "    <tr>\n",
       "      <th>5.0_recall</th>\n",
       "      <td>0.006051</td>\n",
       "      <td>0.007056</td>\n",
       "    </tr>\n",
       "    <tr>\n",
       "      <th>5.0_f1-score</th>\n",
       "      <td>0.011882</td>\n",
       "      <td>0.013846</td>\n",
       "    </tr>\n",
       "    <tr>\n",
       "      <th>accuracy</th>\n",
       "      <td>0.734770</td>\n",
       "      <td>0.004691</td>\n",
       "    </tr>\n",
       "  </tbody>\n",
       "</table>\n",
       "</div>"
      ],
      "text/plain": [
       "                   mean       std\n",
       "3.0_precision  0.747301  0.033497\n",
       "3.0_recall     0.186896  0.021225\n",
       "3.0_f1-score   0.298396  0.027195\n",
       "4.0_precision  0.734188  0.003893\n",
       "4.0_recall     0.977542  0.004325\n",
       "4.0_f1-score   0.838555  0.002480\n",
       "5.0_precision  0.383333  0.458460\n",
       "5.0_recall     0.006051  0.007056\n",
       "5.0_f1-score   0.011882  0.013846\n",
       "accuracy       0.734770  0.004691"
      ]
     },
     "execution_count": 28,
     "metadata": {},
     "output_type": "execute_result"
    }
   ],
   "source": [
    "# This is slow - be patient!\n",
    "y_pred_sclf, sclf_report = cross_val_report(sclf, X_train, y_train)\n",
    "sclf_report"
   ]
  },
  {
   "cell_type": "markdown",
   "id": "602f1c4a",
   "metadata": {},
   "source": [
    "## 3) Logistic Regression"
   ]
  },
  {
   "cell_type": "code",
   "execution_count": 29,
   "id": "8875b6f0",
   "metadata": {},
   "outputs": [],
   "source": [
    "train_df_logr = pd.read_csv(DATASET_DIR + \"train_df_ohe_300.csv\", keep_default_na=False)\n",
    "X_train_logr = train_df_logr.iloc[:,:-1]"
   ]
  },
  {
   "cell_type": "code",
   "execution_count": 30,
   "id": "208876cf",
   "metadata": {},
   "outputs": [],
   "source": [
    "from sklearn.linear_model import LogisticRegression"
   ]
  },
  {
   "cell_type": "code",
   "execution_count": 31,
   "id": "594e16c9",
   "metadata": {},
   "outputs": [
    {
     "data": {
      "text/html": [
       "<style>#sk-container-id-4 {color: black;background-color: white;}#sk-container-id-4 pre{padding: 0;}#sk-container-id-4 div.sk-toggleable {background-color: white;}#sk-container-id-4 label.sk-toggleable__label {cursor: pointer;display: block;width: 100%;margin-bottom: 0;padding: 0.3em;box-sizing: border-box;text-align: center;}#sk-container-id-4 label.sk-toggleable__label-arrow:before {content: \"▸\";float: left;margin-right: 0.25em;color: #696969;}#sk-container-id-4 label.sk-toggleable__label-arrow:hover:before {color: black;}#sk-container-id-4 div.sk-estimator:hover label.sk-toggleable__label-arrow:before {color: black;}#sk-container-id-4 div.sk-toggleable__content {max-height: 0;max-width: 0;overflow: hidden;text-align: left;background-color: #f0f8ff;}#sk-container-id-4 div.sk-toggleable__content pre {margin: 0.2em;color: black;border-radius: 0.25em;background-color: #f0f8ff;}#sk-container-id-4 input.sk-toggleable__control:checked~div.sk-toggleable__content {max-height: 200px;max-width: 100%;overflow: auto;}#sk-container-id-4 input.sk-toggleable__control:checked~label.sk-toggleable__label-arrow:before {content: \"▾\";}#sk-container-id-4 div.sk-estimator input.sk-toggleable__control:checked~label.sk-toggleable__label {background-color: #d4ebff;}#sk-container-id-4 div.sk-label input.sk-toggleable__control:checked~label.sk-toggleable__label {background-color: #d4ebff;}#sk-container-id-4 input.sk-hidden--visually {border: 0;clip: rect(1px 1px 1px 1px);clip: rect(1px, 1px, 1px, 1px);height: 1px;margin: -1px;overflow: hidden;padding: 0;position: absolute;width: 1px;}#sk-container-id-4 div.sk-estimator {font-family: monospace;background-color: #f0f8ff;border: 1px dotted black;border-radius: 0.25em;box-sizing: border-box;margin-bottom: 0.5em;}#sk-container-id-4 div.sk-estimator:hover {background-color: #d4ebff;}#sk-container-id-4 div.sk-parallel-item::after {content: \"\";width: 100%;border-bottom: 1px solid gray;flex-grow: 1;}#sk-container-id-4 div.sk-label:hover label.sk-toggleable__label {background-color: #d4ebff;}#sk-container-id-4 div.sk-serial::before {content: \"\";position: absolute;border-left: 1px solid gray;box-sizing: border-box;top: 0;bottom: 0;left: 50%;z-index: 0;}#sk-container-id-4 div.sk-serial {display: flex;flex-direction: column;align-items: center;background-color: white;padding-right: 0.2em;padding-left: 0.2em;position: relative;}#sk-container-id-4 div.sk-item {position: relative;z-index: 1;}#sk-container-id-4 div.sk-parallel {display: flex;align-items: stretch;justify-content: center;background-color: white;position: relative;}#sk-container-id-4 div.sk-item::before, #sk-container-id-4 div.sk-parallel-item::before {content: \"\";position: absolute;border-left: 1px solid gray;box-sizing: border-box;top: 0;bottom: 0;left: 50%;z-index: -1;}#sk-container-id-4 div.sk-parallel-item {display: flex;flex-direction: column;z-index: 1;position: relative;background-color: white;}#sk-container-id-4 div.sk-parallel-item:first-child::after {align-self: flex-end;width: 50%;}#sk-container-id-4 div.sk-parallel-item:last-child::after {align-self: flex-start;width: 50%;}#sk-container-id-4 div.sk-parallel-item:only-child::after {width: 0;}#sk-container-id-4 div.sk-dashed-wrapped {border: 1px dashed gray;margin: 0 0.4em 0.5em 0.4em;box-sizing: border-box;padding-bottom: 0.4em;background-color: white;}#sk-container-id-4 div.sk-label label {font-family: monospace;font-weight: bold;display: inline-block;line-height: 1.2em;}#sk-container-id-4 div.sk-label-container {text-align: center;}#sk-container-id-4 div.sk-container {/* jupyter's `normalize.less` sets `[hidden] { display: none; }` but bootstrap.min.css set `[hidden] { display: none !important; }` so we also need the `!important` here to be able to override the default hidden behavior on the sphinx rendered scikit-learn.org. See: https://github.com/scikit-learn/scikit-learn/issues/21755 */display: inline-block !important;position: relative;}#sk-container-id-4 div.sk-text-repr-fallback {display: none;}</style><div id=\"sk-container-id-4\" class=\"sk-top-container\"><div class=\"sk-text-repr-fallback\"><pre>LogisticRegression(max_iter=500, solver=&#x27;sag&#x27;)</pre><b>In a Jupyter environment, please rerun this cell to show the HTML representation or trust the notebook. <br />On GitHub, the HTML representation is unable to render, please try loading this page with nbviewer.org.</b></div><div class=\"sk-container\" hidden><div class=\"sk-item\"><div class=\"sk-estimator sk-toggleable\"><input class=\"sk-toggleable__control sk-hidden--visually\" id=\"sk-estimator-id-6\" type=\"checkbox\" checked><label for=\"sk-estimator-id-6\" class=\"sk-toggleable__label sk-toggleable__label-arrow\">LogisticRegression</label><div class=\"sk-toggleable__content\"><pre>LogisticRegression(max_iter=500, solver=&#x27;sag&#x27;)</pre></div></div></div></div></div>"
      ],
      "text/plain": [
       "LogisticRegression(max_iter=500, solver='sag')"
      ]
     },
     "execution_count": 31,
     "metadata": {},
     "output_type": "execute_result"
    }
   ],
   "source": [
    "logr = LogisticRegression(solver='sag', max_iter=500)  # uses Stochastic Average Gradient descent solver\n",
    "logr.fit(X_train_logr, y_train)"
   ]
  },
  {
   "cell_type": "code",
   "execution_count": 32,
   "id": "67a3f4a0",
   "metadata": {},
   "outputs": [],
   "source": [
    "selector = SelectFromModel(logr, prefit=True).fit(X_train_logr, y_train)\n",
    "LR_FEATURES = [X_train_logr.columns[i] for i in selector.get_support(indices=True)]"
   ]
  },
  {
   "cell_type": "code",
   "execution_count": 33,
   "id": "027ae062",
   "metadata": {},
   "outputs": [
    {
     "name": "stdout",
     "output_type": "stream",
     "text": [
      "LogisticRegression prediction took 41.14043712615967 seconds.\n",
      "\n",
      "   3.0_precision  3.0_recall  3.0_f1-score  4.0_precision  4.0_recall  \\\n",
      "0       0.751724    0.185690      0.297814       0.735937    0.976558   \n",
      "1       0.708333    0.173765      0.279070       0.733830    0.972856   \n",
      "2       0.810606    0.182594      0.298050       0.736842    0.984577   \n",
      "3       0.707965    0.136519      0.228898       0.727482    0.976558   \n",
      "4       0.776978    0.184300      0.297931       0.736671    0.980259   \n",
      "5       0.731707    0.153584      0.253879       0.732225    0.978408   \n",
      "6       0.756522    0.148464      0.248217       0.730487    0.981493   \n",
      "7       0.720588    0.167235      0.271468       0.734107    0.975941   \n",
      "8       0.767606    0.185690      0.299040       0.736647    0.979012   \n",
      "9       0.732283    0.158433      0.260504       0.731978    0.977778   \n",
      "\n",
      "   4.0_f1-score  5.0_precision  5.0_recall  5.0_f1-score  accuracy  \n",
      "0      0.839343       0.727273    0.080808      0.145455  0.736888  \n",
      "1      0.836605       0.785714    0.111111      0.194690  0.732553  \n",
      "2      0.842884       0.888889    0.080000      0.146789  0.741656  \n",
      "3      0.833816       0.647059    0.111111      0.189655  0.725932  \n",
      "4      0.841186       0.800000    0.080808      0.146789  0.739376  \n",
      "5      0.837602       0.823529    0.141414      0.241379  0.732871  \n",
      "6      0.837589       0.846154    0.111111      0.196429  0.732437  \n",
      "7      0.837924       0.800000    0.121212      0.210526  0.733738  \n",
      "8      0.840710       0.909091    0.101010      0.181818  0.739376  \n",
      "9      0.837209       0.733333    0.111111      0.192982  0.732003  \n"
     ]
    },
    {
     "data": {
      "image/png": "[encoded data removed]",
      "text/plain": [
       "<Figure size 640x480 with 2 Axes>"
      ]
     },
     "metadata": {},
     "output_type": "display_data"
    },
    {
     "data": {
      "text/html": [
       "<div>\n",
       "<style scoped>\n",
       "    .dataframe tbody tr th:only-of-type {\n",
       "        vertical-align: middle;\n",
       "    }\n",
       "\n",
       "    .dataframe tbody tr th {\n",
       "        vertical-align: top;\n",
       "    }\n",
       "\n",
       "    .dataframe thead th {\n",
       "        text-align: right;\n",
       "    }\n",
       "</style>\n",
       "<table border=\"1\" class=\"dataframe\">\n",
       "  <thead>\n",
       "    <tr style=\"text-align: right;\">\n",
       "      <th></th>\n",
       "      <th>mean</th>\n",
       "      <th>std</th>\n",
       "    </tr>\n",
       "  </thead>\n",
       "  <tbody>\n",
       "    <tr>\n",
       "      <th>3.0_precision</th>\n",
       "      <td>0.746431</td>\n",
       "      <td>0.032737</td>\n",
       "    </tr>\n",
       "    <tr>\n",
       "      <th>3.0_recall</th>\n",
       "      <td>0.167627</td>\n",
       "      <td>0.017667</td>\n",
       "    </tr>\n",
       "    <tr>\n",
       "      <th>3.0_f1-score</th>\n",
       "      <td>0.273487</td>\n",
       "      <td>0.025079</td>\n",
       "    </tr>\n",
       "    <tr>\n",
       "      <th>4.0_precision</th>\n",
       "      <td>0.733620</td>\n",
       "      <td>0.003103</td>\n",
       "    </tr>\n",
       "    <tr>\n",
       "      <th>4.0_recall</th>\n",
       "      <td>0.978344</td>\n",
       "      <td>0.003257</td>\n",
       "    </tr>\n",
       "    <tr>\n",
       "      <th>4.0_f1-score</th>\n",
       "      <td>0.838487</td>\n",
       "      <td>0.002607</td>\n",
       "    </tr>\n",
       "    <tr>\n",
       "      <th>5.0_precision</th>\n",
       "      <td>0.796104</td>\n",
       "      <td>0.078643</td>\n",
       "    </tr>\n",
       "    <tr>\n",
       "      <th>5.0_recall</th>\n",
       "      <td>0.104970</td>\n",
       "      <td>0.019860</td>\n",
       "    </tr>\n",
       "    <tr>\n",
       "      <th>5.0_f1-score</th>\n",
       "      <td>0.184651</td>\n",
       "      <td>0.030971</td>\n",
       "    </tr>\n",
       "    <tr>\n",
       "      <th>accuracy</th>\n",
       "      <td>0.734683</td>\n",
       "      <td>0.004655</td>\n",
       "    </tr>\n",
       "  </tbody>\n",
       "</table>\n",
       "</div>"
      ],
      "text/plain": [
       "                   mean       std\n",
       "3.0_precision  0.746431  0.032737\n",
       "3.0_recall     0.167627  0.017667\n",
       "3.0_f1-score   0.273487  0.025079\n",
       "4.0_precision  0.733620  0.003103\n",
       "4.0_recall     0.978344  0.003257\n",
       "4.0_f1-score   0.838487  0.002607\n",
       "5.0_precision  0.796104  0.078643\n",
       "5.0_recall     0.104970  0.019860\n",
       "5.0_f1-score   0.184651  0.030971\n",
       "accuracy       0.734683  0.004655"
      ]
     },
     "execution_count": 33,
     "metadata": {},
     "output_type": "execute_result"
    }
   ],
   "source": [
    "logr.fit(X_train_logr[LR_FEATURES], y_train)\n",
    "y_pred_logr, logr_report = cross_val_report(logr, X_train_logr[LR_FEATURES], y_train)\n",
    "logr_report"
   ]
  },
  {
   "cell_type": "markdown",
   "id": "520d7b7e",
   "metadata": {},
   "source": [
    "## 4) Stacking Naive Bayes"
   ]
  },
  {
   "cell_type": "code",
   "execution_count": 34,
   "id": "f70cc213",
   "metadata": {},
   "outputs": [],
   "source": [
    "train_df_oe = pd.read_csv(DATASET_DIR + \"train_df_oe.csv\", keep_default_na=False)\n",
    "y_train_oe = train_df_oe.iloc[:,-1]\n",
    "X_train_oe = train_df_oe.iloc[:,:-1]"
   ]
  },
  {
   "cell_type": "code",
   "execution_count": 35,
   "id": "326d1f24",
   "metadata": {},
   "outputs": [],
   "source": [
    "from mlxtend.classifier import StackingCVClassifier\n",
    "from mlxtend.feature_selection import ColumnSelector\n",
    "from sklearn.pipeline import make_pipeline\n",
    "from sklearn.linear_model import LogisticRegression\n",
    "from sklearn.naive_bayes import GaussianNB, MultinomialNB, CategoricalNB"
   ]
  },
  {
   "cell_type": "code",
   "execution_count": 36,
   "id": "d7db45a0",
   "metadata": {},
   "outputs": [],
   "source": [
    "GAUS_FEATURES = ['pagesNumber', 'PublishYear']\n",
    "CAT_FEATURES = ['Authors']\n",
    "MN_FEATURES = chi2_select_features(X_train_oe[X_train_oe.columns[6:]], y_train_oe)  # only filtering the text features\n",
    "N_AUTHORS_VALS = len(ORD_ENCODER.categories_[0])  # number of unique Authors categories\n",
    "\n",
    "X_train_oe = X_train_oe[GAUS_FEATURES + CAT_FEATURES + MN_FEATURES]\n",
    "## X_train_oe"
   ]
  },
  {
   "cell_type": "code",
   "execution_count": 37,
   "id": "66c1b22c",
   "metadata": {},
   "outputs": [
    {
     "data": {
      "text/html": [
       "<style>#sk-container-id-5 {color: black;background-color: white;}#sk-container-id-5 pre{padding: 0;}#sk-container-id-5 div.sk-toggleable {background-color: white;}#sk-container-id-5 label.sk-toggleable__label {cursor: pointer;display: block;width: 100%;margin-bottom: 0;padding: 0.3em;box-sizing: border-box;text-align: center;}#sk-container-id-5 label.sk-toggleable__label-arrow:before {content: \"▸\";float: left;margin-right: 0.25em;color: #696969;}#sk-container-id-5 label.sk-toggleable__label-arrow:hover:before {color: black;}#sk-container-id-5 div.sk-estimator:hover label.sk-toggleable__label-arrow:before {color: black;}#sk-container-id-5 div.sk-toggleable__content {max-height: 0;max-width: 0;overflow: hidden;text-align: left;background-color: #f0f8ff;}#sk-container-id-5 div.sk-toggleable__content pre {margin: 0.2em;color: black;border-radius: 0.25em;background-color: #f0f8ff;}#sk-container-id-5 input.sk-toggleable__control:checked~div.sk-toggleable__content {max-height: 200px;max-width: 100%;overflow: auto;}#sk-container-id-5 input.sk-toggleable__control:checked~label.sk-toggleable__label-arrow:before {content: \"▾\";}#sk-container-id-5 div.sk-estimator input.sk-toggleable__control:checked~label.sk-toggleable__label {background-color: #d4ebff;}#sk-container-id-5 div.sk-label input.sk-toggleable__control:checked~label.sk-toggleable__label {background-color: #d4ebff;}#sk-container-id-5 input.sk-hidden--visually {border: 0;clip: rect(1px 1px 1px 1px);clip: rect(1px, 1px, 1px, 1px);height: 1px;margin: -1px;overflow: hidden;padding: 0;position: absolute;width: 1px;}#sk-container-id-5 div.sk-estimator {font-family: monospace;background-color: #f0f8ff;border: 1px dotted black;border-radius: 0.25em;box-sizing: border-box;margin-bottom: 0.5em;}#sk-container-id-5 div.sk-estimator:hover {background-color: #d4ebff;}#sk-container-id-5 div.sk-parallel-item::after {content: \"\";width: 100%;border-bottom: 1px solid gray;flex-grow: 1;}#sk-container-id-5 div.sk-label:hover label.sk-toggleable__label {background-color: #d4ebff;}#sk-container-id-5 div.sk-serial::before {content: \"\";position: absolute;border-left: 1px solid gray;box-sizing: border-box;top: 0;bottom: 0;left: 50%;z-index: 0;}#sk-container-id-5 div.sk-serial {display: flex;flex-direction: column;align-items: center;background-color: white;padding-right: 0.2em;padding-left: 0.2em;position: relative;}#sk-container-id-5 div.sk-item {position: relative;z-index: 1;}#sk-container-id-5 div.sk-parallel {display: flex;align-items: stretch;justify-content: center;background-color: white;position: relative;}#sk-container-id-5 div.sk-item::before, #sk-container-id-5 div.sk-parallel-item::before {content: \"\";position: absolute;border-left: 1px solid gray;box-sizing: border-box;top: 0;bottom: 0;left: 50%;z-index: -1;}#sk-container-id-5 div.sk-parallel-item {display: flex;flex-direction: column;z-index: 1;position: relative;background-color: white;}#sk-container-id-5 div.sk-parallel-item:first-child::after {align-self: flex-end;width: 50%;}#sk-container-id-5 div.sk-parallel-item:last-child::after {align-self: flex-start;width: 50%;}#sk-container-id-5 div.sk-parallel-item:only-child::after {width: 0;}#sk-container-id-5 div.sk-dashed-wrapped {border: 1px dashed gray;margin: 0 0.4em 0.5em 0.4em;box-sizing: border-box;padding-bottom: 0.4em;background-color: white;}#sk-container-id-5 div.sk-label label {font-family: monospace;font-weight: bold;display: inline-block;line-height: 1.2em;}#sk-container-id-5 div.sk-label-container {text-align: center;}#sk-container-id-5 div.sk-container {/* jupyter's `normalize.less` sets `[hidden] { display: none; }` but bootstrap.min.css set `[hidden] { display: none !important; }` so we also need the `!important` here to be able to override the default hidden behavior on the sphinx rendered scikit-learn.org. See: https://github.com/scikit-learn/scikit-learn/issues/21755 */display: inline-block !important;position: relative;}#sk-container-id-5 div.sk-text-repr-fallback {display: none;}</style><div id=\"sk-container-id-5\" class=\"sk-top-container\"><div class=\"sk-text-repr-fallback\"><pre>StackingCVClassifier(classifiers=[Pipeline(steps=[(&#x27;columnselector&#x27;,\n",
       "                                                   ColumnSelector(cols=[&#x27;pagesNumber&#x27;,\n",
       "                                                                        &#x27;PublishYear&#x27;])),\n",
       "                                                  (&#x27;gaussiannb&#x27;,\n",
       "                                                   GaussianNB())]),\n",
       "                                  Pipeline(steps=[(&#x27;columnselector&#x27;,\n",
       "                                                   ColumnSelector(cols=[&#x27;Authors&#x27;])),\n",
       "                                                  (&#x27;categoricalnb&#x27;,\n",
       "                                                   CategoricalNB(alpha=0.11,\n",
       "                                                                 min_categories=19244))]),\n",
       "                                  Pipeline(steps=[(&#x27;columnselector&#x27;,\n",
       "                                                   ColumnSelector(cols=[&#x27;world_war...\n",
       "                                                                        &#x27;little_book&#x27;,\n",
       "                                                                        &#x27;year &#x27;\n",
       "                                                                        &#x27;ago&#x27;,\n",
       "                                                                        &#x27;high &#x27;\n",
       "                                                                        &#x27;school&#x27;,\n",
       "                                                                        &#x27;york &#x27;\n",
       "                                                                        &#x27;time&#x27;,\n",
       "                                                                        &#x27;first &#x27;\n",
       "                                                                        &#x27;book&#x27;,\n",
       "                                                                        &#x27;civil &#x27;\n",
       "                                                                        &#x27;war&#x27;,\n",
       "                                                                        &#x27;also &#x27;\n",
       "                                                                        &#x27;includes&#x27;,\n",
       "                                                                        &#x27;along &#x27;\n",
       "                                                                        &#x27;way&#x27;,\n",
       "                                                                        &#x27;men &#x27;\n",
       "                                                                        &#x27;woman&#x27;,\n",
       "                                                                        &#x27;book &#x27;\n",
       "                                                                        &#x27;also&#x27;,\n",
       "                                                                        &#x27;award &#x27;\n",
       "                                                                        &#x27;winning&#x27;,\n",
       "                                                                        &#x27;new &#x27;\n",
       "                                                                        &#x27;edition&#x27;,\n",
       "                                                                        &#x27;nineteenth &#x27;\n",
       "                                                                        &#x27;century&#x27;,\n",
       "                                                                        &#x27;science &#x27;\n",
       "                                                                        &#x27;fiction&#x27;,\n",
       "                                                                        &#x27;real &#x27;\n",
       "                                                                        &#x27;life&#x27;,\n",
       "                                                                        &#x27;href &#x27;\n",
       "                                                                        &#x27;http&#x27;,\n",
       "                                                                        &#x27;brings &#x27;\n",
       "                                                                        &#x27;together&#x27;])),\n",
       "                                                  (&#x27;multinomialnb&#x27;,\n",
       "                                                   MultinomialNB(alpha=0.26))])],\n",
       "                     meta_classifier=CategoricalNB(), random_state=30027)</pre><b>In a Jupyter environment, please rerun this cell to show the HTML representation or trust the notebook. <br />On GitHub, the HTML representation is unable to render, please try loading this page with nbviewer.org.</b></div><div class=\"sk-container\" hidden><div class=\"sk-item sk-dashed-wrapped\"><div class=\"sk-label-container\"><div class=\"sk-label sk-toggleable\"><input class=\"sk-toggleable__control sk-hidden--visually\" id=\"sk-estimator-id-7\" type=\"checkbox\" ><label for=\"sk-estimator-id-7\" class=\"sk-toggleable__label sk-toggleable__label-arrow\">StackingCVClassifier</label><div class=\"sk-toggleable__content\"><pre>StackingCVClassifier(classifiers=[Pipeline(steps=[(&#x27;columnselector&#x27;,\n",
       "                                                   ColumnSelector(cols=[&#x27;pagesNumber&#x27;,\n",
       "                                                                        &#x27;PublishYear&#x27;])),\n",
       "                                                  (&#x27;gaussiannb&#x27;,\n",
       "                                                   GaussianNB())]),\n",
       "                                  Pipeline(steps=[(&#x27;columnselector&#x27;,\n",
       "                                                   ColumnSelector(cols=[&#x27;Authors&#x27;])),\n",
       "                                                  (&#x27;categoricalnb&#x27;,\n",
       "                                                   CategoricalNB(alpha=0.11,\n",
       "                                                                 min_categories=19244))]),\n",
       "                                  Pipeline(steps=[(&#x27;columnselector&#x27;,\n",
       "                                                   ColumnSelector(cols=[&#x27;world_war...\n",
       "                                                                        &#x27;little_book&#x27;,\n",
       "                                                                        &#x27;year &#x27;\n",
       "                                                                        &#x27;ago&#x27;,\n",
       "                                                                        &#x27;high &#x27;\n",
       "                                                                        &#x27;school&#x27;,\n",
       "                                                                        &#x27;york &#x27;\n",
       "                                                                        &#x27;time&#x27;,\n",
       "                                                                        &#x27;first &#x27;\n",
       "                                                                        &#x27;book&#x27;,\n",
       "                                                                        &#x27;civil &#x27;\n",
       "                                                                        &#x27;war&#x27;,\n",
       "                                                                        &#x27;also &#x27;\n",
       "                                                                        &#x27;includes&#x27;,\n",
       "                                                                        &#x27;along &#x27;\n",
       "                                                                        &#x27;way&#x27;,\n",
       "                                                                        &#x27;men &#x27;\n",
       "                                                                        &#x27;woman&#x27;,\n",
       "                                                                        &#x27;book &#x27;\n",
       "                                                                        &#x27;also&#x27;,\n",
       "                                                                        &#x27;award &#x27;\n",
       "                                                                        &#x27;winning&#x27;,\n",
       "                                                                        &#x27;new &#x27;\n",
       "                                                                        &#x27;edition&#x27;,\n",
       "                                                                        &#x27;nineteenth &#x27;\n",
       "                                                                        &#x27;century&#x27;,\n",
       "                                                                        &#x27;science &#x27;\n",
       "                                                                        &#x27;fiction&#x27;,\n",
       "                                                                        &#x27;real &#x27;\n",
       "                                                                        &#x27;life&#x27;,\n",
       "                                                                        &#x27;href &#x27;\n",
       "                                                                        &#x27;http&#x27;,\n",
       "                                                                        &#x27;brings &#x27;\n",
       "                                                                        &#x27;together&#x27;])),\n",
       "                                                  (&#x27;multinomialnb&#x27;,\n",
       "                                                   MultinomialNB(alpha=0.26))])],\n",
       "                     meta_classifier=CategoricalNB(), random_state=30027)</pre></div></div></div><div class=\"sk-parallel\"><div class=\"sk-parallel-item\"><div class=\"sk-item\"><div class=\"sk-label-container\"><div class=\"sk-label sk-toggleable\"><input class=\"sk-toggleable__control sk-hidden--visually\" id=\"sk-estimator-id-8\" type=\"checkbox\" ><label for=\"sk-estimator-id-8\" class=\"sk-toggleable__label sk-toggleable__label-arrow\">meta_classifier: CategoricalNB</label><div class=\"sk-toggleable__content\"><pre>CategoricalNB()</pre></div></div></div><div class=\"sk-serial\"><div class=\"sk-item\"><div class=\"sk-estimator sk-toggleable\"><input class=\"sk-toggleable__control sk-hidden--visually\" id=\"sk-estimator-id-9\" type=\"checkbox\" ><label for=\"sk-estimator-id-9\" class=\"sk-toggleable__label sk-toggleable__label-arrow\">CategoricalNB</label><div class=\"sk-toggleable__content\"><pre>CategoricalNB()</pre></div></div></div></div></div></div></div></div></div></div>"
      ],
      "text/plain": [
       "StackingCVClassifier(classifiers=[Pipeline(steps=[('columnselector',\n",
       "                                                   ColumnSelector(cols=['pagesNumber',\n",
       "                                                                        'PublishYear'])),\n",
       "                                                  ('gaussiannb',\n",
       "                                                   GaussianNB())]),\n",
       "                                  Pipeline(steps=[('columnselector',\n",
       "                                                   ColumnSelector(cols=['Authors'])),\n",
       "                                                  ('categoricalnb',\n",
       "                                                   CategoricalNB(alpha=0.11,\n",
       "                                                                 min_categories=19244))]),\n",
       "                                  Pipeline(steps=[('columnselector',\n",
       "                                                   ColumnSelector(cols=['world_war...\n",
       "                                                                        'little_book',\n",
       "                                                                        'year '\n",
       "                                                                        'ago',\n",
       "                                                                        'high '\n",
       "                                                                        'school',\n",
       "                                                                        'york '\n",
       "                                                                        'time',\n",
       "                                                                        'first '\n",
       "                                                                        'book',\n",
       "                                                                        'civil '\n",
       "                                                                        'war',\n",
       "                                                                        'also '\n",
       "                                                                        'includes',\n",
       "                                                                        'along '\n",
       "                                                                        'way',\n",
       "                                                                        'men '\n",
       "                                                                        'woman',\n",
       "                                                                        'book '\n",
       "                                                                        'also',\n",
       "                                                                        'award '\n",
       "                                                                        'winning',\n",
       "                                                                        'new '\n",
       "                                                                        'edition',\n",
       "                                                                        'nineteenth '\n",
       "                                                                        'century',\n",
       "                                                                        'science '\n",
       "                                                                        'fiction',\n",
       "                                                                        'real '\n",
       "                                                                        'life',\n",
       "                                                                        'href '\n",
       "                                                                        'http',\n",
       "                                                                        'brings '\n",
       "                                                                        'together'])),\n",
       "                                                  ('multinomialnb',\n",
       "                                                   MultinomialNB(alpha=0.26))])],\n",
       "                     meta_classifier=CategoricalNB(), random_state=30027)"
      ]
     },
     "execution_count": 37,
     "metadata": {},
     "output_type": "execute_result"
    }
   ],
   "source": [
    "gnb = make_pipeline(ColumnSelector(GAUS_FEATURES),\n",
    "                      GaussianNB())\n",
    "cnb = make_pipeline(ColumnSelector(CAT_FEATURES),\n",
    "                      CategoricalNB(alpha=0.11, min_categories=N_AUTHORS_VALS))\n",
    "mnb = make_pipeline(ColumnSelector(MN_FEATURES),\n",
    "                      MultinomialNB(alpha=0.26))\n",
    "\n",
    "cvsnb = StackingCVClassifier(classifiers=[gnb, cnb, mnb], \n",
    "                            meta_classifier=CategoricalNB(),\n",
    "                            random_state=30027)\n",
    "\n",
    "cvsnb.fit(X_train_oe, y_train_oe)"
   ]
  },
  {
   "cell_type": "code",
   "execution_count": 38,
   "id": "4a43ad92",
   "metadata": {},
   "outputs": [
    {
     "name": "stdout",
     "output_type": "stream",
     "text": [
      "StackingCVClassifier prediction took 0.6600949764251709 seconds.\n",
      "\n",
      "   3.0_precision  3.0_recall  3.0_f1-score  4.0_precision  4.0_recall  \\\n",
      "0       0.601990    0.206133      0.307107       0.738521    0.942628   \n",
      "1       0.590909    0.177172      0.272608       0.731372    0.950648   \n",
      "2       0.621762    0.204778      0.308087       0.736968    0.950648   \n",
      "3       0.630682    0.189420      0.291339       0.735795    0.958667   \n",
      "4       0.693642    0.204778      0.316206       0.738739    0.961135   \n",
      "5       0.629412    0.182594      0.283069       0.735447    0.958667   \n",
      "6       0.629834    0.194539      0.297262       0.736441    0.954966   \n",
      "7       0.619632    0.172355      0.269693       0.734249    0.956200   \n",
      "8       0.655556    0.201022      0.307692       0.737042    0.956790   \n",
      "9       0.655629    0.168654      0.268293       0.731925    0.962346   \n",
      "\n",
      "   4.0_f1-score  5.0_precision  5.0_recall  5.0_f1-score  accuracy  \n",
      "0      0.828184       0.540541    0.202020      0.294118  0.723450  \n",
      "1      0.826717       0.666667    0.161616      0.260163  0.719983  \n",
      "2      0.830280       0.608696    0.140000      0.227642  0.726051  \n",
      "3      0.832574       0.777778    0.141414      0.239316  0.728101  \n",
      "4      0.835389       0.541667    0.131313      0.211382  0.733304  \n",
      "5      0.832351       0.739130    0.171717      0.278689  0.727667  \n",
      "6      0.831587       0.695652    0.161616      0.262295  0.727667  \n",
      "7      0.830654       0.593750    0.191919      0.290076  0.724198  \n",
      "8      0.832662       0.565217    0.131313      0.213115  0.728968  \n",
      "9      0.831467       0.640000    0.161616      0.258065  0.725932  \n"
     ]
    },
    {
     "data": {
      "image/png": "[encoded data removed]",
      "text/plain": [
       "<Figure size 640x480 with 2 Axes>"
      ]
     },
     "metadata": {},
     "output_type": "display_data"
    },
    {
     "data": {
      "text/html": [
       "<div>\n",
       "<style scoped>\n",
       "    .dataframe tbody tr th:only-of-type {\n",
       "        vertical-align: middle;\n",
       "    }\n",
       "\n",
       "    .dataframe tbody tr th {\n",
       "        vertical-align: top;\n",
       "    }\n",
       "\n",
       "    .dataframe thead th {\n",
       "        text-align: right;\n",
       "    }\n",
       "</style>\n",
       "<table border=\"1\" class=\"dataframe\">\n",
       "  <thead>\n",
       "    <tr style=\"text-align: right;\">\n",
       "      <th></th>\n",
       "      <th>mean</th>\n",
       "      <th>std</th>\n",
       "    </tr>\n",
       "  </thead>\n",
       "  <tbody>\n",
       "    <tr>\n",
       "      <th>3.0_precision</th>\n",
       "      <td>0.632905</td>\n",
       "      <td>0.029372</td>\n",
       "    </tr>\n",
       "    <tr>\n",
       "      <th>3.0_recall</th>\n",
       "      <td>0.190145</td>\n",
       "      <td>0.014243</td>\n",
       "    </tr>\n",
       "    <tr>\n",
       "      <th>3.0_f1-score</th>\n",
       "      <td>0.292135</td>\n",
       "      <td>0.017834</td>\n",
       "    </tr>\n",
       "    <tr>\n",
       "      <th>4.0_precision</th>\n",
       "      <td>0.735650</td>\n",
       "      <td>0.002501</td>\n",
       "    </tr>\n",
       "    <tr>\n",
       "      <th>4.0_recall</th>\n",
       "      <td>0.955270</td>\n",
       "      <td>0.005901</td>\n",
       "    </tr>\n",
       "    <tr>\n",
       "      <th>4.0_f1-score</th>\n",
       "      <td>0.831187</td>\n",
       "      <td>0.002437</td>\n",
       "    </tr>\n",
       "    <tr>\n",
       "      <th>5.0_precision</th>\n",
       "      <td>0.636910</td>\n",
       "      <td>0.082189</td>\n",
       "    </tr>\n",
       "    <tr>\n",
       "      <th>5.0_recall</th>\n",
       "      <td>0.159455</td>\n",
       "      <td>0.024308</td>\n",
       "    </tr>\n",
       "    <tr>\n",
       "      <th>5.0_f1-score</th>\n",
       "      <td>0.253486</td>\n",
       "      <td>0.029887</td>\n",
       "    </tr>\n",
       "    <tr>\n",
       "      <th>accuracy</th>\n",
       "      <td>0.726532</td>\n",
       "      <td>0.003579</td>\n",
       "    </tr>\n",
       "  </tbody>\n",
       "</table>\n",
       "</div>"
      ],
      "text/plain": [
       "                   mean       std\n",
       "3.0_precision  0.632905  0.029372\n",
       "3.0_recall     0.190145  0.014243\n",
       "3.0_f1-score   0.292135  0.017834\n",
       "4.0_precision  0.735650  0.002501\n",
       "4.0_recall     0.955270  0.005901\n",
       "4.0_f1-score   0.831187  0.002437\n",
       "5.0_precision  0.636910  0.082189\n",
       "5.0_recall     0.159455  0.024308\n",
       "5.0_f1-score   0.253486  0.029887\n",
       "accuracy       0.726532  0.003579"
      ]
     },
     "execution_count": 38,
     "metadata": {},
     "output_type": "execute_result"
    }
   ],
   "source": [
    "y_pred_cvsnb, cvsnb_report = cross_val_report(cvsnb, X_train_oe, y_train_oe)\n",
    "cvsnb_report"
   ]
  },
  {
   "cell_type": "markdown",
   "id": "c6c844d6",
   "metadata": {},
   "source": [
    "## 5) Baselines"
   ]
  },
  {
   "cell_type": "markdown",
   "id": "e1019aa6",
   "metadata": {},
   "source": [
    "### 0R"
   ]
  },
  {
   "cell_type": "code",
   "execution_count": 39,
   "id": "7ef0fbc9",
   "metadata": {},
   "outputs": [
    {
     "name": "stdout",
     "output_type": "stream",
     "text": [
      "DummyClassifier prediction took 0.2423868179321289 seconds.\n",
      "\n",
      "   3.0_precision  3.0_recall  3.0_f1-score  4.0_precision  4.0_recall  \\\n",
      "0            0.0         0.0           0.0       0.702644         1.0   \n",
      "1            0.0         0.0           0.0       0.702644         1.0   \n",
      "2            0.0         0.0           0.0       0.702644         1.0   \n",
      "3            0.0         0.0           0.0       0.702949         1.0   \n",
      "4            0.0         0.0           0.0       0.702949         1.0   \n",
      "5            0.0         0.0           0.0       0.702949         1.0   \n",
      "6            0.0         0.0           0.0       0.702949         1.0   \n",
      "7            0.0         0.0           0.0       0.702949         1.0   \n",
      "8            0.0         0.0           0.0       0.702515         1.0   \n",
      "9            0.0         0.0           0.0       0.702515         1.0   \n",
      "\n",
      "   4.0_f1-score  5.0_precision  5.0_recall  5.0_f1-score  accuracy  \n",
      "0      0.825356            0.0         0.0           0.0  0.702644  \n",
      "1      0.825356            0.0         0.0           0.0  0.702644  \n",
      "2      0.825356            0.0         0.0           0.0  0.702644  \n",
      "3      0.825567            0.0         0.0           0.0  0.702949  \n",
      "4      0.825567            0.0         0.0           0.0  0.702949  \n",
      "5      0.825567            0.0         0.0           0.0  0.702949  \n",
      "6      0.825567            0.0         0.0           0.0  0.702949  \n",
      "7      0.825567            0.0         0.0           0.0  0.702949  \n",
      "8      0.825267            0.0         0.0           0.0  0.702515  \n",
      "9      0.825267            0.0         0.0           0.0  0.702515  \n"
     ]
    },
    {
     "data": {
      "image/png": "[encoded data removed]",
      "text/plain": [
       "<Figure size 640x480 with 2 Axes>"
      ]
     },
     "metadata": {},
     "output_type": "display_data"
    },
    {
     "data": {
      "text/html": [
       "<div>\n",
       "<style scoped>\n",
       "    .dataframe tbody tr th:only-of-type {\n",
       "        vertical-align: middle;\n",
       "    }\n",
       "\n",
       "    .dataframe tbody tr th {\n",
       "        vertical-align: top;\n",
       "    }\n",
       "\n",
       "    .dataframe thead th {\n",
       "        text-align: right;\n",
       "    }\n",
       "</style>\n",
       "<table border=\"1\" class=\"dataframe\">\n",
       "  <thead>\n",
       "    <tr style=\"text-align: right;\">\n",
       "      <th></th>\n",
       "      <th>mean</th>\n",
       "      <th>std</th>\n",
       "    </tr>\n",
       "  </thead>\n",
       "  <tbody>\n",
       "    <tr>\n",
       "      <th>3.0_precision</th>\n",
       "      <td>0.000000</td>\n",
       "      <td>0.000000</td>\n",
       "    </tr>\n",
       "    <tr>\n",
       "      <th>3.0_recall</th>\n",
       "      <td>0.000000</td>\n",
       "      <td>0.000000</td>\n",
       "    </tr>\n",
       "    <tr>\n",
       "      <th>3.0_f1-score</th>\n",
       "      <td>0.000000</td>\n",
       "      <td>0.000000</td>\n",
       "    </tr>\n",
       "    <tr>\n",
       "      <th>4.0_precision</th>\n",
       "      <td>0.702771</td>\n",
       "      <td>0.000194</td>\n",
       "    </tr>\n",
       "    <tr>\n",
       "      <th>4.0_recall</th>\n",
       "      <td>1.000000</td>\n",
       "      <td>0.000000</td>\n",
       "    </tr>\n",
       "    <tr>\n",
       "      <th>4.0_f1-score</th>\n",
       "      <td>0.825444</td>\n",
       "      <td>0.000134</td>\n",
       "    </tr>\n",
       "    <tr>\n",
       "      <th>5.0_precision</th>\n",
       "      <td>0.000000</td>\n",
       "      <td>0.000000</td>\n",
       "    </tr>\n",
       "    <tr>\n",
       "      <th>5.0_recall</th>\n",
       "      <td>0.000000</td>\n",
       "      <td>0.000000</td>\n",
       "    </tr>\n",
       "    <tr>\n",
       "      <th>5.0_f1-score</th>\n",
       "      <td>0.000000</td>\n",
       "      <td>0.000000</td>\n",
       "    </tr>\n",
       "    <tr>\n",
       "      <th>accuracy</th>\n",
       "      <td>0.702771</td>\n",
       "      <td>0.000194</td>\n",
       "    </tr>\n",
       "  </tbody>\n",
       "</table>\n",
       "</div>"
      ],
      "text/plain": [
       "                   mean       std\n",
       "3.0_precision  0.000000  0.000000\n",
       "3.0_recall     0.000000  0.000000\n",
       "3.0_f1-score   0.000000  0.000000\n",
       "4.0_precision  0.702771  0.000194\n",
       "4.0_recall     1.000000  0.000000\n",
       "4.0_f1-score   0.825444  0.000134\n",
       "5.0_precision  0.000000  0.000000\n",
       "5.0_recall     0.000000  0.000000\n",
       "5.0_f1-score   0.000000  0.000000\n",
       "accuracy       0.702771  0.000194"
      ]
     },
     "execution_count": 39,
     "metadata": {},
     "output_type": "execute_result"
    }
   ],
   "source": [
    "from sklearn.dummy import DummyClassifier\n",
    "\n",
    "zero_r = DummyClassifier(strategy='most_frequent')\n",
    "y_pred_zero_r, zero_r_report = cross_val_report(zero_r, X_train, y_train)\n",
    "zero_r_report"
   ]
  },
  {
   "cell_type": "markdown",
   "id": "13071b38",
   "metadata": {},
   "source": [
    "### 1R"
   ]
  },
  {
   "cell_type": "code",
   "execution_count": 40,
   "id": "288f9f81",
   "metadata": {},
   "outputs": [
    {
     "name": "stdout",
     "output_type": "stream",
     "text": [
      "DecisionTreeClassifier prediction took 0.5394961833953857 seconds.\n",
      "\n",
      "   3.0_precision  3.0_recall  3.0_f1-score  4.0_precision  4.0_recall  \\\n",
      "0            0.0         0.0           0.0       0.702644         1.0   \n",
      "1            0.0         0.0           0.0       0.702644         1.0   \n",
      "2            0.0         0.0           0.0       0.702644         1.0   \n",
      "3            0.0         0.0           0.0       0.702949         1.0   \n",
      "4            0.0         0.0           0.0       0.702949         1.0   \n",
      "5            0.0         0.0           0.0       0.702949         1.0   \n",
      "6            0.0         0.0           0.0       0.702949         1.0   \n",
      "7            0.0         0.0           0.0       0.702949         1.0   \n",
      "8            0.0         0.0           0.0       0.702515         1.0   \n",
      "9            0.0         0.0           0.0       0.702515         1.0   \n",
      "\n",
      "   4.0_f1-score  5.0_precision  5.0_recall  5.0_f1-score  accuracy  \n",
      "0      0.825356            0.0         0.0           0.0  0.702644  \n",
      "1      0.825356            0.0         0.0           0.0  0.702644  \n",
      "2      0.825356            0.0         0.0           0.0  0.702644  \n",
      "3      0.825567            0.0         0.0           0.0  0.702949  \n",
      "4      0.825567            0.0         0.0           0.0  0.702949  \n",
      "5      0.825567            0.0         0.0           0.0  0.702949  \n",
      "6      0.825567            0.0         0.0           0.0  0.702949  \n",
      "7      0.825567            0.0         0.0           0.0  0.702949  \n",
      "8      0.825267            0.0         0.0           0.0  0.702515  \n",
      "9      0.825267            0.0         0.0           0.0  0.702515  \n"
     ]
    },
    {
     "data": {
      "image/png": "[encoded data removed]",
      "text/plain": [
       "<Figure size 640x480 with 2 Axes>"
      ]
     },
     "metadata": {},
     "output_type": "display_data"
    },
    {
     "data": {
      "text/html": [
       "<div>\n",
       "<style scoped>\n",
       "    .dataframe tbody tr th:only-of-type {\n",
       "        vertical-align: middle;\n",
       "    }\n",
       "\n",
       "    .dataframe tbody tr th {\n",
       "        vertical-align: top;\n",
       "    }\n",
       "\n",
       "    .dataframe thead th {\n",
       "        text-align: right;\n",
       "    }\n",
       "</style>\n",
       "<table border=\"1\" class=\"dataframe\">\n",
       "  <thead>\n",
       "    <tr style=\"text-align: right;\">\n",
       "      <th></th>\n",
       "      <th>mean</th>\n",
       "      <th>std</th>\n",
       "    </tr>\n",
       "  </thead>\n",
       "  <tbody>\n",
       "    <tr>\n",
       "      <th>3.0_precision</th>\n",
       "      <td>0.000000</td>\n",
       "      <td>0.000000</td>\n",
       "    </tr>\n",
       "    <tr>\n",
       "      <th>3.0_recall</th>\n",
       "      <td>0.000000</td>\n",
       "      <td>0.000000</td>\n",
       "    </tr>\n",
       "    <tr>\n",
       "      <th>3.0_f1-score</th>\n",
       "      <td>0.000000</td>\n",
       "      <td>0.000000</td>\n",
       "    </tr>\n",
       "    <tr>\n",
       "      <th>4.0_precision</th>\n",
       "      <td>0.702771</td>\n",
       "      <td>0.000194</td>\n",
       "    </tr>\n",
       "    <tr>\n",
       "      <th>4.0_recall</th>\n",
       "      <td>1.000000</td>\n",
       "      <td>0.000000</td>\n",
       "    </tr>\n",
       "    <tr>\n",
       "      <th>4.0_f1-score</th>\n",
       "      <td>0.825444</td>\n",
       "      <td>0.000134</td>\n",
       "    </tr>\n",
       "    <tr>\n",
       "      <th>5.0_precision</th>\n",
       "      <td>0.000000</td>\n",
       "      <td>0.000000</td>\n",
       "    </tr>\n",
       "    <tr>\n",
       "      <th>5.0_recall</th>\n",
       "      <td>0.000000</td>\n",
       "      <td>0.000000</td>\n",
       "    </tr>\n",
       "    <tr>\n",
       "      <th>5.0_f1-score</th>\n",
       "      <td>0.000000</td>\n",
       "      <td>0.000000</td>\n",
       "    </tr>\n",
       "    <tr>\n",
       "      <th>accuracy</th>\n",
       "      <td>0.702771</td>\n",
       "      <td>0.000194</td>\n",
       "    </tr>\n",
       "  </tbody>\n",
       "</table>\n",
       "</div>"
      ],
      "text/plain": [
       "                   mean       std\n",
       "3.0_precision  0.000000  0.000000\n",
       "3.0_recall     0.000000  0.000000\n",
       "3.0_f1-score   0.000000  0.000000\n",
       "4.0_precision  0.702771  0.000194\n",
       "4.0_recall     1.000000  0.000000\n",
       "4.0_f1-score   0.825444  0.000134\n",
       "5.0_precision  0.000000  0.000000\n",
       "5.0_recall     0.000000  0.000000\n",
       "5.0_f1-score   0.000000  0.000000\n",
       "accuracy       0.702771  0.000194"
      ]
     },
     "execution_count": 40,
     "metadata": {},
     "output_type": "execute_result"
    }
   ],
   "source": [
    "from sklearn.tree import DecisionTreeClassifier\n",
    "\n",
    "one_r = DecisionTreeClassifier(max_depth=1)\n",
    "y_pred_one_r, one_r_report = cross_val_report(one_r, X_train, y_train)\n",
    "one_r_report"
   ]
  },
  {
   "cell_type": "markdown",
   "id": "4c5f522f",
   "metadata": {},
   "source": [
    "# 3. Final predictions on the test set"
   ]
  },
  {
   "cell_type": "code",
   "execution_count": 46,
   "id": "65f48f2d",
   "metadata": {},
   "outputs": [],
   "source": [
    "test_df = preprocess_test_df(test_df)\n",
    "test_df_ohe = ohe_transform(test_df)"
   ]
  },
  {
   "cell_type": "code",
   "execution_count": 47,
   "id": "ea5330a2",
   "metadata": {},
   "outputs": [],
   "source": [
    "# Turns out that the StackingClf works the best - we use the same setting for the test set\n",
    "X_test = test_df_ohe.drop(INSIG_OHE_FEATURES, axis=1)"
   ]
  },
  {
   "cell_type": "code",
   "execution_count": 48,
   "id": "a2dd47b8",
   "metadata": {},
   "outputs": [],
   "source": [
    "y_pred = sclf.predict(X_test)"
   ]
  },
  {
   "cell_type": "code",
   "execution_count": 53,
   "id": "09031d1e",
   "metadata": {},
   "outputs": [
    {
     "data": {
      "text/html": [
       "<div>\n",
       "<style scoped>\n",
       "    .dataframe tbody tr th:only-of-type {\n",
       "        vertical-align: middle;\n",
       "    }\n",
       "\n",
       "    .dataframe tbody tr th {\n",
       "        vertical-align: top;\n",
       "    }\n",
       "\n",
       "    .dataframe thead th {\n",
       "        text-align: right;\n",
       "    }\n",
       "</style>\n",
       "<table border=\"1\" class=\"dataframe\">\n",
       "  <thead>\n",
       "    <tr style=\"text-align: right;\">\n",
       "      <th></th>\n",
       "      <th>id</th>\n",
       "      <th>rating_label</th>\n",
       "    </tr>\n",
       "  </thead>\n",
       "  <tbody>\n",
       "    <tr>\n",
       "      <th>0</th>\n",
       "      <td>1</td>\n",
       "      <td>4.0</td>\n",
       "    </tr>\n",
       "    <tr>\n",
       "      <th>1</th>\n",
       "      <td>2</td>\n",
       "      <td>4.0</td>\n",
       "    </tr>\n",
       "    <tr>\n",
       "      <th>2</th>\n",
       "      <td>3</td>\n",
       "      <td>4.0</td>\n",
       "    </tr>\n",
       "    <tr>\n",
       "      <th>3</th>\n",
       "      <td>4</td>\n",
       "      <td>4.0</td>\n",
       "    </tr>\n",
       "    <tr>\n",
       "      <th>4</th>\n",
       "      <td>5</td>\n",
       "      <td>4.0</td>\n",
       "    </tr>\n",
       "    <tr>\n",
       "      <th>...</th>\n",
       "      <td>...</td>\n",
       "      <td>...</td>\n",
       "    </tr>\n",
       "    <tr>\n",
       "      <th>5761</th>\n",
       "      <td>5762</td>\n",
       "      <td>4.0</td>\n",
       "    </tr>\n",
       "    <tr>\n",
       "      <th>5762</th>\n",
       "      <td>5763</td>\n",
       "      <td>4.0</td>\n",
       "    </tr>\n",
       "    <tr>\n",
       "      <th>5763</th>\n",
       "      <td>5764</td>\n",
       "      <td>4.0</td>\n",
       "    </tr>\n",
       "    <tr>\n",
       "      <th>5764</th>\n",
       "      <td>5765</td>\n",
       "      <td>4.0</td>\n",
       "    </tr>\n",
       "    <tr>\n",
       "      <th>5765</th>\n",
       "      <td>5766</td>\n",
       "      <td>4.0</td>\n",
       "    </tr>\n",
       "  </tbody>\n",
       "</table>\n",
       "<p>5766 rows × 2 columns</p>\n",
       "</div>"
      ],
      "text/plain": [
       "        id  rating_label\n",
       "0        1           4.0\n",
       "1        2           4.0\n",
       "2        3           4.0\n",
       "3        4           4.0\n",
       "4        5           4.0\n",
       "...    ...           ...\n",
       "5761  5762           4.0\n",
       "5762  5763           4.0\n",
       "5763  5764           4.0\n",
       "5764  5765           4.0\n",
       "5765  5766           4.0\n",
       "\n",
       "[5766 rows x 2 columns]"
      ]
     },
     "execution_count": 53,
     "metadata": {},
     "output_type": "execute_result"
    }
   ],
   "source": [
    "pred_df = pd.DataFrame(y_pred).reset_index().set_axis(['id', 'rating_label'], axis=1)\n",
    "pred_df['id'] = pred_df['id']+1  # id starts from 1\n",
    "pred_df.to_csv(\"predictions.csv\", index=False)\n",
    "pred_df"
   ]
  },
  {
   "cell_type": "code",
   "execution_count": null,
   "id": "5030f443",
   "metadata": {},
   "outputs": [],
   "source": []
  }
 ],
 "metadata": {
  "kernelspec": {
   "display_name": "Python 3 (ipykernel)",
   "language": "python",
   "name": "python3"
  },
  "language_info": {
   "codemirror_mode": {
    "name": "ipython",
    "version": 3
   },
   "file_extension": ".py",
   "mimetype": "text/x-python",
   "name": "python",
   "nbconvert_exporter": "python",
   "pygments_lexer": "ipython3",
   "version": "3.9.16"
  }
 },
 "nbformat": 4,
 "nbformat_minor": 5
}
