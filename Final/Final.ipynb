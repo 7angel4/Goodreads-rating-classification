{
 "cells": [
  {
   "cell_type": "markdown",
   "id": "36aa0dcc",
   "metadata": {},
   "source": [
    "###### ### The University of Melbourne, School of Computing and Information Systems\n",
    "# COMP30027 Machine Learning, 2023 Semester 1\n",
    "\n",
    "## Assignment 2: Book Rating Prediction"
   ]
  },
  {
   "cell_type": "markdown",
   "id": "ad7b7d63",
   "metadata": {},
   "source": [
    "**Student IDs:**     1264462 & 1269549"
   ]
  },
  {
   "cell_type": "markdown",
   "id": "a4ee271d",
   "metadata": {},
   "source": [
    "# README\n",
    "\n",
    "* To run the complete code in Jupyter Notebook, simply click Kernel > Restart & Run All.\n",
    "    * Note that it might take a while to generate the output - the slowest model takes about < 7 minutes.\n",
    "    * Alternatively, select the relevant cell, and click 'Run'.\n",
    "* Code lines commented out with `##` are for printing out information that may be of interest. You may uncomment it to see the output.\n",
    "* The dataset files (both the original and preprocessed) are assumed to exist in a folder named '**Datasets**', which resides in the same directory as this notebook.\n",
    "* There are two helper notebooks in the same directory, namely \"TextPreprocessing.ipynb\" and \"HelperFunctions.ipynb\". Here we make use of the IPython built-in magic command (`%run`) to run these files. You do not need to open and run them separately.\n",
    "* This code makes use of a library \"mlxtend\". To install it, run in the terminal: `pip install mlxtend`.\n",
    "    * More details about this library can be found here: https://rasbt.github.io/mlxtend/.\n",
    "* Each model may use a different version of the preprocessed dataset. Running this code generates the \"train_df_ohe.csv\" and \"train_df_oe.csv\" file. \n",
    "    * We have generated the other versions beforehand (\"train_df_ohe_300\", \"train_df_oe_300\"), which only requires a small change in a function parameter.\n",
    "    * All required, preprocessed datasets lie in the 'Datasets' folder.\n",
    "* This code also generates a file of the format \"[model]_pred.csv\", which contains the final predictions made by the selected model on the test set."
   ]
  },
  {
   "cell_type": "code",
   "execution_count": 52,
   "id": "14efbbec",
   "metadata": {},
   "outputs": [],
   "source": [
    "import pandas as pd\n",
    "import numpy as np\n",
    "import sklearn\n",
    "import matplotlib.pyplot as plt\n",
    "from sklearn.feature_selection import chi2, SelectKBest, SelectFromModel"
   ]
  },
  {
   "cell_type": "code",
   "execution_count": 53,
   "id": "78e2c499",
   "metadata": {},
   "outputs": [],
   "source": [
    "import warnings\n",
    "warnings.filterwarnings('ignore')"
   ]
  },
  {
   "cell_type": "code",
   "execution_count": 54,
   "id": "d030454b",
   "metadata": {},
   "outputs": [],
   "source": [
    "%run TextPreprocessing.ipynb\n",
    "%run HelperFunctions.ipynb"
   ]
  },
  {
   "cell_type": "code",
   "execution_count": 55,
   "id": "64f55cbe",
   "metadata": {},
   "outputs": [],
   "source": [
    "DATASET_DIR = \"./Datasets/\"\n",
    "CLASS_LABEL = \"rating_label\""
   ]
  },
  {
   "cell_type": "code",
   "execution_count": 56,
   "id": "81812266",
   "metadata": {},
   "outputs": [],
   "source": [
    "# Load datasets\n",
    "train_df = pd.read_csv(DATASET_DIR + \"book_rating_train.csv\", index_col = False, delimiter = ',', header=0)\n",
    "test_df = pd.read_csv(DATASET_DIR + \"book_rating_test.csv\", index_col = False, delimiter = ',', header=0)\n",
    "entire_df = pd.concat([train_df, test_df])"
   ]
  },
  {
   "cell_type": "markdown",
   "id": "d6e25a82",
   "metadata": {},
   "source": [
    "# 1. Data Preprocessing"
   ]
  },
  {
   "cell_type": "markdown",
   "id": "53c4fe86",
   "metadata": {},
   "source": [
    "Note: Here we show the individual preprocessing steps for the training set for clarity. At the end we pull everything together to preprocess the test set."
   ]
  },
  {
   "cell_type": "markdown",
   "id": "1d1b1fa6",
   "metadata": {},
   "source": [
    "## Preprocess String features: Authors and Publisher"
   ]
  },
  {
   "cell_type": "code",
   "execution_count": 57,
   "id": "58dcc204",
   "metadata": {},
   "outputs": [],
   "source": [
    "CATEGORICAL_FEATURES = ['Authors', 'Publisher']\n",
    "MISSING_CAT_VAL = ''"
   ]
  },
  {
   "cell_type": "code",
   "execution_count": 58,
   "id": "ad7ab1c8",
   "metadata": {},
   "outputs": [],
   "source": [
    "train_df = train_df.drop('Language', axis=1)  # this feature has too many missing values\n",
    "\n",
    "for df in [train_df, entire_df]:\n",
    "    for feature in CATEGORICAL_FEATURES:\n",
    "        df[feature] = df[feature].fillna(MISSING_CAT_VAL)  # impute missing values\n",
    "        df[feature] = df[feature].apply(lambda x: preprocess(x, stop_words_removal=False, lemmatize=False, min_word_len=0))"
   ]
  },
  {
   "cell_type": "markdown",
   "id": "5d720b85",
   "metadata": {},
   "source": [
    "### One-Hot Encoding"
   ]
  },
  {
   "cell_type": "code",
   "execution_count": 59,
   "id": "c5d64489",
   "metadata": {},
   "outputs": [
    {
     "data": {
      "text/html": [
       "<style>#sk-container-id-4 {color: black;background-color: white;}#sk-container-id-4 pre{padding: 0;}#sk-container-id-4 div.sk-toggleable {background-color: white;}#sk-container-id-4 label.sk-toggleable__label {cursor: pointer;display: block;width: 100%;margin-bottom: 0;padding: 0.3em;box-sizing: border-box;text-align: center;}#sk-container-id-4 label.sk-toggleable__label-arrow:before {content: \"▸\";float: left;margin-right: 0.25em;color: #696969;}#sk-container-id-4 label.sk-toggleable__label-arrow:hover:before {color: black;}#sk-container-id-4 div.sk-estimator:hover label.sk-toggleable__label-arrow:before {color: black;}#sk-container-id-4 div.sk-toggleable__content {max-height: 0;max-width: 0;overflow: hidden;text-align: left;background-color: #f0f8ff;}#sk-container-id-4 div.sk-toggleable__content pre {margin: 0.2em;color: black;border-radius: 0.25em;background-color: #f0f8ff;}#sk-container-id-4 input.sk-toggleable__control:checked~div.sk-toggleable__content {max-height: 200px;max-width: 100%;overflow: auto;}#sk-container-id-4 input.sk-toggleable__control:checked~label.sk-toggleable__label-arrow:before {content: \"▾\";}#sk-container-id-4 div.sk-estimator input.sk-toggleable__control:checked~label.sk-toggleable__label {background-color: #d4ebff;}#sk-container-id-4 div.sk-label input.sk-toggleable__control:checked~label.sk-toggleable__label {background-color: #d4ebff;}#sk-container-id-4 input.sk-hidden--visually {border: 0;clip: rect(1px 1px 1px 1px);clip: rect(1px, 1px, 1px, 1px);height: 1px;margin: -1px;overflow: hidden;padding: 0;position: absolute;width: 1px;}#sk-container-id-4 div.sk-estimator {font-family: monospace;background-color: #f0f8ff;border: 1px dotted black;border-radius: 0.25em;box-sizing: border-box;margin-bottom: 0.5em;}#sk-container-id-4 div.sk-estimator:hover {background-color: #d4ebff;}#sk-container-id-4 div.sk-parallel-item::after {content: \"\";width: 100%;border-bottom: 1px solid gray;flex-grow: 1;}#sk-container-id-4 div.sk-label:hover label.sk-toggleable__label {background-color: #d4ebff;}#sk-container-id-4 div.sk-serial::before {content: \"\";position: absolute;border-left: 1px solid gray;box-sizing: border-box;top: 0;bottom: 0;left: 50%;z-index: 0;}#sk-container-id-4 div.sk-serial {display: flex;flex-direction: column;align-items: center;background-color: white;padding-right: 0.2em;padding-left: 0.2em;position: relative;}#sk-container-id-4 div.sk-item {position: relative;z-index: 1;}#sk-container-id-4 div.sk-parallel {display: flex;align-items: stretch;justify-content: center;background-color: white;position: relative;}#sk-container-id-4 div.sk-item::before, #sk-container-id-4 div.sk-parallel-item::before {content: \"\";position: absolute;border-left: 1px solid gray;box-sizing: border-box;top: 0;bottom: 0;left: 50%;z-index: -1;}#sk-container-id-4 div.sk-parallel-item {display: flex;flex-direction: column;z-index: 1;position: relative;background-color: white;}#sk-container-id-4 div.sk-parallel-item:first-child::after {align-self: flex-end;width: 50%;}#sk-container-id-4 div.sk-parallel-item:last-child::after {align-self: flex-start;width: 50%;}#sk-container-id-4 div.sk-parallel-item:only-child::after {width: 0;}#sk-container-id-4 div.sk-dashed-wrapped {border: 1px dashed gray;margin: 0 0.4em 0.5em 0.4em;box-sizing: border-box;padding-bottom: 0.4em;background-color: white;}#sk-container-id-4 div.sk-label label {font-family: monospace;font-weight: bold;display: inline-block;line-height: 1.2em;}#sk-container-id-4 div.sk-label-container {text-align: center;}#sk-container-id-4 div.sk-container {/* jupyter's `normalize.less` sets `[hidden] { display: none; }` but bootstrap.min.css set `[hidden] { display: none !important; }` so we also need the `!important` here to be able to override the default hidden behavior on the sphinx rendered scikit-learn.org. See: https://github.com/scikit-learn/scikit-learn/issues/21755 */display: inline-block !important;position: relative;}#sk-container-id-4 div.sk-text-repr-fallback {display: none;}</style><div id=\"sk-container-id-4\" class=\"sk-top-container\"><div class=\"sk-text-repr-fallback\"><pre>OneHotEncoder(handle_unknown=&#x27;infrequent_if_exist&#x27;, min_frequency=3,\n",
       "              sparse=False, sparse_output=False)</pre><b>In a Jupyter environment, please rerun this cell to show the HTML representation or trust the notebook. <br />On GitHub, the HTML representation is unable to render, please try loading this page with nbviewer.org.</b></div><div class=\"sk-container\" hidden><div class=\"sk-item\"><div class=\"sk-estimator sk-toggleable\"><input class=\"sk-toggleable__control sk-hidden--visually\" id=\"sk-estimator-id-6\" type=\"checkbox\" checked><label for=\"sk-estimator-id-6\" class=\"sk-toggleable__label sk-toggleable__label-arrow\">OneHotEncoder</label><div class=\"sk-toggleable__content\"><pre>OneHotEncoder(handle_unknown=&#x27;infrequent_if_exist&#x27;, min_frequency=3,\n",
       "              sparse=False, sparse_output=False)</pre></div></div></div></div></div>"
      ],
      "text/plain": [
       "OneHotEncoder(handle_unknown='infrequent_if_exist', min_frequency=3,\n",
       "              sparse=False, sparse_output=False)"
      ]
     },
     "execution_count": 59,
     "metadata": {},
     "output_type": "execute_result"
    }
   ],
   "source": [
    "from sklearn.preprocessing import OneHotEncoder\n",
    "\n",
    "OHE = OneHotEncoder(handle_unknown='infrequent_if_exist', min_frequency=3, sparse=False)\n",
    "OHE.fit(entire_df[CATEGORICAL_FEATURES])"
   ]
  },
  {
   "cell_type": "code",
   "execution_count": 60,
   "id": "f82b3598",
   "metadata": {},
   "outputs": [],
   "source": [
    "def ohe_transform(df, has_labels=False):\n",
    "    \"\"\"\n",
    "    Transforms the dataset by one-hot-encoding, on the categorical features only.\n",
    "    `has_label` indicates whether the DataFrame contains the class labels.\n",
    "        If True, these are moved to the last column.\n",
    "    Returns the transformed DataFrame.\n",
    "    \"\"\"\n",
    "    transformed_mat = OHE.transform(df[CATEGORICAL_FEATURES])\n",
    "    transformed_cat_df = pd.DataFrame(transformed_mat).set_axis(OHE.get_feature_names_out(), axis=1, inplace=False)\n",
    "    transformed_df = pd.concat([df.reset_index(drop=True), transformed_cat_df], axis=1)\n",
    "    transformed_df = transformed_df.drop(CATEGORICAL_FEATURES, axis=1)  # drop the original attributes\n",
    "    \n",
    "    if has_labels:\n",
    "        # move rating_label to the last column\n",
    "        labels = transformed_df[CLASS_LABEL]\n",
    "        transformed_df = pd.concat([transformed_df.drop([CLASS_LABEL], axis=1), labels], axis=1)\n",
    "    \n",
    "    return transformed_df"
   ]
  },
  {
   "cell_type": "code",
   "execution_count": 61,
   "id": "dbd0c918",
   "metadata": {},
   "outputs": [
    {
     "name": "stdout",
     "output_type": "stream",
     "text": [
      "497 features are significant.\n"
     ]
    }
   ],
   "source": [
    "ALPHA = 0.05\n",
    "\n",
    "# Select one-hot-encoded features using chi2\n",
    "x2 = SelectKBest(chi2, k='all')\n",
    "x2.fit(ohe_transform(train_df)[OHE.get_feature_names_out()], train_df[CLASS_LABEL])\n",
    "pvals = pd.DataFrame(x2.pvalues_, index=x2.feature_names_in_, columns=['p-value'])\n",
    "## print(pvals)\n",
    "\n",
    "INSIG_OHE_FEATURES = pvals[pvals['p-value'] >= ALPHA].index.tolist()  # insignificant encoded features\n",
    "sig_ohe_features = pvals[pvals['p-value'] < ALPHA].index.tolist()\n",
    "print(len(sig_ohe_features), \"features are significant.\")\n",
    "## sig_ohe_features"
   ]
  },
  {
   "cell_type": "code",
   "execution_count": 62,
   "id": "be01b925",
   "metadata": {},
   "outputs": [],
   "source": [
    "train_df = ohe_transform(train_df, has_labels=True)\n",
    "train_df = train_df.drop(INSIG_OHE_FEATURES, axis=1)"
   ]
  },
  {
   "cell_type": "markdown",
   "id": "402e29f9",
   "metadata": {},
   "source": [
    "## Discretize 'Numerical' features"
   ]
  },
  {
   "cell_type": "code",
   "execution_count": 63,
   "id": "0269bf6d",
   "metadata": {},
   "outputs": [],
   "source": [
    "# First drop PublishDay and PublishMonth\n",
    "train_df = train_df.drop(['PublishDay', 'PublishMonth'], axis=1)"
   ]
  },
  {
   "cell_type": "code",
   "execution_count": 64,
   "id": "58895b04",
   "metadata": {},
   "outputs": [],
   "source": [
    "from sklearn.preprocessing import KBinsDiscretizer\n",
    "\n",
    "def discretize(df, feature, discretizer=None, strategy='kmeans', n_bins=5):\n",
    "    \"\"\"\n",
    "    Discretizes the feature in the given DataFrame.\n",
    "    - discretizer: the discretizer; \n",
    "      If None, creates a KBinsDiscretizer for ordinal data, with the specified strategy and number of bins.\n",
    "    - strategy: the discretization strategy (one of ['kmeans', 'quantile', 'uniform']).\n",
    "    - n_bins: the number of bins.\n",
    "    Returns the transformed dataset and discretizer used.\n",
    "    \"\"\"\n",
    "    \n",
    "    if discretizer is None:\n",
    "        discretizer = KBinsDiscretizer(n_bins=n_bins, encode='ordinal', strategy=strategy)\n",
    "        discretizer.fit(df[[feature]])\n",
    "        \n",
    "    transformed_df = df.copy()\n",
    "    transformed_df[feature] = discretizer.transform(df[[feature]])\n",
    "    \n",
    "    return transformed_df, discretizer"
   ]
  },
  {
   "cell_type": "code",
   "execution_count": 65,
   "id": "7136bd76",
   "metadata": {},
   "outputs": [],
   "source": [
    "# PublishYear\n",
    "train_df, DISCRETIZER_PY = discretize(train_df, 'PublishYear', strategy='uniform', n_bins=15)\n",
    "\n",
    "# pagesNumber\n",
    "train_df, DISCRETIZER_PN = discretize(train_df, 'pagesNumber', strategy='kmeans', n_bins=7)"
   ]
  },
  {
   "cell_type": "markdown",
   "id": "d95929a9",
   "metadata": {},
   "source": [
    "## Text Pre-processing"
   ]
  },
  {
   "cell_type": "code",
   "execution_count": 66,
   "id": "c1f1faff",
   "metadata": {},
   "outputs": [],
   "source": [
    "TEXT_FEATURES = ['Name', 'Description']"
   ]
  },
  {
   "cell_type": "code",
   "execution_count": 67,
   "id": "b7ce7c3e",
   "metadata": {},
   "outputs": [],
   "source": [
    "train_df_name, VECTORIZER_NAME = preprocess_text_feature(train_df, 'Name', ngram=2, delimiter='_')  # distinguish from Description features\n",
    "train_df_desc, VECTORIZER_DESC = preprocess_text_feature(train_df, 'Description', ngram=2)"
   ]
  },
  {
   "cell_type": "code",
   "execution_count": 68,
   "id": "4aea491f",
   "metadata": {},
   "outputs": [],
   "source": [
    "# Bind them together\n",
    "train_df = pd.concat([train_df.reset_index(drop=True), train_df_name, train_df_desc], axis=1)\n",
    "train_df = train_df.drop(TEXT_FEATURES, axis=1)  # drop the original columns"
   ]
  },
  {
   "cell_type": "code",
   "execution_count": 69,
   "id": "4b7247bd",
   "metadata": {},
   "outputs": [],
   "source": [
    "# Move rating_label to the last column\n",
    "labels = train_df[CLASS_LABEL].astype('category')\n",
    "train_df = pd.concat([train_df.drop([CLASS_LABEL], axis=1), labels], axis=1) "
   ]
  },
  {
   "cell_type": "markdown",
   "id": "ded16240",
   "metadata": {},
   "source": [
    "## Normalization"
   ]
  },
  {
   "cell_type": "code",
   "execution_count": 70,
   "id": "e65de9f5",
   "metadata": {},
   "outputs": [],
   "source": [
    "from sklearn.preprocessing import MinMaxScaler\n",
    "\n",
    "train_df_X = train_df.iloc[:,:-1]\n",
    "train_df_y = train_df.iloc[:,-1]\n",
    "SCALER = MinMaxScaler()\n",
    "scaled = SCALER.fit_transform(train_df_X)"
   ]
  },
  {
   "cell_type": "code",
   "execution_count": 71,
   "id": "aa6df720",
   "metadata": {},
   "outputs": [
    {
     "data": {
      "text/html": [
       "<div>\n",
       "<style scoped>\n",
       "    .dataframe tbody tr th:only-of-type {\n",
       "        vertical-align: middle;\n",
       "    }\n",
       "\n",
       "    .dataframe tbody tr th {\n",
       "        vertical-align: top;\n",
       "    }\n",
       "\n",
       "    .dataframe thead th {\n",
       "        text-align: right;\n",
       "    }\n",
       "</style>\n",
       "<table border=\"1\" class=\"dataframe\">\n",
       "  <thead>\n",
       "    <tr style=\"text-align: right;\">\n",
       "      <th></th>\n",
       "      <th>PublishYear</th>\n",
       "      <th>pagesNumber</th>\n",
       "      <th>Authors_</th>\n",
       "      <th>Authors_aaron mccollough</th>\n",
       "      <th>Authors_abu hamid al ghazali</th>\n",
       "      <th>Authors_agatha christie</th>\n",
       "      <th>Authors_alba de c spedes</th>\n",
       "      <th>Authors_alexander kent</th>\n",
       "      <th>Authors_alexander schmemann</th>\n",
       "      <th>Authors_alexandre dumas</th>\n",
       "      <th>...</th>\n",
       "      <th>book offer</th>\n",
       "      <th>young woman</th>\n",
       "      <th>science fiction</th>\n",
       "      <th>well known</th>\n",
       "      <th>br em</th>\n",
       "      <th>real life</th>\n",
       "      <th>tell story</th>\n",
       "      <th>african american</th>\n",
       "      <th>san francisco</th>\n",
       "      <th>rating_label</th>\n",
       "    </tr>\n",
       "  </thead>\n",
       "  <tbody>\n",
       "    <tr>\n",
       "      <th>0</th>\n",
       "      <td>0.928571</td>\n",
       "      <td>0.000000</td>\n",
       "      <td>0.0</td>\n",
       "      <td>0.0</td>\n",
       "      <td>0.0</td>\n",
       "      <td>0.0</td>\n",
       "      <td>0.0</td>\n",
       "      <td>0.0</td>\n",
       "      <td>0.0</td>\n",
       "      <td>0.0</td>\n",
       "      <td>...</td>\n",
       "      <td>0.0</td>\n",
       "      <td>0.0</td>\n",
       "      <td>0.0</td>\n",
       "      <td>0.0</td>\n",
       "      <td>0.0</td>\n",
       "      <td>0.0</td>\n",
       "      <td>0.0</td>\n",
       "      <td>0.0</td>\n",
       "      <td>0.0</td>\n",
       "      <td>4.0</td>\n",
       "    </tr>\n",
       "    <tr>\n",
       "      <th>1</th>\n",
       "      <td>0.857143</td>\n",
       "      <td>0.333333</td>\n",
       "      <td>0.0</td>\n",
       "      <td>0.0</td>\n",
       "      <td>0.0</td>\n",
       "      <td>0.0</td>\n",
       "      <td>0.0</td>\n",
       "      <td>0.0</td>\n",
       "      <td>0.0</td>\n",
       "      <td>0.0</td>\n",
       "      <td>...</td>\n",
       "      <td>0.0</td>\n",
       "      <td>0.0</td>\n",
       "      <td>0.0</td>\n",
       "      <td>0.0</td>\n",
       "      <td>0.0</td>\n",
       "      <td>0.0</td>\n",
       "      <td>0.0</td>\n",
       "      <td>0.0</td>\n",
       "      <td>0.0</td>\n",
       "      <td>4.0</td>\n",
       "    </tr>\n",
       "    <tr>\n",
       "      <th>2</th>\n",
       "      <td>0.928571</td>\n",
       "      <td>0.000000</td>\n",
       "      <td>0.0</td>\n",
       "      <td>0.0</td>\n",
       "      <td>0.0</td>\n",
       "      <td>0.0</td>\n",
       "      <td>0.0</td>\n",
       "      <td>0.0</td>\n",
       "      <td>0.0</td>\n",
       "      <td>0.0</td>\n",
       "      <td>...</td>\n",
       "      <td>0.0</td>\n",
       "      <td>0.0</td>\n",
       "      <td>0.0</td>\n",
       "      <td>0.0</td>\n",
       "      <td>0.0</td>\n",
       "      <td>0.0</td>\n",
       "      <td>0.0</td>\n",
       "      <td>0.0</td>\n",
       "      <td>0.0</td>\n",
       "      <td>4.0</td>\n",
       "    </tr>\n",
       "    <tr>\n",
       "      <th>3</th>\n",
       "      <td>0.928571</td>\n",
       "      <td>0.166667</td>\n",
       "      <td>0.0</td>\n",
       "      <td>0.0</td>\n",
       "      <td>0.0</td>\n",
       "      <td>0.0</td>\n",
       "      <td>0.0</td>\n",
       "      <td>0.0</td>\n",
       "      <td>0.0</td>\n",
       "      <td>0.0</td>\n",
       "      <td>...</td>\n",
       "      <td>0.0</td>\n",
       "      <td>0.0</td>\n",
       "      <td>0.0</td>\n",
       "      <td>0.0</td>\n",
       "      <td>0.0</td>\n",
       "      <td>0.0</td>\n",
       "      <td>0.0</td>\n",
       "      <td>0.0</td>\n",
       "      <td>0.0</td>\n",
       "      <td>4.0</td>\n",
       "    </tr>\n",
       "    <tr>\n",
       "      <th>4</th>\n",
       "      <td>0.928571</td>\n",
       "      <td>0.166667</td>\n",
       "      <td>0.0</td>\n",
       "      <td>0.0</td>\n",
       "      <td>0.0</td>\n",
       "      <td>0.0</td>\n",
       "      <td>0.0</td>\n",
       "      <td>0.0</td>\n",
       "      <td>0.0</td>\n",
       "      <td>0.0</td>\n",
       "      <td>...</td>\n",
       "      <td>0.0</td>\n",
       "      <td>0.0</td>\n",
       "      <td>0.0</td>\n",
       "      <td>0.0</td>\n",
       "      <td>0.0</td>\n",
       "      <td>0.0</td>\n",
       "      <td>0.0</td>\n",
       "      <td>0.0</td>\n",
       "      <td>0.0</td>\n",
       "      <td>3.0</td>\n",
       "    </tr>\n",
       "    <tr>\n",
       "      <th>...</th>\n",
       "      <td>...</td>\n",
       "      <td>...</td>\n",
       "      <td>...</td>\n",
       "      <td>...</td>\n",
       "      <td>...</td>\n",
       "      <td>...</td>\n",
       "      <td>...</td>\n",
       "      <td>...</td>\n",
       "      <td>...</td>\n",
       "      <td>...</td>\n",
       "      <td>...</td>\n",
       "      <td>...</td>\n",
       "      <td>...</td>\n",
       "      <td>...</td>\n",
       "      <td>...</td>\n",
       "      <td>...</td>\n",
       "      <td>...</td>\n",
       "      <td>...</td>\n",
       "      <td>...</td>\n",
       "      <td>...</td>\n",
       "      <td>...</td>\n",
       "    </tr>\n",
       "    <tr>\n",
       "      <th>23058</th>\n",
       "      <td>0.857143</td>\n",
       "      <td>0.000000</td>\n",
       "      <td>0.0</td>\n",
       "      <td>0.0</td>\n",
       "      <td>0.0</td>\n",
       "      <td>0.0</td>\n",
       "      <td>0.0</td>\n",
       "      <td>0.0</td>\n",
       "      <td>0.0</td>\n",
       "      <td>0.0</td>\n",
       "      <td>...</td>\n",
       "      <td>0.0</td>\n",
       "      <td>0.0</td>\n",
       "      <td>0.0</td>\n",
       "      <td>0.0</td>\n",
       "      <td>0.0</td>\n",
       "      <td>0.0</td>\n",
       "      <td>0.0</td>\n",
       "      <td>0.0</td>\n",
       "      <td>0.0</td>\n",
       "      <td>4.0</td>\n",
       "    </tr>\n",
       "    <tr>\n",
       "      <th>23059</th>\n",
       "      <td>0.928571</td>\n",
       "      <td>0.000000</td>\n",
       "      <td>0.0</td>\n",
       "      <td>0.0</td>\n",
       "      <td>0.0</td>\n",
       "      <td>0.0</td>\n",
       "      <td>0.0</td>\n",
       "      <td>0.0</td>\n",
       "      <td>0.0</td>\n",
       "      <td>0.0</td>\n",
       "      <td>...</td>\n",
       "      <td>0.0</td>\n",
       "      <td>0.0</td>\n",
       "      <td>0.0</td>\n",
       "      <td>0.0</td>\n",
       "      <td>0.0</td>\n",
       "      <td>0.0</td>\n",
       "      <td>0.0</td>\n",
       "      <td>0.0</td>\n",
       "      <td>0.0</td>\n",
       "      <td>4.0</td>\n",
       "    </tr>\n",
       "    <tr>\n",
       "      <th>23060</th>\n",
       "      <td>0.857143</td>\n",
       "      <td>0.000000</td>\n",
       "      <td>0.0</td>\n",
       "      <td>0.0</td>\n",
       "      <td>0.0</td>\n",
       "      <td>0.0</td>\n",
       "      <td>0.0</td>\n",
       "      <td>0.0</td>\n",
       "      <td>0.0</td>\n",
       "      <td>0.0</td>\n",
       "      <td>...</td>\n",
       "      <td>0.0</td>\n",
       "      <td>0.0</td>\n",
       "      <td>0.0</td>\n",
       "      <td>0.0</td>\n",
       "      <td>0.0</td>\n",
       "      <td>0.0</td>\n",
       "      <td>0.0</td>\n",
       "      <td>0.0</td>\n",
       "      <td>0.0</td>\n",
       "      <td>4.0</td>\n",
       "    </tr>\n",
       "    <tr>\n",
       "      <th>23061</th>\n",
       "      <td>0.928571</td>\n",
       "      <td>0.000000</td>\n",
       "      <td>0.0</td>\n",
       "      <td>0.0</td>\n",
       "      <td>0.0</td>\n",
       "      <td>0.0</td>\n",
       "      <td>0.0</td>\n",
       "      <td>0.0</td>\n",
       "      <td>0.0</td>\n",
       "      <td>0.0</td>\n",
       "      <td>...</td>\n",
       "      <td>0.0</td>\n",
       "      <td>0.0</td>\n",
       "      <td>0.0</td>\n",
       "      <td>0.0</td>\n",
       "      <td>0.0</td>\n",
       "      <td>0.0</td>\n",
       "      <td>0.0</td>\n",
       "      <td>0.0</td>\n",
       "      <td>0.0</td>\n",
       "      <td>4.0</td>\n",
       "    </tr>\n",
       "    <tr>\n",
       "      <th>23062</th>\n",
       "      <td>0.928571</td>\n",
       "      <td>0.000000</td>\n",
       "      <td>0.0</td>\n",
       "      <td>0.0</td>\n",
       "      <td>0.0</td>\n",
       "      <td>0.0</td>\n",
       "      <td>0.0</td>\n",
       "      <td>0.0</td>\n",
       "      <td>0.0</td>\n",
       "      <td>0.0</td>\n",
       "      <td>...</td>\n",
       "      <td>0.0</td>\n",
       "      <td>0.0</td>\n",
       "      <td>0.0</td>\n",
       "      <td>0.0</td>\n",
       "      <td>1.0</td>\n",
       "      <td>0.0</td>\n",
       "      <td>0.0</td>\n",
       "      <td>0.0</td>\n",
       "      <td>0.0</td>\n",
       "      <td>4.0</td>\n",
       "    </tr>\n",
       "  </tbody>\n",
       "</table>\n",
       "<p>23063 rows × 607 columns</p>\n",
       "</div>"
      ],
      "text/plain": [
       "       PublishYear  pagesNumber  Authors_  Authors_aaron mccollough  \\\n",
       "0         0.928571     0.000000       0.0                       0.0   \n",
       "1         0.857143     0.333333       0.0                       0.0   \n",
       "2         0.928571     0.000000       0.0                       0.0   \n",
       "3         0.928571     0.166667       0.0                       0.0   \n",
       "4         0.928571     0.166667       0.0                       0.0   \n",
       "...            ...          ...       ...                       ...   \n",
       "23058     0.857143     0.000000       0.0                       0.0   \n",
       "23059     0.928571     0.000000       0.0                       0.0   \n",
       "23060     0.857143     0.000000       0.0                       0.0   \n",
       "23061     0.928571     0.000000       0.0                       0.0   \n",
       "23062     0.928571     0.000000       0.0                       0.0   \n",
       "\n",
       "       Authors_abu hamid al ghazali  Authors_agatha christie  \\\n",
       "0                               0.0                      0.0   \n",
       "1                               0.0                      0.0   \n",
       "2                               0.0                      0.0   \n",
       "3                               0.0                      0.0   \n",
       "4                               0.0                      0.0   \n",
       "...                             ...                      ...   \n",
       "23058                           0.0                      0.0   \n",
       "23059                           0.0                      0.0   \n",
       "23060                           0.0                      0.0   \n",
       "23061                           0.0                      0.0   \n",
       "23062                           0.0                      0.0   \n",
       "\n",
       "       Authors_alba de c spedes  Authors_alexander kent  \\\n",
       "0                           0.0                     0.0   \n",
       "1                           0.0                     0.0   \n",
       "2                           0.0                     0.0   \n",
       "3                           0.0                     0.0   \n",
       "4                           0.0                     0.0   \n",
       "...                         ...                     ...   \n",
       "23058                       0.0                     0.0   \n",
       "23059                       0.0                     0.0   \n",
       "23060                       0.0                     0.0   \n",
       "23061                       0.0                     0.0   \n",
       "23062                       0.0                     0.0   \n",
       "\n",
       "       Authors_alexander schmemann  Authors_alexandre dumas  ...  book offer  \\\n",
       "0                              0.0                      0.0  ...         0.0   \n",
       "1                              0.0                      0.0  ...         0.0   \n",
       "2                              0.0                      0.0  ...         0.0   \n",
       "3                              0.0                      0.0  ...         0.0   \n",
       "4                              0.0                      0.0  ...         0.0   \n",
       "...                            ...                      ...  ...         ...   \n",
       "23058                          0.0                      0.0  ...         0.0   \n",
       "23059                          0.0                      0.0  ...         0.0   \n",
       "23060                          0.0                      0.0  ...         0.0   \n",
       "23061                          0.0                      0.0  ...         0.0   \n",
       "23062                          0.0                      0.0  ...         0.0   \n",
       "\n",
       "       young woman  science fiction  well known  br em  real life  tell story  \\\n",
       "0              0.0              0.0         0.0    0.0        0.0         0.0   \n",
       "1              0.0              0.0         0.0    0.0        0.0         0.0   \n",
       "2              0.0              0.0         0.0    0.0        0.0         0.0   \n",
       "3              0.0              0.0         0.0    0.0        0.0         0.0   \n",
       "4              0.0              0.0         0.0    0.0        0.0         0.0   \n",
       "...            ...              ...         ...    ...        ...         ...   \n",
       "23058          0.0              0.0         0.0    0.0        0.0         0.0   \n",
       "23059          0.0              0.0         0.0    0.0        0.0         0.0   \n",
       "23060          0.0              0.0         0.0    0.0        0.0         0.0   \n",
       "23061          0.0              0.0         0.0    0.0        0.0         0.0   \n",
       "23062          0.0              0.0         0.0    1.0        0.0         0.0   \n",
       "\n",
       "       african american  san francisco  rating_label  \n",
       "0                   0.0            0.0           4.0  \n",
       "1                   0.0            0.0           4.0  \n",
       "2                   0.0            0.0           4.0  \n",
       "3                   0.0            0.0           4.0  \n",
       "4                   0.0            0.0           3.0  \n",
       "...                 ...            ...           ...  \n",
       "23058               0.0            0.0           4.0  \n",
       "23059               0.0            0.0           4.0  \n",
       "23060               0.0            0.0           4.0  \n",
       "23061               0.0            0.0           4.0  \n",
       "23062               0.0            0.0           4.0  \n",
       "\n",
       "[23063 rows x 607 columns]"
      ]
     },
     "execution_count": 71,
     "metadata": {},
     "output_type": "execute_result"
    }
   ],
   "source": [
    "scaled_X = pd.DataFrame(scaled, columns=train_df_X.columns)\n",
    "train_df = pd.concat([scaled_X, train_df_y], axis=1)\n",
    "train_df"
   ]
  },
  {
   "cell_type": "code",
   "execution_count": 72,
   "id": "25e75980",
   "metadata": {},
   "outputs": [],
   "source": [
    "# Save the preprocessed training set\n",
    "train_df.to_csv(DATASET_DIR + \"train_df.csv\", index=False)"
   ]
  },
  {
   "cell_type": "markdown",
   "id": "15a06799",
   "metadata": {},
   "source": [
    "## Altogether"
   ]
  },
  {
   "cell_type": "code",
   "execution_count": 73,
   "id": "2c99b233",
   "metadata": {},
   "outputs": [],
   "source": [
    "def preprocess_test_df(df):\n",
    "    \"\"\"\n",
    "    Preprocesses the test dataset and returns the preprocessed version as a DataFrame.\n",
    "    \"\"\"\n",
    "    df = df.copy()\n",
    "    \n",
    "    # preprocess string features\n",
    "    df = df.drop(['Language'], axis=1)\n",
    "    \n",
    "    for feature in CATEGORICAL_FEATURES:\n",
    "        df[feature] = df[feature].fillna(MISSING_CAT_VAL)  # imputation\n",
    "        df[feature] = df[feature].apply(lambda x: preprocess(str(x), stop_words_removal=False, lemmatize=False, min_word_len=0))\n",
    "    df = ohe_transform(df).drop(INSIG_OHE_FEATURES, axis=1)  # one-hot-encoding\n",
    "    \n",
    "    # preprocess numerical features\n",
    "    df = df.drop(['PublishDay', 'PublishMonth'], axis=1)\n",
    "    df = discretize(df, 'PublishYear', discretizer=DISCRETIZER_PY)[0]\n",
    "    df = discretize(df, 'pagesNumber', discretizer=DISCRETIZER_PN)[0]\n",
    "    \n",
    "    # preprocess text features\n",
    "    df_name = preprocess_text_feature(df, 'Name', vectorizer=VECTORIZER_NAME, delimiter='_')[0]\n",
    "    df_desc = preprocess_text_feature(df, 'Description', vectorizer=VECTORIZER_DESC)[0]\n",
    "    \n",
    "    # put together and discard the (obsolete) original features\n",
    "    df = pd.concat([df.reset_index(drop=True), df_name, df_desc], axis=1)\n",
    "    df = df.drop(['Name', 'Description'], axis=1)\n",
    "    \n",
    "    # normalize\n",
    "    df = pd.DataFrame(SCALER.transform(df), columns=df.columns)\n",
    "        \n",
    "    return df"
   ]
  },
  {
   "cell_type": "code",
   "execution_count": 74,
   "id": "6e403a9a",
   "metadata": {},
   "outputs": [],
   "source": [
    "# Apply to the test set\n",
    "test_df = preprocess_test_df(test_df)\n",
    "test_df.to_csv(DATASET_DIR + \"test_df.csv\", index=False)"
   ]
  },
  {
   "cell_type": "markdown",
   "id": "d9fdc3b1",
   "metadata": {},
   "source": [
    "# 2. Building the models"
   ]
  },
  {
   "cell_type": "code",
   "execution_count": 76,
   "id": "e5a55ed3",
   "metadata": {},
   "outputs": [],
   "source": [
    "## train_df = pd.read_csv(DATASET_DIR + \"train_df.csv\", keep_default_na=False)  # Alternative\n",
    "X_train = train_df.iloc[:,:-1]\n",
    "y_train = train_df.iloc[:,-1]"
   ]
  },
  {
   "cell_type": "markdown",
   "id": "ffe892a9",
   "metadata": {},
   "source": [
    "## 1) Linear SVM"
   ]
  },
  {
   "cell_type": "code",
   "execution_count": 77,
   "id": "6bf6819a",
   "metadata": {},
   "outputs": [],
   "source": [
    "from sklearn.svm import LinearSVC"
   ]
  },
  {
   "cell_type": "code",
   "execution_count": 78,
   "id": "44b708ed",
   "metadata": {},
   "outputs": [
    {
     "data": {
      "text/html": [
       "<style>#sk-container-id-5 {color: black;background-color: white;}#sk-container-id-5 pre{padding: 0;}#sk-container-id-5 div.sk-toggleable {background-color: white;}#sk-container-id-5 label.sk-toggleable__label {cursor: pointer;display: block;width: 100%;margin-bottom: 0;padding: 0.3em;box-sizing: border-box;text-align: center;}#sk-container-id-5 label.sk-toggleable__label-arrow:before {content: \"▸\";float: left;margin-right: 0.25em;color: #696969;}#sk-container-id-5 label.sk-toggleable__label-arrow:hover:before {color: black;}#sk-container-id-5 div.sk-estimator:hover label.sk-toggleable__label-arrow:before {color: black;}#sk-container-id-5 div.sk-toggleable__content {max-height: 0;max-width: 0;overflow: hidden;text-align: left;background-color: #f0f8ff;}#sk-container-id-5 div.sk-toggleable__content pre {margin: 0.2em;color: black;border-radius: 0.25em;background-color: #f0f8ff;}#sk-container-id-5 input.sk-toggleable__control:checked~div.sk-toggleable__content {max-height: 200px;max-width: 100%;overflow: auto;}#sk-container-id-5 input.sk-toggleable__control:checked~label.sk-toggleable__label-arrow:before {content: \"▾\";}#sk-container-id-5 div.sk-estimator input.sk-toggleable__control:checked~label.sk-toggleable__label {background-color: #d4ebff;}#sk-container-id-5 div.sk-label input.sk-toggleable__control:checked~label.sk-toggleable__label {background-color: #d4ebff;}#sk-container-id-5 input.sk-hidden--visually {border: 0;clip: rect(1px 1px 1px 1px);clip: rect(1px, 1px, 1px, 1px);height: 1px;margin: -1px;overflow: hidden;padding: 0;position: absolute;width: 1px;}#sk-container-id-5 div.sk-estimator {font-family: monospace;background-color: #f0f8ff;border: 1px dotted black;border-radius: 0.25em;box-sizing: border-box;margin-bottom: 0.5em;}#sk-container-id-5 div.sk-estimator:hover {background-color: #d4ebff;}#sk-container-id-5 div.sk-parallel-item::after {content: \"\";width: 100%;border-bottom: 1px solid gray;flex-grow: 1;}#sk-container-id-5 div.sk-label:hover label.sk-toggleable__label {background-color: #d4ebff;}#sk-container-id-5 div.sk-serial::before {content: \"\";position: absolute;border-left: 1px solid gray;box-sizing: border-box;top: 0;bottom: 0;left: 50%;z-index: 0;}#sk-container-id-5 div.sk-serial {display: flex;flex-direction: column;align-items: center;background-color: white;padding-right: 0.2em;padding-left: 0.2em;position: relative;}#sk-container-id-5 div.sk-item {position: relative;z-index: 1;}#sk-container-id-5 div.sk-parallel {display: flex;align-items: stretch;justify-content: center;background-color: white;position: relative;}#sk-container-id-5 div.sk-item::before, #sk-container-id-5 div.sk-parallel-item::before {content: \"\";position: absolute;border-left: 1px solid gray;box-sizing: border-box;top: 0;bottom: 0;left: 50%;z-index: -1;}#sk-container-id-5 div.sk-parallel-item {display: flex;flex-direction: column;z-index: 1;position: relative;background-color: white;}#sk-container-id-5 div.sk-parallel-item:first-child::after {align-self: flex-end;width: 50%;}#sk-container-id-5 div.sk-parallel-item:last-child::after {align-self: flex-start;width: 50%;}#sk-container-id-5 div.sk-parallel-item:only-child::after {width: 0;}#sk-container-id-5 div.sk-dashed-wrapped {border: 1px dashed gray;margin: 0 0.4em 0.5em 0.4em;box-sizing: border-box;padding-bottom: 0.4em;background-color: white;}#sk-container-id-5 div.sk-label label {font-family: monospace;font-weight: bold;display: inline-block;line-height: 1.2em;}#sk-container-id-5 div.sk-label-container {text-align: center;}#sk-container-id-5 div.sk-container {/* jupyter's `normalize.less` sets `[hidden] { display: none; }` but bootstrap.min.css set `[hidden] { display: none !important; }` so we also need the `!important` here to be able to override the default hidden behavior on the sphinx rendered scikit-learn.org. See: https://github.com/scikit-learn/scikit-learn/issues/21755 */display: inline-block !important;position: relative;}#sk-container-id-5 div.sk-text-repr-fallback {display: none;}</style><div id=\"sk-container-id-5\" class=\"sk-top-container\"><div class=\"sk-text-repr-fallback\"><pre>LinearSVC(C=5, dual=False, random_state=30027)</pre><b>In a Jupyter environment, please rerun this cell to show the HTML representation or trust the notebook. <br />On GitHub, the HTML representation is unable to render, please try loading this page with nbviewer.org.</b></div><div class=\"sk-container\" hidden><div class=\"sk-item\"><div class=\"sk-estimator sk-toggleable\"><input class=\"sk-toggleable__control sk-hidden--visually\" id=\"sk-estimator-id-7\" type=\"checkbox\" checked><label for=\"sk-estimator-id-7\" class=\"sk-toggleable__label sk-toggleable__label-arrow\">LinearSVC</label><div class=\"sk-toggleable__content\"><pre>LinearSVC(C=5, dual=False, random_state=30027)</pre></div></div></div></div></div>"
      ],
      "text/plain": [
       "LinearSVC(C=5, dual=False, random_state=30027)"
      ]
     },
     "execution_count": 78,
     "metadata": {},
     "output_type": "execute_result"
    }
   ],
   "source": [
    "# LSVM's dataset with its own features\n",
    "lsvm_train = pd.read_csv(DATASET_DIR + \"LSVM_train.csv\", keep_default_na=False)\n",
    "X_lsvm = lsvm_train.iloc[:,:-1]\n",
    "\n",
    "lsvm = LinearSVC(random_state=30027, C=5, dual=False)\n",
    "lsvm.fit(X_lsvm, y_train)"
   ]
  },
  {
   "cell_type": "code",
   "execution_count": 30,
   "id": "84b8909f",
   "metadata": {},
   "outputs": [
    {
     "name": "stdout",
     "output_type": "stream",
     "text": [
      "LinearSVC prediction took 2.7926740646362305 seconds.\n",
      "\n",
      "   3.0_precision  3.0_recall  3.0_f1-score  4.0_precision  4.0_recall  \\\n",
      "0       0.741497    0.185690      0.297003       0.737860    0.965453   \n",
      "1       0.718954    0.187394      0.297297       0.738905    0.965453   \n",
      "2       0.776978    0.184300      0.297931       0.739598    0.975941   \n",
      "3       0.712230    0.168942      0.273103       0.736743    0.968538   \n",
      "4       0.766423    0.179181      0.290456       0.736916    0.972856   \n",
      "5       0.717557    0.160410      0.262204       0.737113    0.970389   \n",
      "6       0.762712    0.153584      0.255682       0.734353    0.977175   \n",
      "7       0.728571    0.174061      0.280992       0.738173    0.972239   \n",
      "8       0.759124    0.177172      0.287293       0.735390    0.970988   \n",
      "9       0.754237    0.151618      0.252482       0.734675    0.969136   \n",
      "\n",
      "   4.0_f1-score  5.0_precision  5.0_recall  5.0_f1-score  accuracy  \n",
      "0      0.836451       0.461538    0.181818      0.260870  0.733420  \n",
      "1      0.837122       0.611111    0.222222      0.325926  0.735587  \n",
      "2      0.841489       0.551724    0.160000      0.248062  0.739489  \n",
      "3      0.836887       0.583333    0.212121      0.311111  0.732871  \n",
      "4      0.838607       0.551724    0.161616      0.250000  0.736340  \n",
      "5      0.837816       0.609756    0.252525      0.357143  0.733738  \n",
      "6      0.838539       0.677419    0.212121      0.323077  0.735039  \n",
      "7      0.839191       0.645161    0.202020      0.307692  0.736340  \n",
      "8      0.836925       0.500000    0.151515      0.232558  0.733738  \n",
      "9      0.835773       0.490196    0.252525      0.333333  0.730269  \n"
     ]
    },
    {
     "data": {
      "image/png": "[encoded data removed]",
      "text/plain": [
       "<Figure size 640x480 with 2 Axes>"
      ]
     },
     "metadata": {},
     "output_type": "display_data"
    },
    {
     "data": {
      "text/html": [
       "<div>\n",
       "<style scoped>\n",
       "    .dataframe tbody tr th:only-of-type {\n",
       "        vertical-align: middle;\n",
       "    }\n",
       "\n",
       "    .dataframe tbody tr th {\n",
       "        vertical-align: top;\n",
       "    }\n",
       "\n",
       "    .dataframe thead th {\n",
       "        text-align: right;\n",
       "    }\n",
       "</style>\n",
       "<table border=\"1\" class=\"dataframe\">\n",
       "  <thead>\n",
       "    <tr style=\"text-align: right;\">\n",
       "      <th></th>\n",
       "      <th>mean</th>\n",
       "      <th>std</th>\n",
       "    </tr>\n",
       "  </thead>\n",
       "  <tbody>\n",
       "    <tr>\n",
       "      <th>3.0_precision</th>\n",
       "      <td>0.743828</td>\n",
       "      <td>0.023223</td>\n",
       "    </tr>\n",
       "    <tr>\n",
       "      <th>3.0_recall</th>\n",
       "      <td>0.172235</td>\n",
       "      <td>0.013149</td>\n",
       "    </tr>\n",
       "    <tr>\n",
       "      <th>3.0_f1-score</th>\n",
       "      <td>0.279444</td>\n",
       "      <td>0.017585</td>\n",
       "    </tr>\n",
       "    <tr>\n",
       "      <th>4.0_precision</th>\n",
       "      <td>0.736973</td>\n",
       "      <td>0.001750</td>\n",
       "    </tr>\n",
       "    <tr>\n",
       "      <th>4.0_recall</th>\n",
       "      <td>0.970817</td>\n",
       "      <td>0.003925</td>\n",
       "    </tr>\n",
       "    <tr>\n",
       "      <th>4.0_f1-score</th>\n",
       "      <td>0.837880</td>\n",
       "      <td>0.001655</td>\n",
       "    </tr>\n",
       "    <tr>\n",
       "      <th>5.0_precision</th>\n",
       "      <td>0.568196</td>\n",
       "      <td>0.070162</td>\n",
       "    </tr>\n",
       "    <tr>\n",
       "      <th>5.0_recall</th>\n",
       "      <td>0.200848</td>\n",
       "      <td>0.036602</td>\n",
       "    </tr>\n",
       "    <tr>\n",
       "      <th>5.0_f1-score</th>\n",
       "      <td>0.294977</td>\n",
       "      <td>0.043190</td>\n",
       "    </tr>\n",
       "    <tr>\n",
       "      <th>accuracy</th>\n",
       "      <td>0.734683</td>\n",
       "      <td>0.002487</td>\n",
       "    </tr>\n",
       "  </tbody>\n",
       "</table>\n",
       "</div>"
      ],
      "text/plain": [
       "                   mean       std\n",
       "3.0_precision  0.743828  0.023223\n",
       "3.0_recall     0.172235  0.013149\n",
       "3.0_f1-score   0.279444  0.017585\n",
       "4.0_precision  0.736973  0.001750\n",
       "4.0_recall     0.970817  0.003925\n",
       "4.0_f1-score   0.837880  0.001655\n",
       "5.0_precision  0.568196  0.070162\n",
       "5.0_recall     0.200848  0.036602\n",
       "5.0_f1-score   0.294977  0.043190\n",
       "accuracy       0.734683  0.002487"
      ]
     },
     "execution_count": 30,
     "metadata": {},
     "output_type": "execute_result"
    }
   ],
   "source": [
    "y_pred_lsvm, lsvm_report = cross_val_report(lsvm, X_lsvm, y_train)\n",
    "lsvm_report"
   ]
  },
  {
   "cell_type": "code",
   "execution_count": 50,
   "id": "b2a102c7",
   "metadata": {},
   "outputs": [],
   "source": [
    "LSVM_FEATURES = X_lsvm.columns  # will be used for test set"
   ]
  },
  {
   "cell_type": "markdown",
   "id": "520d7b7e",
   "metadata": {},
   "source": [
    "## 2) Stacking Naive Bayes"
   ]
  },
  {
   "cell_type": "code",
   "execution_count": 79,
   "id": "326d1f24",
   "metadata": {},
   "outputs": [],
   "source": [
    "from mlxtend.classifier import StackingCVClassifier\n",
    "from mlxtend.feature_selection import ColumnSelector\n",
    "from sklearn.pipeline import make_pipeline\n",
    "from sklearn.linear_model import LogisticRegression\n",
    "from sklearn.naive_bayes import GaussianNB, MultinomialNB, BernoulliNB, CategoricalNB"
   ]
  },
  {
   "cell_type": "code",
   "execution_count": 80,
   "id": "d7db45a0",
   "metadata": {},
   "outputs": [],
   "source": [
    "GNB_FEATURES = ['pagesNumber', 'PublishYear']\n",
    "BNB_FEATURES = read_list(DATASET_DIR + \"BNB_features.txt\")\n",
    "MNB_FEATURES = read_list(DATASET_DIR + \"MNB_features.txt\")"
   ]
  },
  {
   "cell_type": "code",
   "execution_count": 81,
   "id": "66c1b22c",
   "metadata": {},
   "outputs": [
    {
     "data": {
      "text/html": [
       "<style>#sk-container-id-6 {color: black;background-color: white;}#sk-container-id-6 pre{padding: 0;}#sk-container-id-6 div.sk-toggleable {background-color: white;}#sk-container-id-6 label.sk-toggleable__label {cursor: pointer;display: block;width: 100%;margin-bottom: 0;padding: 0.3em;box-sizing: border-box;text-align: center;}#sk-container-id-6 label.sk-toggleable__label-arrow:before {content: \"▸\";float: left;margin-right: 0.25em;color: #696969;}#sk-container-id-6 label.sk-toggleable__label-arrow:hover:before {color: black;}#sk-container-id-6 div.sk-estimator:hover label.sk-toggleable__label-arrow:before {color: black;}#sk-container-id-6 div.sk-toggleable__content {max-height: 0;max-width: 0;overflow: hidden;text-align: left;background-color: #f0f8ff;}#sk-container-id-6 div.sk-toggleable__content pre {margin: 0.2em;color: black;border-radius: 0.25em;background-color: #f0f8ff;}#sk-container-id-6 input.sk-toggleable__control:checked~div.sk-toggleable__content {max-height: 200px;max-width: 100%;overflow: auto;}#sk-container-id-6 input.sk-toggleable__control:checked~label.sk-toggleable__label-arrow:before {content: \"▾\";}#sk-container-id-6 div.sk-estimator input.sk-toggleable__control:checked~label.sk-toggleable__label {background-color: #d4ebff;}#sk-container-id-6 div.sk-label input.sk-toggleable__control:checked~label.sk-toggleable__label {background-color: #d4ebff;}#sk-container-id-6 input.sk-hidden--visually {border: 0;clip: rect(1px 1px 1px 1px);clip: rect(1px, 1px, 1px, 1px);height: 1px;margin: -1px;overflow: hidden;padding: 0;position: absolute;width: 1px;}#sk-container-id-6 div.sk-estimator {font-family: monospace;background-color: #f0f8ff;border: 1px dotted black;border-radius: 0.25em;box-sizing: border-box;margin-bottom: 0.5em;}#sk-container-id-6 div.sk-estimator:hover {background-color: #d4ebff;}#sk-container-id-6 div.sk-parallel-item::after {content: \"\";width: 100%;border-bottom: 1px solid gray;flex-grow: 1;}#sk-container-id-6 div.sk-label:hover label.sk-toggleable__label {background-color: #d4ebff;}#sk-container-id-6 div.sk-serial::before {content: \"\";position: absolute;border-left: 1px solid gray;box-sizing: border-box;top: 0;bottom: 0;left: 50%;z-index: 0;}#sk-container-id-6 div.sk-serial {display: flex;flex-direction: column;align-items: center;background-color: white;padding-right: 0.2em;padding-left: 0.2em;position: relative;}#sk-container-id-6 div.sk-item {position: relative;z-index: 1;}#sk-container-id-6 div.sk-parallel {display: flex;align-items: stretch;justify-content: center;background-color: white;position: relative;}#sk-container-id-6 div.sk-item::before, #sk-container-id-6 div.sk-parallel-item::before {content: \"\";position: absolute;border-left: 1px solid gray;box-sizing: border-box;top: 0;bottom: 0;left: 50%;z-index: -1;}#sk-container-id-6 div.sk-parallel-item {display: flex;flex-direction: column;z-index: 1;position: relative;background-color: white;}#sk-container-id-6 div.sk-parallel-item:first-child::after {align-self: flex-end;width: 50%;}#sk-container-id-6 div.sk-parallel-item:last-child::after {align-self: flex-start;width: 50%;}#sk-container-id-6 div.sk-parallel-item:only-child::after {width: 0;}#sk-container-id-6 div.sk-dashed-wrapped {border: 1px dashed gray;margin: 0 0.4em 0.5em 0.4em;box-sizing: border-box;padding-bottom: 0.4em;background-color: white;}#sk-container-id-6 div.sk-label label {font-family: monospace;font-weight: bold;display: inline-block;line-height: 1.2em;}#sk-container-id-6 div.sk-label-container {text-align: center;}#sk-container-id-6 div.sk-container {/* jupyter's `normalize.less` sets `[hidden] { display: none; }` but bootstrap.min.css set `[hidden] { display: none !important; }` so we also need the `!important` here to be able to override the default hidden behavior on the sphinx rendered scikit-learn.org. See: https://github.com/scikit-learn/scikit-learn/issues/21755 */display: inline-block !important;position: relative;}#sk-container-id-6 div.sk-text-repr-fallback {display: none;}</style><div id=\"sk-container-id-6\" class=\"sk-top-container\"><div class=\"sk-text-repr-fallback\"><pre>StackingCVClassifier(classifiers=[Pipeline(steps=[(&#x27;columnselector&#x27;,\n",
       "                                                   ColumnSelector(cols=[&#x27;pagesNumber&#x27;,\n",
       "                                                                        &#x27;PublishYear&#x27;])),\n",
       "                                                  (&#x27;gaussiannb&#x27;,\n",
       "                                                   GaussianNB(var_smoothing=0.1))]),\n",
       "                                  Pipeline(steps=[(&#x27;columnselector&#x27;,\n",
       "                                                   ColumnSelector(cols=[&#x27;Authors_&#x27;,\n",
       "                                                                        &#x27;Authors_aaron &#x27;\n",
       "                                                                        &#x27;mccollough&#x27;,\n",
       "                                                                        &#x27;Authors_abu &#x27;\n",
       "                                                                        &#x27;hamid &#x27;\n",
       "                                                                        &#x27;al &#x27;\n",
       "                                                                        &#x27;ghazali&#x27;,\n",
       "                                                                        &#x27;Authors_agatha &#x27;\n",
       "                                                                        &#x27;christie&#x27;,\n",
       "                                                                        &#x27;Authors_alba &#x27;\n",
       "                                                                        &#x27;de c &#x27;\n",
       "                                                                        &#x27;spedes&#x27;,...\n",
       "                                                                        &#x27;year &#x27;\n",
       "                                                                        &#x27;old&#x27;,\n",
       "                                                                        &#x27;year &#x27;\n",
       "                                                                        &#x27;ago&#x27;,\n",
       "                                                                        &#x27;short &#x27;\n",
       "                                                                        &#x27;story&#x27;,\n",
       "                                                                        &#x27;time &#x27;\n",
       "                                                                        &#x27;br&#x27;,\n",
       "                                                                        &#x27;first &#x27;\n",
       "                                                                        &#x27;time&#x27;,\n",
       "                                                                        &#x27;around &#x27;\n",
       "                                                                        &#x27;world&#x27;,\n",
       "                                                                        &#x27;best &#x27;\n",
       "                                                                        &#x27;selling&#x27;,\n",
       "                                                                        &#x27;civil &#x27;\n",
       "                                                                        &#x27;war&#x27;,\n",
       "                                                                        &#x27;book &#x27;\n",
       "                                                                        &#x27;br&#x27;,\n",
       "                                                                        &#x27;united &#x27;\n",
       "                                                                        &#x27;state&#x27;,\n",
       "                                                                        &#x27;full &#x27;\n",
       "                                                                        &#x27;color&#x27;,\n",
       "                                                                        &#x27;th &#x27;\n",
       "                                                                        &#x27;century&#x27;,\n",
       "                                                                        &#x27;br &#x27;\n",
       "                                                                        &#x27;new&#x27;,\n",
       "                                                                        &#x27;available &#x27;\n",
       "                                                                        &#x27;purchase&#x27;,\n",
       "                                                                        &#x27;step &#x27;\n",
       "                                                                        &#x27;step&#x27;,\n",
       "                                                                        &#x27;well &#x27;\n",
       "                                                                        &#x27;known&#x27;,\n",
       "                                                                        &#x27;real &#x27;\n",
       "                                                                        &#x27;life&#x27;, ...])),\n",
       "                                                  (&#x27;multinomialnb&#x27;,\n",
       "                                                   MultinomialNB(alpha=0.01))])],\n",
       "                     meta_classifier=CategoricalNB(alpha=0.01),\n",
       "                     random_state=30027)</pre><b>In a Jupyter environment, please rerun this cell to show the HTML representation or trust the notebook. <br />On GitHub, the HTML representation is unable to render, please try loading this page with nbviewer.org.</b></div><div class=\"sk-container\" hidden><div class=\"sk-item sk-dashed-wrapped\"><div class=\"sk-label-container\"><div class=\"sk-label sk-toggleable\"><input class=\"sk-toggleable__control sk-hidden--visually\" id=\"sk-estimator-id-8\" type=\"checkbox\" ><label for=\"sk-estimator-id-8\" class=\"sk-toggleable__label sk-toggleable__label-arrow\">StackingCVClassifier</label><div class=\"sk-toggleable__content\"><pre>StackingCVClassifier(classifiers=[Pipeline(steps=[(&#x27;columnselector&#x27;,\n",
       "                                                   ColumnSelector(cols=[&#x27;pagesNumber&#x27;,\n",
       "                                                                        &#x27;PublishYear&#x27;])),\n",
       "                                                  (&#x27;gaussiannb&#x27;,\n",
       "                                                   GaussianNB(var_smoothing=0.1))]),\n",
       "                                  Pipeline(steps=[(&#x27;columnselector&#x27;,\n",
       "                                                   ColumnSelector(cols=[&#x27;Authors_&#x27;,\n",
       "                                                                        &#x27;Authors_aaron &#x27;\n",
       "                                                                        &#x27;mccollough&#x27;,\n",
       "                                                                        &#x27;Authors_abu &#x27;\n",
       "                                                                        &#x27;hamid &#x27;\n",
       "                                                                        &#x27;al &#x27;\n",
       "                                                                        &#x27;ghazali&#x27;,\n",
       "                                                                        &#x27;Authors_agatha &#x27;\n",
       "                                                                        &#x27;christie&#x27;,\n",
       "                                                                        &#x27;Authors_alba &#x27;\n",
       "                                                                        &#x27;de c &#x27;\n",
       "                                                                        &#x27;spedes&#x27;,...\n",
       "                                                                        &#x27;year &#x27;\n",
       "                                                                        &#x27;old&#x27;,\n",
       "                                                                        &#x27;year &#x27;\n",
       "                                                                        &#x27;ago&#x27;,\n",
       "                                                                        &#x27;short &#x27;\n",
       "                                                                        &#x27;story&#x27;,\n",
       "                                                                        &#x27;time &#x27;\n",
       "                                                                        &#x27;br&#x27;,\n",
       "                                                                        &#x27;first &#x27;\n",
       "                                                                        &#x27;time&#x27;,\n",
       "                                                                        &#x27;around &#x27;\n",
       "                                                                        &#x27;world&#x27;,\n",
       "                                                                        &#x27;best &#x27;\n",
       "                                                                        &#x27;selling&#x27;,\n",
       "                                                                        &#x27;civil &#x27;\n",
       "                                                                        &#x27;war&#x27;,\n",
       "                                                                        &#x27;book &#x27;\n",
       "                                                                        &#x27;br&#x27;,\n",
       "                                                                        &#x27;united &#x27;\n",
       "                                                                        &#x27;state&#x27;,\n",
       "                                                                        &#x27;full &#x27;\n",
       "                                                                        &#x27;color&#x27;,\n",
       "                                                                        &#x27;th &#x27;\n",
       "                                                                        &#x27;century&#x27;,\n",
       "                                                                        &#x27;br &#x27;\n",
       "                                                                        &#x27;new&#x27;,\n",
       "                                                                        &#x27;available &#x27;\n",
       "                                                                        &#x27;purchase&#x27;,\n",
       "                                                                        &#x27;step &#x27;\n",
       "                                                                        &#x27;step&#x27;,\n",
       "                                                                        &#x27;well &#x27;\n",
       "                                                                        &#x27;known&#x27;,\n",
       "                                                                        &#x27;real &#x27;\n",
       "                                                                        &#x27;life&#x27;, ...])),\n",
       "                                                  (&#x27;multinomialnb&#x27;,\n",
       "                                                   MultinomialNB(alpha=0.01))])],\n",
       "                     meta_classifier=CategoricalNB(alpha=0.01),\n",
       "                     random_state=30027)</pre></div></div></div><div class=\"sk-parallel\"><div class=\"sk-parallel-item\"><div class=\"sk-item\"><div class=\"sk-label-container\"><div class=\"sk-label sk-toggleable\"><input class=\"sk-toggleable__control sk-hidden--visually\" id=\"sk-estimator-id-9\" type=\"checkbox\" ><label for=\"sk-estimator-id-9\" class=\"sk-toggleable__label sk-toggleable__label-arrow\">meta_classifier: CategoricalNB</label><div class=\"sk-toggleable__content\"><pre>CategoricalNB(alpha=0.01)</pre></div></div></div><div class=\"sk-serial\"><div class=\"sk-item\"><div class=\"sk-estimator sk-toggleable\"><input class=\"sk-toggleable__control sk-hidden--visually\" id=\"sk-estimator-id-10\" type=\"checkbox\" ><label for=\"sk-estimator-id-10\" class=\"sk-toggleable__label sk-toggleable__label-arrow\">CategoricalNB</label><div class=\"sk-toggleable__content\"><pre>CategoricalNB(alpha=0.01)</pre></div></div></div></div></div></div></div></div></div></div>"
      ],
      "text/plain": [
       "StackingCVClassifier(classifiers=[Pipeline(steps=[('columnselector',\n",
       "                                                   ColumnSelector(cols=['pagesNumber',\n",
       "                                                                        'PublishYear'])),\n",
       "                                                  ('gaussiannb',\n",
       "                                                   GaussianNB(var_smoothing=0.1))]),\n",
       "                                  Pipeline(steps=[('columnselector',\n",
       "                                                   ColumnSelector(cols=['Authors_',\n",
       "                                                                        'Authors_aaron '\n",
       "                                                                        'mccollough',\n",
       "                                                                        'Authors_abu '\n",
       "                                                                        'hamid '\n",
       "                                                                        'al '\n",
       "                                                                        'ghazali',\n",
       "                                                                        'Authors_agatha '\n",
       "                                                                        'christie',\n",
       "                                                                        'Authors_alba '\n",
       "                                                                        'de c '\n",
       "                                                                        'spedes',...\n",
       "                                                                        'year '\n",
       "                                                                        'old',\n",
       "                                                                        'year '\n",
       "                                                                        'ago',\n",
       "                                                                        'short '\n",
       "                                                                        'story',\n",
       "                                                                        'time '\n",
       "                                                                        'br',\n",
       "                                                                        'first '\n",
       "                                                                        'time',\n",
       "                                                                        'around '\n",
       "                                                                        'world',\n",
       "                                                                        'best '\n",
       "                                                                        'selling',\n",
       "                                                                        'civil '\n",
       "                                                                        'war',\n",
       "                                                                        'book '\n",
       "                                                                        'br',\n",
       "                                                                        'united '\n",
       "                                                                        'state',\n",
       "                                                                        'full '\n",
       "                                                                        'color',\n",
       "                                                                        'th '\n",
       "                                                                        'century',\n",
       "                                                                        'br '\n",
       "                                                                        'new',\n",
       "                                                                        'available '\n",
       "                                                                        'purchase',\n",
       "                                                                        'step '\n",
       "                                                                        'step',\n",
       "                                                                        'well '\n",
       "                                                                        'known',\n",
       "                                                                        'real '\n",
       "                                                                        'life', ...])),\n",
       "                                                  ('multinomialnb',\n",
       "                                                   MultinomialNB(alpha=0.01))])],\n",
       "                     meta_classifier=CategoricalNB(alpha=0.01),\n",
       "                     random_state=30027)"
      ]
     },
     "execution_count": 81,
     "metadata": {},
     "output_type": "execute_result"
    }
   ],
   "source": [
    "gnb = make_pipeline(ColumnSelector(GNB_FEATURES),\n",
    "                      GaussianNB(var_smoothing=0.1))\n",
    "bnb = make_pipeline(ColumnSelector(BNB_FEATURES),\n",
    "                      BernoulliNB(alpha=0.1))\n",
    "mnb = make_pipeline(ColumnSelector(MNB_FEATURES),\n",
    "                      MultinomialNB(alpha=0.01))\n",
    "\n",
    "cvsnb = StackingCVClassifier(classifiers=[gnb, bnb, mnb], \n",
    "                            meta_classifier=CategoricalNB(alpha=0.01),\n",
    "                            random_state=30027)\n",
    "\n",
    "cvsnb.fit(X_train, y_train)"
   ]
  },
  {
   "cell_type": "code",
   "execution_count": 82,
   "id": "4a43ad92",
   "metadata": {},
   "outputs": [
    {
     "name": "stdout",
     "output_type": "stream",
     "text": [
      "StackingCVClassifier prediction took 3.1971919536590576 seconds.\n",
      "\n",
      "   3.0_precision  3.0_recall  3.0_f1-score  4.0_precision  4.0_recall  \\\n",
      "0       0.738562    0.192504      0.305405       0.738884    0.963603   \n",
      "1       0.705521    0.195911      0.306667       0.740548    0.966687   \n",
      "2       0.751592    0.201365      0.317631       0.741631    0.970389   \n",
      "3       0.713333    0.182594      0.290761       0.738701    0.967921   \n",
      "4       0.751592    0.201365      0.317631       0.740462    0.969772   \n",
      "5       0.712418    0.186007      0.294993       0.740898    0.966687   \n",
      "6       0.696296    0.160410      0.260749       0.735514    0.971006   \n",
      "7       0.743243    0.187713      0.299728       0.740254    0.972239   \n",
      "8       0.733766    0.192504      0.304993       0.739274    0.967901   \n",
      "9       0.699301    0.170358      0.273973       0.737488    0.964198   \n",
      "\n",
      "   4.0_f1-score  5.0_precision  5.0_recall  5.0_f1-score  accuracy  \n",
      "0      0.836412       0.425000    0.171717      0.244604  0.733420  \n",
      "1      0.838641       0.714286    0.202020      0.314961  0.737755  \n",
      "2      0.840727       0.551724    0.160000      0.248062  0.739922  \n",
      "3      0.837917       0.562500    0.181818      0.274809  0.734605  \n",
      "4      0.839744       0.538462    0.141414      0.224000  0.738942  \n",
      "5      0.838865       0.631579    0.242424      0.350365  0.737207  \n",
      "6      0.837011       0.741935    0.232323      0.353846  0.733304  \n",
      "7      0.840533       0.655172    0.191919      0.296875  0.739376  \n",
      "8      0.838279       0.580645    0.181818      0.276923  0.736774  \n",
      "9      0.835741       0.533333    0.242424      0.333333  0.731136  \n"
     ]
    },
    {
     "data": {
      "image/png": "[encoded data removed]",
      "text/plain": [
       "<Figure size 640x480 with 2 Axes>"
      ]
     },
     "metadata": {},
     "output_type": "display_data"
    },
    {
     "data": {
      "text/html": [
       "<div>\n",
       "<style scoped>\n",
       "    .dataframe tbody tr th:only-of-type {\n",
       "        vertical-align: middle;\n",
       "    }\n",
       "\n",
       "    .dataframe tbody tr th {\n",
       "        vertical-align: top;\n",
       "    }\n",
       "\n",
       "    .dataframe thead th {\n",
       "        text-align: right;\n",
       "    }\n",
       "</style>\n",
       "<table border=\"1\" class=\"dataframe\">\n",
       "  <thead>\n",
       "    <tr style=\"text-align: right;\">\n",
       "      <th></th>\n",
       "      <th>mean</th>\n",
       "      <th>std</th>\n",
       "    </tr>\n",
       "  </thead>\n",
       "  <tbody>\n",
       "    <tr>\n",
       "      <th>3.0_precision</th>\n",
       "      <td>0.724563</td>\n",
       "      <td>0.021510</td>\n",
       "    </tr>\n",
       "    <tr>\n",
       "      <th>3.0_recall</th>\n",
       "      <td>0.187073</td>\n",
       "      <td>0.013155</td>\n",
       "    </tr>\n",
       "    <tr>\n",
       "      <th>3.0_f1-score</th>\n",
       "      <td>0.297253</td>\n",
       "      <td>0.018176</td>\n",
       "    </tr>\n",
       "    <tr>\n",
       "      <th>4.0_precision</th>\n",
       "      <td>0.739365</td>\n",
       "      <td>0.001823</td>\n",
       "    </tr>\n",
       "    <tr>\n",
       "      <th>4.0_recall</th>\n",
       "      <td>0.968040</td>\n",
       "      <td>0.002850</td>\n",
       "    </tr>\n",
       "    <tr>\n",
       "      <th>4.0_f1-score</th>\n",
       "      <td>0.838387</td>\n",
       "      <td>0.001675</td>\n",
       "    </tr>\n",
       "    <tr>\n",
       "      <th>5.0_precision</th>\n",
       "      <td>0.593464</td>\n",
       "      <td>0.094156</td>\n",
       "    </tr>\n",
       "    <tr>\n",
       "      <th>5.0_recall</th>\n",
       "      <td>0.194788</td>\n",
       "      <td>0.034858</td>\n",
       "    </tr>\n",
       "    <tr>\n",
       "      <th>5.0_f1-score</th>\n",
       "      <td>0.291778</td>\n",
       "      <td>0.045721</td>\n",
       "    </tr>\n",
       "    <tr>\n",
       "      <th>accuracy</th>\n",
       "      <td>0.736244</td>\n",
       "      <td>0.002972</td>\n",
       "    </tr>\n",
       "  </tbody>\n",
       "</table>\n",
       "</div>"
      ],
      "text/plain": [
       "                   mean       std\n",
       "3.0_precision  0.724563  0.021510\n",
       "3.0_recall     0.187073  0.013155\n",
       "3.0_f1-score   0.297253  0.018176\n",
       "4.0_precision  0.739365  0.001823\n",
       "4.0_recall     0.968040  0.002850\n",
       "4.0_f1-score   0.838387  0.001675\n",
       "5.0_precision  0.593464  0.094156\n",
       "5.0_recall     0.194788  0.034858\n",
       "5.0_f1-score   0.291778  0.045721\n",
       "accuracy       0.736244  0.002972"
      ]
     },
     "execution_count": 82,
     "metadata": {},
     "output_type": "execute_result"
    }
   ],
   "source": [
    "y_pred_cvsnb, cvsnb_report = cross_val_report(cvsnb, X_train, y_train)\n",
    "cvsnb_report"
   ]
  },
  {
   "cell_type": "markdown",
   "id": "602f1c4a",
   "metadata": {},
   "source": [
    "## 3) Logistic Regression"
   ]
  },
  {
   "cell_type": "code",
   "execution_count": null,
   "id": "8875b6f0",
   "metadata": {},
   "outputs": [],
   "source": [
    "train_df_logr = pd.read_csv(DATASET_DIR + \"train_df.csv\", keep_default_na=False)\n",
    "X_train_logr = train_df_logr.iloc[:,:-1]"
   ]
  },
  {
   "cell_type": "code",
   "execution_count": null,
   "id": "208876cf",
   "metadata": {},
   "outputs": [],
   "source": [
    "from sklearn.linear_model import LogisticRegression"
   ]
  },
  {
   "cell_type": "code",
   "execution_count": null,
   "id": "594e16c9",
   "metadata": {},
   "outputs": [],
   "source": [
    "logr = LogisticRegression(solver='sag', max_iter=500)  # uses Stochastic Average Gradient descent solver\n",
    "logr.fit(X_train_logr, y_train)"
   ]
  },
  {
   "cell_type": "code",
   "execution_count": null,
   "id": "67a3f4a0",
   "metadata": {},
   "outputs": [],
   "source": [
    "selector = SelectFromModel(logr, prefit=True).fit(X_train_logr, y_train)\n",
    "LR_FEATURES = [X_train_logr.columns[i] for i in selector.get_support(indices=True)]"
   ]
  },
  {
   "cell_type": "code",
   "execution_count": null,
   "id": "027ae062",
   "metadata": {},
   "outputs": [],
   "source": [
    "logr.fit(X_train_logr[LR_FEATURES], y_train)\n",
    "y_pred_logr, logr_report = cross_val_report(logr, X_train_logr[LR_FEATURES], y_train)\n",
    "logr_report"
   ]
  },
  {
   "cell_type": "markdown",
   "id": "04bbf9fe",
   "metadata": {},
   "source": [
    "## 4) StackingClassifier"
   ]
  },
  {
   "cell_type": "code",
   "execution_count": 24,
   "id": "eaa832b9",
   "metadata": {},
   "outputs": [],
   "source": [
    "from sklearn.naive_bayes import GaussianNB\n",
    "from sklearn import svm\n",
    "from sklearn.linear_model import LogisticRegression\n",
    "from sklearn.tree import DecisionTreeClassifier\n",
    "from sklearn.neighbors import KNeighborsClassifier\n",
    "from mlxtend.classifier import StackingCVClassifier"
   ]
  },
  {
   "cell_type": "code",
   "execution_count": null,
   "id": "42773311",
   "metadata": {},
   "outputs": [],
   "source": [
    "# Gaussian NB\n",
    "gnb = GaussianNB()\n",
    "# Linear SVM\n",
    "linearSVM = svm.LinearSVC(random_state=30027, C=1)\n",
    "# Logistic Regression\n",
    "logr = LogisticRegression(solver='sag', max_iter=100)\n",
    "# Decision tree\n",
    "dt = DecisionTreeClassifier(max_depth = 400, random_state = 30027)\n",
    "# 3NN\n",
    "knn = KNeighborsClassifier(n_neighbors=3)\n",
    "\n",
    "# Stack\n",
    "sclf = StackingCVClassifier(classifiers=[gnb, linearSVM, logr, dt, knn], \n",
    "                            meta_classifier=LogisticRegression(),\n",
    "                            cv=2,\n",
    "                            random_state=30027)\n",
    "\n",
    "sclf.fit(X_train, y_train)"
   ]
  },
  {
   "cell_type": "code",
   "execution_count": null,
   "id": "506fc760",
   "metadata": {},
   "outputs": [],
   "source": [
    "# This is slow - be patient!\n",
    "y_pred_sclf, sclf_report = cross_val_report(sclf, X_train, y_train)\n",
    "sclf_report"
   ]
  },
  {
   "cell_type": "markdown",
   "id": "c6c844d6",
   "metadata": {},
   "source": [
    "## 5) Baselines"
   ]
  },
  {
   "cell_type": "markdown",
   "id": "e1019aa6",
   "metadata": {},
   "source": [
    "### 0R"
   ]
  },
  {
   "cell_type": "code",
   "execution_count": 86,
   "id": "7ef0fbc9",
   "metadata": {},
   "outputs": [
    {
     "name": "stdout",
     "output_type": "stream",
     "text": [
      "DummyClassifier prediction took 0.3522372245788574 seconds.\n",
      "\n",
      "   3.0_precision  3.0_recall  3.0_f1-score  4.0_precision  4.0_recall  \\\n",
      "0            0.0         0.0           0.0       0.702644         1.0   \n",
      "1            0.0         0.0           0.0       0.702644         1.0   \n",
      "2            0.0         0.0           0.0       0.702644         1.0   \n",
      "3            0.0         0.0           0.0       0.702949         1.0   \n",
      "4            0.0         0.0           0.0       0.702949         1.0   \n",
      "5            0.0         0.0           0.0       0.702949         1.0   \n",
      "6            0.0         0.0           0.0       0.702949         1.0   \n",
      "7            0.0         0.0           0.0       0.702949         1.0   \n",
      "8            0.0         0.0           0.0       0.702515         1.0   \n",
      "9            0.0         0.0           0.0       0.702515         1.0   \n",
      "\n",
      "   4.0_f1-score  5.0_precision  5.0_recall  5.0_f1-score  accuracy  \n",
      "0      0.825356            0.0         0.0           0.0  0.702644  \n",
      "1      0.825356            0.0         0.0           0.0  0.702644  \n",
      "2      0.825356            0.0         0.0           0.0  0.702644  \n",
      "3      0.825567            0.0         0.0           0.0  0.702949  \n",
      "4      0.825567            0.0         0.0           0.0  0.702949  \n",
      "5      0.825567            0.0         0.0           0.0  0.702949  \n",
      "6      0.825567            0.0         0.0           0.0  0.702949  \n",
      "7      0.825567            0.0         0.0           0.0  0.702949  \n",
      "8      0.825267            0.0         0.0           0.0  0.702515  \n",
      "9      0.825267            0.0         0.0           0.0  0.702515  \n"
     ]
    },
    {
     "data": {
      "image/png": "[encoded data removed]",
      "text/plain": [
       "<Figure size 640x480 with 2 Axes>"
      ]
     },
     "metadata": {},
     "output_type": "display_data"
    },
    {
     "data": {
      "text/html": [
       "<div>\n",
       "<style scoped>\n",
       "    .dataframe tbody tr th:only-of-type {\n",
       "        vertical-align: middle;\n",
       "    }\n",
       "\n",
       "    .dataframe tbody tr th {\n",
       "        vertical-align: top;\n",
       "    }\n",
       "\n",
       "    .dataframe thead th {\n",
       "        text-align: right;\n",
       "    }\n",
       "</style>\n",
       "<table border=\"1\" class=\"dataframe\">\n",
       "  <thead>\n",
       "    <tr style=\"text-align: right;\">\n",
       "      <th></th>\n",
       "      <th>mean</th>\n",
       "      <th>std</th>\n",
       "    </tr>\n",
       "  </thead>\n",
       "  <tbody>\n",
       "    <tr>\n",
       "      <th>3.0_precision</th>\n",
       "      <td>0.000000</td>\n",
       "      <td>0.000000</td>\n",
       "    </tr>\n",
       "    <tr>\n",
       "      <th>3.0_recall</th>\n",
       "      <td>0.000000</td>\n",
       "      <td>0.000000</td>\n",
       "    </tr>\n",
       "    <tr>\n",
       "      <th>3.0_f1-score</th>\n",
       "      <td>0.000000</td>\n",
       "      <td>0.000000</td>\n",
       "    </tr>\n",
       "    <tr>\n",
       "      <th>4.0_precision</th>\n",
       "      <td>0.702771</td>\n",
       "      <td>0.000194</td>\n",
       "    </tr>\n",
       "    <tr>\n",
       "      <th>4.0_recall</th>\n",
       "      <td>1.000000</td>\n",
       "      <td>0.000000</td>\n",
       "    </tr>\n",
       "    <tr>\n",
       "      <th>4.0_f1-score</th>\n",
       "      <td>0.825444</td>\n",
       "      <td>0.000134</td>\n",
       "    </tr>\n",
       "    <tr>\n",
       "      <th>5.0_precision</th>\n",
       "      <td>0.000000</td>\n",
       "      <td>0.000000</td>\n",
       "    </tr>\n",
       "    <tr>\n",
       "      <th>5.0_recall</th>\n",
       "      <td>0.000000</td>\n",
       "      <td>0.000000</td>\n",
       "    </tr>\n",
       "    <tr>\n",
       "      <th>5.0_f1-score</th>\n",
       "      <td>0.000000</td>\n",
       "      <td>0.000000</td>\n",
       "    </tr>\n",
       "    <tr>\n",
       "      <th>accuracy</th>\n",
       "      <td>0.702771</td>\n",
       "      <td>0.000194</td>\n",
       "    </tr>\n",
       "  </tbody>\n",
       "</table>\n",
       "</div>"
      ],
      "text/plain": [
       "                   mean       std\n",
       "3.0_precision  0.000000  0.000000\n",
       "3.0_recall     0.000000  0.000000\n",
       "3.0_f1-score   0.000000  0.000000\n",
       "4.0_precision  0.702771  0.000194\n",
       "4.0_recall     1.000000  0.000000\n",
       "4.0_f1-score   0.825444  0.000134\n",
       "5.0_precision  0.000000  0.000000\n",
       "5.0_recall     0.000000  0.000000\n",
       "5.0_f1-score   0.000000  0.000000\n",
       "accuracy       0.702771  0.000194"
      ]
     },
     "execution_count": 86,
     "metadata": {},
     "output_type": "execute_result"
    }
   ],
   "source": [
    "from sklearn.dummy import DummyClassifier\n",
    "\n",
    "zero_r = DummyClassifier(strategy='most_frequent').fit(X_train, y_train)\n",
    "y_pred_zero_r, zero_r_report = cross_val_report(zero_r, X_train, y_train)\n",
    "zero_r_report"
   ]
  },
  {
   "cell_type": "markdown",
   "id": "13071b38",
   "metadata": {},
   "source": [
    "### 1R"
   ]
  },
  {
   "cell_type": "code",
   "execution_count": 87,
   "id": "288f9f81",
   "metadata": {},
   "outputs": [
    {
     "name": "stdout",
     "output_type": "stream",
     "text": [
      "DecisionTreeClassifier prediction took 0.6286900043487549 seconds.\n",
      "\n",
      "   3.0_precision  3.0_recall  3.0_f1-score  4.0_precision  4.0_recall  \\\n",
      "0            0.0         0.0           0.0       0.702644         1.0   \n",
      "1            0.0         0.0           0.0       0.702644         1.0   \n",
      "2            0.0         0.0           0.0       0.702644         1.0   \n",
      "3            0.0         0.0           0.0       0.702949         1.0   \n",
      "4            0.0         0.0           0.0       0.702949         1.0   \n",
      "5            0.0         0.0           0.0       0.702949         1.0   \n",
      "6            0.0         0.0           0.0       0.702949         1.0   \n",
      "7            0.0         0.0           0.0       0.702949         1.0   \n",
      "8            0.0         0.0           0.0       0.702515         1.0   \n",
      "9            0.0         0.0           0.0       0.702515         1.0   \n",
      "\n",
      "   4.0_f1-score  5.0_precision  5.0_recall  5.0_f1-score  accuracy  \n",
      "0      0.825356            0.0         0.0           0.0  0.702644  \n",
      "1      0.825356            0.0         0.0           0.0  0.702644  \n",
      "2      0.825356            0.0         0.0           0.0  0.702644  \n",
      "3      0.825567            0.0         0.0           0.0  0.702949  \n",
      "4      0.825567            0.0         0.0           0.0  0.702949  \n",
      "5      0.825567            0.0         0.0           0.0  0.702949  \n",
      "6      0.825567            0.0         0.0           0.0  0.702949  \n",
      "7      0.825567            0.0         0.0           0.0  0.702949  \n",
      "8      0.825267            0.0         0.0           0.0  0.702515  \n",
      "9      0.825267            0.0         0.0           0.0  0.702515  \n"
     ]
    },
    {
     "data": {
      "image/png": "[encoded data removed]",
      "text/plain": [
       "<Figure size 640x480 with 2 Axes>"
      ]
     },
     "metadata": {},
     "output_type": "display_data"
    },
    {
     "data": {
      "text/html": [
       "<div>\n",
       "<style scoped>\n",
       "    .dataframe tbody tr th:only-of-type {\n",
       "        vertical-align: middle;\n",
       "    }\n",
       "\n",
       "    .dataframe tbody tr th {\n",
       "        vertical-align: top;\n",
       "    }\n",
       "\n",
       "    .dataframe thead th {\n",
       "        text-align: right;\n",
       "    }\n",
       "</style>\n",
       "<table border=\"1\" class=\"dataframe\">\n",
       "  <thead>\n",
       "    <tr style=\"text-align: right;\">\n",
       "      <th></th>\n",
       "      <th>mean</th>\n",
       "      <th>std</th>\n",
       "    </tr>\n",
       "  </thead>\n",
       "  <tbody>\n",
       "    <tr>\n",
       "      <th>3.0_precision</th>\n",
       "      <td>0.000000</td>\n",
       "      <td>0.000000</td>\n",
       "    </tr>\n",
       "    <tr>\n",
       "      <th>3.0_recall</th>\n",
       "      <td>0.000000</td>\n",
       "      <td>0.000000</td>\n",
       "    </tr>\n",
       "    <tr>\n",
       "      <th>3.0_f1-score</th>\n",
       "      <td>0.000000</td>\n",
       "      <td>0.000000</td>\n",
       "    </tr>\n",
       "    <tr>\n",
       "      <th>4.0_precision</th>\n",
       "      <td>0.702771</td>\n",
       "      <td>0.000194</td>\n",
       "    </tr>\n",
       "    <tr>\n",
       "      <th>4.0_recall</th>\n",
       "      <td>1.000000</td>\n",
       "      <td>0.000000</td>\n",
       "    </tr>\n",
       "    <tr>\n",
       "      <th>4.0_f1-score</th>\n",
       "      <td>0.825444</td>\n",
       "      <td>0.000134</td>\n",
       "    </tr>\n",
       "    <tr>\n",
       "      <th>5.0_precision</th>\n",
       "      <td>0.000000</td>\n",
       "      <td>0.000000</td>\n",
       "    </tr>\n",
       "    <tr>\n",
       "      <th>5.0_recall</th>\n",
       "      <td>0.000000</td>\n",
       "      <td>0.000000</td>\n",
       "    </tr>\n",
       "    <tr>\n",
       "      <th>5.0_f1-score</th>\n",
       "      <td>0.000000</td>\n",
       "      <td>0.000000</td>\n",
       "    </tr>\n",
       "    <tr>\n",
       "      <th>accuracy</th>\n",
       "      <td>0.702771</td>\n",
       "      <td>0.000194</td>\n",
       "    </tr>\n",
       "  </tbody>\n",
       "</table>\n",
       "</div>"
      ],
      "text/plain": [
       "                   mean       std\n",
       "3.0_precision  0.000000  0.000000\n",
       "3.0_recall     0.000000  0.000000\n",
       "3.0_f1-score   0.000000  0.000000\n",
       "4.0_precision  0.702771  0.000194\n",
       "4.0_recall     1.000000  0.000000\n",
       "4.0_f1-score   0.825444  0.000134\n",
       "5.0_precision  0.000000  0.000000\n",
       "5.0_recall     0.000000  0.000000\n",
       "5.0_f1-score   0.000000  0.000000\n",
       "accuracy       0.702771  0.000194"
      ]
     },
     "execution_count": 87,
     "metadata": {},
     "output_type": "execute_result"
    }
   ],
   "source": [
    "from sklearn.tree import DecisionTreeClassifier\n",
    "\n",
    "one_r = DecisionTreeClassifier(max_depth=1).fit(X_train, y_train)\n",
    "y_pred_one_r, one_r_report = cross_val_report(one_r, X_train, y_train)\n",
    "one_r_report"
   ]
  },
  {
   "cell_type": "code",
   "execution_count": 88,
   "id": "440c64ed",
   "metadata": {},
   "outputs": [
    {
     "data": {
      "text/plain": [
       "[Text(0.5, 0.75, 'x[1] <= 0.25\\ngini = 0.44\\nsamples = 23063\\nvalue = [5864, 16208, 991]'),\n",
       " Text(0.25, 0.25, 'gini = 0.452\\nsamples = 17602\\nvalue = [4900, 12063, 639]'),\n",
       " Text(0.75, 0.25, 'gini = 0.389\\nsamples = 5461\\nvalue = [964, 4145, 352]')]"
      ]
     },
     "execution_count": 88,
     "metadata": {},
     "output_type": "execute_result"
    },
    {
     "data": {
      "image/png": "[encoded data removed]",
      "text/plain": [
       "<Figure size 640x480 with 1 Axes>"
      ]
     },
     "metadata": {},
     "output_type": "display_data"
    }
   ],
   "source": [
    "# Look at the Decision Stump\n",
    "from sklearn import tree\n",
    "tree.plot_tree(one_r)"
   ]
  },
  {
   "cell_type": "markdown",
   "id": "4c5f522f",
   "metadata": {},
   "source": [
    "# 3. Final predictions on the test set"
   ]
  },
  {
   "cell_type": "code",
   "execution_count": 89,
   "id": "d8bb1fca",
   "metadata": {},
   "outputs": [],
   "source": [
    "## X_test = pd.read_csv(DATASET_DIR + \"test_df.csv\", keep_default_na=False)  # Alternative\n",
    "X_test = test_df"
   ]
  },
  {
   "cell_type": "code",
   "execution_count": 90,
   "id": "4397d176",
   "metadata": {},
   "outputs": [],
   "source": [
    "# Linear SVM\n",
    "X_test_lsvm = X_test[LSVM_FEATURES]\n",
    "get_pred_df(lsvm.predict(X_test_lsvm)).to_csv(\"lsvm_pred.csv\", index=False)"
   ]
  },
  {
   "cell_type": "code",
   "execution_count": 91,
   "id": "dc9eff23",
   "metadata": {},
   "outputs": [],
   "source": [
    "# Stacking NB\n",
    "get_pred_df(cvsnb.predict(X_test)).to_csv(\"cvsnb_pred.csv\", index=False)"
   ]
  },
  {
   "cell_type": "code",
   "execution_count": null,
   "id": "7925e81e",
   "metadata": {},
   "outputs": [],
   "source": [
    "# Logistic Regression\n",
    "X_test_logr = pd.read_csv(DATASET_DIR + \"test_df.csv\", keep_default_na=False)\n",
    "get_pred_df(logr.predict(X_test_logr[LR_FEATURES])).to_csv(\"logr_pred.csv\", index=False)"
   ]
  },
  {
   "cell_type": "code",
   "execution_count": null,
   "id": "ea5330a2",
   "metadata": {},
   "outputs": [],
   "source": [
    "# Stacking Clf\n",
    "get_pred_df(sclf.predict(X_test_sclf)).to_csv(\"sclf_pred.csv\", index=False)\n",
    "pd.read_csv(\"sclf_pred.csv\")  # how the results look"
   ]
  },
  {
   "cell_type": "code",
   "execution_count": null,
   "id": "2ebf9eed",
   "metadata": {},
   "outputs": [],
   "source": []
  }
 ],
 "metadata": {
  "kernelspec": {
   "display_name": "Python 3 (ipykernel)",
   "language": "python",
   "name": "python3"
  },
  "language_info": {
   "codemirror_mode": {
    "name": "ipython",
    "version": 3
   },
   "file_extension": ".py",
   "mimetype": "text/x-python",
   "name": "python",
   "nbconvert_exporter": "python",
   "pygments_lexer": "ipython3",
   "version": "3.9.16"
  }
 },
 "nbformat": 4,
 "nbformat_minor": 5
}
