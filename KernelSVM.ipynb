{
 "cells": [
  {
   "cell_type": "code",
   "execution_count": 1,
   "id": "194c10c5",
   "metadata": {},
   "outputs": [],
   "source": [
    "%run Global.ipynb\n",
    "%run Helper_Functions.ipynb"
   ]
  },
  {
   "cell_type": "code",
   "execution_count": 2,
   "id": "93604b59",
   "metadata": {},
   "outputs": [],
   "source": [
    "train_df_ohe_selected = pd.read_csv(DATASET_DIR + \"/train_df_ohe_selected_50.csv\", keep_default_na=False)"
   ]
  },
  {
   "cell_type": "code",
   "execution_count": 3,
   "id": "8bb472c6",
   "metadata": {},
   "outputs": [],
   "source": [
    "y = train_df_ohe_selected.iloc[:,-1]\n",
    "X = train_df_ohe_selected.iloc[:,:-1]"
   ]
  },
  {
   "cell_type": "markdown",
   "id": "256ca367",
   "metadata": {},
   "source": [
    "# Kernel SVM"
   ]
  },
  {
   "cell_type": "code",
   "execution_count": 4,
   "id": "c3a9a060",
   "metadata": {},
   "outputs": [],
   "source": [
    "from sklearn import svm"
   ]
  },
  {
   "cell_type": "code",
   "execution_count": 5,
   "id": "e603d817",
   "metadata": {},
   "outputs": [],
   "source": [
    "RBF_svm = svm.SVC(kernel='rbf')"
   ]
  },
  {
   "cell_type": "code",
   "execution_count": null,
   "id": "75c429fd",
   "metadata": {
    "scrolled": false
   },
   "outputs": [
    {
     "name": "stdout",
     "output_type": "stream",
     "text": [
      "Fitting 3 folds for each of 20 candidates, totalling 60 fits\n",
      "[CV] END .....................................C=1, gamma=0.1; total time= 1.8min\n",
      "[CV] END .....................................C=1, gamma=0.1; total time= 1.8min\n",
      "[CV] END .....................................C=1, gamma=0.1; total time= 1.8min\n",
      "[CV] END .....................................C=1, gamma=0.3; total time= 2.3min\n",
      "[CV] END .....................................C=1, gamma=0.3; total time= 2.8min\n",
      "[CV] END .....................................C=1, gamma=0.3; total time= 2.8min\n",
      "[CV] END .....................................C=1, gamma=0.5; total time= 2.6min\n",
      "[CV] END .....................................C=1, gamma=0.5; total time= 2.3min\n",
      "[CV] END .....................................C=1, gamma=0.5; total time= 2.4min\n",
      "[CV] END .....................................C=1, gamma=0.7; total time= 2.6min\n",
      "[CV] END .....................................C=1, gamma=0.7; total time= 2.5min\n",
      "[CV] END .....................................C=1, gamma=0.7; total time= 2.7min\n",
      "[CV] END .....................................C=1, gamma=0.9; total time= 2.9min\n",
      "[CV] END .....................................C=1, gamma=0.9; total time= 2.9min\n",
      "[CV] END .....................................C=1, gamma=0.9; total time= 3.1min\n",
      "[CV] END ....................................C=26, gamma=0.1; total time= 2.6min\n",
      "[CV] END ....................................C=26, gamma=0.1; total time= 2.7min\n",
      "[CV] END ....................................C=26, gamma=0.1; total time= 2.7min\n",
      "[CV] END ....................................C=26, gamma=0.3; total time= 3.7min\n",
      "[CV] END ....................................C=26, gamma=0.3; total time= 3.9min\n",
      "[CV] END ....................................C=26, gamma=0.3; total time= 3.3min\n",
      "[CV] END ....................................C=26, gamma=0.5; total time= 3.6min\n",
      "[CV] END ....................................C=26, gamma=0.5; total time= 2.8min\n",
      "[CV] END ....................................C=26, gamma=0.5; total time= 2.8min\n",
      "[CV] END ....................................C=26, gamma=0.7; total time= 3.1min\n",
      "[CV] END ....................................C=26, gamma=0.7; total time= 3.1min\n",
      "[CV] END ....................................C=26, gamma=0.7; total time= 3.0min\n",
      "[CV] END ....................................C=26, gamma=0.9; total time= 5.2min\n",
      "[CV] END ....................................C=26, gamma=0.9; total time=28.2min\n",
      "[CV] END ....................................C=26, gamma=0.9; total time= 3.4min\n",
      "[CV] END ....................................C=51, gamma=0.1; total time= 3.3min\n",
      "[CV] END ....................................C=51, gamma=0.1; total time= 3.5min\n",
      "[CV] END ....................................C=51, gamma=0.1; total time= 3.6min\n",
      "[CV] END ....................................C=51, gamma=0.3; total time= 3.7min\n",
      "[CV] END ....................................C=51, gamma=0.3; total time= 3.4min\n",
      "[CV] END ....................................C=51, gamma=0.3; total time= 3.3min\n",
      "[CV] END ....................................C=51, gamma=0.5; total time= 3.1min\n",
      "[CV] END ....................................C=51, gamma=0.5; total time= 3.2min\n",
      "[CV] END ....................................C=51, gamma=0.5; total time= 2.9min\n",
      "[CV] END ....................................C=51, gamma=0.7; total time= 2.9min\n",
      "[CV] END ....................................C=51, gamma=0.7; total time= 2.9min\n",
      "[CV] END ....................................C=51, gamma=0.7; total time= 2.9min\n",
      "[CV] END ....................................C=51, gamma=0.9; total time= 3.5min\n",
      "[CV] END ....................................C=51, gamma=0.9; total time= 3.3min\n",
      "[CV] END ....................................C=51, gamma=0.9; total time= 3.5min\n",
      "[CV] END ....................................C=76, gamma=0.1; total time= 3.7min\n",
      "[CV] END ....................................C=76, gamma=0.1; total time= 3.9min\n",
      "[CV] END ....................................C=76, gamma=0.1; total time= 3.5min\n",
      "[CV] END ....................................C=76, gamma=0.3; total time= 3.9min\n"
     ]
    }
   ],
   "source": [
    "# tune hyperparameter C and gamma\n",
    "param_grid = {'C': range(1, 101, 25), 'gamma': [0.1, 0.3, 0.5, 0.7, 0.9]}\n",
    "tune_hyperparameter(RBF_svm, param_grid, X, y, cv=3)"
   ]
  },
  {
   "cell_type": "code",
   "execution_count": null,
   "id": "c0534fd6",
   "metadata": {},
   "outputs": [],
   "source": [
    "RBF_svm = svm.SVC(kernel='rbf', C=10, gamma=0.1)\n",
    "RBF_svm.fit(X, y)\n",
    "cross_val_report(RBF_svm, X, y)[1]\n",
    "# Kernel SVM performs slightly better on weighted avg precision & recall than Linear SVM"
   ]
  },
  {
   "cell_type": "code",
   "execution_count": null,
   "id": "a648e4b2",
   "metadata": {},
   "outputs": [],
   "source": [
    "# Kernel SVM is way too slow with the full feature set - let's do dimensionality reduction\n",
    "from sklearn.decomposition import TruncatedSVD\n",
    "\n",
    "tsvd = TruncatedSVD(n_components=5, random_state=30027)\n",
    "X_reduced = tsvd.fit_transform(X)\n",
    "X_reduced"
   ]
  },
  {
   "cell_type": "code",
   "execution_count": null,
   "id": "e7026dce",
   "metadata": {},
   "outputs": [],
   "source": [
    "RBF_svm = svm.SVC(kernel='rbf', C=10, gamma=0.1)\n",
    "RBF_svm.fit(X_reduced, y)\n",
    "cross_val_report(RBF_svm, X_reduced, y)[1]"
   ]
  },
  {
   "cell_type": "code",
   "execution_count": null,
   "id": "7533af9e",
   "metadata": {},
   "outputs": [],
   "source": [
    "selector = SelectFromModel(RBF_svm, prefit=True).fit(X, y)\n",
    "print(\"RBF SVM Coefficients:\", selector.estimator_.coef_)\n",
    "print(\"Selector threshold:\", selector.threshold_)\n",
    "selected_features = [X.columns[i] for i in range(X.shape[1]) if selector.get_support()[i]]\n",
    "print(len(selected_features), \"features selected\")\n",
    "X_filtered = X[selected_features]"
   ]
  },
  {
   "cell_type": "code",
   "execution_count": null,
   "id": "f3e76fb9",
   "metadata": {},
   "outputs": [],
   "source": [
    "RBF_svm = svm.SVC(kernel='rbf', C=10, gamma=0.1)\n",
    "RBF_svm.fit(X_filtered, y)\n",
    "cross_val_report(RBF_svm, X_filtered, y)[1]"
   ]
  }
 ],
 "metadata": {
  "kernelspec": {
   "display_name": "Python 3 (ipykernel)",
   "language": "python",
   "name": "python3"
  },
  "language_info": {
   "codemirror_mode": {
    "name": "ipython",
    "version": 3
   },
   "file_extension": ".py",
   "mimetype": "text/x-python",
   "name": "python",
   "nbconvert_exporter": "python",
   "pygments_lexer": "ipython3",
   "version": "3.9.16"
  }
 },
 "nbformat": 4,
 "nbformat_minor": 5
}
