{
 "cells": [
  {
   "cell_type": "code",
   "execution_count": 32,
   "id": "194c10c5",
   "metadata": {},
   "outputs": [],
   "source": [
    "%run Global.ipynb\n",
    "%run Helper_Functions.ipynb"
   ]
  },
  {
   "cell_type": "code",
   "execution_count": 2,
   "id": "93604b59",
   "metadata": {},
   "outputs": [],
   "source": [
    "train_df_ohe_selected = pd.read_csv(DATASET_DIR + \"/train_df_ohe_selected.csv\", keep_default_na=False)"
   ]
  },
  {
   "cell_type": "code",
   "execution_count": 3,
   "id": "8bb472c6",
   "metadata": {},
   "outputs": [],
   "source": [
    "y = train_df_ohe_selected.iloc[:,-1]\n",
    "X_ohe = train_df_ohe_selected.iloc[:,:-1]"
   ]
  },
  {
   "cell_type": "markdown",
   "id": "256ca367",
   "metadata": {},
   "source": [
    "# Kernel SVM"
   ]
  },
  {
   "cell_type": "code",
   "execution_count": 4,
   "id": "c3a9a060",
   "metadata": {},
   "outputs": [],
   "source": [
    "from sklearn import svm"
   ]
  },
  {
   "cell_type": "code",
   "execution_count": 28,
   "id": "a648e4b2",
   "metadata": {},
   "outputs": [
    {
     "data": {
      "text/plain": [
       "array([[13.17863228, -2.06696411,  0.22049632, -0.93110451,  0.30613969],\n",
       "       [12.79027365, -1.85911933,  2.36132795,  1.12134209,  0.31882693],\n",
       "       [13.67766518,  3.82543436, -2.01778294, -1.04926069,  0.29954171],\n",
       "       ...,\n",
       "       [12.25498078,  1.0274321 , -1.66868384, -0.91125627,  0.35303856],\n",
       "       [13.5913514 ,  1.85223991, -0.9527365 , -1.03253973,  0.38991179],\n",
       "       [13.43535709, -0.08520997,  0.14349548, -0.99855228, -0.68539893]])"
      ]
     },
     "execution_count": 28,
     "metadata": {},
     "output_type": "execute_result"
    }
   ],
   "source": [
    "# Kernel SVM is way too slow with the full feature set - let's do dimensionality reduction\n",
    "from sklearn.decomposition import TruncatedSVD\n",
    "\n",
    "tsvd = TruncatedSVD(n_components=5, random_state=30027)\n",
    "X_ohe_reduced = tsvd.fit_transform(X_ohe_selected)\n",
    "X_ohe_reduced"
   ]
  },
  {
   "cell_type": "code",
   "execution_count": 29,
   "id": "f3b51a6a",
   "metadata": {},
   "outputs": [],
   "source": [
    "RBF_svm = svm.SVC(kernel='rbf')"
   ]
  },
  {
   "cell_type": "code",
   "execution_count": null,
   "id": "75c429fd",
   "metadata": {
    "scrolled": false
   },
   "outputs": [
    {
     "name": "stdout",
     "output_type": "stream",
     "text": [
      "Fitting 3 folds for each of 20 candidates, totalling 60 fits\n",
      "[CV] END .....................................C=1, gamma=0.1; total time=  14.6s\n",
      "[CV] END .....................................C=1, gamma=0.1; total time=  17.1s\n",
      "[CV] END .....................................C=1, gamma=0.1; total time=  14.8s\n",
      "[CV] END .....................................C=1, gamma=0.3; total time=  16.6s\n",
      "[CV] END .....................................C=1, gamma=0.3; total time=  16.2s\n",
      "[CV] END .....................................C=1, gamma=0.3; total time=  16.5s\n",
      "[CV] END .....................................C=1, gamma=0.5; total time=  15.8s\n",
      "[CV] END .....................................C=1, gamma=0.5; total time=  18.5s\n",
      "[CV] END .....................................C=1, gamma=0.5; total time=  15.6s\n",
      "[CV] END .....................................C=1, gamma=0.7; total time=  15.3s\n",
      "[CV] END .....................................C=1, gamma=0.7; total time=  14.7s\n",
      "[CV] END .....................................C=1, gamma=0.7; total time=  14.7s\n",
      "[CV] END .....................................C=1, gamma=0.9; total time=  14.6s\n",
      "[CV] END .....................................C=1, gamma=0.9; total time=  14.7s\n",
      "[CV] END .....................................C=1, gamma=0.9; total time=  18.2s\n",
      "[CV] END ....................................C=26, gamma=0.1; total time=  53.1s\n",
      "[CV] END ....................................C=26, gamma=0.1; total time=  55.6s\n",
      "[CV] END ....................................C=26, gamma=0.1; total time=  57.4s\n",
      "[CV] END ....................................C=26, gamma=0.3; total time=  49.3s\n",
      "[CV] END ....................................C=26, gamma=0.3; total time=  47.5s\n",
      "[CV] END ....................................C=26, gamma=0.3; total time=  41.8s\n",
      "[CV] END ....................................C=26, gamma=0.5; total time=  22.0s\n",
      "[CV] END ....................................C=26, gamma=0.5; total time=  23.7s\n",
      "[CV] END ....................................C=26, gamma=0.5; total time=  23.6s\n",
      "[CV] END ....................................C=26, gamma=0.7; total time=  20.4s\n",
      "[CV] END ....................................C=26, gamma=0.7; total time=  19.2s\n",
      "[CV] END ....................................C=26, gamma=0.7; total time=  19.1s\n",
      "[CV] END ....................................C=26, gamma=0.9; total time=  17.5s\n",
      "[CV] END ....................................C=26, gamma=0.9; total time=  17.7s\n",
      "[CV] END ....................................C=26, gamma=0.9; total time=  17.7s\n",
      "[CV] END ....................................C=51, gamma=0.1; total time= 1.5min\n"
     ]
    }
   ],
   "source": [
    "# tune hyperparameter C and gamma\n",
    "param_grid = {'C': range(1, 101, 25), 'gamma': [0.1, 0.3, 0.5, 0.7, 0.9]}\n",
    "tune_hyperparameter(RBF_svm, param_grid, X_ohe_reduced, y, cv=3)"
   ]
  },
  {
   "cell_type": "code",
   "execution_count": 31,
   "id": "c0534fd6",
   "metadata": {},
   "outputs": [
    {
     "ename": "NameError",
     "evalue": "name 'cross_val_report' is not defined",
     "output_type": "error",
     "traceback": [
      "\u001b[0;31m---------------------------------------------------------------------------\u001b[0m",
      "\u001b[0;31mNameError\u001b[0m                                 Traceback (most recent call last)",
      "Cell \u001b[0;32mIn[31], line 3\u001b[0m\n\u001b[1;32m      1\u001b[0m RBF_svm \u001b[38;5;241m=\u001b[39m svm\u001b[38;5;241m.\u001b[39mSVC(kernel\u001b[38;5;241m=\u001b[39m\u001b[38;5;124m'\u001b[39m\u001b[38;5;124mrbf\u001b[39m\u001b[38;5;124m'\u001b[39m, C\u001b[38;5;241m=\u001b[39m\u001b[38;5;241m2\u001b[39m, gamma\u001b[38;5;241m=\u001b[39m\u001b[38;5;241m0.1\u001b[39m)\n\u001b[1;32m      2\u001b[0m RBF_svm\u001b[38;5;241m.\u001b[39mfit(X_ohe_reduced, y)\n\u001b[0;32m----> 3\u001b[0m \u001b[43mcross_val_report\u001b[49m(RBF_svm, X_ohe_reduced, y)[\u001b[38;5;241m1\u001b[39m]\n\u001b[1;32m      4\u001b[0m \u001b[38;5;66;03m# Kernel SVM performs slightly better on weighted avg precision & recall than Linear SVM\u001b[39;00m\n",
      "\u001b[0;31mNameError\u001b[0m: name 'cross_val_report' is not defined"
     ]
    }
   ],
   "source": [
    "RBF_svm = svm.SVC(kernel='rbf', C=2, gamma=0.1)\n",
    "RBF_svm.fit(X_ohe_reduced, y)\n",
    "cross_val_report(RBF_svm, X_ohe_reduced, y)[1]\n",
    "# Kernel SVM performs slightly better on weighted avg precision & recall than Linear SVM"
   ]
  },
  {
   "cell_type": "code",
   "execution_count": null,
   "id": "7533af9e",
   "metadata": {},
   "outputs": [],
   "source": []
  }
 ],
 "metadata": {
  "kernelspec": {
   "display_name": "Python 3 (ipykernel)",
   "language": "python",
   "name": "python3"
  },
  "language_info": {
   "codemirror_mode": {
    "name": "ipython",
    "version": 3
   },
   "file_extension": ".py",
   "mimetype": "text/x-python",
   "name": "python",
   "nbconvert_exporter": "python",
   "pygments_lexer": "ipython3",
   "version": "3.9.16"
  }
 },
 "nbformat": 4,
 "nbformat_minor": 5
}
