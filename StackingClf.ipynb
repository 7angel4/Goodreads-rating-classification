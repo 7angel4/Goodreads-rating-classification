{
 "cells": [
  {
   "cell_type": "code",
   "execution_count": null,
   "id": "61bc517d",
   "metadata": {},
   "outputs": [],
   "source": [
    "%run Global.ipynb\n",
    "%run Helper_Functions.ipynb"
   ]
  },
  {
   "cell_type": "code",
   "execution_count": null,
   "id": "4f76d5e6",
   "metadata": {},
   "outputs": [],
   "source": [
    "train_df_ohe_selected = pd.read_csv(DATASET_DIR + \"/train_df_ohe_selected.csv\", keep_default_na=False)\n",
    "train_selected_df, val_selected_df = train_test_split(train_df_ohe_selected, train_size=0.8, random_state=30027)\n",
    "\n",
    "X_train_selected = train_selected_df.iloc[:,:-1] # (transformed) attributes\n",
    "y_train_selected = train_selected_df.iloc[:,-1]  # ground truth labels\n",
    "X_val_selected = val_selected_df.iloc[:,:-1]\n",
    "y_val_selected = val_selected_df.iloc[:,-1]"
   ]
  },
  {
   "cell_type": "code",
   "execution_count": null,
   "id": "deb6691e",
   "metadata": {},
   "outputs": [],
   "source": [
    "from sklearn.tree import DecisionTreeClassifier\n",
    "from sklearn.pipeline import Pipeline\n",
    "from sklearn.neighbors import KNeighborsClassifier\n",
    "\n",
    "# gaussian NB\n",
    "gnb = GaussianNB()\n",
    "\n",
    "# linear svm\n",
    "linearSVM = svm.LinearSVC(random_state=30027, C=1)\n",
    "\n",
    "# logr\n",
    "logr = LogisticRegression(solver='sag', max_iter=100)\n",
    "\n",
    "# decision tree\n",
    "dt = DecisionTreeClassifier(max_depth = 200, random_state = 30027)\n",
    "\n",
    "# knn\n",
    "knn = KNeighborsClassifier(n_neighbors=1)\n"
   ]
  },
  {
   "cell_type": "code",
   "execution_count": null,
   "id": "7ac9f61c",
   "metadata": {},
   "outputs": [],
   "source": [
    "from sklearn.ensemble import StackingClassifier\n",
    "estimators = [('gaussianNB', gnb), ('linearSVM', linearSVM), ('logisticRegression', logr), ('decisionTree', dt), ('kNN', knn)]\n",
    "stacking = StackingClassifier(estimators = estimators, cv = 5)\n",
    "stacking.fit(X_train_selected, y_train_selected)"
   ]
  },
  {
   "cell_type": "code",
   "execution_count": null,
   "id": "873079a4",
   "metadata": {},
   "outputs": [],
   "source": [
    "evaluate(stacking, X_val_selected, y_val_selected)"
   ]
  },
  {
   "cell_type": "code",
   "execution_count": null,
   "id": "18481eca",
   "metadata": {},
   "outputs": [],
   "source": [
    "stacking.get_params(deep=True)"
   ]
  },
  {
   "cell_type": "code",
   "execution_count": null,
   "id": "b505fde7",
   "metadata": {},
   "outputs": [],
   "source": [
    "param_grid = {'linearSVM__C': range(1,11,5), 'decisionTree__max_depth': range(200, 401, 50), 'kNN__n_neighbors': range(1,6)}\n",
    "tune_hyperparameter(stacking, param_grid, X_train_selected, y_train_selected, cv = 2)"
   ]
  }
 ],
 "metadata": {
  "kernelspec": {
   "display_name": "Python 3",
   "language": "python",
   "name": "python3"
  },
  "language_info": {
   "codemirror_mode": {
    "name": "ipython",
    "version": 3
   },
   "file_extension": ".py",
   "mimetype": "text/x-python",
   "name": "python",
   "nbconvert_exporter": "python",
   "pygments_lexer": "ipython3",
   "version": "3.8.8"
  }
 },
 "nbformat": 4,
 "nbformat_minor": 5
}
