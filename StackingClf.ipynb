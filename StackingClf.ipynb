{
 "cells": [
  {
   "cell_type": "code",
   "execution_count": 17,
   "id": "61bc517d",
   "metadata": {},
   "outputs": [],
   "source": [
    "%run Global.ipynb\n",
    "%run Helper_Functions.ipynb"
   ]
  },
  {
   "cell_type": "code",
   "execution_count": 7,
   "id": "4f76d5e6",
   "metadata": {
    "collapsed": true
   },
   "outputs": [],
   "source": [
    "train_df_ohe_selected = pd.read_csv(DATASET_DIR + \"/train_df_ohe_selected.csv\", keep_default_na=False)\n",
    "\n",
    "X = train_df_ohe_selected.iloc[:,:-1] # (transformed) attributes\n",
    "y = train_df_ohe_selected.iloc[:,-1]  # ground truth labels"
   ]
  },
  {
   "cell_type": "code",
   "execution_count": 5,
   "id": "2cc0d2a8",
   "metadata": {
    "collapsed": true
   },
   "outputs": [],
   "source": [
    "# run in terminal: python -m pip install mlxtend\n",
    "# https://rasbt.github.io/mlxtend/user_guide/classifier/StackingCVClassifier/#example-3-stacked-cv-classification-and-gridsearch\n",
    "import mlxtend\n",
    "from mlxtend.classifier import StackingCVClassifier"
   ]
  },
  {
   "cell_type": "code",
   "execution_count": 8,
   "id": "deb6691e",
   "metadata": {
    "collapsed": true
   },
   "outputs": [],
   "source": [
    "from sklearn.tree import DecisionTreeClassifier\n",
    "from sklearn.pipeline import Pipeline\n",
    "from sklearn.neighbors import KNeighborsClassifier\n",
    "from sklearn.naive_bayes import GaussianNB\n",
    "from sklearn.linear_model import LogisticRegression\n",
    "from sklearn import svm\n",
    "\n",
    "# gaussian NB\n",
    "gnb = GaussianNB()\n",
    "\n",
    "# linear svm\n",
    "linearSVM = svm.LinearSVC(random_state=30027, C=1)\n",
    "\n",
    "# logr\n",
    "logr = LogisticRegression(solver='sag', max_iter=100)\n",
    "\n",
    "# decision tree\n",
    "dt = DecisionTreeClassifier(max_depth = 200, random_state = 30027)\n",
    "\n",
    "# knn\n",
    "knn = KNeighborsClassifier(n_neighbors=1)\n"
   ]
  },
  {
   "cell_type": "code",
   "execution_count": 19,
   "id": "96f93d92",
   "metadata": {},
   "outputs": [],
   "source": [
    "sclf = StackingCVClassifier(classifiers=[gnb, linearSVM, logr, dt, knn], \n",
    "                            meta_classifier=LogisticRegression(),\n",
    "                            cv = 2,\n",
    "                            random_state=30027)"
   ]
  },
  {
   "cell_type": "code",
   "execution_count": 20,
   "id": "a4781e31",
   "metadata": {},
   "outputs": [
    {
     "data": {
      "text/plain": [
       "{'classifiers': [GaussianNB(),\n",
       "  LinearSVC(C=1, random_state=30027),\n",
       "  LogisticRegression(solver='sag'),\n",
       "  DecisionTreeClassifier(max_depth=200, random_state=30027),\n",
       "  KNeighborsClassifier(n_neighbors=1)],\n",
       " 'cv': 2,\n",
       " 'drop_proba_col': None,\n",
       " 'meta_classifier__C': 1.0,\n",
       " 'meta_classifier__class_weight': None,\n",
       " 'meta_classifier__dual': False,\n",
       " 'meta_classifier__fit_intercept': True,\n",
       " 'meta_classifier__intercept_scaling': 1,\n",
       " 'meta_classifier__l1_ratio': None,\n",
       " 'meta_classifier__max_iter': 100,\n",
       " 'meta_classifier__multi_class': 'auto',\n",
       " 'meta_classifier__n_jobs': None,\n",
       " 'meta_classifier__penalty': 'l2',\n",
       " 'meta_classifier__random_state': None,\n",
       " 'meta_classifier__solver': 'lbfgs',\n",
       " 'meta_classifier__tol': 0.0001,\n",
       " 'meta_classifier__verbose': 0,\n",
       " 'meta_classifier__warm_start': False,\n",
       " 'meta_classifier': LogisticRegression(),\n",
       " 'n_jobs': None,\n",
       " 'pre_dispatch': '2*n_jobs',\n",
       " 'random_state': 30027,\n",
       " 'shuffle': True,\n",
       " 'store_train_meta_features': False,\n",
       " 'stratify': True,\n",
       " 'use_clones': True,\n",
       " 'use_features_in_secondary': False,\n",
       " 'use_probas': False,\n",
       " 'verbose': 0,\n",
       " 'gaussiannb': GaussianNB(),\n",
       " 'linearsvc': LinearSVC(C=1, random_state=30027),\n",
       " 'logisticregression': LogisticRegression(solver='sag'),\n",
       " 'decisiontreeclassifier': DecisionTreeClassifier(max_depth=200, random_state=30027),\n",
       " 'kneighborsclassifier': KNeighborsClassifier(n_neighbors=1),\n",
       " 'gaussiannb__priors': None,\n",
       " 'gaussiannb__var_smoothing': 1e-09,\n",
       " 'linearsvc__C': 1,\n",
       " 'linearsvc__class_weight': None,\n",
       " 'linearsvc__dual': True,\n",
       " 'linearsvc__fit_intercept': True,\n",
       " 'linearsvc__intercept_scaling': 1,\n",
       " 'linearsvc__loss': 'squared_hinge',\n",
       " 'linearsvc__max_iter': 1000,\n",
       " 'linearsvc__multi_class': 'ovr',\n",
       " 'linearsvc__penalty': 'l2',\n",
       " 'linearsvc__random_state': 30027,\n",
       " 'linearsvc__tol': 0.0001,\n",
       " 'linearsvc__verbose': 0,\n",
       " 'logisticregression__C': 1.0,\n",
       " 'logisticregression__class_weight': None,\n",
       " 'logisticregression__dual': False,\n",
       " 'logisticregression__fit_intercept': True,\n",
       " 'logisticregression__intercept_scaling': 1,\n",
       " 'logisticregression__l1_ratio': None,\n",
       " 'logisticregression__max_iter': 100,\n",
       " 'logisticregression__multi_class': 'auto',\n",
       " 'logisticregression__n_jobs': None,\n",
       " 'logisticregression__penalty': 'l2',\n",
       " 'logisticregression__random_state': None,\n",
       " 'logisticregression__solver': 'sag',\n",
       " 'logisticregression__tol': 0.0001,\n",
       " 'logisticregression__verbose': 0,\n",
       " 'logisticregression__warm_start': False,\n",
       " 'decisiontreeclassifier__ccp_alpha': 0.0,\n",
       " 'decisiontreeclassifier__class_weight': None,\n",
       " 'decisiontreeclassifier__criterion': 'gini',\n",
       " 'decisiontreeclassifier__max_depth': 200,\n",
       " 'decisiontreeclassifier__max_features': None,\n",
       " 'decisiontreeclassifier__max_leaf_nodes': None,\n",
       " 'decisiontreeclassifier__min_impurity_decrease': 0.0,\n",
       " 'decisiontreeclassifier__min_samples_leaf': 1,\n",
       " 'decisiontreeclassifier__min_samples_split': 2,\n",
       " 'decisiontreeclassifier__min_weight_fraction_leaf': 0.0,\n",
       " 'decisiontreeclassifier__random_state': 30027,\n",
       " 'decisiontreeclassifier__splitter': 'best',\n",
       " 'kneighborsclassifier__algorithm': 'auto',\n",
       " 'kneighborsclassifier__leaf_size': 30,\n",
       " 'kneighborsclassifier__metric': 'minkowski',\n",
       " 'kneighborsclassifier__metric_params': None,\n",
       " 'kneighborsclassifier__n_jobs': None,\n",
       " 'kneighborsclassifier__n_neighbors': 1,\n",
       " 'kneighborsclassifier__p': 2,\n",
       " 'kneighborsclassifier__weights': 'uniform'}"
      ]
     },
     "execution_count": 20,
     "metadata": {},
     "output_type": "execute_result"
    }
   ],
   "source": [
    "sclf.get_params()"
   ]
  },
  {
   "cell_type": "code",
   "execution_count": null,
   "id": "71bd1cfd",
   "metadata": {},
   "outputs": [
    {
     "name": "stdout",
     "output_type": "stream",
     "text": [
      "Fitting 2 folds for each of 50 candidates, totalling 100 fits\n",
      "[CV] END decisiontreeclassifier__max_depth=200, kneighborsclassifier__n_neighbors=1, linearsvc__C=1; total time= 1.1min\n",
      "[CV] END decisiontreeclassifier__max_depth=200, kneighborsclassifier__n_neighbors=1, linearsvc__C=1; total time=  56.3s\n",
      "[CV] END decisiontreeclassifier__max_depth=200, kneighborsclassifier__n_neighbors=1, linearsvc__C=6; total time=  44.2s\n",
      "[CV] END decisiontreeclassifier__max_depth=200, kneighborsclassifier__n_neighbors=1, linearsvc__C=6; total time=  46.0s\n",
      "[CV] END decisiontreeclassifier__max_depth=200, kneighborsclassifier__n_neighbors=2, linearsvc__C=1; total time=  43.8s\n",
      "[CV] END decisiontreeclassifier__max_depth=200, kneighborsclassifier__n_neighbors=2, linearsvc__C=1; total time=  45.3s\n",
      "[CV] END decisiontreeclassifier__max_depth=200, kneighborsclassifier__n_neighbors=2, linearsvc__C=6; total time=  50.3s\n",
      "[CV] END decisiontreeclassifier__max_depth=200, kneighborsclassifier__n_neighbors=2, linearsvc__C=6; total time=  50.6s\n",
      "[CV] END decisiontreeclassifier__max_depth=200, kneighborsclassifier__n_neighbors=3, linearsvc__C=1; total time=  44.3s\n",
      "[CV] END decisiontreeclassifier__max_depth=200, kneighborsclassifier__n_neighbors=3, linearsvc__C=1; total time=  45.0s\n",
      "[CV] END decisiontreeclassifier__max_depth=200, kneighborsclassifier__n_neighbors=3, linearsvc__C=6; total time= 1.1min\n",
      "[CV] END decisiontreeclassifier__max_depth=200, kneighborsclassifier__n_neighbors=3, linearsvc__C=6; total time= 1.1min\n",
      "[CV] END decisiontreeclassifier__max_depth=200, kneighborsclassifier__n_neighbors=4, linearsvc__C=1; total time=  54.2s\n",
      "[CV] END decisiontreeclassifier__max_depth=200, kneighborsclassifier__n_neighbors=4, linearsvc__C=1; total time=  47.7s\n",
      "[CV] END decisiontreeclassifier__max_depth=200, kneighborsclassifier__n_neighbors=4, linearsvc__C=6; total time=  46.4s\n",
      "[CV] END decisiontreeclassifier__max_depth=200, kneighborsclassifier__n_neighbors=4, linearsvc__C=6; total time=  42.1s\n",
      "[CV] END decisiontreeclassifier__max_depth=200, kneighborsclassifier__n_neighbors=5, linearsvc__C=1; total time=  43.4s\n",
      "[CV] END decisiontreeclassifier__max_depth=200, kneighborsclassifier__n_neighbors=5, linearsvc__C=1; total time=  43.9s\n",
      "[CV] END decisiontreeclassifier__max_depth=200, kneighborsclassifier__n_neighbors=5, linearsvc__C=6; total time=  51.1s\n",
      "[CV] END decisiontreeclassifier__max_depth=200, kneighborsclassifier__n_neighbors=5, linearsvc__C=6; total time= 1.0min\n",
      "[CV] END decisiontreeclassifier__max_depth=250, kneighborsclassifier__n_neighbors=1, linearsvc__C=1; total time=  45.8s\n",
      "[CV] END decisiontreeclassifier__max_depth=250, kneighborsclassifier__n_neighbors=1, linearsvc__C=1; total time=  48.8s\n",
      "[CV] END decisiontreeclassifier__max_depth=250, kneighborsclassifier__n_neighbors=1, linearsvc__C=6; total time=  41.7s\n",
      "[CV] END decisiontreeclassifier__max_depth=250, kneighborsclassifier__n_neighbors=1, linearsvc__C=6; total time=  41.2s\n",
      "[CV] END decisiontreeclassifier__max_depth=250, kneighborsclassifier__n_neighbors=2, linearsvc__C=1; total time=  41.4s\n",
      "[CV] END decisiontreeclassifier__max_depth=250, kneighborsclassifier__n_neighbors=2, linearsvc__C=1; total time=  41.1s\n",
      "[CV] END decisiontreeclassifier__max_depth=250, kneighborsclassifier__n_neighbors=2, linearsvc__C=6; total time=  41.0s\n",
      "[CV] END decisiontreeclassifier__max_depth=250, kneighborsclassifier__n_neighbors=2, linearsvc__C=6; total time=  41.0s\n",
      "[CV] END decisiontreeclassifier__max_depth=250, kneighborsclassifier__n_neighbors=3, linearsvc__C=1; total time=  43.8s\n",
      "[CV] END decisiontreeclassifier__max_depth=250, kneighborsclassifier__n_neighbors=3, linearsvc__C=1; total time=  41.0s\n",
      "[CV] END decisiontreeclassifier__max_depth=250, kneighborsclassifier__n_neighbors=3, linearsvc__C=6; total time=  41.0s\n",
      "[CV] END decisiontreeclassifier__max_depth=250, kneighborsclassifier__n_neighbors=3, linearsvc__C=6; total time=  41.6s\n",
      "[CV] END decisiontreeclassifier__max_depth=250, kneighborsclassifier__n_neighbors=4, linearsvc__C=1; total time=  40.9s\n",
      "[CV] END decisiontreeclassifier__max_depth=250, kneighborsclassifier__n_neighbors=4, linearsvc__C=1; total time=  41.4s\n",
      "[CV] END decisiontreeclassifier__max_depth=250, kneighborsclassifier__n_neighbors=4, linearsvc__C=6; total time=  40.9s\n",
      "[CV] END decisiontreeclassifier__max_depth=250, kneighborsclassifier__n_neighbors=4, linearsvc__C=6; total time=  41.1s\n",
      "[CV] END decisiontreeclassifier__max_depth=250, kneighborsclassifier__n_neighbors=5, linearsvc__C=1; total time=  41.3s\n",
      "[CV] END decisiontreeclassifier__max_depth=250, kneighborsclassifier__n_neighbors=5, linearsvc__C=1; total time=12.6min\n",
      "[CV] END decisiontreeclassifier__max_depth=250, kneighborsclassifier__n_neighbors=5, linearsvc__C=6; total time=18.3min\n",
      "[CV] END decisiontreeclassifier__max_depth=250, kneighborsclassifier__n_neighbors=5, linearsvc__C=6; total time= 5.4min\n",
      "[CV] END decisiontreeclassifier__max_depth=300, kneighborsclassifier__n_neighbors=1, linearsvc__C=1; total time=  47.7s\n",
      "[CV] END decisiontreeclassifier__max_depth=300, kneighborsclassifier__n_neighbors=1, linearsvc__C=1; total time=  41.3s\n",
      "[CV] END decisiontreeclassifier__max_depth=300, kneighborsclassifier__n_neighbors=1, linearsvc__C=6; total time=  40.9s\n",
      "[CV] END decisiontreeclassifier__max_depth=300, kneighborsclassifier__n_neighbors=1, linearsvc__C=6; total time=  41.3s\n",
      "[CV] END decisiontreeclassifier__max_depth=300, kneighborsclassifier__n_neighbors=2, linearsvc__C=1; total time=  41.3s\n",
      "[CV] END decisiontreeclassifier__max_depth=300, kneighborsclassifier__n_neighbors=2, linearsvc__C=1; total time=  41.1s\n",
      "[CV] END decisiontreeclassifier__max_depth=300, kneighborsclassifier__n_neighbors=2, linearsvc__C=6; total time=  41.8s\n",
      "[CV] END decisiontreeclassifier__max_depth=300, kneighborsclassifier__n_neighbors=2, linearsvc__C=6; total time=  41.3s\n",
      "[CV] END decisiontreeclassifier__max_depth=300, kneighborsclassifier__n_neighbors=3, linearsvc__C=1; total time=  43.5s\n",
      "[CV] END decisiontreeclassifier__max_depth=300, kneighborsclassifier__n_neighbors=3, linearsvc__C=1; total time=  41.2s\n",
      "[CV] END decisiontreeclassifier__max_depth=300, kneighborsclassifier__n_neighbors=3, linearsvc__C=6; total time=  41.1s\n",
      "[CV] END decisiontreeclassifier__max_depth=300, kneighborsclassifier__n_neighbors=3, linearsvc__C=6; total time=  41.0s\n",
      "[CV] END decisiontreeclassifier__max_depth=300, kneighborsclassifier__n_neighbors=4, linearsvc__C=1; total time=  40.9s\n",
      "[CV] END decisiontreeclassifier__max_depth=300, kneighborsclassifier__n_neighbors=4, linearsvc__C=1; total time=  41.4s\n",
      "[CV] END decisiontreeclassifier__max_depth=300, kneighborsclassifier__n_neighbors=4, linearsvc__C=6; total time=  41.4s\n",
      "[CV] END decisiontreeclassifier__max_depth=300, kneighborsclassifier__n_neighbors=4, linearsvc__C=6; total time=  41.9s\n",
      "[CV] END decisiontreeclassifier__max_depth=300, kneighborsclassifier__n_neighbors=5, linearsvc__C=1; total time=31.0min\n",
      "[CV] END decisiontreeclassifier__max_depth=300, kneighborsclassifier__n_neighbors=5, linearsvc__C=1; total time= 1.0min\n",
      "[CV] END decisiontreeclassifier__max_depth=300, kneighborsclassifier__n_neighbors=5, linearsvc__C=6; total time=30.9min\n",
      "[CV] END decisiontreeclassifier__max_depth=300, kneighborsclassifier__n_neighbors=5, linearsvc__C=6; total time=34.3min\n",
      "[CV] END decisiontreeclassifier__max_depth=350, kneighborsclassifier__n_neighbors=1, linearsvc__C=1; total time=16.0min\n",
      "[CV] END decisiontreeclassifier__max_depth=350, kneighborsclassifier__n_neighbors=1, linearsvc__C=1; total time=18.4min\n",
      "[CV] END decisiontreeclassifier__max_depth=350, kneighborsclassifier__n_neighbors=1, linearsvc__C=6; total time=33.2min\n",
      "[CV] END decisiontreeclassifier__max_depth=350, kneighborsclassifier__n_neighbors=1, linearsvc__C=6; total time=89.4min\n",
      "[CV] END decisiontreeclassifier__max_depth=350, kneighborsclassifier__n_neighbors=2, linearsvc__C=1; total time=19.8min\n",
      "[CV] END decisiontreeclassifier__max_depth=350, kneighborsclassifier__n_neighbors=2, linearsvc__C=1; total time=  45.0s\n",
      "[CV] END decisiontreeclassifier__max_depth=350, kneighborsclassifier__n_neighbors=2, linearsvc__C=6; total time=  44.4s\n",
      "[CV] END decisiontreeclassifier__max_depth=350, kneighborsclassifier__n_neighbors=2, linearsvc__C=6; total time=  42.9s\n"
     ]
    },
    {
     "name": "stdout",
     "output_type": "stream",
     "text": [
      "[CV] END decisiontreeclassifier__max_depth=350, kneighborsclassifier__n_neighbors=3, linearsvc__C=1; total time=  41.0s\n",
      "[CV] END decisiontreeclassifier__max_depth=350, kneighborsclassifier__n_neighbors=3, linearsvc__C=1; total time=  42.5s\n",
      "[CV] END decisiontreeclassifier__max_depth=350, kneighborsclassifier__n_neighbors=3, linearsvc__C=6; total time=  45.2s\n",
      "[CV] END decisiontreeclassifier__max_depth=350, kneighborsclassifier__n_neighbors=3, linearsvc__C=6; total time=  45.6s\n",
      "[CV] END decisiontreeclassifier__max_depth=350, kneighborsclassifier__n_neighbors=4, linearsvc__C=1; total time=  43.0s\n",
      "[CV] END decisiontreeclassifier__max_depth=350, kneighborsclassifier__n_neighbors=4, linearsvc__C=1; total time=  48.0s\n",
      "[CV] END decisiontreeclassifier__max_depth=350, kneighborsclassifier__n_neighbors=4, linearsvc__C=6; total time=  44.9s\n",
      "[CV] END decisiontreeclassifier__max_depth=350, kneighborsclassifier__n_neighbors=4, linearsvc__C=6; total time=  43.5s\n",
      "[CV] END decisiontreeclassifier__max_depth=350, kneighborsclassifier__n_neighbors=5, linearsvc__C=1; total time=  43.5s\n"
     ]
    }
   ],
   "source": [
    "param_grid = {'linearsvc__C': range(1,11,5), \n",
    "              'decisiontreeclassifier__max_depth': range(200, 401, 50), \n",
    "              'kneighborsclassifier__n_neighbors': range(1,6)}\n",
    "\n",
    "grid = tune_hyperparameter(sclf, param_grid, X, y, cv=2)"
   ]
  },
  {
   "cell_type": "code",
   "execution_count": 23,
   "id": "6e515aa6",
   "metadata": {},
   "outputs": [
    {
     "data": {
      "text/html": [
       "<style>#sk-container-id-1 {color: black;background-color: white;}#sk-container-id-1 pre{padding: 0;}#sk-container-id-1 div.sk-toggleable {background-color: white;}#sk-container-id-1 label.sk-toggleable__label {cursor: pointer;display: block;width: 100%;margin-bottom: 0;padding: 0.3em;box-sizing: border-box;text-align: center;}#sk-container-id-1 label.sk-toggleable__label-arrow:before {content: \"▸\";float: left;margin-right: 0.25em;color: #696969;}#sk-container-id-1 label.sk-toggleable__label-arrow:hover:before {color: black;}#sk-container-id-1 div.sk-estimator:hover label.sk-toggleable__label-arrow:before {color: black;}#sk-container-id-1 div.sk-toggleable__content {max-height: 0;max-width: 0;overflow: hidden;text-align: left;background-color: #f0f8ff;}#sk-container-id-1 div.sk-toggleable__content pre {margin: 0.2em;color: black;border-radius: 0.25em;background-color: #f0f8ff;}#sk-container-id-1 input.sk-toggleable__control:checked~div.sk-toggleable__content {max-height: 200px;max-width: 100%;overflow: auto;}#sk-container-id-1 input.sk-toggleable__control:checked~label.sk-toggleable__label-arrow:before {content: \"▾\";}#sk-container-id-1 div.sk-estimator input.sk-toggleable__control:checked~label.sk-toggleable__label {background-color: #d4ebff;}#sk-container-id-1 div.sk-label input.sk-toggleable__control:checked~label.sk-toggleable__label {background-color: #d4ebff;}#sk-container-id-1 input.sk-hidden--visually {border: 0;clip: rect(1px 1px 1px 1px);clip: rect(1px, 1px, 1px, 1px);height: 1px;margin: -1px;overflow: hidden;padding: 0;position: absolute;width: 1px;}#sk-container-id-1 div.sk-estimator {font-family: monospace;background-color: #f0f8ff;border: 1px dotted black;border-radius: 0.25em;box-sizing: border-box;margin-bottom: 0.5em;}#sk-container-id-1 div.sk-estimator:hover {background-color: #d4ebff;}#sk-container-id-1 div.sk-parallel-item::after {content: \"\";width: 100%;border-bottom: 1px solid gray;flex-grow: 1;}#sk-container-id-1 div.sk-label:hover label.sk-toggleable__label {background-color: #d4ebff;}#sk-container-id-1 div.sk-serial::before {content: \"\";position: absolute;border-left: 1px solid gray;box-sizing: border-box;top: 0;bottom: 0;left: 50%;z-index: 0;}#sk-container-id-1 div.sk-serial {display: flex;flex-direction: column;align-items: center;background-color: white;padding-right: 0.2em;padding-left: 0.2em;position: relative;}#sk-container-id-1 div.sk-item {position: relative;z-index: 1;}#sk-container-id-1 div.sk-parallel {display: flex;align-items: stretch;justify-content: center;background-color: white;position: relative;}#sk-container-id-1 div.sk-item::before, #sk-container-id-1 div.sk-parallel-item::before {content: \"\";position: absolute;border-left: 1px solid gray;box-sizing: border-box;top: 0;bottom: 0;left: 50%;z-index: -1;}#sk-container-id-1 div.sk-parallel-item {display: flex;flex-direction: column;z-index: 1;position: relative;background-color: white;}#sk-container-id-1 div.sk-parallel-item:first-child::after {align-self: flex-end;width: 50%;}#sk-container-id-1 div.sk-parallel-item:last-child::after {align-self: flex-start;width: 50%;}#sk-container-id-1 div.sk-parallel-item:only-child::after {width: 0;}#sk-container-id-1 div.sk-dashed-wrapped {border: 1px dashed gray;margin: 0 0.4em 0.5em 0.4em;box-sizing: border-box;padding-bottom: 0.4em;background-color: white;}#sk-container-id-1 div.sk-label label {font-family: monospace;font-weight: bold;display: inline-block;line-height: 1.2em;}#sk-container-id-1 div.sk-label-container {text-align: center;}#sk-container-id-1 div.sk-container {/* jupyter's `normalize.less` sets `[hidden] { display: none; }` but bootstrap.min.css set `[hidden] { display: none !important; }` so we also need the `!important` here to be able to override the default hidden behavior on the sphinx rendered scikit-learn.org. See: https://github.com/scikit-learn/scikit-learn/issues/21755 */display: inline-block !important;position: relative;}#sk-container-id-1 div.sk-text-repr-fallback {display: none;}</style><div id=\"sk-container-id-1\" class=\"sk-top-container\"><div class=\"sk-text-repr-fallback\"><pre>GridSearchCV(cv=2,\n",
       "             estimator=StackingCVClassifier(classifiers=[GaussianNB(),\n",
       "                                                         LinearSVC(C=1,\n",
       "                                                                   random_state=30027),\n",
       "                                                         LogisticRegression(solver=&#x27;sag&#x27;),\n",
       "                                                         DecisionTreeClassifier(max_depth=200,\n",
       "                                                                                random_state=30027),\n",
       "                                                         KNeighborsClassifier(n_neighbors=1)],\n",
       "                                            meta_classifier=LogisticRegression(),\n",
       "                                            random_state=30027),\n",
       "             param_grid={&#x27;decisiontreeclassifier__max_depth&#x27;: range(200, 401, 50),\n",
       "                         &#x27;kneighborsclassifier__n_neighbors&#x27;: range(1, 6),\n",
       "                         &#x27;linearsvc__C&#x27;: range(1, 11, 5)},\n",
       "             scoring=&#x27;accuracy&#x27;)</pre><b>In a Jupyter environment, please rerun this cell to show the HTML representation or trust the notebook. <br />On GitHub, the HTML representation is unable to render, please try loading this page with nbviewer.org.</b></div><div class=\"sk-container\" hidden><div class=\"sk-item sk-dashed-wrapped\"><div class=\"sk-label-container\"><div class=\"sk-label sk-toggleable\"><input class=\"sk-toggleable__control sk-hidden--visually\" id=\"sk-estimator-id-1\" type=\"checkbox\" ><label for=\"sk-estimator-id-1\" class=\"sk-toggleable__label sk-toggleable__label-arrow\">GridSearchCV</label><div class=\"sk-toggleable__content\"><pre>GridSearchCV(cv=2,\n",
       "             estimator=StackingCVClassifier(classifiers=[GaussianNB(),\n",
       "                                                         LinearSVC(C=1,\n",
       "                                                                   random_state=30027),\n",
       "                                                         LogisticRegression(solver=&#x27;sag&#x27;),\n",
       "                                                         DecisionTreeClassifier(max_depth=200,\n",
       "                                                                                random_state=30027),\n",
       "                                                         KNeighborsClassifier(n_neighbors=1)],\n",
       "                                            meta_classifier=LogisticRegression(),\n",
       "                                            random_state=30027),\n",
       "             param_grid={&#x27;decisiontreeclassifier__max_depth&#x27;: range(200, 401, 50),\n",
       "                         &#x27;kneighborsclassifier__n_neighbors&#x27;: range(1, 6),\n",
       "                         &#x27;linearsvc__C&#x27;: range(1, 11, 5)},\n",
       "             scoring=&#x27;accuracy&#x27;)</pre></div></div></div><div class=\"sk-parallel\"><div class=\"sk-parallel-item\"><div class=\"sk-item\"><div class=\"sk-label-container\"><div class=\"sk-label sk-toggleable\"><input class=\"sk-toggleable__control sk-hidden--visually\" id=\"sk-estimator-id-2\" type=\"checkbox\" ><label for=\"sk-estimator-id-2\" class=\"sk-toggleable__label sk-toggleable__label-arrow\">estimator: StackingCVClassifier</label><div class=\"sk-toggleable__content\"><pre>StackingCVClassifier(classifiers=[GaussianNB(),\n",
       "                                  LinearSVC(C=1, random_state=30027),\n",
       "                                  LogisticRegression(solver=&#x27;sag&#x27;),\n",
       "                                  DecisionTreeClassifier(max_depth=200,\n",
       "                                                         random_state=30027),\n",
       "                                  KNeighborsClassifier(n_neighbors=1)],\n",
       "                     meta_classifier=LogisticRegression(), random_state=30027)</pre></div></div></div><div class=\"sk-serial\"><div class=\"sk-item sk-dashed-wrapped\"><div class=\"sk-parallel\"><div class=\"sk-parallel-item\"><div class=\"sk-item\"><div class=\"sk-label-container\"><div class=\"sk-label sk-toggleable\"><input class=\"sk-toggleable__control sk-hidden--visually\" id=\"sk-estimator-id-3\" type=\"checkbox\" ><label for=\"sk-estimator-id-3\" class=\"sk-toggleable__label sk-toggleable__label-arrow\">meta_classifier: LogisticRegression</label><div class=\"sk-toggleable__content\"><pre>LogisticRegression()</pre></div></div></div><div class=\"sk-serial\"><div class=\"sk-item\"><div class=\"sk-estimator sk-toggleable\"><input class=\"sk-toggleable__control sk-hidden--visually\" id=\"sk-estimator-id-4\" type=\"checkbox\" ><label for=\"sk-estimator-id-4\" class=\"sk-toggleable__label sk-toggleable__label-arrow\">LogisticRegression</label><div class=\"sk-toggleable__content\"><pre>LogisticRegression()</pre></div></div></div></div></div></div></div></div></div></div></div></div></div></div></div>"
      ],
      "text/plain": [
       "GridSearchCV(cv=2,\n",
       "             estimator=StackingCVClassifier(classifiers=[GaussianNB(),\n",
       "                                                         LinearSVC(C=1,\n",
       "                                                                   random_state=30027),\n",
       "                                                         LogisticRegression(solver='sag'),\n",
       "                                                         DecisionTreeClassifier(max_depth=200,\n",
       "                                                                                random_state=30027),\n",
       "                                                         KNeighborsClassifier(n_neighbors=1)],\n",
       "                                            meta_classifier=LogisticRegression(),\n",
       "                                            random_state=30027),\n",
       "             param_grid={'decisiontreeclassifier__max_depth': range(200, 401, 50),\n",
       "                         'kneighborsclassifier__n_neighbors': range(1, 6),\n",
       "                         'linearsvc__C': range(1, 11, 5)},\n",
       "             scoring='accuracy')"
      ]
     },
     "execution_count": 23,
     "metadata": {},
     "output_type": "execute_result"
    }
   ],
   "source": [
    "grid"
   ]
  },
  {
   "cell_type": "code",
   "execution_count": null,
   "id": "b9c3b609",
   "metadata": {},
   "outputs": [],
   "source": []
  }
 ],
 "metadata": {
  "kernelspec": {
   "display_name": "Python 3",
   "language": "python",
   "name": "python3"
  }
 },
 "nbformat": 4,
 "nbformat_minor": 5
}
