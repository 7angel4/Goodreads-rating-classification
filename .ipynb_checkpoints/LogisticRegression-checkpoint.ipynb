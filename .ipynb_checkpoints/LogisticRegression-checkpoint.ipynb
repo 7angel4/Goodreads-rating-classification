{
 "cells": [
  {
   "cell_type": "code",
   "execution_count": 10,
   "id": "35ba1369",
   "metadata": {},
   "outputs": [],
   "source": [
    "%run Global.ipynb\n",
    "%run Helper_Functions.ipynb"
   ]
  },
  {
   "cell_type": "code",
   "execution_count": 2,
   "id": "8177f0a0",
   "metadata": {},
   "outputs": [],
   "source": [
    "train_df_ohe_selected = pd.read_csv(DATASET_DIR + \"/train_df_ohe_selected_50.csv\", keep_default_na=False)\n",
    "\n",
    "y = train_df_ohe_selected.iloc[:,-1]\n",
    "X = train_df_ohe_selected.iloc[:,:-1]"
   ]
  },
  {
   "cell_type": "markdown",
   "id": "1de03bb0",
   "metadata": {},
   "source": [
    "# Logistic Regression"
   ]
  },
  {
   "cell_type": "code",
   "execution_count": 3,
   "id": "1791ad42",
   "metadata": {},
   "outputs": [],
   "source": [
    "from sklearn.linear_model import LogisticRegression\n",
    "\n",
    "logr = LogisticRegression(solver='sag') # uses Stochastic Average Gradient descent solver"
   ]
  },
  {
   "cell_type": "code",
   "execution_count": 4,
   "id": "3f696512",
   "metadata": {},
   "outputs": [
    {
     "name": "stdout",
     "output_type": "stream",
     "text": [
      "Fitting 3 folds for each of 5 candidates, totalling 15 fits\n",
      "[CV] END .......................................max_iter=100; total time=  24.0s\n",
      "[CV] END .......................................max_iter=100; total time=  23.3s\n",
      "[CV] END .......................................max_iter=100; total time=  22.3s\n",
      "[CV] END .......................................max_iter=500; total time=  57.7s\n",
      "[CV] END .......................................max_iter=500; total time= 1.0min\n",
      "[CV] END .......................................max_iter=500; total time=  59.9s\n",
      "[CV] END ......................................max_iter=1000; total time=  59.7s\n",
      "[CV] END ......................................max_iter=1000; total time=  58.3s\n",
      "[CV] END ......................................max_iter=1000; total time= 1.1min\n",
      "[CV] END ......................................max_iter=5000; total time=  57.4s\n",
      "[CV] END ......................................max_iter=5000; total time= 1.0min\n",
      "[CV] END ......................................max_iter=5000; total time=  55.1s\n",
      "[CV] END .....................................max_iter=10000; total time=  54.3s\n",
      "[CV] END .....................................max_iter=10000; total time=  52.3s\n",
      "[CV] END .....................................max_iter=10000; total time=  57.5s\n"
     ]
    },
    {
     "data": {
      "text/html": [
       "<div>\n",
       "<style scoped>\n",
       "    .dataframe tbody tr th:only-of-type {\n",
       "        vertical-align: middle;\n",
       "    }\n",
       "\n",
       "    .dataframe tbody tr th {\n",
       "        vertical-align: top;\n",
       "    }\n",
       "\n",
       "    .dataframe thead th {\n",
       "        text-align: right;\n",
       "    }\n",
       "</style>\n",
       "<table border=\"1\" class=\"dataframe\">\n",
       "  <thead>\n",
       "    <tr style=\"text-align: right;\">\n",
       "      <th></th>\n",
       "      <th>params</th>\n",
       "      <th>mean_test_3.0_precision</th>\n",
       "      <th>std_test_3.0_precision</th>\n",
       "      <th>rank_test_3.0_precision</th>\n",
       "      <th>mean_test_3.0_recall</th>\n",
       "      <th>std_test_3.0_recall</th>\n",
       "      <th>rank_test_3.0_recall</th>\n",
       "      <th>mean_test_3.0_f1-score</th>\n",
       "      <th>std_test_3.0_f1-score</th>\n",
       "      <th>rank_test_3.0_f1-score</th>\n",
       "      <th>...</th>\n",
       "      <th>rank_test_5.0_precision</th>\n",
       "      <th>mean_test_5.0_recall</th>\n",
       "      <th>std_test_5.0_recall</th>\n",
       "      <th>rank_test_5.0_recall</th>\n",
       "      <th>mean_test_5.0_f1-score</th>\n",
       "      <th>std_test_5.0_f1-score</th>\n",
       "      <th>rank_test_5.0_f1-score</th>\n",
       "      <th>mean_test_accuracy</th>\n",
       "      <th>std_test_accuracy</th>\n",
       "      <th>rank_test_accuracy</th>\n",
       "    </tr>\n",
       "  </thead>\n",
       "  <tbody>\n",
       "    <tr>\n",
       "      <th>0</th>\n",
       "      <td>{'max_iter': 100}</td>\n",
       "      <td>0.640168</td>\n",
       "      <td>0.023794</td>\n",
       "      <td>5</td>\n",
       "      <td>0.174112</td>\n",
       "      <td>0.003730</td>\n",
       "      <td>5</td>\n",
       "      <td>0.273628</td>\n",
       "      <td>0.003351</td>\n",
       "      <td>5</td>\n",
       "      <td>...</td>\n",
       "      <td>1</td>\n",
       "      <td>0.076685</td>\n",
       "      <td>0.009323</td>\n",
       "      <td>5</td>\n",
       "      <td>0.139876</td>\n",
       "      <td>0.015261</td>\n",
       "      <td>5</td>\n",
       "      <td>0.725708</td>\n",
       "      <td>0.002072</td>\n",
       "      <td>5</td>\n",
       "    </tr>\n",
       "    <tr>\n",
       "      <th>1</th>\n",
       "      <td>{'max_iter': 500}</td>\n",
       "      <td>0.642475</td>\n",
       "      <td>0.025167</td>\n",
       "      <td>1</td>\n",
       "      <td>0.177524</td>\n",
       "      <td>0.002517</td>\n",
       "      <td>1</td>\n",
       "      <td>0.278087</td>\n",
       "      <td>0.003283</td>\n",
       "      <td>1</td>\n",
       "      <td>...</td>\n",
       "      <td>2</td>\n",
       "      <td>0.079713</td>\n",
       "      <td>0.007083</td>\n",
       "      <td>1</td>\n",
       "      <td>0.144423</td>\n",
       "      <td>0.011297</td>\n",
       "      <td>1</td>\n",
       "      <td>0.726358</td>\n",
       "      <td>0.002341</td>\n",
       "      <td>1</td>\n",
       "    </tr>\n",
       "    <tr>\n",
       "      <th>2</th>\n",
       "      <td>{'max_iter': 1000}</td>\n",
       "      <td>0.642475</td>\n",
       "      <td>0.025167</td>\n",
       "      <td>1</td>\n",
       "      <td>0.177524</td>\n",
       "      <td>0.002517</td>\n",
       "      <td>1</td>\n",
       "      <td>0.278087</td>\n",
       "      <td>0.003283</td>\n",
       "      <td>1</td>\n",
       "      <td>...</td>\n",
       "      <td>2</td>\n",
       "      <td>0.079713</td>\n",
       "      <td>0.007083</td>\n",
       "      <td>1</td>\n",
       "      <td>0.144423</td>\n",
       "      <td>0.011297</td>\n",
       "      <td>1</td>\n",
       "      <td>0.726358</td>\n",
       "      <td>0.002341</td>\n",
       "      <td>1</td>\n",
       "    </tr>\n",
       "    <tr>\n",
       "      <th>3</th>\n",
       "      <td>{'max_iter': 5000}</td>\n",
       "      <td>0.642475</td>\n",
       "      <td>0.025167</td>\n",
       "      <td>1</td>\n",
       "      <td>0.177524</td>\n",
       "      <td>0.002517</td>\n",
       "      <td>1</td>\n",
       "      <td>0.278087</td>\n",
       "      <td>0.003283</td>\n",
       "      <td>1</td>\n",
       "      <td>...</td>\n",
       "      <td>2</td>\n",
       "      <td>0.079713</td>\n",
       "      <td>0.007083</td>\n",
       "      <td>1</td>\n",
       "      <td>0.144423</td>\n",
       "      <td>0.011297</td>\n",
       "      <td>1</td>\n",
       "      <td>0.726358</td>\n",
       "      <td>0.002341</td>\n",
       "      <td>1</td>\n",
       "    </tr>\n",
       "    <tr>\n",
       "      <th>4</th>\n",
       "      <td>{'max_iter': 10000}</td>\n",
       "      <td>0.642475</td>\n",
       "      <td>0.025167</td>\n",
       "      <td>1</td>\n",
       "      <td>0.177524</td>\n",
       "      <td>0.002517</td>\n",
       "      <td>1</td>\n",
       "      <td>0.278087</td>\n",
       "      <td>0.003283</td>\n",
       "      <td>1</td>\n",
       "      <td>...</td>\n",
       "      <td>2</td>\n",
       "      <td>0.079713</td>\n",
       "      <td>0.007083</td>\n",
       "      <td>1</td>\n",
       "      <td>0.144423</td>\n",
       "      <td>0.011297</td>\n",
       "      <td>1</td>\n",
       "      <td>0.726358</td>\n",
       "      <td>0.002341</td>\n",
       "      <td>1</td>\n",
       "    </tr>\n",
       "  </tbody>\n",
       "</table>\n",
       "<p>5 rows × 31 columns</p>\n",
       "</div>"
      ],
      "text/plain": [
       "                params  mean_test_3.0_precision  std_test_3.0_precision  \\\n",
       "0    {'max_iter': 100}                 0.640168                0.023794   \n",
       "1    {'max_iter': 500}                 0.642475                0.025167   \n",
       "2   {'max_iter': 1000}                 0.642475                0.025167   \n",
       "3   {'max_iter': 5000}                 0.642475                0.025167   \n",
       "4  {'max_iter': 10000}                 0.642475                0.025167   \n",
       "\n",
       "   rank_test_3.0_precision  mean_test_3.0_recall  std_test_3.0_recall  \\\n",
       "0                        5              0.174112             0.003730   \n",
       "1                        1              0.177524             0.002517   \n",
       "2                        1              0.177524             0.002517   \n",
       "3                        1              0.177524             0.002517   \n",
       "4                        1              0.177524             0.002517   \n",
       "\n",
       "   rank_test_3.0_recall  mean_test_3.0_f1-score  std_test_3.0_f1-score  \\\n",
       "0                     5                0.273628               0.003351   \n",
       "1                     1                0.278087               0.003283   \n",
       "2                     1                0.278087               0.003283   \n",
       "3                     1                0.278087               0.003283   \n",
       "4                     1                0.278087               0.003283   \n",
       "\n",
       "   rank_test_3.0_f1-score  ...  rank_test_5.0_precision  mean_test_5.0_recall  \\\n",
       "0                       5  ...                        1              0.076685   \n",
       "1                       1  ...                        2              0.079713   \n",
       "2                       1  ...                        2              0.079713   \n",
       "3                       1  ...                        2              0.079713   \n",
       "4                       1  ...                        2              0.079713   \n",
       "\n",
       "   std_test_5.0_recall  rank_test_5.0_recall  mean_test_5.0_f1-score  \\\n",
       "0             0.009323                     5                0.139876   \n",
       "1             0.007083                     1                0.144423   \n",
       "2             0.007083                     1                0.144423   \n",
       "3             0.007083                     1                0.144423   \n",
       "4             0.007083                     1                0.144423   \n",
       "\n",
       "   std_test_5.0_f1-score  rank_test_5.0_f1-score  mean_test_accuracy  \\\n",
       "0               0.015261                       5            0.725708   \n",
       "1               0.011297                       1            0.726358   \n",
       "2               0.011297                       1            0.726358   \n",
       "3               0.011297                       1            0.726358   \n",
       "4               0.011297                       1            0.726358   \n",
       "\n",
       "   std_test_accuracy  rank_test_accuracy  \n",
       "0           0.002072                   5  \n",
       "1           0.002341                   1  \n",
       "2           0.002341                   1  \n",
       "3           0.002341                   1  \n",
       "4           0.002341                   1  \n",
       "\n",
       "[5 rows x 31 columns]"
      ]
     },
     "execution_count": 4,
     "metadata": {},
     "output_type": "execute_result"
    }
   ],
   "source": [
    "param_grid = {'max_iter': [100, 500, 1000, 5000, 10000]}\n",
    "cv_results = tune_hyperparameter(logr, param_grid, X, y, cv=3)\n",
    "cv_results\n",
    "# max_iter>=500 works well"
   ]
  },
  {
   "cell_type": "code",
   "execution_count": 11,
   "id": "7417a6ae",
   "metadata": {},
   "outputs": [
    {
     "name": "stdout",
     "output_type": "stream",
     "text": [
      "LogisticRegression prediction took 712.9868836402893 seconds\n",
      "   test_3.0_f1-score  test_4.0_f1-score  test_5.0_f1-score  test_accuracy\n",
      "0           0.327411           0.834095           0.112150       0.730819\n",
      "1           0.296395           0.836441           0.198198       0.733420\n",
      "2           0.309524           0.836490           0.146789       0.733853\n",
      "3           0.269333           0.831197           0.186441       0.723330\n",
      "4           0.330709           0.839797           0.162162       0.739376\n",
      "5           0.289544           0.834356           0.205128       0.730269\n",
      "6           0.271739           0.834131           0.210526       0.728968\n",
      "7           0.313316           0.835877           0.162162       0.732871\n",
      "8           0.319372           0.836052           0.146789       0.734172\n",
      "9           0.291391           0.833556           0.175439       0.728534\n"
     ]
    },
    {
     "data": {
      "image/png": "[encoded data removed]",
      "text/plain": [
       "<Figure size 640x480 with 2 Axes>"
      ]
     },
     "metadata": {},
     "output_type": "display_data"
    },
    {
     "data": {
      "text/plain": [
       "test_3.0_f1-score    0.301873\n",
       "test_4.0_f1-score    0.835199\n",
       "test_5.0_f1-score    0.170578\n",
       "test_accuracy        0.731561\n",
       "dtype: float64"
      ]
     },
     "execution_count": 11,
     "metadata": {},
     "output_type": "execute_result"
    }
   ],
   "source": [
    "logr = LogisticRegression(solver='sag', max_iter=500)\n",
    "logr.fit(X, y)\n",
    "cross_val_report(logr, X, y)[1]"
   ]
  },
  {
   "cell_type": "markdown",
   "id": "814b6764",
   "metadata": {},
   "source": [
    "## Attempt 2: Using selected features"
   ]
  },
  {
   "cell_type": "code",
   "execution_count": 7,
   "id": "7c7193ba",
   "metadata": {},
   "outputs": [
    {
     "name": "stdout",
     "output_type": "stream",
     "text": [
      "LogR Coefficients: [[ 1.54518127e-01  6.12582551e-04  8.53862905e-03 ... -9.12152320e-01\n",
      "   2.04850573e-02 -4.09339842e-01]\n",
      " [-7.96590574e-02 -6.42632613e-03  2.60083124e-03 ...  5.24515537e-01\n",
      "  -2.32115472e-01 -2.91961994e-01]\n",
      " [-7.48590694e-02  5.81374358e-03 -1.11394603e-02 ...  3.87636783e-01\n",
      "   2.11630415e-01  7.01301836e-01]]\n",
      "Selector threshold: 1.355189068696132\n",
      "529 features selected\n"
     ]
    }
   ],
   "source": [
    "selector = SelectFromModel(logr, prefit=True).fit(X, y)\n",
    "print(\"LogR Coefficients:\", selector.estimator_.coef_)\n",
    "print(\"Selector threshold:\", selector.threshold_)\n",
    "selected_features = [X.columns[i] for i in range(X.shape[1]) if selector.get_support()[i]]\n",
    "print(len(selected_features), \"features selected\")\n",
    "X_filtered = X[selected_features]"
   ]
  },
  {
   "cell_type": "code",
   "execution_count": 12,
   "id": "02c20276",
   "metadata": {},
   "outputs": [
    {
     "name": "stdout",
     "output_type": "stream",
     "text": [
      "LogisticRegression prediction took 49.143908977508545 seconds\n",
      "   test_3.0_f1-score  test_4.0_f1-score  test_5.0_f1-score  test_accuracy\n",
      "0           0.297814           0.839343           0.145455       0.736888\n",
      "1           0.279070           0.836605           0.194690       0.732553\n",
      "2           0.298050           0.842884           0.146789       0.741656\n",
      "3           0.228898           0.833816           0.189655       0.725932\n",
      "4           0.297931           0.841186           0.146789       0.739376\n",
      "5           0.253879           0.837602           0.241379       0.732871\n",
      "6           0.248217           0.837589           0.196429       0.732437\n",
      "7           0.271468           0.837924           0.210526       0.733738\n",
      "8           0.299040           0.840710           0.181818       0.739376\n",
      "9           0.260504           0.837209           0.192982       0.732003\n"
     ]
    },
    {
     "data": {
      "image/png": "[encoded data removed]",
      "text/plain": [
       "<Figure size 640x480 with 2 Axes>"
      ]
     },
     "metadata": {},
     "output_type": "display_data"
    },
    {
     "data": {
      "text/plain": [
       "test_3.0_f1-score    0.273487\n",
       "test_4.0_f1-score    0.838487\n",
       "test_5.0_f1-score    0.184651\n",
       "test_accuracy        0.734683\n",
       "dtype: float64"
      ]
     },
     "execution_count": 12,
     "metadata": {},
     "output_type": "execute_result"
    }
   ],
   "source": [
    "logr.fit(X_filtered, y)\n",
    "cross_val_report(logr, X_filtered, y)[1]"
   ]
  },
  {
   "cell_type": "markdown",
   "id": "35a7331d",
   "metadata": {},
   "source": [
    "## Attempt 3: Applying Dimensionality Reduction"
   ]
  },
  {
   "cell_type": "code",
   "execution_count": 19,
   "id": "2c56923c",
   "metadata": {},
   "outputs": [
    {
     "data": {
      "text/plain": [
       "array([[-1.19947790e-01, -8.69759765e-03, -1.09798960e-02, ...,\n",
       "        -1.27806630e-03, -1.24566620e-03, -1.01259883e-03],\n",
       "       [-1.19947790e-01, -8.69759765e-03, -1.09798960e-02, ...,\n",
       "        -1.27806630e-03, -1.24566620e-03, -1.01259883e-03],\n",
       "       [-1.19947790e-01, -8.69759765e-03, -1.09798960e-02, ...,\n",
       "        -1.27806630e-03, -1.24566620e-03, -1.01259883e-03],\n",
       "       ...,\n",
       "       [-1.21635337e-01, -1.25907863e-02, -1.56583894e-02, ...,\n",
       "        -5.20439728e-03, -6.73812194e-03,  2.39107414e-02],\n",
       "       [ 8.79774868e-01, -9.61221268e-04, -6.47617496e-03, ...,\n",
       "         1.04171491e-04, -2.19153872e-04, -7.96380835e-04],\n",
       "       [-1.19947790e-01, -8.69759765e-03, -1.09798960e-02, ...,\n",
       "        -1.27806630e-03, -1.24566620e-03, -1.01259883e-03]])"
      ]
     },
     "execution_count": 19,
     "metadata": {},
     "output_type": "execute_result"
    }
   ],
   "source": [
    "from sklearn.decomposition import PCA\n",
    "\n",
    "reducer = PCA(n_components=100, random_state=30027)\n",
    "X_reduced = reducer.fit_transform(X_filtered)\n",
    "X_reduced"
   ]
  },
  {
   "cell_type": "code",
   "execution_count": 20,
   "id": "a7c75aa6",
   "metadata": {},
   "outputs": [
    {
     "name": "stdout",
     "output_type": "stream",
     "text": [
      "LogisticRegression prediction took 8.614380121231079 seconds\n",
      "   test_3.0_f1-score  test_4.0_f1-score  test_5.0_f1-score  test_accuracy\n",
      "0           0.111455           0.826087           0.038462       0.708279\n",
      "1           0.095532           0.822919           0.111111       0.703945\n",
      "2           0.100313           0.826143           0.057143       0.708279\n",
      "3           0.107858           0.826031           0.113208       0.708586\n",
      "4           0.114551           0.829104           0.096154       0.712489\n",
      "5           0.092736           0.823865           0.163636       0.705551\n",
      "6           0.091627           0.827355           0.096154       0.709887\n",
      "7           0.091052           0.824806           0.057143       0.705984\n",
      "8           0.110260           0.824689           0.077670       0.706852\n",
      "9           0.102484           0.825602           0.110092       0.707719\n"
     ]
    },
    {
     "data": {
      "image/png": "[encoded data removed]",
      "text/plain": [
       "<Figure size 640x480 with 2 Axes>"
      ]
     },
     "metadata": {},
     "output_type": "display_data"
    },
    {
     "data": {
      "text/plain": [
       "test_3.0_f1-score    0.101787\n",
       "test_4.0_f1-score    0.825660\n",
       "test_5.0_f1-score    0.092077\n",
       "test_accuracy        0.707757\n",
       "dtype: float64"
      ]
     },
     "execution_count": 20,
     "metadata": {},
     "output_type": "execute_result"
    }
   ],
   "source": [
    "logr.fit(X_reduced, y)\n",
    "cross_val_report(logr, X_reduced, y)[1]"
   ]
  },
  {
   "cell_type": "code",
   "execution_count": null,
   "id": "b355a719",
   "metadata": {},
   "outputs": [],
   "source": [
    "# Dimensionality reduction doesn't work well - Let's retain the original features"
   ]
  }
 ],
 "metadata": {
  "kernelspec": {
   "display_name": "Python 3 (ipykernel)",
   "language": "python",
   "name": "python3"
  },
  "language_info": {
   "codemirror_mode": {
    "name": "ipython",
    "version": 3
   },
   "file_extension": ".py",
   "mimetype": "text/x-python",
   "name": "python",
   "nbconvert_exporter": "python",
   "pygments_lexer": "ipython3",
   "version": "3.9.16"
  }
 },
 "nbformat": 4,
 "nbformat_minor": 5
}
