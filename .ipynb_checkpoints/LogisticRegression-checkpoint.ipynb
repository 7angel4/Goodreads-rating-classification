{
 "cells": [
  {
   "cell_type": "code",
   "execution_count": 1,
   "id": "35ba1369",
   "metadata": {},
   "outputs": [],
   "source": [
    "%run Global.ipynb\n",
    "%run Helper_Functions.ipynb"
   ]
  },
  {
   "cell_type": "code",
   "execution_count": 2,
   "id": "8177f0a0",
   "metadata": {},
   "outputs": [],
   "source": [
    "train_df_ohe_selected = pd.read_csv(DATASET_DIR + \"/train_df_ohe_selected_200.csv\", keep_default_na=False)\n",
    "\n",
    "y = train_df_ohe_selected.iloc[:,-1]\n",
    "X = train_df_ohe_selected.iloc[:,:-1]"
   ]
  },
  {
   "cell_type": "markdown",
   "id": "1de03bb0",
   "metadata": {},
   "source": [
    "# Logistic Regression"
   ]
  },
  {
   "cell_type": "code",
   "execution_count": 3,
   "id": "1791ad42",
   "metadata": {},
   "outputs": [],
   "source": [
    "from sklearn.linear_model import LogisticRegression\n",
    "\n",
    "logr = LogisticRegression(solver='sag') # uses Stochastic Average Gradient descent solver"
   ]
  },
  {
   "cell_type": "code",
   "execution_count": 4,
   "id": "3f696512",
   "metadata": {},
   "outputs": [
    {
     "name": "stdout",
     "output_type": "stream",
     "text": [
      "Fitting 3 folds for each of 5 candidates, totalling 15 fits\n",
      "[CV] END .......................................max_iter=100; total time=  12.2s\n",
      "[CV] END .......................................max_iter=100; total time=  12.2s\n",
      "[CV] END .......................................max_iter=100; total time=  12.1s\n",
      "[CV] END .......................................max_iter=500; total time=  31.3s\n",
      "[CV] END .......................................max_iter=500; total time=  32.2s\n",
      "[CV] END .......................................max_iter=500; total time=  33.3s\n",
      "[CV] END ......................................max_iter=1000; total time=  30.6s\n",
      "[CV] END ......................................max_iter=1000; total time=  31.7s\n",
      "[CV] END ......................................max_iter=1000; total time=  32.8s\n",
      "[CV] END ......................................max_iter=5000; total time=  30.8s\n",
      "[CV] END ......................................max_iter=5000; total time=  31.8s\n",
      "[CV] END ......................................max_iter=5000; total time=  33.1s\n",
      "[CV] END .....................................max_iter=10000; total time=  31.2s\n",
      "[CV] END .....................................max_iter=10000; total time=  32.3s\n",
      "[CV] END .....................................max_iter=10000; total time=  33.7s\n"
     ]
    },
    {
     "data": {
      "text/html": [
       "<div>\n",
       "<style scoped>\n",
       "    .dataframe tbody tr th:only-of-type {\n",
       "        vertical-align: middle;\n",
       "    }\n",
       "\n",
       "    .dataframe tbody tr th {\n",
       "        vertical-align: top;\n",
       "    }\n",
       "\n",
       "    .dataframe thead th {\n",
       "        text-align: right;\n",
       "    }\n",
       "</style>\n",
       "<table border=\"1\" class=\"dataframe\">\n",
       "  <thead>\n",
       "    <tr style=\"text-align: right;\">\n",
       "      <th></th>\n",
       "      <th>params</th>\n",
       "      <th>mean_test_3.0_precision</th>\n",
       "      <th>std_test_3.0_precision</th>\n",
       "      <th>rank_test_3.0_precision</th>\n",
       "      <th>mean_test_3.0_recall</th>\n",
       "      <th>std_test_3.0_recall</th>\n",
       "      <th>rank_test_3.0_recall</th>\n",
       "      <th>mean_test_3.0_f1-score</th>\n",
       "      <th>std_test_3.0_f1-score</th>\n",
       "      <th>rank_test_3.0_f1-score</th>\n",
       "      <th>...</th>\n",
       "      <th>rank_test_5.0_precision</th>\n",
       "      <th>mean_test_5.0_recall</th>\n",
       "      <th>std_test_5.0_recall</th>\n",
       "      <th>rank_test_5.0_recall</th>\n",
       "      <th>mean_test_5.0_f1-score</th>\n",
       "      <th>std_test_5.0_f1-score</th>\n",
       "      <th>rank_test_5.0_f1-score</th>\n",
       "      <th>mean_test_accuracy</th>\n",
       "      <th>std_test_accuracy</th>\n",
       "      <th>rank_test_accuracy</th>\n",
       "    </tr>\n",
       "  </thead>\n",
       "  <tbody>\n",
       "    <tr>\n",
       "      <th>0</th>\n",
       "      <td>{'max_iter': 100}</td>\n",
       "      <td>0.689543</td>\n",
       "      <td>0.014776</td>\n",
       "      <td>5</td>\n",
       "      <td>0.158595</td>\n",
       "      <td>0.001943</td>\n",
       "      <td>5</td>\n",
       "      <td>0.257874</td>\n",
       "      <td>0.00359</td>\n",
       "      <td>5</td>\n",
       "      <td>...</td>\n",
       "      <td>5</td>\n",
       "      <td>0.072654</td>\n",
       "      <td>0.009897</td>\n",
       "      <td>5</td>\n",
       "      <td>0.133066</td>\n",
       "      <td>0.017060</td>\n",
       "      <td>5</td>\n",
       "      <td>0.727876</td>\n",
       "      <td>0.001596</td>\n",
       "      <td>5</td>\n",
       "    </tr>\n",
       "    <tr>\n",
       "      <th>1</th>\n",
       "      <td>{'max_iter': 500}</td>\n",
       "      <td>0.694215</td>\n",
       "      <td>0.016714</td>\n",
       "      <td>1</td>\n",
       "      <td>0.162177</td>\n",
       "      <td>0.003605</td>\n",
       "      <td>1</td>\n",
       "      <td>0.262928</td>\n",
       "      <td>0.00589</td>\n",
       "      <td>1</td>\n",
       "      <td>...</td>\n",
       "      <td>1</td>\n",
       "      <td>0.075678</td>\n",
       "      <td>0.008895</td>\n",
       "      <td>1</td>\n",
       "      <td>0.138264</td>\n",
       "      <td>0.015357</td>\n",
       "      <td>1</td>\n",
       "      <td>0.728916</td>\n",
       "      <td>0.001931</td>\n",
       "      <td>1</td>\n",
       "    </tr>\n",
       "    <tr>\n",
       "      <th>2</th>\n",
       "      <td>{'max_iter': 1000}</td>\n",
       "      <td>0.694215</td>\n",
       "      <td>0.016714</td>\n",
       "      <td>1</td>\n",
       "      <td>0.162177</td>\n",
       "      <td>0.003605</td>\n",
       "      <td>1</td>\n",
       "      <td>0.262928</td>\n",
       "      <td>0.00589</td>\n",
       "      <td>1</td>\n",
       "      <td>...</td>\n",
       "      <td>1</td>\n",
       "      <td>0.075678</td>\n",
       "      <td>0.008895</td>\n",
       "      <td>1</td>\n",
       "      <td>0.138264</td>\n",
       "      <td>0.015357</td>\n",
       "      <td>1</td>\n",
       "      <td>0.728916</td>\n",
       "      <td>0.001931</td>\n",
       "      <td>1</td>\n",
       "    </tr>\n",
       "    <tr>\n",
       "      <th>3</th>\n",
       "      <td>{'max_iter': 5000}</td>\n",
       "      <td>0.694215</td>\n",
       "      <td>0.016714</td>\n",
       "      <td>1</td>\n",
       "      <td>0.162177</td>\n",
       "      <td>0.003605</td>\n",
       "      <td>1</td>\n",
       "      <td>0.262928</td>\n",
       "      <td>0.00589</td>\n",
       "      <td>1</td>\n",
       "      <td>...</td>\n",
       "      <td>1</td>\n",
       "      <td>0.075678</td>\n",
       "      <td>0.008895</td>\n",
       "      <td>1</td>\n",
       "      <td>0.138264</td>\n",
       "      <td>0.015357</td>\n",
       "      <td>1</td>\n",
       "      <td>0.728916</td>\n",
       "      <td>0.001931</td>\n",
       "      <td>1</td>\n",
       "    </tr>\n",
       "    <tr>\n",
       "      <th>4</th>\n",
       "      <td>{'max_iter': 10000}</td>\n",
       "      <td>0.694215</td>\n",
       "      <td>0.016714</td>\n",
       "      <td>1</td>\n",
       "      <td>0.162177</td>\n",
       "      <td>0.003605</td>\n",
       "      <td>1</td>\n",
       "      <td>0.262928</td>\n",
       "      <td>0.00589</td>\n",
       "      <td>1</td>\n",
       "      <td>...</td>\n",
       "      <td>1</td>\n",
       "      <td>0.075678</td>\n",
       "      <td>0.008895</td>\n",
       "      <td>1</td>\n",
       "      <td>0.138264</td>\n",
       "      <td>0.015357</td>\n",
       "      <td>1</td>\n",
       "      <td>0.728916</td>\n",
       "      <td>0.001931</td>\n",
       "      <td>1</td>\n",
       "    </tr>\n",
       "  </tbody>\n",
       "</table>\n",
       "<p>5 rows × 31 columns</p>\n",
       "</div>"
      ],
      "text/plain": [
       "                params  mean_test_3.0_precision  std_test_3.0_precision  \\\n",
       "0    {'max_iter': 100}                 0.689543                0.014776   \n",
       "1    {'max_iter': 500}                 0.694215                0.016714   \n",
       "2   {'max_iter': 1000}                 0.694215                0.016714   \n",
       "3   {'max_iter': 5000}                 0.694215                0.016714   \n",
       "4  {'max_iter': 10000}                 0.694215                0.016714   \n",
       "\n",
       "   rank_test_3.0_precision  mean_test_3.0_recall  std_test_3.0_recall  \\\n",
       "0                        5              0.158595             0.001943   \n",
       "1                        1              0.162177             0.003605   \n",
       "2                        1              0.162177             0.003605   \n",
       "3                        1              0.162177             0.003605   \n",
       "4                        1              0.162177             0.003605   \n",
       "\n",
       "   rank_test_3.0_recall  mean_test_3.0_f1-score  std_test_3.0_f1-score  \\\n",
       "0                     5                0.257874                0.00359   \n",
       "1                     1                0.262928                0.00589   \n",
       "2                     1                0.262928                0.00589   \n",
       "3                     1                0.262928                0.00589   \n",
       "4                     1                0.262928                0.00589   \n",
       "\n",
       "   rank_test_3.0_f1-score  ...  rank_test_5.0_precision  mean_test_5.0_recall  \\\n",
       "0                       5  ...                        5              0.072654   \n",
       "1                       1  ...                        1              0.075678   \n",
       "2                       1  ...                        1              0.075678   \n",
       "3                       1  ...                        1              0.075678   \n",
       "4                       1  ...                        1              0.075678   \n",
       "\n",
       "   std_test_5.0_recall  rank_test_5.0_recall  mean_test_5.0_f1-score  \\\n",
       "0             0.009897                     5                0.133066   \n",
       "1             0.008895                     1                0.138264   \n",
       "2             0.008895                     1                0.138264   \n",
       "3             0.008895                     1                0.138264   \n",
       "4             0.008895                     1                0.138264   \n",
       "\n",
       "   std_test_5.0_f1-score  rank_test_5.0_f1-score  mean_test_accuracy  \\\n",
       "0               0.017060                       5            0.727876   \n",
       "1               0.015357                       1            0.728916   \n",
       "2               0.015357                       1            0.728916   \n",
       "3               0.015357                       1            0.728916   \n",
       "4               0.015357                       1            0.728916   \n",
       "\n",
       "   std_test_accuracy  rank_test_accuracy  \n",
       "0           0.001596                   5  \n",
       "1           0.001931                   1  \n",
       "2           0.001931                   1  \n",
       "3           0.001931                   1  \n",
       "4           0.001931                   1  \n",
       "\n",
       "[5 rows x 31 columns]"
      ]
     },
     "execution_count": 4,
     "metadata": {},
     "output_type": "execute_result"
    }
   ],
   "source": [
    "param_grid = {'max_iter': [100, 500, 1000, 5000, 10000]}\n",
    "cv_results = tune_hyperparameter(logr, param_grid, X, y, cv=3)\n",
    "cv_results\n",
    "# max_iter>=500 works well"
   ]
  },
  {
   "cell_type": "code",
   "execution_count": 5,
   "id": "7417a6ae",
   "metadata": {},
   "outputs": [
    {
     "name": "stdout",
     "output_type": "stream",
     "text": [
      "LogisticRegression prediction took 431.0723168849945 seconds.\n",
      "\n",
      "   3.0_precision  3.0_recall  3.0_f1-score  4.0_precision  4.0_recall  \\\n",
      "0       0.680982    0.189097      0.296000       0.734675    0.968538   \n",
      "1       0.689189    0.173765      0.277551       0.733364    0.972239   \n",
      "2       0.679245    0.184300      0.289933       0.733396    0.967304   \n",
      "3       0.668966    0.165529      0.265390       0.732867    0.969772   \n",
      "4       0.756250    0.206485      0.324397       0.739354    0.974707   \n",
      "5       0.676259    0.160410      0.259310       0.730823    0.969772   \n",
      "6       0.708955    0.162116      0.263889       0.730805    0.974707   \n",
      "7       0.732877    0.182594      0.292350       0.735226    0.974707   \n",
      "8       0.704403    0.190801      0.300268       0.734455    0.969753   \n",
      "9       0.696552    0.172061      0.275956       0.733706    0.972840   \n",
      "\n",
      "   4.0_f1-score  5.0_precision  5.0_recall  5.0_f1-score  accuracy  \n",
      "0      0.835551       0.714286    0.050505      0.094340  0.730819  \n",
      "1      0.836074       0.900000    0.090909      0.165138  0.731253  \n",
      "2      0.834264       0.700000    0.070000      0.127273  0.729519  \n",
      "3      0.834838       0.687500    0.111111      0.191304  0.728534  \n",
      "4      0.840873       0.666667    0.060606      0.111111  0.740243  \n",
      "5      0.833510       0.687500    0.111111      0.191304  0.727233  \n",
      "6      0.835316       0.800000    0.080808      0.146789  0.729835  \n",
      "7      0.838196       0.727273    0.080808      0.145455  0.735039  \n",
      "8      0.835861       0.750000    0.060606      0.112150  0.732437  \n",
      "9      0.836518       0.769231    0.101010      0.178571  0.731570  \n"
     ]
    },
    {
     "data": {
      "image/png": "[encoded data removed]",
      "text/plain": [
       "<Figure size 640x480 with 2 Axes>"
      ]
     },
     "metadata": {},
     "output_type": "display_data"
    },
    {
     "data": {
      "text/plain": [
       "3.0_precision    0.699368\n",
       "3.0_recall       0.178716\n",
       "3.0_f1-score     0.284504\n",
       "4.0_precision    0.733867\n",
       "4.0_recall       0.971434\n",
       "4.0_f1-score     0.836100\n",
       "5.0_precision    0.740246\n",
       "5.0_recall       0.081747\n",
       "5.0_f1-score     0.146343\n",
       "accuracy         0.731648\n",
       "dtype: float64"
      ]
     },
     "execution_count": 5,
     "metadata": {},
     "output_type": "execute_result"
    }
   ],
   "source": [
    "logr = LogisticRegression(solver='sag', max_iter=500)\n",
    "logr.fit(X, y)\n",
    "cross_val_report(logr, X, y)[1]"
   ]
  },
  {
   "cell_type": "markdown",
   "id": "814b6764",
   "metadata": {},
   "source": [
    "## Attempt 2: Using selected features"
   ]
  },
  {
   "cell_type": "code",
   "execution_count": 6,
   "id": "7c7193ba",
   "metadata": {},
   "outputs": [
    {
     "name": "stdout",
     "output_type": "stream",
     "text": [
      "LogR Coefficients: [[ 1.55334612e-01 -8.20412329e-04  9.55380834e-03 ... -9.74300423e-01\n",
      "  -3.63660130e-02 -4.20547321e-01]\n",
      " [-8.30170891e-02 -6.75502586e-03  1.45156958e-03 ...  4.92861336e-01\n",
      "  -2.51587016e-01 -2.85289769e-01]\n",
      " [-7.23175229e-02  7.57543819e-03 -1.10053779e-02 ...  4.81439087e-01\n",
      "   2.87953029e-01  7.05837090e-01]]\n",
      "Selector threshold: 1.6444499432300945\n",
      "346 features selected\n"
     ]
    }
   ],
   "source": [
    "selector = SelectFromModel(logr, prefit=True).fit(X, y)\n",
    "print(\"LogR Coefficients:\", selector.estimator_.coef_)\n",
    "print(\"Selector threshold:\", selector.threshold_)\n",
    "selected_features = [X.columns[i] for i in range(X.shape[1]) if selector.get_support()[i]]\n",
    "print(len(selected_features), \"features selected\")\n",
    "X_filtered = X[selected_features]"
   ]
  },
  {
   "cell_type": "code",
   "execution_count": 7,
   "id": "02c20276",
   "metadata": {},
   "outputs": [
    {
     "name": "stdout",
     "output_type": "stream",
     "text": [
      "LogisticRegression prediction took 27.884106397628784 seconds.\n",
      "\n",
      "   3.0_precision  3.0_recall  3.0_f1-score  4.0_precision  4.0_recall  \\\n",
      "0       0.810811    0.153322      0.257880       0.730892    0.985194   \n",
      "1       0.743119    0.137990      0.232759       0.728604    0.982110   \n",
      "2       0.824074    0.151877      0.256484       0.730839    0.988279   \n",
      "3       0.725275    0.112628      0.194978       0.723511    0.981493   \n",
      "4       0.814159    0.156997      0.263233       0.731016    0.985811   \n",
      "5       0.757282    0.133106      0.226415       0.728976    0.983961   \n",
      "6       0.853659    0.119454      0.209581       0.727026    0.990746   \n",
      "7       0.783019    0.141638      0.239884       0.729396    0.982727   \n",
      "8       0.849558    0.163543      0.274286       0.732723    0.988272   \n",
      "9       0.791667    0.129472      0.222548       0.726776    0.985185   \n",
      "\n",
      "   4.0_f1-score  5.0_precision  5.0_recall  5.0_f1-score  accuracy  \n",
      "0      0.839201       0.545455    0.060606      0.109091  0.733853  \n",
      "1      0.836574       0.846154    0.111111      0.196429  0.729952  \n",
      "2      0.840283       0.714286    0.050000      0.093458  0.735154  \n",
      "3      0.832984       0.562500    0.090909      0.156522  0.722463  \n",
      "4      0.839506       0.714286    0.050505      0.094340  0.735039  \n",
      "5      0.837490       0.866667    0.131313      0.228070  0.731136  \n",
      "6      0.838642       0.800000    0.121212      0.210526  0.732003  \n",
      "7      0.837319       0.625000    0.101010      0.173913  0.731136  \n",
      "8      0.841524       0.750000    0.060606      0.112150  0.738508  \n",
      "9      0.836478       0.714286    0.101010      0.176991  0.729402  \n"
     ]
    },
    {
     "data": {
      "image/png": "[encoded data removed]",
      "text/plain": [
       "<Figure size 640x480 with 2 Axes>"
      ]
     },
     "metadata": {},
     "output_type": "display_data"
    },
    {
     "data": {
      "text/plain": [
       "3.0_precision    0.795262\n",
       "3.0_recall       0.140003\n",
       "3.0_f1-score     0.237805\n",
       "4.0_precision    0.728976\n",
       "4.0_recall       0.985378\n",
       "4.0_f1-score     0.838000\n",
       "5.0_precision    0.713863\n",
       "5.0_recall       0.087828\n",
       "5.0_f1-score     0.155149\n",
       "accuracy         0.731865\n",
       "dtype: float64"
      ]
     },
     "execution_count": 7,
     "metadata": {},
     "output_type": "execute_result"
    }
   ],
   "source": [
    "logr.fit(X_filtered, y)\n",
    "cross_val_report(logr, X_filtered, y)[1]"
   ]
  },
  {
   "cell_type": "markdown",
   "id": "35a7331d",
   "metadata": {},
   "source": [
    "## Attempt 3: Applying Dimensionality Reduction"
   ]
  },
  {
   "cell_type": "code",
   "execution_count": 8,
   "id": "2c56923c",
   "metadata": {},
   "outputs": [
    {
     "data": {
      "text/plain": [
       "array([[-9.31296804e-03, -6.32386242e-03, -9.22105306e-03, ...,\n",
       "        -2.63723429e-04, -2.31371686e-04, -8.20818995e-05],\n",
       "       [-9.31296804e-03, -6.32386242e-03, -9.22105306e-03, ...,\n",
       "        -2.63723429e-04, -2.31371686e-04, -8.20818995e-05],\n",
       "       [-9.31296804e-03, -6.32386242e-03, -9.22105306e-03, ...,\n",
       "        -2.63723429e-04, -2.31371686e-04, -8.20818995e-05],\n",
       "       ...,\n",
       "       [-9.31296804e-03, -6.32386242e-03, -9.22105306e-03, ...,\n",
       "        -2.63723429e-04, -2.31371686e-04, -8.20818995e-05],\n",
       "       [-9.31296804e-03, -6.32386242e-03, -9.22105306e-03, ...,\n",
       "        -2.63723429e-04, -2.31371686e-04, -8.20818995e-05],\n",
       "       [-9.31296804e-03, -6.32386242e-03, -9.22105306e-03, ...,\n",
       "        -2.63723429e-04, -2.31371686e-04, -8.20818995e-05]])"
      ]
     },
     "execution_count": 8,
     "metadata": {},
     "output_type": "execute_result"
    }
   ],
   "source": [
    "from sklearn.decomposition import PCA\n",
    "\n",
    "reducer = PCA(n_components=100, random_state=30027)\n",
    "X_reduced = reducer.fit_transform(X_filtered)\n",
    "X_reduced"
   ]
  },
  {
   "cell_type": "code",
   "execution_count": 9,
   "id": "a7c75aa6",
   "metadata": {},
   "outputs": [
    {
     "name": "stdout",
     "output_type": "stream",
     "text": [
      "LogisticRegression prediction took 8.250057220458984 seconds.\n",
      "\n",
      "   3.0_precision  3.0_recall  3.0_f1-score  4.0_precision  4.0_recall  \\\n",
      "0       0.718750    0.078365      0.141321       0.715244    0.987045   \n",
      "1       0.625000    0.068143      0.122888       0.714798    0.983344   \n",
      "2       0.722222    0.066553      0.121875       0.713904    0.988279   \n",
      "3       0.578947    0.056314      0.102644       0.712623    0.982110   \n",
      "4       0.676471    0.078498      0.140673       0.715823    0.985194   \n",
      "5       0.608108    0.076792      0.136364       0.715766    0.980259   \n",
      "6       0.745455    0.069966      0.127925       0.716005    0.990746   \n",
      "7       0.629032    0.066553      0.120370       0.713199    0.983344   \n",
      "8       0.741379    0.073254      0.133333       0.715241    0.990741   \n",
      "9       0.615385    0.068143      0.122699       0.713067    0.980247   \n",
      "\n",
      "   4.0_f1-score  5.0_precision  5.0_recall  5.0_f1-score  accuracy  \n",
      "0      0.829445       0.333333    0.020202      0.038095  0.714348  \n",
      "1      0.827837       0.769231    0.101010      0.178571  0.712614  \n",
      "2      0.828978       0.555556    0.050000      0.091743  0.713481  \n",
      "3      0.825940       0.533333    0.080808      0.140351  0.708153  \n",
      "4      0.829180       0.714286    0.050505      0.094340  0.714657  \n",
      "5      0.827389       0.750000    0.090909      0.162162  0.712489  \n",
      "6      0.831263       0.875000    0.070707      0.130841  0.717259  \n",
      "7      0.826763       0.555556    0.050505      0.092593  0.710321  \n",
      "8      0.830745       1.000000    0.040404      0.077670  0.716392  \n",
      "9      0.825578       0.500000    0.070707      0.123894  0.709020  \n"
     ]
    },
    {
     "data": {
      "image/png": "[encoded data removed]",
      "text/plain": [
       "<Figure size 640x480 with 2 Axes>"
      ]
     },
     "metadata": {},
     "output_type": "display_data"
    },
    {
     "data": {
      "text/plain": [
       "3.0_precision    0.666075\n",
       "3.0_recall       0.070258\n",
       "3.0_f1-score     0.127009\n",
       "4.0_precision    0.714567\n",
       "4.0_recall       0.985131\n",
       "4.0_f1-score     0.828312\n",
       "5.0_precision    0.658629\n",
       "5.0_recall       0.062576\n",
       "5.0_f1-score     0.113026\n",
       "accuracy         0.712873\n",
       "dtype: float64"
      ]
     },
     "execution_count": 9,
     "metadata": {},
     "output_type": "execute_result"
    }
   ],
   "source": [
    "logr.fit(X_reduced, y)\n",
    "cross_val_report(logr, X_reduced, y)[1]"
   ]
  },
  {
   "cell_type": "code",
   "execution_count": 10,
   "id": "b355a719",
   "metadata": {},
   "outputs": [],
   "source": [
    "# Dimensionality reduction doesn't work well - Let's retain the original features"
   ]
  }
 ],
 "metadata": {
  "kernelspec": {
   "display_name": "Python 3 (ipykernel)",
   "language": "python",
   "name": "python3"
  },
  "language_info": {
   "codemirror_mode": {
    "name": "ipython",
    "version": 3
   },
   "file_extension": ".py",
   "mimetype": "text/x-python",
   "name": "python",
   "nbconvert_exporter": "python",
   "pygments_lexer": "ipython3",
   "version": "3.9.16"
  }
 },
 "nbformat": 4,
 "nbformat_minor": 5
}
