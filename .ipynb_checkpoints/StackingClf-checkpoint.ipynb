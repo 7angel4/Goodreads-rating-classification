{
 "cells": [
  {
   "cell_type": "code",
   "execution_count": 1,
   "id": "61bc517d",
   "metadata": {},
   "outputs": [],
   "source": [
    "%run Global.ipynb\n",
    "%run Helper_Functions.ipynb"
   ]
  },
  {
   "cell_type": "code",
   "execution_count": 2,
   "id": "4f76d5e6",
   "metadata": {},
   "outputs": [],
   "source": [
    "train_df_ohe_selected = pd.read_csv(DATASET_DIR + \"/train_df_ohe_selected.csv\", keep_default_na=False)\n",
    "\n",
    "X = train_df_ohe_selected.iloc[:,:-1] # (transformed) attributes\n",
    "y = train_df_ohe_selected.iloc[:,-1]  # ground truth labels"
   ]
  },
  {
   "cell_type": "code",
   "execution_count": 3,
   "id": "deb6691e",
   "metadata": {},
   "outputs": [],
   "source": [
    "from sklearn.tree import DecisionTreeClassifier\n",
    "from sklearn.pipeline import Pipeline\n",
    "from sklearn.neighbors import KNeighborsClassifier\n",
    "from sklearn.naive_bayes import GaussianNB\n",
    "from sklearn.linear_model import LogisticRegression\n",
    "from sklearn import svm\n",
    "\n",
    "# gaussian NB\n",
    "gnb = GaussianNB()\n",
    "\n",
    "# linear svm\n",
    "linearSVM = svm.LinearSVC(random_state=30027, C=1)\n",
    "\n",
    "# logr\n",
    "logr = LogisticRegression(solver='sag', max_iter=100)\n",
    "\n",
    "# decision tree\n",
    "dt = DecisionTreeClassifier(max_depth = 200, random_state = 30027)\n",
    "\n",
    "# knn\n",
    "knn = KNeighborsClassifier(n_neighbors=1)\n"
   ]
  },
  {
   "cell_type": "code",
   "execution_count": 4,
   "id": "7ac9f61c",
   "metadata": {},
   "outputs": [
    {
     "data": {
      "text/html": [
       "<style>#sk-container-id-1 {color: black;background-color: white;}#sk-container-id-1 pre{padding: 0;}#sk-container-id-1 div.sk-toggleable {background-color: white;}#sk-container-id-1 label.sk-toggleable__label {cursor: pointer;display: block;width: 100%;margin-bottom: 0;padding: 0.3em;box-sizing: border-box;text-align: center;}#sk-container-id-1 label.sk-toggleable__label-arrow:before {content: \"▸\";float: left;margin-right: 0.25em;color: #696969;}#sk-container-id-1 label.sk-toggleable__label-arrow:hover:before {color: black;}#sk-container-id-1 div.sk-estimator:hover label.sk-toggleable__label-arrow:before {color: black;}#sk-container-id-1 div.sk-toggleable__content {max-height: 0;max-width: 0;overflow: hidden;text-align: left;background-color: #f0f8ff;}#sk-container-id-1 div.sk-toggleable__content pre {margin: 0.2em;color: black;border-radius: 0.25em;background-color: #f0f8ff;}#sk-container-id-1 input.sk-toggleable__control:checked~div.sk-toggleable__content {max-height: 200px;max-width: 100%;overflow: auto;}#sk-container-id-1 input.sk-toggleable__control:checked~label.sk-toggleable__label-arrow:before {content: \"▾\";}#sk-container-id-1 div.sk-estimator input.sk-toggleable__control:checked~label.sk-toggleable__label {background-color: #d4ebff;}#sk-container-id-1 div.sk-label input.sk-toggleable__control:checked~label.sk-toggleable__label {background-color: #d4ebff;}#sk-container-id-1 input.sk-hidden--visually {border: 0;clip: rect(1px 1px 1px 1px);clip: rect(1px, 1px, 1px, 1px);height: 1px;margin: -1px;overflow: hidden;padding: 0;position: absolute;width: 1px;}#sk-container-id-1 div.sk-estimator {font-family: monospace;background-color: #f0f8ff;border: 1px dotted black;border-radius: 0.25em;box-sizing: border-box;margin-bottom: 0.5em;}#sk-container-id-1 div.sk-estimator:hover {background-color: #d4ebff;}#sk-container-id-1 div.sk-parallel-item::after {content: \"\";width: 100%;border-bottom: 1px solid gray;flex-grow: 1;}#sk-container-id-1 div.sk-label:hover label.sk-toggleable__label {background-color: #d4ebff;}#sk-container-id-1 div.sk-serial::before {content: \"\";position: absolute;border-left: 1px solid gray;box-sizing: border-box;top: 0;bottom: 0;left: 50%;z-index: 0;}#sk-container-id-1 div.sk-serial {display: flex;flex-direction: column;align-items: center;background-color: white;padding-right: 0.2em;padding-left: 0.2em;position: relative;}#sk-container-id-1 div.sk-item {position: relative;z-index: 1;}#sk-container-id-1 div.sk-parallel {display: flex;align-items: stretch;justify-content: center;background-color: white;position: relative;}#sk-container-id-1 div.sk-item::before, #sk-container-id-1 div.sk-parallel-item::before {content: \"\";position: absolute;border-left: 1px solid gray;box-sizing: border-box;top: 0;bottom: 0;left: 50%;z-index: -1;}#sk-container-id-1 div.sk-parallel-item {display: flex;flex-direction: column;z-index: 1;position: relative;background-color: white;}#sk-container-id-1 div.sk-parallel-item:first-child::after {align-self: flex-end;width: 50%;}#sk-container-id-1 div.sk-parallel-item:last-child::after {align-self: flex-start;width: 50%;}#sk-container-id-1 div.sk-parallel-item:only-child::after {width: 0;}#sk-container-id-1 div.sk-dashed-wrapped {border: 1px dashed gray;margin: 0 0.4em 0.5em 0.4em;box-sizing: border-box;padding-bottom: 0.4em;background-color: white;}#sk-container-id-1 div.sk-label label {font-family: monospace;font-weight: bold;display: inline-block;line-height: 1.2em;}#sk-container-id-1 div.sk-label-container {text-align: center;}#sk-container-id-1 div.sk-container {/* jupyter's `normalize.less` sets `[hidden] { display: none; }` but bootstrap.min.css set `[hidden] { display: none !important; }` so we also need the `!important` here to be able to override the default hidden behavior on the sphinx rendered scikit-learn.org. See: https://github.com/scikit-learn/scikit-learn/issues/21755 */display: inline-block !important;position: relative;}#sk-container-id-1 div.sk-text-repr-fallback {display: none;}</style><div id=\"sk-container-id-1\" class=\"sk-top-container\"><div class=\"sk-text-repr-fallback\"><pre>StackingClassifier(cv=5,\n",
       "                   estimators=[(&#x27;gaussianNB&#x27;, GaussianNB()),\n",
       "                               (&#x27;linearSVM&#x27;,\n",
       "                                LinearSVC(C=1, random_state=30027)),\n",
       "                               (&#x27;logisticRegression&#x27;,\n",
       "                                LogisticRegression(solver=&#x27;sag&#x27;)),\n",
       "                               (&#x27;decisionTree&#x27;,\n",
       "                                DecisionTreeClassifier(max_depth=200,\n",
       "                                                       random_state=30027)),\n",
       "                               (&#x27;kNN&#x27;, KNeighborsClassifier(n_neighbors=1))])</pre><b>In a Jupyter environment, please rerun this cell to show the HTML representation or trust the notebook. <br />On GitHub, the HTML representation is unable to render, please try loading this page with nbviewer.org.</b></div><div class=\"sk-container\" hidden><div class=\"sk-item sk-dashed-wrapped\"><div class=\"sk-label-container\"><div class=\"sk-label sk-toggleable\"><input class=\"sk-toggleable__control sk-hidden--visually\" id=\"sk-estimator-id-1\" type=\"checkbox\" ><label for=\"sk-estimator-id-1\" class=\"sk-toggleable__label sk-toggleable__label-arrow\">StackingClassifier</label><div class=\"sk-toggleable__content\"><pre>StackingClassifier(cv=5,\n",
       "                   estimators=[(&#x27;gaussianNB&#x27;, GaussianNB()),\n",
       "                               (&#x27;linearSVM&#x27;,\n",
       "                                LinearSVC(C=1, random_state=30027)),\n",
       "                               (&#x27;logisticRegression&#x27;,\n",
       "                                LogisticRegression(solver=&#x27;sag&#x27;)),\n",
       "                               (&#x27;decisionTree&#x27;,\n",
       "                                DecisionTreeClassifier(max_depth=200,\n",
       "                                                       random_state=30027)),\n",
       "                               (&#x27;kNN&#x27;, KNeighborsClassifier(n_neighbors=1))])</pre></div></div></div><div class=\"sk-serial\"><div class=\"sk-item\"><div class=\"sk-parallel\"><div class=\"sk-parallel-item\"><div class=\"sk-item\"><div class=\"sk-label-container\"><div class=\"sk-label sk-toggleable\"><label>gaussianNB</label></div></div><div class=\"sk-serial\"><div class=\"sk-item\"><div class=\"sk-estimator sk-toggleable\"><input class=\"sk-toggleable__control sk-hidden--visually\" id=\"sk-estimator-id-2\" type=\"checkbox\" ><label for=\"sk-estimator-id-2\" class=\"sk-toggleable__label sk-toggleable__label-arrow\">GaussianNB</label><div class=\"sk-toggleable__content\"><pre>GaussianNB()</pre></div></div></div></div></div></div><div class=\"sk-parallel-item\"><div class=\"sk-item\"><div class=\"sk-label-container\"><div class=\"sk-label sk-toggleable\"><label>linearSVM</label></div></div><div class=\"sk-serial\"><div class=\"sk-item\"><div class=\"sk-estimator sk-toggleable\"><input class=\"sk-toggleable__control sk-hidden--visually\" id=\"sk-estimator-id-3\" type=\"checkbox\" ><label for=\"sk-estimator-id-3\" class=\"sk-toggleable__label sk-toggleable__label-arrow\">LinearSVC</label><div class=\"sk-toggleable__content\"><pre>LinearSVC(C=1, random_state=30027)</pre></div></div></div></div></div></div><div class=\"sk-parallel-item\"><div class=\"sk-item\"><div class=\"sk-label-container\"><div class=\"sk-label sk-toggleable\"><label>logisticRegression</label></div></div><div class=\"sk-serial\"><div class=\"sk-item\"><div class=\"sk-estimator sk-toggleable\"><input class=\"sk-toggleable__control sk-hidden--visually\" id=\"sk-estimator-id-4\" type=\"checkbox\" ><label for=\"sk-estimator-id-4\" class=\"sk-toggleable__label sk-toggleable__label-arrow\">LogisticRegression</label><div class=\"sk-toggleable__content\"><pre>LogisticRegression(solver=&#x27;sag&#x27;)</pre></div></div></div></div></div></div><div class=\"sk-parallel-item\"><div class=\"sk-item\"><div class=\"sk-label-container\"><div class=\"sk-label sk-toggleable\"><label>decisionTree</label></div></div><div class=\"sk-serial\"><div class=\"sk-item\"><div class=\"sk-estimator sk-toggleable\"><input class=\"sk-toggleable__control sk-hidden--visually\" id=\"sk-estimator-id-5\" type=\"checkbox\" ><label for=\"sk-estimator-id-5\" class=\"sk-toggleable__label sk-toggleable__label-arrow\">DecisionTreeClassifier</label><div class=\"sk-toggleable__content\"><pre>DecisionTreeClassifier(max_depth=200, random_state=30027)</pre></div></div></div></div></div></div><div class=\"sk-parallel-item\"><div class=\"sk-item\"><div class=\"sk-label-container\"><div class=\"sk-label sk-toggleable\"><label>kNN</label></div></div><div class=\"sk-serial\"><div class=\"sk-item\"><div class=\"sk-estimator sk-toggleable\"><input class=\"sk-toggleable__control sk-hidden--visually\" id=\"sk-estimator-id-6\" type=\"checkbox\" ><label for=\"sk-estimator-id-6\" class=\"sk-toggleable__label sk-toggleable__label-arrow\">KNeighborsClassifier</label><div class=\"sk-toggleable__content\"><pre>KNeighborsClassifier(n_neighbors=1)</pre></div></div></div></div></div></div></div></div><div class=\"sk-item\"><div class=\"sk-parallel\"><div class=\"sk-parallel-item\"><div class=\"sk-item\"><div class=\"sk-label-container\"><div class=\"sk-label sk-toggleable\"><label>final_estimator</label></div></div><div class=\"sk-serial\"><div class=\"sk-item\"><div class=\"sk-estimator sk-toggleable\"><input class=\"sk-toggleable__control sk-hidden--visually\" id=\"sk-estimator-id-7\" type=\"checkbox\" ><label for=\"sk-estimator-id-7\" class=\"sk-toggleable__label sk-toggleable__label-arrow\">LogisticRegression</label><div class=\"sk-toggleable__content\"><pre>LogisticRegression()</pre></div></div></div></div></div></div></div></div></div></div></div></div>"
      ],
      "text/plain": [
       "StackingClassifier(cv=5,\n",
       "                   estimators=[('gaussianNB', GaussianNB()),\n",
       "                               ('linearSVM',\n",
       "                                LinearSVC(C=1, random_state=30027)),\n",
       "                               ('logisticRegression',\n",
       "                                LogisticRegression(solver='sag')),\n",
       "                               ('decisionTree',\n",
       "                                DecisionTreeClassifier(max_depth=200,\n",
       "                                                       random_state=30027)),\n",
       "                               ('kNN', KNeighborsClassifier(n_neighbors=1))])"
      ]
     },
     "execution_count": 4,
     "metadata": {},
     "output_type": "execute_result"
    }
   ],
   "source": [
    "from sklearn.ensemble import StackingClassifier\n",
    "estimators = [('gaussianNB', gnb), ('linearSVM', linearSVM), ('logisticRegression', logr), ('decisionTree', dt), ('kNN', knn)]\n",
    "stacking = StackingClassifier(estimators = estimators, cv = 5)"
   ]
  },
  {
   "cell_type": "code",
   "execution_count": 5,
   "id": "873079a4",
   "metadata": {},
   "outputs": [
    {
     "name": "stdout",
     "output_type": "stream",
     "text": [
      "StackingClassifier prediction took 385.33541226387024 seconds\n"
     ]
    },
    {
     "data": {
      "image/png": "[encoded data removed]",
      "text/plain": [
       "<Figure size 640x480 with 2 Axes>"
      ]
     },
     "metadata": {},
     "output_type": "display_data"
    },
    {
     "name": "stdout",
     "output_type": "stream",
     "text": [
      "              precision    recall  f1-score   support\n",
      "\n",
      "         3.0       0.70      0.18      0.29      5864\n",
      "         4.0       0.74      0.97      0.84     16208\n",
      "         5.0       0.68      0.16      0.26       991\n",
      "\n",
      "    accuracy                           0.73     23063\n",
      "   macro avg       0.70      0.44      0.46     23063\n",
      "weighted avg       0.72      0.73      0.67     23063\n",
      "\n"
     ]
    },
    {
     "data": {
      "text/plain": [
       "array([4., 4., 4., ..., 4., 4., 4.])"
      ]
     },
     "execution_count": 5,
     "metadata": {},
     "output_type": "execute_result"
    }
   ],
   "source": [
    "cross_val_report(stacking, X, y, cv=3)[1]"
   ]
  },
  {
   "cell_type": "code",
   "execution_count": 6,
   "id": "18481eca",
   "metadata": {},
   "outputs": [
    {
     "data": {
      "text/plain": [
       "{'cv': 5,\n",
       " 'estimators': [('gaussianNB', GaussianNB()),\n",
       "  ('linearSVM', LinearSVC(C=1, random_state=30027)),\n",
       "  ('logisticRegression', LogisticRegression(solver='sag')),\n",
       "  ('decisionTree', DecisionTreeClassifier(max_depth=200, random_state=30027)),\n",
       "  ('kNN', KNeighborsClassifier(n_neighbors=1))],\n",
       " 'final_estimator': None,\n",
       " 'n_jobs': None,\n",
       " 'passthrough': False,\n",
       " 'stack_method': 'auto',\n",
       " 'verbose': 0,\n",
       " 'gaussianNB': GaussianNB(),\n",
       " 'linearSVM': LinearSVC(C=1, random_state=30027),\n",
       " 'logisticRegression': LogisticRegression(solver='sag'),\n",
       " 'decisionTree': DecisionTreeClassifier(max_depth=200, random_state=30027),\n",
       " 'kNN': KNeighborsClassifier(n_neighbors=1),\n",
       " 'gaussianNB__priors': None,\n",
       " 'gaussianNB__var_smoothing': 1e-09,\n",
       " 'linearSVM__C': 1,\n",
       " 'linearSVM__class_weight': None,\n",
       " 'linearSVM__dual': True,\n",
       " 'linearSVM__fit_intercept': True,\n",
       " 'linearSVM__intercept_scaling': 1,\n",
       " 'linearSVM__loss': 'squared_hinge',\n",
       " 'linearSVM__max_iter': 1000,\n",
       " 'linearSVM__multi_class': 'ovr',\n",
       " 'linearSVM__penalty': 'l2',\n",
       " 'linearSVM__random_state': 30027,\n",
       " 'linearSVM__tol': 0.0001,\n",
       " 'linearSVM__verbose': 0,\n",
       " 'logisticRegression__C': 1.0,\n",
       " 'logisticRegression__class_weight': None,\n",
       " 'logisticRegression__dual': False,\n",
       " 'logisticRegression__fit_intercept': True,\n",
       " 'logisticRegression__intercept_scaling': 1,\n",
       " 'logisticRegression__l1_ratio': None,\n",
       " 'logisticRegression__max_iter': 100,\n",
       " 'logisticRegression__multi_class': 'auto',\n",
       " 'logisticRegression__n_jobs': None,\n",
       " 'logisticRegression__penalty': 'l2',\n",
       " 'logisticRegression__random_state': None,\n",
       " 'logisticRegression__solver': 'sag',\n",
       " 'logisticRegression__tol': 0.0001,\n",
       " 'logisticRegression__verbose': 0,\n",
       " 'logisticRegression__warm_start': False,\n",
       " 'decisionTree__ccp_alpha': 0.0,\n",
       " 'decisionTree__class_weight': None,\n",
       " 'decisionTree__criterion': 'gini',\n",
       " 'decisionTree__max_depth': 200,\n",
       " 'decisionTree__max_features': None,\n",
       " 'decisionTree__max_leaf_nodes': None,\n",
       " 'decisionTree__min_impurity_decrease': 0.0,\n",
       " 'decisionTree__min_samples_leaf': 1,\n",
       " 'decisionTree__min_samples_split': 2,\n",
       " 'decisionTree__min_weight_fraction_leaf': 0.0,\n",
       " 'decisionTree__random_state': 30027,\n",
       " 'decisionTree__splitter': 'best',\n",
       " 'kNN__algorithm': 'auto',\n",
       " 'kNN__leaf_size': 30,\n",
       " 'kNN__metric': 'minkowski',\n",
       " 'kNN__metric_params': None,\n",
       " 'kNN__n_jobs': None,\n",
       " 'kNN__n_neighbors': 1,\n",
       " 'kNN__p': 2,\n",
       " 'kNN__weights': 'uniform'}"
      ]
     },
     "execution_count": 6,
     "metadata": {},
     "output_type": "execute_result"
    }
   ],
   "source": [
    "stacking.get_params(deep=True)"
   ]
  },
  {
   "cell_type": "code",
   "execution_count": null,
   "id": "b505fde7",
   "metadata": {},
   "outputs": [
    {
     "name": "stdout",
     "output_type": "stream",
     "text": [
      "Fitting 2 folds for each of 50 candidates, totalling 100 fits\n",
      "[CV] END decisionTree__max_depth=200, kNN__n_neighbors=1, linearSVM__C=1; total time= 1.6min\n",
      "[CV] END decisionTree__max_depth=200, kNN__n_neighbors=1, linearSVM__C=1; total time= 1.6min\n",
      "[CV] END decisionTree__max_depth=200, kNN__n_neighbors=1, linearSVM__C=6; total time= 1.6min\n",
      "[CV] END decisionTree__max_depth=200, kNN__n_neighbors=1, linearSVM__C=6; total time= 1.6min\n",
      "[CV] END decisionTree__max_depth=200, kNN__n_neighbors=2, linearSVM__C=1; total time= 1.7min\n",
      "[CV] END decisionTree__max_depth=200, kNN__n_neighbors=2, linearSVM__C=1; total time= 1.7min\n",
      "[CV] END decisionTree__max_depth=200, kNN__n_neighbors=2, linearSVM__C=6; total time= 1.7min\n",
      "[CV] END decisionTree__max_depth=200, kNN__n_neighbors=2, linearSVM__C=6; total time= 1.7min\n",
      "[CV] END decisionTree__max_depth=200, kNN__n_neighbors=3, linearSVM__C=1; total time= 1.7min\n",
      "[CV] END decisionTree__max_depth=200, kNN__n_neighbors=3, linearSVM__C=1; total time= 1.6min\n",
      "[CV] END decisionTree__max_depth=200, kNN__n_neighbors=3, linearSVM__C=6; total time= 1.6min\n",
      "[CV] END decisionTree__max_depth=200, kNN__n_neighbors=3, linearSVM__C=6; total time= 1.6min\n",
      "[CV] END decisionTree__max_depth=200, kNN__n_neighbors=4, linearSVM__C=1; total time= 1.6min\n",
      "[CV] END decisionTree__max_depth=200, kNN__n_neighbors=4, linearSVM__C=1; total time= 1.6min\n",
      "[CV] END decisionTree__max_depth=200, kNN__n_neighbors=4, linearSVM__C=6; total time= 1.6min\n",
      "[CV] END decisionTree__max_depth=200, kNN__n_neighbors=4, linearSVM__C=6; total time= 1.7min\n",
      "[CV] END decisionTree__max_depth=200, kNN__n_neighbors=5, linearSVM__C=1; total time= 1.6min\n",
      "[CV] END decisionTree__max_depth=200, kNN__n_neighbors=5, linearSVM__C=1; total time= 1.6min\n",
      "[CV] END decisionTree__max_depth=200, kNN__n_neighbors=5, linearSVM__C=6; total time= 1.6min\n",
      "[CV] END decisionTree__max_depth=200, kNN__n_neighbors=5, linearSVM__C=6; total time= 1.6min\n",
      "[CV] END decisionTree__max_depth=250, kNN__n_neighbors=1, linearSVM__C=1; total time= 1.6min\n",
      "[CV] END decisionTree__max_depth=250, kNN__n_neighbors=1, linearSVM__C=1; total time= 1.6min\n",
      "[CV] END decisionTree__max_depth=250, kNN__n_neighbors=1, linearSVM__C=6; total time= 1.6min\n",
      "[CV] END decisionTree__max_depth=250, kNN__n_neighbors=1, linearSVM__C=6; total time= 1.6min\n",
      "[CV] END decisionTree__max_depth=250, kNN__n_neighbors=2, linearSVM__C=1; total time= 1.6min\n",
      "[CV] END decisionTree__max_depth=250, kNN__n_neighbors=2, linearSVM__C=1; total time= 1.6min\n",
      "[CV] END decisionTree__max_depth=250, kNN__n_neighbors=2, linearSVM__C=6; total time= 1.6min\n",
      "[CV] END decisionTree__max_depth=250, kNN__n_neighbors=2, linearSVM__C=6; total time= 1.6min\n",
      "[CV] END decisionTree__max_depth=250, kNN__n_neighbors=3, linearSVM__C=1; total time= 1.6min\n",
      "[CV] END decisionTree__max_depth=250, kNN__n_neighbors=3, linearSVM__C=1; total time= 1.6min\n",
      "[CV] END decisionTree__max_depth=250, kNN__n_neighbors=3, linearSVM__C=6; total time= 1.6min\n",
      "[CV] END decisionTree__max_depth=250, kNN__n_neighbors=3, linearSVM__C=6; total time= 1.6min\n",
      "[CV] END decisionTree__max_depth=250, kNN__n_neighbors=4, linearSVM__C=1; total time=17.2min\n",
      "[CV] END decisionTree__max_depth=250, kNN__n_neighbors=4, linearSVM__C=1; total time= 1.6min\n",
      "[CV] END decisionTree__max_depth=250, kNN__n_neighbors=4, linearSVM__C=6; total time= 1.6min\n",
      "[CV] END decisionTree__max_depth=250, kNN__n_neighbors=4, linearSVM__C=6; total time= 1.6min\n",
      "[CV] END decisionTree__max_depth=250, kNN__n_neighbors=5, linearSVM__C=1; total time= 1.5min\n",
      "[CV] END decisionTree__max_depth=250, kNN__n_neighbors=5, linearSVM__C=1; total time= 1.6min\n",
      "[CV] END decisionTree__max_depth=250, kNN__n_neighbors=5, linearSVM__C=6; total time= 1.5min\n",
      "[CV] END decisionTree__max_depth=250, kNN__n_neighbors=5, linearSVM__C=6; total time= 1.6min\n",
      "[CV] END decisionTree__max_depth=300, kNN__n_neighbors=1, linearSVM__C=1; total time= 1.5min\n",
      "[CV] END decisionTree__max_depth=300, kNN__n_neighbors=1, linearSVM__C=1; total time= 1.6min\n",
      "[CV] END decisionTree__max_depth=300, kNN__n_neighbors=1, linearSVM__C=6; total time= 1.6min\n",
      "[CV] END decisionTree__max_depth=300, kNN__n_neighbors=1, linearSVM__C=6; total time= 1.7min\n",
      "[CV] END decisionTree__max_depth=300, kNN__n_neighbors=2, linearSVM__C=1; total time= 1.6min\n",
      "[CV] END decisionTree__max_depth=300, kNN__n_neighbors=2, linearSVM__C=1; total time= 1.7min\n",
      "[CV] END decisionTree__max_depth=300, kNN__n_neighbors=2, linearSVM__C=6; total time= 1.6min\n",
      "[CV] END decisionTree__max_depth=300, kNN__n_neighbors=2, linearSVM__C=6; total time= 1.6min\n",
      "[CV] END decisionTree__max_depth=300, kNN__n_neighbors=3, linearSVM__C=1; total time= 1.6min\n",
      "[CV] END decisionTree__max_depth=300, kNN__n_neighbors=3, linearSVM__C=1; total time= 1.7min\n",
      "[CV] END decisionTree__max_depth=300, kNN__n_neighbors=3, linearSVM__C=6; total time= 1.9min\n",
      "[CV] END decisionTree__max_depth=300, kNN__n_neighbors=3, linearSVM__C=6; total time= 1.9min\n",
      "[CV] END decisionTree__max_depth=300, kNN__n_neighbors=4, linearSVM__C=1; total time= 1.9min\n",
      "[CV] END decisionTree__max_depth=300, kNN__n_neighbors=4, linearSVM__C=1; total time= 1.9min\n",
      "[CV] END decisionTree__max_depth=300, kNN__n_neighbors=4, linearSVM__C=6; total time= 1.9min\n",
      "[CV] END decisionTree__max_depth=300, kNN__n_neighbors=4, linearSVM__C=6; total time= 1.9min\n",
      "[CV] END decisionTree__max_depth=300, kNN__n_neighbors=5, linearSVM__C=1; total time= 1.7min\n",
      "[CV] END decisionTree__max_depth=300, kNN__n_neighbors=5, linearSVM__C=1; total time= 1.7min\n",
      "[CV] END decisionTree__max_depth=300, kNN__n_neighbors=5, linearSVM__C=6; total time= 1.7min\n",
      "[CV] END decisionTree__max_depth=300, kNN__n_neighbors=5, linearSVM__C=6; total time= 1.7min\n",
      "[CV] END decisionTree__max_depth=350, kNN__n_neighbors=1, linearSVM__C=1; total time= 1.7min\n",
      "[CV] END decisionTree__max_depth=350, kNN__n_neighbors=1, linearSVM__C=1; total time= 1.7min\n",
      "[CV] END decisionTree__max_depth=350, kNN__n_neighbors=1, linearSVM__C=6; total time= 1.7min\n",
      "[CV] END decisionTree__max_depth=350, kNN__n_neighbors=1, linearSVM__C=6; total time= 1.6min\n",
      "[CV] END decisionTree__max_depth=350, kNN__n_neighbors=2, linearSVM__C=1; total time= 1.6min\n",
      "[CV] END decisionTree__max_depth=350, kNN__n_neighbors=2, linearSVM__C=1; total time= 1.7min\n",
      "[CV] END decisionTree__max_depth=350, kNN__n_neighbors=2, linearSVM__C=6; total time= 1.6min\n",
      "[CV] END decisionTree__max_depth=350, kNN__n_neighbors=2, linearSVM__C=6; total time= 1.6min\n",
      "[CV] END decisionTree__max_depth=350, kNN__n_neighbors=3, linearSVM__C=1; total time= 1.6min\n",
      "[CV] END decisionTree__max_depth=350, kNN__n_neighbors=3, linearSVM__C=1; total time= 1.8min\n",
      "[CV] END decisionTree__max_depth=350, kNN__n_neighbors=3, linearSVM__C=6; total time= 1.9min\n",
      "[CV] END decisionTree__max_depth=350, kNN__n_neighbors=3, linearSVM__C=6; total time= 1.6min\n",
      "[CV] END decisionTree__max_depth=350, kNN__n_neighbors=4, linearSVM__C=1; total time= 1.6min\n",
      "[CV] END decisionTree__max_depth=350, kNN__n_neighbors=4, linearSVM__C=1; total time= 1.6min\n",
      "[CV] END decisionTree__max_depth=350, kNN__n_neighbors=4, linearSVM__C=6; total time= 1.6min\n",
      "[CV] END decisionTree__max_depth=350, kNN__n_neighbors=4, linearSVM__C=6; total time= 1.7min\n",
      "[CV] END decisionTree__max_depth=350, kNN__n_neighbors=5, linearSVM__C=1; total time= 1.8min\n",
      "[CV] END decisionTree__max_depth=350, kNN__n_neighbors=5, linearSVM__C=1; total time= 1.7min\n",
      "[CV] END decisionTree__max_depth=350, kNN__n_neighbors=5, linearSVM__C=6; total time= 1.7min\n",
      "[CV] END decisionTree__max_depth=350, kNN__n_neighbors=5, linearSVM__C=6; total time= 1.7min\n",
      "[CV] END decisionTree__max_depth=400, kNN__n_neighbors=1, linearSVM__C=1; total time= 1.7min\n",
      "[CV] END decisionTree__max_depth=400, kNN__n_neighbors=1, linearSVM__C=1; total time= 1.7min\n",
      "[CV] END decisionTree__max_depth=400, kNN__n_neighbors=1, linearSVM__C=6; total time= 1.7min\n",
      "[CV] END decisionTree__max_depth=400, kNN__n_neighbors=1, linearSVM__C=6; total time= 1.7min\n",
      "[CV] END decisionTree__max_depth=400, kNN__n_neighbors=2, linearSVM__C=1; total time= 1.7min\n"
     ]
    }
   ],
   "source": [
    "param_grid = {'linearSVM__C': range(1,11,5), 'decisionTree__max_depth': range(200, 401, 50), 'kNN__n_neighbors': range(1,6)}\n",
    "tune_hyperparameter(stacking, param_grid, X, y, cv = 2)"
   ]
  }
 ],
 "metadata": {
  "kernelspec": {
   "display_name": "Python 3 (ipykernel)",
   "language": "python",
   "name": "python3"
  },
  "language_info": {
   "codemirror_mode": {
    "name": "ipython",
    "version": 3
   },
   "file_extension": ".py",
   "mimetype": "text/x-python",
   "name": "python",
   "nbconvert_exporter": "python",
   "pygments_lexer": "ipython3",
   "version": "3.9.16"
  }
 },
 "nbformat": 4,
 "nbformat_minor": 5
}
