{
 "cells": [
  {
   "cell_type": "code",
   "execution_count": 1,
   "metadata": {},
   "outputs": [],
   "source": [
    "%run Text_Preprocessing.ipynb\n",
    "%run Helper_Functions.ipynb"
   ]
  },
  {
   "cell_type": "markdown",
   "metadata": {},
   "source": [
    "Documentation:\n",
    "1. Converted class label to categorical\n",
    "2. Supplied (original) vectorisers + TF-IDF vectorizer\n",
    "3. Added preprocessing (punctuation removal, casefolding, stop-words removal (including words to short), lemmatization) steps to the text features\n",
    "4. Encoded the simple string features ('Authors', 'Publisher', 'Language')\n",
    "5. Dimensionality reduction with TruncatedSVD\n",
    "6. Bigrams instead of words\n",
    "7. Feature selection with SelectKBest\n",
    "8. Standardization of 'pageNumbers' \n",
    "9. Instead of 8: Take the log of the standardized 'pageNumbers' using MinMaxScaler\n",
    "\n",
    "Yet to try:\n",
    "* Discretisation of PageNumbers"
   ]
  },
  {
   "cell_type": "code",
   "execution_count": 2,
   "metadata": {
    "execution": {
     "iopub.execute_input": "2023-04-16T08:13:06.888402Z",
     "iopub.status.busy": "2023-04-16T08:13:06.887900Z",
     "iopub.status.idle": "2023-04-16T08:13:07.176277Z",
     "shell.execute_reply": "2023-04-16T08:13:07.175364Z",
     "shell.execute_reply.started": "2023-04-16T08:13:06.888358Z"
    }
   },
   "outputs": [],
   "source": [
    "import pandas as pd\n",
    "import numpy as np\n",
    "import sklearn\n",
    "import matplotlib.pyplot as plt\n",
    "import pickle\n",
    "import seaborn as sns\n",
    "import scipy\n",
    "import re\n",
    "from sklearn.metrics.cluster import adjusted_mutual_info_score\n",
    "from sklearn.model_selection import train_test_split\n",
    "from sklearn.metrics import accuracy_score\n",
    "from sklearn.feature_selection import chi2, SelectKBest, mutual_info_classif"
   ]
  },
  {
   "cell_type": "code",
   "execution_count": 3,
   "metadata": {},
   "outputs": [],
   "source": [
    "import warnings\n",
    "warnings.filterwarnings('ignore')"
   ]
  },
  {
   "cell_type": "code",
   "execution_count": 4,
   "metadata": {},
   "outputs": [
    {
     "name": "stdout",
     "output_type": "stream",
     "text": [
      "Training set size: 23063\n",
      "Test set size: 5766\n"
     ]
    }
   ],
   "source": [
    "# Load datasets\n",
    "original_train_df = pd.read_csv(r\"book_rating_train.csv\", index_col = False, delimiter = ',', header=0)\n",
    "original_test_df = pd.read_csv(r\"book_rating_test.csv\", index_col = False, delimiter = ',', header=0)\n",
    "print(\"Training set size:\", len(original_train_df))\n",
    "print(\"Test set size:\", len(original_test_df))"
   ]
  },
  {
   "cell_type": "code",
   "execution_count": 5,
   "metadata": {},
   "outputs": [],
   "source": [
    "train_df = original_train_df.copy()\n",
    "test_df = original_test_df.copy()"
   ]
  },
  {
   "cell_type": "markdown",
   "metadata": {},
   "source": [
    "# 1. Preprocessing"
   ]
  },
  {
   "cell_type": "code",
   "execution_count": 6,
   "metadata": {},
   "outputs": [],
   "source": [
    "STRING_FEATURES = ['Authors', 'Publisher', 'Language']  # categorical features\n",
    "NUMERICAL_FEATURES = ['PublishYear', 'PublishMonth', 'PublishDay', 'pagesNumber']\n",
    "TEXT_FEATURES = ['Name', 'Description']\n",
    "CLASS_LABEL = 'rating_label'\n",
    "ALPHA = 0.05  # for feature selection\n",
    "DATASET_DIR = \"./Preprocessed_Datasets\""
   ]
  },
  {
   "cell_type": "code",
   "execution_count": 7,
   "metadata": {},
   "outputs": [
    {
     "name": "stdout",
     "output_type": "stream",
     "text": [
      "Rating 3.0: 5864 instances\n",
      "Rating 4.0: 16208 instances\n",
      "Rating 5.0: 991 instances\n"
     ]
    }
   ],
   "source": [
    "# Check class distributions\n",
    "class_labels, counts = np.unique(original_train_df[CLASS_LABEL], return_counts=True)\n",
    "for label, count in zip(class_labels, counts):\n",
    "    print(f\"Rating {label}: {count} instances\")"
   ]
  },
  {
   "cell_type": "markdown",
   "metadata": {},
   "source": [
    "## Preprocess String features: Language, Authors, and Publisher"
   ]
  },
  {
   "cell_type": "code",
   "execution_count": 8,
   "metadata": {},
   "outputs": [
    {
     "name": "stdout",
     "output_type": "stream",
     "text": [
      "There are 16301 unique 'Authors' values.\n",
      "There are 0 missing 'Authors' values.\n",
      "\n",
      "There are 4247 unique 'Publisher' values.\n",
      "There are 148 missing 'Publisher' values.\n",
      "\n",
      "There are 18 unique 'Language' values.\n",
      "There are 17202 missing 'Language' values.\n",
      "\n"
     ]
    }
   ],
   "source": [
    "for feature in STRING_FEATURES:\n",
    "    print(f\"There are {original_train_df[feature].nunique()} unique '{feature}' values.\")\n",
    "    print(f\"There are {original_train_df[feature].isna().sum()} missing '{feature}' values.\\n\")\n",
    "\n",
    "# Too many missing values in 'Language'. Let's drop it.\n",
    "train_df = train_df.drop('Language', axis=1)"
   ]
  },
  {
   "cell_type": "code",
   "execution_count": 9,
   "metadata": {},
   "outputs": [],
   "source": [
    "# For Authors and Publisher, we just do a general text preprocessing here\n",
    "# The models will later choose their own version of preprocessed dataset\n",
    "CATEGORICAL_FEATURES = ['Authors', 'Publisher']\n",
    "MISSING_CAT_VAL = ''\n",
    "entire_df = pd.concat([train_df, test_df])\n",
    "\n",
    "for df in [train_df, entire_df]:\n",
    "    for feature in CATEGORICAL_FEATURES:\n",
    "        df[feature] = df[feature].fillna(MISSING_CAT_VAL)\n",
    "        df[feature] = df[feature].apply(lambda x: preprocess(x, stop_words_removal=False, lemmatize=False, min_word_len=0))"
   ]
  },
  {
   "cell_type": "markdown",
   "metadata": {},
   "source": [
    "### Option 1: One-Hot Encoder"
   ]
  },
  {
   "cell_type": "code",
   "execution_count": 10,
   "metadata": {},
   "outputs": [
    {
     "data": {
      "text/html": [
       "<style>#sk-container-id-1 {color: black;background-color: white;}#sk-container-id-1 pre{padding: 0;}#sk-container-id-1 div.sk-toggleable {background-color: white;}#sk-container-id-1 label.sk-toggleable__label {cursor: pointer;display: block;width: 100%;margin-bottom: 0;padding: 0.3em;box-sizing: border-box;text-align: center;}#sk-container-id-1 label.sk-toggleable__label-arrow:before {content: \"▸\";float: left;margin-right: 0.25em;color: #696969;}#sk-container-id-1 label.sk-toggleable__label-arrow:hover:before {color: black;}#sk-container-id-1 div.sk-estimator:hover label.sk-toggleable__label-arrow:before {color: black;}#sk-container-id-1 div.sk-toggleable__content {max-height: 0;max-width: 0;overflow: hidden;text-align: left;background-color: #f0f8ff;}#sk-container-id-1 div.sk-toggleable__content pre {margin: 0.2em;color: black;border-radius: 0.25em;background-color: #f0f8ff;}#sk-container-id-1 input.sk-toggleable__control:checked~div.sk-toggleable__content {max-height: 200px;max-width: 100%;overflow: auto;}#sk-container-id-1 input.sk-toggleable__control:checked~label.sk-toggleable__label-arrow:before {content: \"▾\";}#sk-container-id-1 div.sk-estimator input.sk-toggleable__control:checked~label.sk-toggleable__label {background-color: #d4ebff;}#sk-container-id-1 div.sk-label input.sk-toggleable__control:checked~label.sk-toggleable__label {background-color: #d4ebff;}#sk-container-id-1 input.sk-hidden--visually {border: 0;clip: rect(1px 1px 1px 1px);clip: rect(1px, 1px, 1px, 1px);height: 1px;margin: -1px;overflow: hidden;padding: 0;position: absolute;width: 1px;}#sk-container-id-1 div.sk-estimator {font-family: monospace;background-color: #f0f8ff;border: 1px dotted black;border-radius: 0.25em;box-sizing: border-box;margin-bottom: 0.5em;}#sk-container-id-1 div.sk-estimator:hover {background-color: #d4ebff;}#sk-container-id-1 div.sk-parallel-item::after {content: \"\";width: 100%;border-bottom: 1px solid gray;flex-grow: 1;}#sk-container-id-1 div.sk-label:hover label.sk-toggleable__label {background-color: #d4ebff;}#sk-container-id-1 div.sk-serial::before {content: \"\";position: absolute;border-left: 1px solid gray;box-sizing: border-box;top: 0;bottom: 0;left: 50%;z-index: 0;}#sk-container-id-1 div.sk-serial {display: flex;flex-direction: column;align-items: center;background-color: white;padding-right: 0.2em;padding-left: 0.2em;position: relative;}#sk-container-id-1 div.sk-item {position: relative;z-index: 1;}#sk-container-id-1 div.sk-parallel {display: flex;align-items: stretch;justify-content: center;background-color: white;position: relative;}#sk-container-id-1 div.sk-item::before, #sk-container-id-1 div.sk-parallel-item::before {content: \"\";position: absolute;border-left: 1px solid gray;box-sizing: border-box;top: 0;bottom: 0;left: 50%;z-index: -1;}#sk-container-id-1 div.sk-parallel-item {display: flex;flex-direction: column;z-index: 1;position: relative;background-color: white;}#sk-container-id-1 div.sk-parallel-item:first-child::after {align-self: flex-end;width: 50%;}#sk-container-id-1 div.sk-parallel-item:last-child::after {align-self: flex-start;width: 50%;}#sk-container-id-1 div.sk-parallel-item:only-child::after {width: 0;}#sk-container-id-1 div.sk-dashed-wrapped {border: 1px dashed gray;margin: 0 0.4em 0.5em 0.4em;box-sizing: border-box;padding-bottom: 0.4em;background-color: white;}#sk-container-id-1 div.sk-label label {font-family: monospace;font-weight: bold;display: inline-block;line-height: 1.2em;}#sk-container-id-1 div.sk-label-container {text-align: center;}#sk-container-id-1 div.sk-container {/* jupyter's `normalize.less` sets `[hidden] { display: none; }` but bootstrap.min.css set `[hidden] { display: none !important; }` so we also need the `!important` here to be able to override the default hidden behavior on the sphinx rendered scikit-learn.org. See: https://github.com/scikit-learn/scikit-learn/issues/21755 */display: inline-block !important;position: relative;}#sk-container-id-1 div.sk-text-repr-fallback {display: none;}</style><div id=\"sk-container-id-1\" class=\"sk-top-container\"><div class=\"sk-text-repr-fallback\"><pre>OneHotEncoder(handle_unknown=&#x27;infrequent_if_exist&#x27;, min_frequency=3,\n",
       "              sparse=False, sparse_output=False)</pre><b>In a Jupyter environment, please rerun this cell to show the HTML representation or trust the notebook. <br />On GitHub, the HTML representation is unable to render, please try loading this page with nbviewer.org.</b></div><div class=\"sk-container\" hidden><div class=\"sk-item\"><div class=\"sk-estimator sk-toggleable\"><input class=\"sk-toggleable__control sk-hidden--visually\" id=\"sk-estimator-id-1\" type=\"checkbox\" checked><label for=\"sk-estimator-id-1\" class=\"sk-toggleable__label sk-toggleable__label-arrow\">OneHotEncoder</label><div class=\"sk-toggleable__content\"><pre>OneHotEncoder(handle_unknown=&#x27;infrequent_if_exist&#x27;, min_frequency=3,\n",
       "              sparse=False, sparse_output=False)</pre></div></div></div></div></div>"
      ],
      "text/plain": [
       "OneHotEncoder(handle_unknown='infrequent_if_exist', min_frequency=3,\n",
       "              sparse=False, sparse_output=False)"
      ]
     },
     "execution_count": 10,
     "metadata": {},
     "output_type": "execute_result"
    }
   ],
   "source": [
    "from sklearn.preprocessing import OneHotEncoder\n",
    "\n",
    "OHE = OneHotEncoder(handle_unknown='infrequent_if_exist', min_frequency=3, sparse=False)\n",
    "OHE.fit(entire_df[CATEGORICAL_FEATURES])"
   ]
  },
  {
   "cell_type": "code",
   "execution_count": 11,
   "metadata": {},
   "outputs": [],
   "source": [
    "def ohe_transform(df, has_labels=False):\n",
    "    transformed_mat = OHE.transform(df[CATEGORICAL_FEATURES])\n",
    "    transformed_cat_df = pd.DataFrame(transformed_mat).set_axis(OHE.get_feature_names_out(), axis=1, inplace=False)\n",
    "    transformed_df = pd.concat([df.reset_index(drop=True), transformed_cat_df], axis=1)\n",
    "    transformed_df = transformed_df.drop(CATEGORICAL_FEATURES, axis=1)  # drop the original attributes\n",
    "    \n",
    "    if has_labels:\n",
    "        # move rating_label to the last column\n",
    "        labels = transformed_df[CLASS_LABEL]\n",
    "        transformed_df = pd.concat([transformed_df.drop([CLASS_LABEL], axis=1), labels], axis=1)\n",
    "    \n",
    "    return transformed_df"
   ]
  },
  {
   "cell_type": "code",
   "execution_count": 12,
   "metadata": {},
   "outputs": [
    {
     "data": {
      "text/html": [
       "<div>\n",
       "<style scoped>\n",
       "    .dataframe tbody tr th:only-of-type {\n",
       "        vertical-align: middle;\n",
       "    }\n",
       "\n",
       "    .dataframe tbody tr th {\n",
       "        vertical-align: top;\n",
       "    }\n",
       "\n",
       "    .dataframe thead th {\n",
       "        text-align: right;\n",
       "    }\n",
       "</style>\n",
       "<table border=\"1\" class=\"dataframe\">\n",
       "  <thead>\n",
       "    <tr style=\"text-align: right;\">\n",
       "      <th></th>\n",
       "      <th>p-value</th>\n",
       "    </tr>\n",
       "  </thead>\n",
       "  <tbody>\n",
       "    <tr>\n",
       "      <th>Authors_</th>\n",
       "      <td>6.315802e-07</td>\n",
       "    </tr>\n",
       "    <tr>\n",
       "      <th>Authors_aaron beck</th>\n",
       "      <td>5.302488e-01</td>\n",
       "    </tr>\n",
       "    <tr>\n",
       "      <th>Authors_aaron mccollough</th>\n",
       "      <td>1.457466e-05</td>\n",
       "    </tr>\n",
       "    <tr>\n",
       "      <th>Authors_abu hamid ghazali</th>\n",
       "      <td>1.457466e-05</td>\n",
       "    </tr>\n",
       "    <tr>\n",
       "      <th>Authors_adam phillips</th>\n",
       "      <td>7.466153e-01</td>\n",
       "    </tr>\n",
       "    <tr>\n",
       "      <th>...</th>\n",
       "      <td>...</td>\n",
       "    </tr>\n",
       "    <tr>\n",
       "      <th>Publisher_zondervan</th>\n",
       "      <td>2.909232e-02</td>\n",
       "    </tr>\n",
       "    <tr>\n",
       "      <th>Publisher_zondervan academic</th>\n",
       "      <td>1.931398e-02</td>\n",
       "    </tr>\n",
       "    <tr>\n",
       "      <th>Publisher_zondervan publishing company</th>\n",
       "      <td>1.318855e-03</td>\n",
       "    </tr>\n",
       "    <tr>\n",
       "      <th>Publisher_zone books</th>\n",
       "      <td>1.219739e-01</td>\n",
       "    </tr>\n",
       "    <tr>\n",
       "      <th>Publisher_infrequent_sklearn</th>\n",
       "      <td>8.953966e-28</td>\n",
       "    </tr>\n",
       "  </tbody>\n",
       "</table>\n",
       "<p>3451 rows × 1 columns</p>\n",
       "</div>"
      ],
      "text/plain": [
       "                                             p-value\n",
       "Authors_                                6.315802e-07\n",
       "Authors_aaron beck                      5.302488e-01\n",
       "Authors_aaron mccollough                1.457466e-05\n",
       "Authors_abu hamid ghazali               1.457466e-05\n",
       "Authors_adam phillips                   7.466153e-01\n",
       "...                                              ...\n",
       "Publisher_zondervan                     2.909232e-02\n",
       "Publisher_zondervan academic            1.931398e-02\n",
       "Publisher_zondervan publishing company  1.318855e-03\n",
       "Publisher_zone books                    1.219739e-01\n",
       "Publisher_infrequent_sklearn            8.953966e-28\n",
       "\n",
       "[3451 rows x 1 columns]"
      ]
     },
     "execution_count": 12,
     "metadata": {},
     "output_type": "execute_result"
    }
   ],
   "source": [
    "# Check chi2\n",
    "chi2_selector = SelectKBest(chi2, k='all')\n",
    "chi2_selector.fit(ohe_transform(train_df)[OHE.get_feature_names_out()], train_df[CLASS_LABEL])\n",
    "pvals = pd.DataFrame(chi2_selector.pvalues_, index=chi2_selector.feature_names_in_, columns=['p-value'])\n",
    "pvals"
   ]
  },
  {
   "cell_type": "code",
   "execution_count": 13,
   "metadata": {},
   "outputs": [
    {
     "name": "stdout",
     "output_type": "stream",
     "text": [
      "497 features are significant.\n"
     ]
    },
    {
     "data": {
      "text/plain": [
       "['Authors_',\n",
       " 'Authors_aaron mccollough',\n",
       " 'Authors_abu hamid ghazali',\n",
       " 'Authors_agatha christie',\n",
       " 'Authors_alba spedes',\n",
       " 'Authors_alexander kent',\n",
       " 'Authors_alexander schmemann',\n",
       " 'Authors_alexandre dumas',\n",
       " 'Authors_alison inches',\n",
       " 'Authors_allan fowler',\n",
       " 'Authors_amy knight',\n",
       " 'Authors_andrew hagan',\n",
       " 'Authors_ann arensberg',\n",
       " 'Authors_ann radcliffe',\n",
       " 'Authors_ann ripley',\n",
       " 'Authors_ann waldron',\n",
       " 'Authors_annette broadrick',\n",
       " 'Authors_anonymous',\n",
       " 'Authors_arthur herzog iii',\n",
       " 'Authors_arthur jensen',\n",
       " 'Authors_barbara barbieri mcgrath',\n",
       " 'Authors_barbara kuhn timby',\n",
       " 'Authors_bedi zzaman said nurs',\n",
       " 'Authors_beth moore',\n",
       " 'Authors_beverly brandt',\n",
       " 'Authors_bill ashcroft',\n",
       " 'Authors_bill watterson',\n",
       " 'Authors_bill willingham',\n",
       " 'Authors_bradley jersak',\n",
       " 'Authors_brenda jackson',\n",
       " 'Authors_bronwyn jameson',\n",
       " 'Authors_camille laurens',\n",
       " 'Authors_carol grace',\n",
       " 'Authors_carole mortimer',\n",
       " 'Authors_catherine cookson',\n",
       " 'Authors_catherine jinks',\n",
       " 'Authors_catherine spencer',\n",
       " 'Authors_charlene weir',\n",
       " 'Authors_charles alexander',\n",
       " 'Authors_charles fillmore',\n",
       " 'Authors_charles haddon spurgeon',\n",
       " 'Authors_charles sanders peirce',\n",
       " 'Authors_charles schulz',\n",
       " 'Authors_charlotte kasl',\n",
       " 'Authors_christopher bulis',\n",
       " 'Authors_christopher sandford',\n",
       " 'Authors_clayton emery',\n",
       " 'Authors_clifford linedecker',\n",
       " 'Authors_clint willis',\n",
       " 'Authors_craig holden',\n",
       " 'Authors_creflo dollar',\n",
       " 'Authors_cynthia victor',\n",
       " 'Authors_dan jurgens',\n",
       " 'Authors_david adler',\n",
       " 'Authors_david cole',\n",
       " 'Authors_david rabe',\n",
       " 'Authors_david robbins',\n",
       " 'Authors_debbie macomber',\n",
       " 'Authors_dixie browning',\n",
       " 'Authors_edith stein',\n",
       " 'Authors_edward bulwer lytton',\n",
       " 'Authors_eknath easwaran',\n",
       " 'Authors_eldon enger',\n",
       " 'Authors_eleanor robins',\n",
       " 'Authors_ellen feldman',\n",
       " 'Authors_ellen white',\n",
       " 'Authors_elsa klensch',\n",
       " 'Authors_elspeth campbell murphy',\n",
       " 'Authors_erika cheetham',\n",
       " 'Authors_fabian nicieza',\n",
       " 'Authors_fethullah len',\n",
       " 'Authors_frank hammond',\n",
       " 'Authors_friedrich schiller',\n",
       " 'Authors_fulton sheen',\n",
       " 'Authors_gentry lee',\n",
       " 'Authors_george martin',\n",
       " 'Authors_gerina dunwich',\n",
       " 'Authors_german national equestrian federation',\n",
       " 'Authors_gilbert meilaender',\n",
       " 'Authors_griffin',\n",
       " 'Authors_guillermo mart nez',\n",
       " 'Authors_guy maupassant',\n",
       " 'Authors_gwendoline riley',\n",
       " 'Authors_hal hartley',\n",
       " 'Authors_hal leonard publishing company',\n",
       " 'Authors_hans urs von balthasar',\n",
       " 'Authors_harriet ziefert',\n",
       " 'Authors_hayao miyazaki',\n",
       " 'Authors_hazrat inayat khan',\n",
       " 'Authors_horatio alger',\n",
       " 'Authors_hughes oliphant old',\n",
       " 'Authors_humberto fontova',\n",
       " 'Authors_james johnson',\n",
       " 'Authors_james lee burke',\n",
       " 'Authors_james strong',\n",
       " 'Authors_jan reid',\n",
       " 'Authors_jane feather',\n",
       " 'Authors_jane savoie',\n",
       " 'Authors_janette oke',\n",
       " 'Authors_javier sierra',\n",
       " 'Authors_jill briscoe',\n",
       " 'Authors_joanne kyger',\n",
       " 'Authors_joel levy',\n",
       " 'Authors_johann sebastian bach',\n",
       " 'Authors_johannes brahms',\n",
       " 'Authors_john fielder',\n",
       " 'Authors_john hara',\n",
       " 'Authors_john levine',\n",
       " 'Authors_john owen',\n",
       " 'Authors_john parker',\n",
       " 'Authors_john philpin',\n",
       " 'Authors_john whitman',\n",
       " 'Authors_jonathan gash',\n",
       " 'Authors_josef koudelka',\n",
       " 'Authors_judith brien',\n",
       " 'Authors_julie highmore',\n",
       " 'Authors_jung',\n",
       " 'Authors_karen haber',\n",
       " 'Authors_kathleen krull',\n",
       " 'Authors_kathy lette',\n",
       " 'Authors_kevin henkes',\n",
       " 'Authors_kevin randle',\n",
       " 'Authors_kim corum',\n",
       " 'Authors_larousse',\n",
       " 'Authors_laurence sterne',\n",
       " 'Authors_laurie gwen shapiro',\n",
       " 'Authors_laurie lawlor',\n",
       " 'Authors_lee friedlander',\n",
       " 'Authors_linda lael miller',\n",
       " 'Authors_lisieux',\n",
       " 'Authors_liz ireland',\n",
       " 'Authors_louis amour',\n",
       " 'Authors_louise hay',\n",
       " 'Authors_lucy gordon',\n",
       " 'Authors_lynn collum',\n",
       " 'Authors_maeve haran',\n",
       " 'Authors_mallanaga tsy yana',\n",
       " 'Authors_marilyn janovitz',\n",
       " 'Authors_marthe jocelyn',\n",
       " 'Authors_martin amis',\n",
       " 'Authors_martin harry greenberg',\n",
       " 'Authors_matthew paul turner',\n",
       " 'Authors_max ehrmann',\n",
       " 'Authors_max lucado',\n",
       " 'Authors_melissa leapman',\n",
       " 'Authors_michael cadnum',\n",
       " 'Authors_michael romkey',\n",
       " 'Authors_michelle spring',\n",
       " 'Authors_mindy neff',\n",
       " 'Authors_miranda lee',\n",
       " 'Authors_nancy jewell',\n",
       " 'Authors_nathaniel hawthorne',\n",
       " 'Authors_neal barrett',\n",
       " 'Authors_nero blanc',\n",
       " 'Authors_nora roberts',\n",
       " 'Authors_norman spinrad',\n",
       " 'Authors_norman thelwell',\n",
       " 'Authors_otto penzler',\n",
       " 'Authors_pamela britton',\n",
       " 'Authors_paramahansa yogananda',\n",
       " 'Authors_patricia gaffney',\n",
       " 'Authors_paul davids',\n",
       " 'Authors_paul metcalf',\n",
       " 'Authors_paul strathern',\n",
       " 'Authors_paulette cooper',\n",
       " 'Authors_pauline age',\n",
       " 'Authors_penny jordan',\n",
       " 'Authors_peter egan',\n",
       " 'Authors_philip hensher',\n",
       " 'Authors_philip smith',\n",
       " 'Authors_pope john paul',\n",
       " 'Authors_quino',\n",
       " 'Authors_rachel blau duplessis',\n",
       " 'Authors_rachel vail',\n",
       " 'Authors_raymond brown',\n",
       " 'Authors_ren goscinny',\n",
       " 'Authors_richard muller',\n",
       " 'Authors_rick moody',\n",
       " 'Authors_rick remender',\n",
       " 'Authors_robert ferrigno',\n",
       " 'Authors_robert stanek',\n",
       " 'Authors_roderick anscombe',\n",
       " 'Authors_ron marz',\n",
       " 'Authors_rosemary edghill',\n",
       " 'Authors_rosie rushton',\n",
       " 'Authors_rosmarie waldrop',\n",
       " 'Authors_ross bentley',\n",
       " 'Authors_ross petras',\n",
       " 'Authors_rowling',\n",
       " 'Authors_rudolf steiner',\n",
       " 'Authors_samantha hunter',\n",
       " 'Authors_sarah webb',\n",
       " 'Authors_scott dell',\n",
       " 'Authors_sharon naylor',\n",
       " 'Authors_shelby hearon',\n",
       " 'Authors_siegfried kracauer',\n",
       " 'Authors_slipknot',\n",
       " 'Authors_smith wigglesworth',\n",
       " 'Authors_sophie weston',\n",
       " 'Authors_stan berenstain',\n",
       " 'Authors_stephen bly',\n",
       " 'Authors_stephen cosgrove',\n",
       " 'Authors_stephen crane',\n",
       " 'Authors_stuart sim',\n",
       " 'Authors_susan meier',\n",
       " 'Authors_suzanne matson',\n",
       " 'Authors_ted loder',\n",
       " 'Authors_terrance dicks',\n",
       " 'Authors_terry moore',\n",
       " 'Authors_thea devine',\n",
       " 'Authors_thomas kinkade',\n",
       " 'Authors_tim green',\n",
       " 'Authors_tobias smollett',\n",
       " 'Authors_tolkien',\n",
       " 'Authors_tremper longman iii',\n",
       " 'Authors_trisha malcolm',\n",
       " 'Authors_tucker shaw',\n",
       " 'Authors_ursula dubosarsky',\n",
       " 'Authors_vine',\n",
       " 'Authors_virginia hamilton',\n",
       " 'Authors_walt kelly',\n",
       " 'Authors_will james',\n",
       " 'Authors_william barton',\n",
       " 'Authors_william johnstone',\n",
       " 'Authors_willo davis roberts',\n",
       " 'Authors_infrequent_sklearn',\n",
       " 'Publisher_abbeville press',\n",
       " 'Publisher_abrams',\n",
       " 'Publisher_abstract studio',\n",
       " 'Publisher_addison wesley publishing company',\n",
       " 'Publisher_aladdin',\n",
       " 'Publisher_alfred music',\n",
       " 'Publisher_alfred publishing',\n",
       " 'Publisher_allen',\n",
       " 'Publisher_allison busby',\n",
       " 'Publisher_allyn bacon',\n",
       " 'Publisher_alpha',\n",
       " 'Publisher_american girl publishing inc',\n",
       " 'Publisher_american mathematical society',\n",
       " 'Publisher_amg publishers',\n",
       " 'Publisher_aperture',\n",
       " 'Publisher_artscroll',\n",
       " 'Publisher_atlantic monthly press',\n",
       " 'Publisher_authors choice press',\n",
       " 'Publisher_back bay books',\n",
       " 'Publisher_baha publishing',\n",
       " 'Publisher_ballantine books',\n",
       " 'Publisher_banner truth',\n",
       " 'Publisher_bantam',\n",
       " 'Publisher_barbour books',\n",
       " 'Publisher_barricade books',\n",
       " 'Publisher_berghahn books',\n",
       " 'Publisher_berkley',\n",
       " 'Publisher_berkley books',\n",
       " 'Publisher_bethany house publishers',\n",
       " 'Publisher_better homes and gardens books',\n",
       " 'Publisher_bianca',\n",
       " 'Publisher_billboard books',\n",
       " 'Publisher_birkhauser',\n",
       " 'Publisher_black lace',\n",
       " 'Publisher_blackwell publishers',\n",
       " 'Publisher_bloomberg press',\n",
       " 'Publisher_blue apple books',\n",
       " 'Publisher_bmh books',\n",
       " 'Publisher_boa editions ltd',\n",
       " 'Publisher_book tree',\n",
       " 'Publisher_booket',\n",
       " 'Publisher_bridge logos',\n",
       " 'Publisher_bridge works publishing company',\n",
       " 'Publisher_brill academic publishers',\n",
       " 'Publisher_brookes publishing',\n",
       " 'Publisher_cambridge university press',\n",
       " 'Publisher_career press',\n",
       " 'Publisher_caribe betania editores',\n",
       " 'Publisher_carroll graf',\n",
       " 'Publisher_cedco publishing company',\n",
       " 'Publisher_cengage learning',\n",
       " 'Publisher_charisma house',\n",
       " 'Publisher_charles scribner sons',\n",
       " 'Publisher_churchill livingstone',\n",
       " 'Publisher_citadel press',\n",
       " 'Publisher_coffee house press',\n",
       " 'Publisher_comics',\n",
       " 'Publisher_corgi',\n",
       " 'Publisher_cosimo classics',\n",
       " 'Publisher_counterpoint',\n",
       " 'Publisher_creative homeowner',\n",
       " 'Publisher_crossway books',\n",
       " 'Publisher_dark horse comics',\n",
       " 'Publisher_del rey books',\n",
       " 'Publisher_distributed art publishers dap',\n",
       " 'Publisher_dover publications',\n",
       " 'Publisher_eerdmans books for young readers',\n",
       " 'Publisher_elsevier science',\n",
       " 'Publisher_everest publishing',\n",
       " 'Publisher_everyman library',\n",
       " 'Publisher_everything',\n",
       " 'Publisher_faithwords',\n",
       " 'Publisher_fantagraphics books',\n",
       " 'Publisher_farrar straus and giroux',\n",
       " 'Publisher_felony mayhem',\n",
       " 'Publisher_five star',\n",
       " 'Publisher_flammarion',\n",
       " 'Publisher_flor',\n",
       " 'Publisher_flux',\n",
       " 'Publisher_for dummies',\n",
       " 'Publisher_franciscan media',\n",
       " 'Publisher_free spirit publishing',\n",
       " 'Publisher_gallery books',\n",
       " 'Publisher_george braziller',\n",
       " 'Publisher_gill company',\n",
       " 'Publisher_granary books',\n",
       " 'Publisher_graphic arts center publishing company',\n",
       " 'Publisher_greenwillow books',\n",
       " 'Publisher_grupo nelson',\n",
       " 'Publisher_hal leonard publishing corporation',\n",
       " 'Publisher_harbour publishing',\n",
       " 'Publisher_harlequin',\n",
       " 'Publisher_harlequin blaze',\n",
       " 'Publisher_harlequin love laughter',\n",
       " 'Publisher_harlequin next',\n",
       " 'Publisher_harlequin nocturne',\n",
       " 'Publisher_harlequin presents',\n",
       " 'Publisher_harlequin rica',\n",
       " 'Publisher_harlequin romance',\n",
       " 'Publisher_harpercollins',\n",
       " 'Publisher_harrison house',\n",
       " 'Publisher_harvard university press',\n",
       " 'Publisher_hatje cantz',\n",
       " 'Publisher_hmh books for young readers',\n",
       " 'Publisher_howell books',\n",
       " 'Publisher_icon books',\n",
       " 'Publisher_ics publications',\n",
       " 'Publisher_idw publishing',\n",
       " 'Publisher_ignatius press',\n",
       " 'Publisher_impact christian books',\n",
       " 'Publisher_indiana university press',\n",
       " 'Publisher_inner traditions international',\n",
       " 'Publisher_irwin mcgraw hill',\n",
       " 'Publisher_islamic supreme council america',\n",
       " 'Publisher_islamic texts society',\n",
       " 'Publisher_jove',\n",
       " 'Publisher_kenilworth press',\n",
       " 'Publisher_kensington',\n",
       " 'Publisher_kids',\n",
       " 'Publisher_large print press',\n",
       " 'Publisher_last gasp',\n",
       " 'Publisher_lawrence hill books',\n",
       " 'Publisher_lifeway church resources',\n",
       " 'Publisher_light inc',\n",
       " 'Publisher_limelight',\n",
       " 'Publisher_liturgical press',\n",
       " 'Publisher_llewellyn publications',\n",
       " 'Publisher_lone pine publishing',\n",
       " 'Publisher_longman publishing group',\n",
       " 'Publisher_love spell',\n",
       " 'Publisher_lww',\n",
       " 'Publisher_lynne rienner publishers',\n",
       " 'Publisher_macadam cage publishing',\n",
       " 'Publisher_manchester university press',\n",
       " 'Publisher_martin griffin',\n",
       " 'Publisher_marvel',\n",
       " 'Publisher_marvel comics group',\n",
       " 'Publisher_mcgraw hill companies',\n",
       " 'Publisher_mcgraw hill humanities social sciences languages',\n",
       " 'Publisher_methuen publishing',\n",
       " 'Publisher_michael wiese productions',\n",
       " 'Publisher_microsoft press',\n",
       " 'Publisher_mills boon',\n",
       " 'Publisher_moody publishers',\n",
       " 'Publisher_morgan kaufmann publishers',\n",
       " 'Publisher_motorbooks',\n",
       " 'Publisher_museum modern art',\n",
       " 'Publisher_music sales',\n",
       " 'Publisher_nantier beall minoustchine publishing',\n",
       " 'Publisher_neal schuman publishers',\n",
       " 'Publisher_nelson bibles',\n",
       " 'Publisher_new canadian library',\n",
       " 'Publisher_new island books',\n",
       " 'Publisher_new tradition books',\n",
       " 'Publisher_nilgiri press',\n",
       " 'Publisher_nolo',\n",
       " 'Publisher_north atlantic books',\n",
       " 'Publisher_norton company',\n",
       " 'Publisher_omnibus press',\n",
       " 'Publisher_onyx',\n",
       " 'Publisher_other press asia',\n",
       " 'Publisher_our sunday visitor',\n",
       " 'Publisher_paulist press',\n",
       " 'Publisher_penguin',\n",
       " 'Publisher_phaidon press',\n",
       " 'Publisher_picador',\n",
       " 'Publisher_picador usa',\n",
       " 'Publisher_piccadilly press ltd',\n",
       " 'Publisher_pinnacle books',\n",
       " 'Publisher_poisoned pen press',\n",
       " 'Publisher_polity press',\n",
       " 'Publisher_pomegranate communications',\n",
       " 'Publisher_potomac books',\n",
       " 'Publisher_prentice hall',\n",
       " 'Publisher_press',\n",
       " 'Publisher_princeton architectural press',\n",
       " 'Publisher_princeton book company',\n",
       " 'Publisher_princeton university press',\n",
       " 'Publisher_publicaffairs',\n",
       " 'Publisher_puffin books',\n",
       " 'Publisher_que',\n",
       " 'Publisher_random house audio',\n",
       " 'Publisher_random house disney',\n",
       " 'Publisher_rangjung yeshe publications',\n",
       " 'Publisher_reagent press',\n",
       " 'Publisher_red dress ink',\n",
       " 'Publisher_regent college publishing',\n",
       " 'Publisher_reilly media',\n",
       " 'Publisher_rizzoli international publications',\n",
       " 'Publisher_roaring brook press',\n",
       " 'Publisher_rotovision',\n",
       " 'Publisher_running press',\n",
       " 'Publisher_saint pauls alba house',\n",
       " 'Publisher_sally milner publishing',\n",
       " 'Publisher_sasquatch books',\n",
       " 'Publisher_schirmer inc',\n",
       " 'Publisher_scholastic paperbacks',\n",
       " 'Publisher_scm press',\n",
       " 'Publisher_self realization fellowship publishers',\n",
       " 'Publisher_servant publications',\n",
       " 'Publisher_severn house publishers',\n",
       " 'Publisher_shambhala',\n",
       " 'Publisher_short books',\n",
       " 'Publisher_silhouette',\n",
       " 'Publisher_silhouette deseo',\n",
       " 'Publisher_silhouette desire',\n",
       " 'Publisher_silhouette romance',\n",
       " 'Publisher_sixth books',\n",
       " 'Publisher_snow lion',\n",
       " 'Publisher_soho press',\n",
       " 'Publisher_sovereign grace publishers',\n",
       " 'Publisher_spectra',\n",
       " 'Publisher_springer',\n",
       " 'Publisher_stackpole books',\n",
       " 'Publisher_stanford university press',\n",
       " 'Publisher_steidl',\n",
       " 'Publisher_steiner books',\n",
       " 'Publisher_tan books',\n",
       " 'Publisher_tandem library',\n",
       " 'Publisher_target books allen ltd',\n",
       " 'Publisher_tfh publications',\n",
       " 'Publisher_that patchwork place',\n",
       " 'Publisher_the jewish publication society',\n",
       " 'Publisher_thomas nelson',\n",
       " 'Publisher_thomas nelson publishers',\n",
       " 'Publisher_three rivers press',\n",
       " 'Publisher_timber press',\n",
       " 'Publisher_trafalgar square books',\n",
       " 'Publisher_trafalgar square publishing',\n",
       " 'Publisher_triquarterly',\n",
       " 'Publisher_tughra books',\n",
       " 'Publisher_tundra books',\n",
       " 'Publisher_turtleback books',\n",
       " 'Publisher_tyndale house publishers',\n",
       " 'Publisher_tyndale momentum',\n",
       " 'Publisher_unity books unity school christianity',\n",
       " 'Publisher_universe publishing',\n",
       " 'Publisher_university alabama press',\n",
       " 'Publisher_university pittsburgh press',\n",
       " 'Publisher_university press florida',\n",
       " 'Publisher_university press mississippi',\n",
       " 'Publisher_university texas press',\n",
       " 'Publisher_valancourt books',\n",
       " 'Publisher_vendome press',\n",
       " 'Publisher_vertigo',\n",
       " 'Publisher_vida',\n",
       " 'Publisher_villard',\n",
       " 'Publisher_villegas editores',\n",
       " 'Publisher_vintage',\n",
       " 'Publisher_virgin books',\n",
       " 'Publisher_viz media',\n",
       " 'Publisher_viz media llc',\n",
       " 'Publisher_vladimir seminary press',\n",
       " 'Publisher_wadsworth publishing company',\n",
       " 'Publisher_washington square press',\n",
       " 'Publisher_westcliffe publishers',\n",
       " 'Publisher_whitaker distribution',\n",
       " 'Publisher_whitaker house',\n",
       " 'Publisher_white pine press',\n",
       " 'Publisher_whitecap books',\n",
       " 'Publisher_wiley',\n",
       " 'Publisher_wiley blackwell',\n",
       " 'Publisher_wiley interscience',\n",
       " 'Publisher_wisdom publications',\n",
       " 'Publisher_wrox press',\n",
       " 'Publisher_xlibris corporation',\n",
       " 'Publisher_zebra',\n",
       " 'Publisher_zondervan',\n",
       " 'Publisher_zondervan academic',\n",
       " 'Publisher_zondervan publishing company',\n",
       " 'Publisher_infrequent_sklearn']"
      ]
     },
     "execution_count": 13,
     "metadata": {},
     "output_type": "execute_result"
    }
   ],
   "source": [
    "# Remember these features for later\n",
    "insig_cat_features_ohe = pvals[pvals['p-value'] >= ALPHA].index.tolist()\n",
    "sig_cat_features_ohe = pvals[pvals['p-value'] < ALPHA].index.tolist()\n",
    "print(len(sig_cat_features_ohe), \"features are significant.\")\n",
    "sig_cat_features_ohe"
   ]
  },
  {
   "cell_type": "markdown",
   "metadata": {},
   "source": [
    "### Option 2: Ordinal Encoder"
   ]
  },
  {
   "cell_type": "code",
   "execution_count": 14,
   "metadata": {},
   "outputs": [
    {
     "data": {
      "text/html": [
       "<style>#sk-container-id-2 {color: black;background-color: white;}#sk-container-id-2 pre{padding: 0;}#sk-container-id-2 div.sk-toggleable {background-color: white;}#sk-container-id-2 label.sk-toggleable__label {cursor: pointer;display: block;width: 100%;margin-bottom: 0;padding: 0.3em;box-sizing: border-box;text-align: center;}#sk-container-id-2 label.sk-toggleable__label-arrow:before {content: \"▸\";float: left;margin-right: 0.25em;color: #696969;}#sk-container-id-2 label.sk-toggleable__label-arrow:hover:before {color: black;}#sk-container-id-2 div.sk-estimator:hover label.sk-toggleable__label-arrow:before {color: black;}#sk-container-id-2 div.sk-toggleable__content {max-height: 0;max-width: 0;overflow: hidden;text-align: left;background-color: #f0f8ff;}#sk-container-id-2 div.sk-toggleable__content pre {margin: 0.2em;color: black;border-radius: 0.25em;background-color: #f0f8ff;}#sk-container-id-2 input.sk-toggleable__control:checked~div.sk-toggleable__content {max-height: 200px;max-width: 100%;overflow: auto;}#sk-container-id-2 input.sk-toggleable__control:checked~label.sk-toggleable__label-arrow:before {content: \"▾\";}#sk-container-id-2 div.sk-estimator input.sk-toggleable__control:checked~label.sk-toggleable__label {background-color: #d4ebff;}#sk-container-id-2 div.sk-label input.sk-toggleable__control:checked~label.sk-toggleable__label {background-color: #d4ebff;}#sk-container-id-2 input.sk-hidden--visually {border: 0;clip: rect(1px 1px 1px 1px);clip: rect(1px, 1px, 1px, 1px);height: 1px;margin: -1px;overflow: hidden;padding: 0;position: absolute;width: 1px;}#sk-container-id-2 div.sk-estimator {font-family: monospace;background-color: #f0f8ff;border: 1px dotted black;border-radius: 0.25em;box-sizing: border-box;margin-bottom: 0.5em;}#sk-container-id-2 div.sk-estimator:hover {background-color: #d4ebff;}#sk-container-id-2 div.sk-parallel-item::after {content: \"\";width: 100%;border-bottom: 1px solid gray;flex-grow: 1;}#sk-container-id-2 div.sk-label:hover label.sk-toggleable__label {background-color: #d4ebff;}#sk-container-id-2 div.sk-serial::before {content: \"\";position: absolute;border-left: 1px solid gray;box-sizing: border-box;top: 0;bottom: 0;left: 50%;z-index: 0;}#sk-container-id-2 div.sk-serial {display: flex;flex-direction: column;align-items: center;background-color: white;padding-right: 0.2em;padding-left: 0.2em;position: relative;}#sk-container-id-2 div.sk-item {position: relative;z-index: 1;}#sk-container-id-2 div.sk-parallel {display: flex;align-items: stretch;justify-content: center;background-color: white;position: relative;}#sk-container-id-2 div.sk-item::before, #sk-container-id-2 div.sk-parallel-item::before {content: \"\";position: absolute;border-left: 1px solid gray;box-sizing: border-box;top: 0;bottom: 0;left: 50%;z-index: -1;}#sk-container-id-2 div.sk-parallel-item {display: flex;flex-direction: column;z-index: 1;position: relative;background-color: white;}#sk-container-id-2 div.sk-parallel-item:first-child::after {align-self: flex-end;width: 50%;}#sk-container-id-2 div.sk-parallel-item:last-child::after {align-self: flex-start;width: 50%;}#sk-container-id-2 div.sk-parallel-item:only-child::after {width: 0;}#sk-container-id-2 div.sk-dashed-wrapped {border: 1px dashed gray;margin: 0 0.4em 0.5em 0.4em;box-sizing: border-box;padding-bottom: 0.4em;background-color: white;}#sk-container-id-2 div.sk-label label {font-family: monospace;font-weight: bold;display: inline-block;line-height: 1.2em;}#sk-container-id-2 div.sk-label-container {text-align: center;}#sk-container-id-2 div.sk-container {/* jupyter's `normalize.less` sets `[hidden] { display: none; }` but bootstrap.min.css set `[hidden] { display: none !important; }` so we also need the `!important` here to be able to override the default hidden behavior on the sphinx rendered scikit-learn.org. See: https://github.com/scikit-learn/scikit-learn/issues/21755 */display: inline-block !important;position: relative;}#sk-container-id-2 div.sk-text-repr-fallback {display: none;}</style><div id=\"sk-container-id-2\" class=\"sk-top-container\"><div class=\"sk-text-repr-fallback\"><pre>OrdinalEncoder(handle_unknown=&#x27;use_encoded_value&#x27;, unknown_value=-1)</pre><b>In a Jupyter environment, please rerun this cell to show the HTML representation or trust the notebook. <br />On GitHub, the HTML representation is unable to render, please try loading this page with nbviewer.org.</b></div><div class=\"sk-container\" hidden><div class=\"sk-item\"><div class=\"sk-estimator sk-toggleable\"><input class=\"sk-toggleable__control sk-hidden--visually\" id=\"sk-estimator-id-2\" type=\"checkbox\" checked><label for=\"sk-estimator-id-2\" class=\"sk-toggleable__label sk-toggleable__label-arrow\">OrdinalEncoder</label><div class=\"sk-toggleable__content\"><pre>OrdinalEncoder(handle_unknown=&#x27;use_encoded_value&#x27;, unknown_value=-1)</pre></div></div></div></div></div>"
      ],
      "text/plain": [
       "OrdinalEncoder(handle_unknown='use_encoded_value', unknown_value=-1)"
      ]
     },
     "execution_count": 14,
     "metadata": {},
     "output_type": "execute_result"
    }
   ],
   "source": [
    "from sklearn.preprocessing import OrdinalEncoder\n",
    "\n",
    "ORD_ENCODER = OrdinalEncoder(handle_unknown=\"use_encoded_value\", unknown_value=-1)\n",
    "ORD_ENCODER.fit(entire_df[CATEGORICAL_FEATURES])"
   ]
  },
  {
   "cell_type": "code",
   "execution_count": 15,
   "metadata": {},
   "outputs": [],
   "source": [
    "def ord_enc_transform(df):\n",
    "    df = df.copy()\n",
    "    df[CATEGORICAL_FEATURES] = ORD_ENCODER.transform(df[CATEGORICAL_FEATURES])\n",
    "    for i in range(len(CATEGORICAL_FEATURES)):  \n",
    "        # some models (e.g. CategoricalNB), cannot handle negative values, so we replace -1 with the next unused int to denote unseen values\n",
    "        df[CATEGORICAL_FEATURES[i]] = df[CATEGORICAL_FEATURES[i]].replace(-1, ORD_ENCODER.categories_[i].size)\n",
    "    \n",
    "    return df"
   ]
  },
  {
   "cell_type": "code",
   "execution_count": 16,
   "metadata": {},
   "outputs": [
    {
     "data": {
      "text/html": [
       "<div>\n",
       "<style scoped>\n",
       "    .dataframe tbody tr th:only-of-type {\n",
       "        vertical-align: middle;\n",
       "    }\n",
       "\n",
       "    .dataframe tbody tr th {\n",
       "        vertical-align: top;\n",
       "    }\n",
       "\n",
       "    .dataframe thead th {\n",
       "        text-align: right;\n",
       "    }\n",
       "</style>\n",
       "<table border=\"1\" class=\"dataframe\">\n",
       "  <thead>\n",
       "    <tr style=\"text-align: right;\">\n",
       "      <th></th>\n",
       "      <th>p-value</th>\n",
       "    </tr>\n",
       "  </thead>\n",
       "  <tbody>\n",
       "    <tr>\n",
       "      <th>Authors</th>\n",
       "      <td>0.000000e+00</td>\n",
       "    </tr>\n",
       "    <tr>\n",
       "      <th>Publisher</th>\n",
       "      <td>8.039090e-58</td>\n",
       "    </tr>\n",
       "  </tbody>\n",
       "</table>\n",
       "</div>"
      ],
      "text/plain": [
       "                p-value\n",
       "Authors    0.000000e+00\n",
       "Publisher  8.039090e-58"
      ]
     },
     "execution_count": 16,
     "metadata": {},
     "output_type": "execute_result"
    }
   ],
   "source": [
    "# Check chi2\n",
    "chi2_selector = SelectKBest(chi2, k='all')\n",
    "chi2_selector.fit(ord_enc_transform(train_df)[['Authors', 'Publisher']], train_df[CLASS_LABEL])\n",
    "pd.DataFrame(chi2_selector.pvalues_, index=chi2_selector.feature_names_in_, columns=['p-value'])\n",
    "# Looks like we can keep both features using ordinal encoding"
   ]
  },
  {
   "cell_type": "markdown",
   "metadata": {},
   "source": [
    "## Preprocess Numerical features: PublishDates and pagesNumber"
   ]
  },
  {
   "cell_type": "code",
   "execution_count": 17,
   "metadata": {
    "execution": {
     "iopub.execute_input": "2023-04-16T08:06:46.337254Z",
     "iopub.status.busy": "2023-04-16T08:06:46.336497Z",
     "iopub.status.idle": "2023-04-16T08:06:47.572378Z",
     "shell.execute_reply": "2023-04-16T08:06:47.571097Z",
     "shell.execute_reply.started": "2023-04-16T08:06:46.337212Z"
    }
   },
   "outputs": [
    {
     "data": {
      "image/png": "[encoded data removed]",
      "text/plain": [
       "<Figure size 640x480 with 1 Axes>"
      ]
     },
     "metadata": {},
     "output_type": "display_data"
    },
    {
     "data": {
      "image/png": "[encoded data removed]",
      "text/plain": [
       "<Figure size 640x480 with 1 Axes>"
      ]
     },
     "metadata": {},
     "output_type": "display_data"
    },
    {
     "data": {
      "image/png": "[encoded data removed]",
      "text/plain": [
       "<Figure size 640x480 with 1 Axes>"
      ]
     },
     "metadata": {},
     "output_type": "display_data"
    }
   ],
   "source": [
    "# Scatterplots for Publish year, month, and day vs. Rating\n",
    "for feature in ['PublishYear', 'PublishMonth', 'PublishDay']: \n",
    "    scatter_vs_rating(original_train_df, feature)\n",
    "    \n",
    "    # Look at the average rating for each value\n",
    "    values, counts = np.unique(sorted(original_train_df[feature]), return_counts=True)\n",
    "    avg = [sum(original_train_df.loc[original_train_df[feature] == values[i]][CLASS_LABEL]) / counts[i] for i in range(len(values))]\n",
    "    plt.plot(values, avg, color = 'red')\n",
    "    plt.show()"
   ]
  },
  {
   "cell_type": "code",
   "execution_count": 18,
   "metadata": {},
   "outputs": [
    {
     "data": {
      "image/png": "[encoded data removed]",
      "text/plain": [
       "<Figure size 640x480 with 1 Axes>"
      ]
     },
     "metadata": {},
     "output_type": "display_data"
    }
   ],
   "source": [
    "# Histogram for pages number < 2000\n",
    "hist_plot(original_train_df.loc[original_train_df['pagesNumber'] < 2000], 'pagesNumber')"
   ]
  },
  {
   "cell_type": "code",
   "execution_count": 19,
   "metadata": {},
   "outputs": [
    {
     "data": {
      "image/png": "[encoded data removed]",
      "text/plain": [
       "<Figure size 640x480 with 1 Axes>"
      ]
     },
     "metadata": {},
     "output_type": "display_data"
    }
   ],
   "source": [
    "scatter_vs_rating(original_train_df, 'pagesNumber')\n",
    "plt.show()"
   ]
  },
  {
   "cell_type": "code",
   "execution_count": 20,
   "metadata": {
    "execution": {
     "iopub.execute_input": "2023-04-16T08:06:40.804818Z",
     "iopub.status.busy": "2023-04-16T08:06:40.803332Z",
     "iopub.status.idle": "2023-04-16T08:06:41.319477Z",
     "shell.execute_reply": "2023-04-16T08:06:41.317637Z",
     "shell.execute_reply.started": "2023-04-16T08:06:40.804753Z"
    }
   },
   "outputs": [
    {
     "data": {
      "image/png": "[encoded data removed]",
      "text/plain": [
       "<Figure size 1200x800 with 2 Axes>"
      ]
     },
     "metadata": {},
     "output_type": "display_data"
    }
   ],
   "source": [
    "# Look at the correlation matrix of the numerical attributes\n",
    "cor_matrix = original_train_df[NUMERICAL_FEATURES + [CLASS_LABEL]].corr()\n",
    "round(cor_matrix, 2)\n",
    "plt.figure(figsize=(12, 8))\n",
    "sns.heatmap(cor_matrix, cmap='cividis', annot=True, linewidths=2)\n",
    "plt.show()"
   ]
  },
  {
   "cell_type": "code",
   "execution_count": 21,
   "metadata": {},
   "outputs": [
    {
     "data": {
      "text/plain": [
       "array([0.00977533, 0.00115237, 0.00227827, 0.01429989])"
      ]
     },
     "execution_count": 21,
     "metadata": {},
     "output_type": "execute_result"
    }
   ],
   "source": [
    "# Order: ['PublishYear', 'PublishMonth', 'PublishDay', 'pagesNumber']\n",
    "mutual_info_classif(train_df[NUMERICAL_FEATURES], train_df[CLASS_LABEL], discrete_features=[True, True, True, False])"
   ]
  },
  {
   "cell_type": "code",
   "execution_count": 22,
   "metadata": {},
   "outputs": [
    {
     "name": "stdout",
     "output_type": "stream",
     "text": [
      "AMI for PublishYear = 0.003001362164388505\n",
      "AMI for PublishMonth = 0.00042120564481925796\n",
      "AMI for PublishDay = 0.0005764790138975723\n",
      "AMI for pagesNumber = 0.006588130691072023\n"
     ]
    }
   ],
   "source": [
    "for feature in NUMERICAL_FEATURES:\n",
    "    print(f\"AMI for {feature} =\", adjusted_mutual_info_score(train_df[feature], train_df[CLASS_LABEL]))"
   ]
  },
  {
   "cell_type": "code",
   "execution_count": 23,
   "metadata": {},
   "outputs": [],
   "source": [
    "# MI: top 2 = PublishYear, pagesNumber\n",
    "# Correlation matrix: top 2 = PublishYear, pagesNumber\n",
    "# Discard PublishMonth, PublishDay\n",
    "#train_df = train_df.drop(['PublishMonth', 'PublishDay'], axis=1)"
   ]
  },
  {
   "cell_type": "code",
   "execution_count": 24,
   "metadata": {},
   "outputs": [],
   "source": [
    "# Try discretizing it\n",
    "from sklearn.preprocessing import KBinsDiscretizer\n",
    "\n",
    "def discretize(df, feature, discretizer=None, strategy='kmeans', n_bins=5):\n",
    "    if discretizer is None:\n",
    "        discretizer = KBinsDiscretizer(n_bins=n_bins, encode='ordinal', strategy=strategy)\n",
    "        discretizer.fit(df[[feature]])\n",
    "        \n",
    "    transformed_df = df.copy()\n",
    "    transformed_df[feature] = discretizer.transform(df[[feature]])\n",
    "    \n",
    "    return transformed_df, discretizer"
   ]
  },
  {
   "cell_type": "code",
   "execution_count": 25,
   "metadata": {},
   "outputs": [],
   "source": [
    "DISCRETIZATION_STRATEGIES = ['kmeans', 'quantile', 'uniform']\n",
    "\n",
    "def tune_discretization(X, y, feature, lower, upper):\n",
    "    \"\"\"\n",
    "    Returns the combination of n (number of bins) and discretisation strategy \n",
    "    that gives the highest normalised mutual information between `X` and `y`.\n",
    "    \"\"\"\n",
    "    \n",
    "    max_ami = 0\n",
    "    best_n = 0\n",
    "    best_strategy = None\n",
    "    \n",
    "    for n in range(lower, upper+1):\n",
    "        for strategy in DISCRETIZATION_STRATEGIES:\n",
    "            transformed_X, _ = discretize(X, feature, strategy=strategy, n_bins=n)\n",
    "            ami = adjusted_mutual_info_score(transformed_X[feature], y)\n",
    "            if ami > max_ami:\n",
    "                max_ami = ami\n",
    "                best_n = n\n",
    "                best_strategy = strategy\n",
    "    \n",
    "    return max_ami, best_n, best_strategy"
   ]
  },
  {
   "cell_type": "code",
   "execution_count": 26,
   "metadata": {},
   "outputs": [
    {
     "name": "stdout",
     "output_type": "stream",
     "text": [
      "Feature: PublishYear\n",
      "The number of bins that gives the highest AMI with rating_label is 15\n",
      "The highest AMI is: 0.0058383814210868365\n",
      "The best strategy is: uniform\n",
      "\n",
      "\n",
      "Feature: PublishMonth\n",
      "The number of bins that gives the highest AMI with rating_label is 6\n",
      "The highest AMI is: 0.0005063750498256905\n",
      "The best strategy is: quantile\n",
      "\n",
      "\n",
      "Feature: PublishDay\n",
      "The number of bins that gives the highest AMI with rating_label is 11\n",
      "The highest AMI is: 0.0008658870757947885\n",
      "The best strategy is: quantile\n",
      "\n",
      "\n",
      "Feature: pagesNumber\n",
      "The number of bins that gives the highest AMI with rating_label is 42\n",
      "The highest AMI is: 0.014522417748331991\n",
      "The best strategy is: uniform\n",
      "\n",
      "\n"
     ]
    }
   ],
   "source": [
    "nbins_upper = {'PublishYear': train_df['PublishYear'].nunique(), 'PublishMonth': 12, 'PublishDay': 31, 'pagesNumber': 50}\n",
    "\n",
    "for feature in NUMERICAL_FEATURES:\n",
    "    max_ami, best_n, best_strategy = tune_discretization(train_df, train_df[CLASS_LABEL], feature, 2, nbins_upper[feature])\n",
    "    print(\"Feature:\", feature)\n",
    "    print(\"The number of bins that gives the highest AMI with rating_label is\", best_n)\n",
    "    print(\"The highest AMI is:\", max_ami)\n",
    "    print(\"The best strategy is:\", best_strategy)\n",
    "    print(\"\\n\")\n",
    "\n",
    "# All AMI increased slightly after discretization"
   ]
  },
  {
   "cell_type": "code",
   "execution_count": 27,
   "metadata": {},
   "outputs": [
    {
     "data": {
      "text/plain": [
       "(array([ 0.,  4.,  5.,  6.,  7.,  8.,  9., 10., 11., 12., 13., 14.]),\n",
       " array([    1,     5,     4,     6,     8,    19,    59,   233,  1080,\n",
       "         5058, 16219,   371]))"
      ]
     },
     "execution_count": 27,
     "metadata": {},
     "output_type": "execute_result"
    }
   ],
   "source": [
    "train_df, DISCRETIZER_PY = discretize(train_df, 'PublishYear', strategy='uniform', n_bins=15)\n",
    "np.unique(train_df['PublishYear'], return_counts=True)"
   ]
  },
  {
   "cell_type": "code",
   "execution_count": 28,
   "metadata": {},
   "outputs": [
    {
     "data": {
      "image/png": "[encoded data removed]",
      "text/plain": [
       "<Figure size 640x480 with 1 Axes>"
      ]
     },
     "metadata": {},
     "output_type": "display_data"
    }
   ],
   "source": [
    "scatter_vs_rating(train_df, 'PublishYear')"
   ]
  },
  {
   "cell_type": "code",
   "execution_count": 29,
   "metadata": {},
   "outputs": [
    {
     "data": {
      "text/plain": [
       "(array([0., 1., 2., 3., 4., 5.]), array([2481, 3548, 4134, 5132, 2287, 5481]))"
      ]
     },
     "execution_count": 29,
     "metadata": {},
     "output_type": "execute_result"
    }
   ],
   "source": [
    "train_df, DISCRETIZER_PM = discretize(train_df, 'PublishMonth', strategy='quantile', n_bins=6)\n",
    "np.unique(train_df['PublishMonth'], return_counts=True)"
   ]
  },
  {
   "cell_type": "code",
   "execution_count": 30,
   "metadata": {},
   "outputs": [
    {
     "data": {
      "image/png": "[encoded data removed]",
      "text/plain": [
       "<Figure size 640x480 with 1 Axes>"
      ]
     },
     "metadata": {},
     "output_type": "display_data"
    }
   ],
   "source": [
    "scatter_vs_rating(train_df, 'PublishMonth')"
   ]
  },
  {
   "cell_type": "code",
   "execution_count": 31,
   "metadata": {},
   "outputs": [
    {
     "data": {
      "text/plain": [
       "(array([0., 1., 2., 3., 4., 5., 6.]),\n",
       " array([10149,  2283,  2049,  2030,  2306,  1741,  2505]))"
      ]
     },
     "execution_count": 31,
     "metadata": {},
     "output_type": "execute_result"
    }
   ],
   "source": [
    "train_df, DISCRETIZER_PD = discretize(train_df, 'PublishDay', strategy='quantile', n_bins=11)\n",
    "np.unique(train_df['PublishDay'], return_counts=True)"
   ]
  },
  {
   "cell_type": "code",
   "execution_count": 32,
   "metadata": {},
   "outputs": [
    {
     "data": {
      "image/png": "[encoded data removed]",
      "text/plain": [
       "<Figure size 640x480 with 1 Axes>"
      ]
     },
     "metadata": {},
     "output_type": "display_data"
    }
   ],
   "source": [
    "scatter_vs_rating(train_df, 'PublishDay')"
   ]
  },
  {
   "cell_type": "code",
   "execution_count": 33,
   "metadata": {},
   "outputs": [
    {
     "data": {
      "text/plain": [
       "(array([ 0.,  1.,  2.,  3.,  4., 11., 41.]),\n",
       " array([22745,   269,    40,     4,     1,     3,     1]))"
      ]
     },
     "execution_count": 33,
     "metadata": {},
     "output_type": "execute_result"
    }
   ],
   "source": [
    "train_df, DISCRETIZER_PN = discretize(train_df, 'pagesNumber', strategy='uniform', n_bins=42)\n",
    "np.unique(train_df['pagesNumber'], return_counts=True)"
   ]
  },
  {
   "cell_type": "code",
   "execution_count": 34,
   "metadata": {
    "scrolled": true
   },
   "outputs": [
    {
     "data": {
      "image/png": "[encoded data removed]",
      "text/plain": [
       "<Figure size 640x480 with 1 Axes>"
      ]
     },
     "metadata": {},
     "output_type": "display_data"
    }
   ],
   "source": [
    "scatter_vs_rating(train_df, 'pagesNumber')"
   ]
  },
  {
   "cell_type": "markdown",
   "metadata": {},
   "source": [
    "## Text Pre-processing"
   ]
  },
  {
   "cell_type": "code",
   "execution_count": 35,
   "metadata": {},
   "outputs": [],
   "source": [
    "# We use a different delimiter for the name and description bigrams, to prevent duplicate column namaes\n",
    "train_df_name, VECTORIZER_NAME = preprocess_text_feature(train_df, 'Name', ngram=2, delimiter='_')  # can try ngram=1\n",
    "train_df_desc, VECTORIZER_DESC = preprocess_text_feature(train_df, 'Description', ngram=2)\n",
    "# print(sorted(vectorizer_name.vocabulary_))\n",
    "# print(sorted(vectorizer_desc.vocabulary_))"
   ]
  },
  {
   "cell_type": "code",
   "execution_count": 36,
   "metadata": {
    "scrolled": false
   },
   "outputs": [],
   "source": [
    "# Bind them together\n",
    "train_df = pd.concat([train_df.reset_index(drop=True), train_df_name, train_df_desc], axis=1)\n",
    "train_df = train_df.drop(TEXT_FEATURES, axis=1)  # drop the original columns"
   ]
  },
  {
   "cell_type": "markdown",
   "metadata": {},
   "source": [
    "## Convert rating_label to categorical class label"
   ]
  },
  {
   "cell_type": "code",
   "execution_count": 37,
   "metadata": {
    "scrolled": true
   },
   "outputs": [],
   "source": [
    "# Finally, convert rating_label to categorical class label\n",
    "train_df[CLASS_LABEL] = train_df[CLASS_LABEL].astype('category')\n",
    "# move rating_label to the last column\n",
    "labels = train_df[CLASS_LABEL]\n",
    "train_df = pd.concat([train_df.drop([CLASS_LABEL], axis=1), labels], axis=1) "
   ]
  },
  {
   "cell_type": "code",
   "execution_count": 38,
   "metadata": {},
   "outputs": [],
   "source": [
    "DTYPE = train_df.dtypes.apply(lambda x: x.name).to_dict()  # needed for reading the CSV later\n",
    "DTYPE['Authors'] = 'string'\n",
    "DTYPE['Publisher'] = 'string'"
   ]
  },
  {
   "cell_type": "code",
   "execution_count": 39,
   "metadata": {},
   "outputs": [],
   "source": [
    "# Save the general transformed df\n",
    "train_df.to_csv(DATASET_DIR + \"/train_df.csv\", index=False)"
   ]
  },
  {
   "cell_type": "markdown",
   "metadata": {},
   "source": [
    "## Preprocessing: Altogether"
   ]
  },
  {
   "cell_type": "code",
   "execution_count": 40,
   "metadata": {},
   "outputs": [],
   "source": [
    "def preprocess_test_df(df):\n",
    "    df = df.copy()\n",
    "    \n",
    "    # preprocess string features\n",
    "    for feature in CATEGORICAL_FEATURES:\n",
    "        df[feature] = df[feature].apply(lambda x: preprocess(str(x), stop_words_removal=False, lemmatize=False, min_word_len=0))\n",
    "    \n",
    "    # preprocess pagesNumber and PublishYear\n",
    "    df = discretize(df, 'PublishDay', discretizer=DISCRETIZER_PD)[0]\n",
    "    df = discretize(df, 'PublishMonth', discretizer=DISCRETIZER_PM)[0]\n",
    "    df = discretize(df, 'PublishYear', discretizer=DISCRETIZER_PY)[0]\n",
    "    df = discretize(df, 'pagesNumber', discretizer=DISCRETIZER_PN)[0]\n",
    "    \n",
    "    # preprocess text features\n",
    "    df_name = preprocess_text_feature(df, 'Name', vectorizer=VECTORIZER_NAME, delimiter='_')[0]\n",
    "    df_desc = preprocess_text_feature(df, 'Description', vectorizer=VECTORIZER_DESC)[0]\n",
    "    \n",
    "    # discard the obsolete original features and unwanted features\n",
    "    df = pd.concat([df.reset_index(drop=True), df_name, df_desc], axis=1)\n",
    "    df = df.drop(['Name', 'Description', 'Language'], axis=1)\n",
    "        \n",
    "    return df"
   ]
  },
  {
   "cell_type": "code",
   "execution_count": 41,
   "metadata": {},
   "outputs": [
    {
     "data": {
      "text/html": [
       "<div>\n",
       "<style scoped>\n",
       "    .dataframe tbody tr th:only-of-type {\n",
       "        vertical-align: middle;\n",
       "    }\n",
       "\n",
       "    .dataframe tbody tr th {\n",
       "        vertical-align: top;\n",
       "    }\n",
       "\n",
       "    .dataframe thead th {\n",
       "        text-align: right;\n",
       "    }\n",
       "</style>\n",
       "<table border=\"1\" class=\"dataframe\">\n",
       "  <thead>\n",
       "    <tr style=\"text-align: right;\">\n",
       "      <th></th>\n",
       "      <th>Authors</th>\n",
       "      <th>PublishYear</th>\n",
       "      <th>PublishMonth</th>\n",
       "      <th>PublishDay</th>\n",
       "      <th>Publisher</th>\n",
       "      <th>pagesNumber</th>\n",
       "      <th>reading_writing</th>\n",
       "      <th>gay_lesbian</th>\n",
       "      <th>secret_life</th>\n",
       "      <th>travel_guide</th>\n",
       "      <th>...</th>\n",
       "      <th>love affair</th>\n",
       "      <th>north america</th>\n",
       "      <th>paperback edition</th>\n",
       "      <th>book cover</th>\n",
       "      <th>book one</th>\n",
       "      <th>family life</th>\n",
       "      <th>civil right</th>\n",
       "      <th>step instruction</th>\n",
       "      <th>young girl</th>\n",
       "      <th>everything need</th>\n",
       "    </tr>\n",
       "  </thead>\n",
       "  <tbody>\n",
       "    <tr>\n",
       "      <th>0</th>\n",
       "      <td>richard rohr</td>\n",
       "      <td>12.0</td>\n",
       "      <td>0.0</td>\n",
       "      <td>0.0</td>\n",
       "      <td>orbis books</td>\n",
       "      <td>0.0</td>\n",
       "      <td>0.0</td>\n",
       "      <td>0.0</td>\n",
       "      <td>0.0</td>\n",
       "      <td>0.0</td>\n",
       "      <td>...</td>\n",
       "      <td>0.0</td>\n",
       "      <td>0.000000</td>\n",
       "      <td>0.0</td>\n",
       "      <td>0.0</td>\n",
       "      <td>0.0</td>\n",
       "      <td>0.0</td>\n",
       "      <td>0.0</td>\n",
       "      <td>0.0</td>\n",
       "      <td>0.0</td>\n",
       "      <td>0.0</td>\n",
       "    </tr>\n",
       "    <tr>\n",
       "      <th>1</th>\n",
       "      <td>robert blake</td>\n",
       "      <td>12.0</td>\n",
       "      <td>1.0</td>\n",
       "      <td>4.0</td>\n",
       "      <td>puffin</td>\n",
       "      <td>0.0</td>\n",
       "      <td>0.0</td>\n",
       "      <td>0.0</td>\n",
       "      <td>0.0</td>\n",
       "      <td>0.0</td>\n",
       "      <td>...</td>\n",
       "      <td>0.0</td>\n",
       "      <td>0.000000</td>\n",
       "      <td>0.0</td>\n",
       "      <td>0.0</td>\n",
       "      <td>0.0</td>\n",
       "      <td>0.0</td>\n",
       "      <td>0.0</td>\n",
       "      <td>0.0</td>\n",
       "      <td>0.0</td>\n",
       "      <td>0.0</td>\n",
       "    </tr>\n",
       "    <tr>\n",
       "      <th>2</th>\n",
       "      <td>martha taylor</td>\n",
       "      <td>13.0</td>\n",
       "      <td>0.0</td>\n",
       "      <td>0.0</td>\n",
       "      <td>benjamin cummings</td>\n",
       "      <td>0.0</td>\n",
       "      <td>0.0</td>\n",
       "      <td>0.0</td>\n",
       "      <td>0.0</td>\n",
       "      <td>0.0</td>\n",
       "      <td>...</td>\n",
       "      <td>0.0</td>\n",
       "      <td>0.000000</td>\n",
       "      <td>0.0</td>\n",
       "      <td>0.0</td>\n",
       "      <td>0.0</td>\n",
       "      <td>0.0</td>\n",
       "      <td>0.0</td>\n",
       "      <td>0.0</td>\n",
       "      <td>0.0</td>\n",
       "      <td>0.0</td>\n",
       "    </tr>\n",
       "    <tr>\n",
       "      <th>3</th>\n",
       "      <td>beverley</td>\n",
       "      <td>13.0</td>\n",
       "      <td>4.0</td>\n",
       "      <td>1.0</td>\n",
       "      <td>signet</td>\n",
       "      <td>0.0</td>\n",
       "      <td>0.0</td>\n",
       "      <td>0.0</td>\n",
       "      <td>0.0</td>\n",
       "      <td>0.0</td>\n",
       "      <td>...</td>\n",
       "      <td>0.0</td>\n",
       "      <td>0.000000</td>\n",
       "      <td>0.0</td>\n",
       "      <td>0.0</td>\n",
       "      <td>0.0</td>\n",
       "      <td>0.0</td>\n",
       "      <td>0.0</td>\n",
       "      <td>0.0</td>\n",
       "      <td>0.0</td>\n",
       "      <td>0.0</td>\n",
       "    </tr>\n",
       "    <tr>\n",
       "      <th>4</th>\n",
       "      <td>michele kort</td>\n",
       "      <td>13.0</td>\n",
       "      <td>2.0</td>\n",
       "      <td>1.0</td>\n",
       "      <td>thomas dunne books</td>\n",
       "      <td>0.0</td>\n",
       "      <td>0.0</td>\n",
       "      <td>0.0</td>\n",
       "      <td>0.0</td>\n",
       "      <td>0.0</td>\n",
       "      <td>...</td>\n",
       "      <td>0.0</td>\n",
       "      <td>0.301431</td>\n",
       "      <td>0.0</td>\n",
       "      <td>0.0</td>\n",
       "      <td>0.0</td>\n",
       "      <td>0.0</td>\n",
       "      <td>0.0</td>\n",
       "      <td>0.0</td>\n",
       "      <td>0.0</td>\n",
       "      <td>0.0</td>\n",
       "    </tr>\n",
       "    <tr>\n",
       "      <th>...</th>\n",
       "      <td>...</td>\n",
       "      <td>...</td>\n",
       "      <td>...</td>\n",
       "      <td>...</td>\n",
       "      <td>...</td>\n",
       "      <td>...</td>\n",
       "      <td>...</td>\n",
       "      <td>...</td>\n",
       "      <td>...</td>\n",
       "      <td>...</td>\n",
       "      <td>...</td>\n",
       "      <td>...</td>\n",
       "      <td>...</td>\n",
       "      <td>...</td>\n",
       "      <td>...</td>\n",
       "      <td>...</td>\n",
       "      <td>...</td>\n",
       "      <td>...</td>\n",
       "      <td>...</td>\n",
       "      <td>...</td>\n",
       "      <td>...</td>\n",
       "    </tr>\n",
       "    <tr>\n",
       "      <th>5761</th>\n",
       "      <td>jamie martinez wood</td>\n",
       "      <td>13.0</td>\n",
       "      <td>4.0</td>\n",
       "      <td>0.0</td>\n",
       "      <td>ten speed press</td>\n",
       "      <td>0.0</td>\n",
       "      <td>0.0</td>\n",
       "      <td>0.0</td>\n",
       "      <td>0.0</td>\n",
       "      <td>0.0</td>\n",
       "      <td>...</td>\n",
       "      <td>0.0</td>\n",
       "      <td>0.000000</td>\n",
       "      <td>0.0</td>\n",
       "      <td>0.0</td>\n",
       "      <td>0.0</td>\n",
       "      <td>0.0</td>\n",
       "      <td>0.0</td>\n",
       "      <td>0.0</td>\n",
       "      <td>0.0</td>\n",
       "      <td>0.0</td>\n",
       "    </tr>\n",
       "    <tr>\n",
       "      <th>5762</th>\n",
       "      <td>myra nour</td>\n",
       "      <td>13.0</td>\n",
       "      <td>4.0</td>\n",
       "      <td>2.0</td>\n",
       "      <td>ellora cave</td>\n",
       "      <td>0.0</td>\n",
       "      <td>0.0</td>\n",
       "      <td>0.0</td>\n",
       "      <td>0.0</td>\n",
       "      <td>0.0</td>\n",
       "      <td>...</td>\n",
       "      <td>0.0</td>\n",
       "      <td>0.000000</td>\n",
       "      <td>0.0</td>\n",
       "      <td>0.0</td>\n",
       "      <td>0.0</td>\n",
       "      <td>0.0</td>\n",
       "      <td>0.0</td>\n",
       "      <td>0.0</td>\n",
       "      <td>0.0</td>\n",
       "      <td>0.0</td>\n",
       "    </tr>\n",
       "    <tr>\n",
       "      <th>5763</th>\n",
       "      <td>jos silva</td>\n",
       "      <td>13.0</td>\n",
       "      <td>5.0</td>\n",
       "      <td>3.0</td>\n",
       "      <td>editorial diana</td>\n",
       "      <td>0.0</td>\n",
       "      <td>0.0</td>\n",
       "      <td>0.0</td>\n",
       "      <td>0.0</td>\n",
       "      <td>0.0</td>\n",
       "      <td>...</td>\n",
       "      <td>0.0</td>\n",
       "      <td>0.000000</td>\n",
       "      <td>0.0</td>\n",
       "      <td>0.0</td>\n",
       "      <td>0.0</td>\n",
       "      <td>0.0</td>\n",
       "      <td>0.0</td>\n",
       "      <td>0.0</td>\n",
       "      <td>0.0</td>\n",
       "      <td>0.0</td>\n",
       "    </tr>\n",
       "    <tr>\n",
       "      <th>5764</th>\n",
       "      <td>erwin panofsky</td>\n",
       "      <td>10.0</td>\n",
       "      <td>3.0</td>\n",
       "      <td>4.0</td>\n",
       "      <td>westview press</td>\n",
       "      <td>0.0</td>\n",
       "      <td>0.0</td>\n",
       "      <td>0.0</td>\n",
       "      <td>0.0</td>\n",
       "      <td>0.0</td>\n",
       "      <td>...</td>\n",
       "      <td>0.0</td>\n",
       "      <td>0.000000</td>\n",
       "      <td>0.0</td>\n",
       "      <td>0.0</td>\n",
       "      <td>0.0</td>\n",
       "      <td>0.0</td>\n",
       "      <td>0.0</td>\n",
       "      <td>0.0</td>\n",
       "      <td>0.0</td>\n",
       "      <td>0.0</td>\n",
       "    </tr>\n",
       "    <tr>\n",
       "      <th>5765</th>\n",
       "      <td>conari press</td>\n",
       "      <td>12.0</td>\n",
       "      <td>4.0</td>\n",
       "      <td>0.0</td>\n",
       "      <td>conari press</td>\n",
       "      <td>0.0</td>\n",
       "      <td>0.0</td>\n",
       "      <td>0.0</td>\n",
       "      <td>0.0</td>\n",
       "      <td>0.0</td>\n",
       "      <td>...</td>\n",
       "      <td>0.0</td>\n",
       "      <td>0.000000</td>\n",
       "      <td>0.0</td>\n",
       "      <td>0.0</td>\n",
       "      <td>0.0</td>\n",
       "      <td>0.0</td>\n",
       "      <td>0.0</td>\n",
       "      <td>0.0</td>\n",
       "      <td>0.0</td>\n",
       "      <td>0.0</td>\n",
       "    </tr>\n",
       "  </tbody>\n",
       "</table>\n",
       "<p>5766 rows × 606 columns</p>\n",
       "</div>"
      ],
      "text/plain": [
       "                  Authors  PublishYear  PublishMonth  PublishDay  \\\n",
       "0            richard rohr         12.0           0.0         0.0   \n",
       "1            robert blake         12.0           1.0         4.0   \n",
       "2           martha taylor         13.0           0.0         0.0   \n",
       "3                beverley         13.0           4.0         1.0   \n",
       "4            michele kort         13.0           2.0         1.0   \n",
       "...                   ...          ...           ...         ...   \n",
       "5761  jamie martinez wood         13.0           4.0         0.0   \n",
       "5762            myra nour         13.0           4.0         2.0   \n",
       "5763            jos silva         13.0           5.0         3.0   \n",
       "5764       erwin panofsky         10.0           3.0         4.0   \n",
       "5765         conari press         12.0           4.0         0.0   \n",
       "\n",
       "               Publisher  pagesNumber  reading_writing  gay_lesbian  \\\n",
       "0            orbis books          0.0              0.0          0.0   \n",
       "1                 puffin          0.0              0.0          0.0   \n",
       "2      benjamin cummings          0.0              0.0          0.0   \n",
       "3                 signet          0.0              0.0          0.0   \n",
       "4     thomas dunne books          0.0              0.0          0.0   \n",
       "...                  ...          ...              ...          ...   \n",
       "5761     ten speed press          0.0              0.0          0.0   \n",
       "5762         ellora cave          0.0              0.0          0.0   \n",
       "5763     editorial diana          0.0              0.0          0.0   \n",
       "5764      westview press          0.0              0.0          0.0   \n",
       "5765        conari press          0.0              0.0          0.0   \n",
       "\n",
       "      secret_life  travel_guide  ...  love affair  north america  \\\n",
       "0             0.0           0.0  ...          0.0       0.000000   \n",
       "1             0.0           0.0  ...          0.0       0.000000   \n",
       "2             0.0           0.0  ...          0.0       0.000000   \n",
       "3             0.0           0.0  ...          0.0       0.000000   \n",
       "4             0.0           0.0  ...          0.0       0.301431   \n",
       "...           ...           ...  ...          ...            ...   \n",
       "5761          0.0           0.0  ...          0.0       0.000000   \n",
       "5762          0.0           0.0  ...          0.0       0.000000   \n",
       "5763          0.0           0.0  ...          0.0       0.000000   \n",
       "5764          0.0           0.0  ...          0.0       0.000000   \n",
       "5765          0.0           0.0  ...          0.0       0.000000   \n",
       "\n",
       "      paperback edition  book cover  book one  family life  civil right  \\\n",
       "0                   0.0         0.0       0.0          0.0          0.0   \n",
       "1                   0.0         0.0       0.0          0.0          0.0   \n",
       "2                   0.0         0.0       0.0          0.0          0.0   \n",
       "3                   0.0         0.0       0.0          0.0          0.0   \n",
       "4                   0.0         0.0       0.0          0.0          0.0   \n",
       "...                 ...         ...       ...          ...          ...   \n",
       "5761                0.0         0.0       0.0          0.0          0.0   \n",
       "5762                0.0         0.0       0.0          0.0          0.0   \n",
       "5763                0.0         0.0       0.0          0.0          0.0   \n",
       "5764                0.0         0.0       0.0          0.0          0.0   \n",
       "5765                0.0         0.0       0.0          0.0          0.0   \n",
       "\n",
       "      step instruction  young girl  everything need  \n",
       "0                  0.0         0.0              0.0  \n",
       "1                  0.0         0.0              0.0  \n",
       "2                  0.0         0.0              0.0  \n",
       "3                  0.0         0.0              0.0  \n",
       "4                  0.0         0.0              0.0  \n",
       "...                ...         ...              ...  \n",
       "5761               0.0         0.0              0.0  \n",
       "5762               0.0         0.0              0.0  \n",
       "5763               0.0         0.0              0.0  \n",
       "5764               0.0         0.0              0.0  \n",
       "5765               0.0         0.0              0.0  \n",
       "\n",
       "[5766 rows x 606 columns]"
      ]
     },
     "execution_count": 41,
     "metadata": {},
     "output_type": "execute_result"
    }
   ],
   "source": [
    "test_df = preprocess_test_df(original_test_df)\n",
    "test_df.to_csv(DATASET_DIR + \"/test_df.csv\", index=False)\n",
    "test_df"
   ]
  },
  {
   "cell_type": "code",
   "execution_count": 43,
   "metadata": {},
   "outputs": [],
   "source": [
    "# Now, we keep four versions of the transformed datasets\n",
    "# a) Original\n",
    "# b) Using one-hot encoding, with the full set of 'Authors' and 'Publisher' features\n",
    "# c) Using one-hot encoding, with the chi2-selected set of 'Authors' and 'Publisher' features\n",
    "# d) Using ordinal encoding\n",
    "# Each model can choose their own version of dataset\n",
    "train_df_ohe_full = ohe_transform(train_df, has_labels=True)\n",
    "train_df_ohe_selected = train_df_ohe_full.drop(insig_cat_features_ohe, axis=1)  # drop the 'insignificant' OHE features\n",
    "train_df_oe = ord_enc_transform(train_df)\n",
    "\n",
    "train_df_ohe_full.to_csv(DATASET_DIR + \"/train_df_ohe_full.csv\", index=False)\n",
    "train_df_ohe_selected.to_csv(DATASET_DIR + \"/train_df_ohe_selected.csv\", index=False)\n",
    "train_df_oe.to_csv(DATASET_DIR + \"/train_df_oe.csv\", index=False)"
   ]
  },
  {
   "cell_type": "code",
   "execution_count": null,
   "metadata": {},
   "outputs": [],
   "source": [
    "test_df_ohe_full = ohe_transform(test_df)\n",
    "test_df_ohe_selected = test_df_ohe_full.drop(insig_cat_features_ohe, axis=1)  # drop the 'insignificant' OHE features\n",
    "test_df_oe = ord_enc_transform(test_df)\n",
    "\n",
    "test_df_ohe_full.to_csv(DATASET_DIR + \"/test_df_ohe_full.csv\", index=False)\n",
    "test_df_ohe_selected.to_csv(DATASET_DIR + \"/test_df_ohe_selected.csv\", index=False)\n",
    "test_df_oe.to_csv(DATASET_DIR + \"/test_df_oe.csv\", index=False)"
   ]
  },
  {
   "cell_type": "markdown",
   "metadata": {},
   "source": [
    "# Model Induction on Training set"
   ]
  },
  {
   "cell_type": "code",
   "execution_count": null,
   "metadata": {},
   "outputs": [],
   "source": [
    "train_full_df = pd.read_csv(DATASET_DIR + \"/train_df.csv\", keep_default_na=False)\n",
    "train_full_df"
   ]
  },
  {
   "cell_type": "code",
   "execution_count": null,
   "metadata": {},
   "outputs": [],
   "source": [
    "train_full_df = train_df.copy()  # full training set"
   ]
  },
  {
   "cell_type": "code",
   "execution_count": null,
   "metadata": {},
   "outputs": [],
   "source": [
    "# Train-validation split\n",
    "train_df, val_df = train_test_split(train_full_df, train_size=0.8, random_state=30027)\n",
    "val_df"
   ]
  },
  {
   "cell_type": "code",
   "execution_count": null,
   "metadata": {},
   "outputs": [],
   "source": [
    "# training set\n",
    "X_train = train_df.iloc[:,:-1] # (transformed) attributes\n",
    "y_train = train_df.iloc[:,-1]  # ground truth labels\n",
    "# validation set\n",
    "X_val = val_df.iloc[:,:-1]\n",
    "y_val = val_df.iloc[:,-1]\n",
    "\n",
    "X_train_ohe = ohe_transform(X_train)\n",
    "X_train_oe = ord_enc_transform(X_train)\n",
    "X_val_ohe = ohe_transform(X_val)\n",
    "X_val_oe = ord_enc_transform(X_val)"
   ]
  },
  {
   "cell_type": "code",
   "execution_count": null,
   "metadata": {},
   "outputs": [],
   "source": [
    "X_train_ohe"
   ]
  },
  {
   "cell_type": "code",
   "execution_count": null,
   "metadata": {},
   "outputs": [],
   "source": [
    "ORDINAL_FEATURES = ['PublishYear', 'pagesNumber']\n",
    "CATEGORICAL_FEATURES = ['Authors', 'Publisher']\n",
    "TEXT_FEATURES = list(X_train.columns)[4:]"
   ]
  },
  {
   "cell_type": "markdown",
   "metadata": {},
   "source": [
    "## Naive Bayes"
   ]
  },
  {
   "cell_type": "code",
   "execution_count": null,
   "metadata": {},
   "outputs": [],
   "source": [
    "from sklearn.naive_bayes import GaussianNB, MultinomialNB, CategoricalNB"
   ]
  },
  {
   "cell_type": "code",
   "execution_count": null,
   "metadata": {},
   "outputs": [],
   "source": [
    "# Split the training set for each Naive Bayes base classifier\n",
    "X_train_gaussian = X_train_oe[ORDINAL_FEATURES]\n",
    "X_val_gaussian = X_val_oe[ORDINAL_FEATURES]\n",
    "X_train_categorical = X_train_oe[CATEGORICAL_FEATURES]\n",
    "X_val_categorical = X_val_oe[CATEGORICAL_FEATURES]\n",
    "X_train_multinomial = X_train_oe[TEXT_FEATURES]\n",
    "X_val_multinomial = X_val_oe[TEXT_FEATURES]"
   ]
  },
  {
   "cell_type": "markdown",
   "metadata": {},
   "source": [
    "### Gaussian NB for PublishYear and pagesNumber"
   ]
  },
  {
   "cell_type": "code",
   "execution_count": null,
   "metadata": {},
   "outputs": [],
   "source": [
    "# check distribution of PublishYear and pagesNumber\n",
    "for feature in ORDINAL_FEATURES:\n",
    "    hist_plot(X_train_oe, feature, bins=X_train_oe[feature].nunique())"
   ]
  },
  {
   "cell_type": "code",
   "execution_count": null,
   "metadata": {},
   "outputs": [],
   "source": [
    "gnb = GaussianNB()\n",
    "gaussian_val_pred = validate_and_test(gnb, X_train_gaussian, y_train, X_val_gaussian, y_val)"
   ]
  },
  {
   "cell_type": "markdown",
   "metadata": {},
   "source": [
    "### Categorical NB for Authors and Publisher"
   ]
  },
  {
   "cell_type": "code",
   "execution_count": null,
   "metadata": {},
   "outputs": [],
   "source": [
    "# Tuning for alpha smoothing\n",
    "cnb = CategoricalNB(min_categories = [len(ORD_ENCODER.categories_[i]) for i in range(len(CATEGORICAL_FEATURES))])\n",
    "param_grid = {'alpha': [i/10 for i in range(1, 15)]}\n",
    "tune_hyperparameter(cnb, param_grid, X_train_categorical, y_train)\n",
    "\n",
    "# larger alpha -> overestimate the likelihood\n",
    "# could be because there is more samples with label4 ratings, and the missing values are randomly \n",
    "# distributed across the dataset, hence more samples with label4 rating with missing values\n",
    "# -> likelihood of P(x|c=4) overestimated -> more samples predicted to have label=4"
   ]
  },
  {
   "cell_type": "code",
   "execution_count": null,
   "metadata": {},
   "outputs": [],
   "source": [
    "cnb = CategoricalNB(alpha=0.7, min_categories = [len(ORD_ENCODER.categories_[i]) for i in range(len(CATEGORICAL_FEATURES))])\n",
    "categorical_val_pred = validate_and_test(cnb, X_train_categorical, y_train, X_val_categorical, y_val)"
   ]
  },
  {
   "cell_type": "markdown",
   "metadata": {},
   "source": [
    "### Multinomial NB for Name and Description"
   ]
  },
  {
   "cell_type": "code",
   "execution_count": null,
   "metadata": {},
   "outputs": [],
   "source": [
    "# better than complementNB and gaussianNB\n",
    "mnb = MultinomialNB()\n",
    "multinomial_val_pred = validate_and_test(mnb, X_train_multinomial, y_train, X_val_multinomial, y_val)"
   ]
  },
  {
   "cell_type": "markdown",
   "metadata": {},
   "source": [
    "### Categorical NB for final prediction"
   ]
  },
  {
   "cell_type": "code",
   "execution_count": null,
   "metadata": {},
   "outputs": [],
   "source": [
    "# CategoricalNB to predict the final rating\n",
    "# Fit each base model on their training subset\n",
    "gnb.fit(X_train_gaussian, y_train)\n",
    "gaussian_train_pred = gnb.predict(X_train_gaussian)\n",
    "cnb.fit(X_train_categorical, y_train)\n",
    "categorical_train_pred = cnb.predict(X_train_categorical)\n",
    "mnb.fit(X_train_multinomial, y_train)\n",
    "multinomial_train_pred = mnb.predict(X_train_multinomial)"
   ]
  },
  {
   "cell_type": "code",
   "execution_count": null,
   "metadata": {},
   "outputs": [],
   "source": [
    "X_train_preds = pd.DataFrame({'GaussianNB_Year_Pages' : gaussian_train_pred,\n",
    "                              'CategoricalNB_Author_Publisher' : categorical_train_pred,\n",
    "                              'MultinomialNB_Name_Desc' : multinomial_train_pred})\n",
    "\n",
    "# validation dataframe\n",
    "X_val_preds = pd.DataFrame({'GaussianNB_Year_Pages' : gaussian_val_pred,\n",
    "                                'CategoricalNB_Author_Publisher' : categorical_val_pred,\n",
    "                                'MultinomialNB_Name_Desc' : multinomial_val_pred})\n",
    "\n",
    "# meta-classifier\n",
    "stack_nb = CategoricalNB()\n",
    "stack_nb.fit(X_train_preds, y_train)  # train on the training-set predictions\n",
    "evaluate(stack_nb, X_val_preds, y_val) # evaluate on the validation-set predictions"
   ]
  },
  {
   "cell_type": "markdown",
   "metadata": {},
   "source": [
    "### Altogether: Generate Model"
   ]
  },
  {
   "cell_type": "code",
   "execution_count": null,
   "metadata": {},
   "outputs": [],
   "source": [
    "from sklearn.base import ClassifierMixin, BaseEstimator\n",
    "\n",
    "FEATURE_SETS = [ORDINAL_FEATURES, CATEGORICAL_FEATURES, TEXT_FEATURES]"
   ]
  },
  {
   "cell_type": "code",
   "execution_count": null,
   "metadata": {},
   "outputs": [],
   "source": [
    "class StackingNB(ClassifierMixin, BaseEstimator):\n",
    "\n",
    "    def __init__(self, classifiers, metaclassifier):\n",
    "        self.classifiers = classifiers\n",
    "        self.metaclassifier = metaclassifier\n",
    "        self.feature_sets = FEATURE_SETS\n",
    "\n",
    "    def fit(self, X, y):\n",
    "        base_preds = []\n",
    "        for clf, feature_set in zip(self.classifiers, self.feature_sets):\n",
    "            clf.fit(X[feature_set], y)  # base classifier uses a subset of features\n",
    "        \n",
    "        X_meta = self._predict_base(X) # output of the base classifiers\n",
    "        self.metaclassifier.fit(X_meta, y) # # output of the base classifiers = input for meta-classifier\n",
    "        return self\n",
    "    \n",
    "    def _predict_base(self, X):\n",
    "        y_hats = []\n",
    "        for clf, feature_set in zip(self.classifiers, self.feature_sets):\n",
    "            y_hat = clf.predict(X[feature_set])\n",
    "            y_hats.append(y_hat)\n",
    "        \n",
    "        y_hats = pd.DataFrame({'GaussianNB_pred' : y_hats[0],\n",
    "                               'CategoricalNB_pred' : y_hats[1],\n",
    "                               'MultinomialNB_pred' : y_hats[2]})\n",
    "        assert y_hats.shape[0] == X.shape[0] # check that the number of rows yhats matches the number of rows in the input data X\n",
    "        return y_hats\n",
    "    \n",
    "    def predict(self, X): \n",
    "        X_meta = self._predict_base(X)\n",
    "        y_hat = self.metaclassifier.predict(X_meta)\n",
    "        return y_hat\n",
    "    \n",
    "    # for completeness\n",
    "    def predict_proba(self, X): \n",
    "        X_meta = self._predict_base(X)\n",
    "        return self.metaclassifier.predict_proba(X_meta)\n",
    "    \n",
    "    def score(self, X, y):\n",
    "        y_hat = self.predict(X)\n",
    "        return accuracy_score(y, y_hat)"
   ]
  },
  {
   "cell_type": "code",
   "execution_count": null,
   "metadata": {},
   "outputs": [],
   "source": [
    "base_classifiers = [GaussianNB(),\n",
    "                    CategoricalNB(alpha=0.8, min_categories = [len(ORD_ENCODER.categories_[i]) for i in range(len(CATEGORICAL_FEATURES))]),\n",
    "                    MultinomialNB()]\n",
    "\n",
    "meta_classifier = CategoricalNB()\n",
    "snb = StackingNB(base_classifiers, meta_classifier)\n",
    "snb.fit(X_train_oe, y_train)\n",
    "\n",
    "y_pred = validate_and_test(snb, X_train_oe, y_train, X_val_oe, y_val)"
   ]
  },
  {
   "cell_type": "markdown",
   "metadata": {},
   "source": [
    "## SVM"
   ]
  },
  {
   "cell_type": "code",
   "execution_count": null,
   "metadata": {},
   "outputs": [],
   "source": [
    "from sklearn import svm"
   ]
  },
  {
   "cell_type": "markdown",
   "metadata": {},
   "source": [
    "### Linear"
   ]
  },
  {
   "cell_type": "code",
   "execution_count": null,
   "metadata": {},
   "outputs": [],
   "source": [
    "# First try with Linear SVM\n",
    "linearSVM = svm.LinearSVC(random_state=30027)\n",
    "param_grid = {'C': range(1,102,10)}\n",
    "tune_hyperparameter(linearSVM, param_grid, X_train_ohe, y_train, cv=5)"
   ]
  },
  {
   "cell_type": "code",
   "execution_count": null,
   "metadata": {},
   "outputs": [],
   "source": [
    "linearSVM = svm.LinearSVC(random_state=30027, C=1)\n",
    "linearSVM.fit(X_train_ohe, y_train)\n",
    "evaluate(linearSVM, X_val_ohe, y_val)"
   ]
  },
  {
   "cell_type": "markdown",
   "metadata": {},
   "source": [
    "### Kernel"
   ]
  },
  {
   "cell_type": "code",
   "execution_count": null,
   "metadata": {
    "scrolled": false
   },
   "outputs": [],
   "source": [
    "# Try with Kernel SVM\n",
    "RBF_svm = svm.SVC(kernel='rbf')\n",
    "\n",
    "# tune hyperparameter C and gamma\n",
    "param_grid = {'C': range(1, 101, 20), 'gamma': [0.1, 0.3, 0.5, 0.7, 0.9]}\n",
    "tune_hyperparameter(RBF_svm, param_grid, X_train_ohe, y_train, cv=2)"
   ]
  },
  {
   "cell_type": "code",
   "execution_count": null,
   "metadata": {},
   "outputs": [],
   "source": [
    "RBF_svm = svm.SVC(kernel='rbf', gamma=0.3, C=1)\n",
    "RBF_svm.fit(X_train_ohe, y_train)\n",
    "evaluate(RBF_svm, X_val_ohe, y_val)\n",
    "# Kernel SVM performs slightly better on weighted avg precision & recall than Linear SVM"
   ]
  },
  {
   "cell_type": "markdown",
   "metadata": {},
   "source": [
    "## Logistic Regression"
   ]
  },
  {
   "cell_type": "code",
   "execution_count": null,
   "metadata": {},
   "outputs": [],
   "source": [
    "from sklearn.linear_model import LogisticRegression\n",
    "\n",
    "logr = LogisticRegression(solver='sag') # uses Stochastic Average Gradient descent solver"
   ]
  },
  {
   "cell_type": "code",
   "execution_count": null,
   "metadata": {},
   "outputs": [],
   "source": [
    "param_grid = {'max_iter': [100, 500, 1000, 5000, 10000]}\n",
    "cv_results = tune_hyperparameter(logr, param_grid, X_train_ohe, y_train, cv=3)\n",
    "cv_results\n",
    "# max_iter>=500 works well"
   ]
  },
  {
   "cell_type": "code",
   "execution_count": null,
   "metadata": {},
   "outputs": [],
   "source": [
    "logr = LogisticRegression(solver='sag', max_iter=100)\n",
    "logr.fit(X_train_ohe, y_train)\n",
    "evaluate(logr, X_val_ohe, y_val)"
   ]
  },
  {
   "cell_type": "markdown",
   "metadata": {},
   "source": [
    "## Boosting"
   ]
  },
  {
   "cell_type": "code",
   "execution_count": null,
   "metadata": {},
   "outputs": [],
   "source": [
    "from sklearn.ensemble import HistGradientBoostingClassifier\n",
    "\n",
    "hgb = HistGradientBoostingClassifier(random_state=30027)"
   ]
  },
  {
   "cell_type": "code",
   "execution_count": null,
   "metadata": {},
   "outputs": [],
   "source": [
    "# Tuning using GridSearch\n",
    "param_grid = {\n",
    "    'learning_rate': (0.01, 0.1, 1, 10),\n",
    "    'max_leaf_nodes': (3, 10, 30)}\n",
    "cv_results = tune_hyperparameter(hgb, param_grid, X_train_oe, y_train, cv=5)\n",
    "cv_results\n",
    "# 'Best' param set: learning_rate = 0.1, max_leaf_nodes = 10"
   ]
  },
  {
   "cell_type": "code",
   "execution_count": null,
   "metadata": {},
   "outputs": [],
   "source": [
    "# 2nd go\n",
    "hgb = HistGradientBoostingClassifier(random_state=30027, learning_rate=0.1)\n",
    "param_grid = {\n",
    "    'max_leaf_nodes': range(10, 30, 2)}\n",
    "cv_results = tune_hyperparameter(hgb, param_grid, X_train_oe, y_train, cv=5)\n",
    "cv_results\n",
    "# 'Best' param set: learning_rate = 0.01, max_leaf_nodes = 10"
   ]
  },
  {
   "cell_type": "code",
   "execution_count": null,
   "metadata": {
    "scrolled": true
   },
   "outputs": [],
   "source": [
    "hgb = HistGradientBoostingClassifier(random_state=30027, max_leaf_nodes=22, learning_rate=0.1)\n",
    "hgb.fit(X_train_oe, y_train)\n",
    "evaluate(hgb, X_val_oe, y_val)"
   ]
  },
  {
   "cell_type": "markdown",
   "metadata": {},
   "source": [
    "## Stacking Classifier"
   ]
  },
  {
   "cell_type": "code",
   "execution_count": null,
   "metadata": {},
   "outputs": [],
   "source": [
    "ORDINAL_ENCODING = ord_enc_transform\n",
    "ONE_HOT_ENCODING = ohe_transform\n",
    "TRANSFORMATION = {'stackingNB': ORDINAL_ENCODING, \n",
    "                  'kernelSVM': ONE_HOT_ENCODING, \n",
    "                  'logisticRegression': ONE_HOT_ENCODING, \n",
    "                  'boosting': ORDINAL_ENCODING}"
   ]
  },
  {
   "cell_type": "code",
   "execution_count": null,
   "metadata": {},
   "outputs": [],
   "source": [
    "class StackingClassifier(ClassifierMixin, BaseEstimator):\n",
    "\n",
    "    def __init__(self, classifiers, metaclassifier):\n",
    "        self.classifiers = classifiers\n",
    "        self.metaclassifier = metaclassifier\n",
    "\n",
    "    def fit(self, X, y):\n",
    "        for clf_name, clf in self.classifiers.items():\n",
    "            X_train = TRANSFORMATION[clf_name](X)\n",
    "            clf.fit(X_train, y)  # base classifier uses a subset of features\n",
    "        \n",
    "        X_meta = self._predict_base(X) # output of the base classifiers\n",
    "        self.metaclassifier.fit(X_meta, y) # # output of the base classifiers = input for meta-classifier\n",
    "        return self\n",
    "    \n",
    "    def _predict_base(self, X):\n",
    "        y_hats = {}\n",
    "        for clf_name, clf in self.classifiers.items(): \n",
    "            X_pred = TRANSFORMATION[clf_name](X)\n",
    "            y_hat = clf.predict(X_pred)\n",
    "            y_hats[clf_name] = y_hat\n",
    "        \n",
    "        y_hats = pd.DataFrame(y_hats)\n",
    "        assert y_hats.shape[0] == X.shape[0] # check that the number of rows yhats matches the number of rows in the input data X\n",
    "        return y_hats\n",
    "    \n",
    "    def predict(self, X): \n",
    "        X_meta = self._predict_base(X)\n",
    "        y_hat = self.metaclassifier.predict(X_meta)\n",
    "        return y_hat\n",
    "    \n",
    "    # for completeness\n",
    "    def predict_proba(self, X): \n",
    "        X_meta = self._predict_base(X)\n",
    "        return self.metaclassifier.predict_proba(X_meta)\n",
    "    \n",
    "    def score(self, X, y):\n",
    "        y_hat = self.predict(X)\n",
    "        return accuracy_score(y, y_hat)"
   ]
  },
  {
   "cell_type": "markdown",
   "metadata": {},
   "source": [
    "### Build classifier"
   ]
  },
  {
   "cell_type": "code",
   "execution_count": null,
   "metadata": {},
   "outputs": [],
   "source": [
    "# stacking NB\n",
    "base_classifiers = [GaussianNB(),\n",
    "                    CategoricalNB(alpha=0.8, min_categories = [len(ORD_ENCODER.categories_[i]) for i in range(len(CATEGORICAL_FEATURES))]),\n",
    "                    MultinomialNB()]\n",
    "meta_classifier = CategoricalNB()\n",
    "snb = StackingNB(base_classifiers, meta_classifier)\n",
    "\n",
    "# kernel svm\n",
    "RBF_svm = svm.SVC(kernel='rbf', gamma=0.3, C=1)\n",
    "\n",
    "# logr\n",
    "logr = LogisticRegression(solver='sag', max_iter=100)\n",
    "\n",
    "# boosting\n",
    "hgb = HistGradientBoostingClassifier(random_state=30027, max_leaf_nodes=22, learning_rate=0.1)\n"
   ]
  },
  {
   "cell_type": "code",
   "execution_count": null,
   "metadata": {},
   "outputs": [],
   "source": [
    "base_estimators = {'stackingNB': snb, \n",
    "                   'kernelSVM': RBF_svm, \n",
    "                   'logisticRegression': logr, \n",
    "                   'boosting': hgb}\n",
    "meta_classifier = LogisticRegression()\n",
    "stacking = StackingClassifier(classifiers = base_estimators, metaclassifier = meta_classifier)"
   ]
  },
  {
   "cell_type": "code",
   "execution_count": null,
   "metadata": {},
   "outputs": [],
   "source": [
    "stacking.fit(X_train, y_train)"
   ]
  },
  {
   "cell_type": "code",
   "execution_count": null,
   "metadata": {},
   "outputs": [],
   "source": [
    "final_pred = evaluate(stacking, X_val, y_val)"
   ]
  },
  {
   "cell_type": "code",
   "execution_count": null,
   "metadata": {},
   "outputs": [],
   "source": []
  },
  {
   "cell_type": "markdown",
   "metadata": {},
   "source": [
    "## Baseline - 0R & 1R"
   ]
  },
  {
   "cell_type": "code",
   "execution_count": null,
   "metadata": {
    "execution": {
     "iopub.execute_input": "2023-04-16T08:33:57.307355Z",
     "iopub.status.busy": "2023-04-16T08:33:57.306901Z",
     "iopub.status.idle": "2023-04-16T08:33:57.359791Z",
     "shell.execute_reply": "2023-04-16T08:33:57.358692Z",
     "shell.execute_reply.started": "2023-04-16T08:33:57.307317Z"
    }
   },
   "outputs": [],
   "source": [
    "from sklearn.tree import DecisionTreeClassifier\n",
    "from sklearn.dummy import DummyClassifier"
   ]
  },
  {
   "cell_type": "code",
   "execution_count": null,
   "metadata": {},
   "outputs": [],
   "source": [
    "# 0R\n",
    "zero_r = DummyClassifier(strategy='most_frequent')\n",
    "validate_and_test(zero_r, X_train, y_train, X_val, y_val, print_full_cv_results=False)"
   ]
  },
  {
   "cell_type": "code",
   "execution_count": null,
   "metadata": {},
   "outputs": [],
   "source": [
    "# 1R\n",
    "one_r = DecisionTreeClassifier(max_depth=1)\n",
    "validate_and_test(one_r, X_train_oe, y_train, X_val_oe, y_val, print_full_cv_results=False)"
   ]
  },
  {
   "cell_type": "markdown",
   "metadata": {},
   "source": [
    "# 3. Final predictions on the test set"
   ]
  },
  {
   "cell_type": "code",
   "execution_count": null,
   "metadata": {},
   "outputs": [],
   "source": [
    "X_test_ohe = ohe_transform(test_df)\n",
    "X_test_oe = ord_enc_transform(test_df)"
   ]
  },
  {
   "cell_type": "code",
   "execution_count": null,
   "metadata": {},
   "outputs": [],
   "source": [
    "model_sets = {snb: X_test_oe, RBF_svm: X_test_ohe, logr: X_test_ohe, hgb: X_test_oe}\n",
    "y_test_preds = []\n",
    "for model in model_sets:\n",
    "    y_test_pred = model.predict(model_sets[model])\n",
    "    y_test_preds.append(y_test_pred)\n"
   ]
  },
  {
   "cell_type": "code",
   "execution_count": null,
   "metadata": {},
   "outputs": [],
   "source": [
    "y_test_preds"
   ]
  },
  {
   "cell_type": "code",
   "execution_count": null,
   "metadata": {},
   "outputs": [],
   "source": []
  }
 ],
 "metadata": {
  "kernelspec": {
   "display_name": "Python 3 (ipykernel)",
   "language": "python",
   "name": "python3"
  },
  "language_info": {
   "codemirror_mode": {
    "name": "ipython",
    "version": 3
   },
   "file_extension": ".py",
   "mimetype": "text/x-python",
   "name": "python",
   "nbconvert_exporter": "python",
   "pygments_lexer": "ipython3",
   "version": "3.9.16"
  }
 },
 "nbformat": 4,
 "nbformat_minor": 4
}
