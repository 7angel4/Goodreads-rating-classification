{
 "cells": [
  {
   "cell_type": "code",
   "execution_count": null,
   "id": "cce5273b",
   "metadata": {},
   "outputs": [],
   "source": [
    "%run Global.ipynb\n",
    "%run Helper_Functions.ipynb"
   ]
  },
  {
   "cell_type": "code",
   "execution_count": null,
   "id": "42fb6ff2",
   "metadata": {},
   "outputs": [],
   "source": [
    "train_df_oe = pd.read_csv(DATASET_DIR + \"/train_df_oe.csv\", keep_default_na=False)\n",
    "y = train_df.iloc[:,-1]\n",
    "X = train_df_oe.iloc[:,:-1]"
   ]
  },
  {
   "cell_type": "markdown",
   "id": "8879ce60",
   "metadata": {},
   "source": [
    "# Stacking Naive Bayes"
   ]
  },
  {
   "cell_type": "code",
   "execution_count": null,
   "id": "aa84a7cf",
   "metadata": {},
   "outputs": [],
   "source": [
    "GAUSSIAN_FEATURES = ['PublishYear', 'pagesNumber']\n",
    "CATEGORICAL_FEATURES = ['Authors', 'Publisher']\n",
    "MULTINOMIAL_FEATURES = list(X_train.columns)[4:]"
   ]
  },
  {
   "cell_type": "code",
   "execution_count": null,
   "id": "114a9e6a",
   "metadata": {},
   "outputs": [],
   "source": [
    "from sklearn.naive_bayes import GaussianNB, MultinomialNB, CategoricalNB"
   ]
  },
  {
   "cell_type": "code",
   "execution_count": null,
   "id": "7bce78bd",
   "metadata": {},
   "outputs": [],
   "source": [
    "# Split the training set for each Naive Bayes base classifier\n",
    "X_gaussian = X[GAUSSIAN_FEATURES]\n",
    "X_categorical = X[CATEGORICAL_FEATURES]\n",
    "X_multinomial = X[MULTINOMIAL_FEATURES]"
   ]
  },
  {
   "cell_type": "markdown",
   "id": "4bcb745f",
   "metadata": {},
   "source": [
    "### Gaussian NB for PublishYear and pagesNumber"
   ]
  },
  {
   "cell_type": "code",
   "execution_count": null,
   "id": "e061bc54",
   "metadata": {},
   "outputs": [],
   "source": [
    "# check distribution of PublishYear and pagesNumber\n",
    "for feature in GAUSSIAN_FEATURES:\n",
    "    hist_plot(X_train_oe, feature, bins=X[feature].nunique())"
   ]
  },
  {
   "cell_type": "code",
   "execution_count": null,
   "id": "26883c8d",
   "metadata": {},
   "outputs": [],
   "source": [
    "gnb = GaussianNB()\n",
    "gaussian_val_pred = cv_evaluate(gnb, X_gaussian, y)"
   ]
  },
  {
   "cell_type": "markdown",
   "id": "04385c1f",
   "metadata": {},
   "source": [
    "### Categorical NB for Authors and Publisher"
   ]
  },
  {
   "cell_type": "code",
   "execution_count": null,
   "id": "e82da52a",
   "metadata": {},
   "outputs": [],
   "source": [
    "# Tuning for alpha smoothing\n",
    "cnb = CategoricalNB(min_categories = [len(ORD_ENCODER.categories_[i]) for i in range(len(CATEGORICAL_FEATURES))])\n",
    "param_grid = {'alpha': [i/10 for i in range(1, 15)]}\n",
    "tune_hyperparameter(cnb, param_grid, X_train_categorical, y_train)\n",
    "\n",
    "# larger alpha -> overestimate the likelihood\n",
    "# could be because there is more samples with label4 ratings, and the missing values are randomly \n",
    "# distributed across the dataset, hence more samples with label4 rating with missing values\n",
    "# -> likelihood of P(x|c=4) overestimated -> more samples predicted to have label=4"
   ]
  },
  {
   "cell_type": "code",
   "execution_count": null,
   "id": "ced96bf9",
   "metadata": {},
   "outputs": [],
   "source": [
    "cnb = CategoricalNB(alpha=0.7, min_categories = [len(ORD_ENCODER.categories_[i]) for i in range(len(CATEGORICAL_FEATURES))])\n",
    "categorical_val_pred = cv_evaluate(cnb, X_categorical, y)"
   ]
  },
  {
   "cell_type": "markdown",
   "id": "2481a1cb",
   "metadata": {},
   "source": [
    "### Multinomial NB for Name and Description"
   ]
  },
  {
   "cell_type": "code",
   "execution_count": null,
   "id": "e4fa9109",
   "metadata": {},
   "outputs": [],
   "source": [
    "# better than complementNB and gaussianNB\n",
    "mnb = MultinomialNB()\n",
    "multinomial_val_pred = cv_evaluate(mnb, X_multinomial, y)"
   ]
  },
  {
   "cell_type": "markdown",
   "id": "877ee74c",
   "metadata": {},
   "source": [
    "### Categorical NB for final prediction"
   ]
  },
  {
   "cell_type": "code",
   "execution_count": null,
   "id": "fc9c33b6",
   "metadata": {},
   "outputs": [],
   "source": [
    "# CategoricalNB to predict the final rating\n",
    "# Fit each base model on their training subset\n",
    "gnb.fit(X_gaussian, y)\n",
    "gaussian_pred = gnb.predict(X_aussian)\n",
    "cnb.fit(X_categorical, y)\n",
    "categorical_pred = cnb.predict(X_categorical)\n",
    "mnb.fit(X_multinomial, y)\n",
    "multinomial_pred = mnb.predict(X_multinomial)"
   ]
  },
  {
   "cell_type": "code",
   "execution_count": null,
   "id": "f365c9fa",
   "metadata": {},
   "outputs": [],
   "source": [
    "X_preds = pd.DataFrame({'GaussianNB_Year_Pages' : gaussian_pred,\n",
    "                        'CategoricalNB_Author_Publisher' : categorical_pred,\n",
    "                        'MultinomialNB_Name_Desc' : multinomial_pred})\n",
    "\n",
    "# meta-classifier\n",
    "stack_nb = CategoricalNB()\n",
    "stack_nb.fit(X_preds, y)  # input = base models' predictions\n",
    "cv_evaluate(stack_nb, X_preds, y)"
   ]
  },
  {
   "cell_type": "markdown",
   "id": "4df6a112",
   "metadata": {},
   "source": [
    "### Altogether: Generate Model"
   ]
  },
  {
   "cell_type": "code",
   "execution_count": null,
   "id": "fd475bdb",
   "metadata": {},
   "outputs": [],
   "source": [
    "from sklearn.base import ClassifierMixin, BaseEstimator\n",
    "\n",
    "FEATURE_SETS = [GAUSSIAN_FEATURES, CATEGORICAL_FEATURES, MULTINOMIAL_FEATURES]"
   ]
  },
  {
   "cell_type": "code",
   "execution_count": null,
   "id": "c3462e46",
   "metadata": {},
   "outputs": [],
   "source": [
    "class StackingNB(ClassifierMixin, BaseEstimator):\n",
    "\n",
    "    def __init__(self, classifiers, metaclassifier):\n",
    "        self.classifiers = classifiers\n",
    "        self.metaclassifier = metaclassifier\n",
    "        self.feature_sets = FEATURE_SETS\n",
    "\n",
    "    def fit(self, X, y):\n",
    "        base_preds = []\n",
    "        for clf, feature_set in zip(self.classifiers, self.feature_sets):\n",
    "            clf.fit(X[feature_set], y)  # base classifier uses a subset of features\n",
    "        \n",
    "        X_meta = self._predict_base(X) # output of the base classifiers\n",
    "        self.metaclassifier.fit(X_meta, y) # # output of the base classifiers = input for meta-classifier\n",
    "        return self\n",
    "    \n",
    "    def _predict_base(self, X):\n",
    "        y_hats = []\n",
    "        for clf, feature_set in zip(self.classifiers, self.feature_sets):\n",
    "            y_hat = clf.predict(X[feature_set])\n",
    "            y_hats.append(y_hat)\n",
    "        \n",
    "        y_hats = pd.DataFrame({'GaussianNB_pred' : y_hats[0],\n",
    "                               'CategoricalNB_pred' : y_hats[1],\n",
    "                               'MultinomialNB_pred' : y_hats[2]})\n",
    "        assert y_hats.shape[0] == X.shape[0] # check that the number of rows yhats matches the number of rows in the input data X\n",
    "        return y_hats\n",
    "    \n",
    "    def predict(self, X): \n",
    "        X_meta = self._predict_base(X)\n",
    "        y_hat = self.metaclassifier.predict(X_meta)\n",
    "        return y_hat\n",
    "    \n",
    "    # for completeness\n",
    "    def predict_proba(self, X): \n",
    "        X_meta = self._predict_base(X)\n",
    "        return self.metaclassifier.predict_proba(X_meta)\n",
    "    \n",
    "    def score(self, X, y):\n",
    "        y_hat = self.predict(X)\n",
    "        return accuracy_score(y, y_hat)"
   ]
  },
  {
   "cell_type": "code",
   "execution_count": null,
   "id": "27473717",
   "metadata": {},
   "outputs": [],
   "source": [
    "base_classifiers = [GaussianNB(),\n",
    "                    CategoricalNB(alpha=0.8, min_categories = [len(ORD_ENCODER.categories_[i]) for i in range(len(CATEGORICAL_FEATURES))]),\n",
    "                    MultinomialNB()]\n",
    "\n",
    "meta_classifier = CategoricalNB()\n",
    "snb = StackingNB(base_classifiers, meta_classifier)\n",
    "snb.fit(X, y)\n",
    "\n",
    "y_pred = cv_evaluate(snb, X, y)"
   ]
  },
  {
   "cell_type": "code",
   "execution_count": null,
   "id": "87d9db65",
   "metadata": {},
   "outputs": [],
   "source": []
  }
 ],
 "metadata": {
  "kernelspec": {
   "display_name": "Python 3 (ipykernel)",
   "language": "python",
   "name": "python3"
  },
  "language_info": {
   "codemirror_mode": {
    "name": "ipython",
    "version": 3
   },
   "file_extension": ".py",
   "mimetype": "text/x-python",
   "name": "python",
   "nbconvert_exporter": "python",
   "pygments_lexer": "ipython3",
   "version": "3.9.16"
  }
 },
 "nbformat": 4,
 "nbformat_minor": 5
}
