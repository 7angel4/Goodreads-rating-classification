{
 "cells": [
  {
   "cell_type": "code",
   "execution_count": 1,
   "id": "59c7c64d",
   "metadata": {},
   "outputs": [],
   "source": [
    "import nltk\n",
    "import re\n",
    "import numpy as np\n",
    "from sklearn.feature_extraction.text import CountVectorizer\n",
    "from nltk.corpus import stopwords, wordnet\n",
    "from nltk import word_tokenize\n",
    "from nltk.stem import WordNetLemmatizer"
   ]
  },
  {
   "cell_type": "code",
   "execution_count": 2,
   "id": "68b677ee",
   "metadata": {},
   "outputs": [],
   "source": [
    "def preprocess(text):\n",
    "    \"\"\"\n",
    "    Returns the preprocessed form of the input `text` as a string.\n",
    "    \"\"\"\n",
    "    stop_words = stopwords.words('english')\n",
    "    text_processed = re.sub('[^a-zA-Z]', ' ', text) # Remove non-alphabetic characters\n",
    "    text_processed = re.sub('\\s+', ' ', text_processed) # Replace multiple spaces with single space\n",
    "    text_processed = text_processed.lower() # Lower case\n",
    "    \n",
    "    text_words = text_processed.split() # Tokenize\n",
    "    text_words = [w for w in text_words if not w in stop_words and len(w) > 2] # Stopwords removal and remove words 2 characters or less\n",
    "    text_words = [WordNetLemmatizer().lemmatize(w) for w in text_words]\n",
    "    \n",
    "    return ' '.join(text_words)\n"
   ]
  },
  {
   "cell_type": "markdown",
   "id": "3855a346",
   "metadata": {},
   "source": [
    "## M1: CountVectorizer"
   ]
  },
  {
   "cell_type": "code",
   "execution_count": 3,
   "id": "71434bc4",
   "metadata": {},
   "outputs": [],
   "source": [
    "def preprocess_with_count_vectorizer(feature, train_df, test_df, ngram=1):\n",
    "    train_corpus = train_df[feature]\n",
    "    test = test_df[feature]\n",
    "    \n",
    "    vocab = CountVectorizer(preprocessor=preprocess, min_df=2, max_df=len(train_df), ngram_range=(ngram,ngram)).fit(train_corpus)\n",
    "    x_train = vocab.transform(train_corpus)\n",
    "    x_test = vocab.transform(test)\n",
    "    \n",
    "    scipy.sparse.save_npz(f'./preprocessed_data/CountVectorizer/train_{feature}_{ngram}grams_countVectorizer.npz', x_train)\n",
    "    scipy.sparse.save_npz(f'./preprocessed_data/CountVectorizer/test_{feature}_{ngram}grams_countVectorizer.npz', x_test)\n",
    "    \n",
    "    return x_train, x_test"
   ]
  },
  {
   "cell_type": "code",
   "execution_count": 4,
   "id": "d846fd0b",
   "metadata": {},
   "outputs": [],
   "source": [
    "#vocab_dict = vocab.vocabulary_"
   ]
  },
  {
   "cell_type": "markdown",
   "id": "199607b1",
   "metadata": {},
   "source": [
    "## M2: doc2Vec"
   ]
  },
  {
   "cell_type": "code",
   "execution_count": 5,
   "id": "2601a3a3",
   "metadata": {},
   "outputs": [],
   "source": [
    "import gensim\n",
    "import nltk\n",
    "from nltk.corpus import stopwords, wordnet\n",
    "from nltk.stem import WordNetLemmatizer\n",
    "from nltk import ngrams"
   ]
  },
  {
   "cell_type": "code",
   "execution_count": 6,
   "id": "a1bd8273",
   "metadata": {},
   "outputs": [],
   "source": [
    "# size of the output vector\n",
    "vec_size = 100\n",
    "\n",
    "# function to preprocess and tokenize text\n",
    "def tokenize_corpus(txt, tokens_only=False, ngram=1):\n",
    "    for i, line in enumerate(txt):\n",
    "        line_processed = preprocess(line)\n",
    "        if ngram == 1:\n",
    "            tokens = line_processed.split()\n",
    "        else:\n",
    "            tokens = list(ngrams(line_processed.split(), n=ngram))\n",
    "            tokens = [' '.join(token) for token in tokens]\n",
    "        # tokens = gensim.utils.simple_preprocess(line)\n",
    "        if tokens_only:\n",
    "            yield tokens\n",
    "        else:\n",
    "            yield gensim.models.doc2vec.TaggedDocument(tokens, [i])"
   ]
  },
  {
   "cell_type": "code",
   "execution_count": 7,
   "id": "c91f5110",
   "metadata": {},
   "outputs": [],
   "source": [
    "def preprocess_with_doc2vec(feature, train_df, test_df, ngram=1):\n",
    "    train_corpus = train_df[feature]\n",
    "    test = test_df[feature]\n",
    "    # tokenize a training corpus\n",
    "    corpus = list(tokenize_corpus(train_corpus))\n",
    "    \n",
    "    # train doc2vec on the training corpus\n",
    "    model = gensim.models.doc2vec.Doc2Vec(vector_size=vec_size, min_count=2, epochs=40)\n",
    "    model.build_vocab(corpus)\n",
    "    model.train(corpus, total_examples=model.corpus_count, epochs=model.epochs)\n",
    "\n",
    "    # tokenize new documents\n",
    "    doc_train = list(tokenize_corpus(train_corpus, tokens_only=True, ngram=ngram))\n",
    "    doc_test = list(tokenize_corpus(test, tokens_only=True, ngram=ngram))\n",
    "    \n",
    "    # generate embeddings for the new documents in training set\n",
    "    x_train = np.zeros((len(doc_train),vec_size))\n",
    "    for i in range(len(doc_train)):\n",
    "        x_train[i,:] = model.infer_vector(doc_train[i])\n",
    "\n",
    "    # generate embeddings for the new documents in test set\n",
    "    x_test = np.zeros((len(doc_test),vec_size))  # type = numpy.ndarray\n",
    "    for i in range(len(doc_test)):\n",
    "        x_test[i,:] = model.infer_vector(doc_test[i])\n",
    "\n",
    "    # print(x_test)\n",
    "    # check the shape of doc_emb\n",
    "    # print(x_train.shape)\n",
    "    np.savetxt(f'./preprocessed_data/doc2Vec/train_{feature}_{ngram}grams_doc2vec.csv', x_train, delimiter=',')\n",
    "    np.savetxt(f'./preprocessed_data/doc2Vec/test_{feature}_{ngram}grams_doc2vec.csv', x_test, delimiter=',')\n",
    "    \n",
    "    return x_train, x_test"
   ]
  },
  {
   "cell_type": "markdown",
   "id": "87cb65b6",
   "metadata": {},
   "source": [
    "## M3: TfidfVectorizer"
   ]
  },
  {
   "cell_type": "code",
   "execution_count": 8,
   "id": "48fc4f06",
   "metadata": {},
   "outputs": [],
   "source": [
    "from sklearn.feature_extraction.text import TfidfVectorizer"
   ]
  },
  {
   "cell_type": "code",
   "execution_count": 9,
   "id": "5a80cfd3",
   "metadata": {},
   "outputs": [],
   "source": [
    "def preprocess_with_tfidf_vectorizer(feature, train_df, test_df, ngram=1):\n",
    "    train_corpus = train_df[feature]\n",
    "    test = test_df[feature]\n",
    "    \n",
    "    vocab = tfidf_vectorizer = TfidfVectorizer(preprocessor=preprocess, min_df=2, max_df=len(train_df), ngram_range=(ngram,ngram)).fit(train_corpus)\n",
    "    x_train = vocab.transform(train_corpus)\n",
    "    x_test = vocab.transform(test)\n",
    "    \n",
    "    scipy.sparse.save_npz(f'./preprocessed_data/TfIdf/train_{feature}_{ngram}grams_tfidf.npz', x_train)\n",
    "    scipy.sparse.save_npz(f'./preprocessed_data/TfIdf/test_{feature}_{ngram}grams_tfidf.npz', x_test)\n",
    "    \n",
    "    return x_train, x_test"
   ]
  }
 ],
 "metadata": {
  "kernelspec": {
   "display_name": "Python 3 (ipykernel)",
   "language": "python",
   "name": "python3"
  },
  "language_info": {
   "codemirror_mode": {
    "name": "ipython",
    "version": 3
   },
   "file_extension": ".py",
   "mimetype": "text/x-python",
   "name": "python",
   "nbconvert_exporter": "python",
   "pygments_lexer": "ipython3",
   "version": "3.9.16"
  }
 },
 "nbformat": 4,
 "nbformat_minor": 5
}
