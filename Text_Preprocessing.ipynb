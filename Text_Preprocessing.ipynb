{
 "cells": [
  {
   "cell_type": "code",
   "execution_count": 5,
   "id": "59c7c64d",
   "metadata": {},
   "outputs": [],
   "source": [
    "import nltk\n",
    "import re\n",
    "import numpy as np\n",
    "from sklearn.feature_extraction.text import TfidfVectorizer\n",
    "from nltk.stem import WordNetLemmatizer\n",
    "from nltk.corpus import stopwords"
   ]
  },
  {
   "cell_type": "code",
   "execution_count": 2,
   "id": "68b677ee",
   "metadata": {},
   "outputs": [],
   "source": [
    "def preprocess(text, stop_words_removal=True, lemmatize=True, min_word_len=2):\n",
    "    \"\"\"\n",
    "    Returns the preprocessed form of the input `text` as a string.\n",
    "    \"\"\"\n",
    "    stop_words = stopwords.words('english')\n",
    "    text_processed = re.sub('[^a-zA-Z]', ' ', text) # Remove non-alphabetic characters\n",
    "    text_processed = re.sub('\\s+', ' ', text_processed) # Replace multiple spaces with single space\n",
    "    text_processed = text_processed.lower() # Lower case\n",
    "    \n",
    "    text_words = text_processed.split() # Tokenize\n",
    "    text_words = [w for w in text_words if len(w) > 2] # remove words too short\n",
    "    if stop_words_removal:\n",
    "        text_words = [w for w in text_words if not w in stop_words] # Stopwords removal\n",
    "    if lemmatize:\n",
    "        text_words = [WordNetLemmatizer().lemmatize(w) for w in text_words]  # Lemmatization\n",
    "    \n",
    "    return ' '.join(text_words)\n"
   ]
  },
  {
   "cell_type": "code",
   "execution_count": 8,
   "id": "5a80cfd3",
   "metadata": {},
   "outputs": [],
   "source": [
    "def preprocess_text_feature(df, feature, ngram=2, vectorizer=None):\n",
    "    corpus = df[feature]\n",
    "    \n",
    "    if vectorizer is None:\n",
    "        vectorizer = TfidfVectorizer(preprocessor=preprocess, min_df=2, max_df=len(df), ngram_range=(ngram,ngram), max_features=300).fit(corpus)\n",
    "    \n",
    "    transformed_matrix = vectorizer.transform(corpus)\n",
    "    transformed_df = pd.DataFrame(transformed_matrix.todense())\n",
    "    transformed_df = transformed_df.set_axis(vectorizer.vocabulary_, axis=1, inplace=False)  # rename the columns\n",
    "    \n",
    "    return transformed_df, vectorizer\n"
   ]
  },
  {
   "cell_type": "code",
   "execution_count": null,
   "id": "c5d1e202",
   "metadata": {},
   "outputs": [],
   "source": []
  }
 ],
 "metadata": {
  "kernelspec": {
   "display_name": "Python 3",
   "language": "python",
   "name": "python3"
  },
  "language_info": {
   "codemirror_mode": {
    "name": "ipython",
    "version": 3
   },
   "file_extension": ".py",
   "mimetype": "text/x-python",
   "name": "python",
   "nbconvert_exporter": "python",
   "pygments_lexer": "ipython3",
   "version": "3.8.8"
  }
 },
 "nbformat": 4,
 "nbformat_minor": 5
}
