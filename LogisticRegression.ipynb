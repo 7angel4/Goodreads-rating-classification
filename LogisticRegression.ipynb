{
 "cells": [
  {
   "cell_type": "code",
   "execution_count": 1,
   "id": "35ba1369",
   "metadata": {},
   "outputs": [],
   "source": [
    "%run Global.ipynb\n",
    "%run Helper_Functions.ipynb"
   ]
  },
  {
   "cell_type": "code",
   "execution_count": 2,
   "id": "8177f0a0",
   "metadata": {},
   "outputs": [],
   "source": [
    "train_df_ohe_selected = pd.read_csv(DATASET_DIR + \"/train_df_ohe_selected_200.csv\", keep_default_na=False)\n",
    "\n",
    "y = train_df_ohe_selected.iloc[:,-1]\n",
    "X = train_df_ohe_selected.iloc[:,:-1]"
   ]
  },
  {
   "cell_type": "markdown",
   "id": "1de03bb0",
   "metadata": {},
   "source": [
    "# Logistic Regression"
   ]
  },
  {
   "cell_type": "code",
   "execution_count": 3,
   "id": "1791ad42",
   "metadata": {},
   "outputs": [],
   "source": [
    "from sklearn.linear_model import LogisticRegression\n",
    "\n",
    "logr = LogisticRegression(solver='sag') # uses Stochastic Average Gradient descent solver"
   ]
  },
  {
   "cell_type": "code",
   "execution_count": 4,
   "id": "3f696512",
   "metadata": {},
   "outputs": [
    {
     "name": "stdout",
     "output_type": "stream",
     "text": [
      "Fitting 3 folds for each of 5 candidates, totalling 15 fits\n",
      "[CV] END .......................................max_iter=100; total time=  16.1s\n",
      "[CV] END .......................................max_iter=100; total time=  15.8s\n",
      "[CV] END .......................................max_iter=100; total time=  15.8s\n",
      "[CV] END .......................................max_iter=500; total time=  39.5s\n",
      "[CV] END .......................................max_iter=500; total time=  40.7s\n",
      "[CV] END .......................................max_iter=500; total time=  41.5s\n",
      "[CV] END ......................................max_iter=1000; total time=  38.8s\n",
      "[CV] END ......................................max_iter=1000; total time=  40.5s\n",
      "[CV] END ......................................max_iter=1000; total time=  41.7s\n",
      "[CV] END ......................................max_iter=5000; total time=  37.8s\n",
      "[CV] END ......................................max_iter=5000; total time=  40.8s\n",
      "[CV] END ......................................max_iter=5000; total time=  42.1s\n",
      "[CV] END .....................................max_iter=10000; total time=  39.4s\n",
      "[CV] END .....................................max_iter=10000; total time=  41.0s\n",
      "[CV] END .....................................max_iter=10000; total time=  42.9s\n"
     ]
    },
    {
     "data": {
      "text/html": [
       "<div>\n",
       "<style scoped>\n",
       "    .dataframe tbody tr th:only-of-type {\n",
       "        vertical-align: middle;\n",
       "    }\n",
       "\n",
       "    .dataframe tbody tr th {\n",
       "        vertical-align: top;\n",
       "    }\n",
       "\n",
       "    .dataframe thead th {\n",
       "        text-align: right;\n",
       "    }\n",
       "</style>\n",
       "<table border=\"1\" class=\"dataframe\">\n",
       "  <thead>\n",
       "    <tr style=\"text-align: right;\">\n",
       "      <th></th>\n",
       "      <th>params</th>\n",
       "      <th>mean_test_3.0_precision</th>\n",
       "      <th>std_test_3.0_precision</th>\n",
       "      <th>rank_test_3.0_precision</th>\n",
       "      <th>mean_test_3.0_recall</th>\n",
       "      <th>std_test_3.0_recall</th>\n",
       "      <th>rank_test_3.0_recall</th>\n",
       "      <th>mean_test_3.0_f1-score</th>\n",
       "      <th>std_test_3.0_f1-score</th>\n",
       "      <th>rank_test_3.0_f1-score</th>\n",
       "      <th>...</th>\n",
       "      <th>rank_test_5.0_precision</th>\n",
       "      <th>mean_test_5.0_recall</th>\n",
       "      <th>std_test_5.0_recall</th>\n",
       "      <th>rank_test_5.0_recall</th>\n",
       "      <th>mean_test_5.0_f1-score</th>\n",
       "      <th>std_test_5.0_f1-score</th>\n",
       "      <th>rank_test_5.0_f1-score</th>\n",
       "      <th>mean_test_accuracy</th>\n",
       "      <th>std_test_accuracy</th>\n",
       "      <th>rank_test_accuracy</th>\n",
       "    </tr>\n",
       "  </thead>\n",
       "  <tbody>\n",
       "    <tr>\n",
       "      <th>0</th>\n",
       "      <td>{'max_iter': 100}</td>\n",
       "      <td>0.661229</td>\n",
       "      <td>0.015950</td>\n",
       "      <td>5</td>\n",
       "      <td>0.167462</td>\n",
       "      <td>0.001728</td>\n",
       "      <td>5</td>\n",
       "      <td>0.267212</td>\n",
       "      <td>0.002448</td>\n",
       "      <td>5</td>\n",
       "      <td>...</td>\n",
       "      <td>5</td>\n",
       "      <td>0.072660</td>\n",
       "      <td>0.010823</td>\n",
       "      <td>5</td>\n",
       "      <td>0.133178</td>\n",
       "      <td>0.018557</td>\n",
       "      <td>5</td>\n",
       "      <td>0.726792</td>\n",
       "      <td>0.001133</td>\n",
       "      <td>5</td>\n",
       "    </tr>\n",
       "    <tr>\n",
       "      <th>1</th>\n",
       "      <td>{'max_iter': 500}</td>\n",
       "      <td>0.665341</td>\n",
       "      <td>0.018472</td>\n",
       "      <td>1</td>\n",
       "      <td>0.171214</td>\n",
       "      <td>0.001358</td>\n",
       "      <td>1</td>\n",
       "      <td>0.272318</td>\n",
       "      <td>0.002780</td>\n",
       "      <td>1</td>\n",
       "      <td>...</td>\n",
       "      <td>1</td>\n",
       "      <td>0.078712</td>\n",
       "      <td>0.013793</td>\n",
       "      <td>1</td>\n",
       "      <td>0.143353</td>\n",
       "      <td>0.023282</td>\n",
       "      <td>1</td>\n",
       "      <td>0.727919</td>\n",
       "      <td>0.001488</td>\n",
       "      <td>1</td>\n",
       "    </tr>\n",
       "    <tr>\n",
       "      <th>2</th>\n",
       "      <td>{'max_iter': 1000}</td>\n",
       "      <td>0.665341</td>\n",
       "      <td>0.018472</td>\n",
       "      <td>1</td>\n",
       "      <td>0.171214</td>\n",
       "      <td>0.001358</td>\n",
       "      <td>1</td>\n",
       "      <td>0.272318</td>\n",
       "      <td>0.002780</td>\n",
       "      <td>1</td>\n",
       "      <td>...</td>\n",
       "      <td>1</td>\n",
       "      <td>0.078712</td>\n",
       "      <td>0.013793</td>\n",
       "      <td>1</td>\n",
       "      <td>0.143353</td>\n",
       "      <td>0.023282</td>\n",
       "      <td>1</td>\n",
       "      <td>0.727919</td>\n",
       "      <td>0.001488</td>\n",
       "      <td>1</td>\n",
       "    </tr>\n",
       "    <tr>\n",
       "      <th>3</th>\n",
       "      <td>{'max_iter': 5000}</td>\n",
       "      <td>0.665341</td>\n",
       "      <td>0.018472</td>\n",
       "      <td>1</td>\n",
       "      <td>0.171214</td>\n",
       "      <td>0.001358</td>\n",
       "      <td>1</td>\n",
       "      <td>0.272318</td>\n",
       "      <td>0.002780</td>\n",
       "      <td>1</td>\n",
       "      <td>...</td>\n",
       "      <td>1</td>\n",
       "      <td>0.078712</td>\n",
       "      <td>0.013793</td>\n",
       "      <td>1</td>\n",
       "      <td>0.143353</td>\n",
       "      <td>0.023282</td>\n",
       "      <td>1</td>\n",
       "      <td>0.727919</td>\n",
       "      <td>0.001488</td>\n",
       "      <td>1</td>\n",
       "    </tr>\n",
       "    <tr>\n",
       "      <th>4</th>\n",
       "      <td>{'max_iter': 10000}</td>\n",
       "      <td>0.665341</td>\n",
       "      <td>0.018472</td>\n",
       "      <td>1</td>\n",
       "      <td>0.171214</td>\n",
       "      <td>0.001358</td>\n",
       "      <td>1</td>\n",
       "      <td>0.272318</td>\n",
       "      <td>0.002780</td>\n",
       "      <td>1</td>\n",
       "      <td>...</td>\n",
       "      <td>1</td>\n",
       "      <td>0.078712</td>\n",
       "      <td>0.013793</td>\n",
       "      <td>1</td>\n",
       "      <td>0.143353</td>\n",
       "      <td>0.023282</td>\n",
       "      <td>1</td>\n",
       "      <td>0.727919</td>\n",
       "      <td>0.001488</td>\n",
       "      <td>1</td>\n",
       "    </tr>\n",
       "  </tbody>\n",
       "</table>\n",
       "<p>5 rows × 31 columns</p>\n",
       "</div>"
      ],
      "text/plain": [
       "                params  mean_test_3.0_precision  std_test_3.0_precision  \\\n",
       "0    {'max_iter': 100}                 0.661229                0.015950   \n",
       "1    {'max_iter': 500}                 0.665341                0.018472   \n",
       "2   {'max_iter': 1000}                 0.665341                0.018472   \n",
       "3   {'max_iter': 5000}                 0.665341                0.018472   \n",
       "4  {'max_iter': 10000}                 0.665341                0.018472   \n",
       "\n",
       "   rank_test_3.0_precision  mean_test_3.0_recall  std_test_3.0_recall  \\\n",
       "0                        5              0.167462             0.001728   \n",
       "1                        1              0.171214             0.001358   \n",
       "2                        1              0.171214             0.001358   \n",
       "3                        1              0.171214             0.001358   \n",
       "4                        1              0.171214             0.001358   \n",
       "\n",
       "   rank_test_3.0_recall  mean_test_3.0_f1-score  std_test_3.0_f1-score  \\\n",
       "0                     5                0.267212               0.002448   \n",
       "1                     1                0.272318               0.002780   \n",
       "2                     1                0.272318               0.002780   \n",
       "3                     1                0.272318               0.002780   \n",
       "4                     1                0.272318               0.002780   \n",
       "\n",
       "   rank_test_3.0_f1-score  ...  rank_test_5.0_precision  mean_test_5.0_recall  \\\n",
       "0                       5  ...                        5              0.072660   \n",
       "1                       1  ...                        1              0.078712   \n",
       "2                       1  ...                        1              0.078712   \n",
       "3                       1  ...                        1              0.078712   \n",
       "4                       1  ...                        1              0.078712   \n",
       "\n",
       "   std_test_5.0_recall  rank_test_5.0_recall  mean_test_5.0_f1-score  \\\n",
       "0             0.010823                     5                0.133178   \n",
       "1             0.013793                     1                0.143353   \n",
       "2             0.013793                     1                0.143353   \n",
       "3             0.013793                     1                0.143353   \n",
       "4             0.013793                     1                0.143353   \n",
       "\n",
       "   std_test_5.0_f1-score  rank_test_5.0_f1-score  mean_test_accuracy  \\\n",
       "0               0.018557                       5            0.726792   \n",
       "1               0.023282                       1            0.727919   \n",
       "2               0.023282                       1            0.727919   \n",
       "3               0.023282                       1            0.727919   \n",
       "4               0.023282                       1            0.727919   \n",
       "\n",
       "   std_test_accuracy  rank_test_accuracy  \n",
       "0           0.001133                   5  \n",
       "1           0.001488                   1  \n",
       "2           0.001488                   1  \n",
       "3           0.001488                   1  \n",
       "4           0.001488                   1  \n",
       "\n",
       "[5 rows x 31 columns]"
      ]
     },
     "execution_count": 4,
     "metadata": {},
     "output_type": "execute_result"
    }
   ],
   "source": [
    "param_grid = {'max_iter': [100, 500, 1000, 5000, 10000]}\n",
    "cv_results = tune_hyperparameter(logr, param_grid, X, y, cv=3)\n",
    "cv_results\n",
    "# max_iter>=500 works well"
   ]
  },
  {
   "cell_type": "code",
   "execution_count": 5,
   "id": "7417a6ae",
   "metadata": {},
   "outputs": [
    {
     "name": "stdout",
     "output_type": "stream",
     "text": [
      "LogisticRegression prediction took 557.2928760051727 seconds.\n",
      "\n",
      "   3.0_precision  3.0_recall  3.0_f1-score  4.0_precision  4.0_recall  \\\n",
      "0       0.679348    0.212947      0.324254       0.739130    0.964837   \n",
      "1       0.685185    0.189097      0.296395       0.736176    0.969155   \n",
      "2       0.703030    0.197952      0.308921       0.735929    0.967921   \n",
      "3       0.640523    0.167235      0.265223       0.732585    0.966687   \n",
      "4       0.743902    0.208191      0.325333       0.740845    0.973473   \n",
      "5       0.684211    0.177474      0.281843       0.734426    0.967304   \n",
      "6       0.678832    0.158703      0.257261       0.731108    0.972856   \n",
      "7       0.692771    0.196246      0.305851       0.737435    0.968538   \n",
      "8       0.682081    0.201022      0.310526       0.736000    0.965432   \n",
      "9       0.654088    0.177172      0.278820       0.733365    0.966049   \n",
      "\n",
      "   4.0_f1-score  5.0_precision  5.0_recall  5.0_f1-score  accuracy  \n",
      "0      0.837035       0.857143    0.060606      0.113208  0.734720  \n",
      "1      0.836751       0.909091    0.101010      0.181818  0.733420  \n",
      "2      0.836131       0.600000    0.060000      0.109091  0.732987  \n",
      "3      0.833511       0.642857    0.090909      0.159292  0.725932  \n",
      "4      0.841376       0.750000    0.090909      0.162162  0.741110  \n",
      "5      0.834931       0.684211    0.131313      0.220339  0.730703  \n",
      "6      0.834833       0.916667    0.111111      0.198198  0.728968  \n",
      "7      0.837333       0.818182    0.090909      0.163636  0.734605  \n",
      "8      0.835247       0.875000    0.070707      0.130841  0.732437  \n",
      "9      0.833777       0.769231    0.101010      0.178571  0.728101  \n"
     ]
    },
    {
     "data": {
      "image/png": "[encoded data removed]",
      "text/plain": [
       "<Figure size 640x480 with 2 Axes>"
      ]
     },
     "metadata": {},
     "output_type": "display_data"
    },
    {
     "data": {
      "text/plain": [
       "3.0_precision    0.684397\n",
       "3.0_recall       0.188604\n",
       "3.0_f1-score     0.295443\n",
       "4.0_precision    0.735700\n",
       "4.0_recall       0.968225\n",
       "4.0_f1-score     0.836093\n",
       "5.0_precision    0.782238\n",
       "5.0_recall       0.090848\n",
       "5.0_f1-score     0.161716\n",
       "accuracy         0.732298\n",
       "dtype: float64"
      ]
     },
     "execution_count": 5,
     "metadata": {},
     "output_type": "execute_result"
    }
   ],
   "source": [
    "logr = LogisticRegression(solver='sag', max_iter=500)\n",
    "logr.fit(X, y)\n",
    "cross_val_report(logr, X, y)[1]"
   ]
  },
  {
   "cell_type": "markdown",
   "id": "814b6764",
   "metadata": {},
   "source": [
    "## Attempt 2: Using selected features"
   ]
  },
  {
   "cell_type": "code",
   "execution_count": 6,
   "id": "7c7193ba",
   "metadata": {},
   "outputs": [
    {
     "name": "stdout",
     "output_type": "stream",
     "text": [
      "LogR Coefficients: [[ 1.55606902e-01 -6.46897306e-04  7.95596444e-03 ... -9.20798694e-01\n",
      "  -5.34971542e-03 -4.14369896e-01]\n",
      " [-8.11919605e-02 -7.15064753e-03  2.28855718e-03 ...  5.16353593e-01\n",
      "  -1.97501267e-01 -2.84107176e-01]\n",
      " [-7.44149412e-02  7.79754484e-03 -1.02445216e-02 ...  4.04445101e-01\n",
      "   2.02850983e-01  6.98477072e-01]]\n",
      "Selector threshold: 1.4742630068295792\n",
      "444 features selected\n"
     ]
    }
   ],
   "source": [
    "selector = SelectFromModel(logr, prefit=True).fit(X, y)\n",
    "print(\"LogR Coefficients:\", selector.estimator_.coef_)\n",
    "print(\"Selector threshold:\", selector.threshold_)\n",
    "selected_features = [X.columns[i] for i in range(X.shape[1]) if selector.get_support()[i]]\n",
    "print(len(selected_features), \"features selected\")\n",
    "X_filtered = X[selected_features]"
   ]
  },
  {
   "cell_type": "code",
   "execution_count": 7,
   "id": "02c20276",
   "metadata": {},
   "outputs": [
    {
     "name": "stdout",
     "output_type": "stream",
     "text": [
      "LogisticRegression prediction took 38.30836296081543 seconds.\n",
      "\n",
      "   3.0_precision  3.0_recall  3.0_f1-score  4.0_precision  4.0_recall  \\\n",
      "0       0.789062    0.172061      0.282517       0.733763    0.982727   \n",
      "1       0.717557    0.160136      0.261838       0.731854    0.976558   \n",
      "2       0.813008    0.170648      0.282087       0.733915    0.985194   \n",
      "3       0.703704    0.129693      0.219020       0.724943    0.977175   \n",
      "4       0.782258    0.165529      0.273239       0.733088    0.982727   \n",
      "5       0.743802    0.153584      0.254597       0.732258    0.980259   \n",
      "6       0.759615    0.134812      0.228986       0.727646    0.983961   \n",
      "7       0.762712    0.153584      0.255682       0.731864    0.983344   \n",
      "8       0.792308    0.175468      0.287308       0.734317    0.982716   \n",
      "9       0.745763    0.149915      0.249645       0.730115    0.980247   \n",
      "\n",
      "   4.0_f1-score  5.0_precision  5.0_recall  5.0_f1-score  accuracy  \n",
      "0      0.840190       0.750000    0.060606      0.112150  0.736888  \n",
      "1      0.836681       0.846154    0.111111      0.196429  0.731686  \n",
      "2      0.841190       0.750000    0.060000      0.111111  0.738188  \n",
      "3      0.832370       0.538462    0.070707      0.125000  0.722897  \n",
      "4      0.839747       0.777778    0.070707      0.129630  0.735906  \n",
      "5      0.838301       0.866667    0.131313      0.228070  0.733738  \n",
      "6      0.836612       0.900000    0.090909      0.165138  0.729835  \n",
      "7      0.839168       0.900000    0.090909      0.165138  0.734172  \n",
      "8      0.840549       0.875000    0.070707      0.130841  0.738075  \n",
      "9      0.836891       0.692308    0.090909      0.160714  0.730703  \n"
     ]
    },
    {
     "data": {
      "image/png": "[encoded data removed]",
      "text/plain": [
       "<Figure size 640x480 with 2 Axes>"
      ]
     },
     "metadata": {},
     "output_type": "display_data"
    },
    {
     "data": {
      "text/plain": [
       "3.0_precision    0.760979\n",
       "3.0_recall       0.156543\n",
       "3.0_f1-score     0.259492\n",
       "4.0_precision    0.731376\n",
       "4.0_recall       0.981491\n",
       "4.0_f1-score     0.838170\n",
       "5.0_precision    0.789637\n",
       "5.0_recall       0.084788\n",
       "5.0_f1-score     0.152422\n",
       "accuracy         0.733209\n",
       "dtype: float64"
      ]
     },
     "execution_count": 7,
     "metadata": {},
     "output_type": "execute_result"
    }
   ],
   "source": [
    "logr.fit(X_filtered, y)\n",
    "cross_val_report(logr, X_filtered, y)[1]"
   ]
  },
  {
   "cell_type": "markdown",
   "id": "35a7331d",
   "metadata": {},
   "source": [
    "## Attempt 3: Applying Dimensionality Reduction"
   ]
  },
  {
   "cell_type": "code",
   "execution_count": 8,
   "id": "2c56923c",
   "metadata": {},
   "outputs": [
    {
     "data": {
      "text/plain": [
       "array([[-7.22835752e-03, -1.15332378e-02, -9.18995370e-03, ...,\n",
       "         1.32765447e-06, -7.12460204e-04,  7.48635745e-04],\n",
       "       [-7.22835753e-03, -1.15332378e-02, -9.18995370e-03, ...,\n",
       "         1.32765451e-06, -7.12460204e-04,  7.48635745e-04],\n",
       "       [-7.22835752e-03, -1.15332378e-02, -9.18995370e-03, ...,\n",
       "         1.32765448e-06, -7.12460204e-04,  7.48635745e-04],\n",
       "       ...,\n",
       "       [-7.22835752e-03, -1.15332378e-02, -9.18995370e-03, ...,\n",
       "         1.32765447e-06, -7.12460204e-04,  7.48635745e-04],\n",
       "       [-7.22835752e-03, -1.15332378e-02, -9.18995370e-03, ...,\n",
       "         1.32765447e-06, -7.12460204e-04,  7.48635745e-04],\n",
       "       [-7.22835752e-03, -1.15332378e-02, -9.18995370e-03, ...,\n",
       "         1.32765447e-06, -7.12460204e-04,  7.48635745e-04]])"
      ]
     },
     "execution_count": 8,
     "metadata": {},
     "output_type": "execute_result"
    }
   ],
   "source": [
    "from sklearn.decomposition import PCA\n",
    "\n",
    "reducer = PCA(n_components=100, random_state=30027)\n",
    "X_reduced = reducer.fit_transform(X_filtered)\n",
    "X_reduced"
   ]
  },
  {
   "cell_type": "code",
   "execution_count": 9,
   "id": "a7c75aa6",
   "metadata": {},
   "outputs": [
    {
     "name": "stdout",
     "output_type": "stream",
     "text": [
      "LogisticRegression prediction took 8.275031805038452 seconds.\n",
      "\n",
      "   3.0_precision  3.0_recall  3.0_f1-score  4.0_precision  4.0_recall  \\\n",
      "0       0.666667    0.071550      0.129231       0.713584    0.985194   \n",
      "1       0.567568    0.071550      0.127080       0.713643    0.977791   \n",
      "2       0.701754    0.068259      0.124417       0.713776    0.987662   \n",
      "3       0.564516    0.059727      0.108025       0.712556    0.980259   \n",
      "4       0.682540    0.073379      0.132512       0.715691    0.987662   \n",
      "5       0.569444    0.069966      0.124620       0.714350    0.979642   \n",
      "6       0.673469    0.056314      0.103937       0.713206    0.989513   \n",
      "7       0.589286    0.056314      0.102804       0.711290    0.983344   \n",
      "8       0.641791    0.073254      0.131498       0.713775    0.985185   \n",
      "9       0.612903    0.064736      0.117103       0.712556    0.980864   \n",
      "\n",
      "   4.0_f1-score  5.0_precision  5.0_recall  5.0_f1-score  accuracy  \n",
      "0      0.827676       0.333333    0.020202      0.038095  0.711313  \n",
      "1      0.825091       0.666667    0.080808      0.144144  0.708713  \n",
      "2      0.828675       0.571429    0.040000      0.074766  0.713047  \n",
      "3      0.825240       0.571429    0.080808      0.141593  0.707719  \n",
      "4      0.829964       0.833333    0.050505      0.095238  0.715091  \n",
      "5      0.826223       0.818182    0.090909      0.163636  0.710321  \n",
      "6      0.828941       0.875000    0.070707      0.130841  0.712923  \n",
      "7      0.825479       0.555556    0.050505      0.092593  0.707719  \n",
      "8      0.827801       1.000000    0.030303      0.058824  0.712056  \n",
      "9      0.825455       0.500000    0.070707      0.123894  0.708586  \n"
     ]
    },
    {
     "data": {
      "image/png": "[encoded data removed]",
      "text/plain": [
       "<Figure size 640x480 with 2 Axes>"
      ]
     },
     "metadata": {},
     "output_type": "display_data"
    },
    {
     "data": {
      "text/plain": [
       "3.0_precision    0.626994\n",
       "3.0_recall       0.066505\n",
       "3.0_f1-score     0.120123\n",
       "4.0_precision    0.713443\n",
       "4.0_recall       0.983712\n",
       "4.0_f1-score     0.827054\n",
       "5.0_precision    0.672493\n",
       "5.0_recall       0.058545\n",
       "5.0_f1-score     0.106362\n",
       "accuracy         0.710749\n",
       "dtype: float64"
      ]
     },
     "execution_count": 9,
     "metadata": {},
     "output_type": "execute_result"
    }
   ],
   "source": [
    "logr.fit(X_reduced, y)\n",
    "cross_val_report(logr, X_reduced, y)[1]"
   ]
  },
  {
   "cell_type": "code",
   "execution_count": 10,
   "id": "b355a719",
   "metadata": {},
   "outputs": [],
   "source": [
    "# Dimensionality reduction doesn't work well - Let's retain the original features"
   ]
  }
 ],
 "metadata": {
  "kernelspec": {
   "display_name": "Python 3 (ipykernel)",
   "language": "python",
   "name": "python3"
  },
  "language_info": {
   "codemirror_mode": {
    "name": "ipython",
    "version": 3
   },
   "file_extension": ".py",
   "mimetype": "text/x-python",
   "name": "python",
   "nbconvert_exporter": "python",
   "pygments_lexer": "ipython3",
   "version": "3.9.16"
  }
 },
 "nbformat": 4,
 "nbformat_minor": 5
}
