{
 "cells": [
  {
   "cell_type": "code",
   "execution_count": 17,
   "id": "35ba1369",
   "metadata": {},
   "outputs": [],
   "source": [
    "%run Global.ipynb\n",
    "%run Helper_Functions.ipynb"
   ]
  },
  {
   "cell_type": "code",
   "execution_count": 18,
   "id": "ca7d9dc6",
   "metadata": {},
   "outputs": [],
   "source": [
    "from sklearn.linear_model import LogisticRegression"
   ]
  },
  {
   "cell_type": "markdown",
   "id": "1de03bb0",
   "metadata": {},
   "source": [
    "# Logistic Regression"
   ]
  },
  {
   "cell_type": "markdown",
   "id": "47a36726",
   "metadata": {},
   "source": [
    "## 50 features"
   ]
  },
  {
   "cell_type": "code",
   "execution_count": 204,
   "id": "8177f0a0",
   "metadata": {},
   "outputs": [],
   "source": [
    "train_df_50 = pd.read_csv(\"./Final/Datasets/train_df.csv\", keep_default_na=False)\n",
    "y = train_df_50.iloc[:,-1]\n",
    "X_50 = train_df_50.iloc[:,:-1]"
   ]
  },
  {
   "cell_type": "code",
   "execution_count": 13,
   "id": "1791ad42",
   "metadata": {},
   "outputs": [],
   "source": [
    "logr = LogisticRegression(solver='sag') # uses Stochastic Average Gradient descent solver"
   ]
  },
  {
   "cell_type": "code",
   "execution_count": 14,
   "id": "3f696512",
   "metadata": {},
   "outputs": [
    {
     "name": "stdout",
     "output_type": "stream",
     "text": [
      "Fitting 3 folds for each of 3 candidates, totalling 9 fits\n",
      "[CV] END ........................................max_iter=50; total time=   5.0s\n",
      "[CV] END ........................................max_iter=50; total time=   5.5s\n",
      "[CV] END ........................................max_iter=50; total time=   6.9s\n",
      "[CV] END .......................................max_iter=100; total time=   5.4s\n",
      "[CV] END .......................................max_iter=100; total time=   6.1s\n",
      "[CV] END .......................................max_iter=100; total time=   5.2s\n",
      "[CV] END .......................................max_iter=150; total time=   5.9s\n",
      "[CV] END .......................................max_iter=150; total time=   6.2s\n",
      "[CV] END .......................................max_iter=150; total time=   5.2s\n"
     ]
    },
    {
     "data": {
      "text/html": [
       "<div>\n",
       "<style scoped>\n",
       "    .dataframe tbody tr th:only-of-type {\n",
       "        vertical-align: middle;\n",
       "    }\n",
       "\n",
       "    .dataframe tbody tr th {\n",
       "        vertical-align: top;\n",
       "    }\n",
       "\n",
       "    .dataframe thead th {\n",
       "        text-align: right;\n",
       "    }\n",
       "</style>\n",
       "<table border=\"1\" class=\"dataframe\">\n",
       "  <thead>\n",
       "    <tr style=\"text-align: right;\">\n",
       "      <th></th>\n",
       "      <th>params</th>\n",
       "      <th>mean_test_3.0_precision</th>\n",
       "      <th>std_test_3.0_precision</th>\n",
       "      <th>rank_test_3.0_precision</th>\n",
       "      <th>mean_test_3.0_recall</th>\n",
       "      <th>std_test_3.0_recall</th>\n",
       "      <th>rank_test_3.0_recall</th>\n",
       "      <th>mean_test_3.0_f1-score</th>\n",
       "      <th>std_test_3.0_f1-score</th>\n",
       "      <th>rank_test_3.0_f1-score</th>\n",
       "      <th>...</th>\n",
       "      <th>rank_test_5.0_precision</th>\n",
       "      <th>mean_test_5.0_recall</th>\n",
       "      <th>std_test_5.0_recall</th>\n",
       "      <th>rank_test_5.0_recall</th>\n",
       "      <th>mean_test_5.0_f1-score</th>\n",
       "      <th>std_test_5.0_f1-score</th>\n",
       "      <th>rank_test_5.0_f1-score</th>\n",
       "      <th>mean_test_accuracy</th>\n",
       "      <th>std_test_accuracy</th>\n",
       "      <th>rank_test_accuracy</th>\n",
       "    </tr>\n",
       "  </thead>\n",
       "  <tbody>\n",
       "    <tr>\n",
       "      <th>0</th>\n",
       "      <td>{'max_iter': 50}</td>\n",
       "      <td>0.706472</td>\n",
       "      <td>0.013357</td>\n",
       "      <td>1</td>\n",
       "      <td>0.150068</td>\n",
       "      <td>0.000895</td>\n",
       "      <td>1</td>\n",
       "      <td>0.247542</td>\n",
       "      <td>0.001786</td>\n",
       "      <td>1</td>\n",
       "      <td>...</td>\n",
       "      <td>1</td>\n",
       "      <td>0.069627</td>\n",
       "      <td>0.009897</td>\n",
       "      <td>1</td>\n",
       "      <td>0.127616</td>\n",
       "      <td>0.016989</td>\n",
       "      <td>1</td>\n",
       "      <td>0.727832</td>\n",
       "      <td>0.000856</td>\n",
       "      <td>1</td>\n",
       "    </tr>\n",
       "    <tr>\n",
       "      <th>1</th>\n",
       "      <td>{'max_iter': 100}</td>\n",
       "      <td>0.706472</td>\n",
       "      <td>0.013357</td>\n",
       "      <td>1</td>\n",
       "      <td>0.150068</td>\n",
       "      <td>0.000895</td>\n",
       "      <td>1</td>\n",
       "      <td>0.247542</td>\n",
       "      <td>0.001786</td>\n",
       "      <td>1</td>\n",
       "      <td>...</td>\n",
       "      <td>1</td>\n",
       "      <td>0.069627</td>\n",
       "      <td>0.009897</td>\n",
       "      <td>1</td>\n",
       "      <td>0.127616</td>\n",
       "      <td>0.016989</td>\n",
       "      <td>1</td>\n",
       "      <td>0.727832</td>\n",
       "      <td>0.000856</td>\n",
       "      <td>1</td>\n",
       "    </tr>\n",
       "    <tr>\n",
       "      <th>2</th>\n",
       "      <td>{'max_iter': 150}</td>\n",
       "      <td>0.706472</td>\n",
       "      <td>0.013357</td>\n",
       "      <td>1</td>\n",
       "      <td>0.150068</td>\n",
       "      <td>0.000895</td>\n",
       "      <td>1</td>\n",
       "      <td>0.247542</td>\n",
       "      <td>0.001786</td>\n",
       "      <td>1</td>\n",
       "      <td>...</td>\n",
       "      <td>1</td>\n",
       "      <td>0.069627</td>\n",
       "      <td>0.009897</td>\n",
       "      <td>1</td>\n",
       "      <td>0.127616</td>\n",
       "      <td>0.016989</td>\n",
       "      <td>1</td>\n",
       "      <td>0.727832</td>\n",
       "      <td>0.000856</td>\n",
       "      <td>1</td>\n",
       "    </tr>\n",
       "  </tbody>\n",
       "</table>\n",
       "<p>3 rows × 31 columns</p>\n",
       "</div>"
      ],
      "text/plain": [
       "              params  mean_test_3.0_precision  std_test_3.0_precision  \\\n",
       "0   {'max_iter': 50}                 0.706472                0.013357   \n",
       "1  {'max_iter': 100}                 0.706472                0.013357   \n",
       "2  {'max_iter': 150}                 0.706472                0.013357   \n",
       "\n",
       "   rank_test_3.0_precision  mean_test_3.0_recall  std_test_3.0_recall  \\\n",
       "0                        1              0.150068             0.000895   \n",
       "1                        1              0.150068             0.000895   \n",
       "2                        1              0.150068             0.000895   \n",
       "\n",
       "   rank_test_3.0_recall  mean_test_3.0_f1-score  std_test_3.0_f1-score  \\\n",
       "0                     1                0.247542               0.001786   \n",
       "1                     1                0.247542               0.001786   \n",
       "2                     1                0.247542               0.001786   \n",
       "\n",
       "   rank_test_3.0_f1-score  ...  rank_test_5.0_precision  mean_test_5.0_recall  \\\n",
       "0                       1  ...                        1              0.069627   \n",
       "1                       1  ...                        1              0.069627   \n",
       "2                       1  ...                        1              0.069627   \n",
       "\n",
       "   std_test_5.0_recall  rank_test_5.0_recall  mean_test_5.0_f1-score  \\\n",
       "0             0.009897                     1                0.127616   \n",
       "1             0.009897                     1                0.127616   \n",
       "2             0.009897                     1                0.127616   \n",
       "\n",
       "   std_test_5.0_f1-score  rank_test_5.0_f1-score  mean_test_accuracy  \\\n",
       "0               0.016989                       1            0.727832   \n",
       "1               0.016989                       1            0.727832   \n",
       "2               0.016989                       1            0.727832   \n",
       "\n",
       "   std_test_accuracy  rank_test_accuracy  \n",
       "0           0.000856                   1  \n",
       "1           0.000856                   1  \n",
       "2           0.000856                   1  \n",
       "\n",
       "[3 rows x 31 columns]"
      ]
     },
     "execution_count": 14,
     "metadata": {},
     "output_type": "execute_result"
    }
   ],
   "source": [
    "param_grid = {'max_iter': [50,100,150]}\n",
    "cv_results = tune_hyperparameter(logr, param_grid, X_50, y, cv=3)\n",
    "cv_results\n",
    "# max_iter>=500 works well"
   ]
  },
  {
   "cell_type": "code",
   "execution_count": 15,
   "id": "7417a6ae",
   "metadata": {},
   "outputs": [
    {
     "name": "stdout",
     "output_type": "stream",
     "text": [
      "LogisticRegression prediction took 70.39257097244263 seconds.\n",
      "\n",
      "   3.0_precision  3.0_recall  3.0_f1-score  4.0_precision  4.0_recall  \\\n",
      "0       0.721854    0.185690      0.295393       0.734295    0.973473   \n",
      "1       0.717391    0.168654      0.273103       0.732747    0.975941   \n",
      "2       0.673333    0.172355      0.274457       0.731844    0.969772   \n",
      "3       0.686131    0.160410      0.260028       0.731787    0.972856   \n",
      "4       0.780142    0.187713      0.302613       0.736427    0.979025   \n",
      "5       0.656489    0.146758      0.239888       0.729592    0.970389   \n",
      "6       0.741667    0.151877      0.252125       0.731371    0.980876   \n",
      "7       0.728571    0.174061      0.280992       0.734571    0.976558   \n",
      "8       0.731544    0.185690      0.296196       0.734760    0.974691   \n",
      "9       0.692857    0.165247      0.266850       0.731787    0.973457   \n",
      "\n",
      "   4.0_f1-score  5.0_precision  5.0_recall  5.0_f1-score  accuracy  \n",
      "0      0.837135       0.714286    0.050505      0.094340  0.733420  \n",
      "1      0.837037       0.900000    0.090909      0.165138  0.732553  \n",
      "2      0.834174       0.666667    0.060000      0.110092  0.727785  \n",
      "3      0.835275       0.642857    0.090909      0.159292  0.728534  \n",
      "4      0.840572       0.700000    0.070707      0.128440  0.738942  \n",
      "5      0.832936       0.736842    0.141414      0.237288  0.725499  \n",
      "6      0.837945       0.916667    0.111111      0.198198  0.732871  \n",
      "7      0.838453       0.727273    0.080808      0.145455  0.734172  \n",
      "8      0.837888       0.875000    0.070707      0.130841  0.735039  \n",
      "9      0.835497       0.727273    0.080808      0.145455  0.729402  \n"
     ]
    },
    {
     "data": {
      "image/png": "[encoded data removed]",
      "text/plain": [
       "<Figure size 432x288 with 2 Axes>"
      ]
     },
     "metadata": {
      "needs_background": "light"
     },
     "output_type": "display_data"
    },
    {
     "data": {
      "text/html": [
       "<div>\n",
       "<style scoped>\n",
       "    .dataframe tbody tr th:only-of-type {\n",
       "        vertical-align: middle;\n",
       "    }\n",
       "\n",
       "    .dataframe tbody tr th {\n",
       "        vertical-align: top;\n",
       "    }\n",
       "\n",
       "    .dataframe thead th {\n",
       "        text-align: right;\n",
       "    }\n",
       "</style>\n",
       "<table border=\"1\" class=\"dataframe\">\n",
       "  <thead>\n",
       "    <tr style=\"text-align: right;\">\n",
       "      <th></th>\n",
       "      <th>mean</th>\n",
       "      <th>std</th>\n",
       "    </tr>\n",
       "  </thead>\n",
       "  <tbody>\n",
       "    <tr>\n",
       "      <th>3.0_precision</th>\n",
       "      <td>0.712998</td>\n",
       "      <td>0.036375</td>\n",
       "    </tr>\n",
       "    <tr>\n",
       "      <th>3.0_recall</th>\n",
       "      <td>0.169846</td>\n",
       "      <td>0.014193</td>\n",
       "    </tr>\n",
       "    <tr>\n",
       "      <th>3.0_f1-score</th>\n",
       "      <td>0.274164</td>\n",
       "      <td>0.020295</td>\n",
       "    </tr>\n",
       "    <tr>\n",
       "      <th>4.0_precision</th>\n",
       "      <td>0.732918</td>\n",
       "      <td>0.002042</td>\n",
       "    </tr>\n",
       "    <tr>\n",
       "      <th>4.0_recall</th>\n",
       "      <td>0.974704</td>\n",
       "      <td>0.003515</td>\n",
       "    </tr>\n",
       "    <tr>\n",
       "      <th>4.0_f1-score</th>\n",
       "      <td>0.836691</td>\n",
       "      <td>0.002245</td>\n",
       "    </tr>\n",
       "    <tr>\n",
       "      <th>5.0_precision</th>\n",
       "      <td>0.760686</td>\n",
       "      <td>0.098976</td>\n",
       "    </tr>\n",
       "    <tr>\n",
       "      <th>5.0_recall</th>\n",
       "      <td>0.084788</td>\n",
       "      <td>0.026230</td>\n",
       "    </tr>\n",
       "    <tr>\n",
       "      <th>5.0_f1-score</th>\n",
       "      <td>0.151454</td>\n",
       "      <td>0.041900</td>\n",
       "    </tr>\n",
       "    <tr>\n",
       "      <th>accuracy</th>\n",
       "      <td>0.731822</td>\n",
       "      <td>0.003996</td>\n",
       "    </tr>\n",
       "  </tbody>\n",
       "</table>\n",
       "</div>"
      ],
      "text/plain": [
       "                   mean       std\n",
       "3.0_precision  0.712998  0.036375\n",
       "3.0_recall     0.169846  0.014193\n",
       "3.0_f1-score   0.274164  0.020295\n",
       "4.0_precision  0.732918  0.002042\n",
       "4.0_recall     0.974704  0.003515\n",
       "4.0_f1-score   0.836691  0.002245\n",
       "5.0_precision  0.760686  0.098976\n",
       "5.0_recall     0.084788  0.026230\n",
       "5.0_f1-score   0.151454  0.041900\n",
       "accuracy       0.731822  0.003996"
      ]
     },
     "execution_count": 15,
     "metadata": {},
     "output_type": "execute_result"
    }
   ],
   "source": [
    "logr = LogisticRegression(solver='sag', max_iter=50, random_state=30027)\n",
    "logr.fit(X, y)\n",
    "cross_val_report(logr, X, y)[1]"
   ]
  },
  {
   "cell_type": "markdown",
   "id": "fd509a4c",
   "metadata": {},
   "source": [
    "## 300 features"
   ]
  },
  {
   "cell_type": "code",
   "execution_count": 201,
   "id": "a41a5772",
   "metadata": {},
   "outputs": [],
   "source": [
    "# 300 features\n",
    "train_df_ohe_selected = pd.read_csv(\"./Final/Datasets/train_df_300.csv\", keep_default_na=False)\n",
    "\n",
    "y = train_df_ohe_selected.iloc[:,-1]\n",
    "X = train_df_ohe_selected.iloc[:,:-1]"
   ]
  },
  {
   "cell_type": "code",
   "execution_count": 52,
   "id": "6c9edf9c",
   "metadata": {},
   "outputs": [
    {
     "name": "stdout",
     "output_type": "stream",
     "text": [
      "LogisticRegression prediction took 141.06397986412048 seconds.\n",
      "\n",
      "   3.0_precision  3.0_recall  3.0_f1-score  4.0_precision  4.0_recall  \\\n",
      "0       0.656863    0.228279      0.338812       0.740935    0.958051   \n",
      "1       0.692771    0.195911      0.305445       0.738375    0.969772   \n",
      "2       0.686047    0.201365      0.311346       0.737189    0.967304   \n",
      "3       0.624204    0.167235      0.263795       0.731455    0.961135   \n",
      "4       0.727273    0.218430      0.335958       0.741737    0.969155   \n",
      "5       0.664596    0.182594      0.286479       0.734617    0.964837   \n",
      "6       0.671233    0.167235      0.267760       0.732276    0.968538   \n",
      "7       0.651429    0.194539      0.299606       0.736917    0.964220   \n",
      "8       0.685393    0.207836      0.318954       0.737364    0.963580   \n",
      "9       0.660819    0.192504      0.298153       0.735876    0.964815   \n",
      "\n",
      "   4.0_f1-score  5.0_precision  5.0_recall  5.0_f1-score  accuracy  \n",
      "0      0.835620       0.714286    0.050505      0.094340  0.733420  \n",
      "1      0.838400       0.916667    0.111111      0.198198  0.736021  \n",
      "2      0.836713       0.875000    0.070000      0.129630  0.733853  \n",
      "3      0.830712       0.578947    0.111111      0.186441  0.722897  \n",
      "4      0.840332       0.750000    0.090909      0.162162  0.740676  \n",
      "5      0.834133       0.750000    0.121212      0.208696  0.729835  \n",
      "6      0.833997       0.750000    0.121212      0.208696  0.728534  \n",
      "7      0.835382       0.900000    0.090909      0.165138  0.731136  \n",
      "8      0.835429       0.727273    0.080808      0.145455  0.733304  \n",
      "9      0.834936       0.818182    0.090909      0.163636  0.730703  \n"
     ]
    },
    {
     "data": {
      "image/png": "[encoded data removed]",
      "text/plain": [
       "<Figure size 432x288 with 2 Axes>"
      ]
     },
     "metadata": {
      "needs_background": "light"
     },
     "output_type": "display_data"
    },
    {
     "data": {
      "text/html": [
       "<div>\n",
       "<style scoped>\n",
       "    .dataframe tbody tr th:only-of-type {\n",
       "        vertical-align: middle;\n",
       "    }\n",
       "\n",
       "    .dataframe tbody tr th {\n",
       "        vertical-align: top;\n",
       "    }\n",
       "\n",
       "    .dataframe thead th {\n",
       "        text-align: right;\n",
       "    }\n",
       "</style>\n",
       "<table border=\"1\" class=\"dataframe\">\n",
       "  <thead>\n",
       "    <tr style=\"text-align: right;\">\n",
       "      <th></th>\n",
       "      <th>mean</th>\n",
       "      <th>std</th>\n",
       "    </tr>\n",
       "  </thead>\n",
       "  <tbody>\n",
       "    <tr>\n",
       "      <th>3.0_precision</th>\n",
       "      <td>0.672063</td>\n",
       "      <td>0.027850</td>\n",
       "    </tr>\n",
       "    <tr>\n",
       "      <th>3.0_recall</th>\n",
       "      <td>0.195593</td>\n",
       "      <td>0.019892</td>\n",
       "    </tr>\n",
       "    <tr>\n",
       "      <th>3.0_f1-score</th>\n",
       "      <td>0.302631</td>\n",
       "      <td>0.025352</td>\n",
       "    </tr>\n",
       "    <tr>\n",
       "      <th>4.0_precision</th>\n",
       "      <td>0.736674</td>\n",
       "      <td>0.003315</td>\n",
       "    </tr>\n",
       "    <tr>\n",
       "      <th>4.0_recall</th>\n",
       "      <td>0.965141</td>\n",
       "      <td>0.003706</td>\n",
       "    </tr>\n",
       "    <tr>\n",
       "      <th>4.0_f1-score</th>\n",
       "      <td>0.835565</td>\n",
       "      <td>0.002595</td>\n",
       "    </tr>\n",
       "    <tr>\n",
       "      <th>5.0_precision</th>\n",
       "      <td>0.778035</td>\n",
       "      <td>0.102058</td>\n",
       "    </tr>\n",
       "    <tr>\n",
       "      <th>5.0_recall</th>\n",
       "      <td>0.093869</td>\n",
       "      <td>0.022942</td>\n",
       "    </tr>\n",
       "    <tr>\n",
       "      <th>5.0_f1-score</th>\n",
       "      <td>0.166239</td>\n",
       "      <td>0.036516</td>\n",
       "    </tr>\n",
       "    <tr>\n",
       "      <th>accuracy</th>\n",
       "      <td>0.732038</td>\n",
       "      <td>0.004721</td>\n",
       "    </tr>\n",
       "  </tbody>\n",
       "</table>\n",
       "</div>"
      ],
      "text/plain": [
       "                   mean       std\n",
       "3.0_precision  0.672063  0.027850\n",
       "3.0_recall     0.195593  0.019892\n",
       "3.0_f1-score   0.302631  0.025352\n",
       "4.0_precision  0.736674  0.003315\n",
       "4.0_recall     0.965141  0.003706\n",
       "4.0_f1-score   0.835565  0.002595\n",
       "5.0_precision  0.778035  0.102058\n",
       "5.0_recall     0.093869  0.022942\n",
       "5.0_f1-score   0.166239  0.036516\n",
       "accuracy       0.732038  0.004721"
      ]
     },
     "execution_count": 52,
     "metadata": {},
     "output_type": "execute_result"
    }
   ],
   "source": [
    "logr = LogisticRegression(solver='sag', max_iter=50, random_state=30027)\n",
    "logr.fit(X, y)\n",
    "cross_val_report(logr, X, y)[1]"
   ]
  },
  {
   "cell_type": "markdown",
   "id": "814b6764",
   "metadata": {},
   "source": [
    "## Using selected features from 300 features"
   ]
  },
  {
   "cell_type": "code",
   "execution_count": 53,
   "id": "4657477b",
   "metadata": {},
   "outputs": [
    {
     "name": "stdout",
     "output_type": "stream",
     "text": [
      "threshold = 0.0: 1106 features selected\n",
      "LogisticRegression prediction took 127.95565009117126 seconds.\n",
      "\n",
      "threshold = 0.1: 1086 features selected\n",
      "LogisticRegression prediction took 120.28467273712158 seconds.\n",
      "\n",
      "threshold = 0.2: 1066 features selected\n",
      "LogisticRegression prediction took 122.75105714797974 seconds.\n",
      "\n",
      "threshold = 0.3: 1032 features selected\n",
      "LogisticRegression prediction took 105.25341701507568 seconds.\n",
      "\n",
      "threshold = 0.4: 992 features selected\n",
      "LogisticRegression prediction took 119.40695190429688 seconds.\n",
      "\n",
      "threshold = 0.5: 946 features selected\n",
      "LogisticRegression prediction took 111.05742502212524 seconds.\n",
      "\n",
      "threshold = 0.6: 885 features selected\n",
      "LogisticRegression prediction took 106.82455396652222 seconds.\n",
      "\n",
      "threshold = 0.7: 828 features selected\n",
      "LogisticRegression prediction took 99.94380116462708 seconds.\n",
      "\n",
      "threshold = 0.8: 782 features selected\n",
      "LogisticRegression prediction took 91.0403881072998 seconds.\n",
      "\n",
      "threshold = 0.9: 734 features selected\n",
      "LogisticRegression prediction took 89.89688396453857 seconds.\n",
      "\n",
      "threshold = 1.0: 687 features selected\n",
      "LogisticRegression prediction took 68.37912511825562 seconds.\n",
      "\n",
      "threshold = 1.1: 639 features selected\n",
      "LogisticRegression prediction took 65.4923050403595 seconds.\n",
      "\n",
      "threshold = 1.2: 594 features selected\n",
      "LogisticRegression prediction took 59.74769401550293 seconds.\n",
      "\n",
      "threshold = 1.3: 558 features selected\n",
      "LogisticRegression prediction took 53.88600015640259 seconds.\n",
      "\n",
      "threshold = 1.4: 507 features selected\n",
      "LogisticRegression prediction took 51.32620191574097 seconds.\n",
      "\n",
      "threshold = 1.5: 449 features selected\n",
      "LogisticRegression prediction took 44.11237621307373 seconds.\n",
      "\n",
      "threshold = 1.6: 392 features selected\n",
      "LogisticRegression prediction took 34.27702713012695 seconds.\n",
      "\n",
      "threshold = 1.7: 353 features selected\n",
      "LogisticRegression prediction took 32.36884927749634 seconds.\n",
      "\n",
      "threshold = 1.8: 308 features selected\n",
      "LogisticRegression prediction took 26.848878145217896 seconds.\n",
      "\n",
      "threshold = 1.9: 275 features selected\n",
      "LogisticRegression prediction took 25.018940925598145 seconds.\n",
      "\n",
      "threshold = 2.0: 233 features selected\n",
      "LogisticRegression prediction took 20.73646116256714 seconds.\n",
      "\n",
      "threshold = 2.1: 198 features selected\n",
      "LogisticRegression prediction took 17.833851099014282 seconds.\n",
      "\n"
     ]
    }
   ],
   "source": [
    "logr = LogisticRegression(solver='sag', max_iter=50, random_state=30027)\n",
    "\n",
    "thresholds = [i/10 for i in range(0, 22)]\n",
    "nFeatures = []\n",
    "accuracy = []\n",
    "f1_3 = []\n",
    "f1_4 = []\n",
    "f1_5 = []\n",
    "accuracy_std = []\n",
    "for threshold in thresholds: \n",
    "    selector = SelectFromModel(logr, threshold=threshold).fit(X, y)\n",
    "    selected_features = [X.columns[i] for i in range(X.shape[1]) if selector.get_support()[i]]\n",
    "    nFeatures.append(len(selected_features))\n",
    "    print(f'threshold = {threshold}: {len(selected_features)} features selected')\n",
    "    X_filtered = X[selected_features]\n",
    "    logr.fit(X_filtered, y)\n",
    "    df = cross_val_report(logr, X_filtered, y, print_confusion_matrix=False, print_full_results=False, predict=False)[1]\n",
    "    accuracy.append(df.loc['accuracy']['mean'])\n",
    "    f1_3.append(df.loc['3.0_f1-score']['mean'])\n",
    "    f1_4.append(df.loc['4.0_f1-score']['mean'])\n",
    "    f1_5.append(df.loc['5.0_f1-score']['mean'])\n",
    "    accuracy_std.append(df.loc['accuracy']['std'])"
   ]
  },
  {
   "cell_type": "code",
   "execution_count": 54,
   "id": "356ef9ee",
   "metadata": {},
   "outputs": [
    {
     "data": {
      "image/png": "[encoded data removed]",
      "text/plain": [
       "<Figure size 432x288 with 1 Axes>"
      ]
     },
     "metadata": {
      "needs_background": "light"
     },
     "output_type": "display_data"
    }
   ],
   "source": [
    "plt.plot(thresholds, accuracy, label = \"accuracy\")\n",
    "plt.plot(thresholds, f1_3, label = \"3_f1\")\n",
    "plt.plot(thresholds, f1_4, label = \"4_f1\")\n",
    "plt.plot(thresholds, f1_5, label = \"5_f1\")\n",
    "plt.legend()\n",
    "plt.xlabel(\"threshold\")\n",
    "plt.ylabel(\"performance\")\n",
    "plt.title(\"Threshold vs Performance\")\n",
    "plt.show()"
   ]
  },
  {
   "cell_type": "code",
   "execution_count": 222,
   "id": "7c7193ba",
   "metadata": {},
   "outputs": [
    {
     "name": "stdout",
     "output_type": "stream",
     "text": [
      "LogR Coefficients: [[ 1.82432740e+00 -1.48048894e+00 -1.98032518e-01 ...  1.70449677e-01\n",
      "  -2.34211578e-01  9.48254001e-01]\n",
      " [-1.17038964e+00  1.71610090e-01 -1.00166460e+00 ...  9.94390316e-02\n",
      "   2.33772310e-01  1.30524991e-01]\n",
      " [-6.53937768e-01  1.30887885e+00  1.19969712e+00 ... -2.69888708e-01\n",
      "   4.39268206e-04 -1.07877899e+00]]\n",
      "Selector threshold: 1.3615723787465732\n",
      "520 features selected\n"
     ]
    }
   ],
   "source": [
    "# use the mean weighting as threshold\n",
    "logr = LogisticRegression(solver='sag', max_iter=50, random_state=30027)\n",
    "logr.fit(X, y)\n",
    "selector = SelectFromModel(logr, prefit=True).fit(X, y)\n",
    "print(\"LogR Coefficients:\", selector.estimator_.coef_)\n",
    "print(\"Selector threshold:\", selector.threshold_)\n",
    "selected_features = [X.columns[i] for i in range(X.shape[1]) if selector.get_support()[i]]\n",
    "print(len(selected_features), \"features selected\")\n",
    "X_filtered = X[selected_features]"
   ]
  },
  {
   "cell_type": "code",
   "execution_count": 223,
   "id": "02c20276",
   "metadata": {},
   "outputs": [
    {
     "name": "stdout",
     "output_type": "stream",
     "text": [
      "LogisticRegression prediction took 50.8167679309845 seconds.\n",
      "\n",
      "   3.0_precision  3.0_recall  3.0_f1-score  4.0_precision  4.0_recall  \\\n",
      "0       0.741497    0.185690      0.297003       0.735691    0.975324   \n",
      "1       0.725191    0.161840      0.264624       0.732225    0.978408   \n",
      "2       0.771429    0.184300      0.297521       0.737599    0.981493   \n",
      "3       0.752294    0.139932      0.235971       0.728316    0.979025   \n",
      "4       0.803150    0.174061      0.286115       0.735118    0.982727   \n",
      "5       0.781513    0.158703      0.263830       0.732965    0.982110   \n",
      "6       0.727273    0.150171      0.248939       0.729991    0.979025   \n",
      "7       0.764286    0.182594      0.294766       0.737111    0.979025   \n",
      "8       0.812500    0.177172      0.290909       0.735919    0.983951   \n",
      "9       0.721311    0.149915      0.248237       0.729829    0.977160   \n",
      "\n",
      "   4.0_f1-score  5.0_precision  5.0_recall  5.0_f1-score  accuracy  \n",
      "0      0.838727       0.727273    0.080808      0.145455  0.736021  \n",
      "1      0.837602       1.000000    0.101010      0.183486  0.732987  \n",
      "2      0.842245       0.900000    0.090000      0.163636  0.740355  \n",
      "3      0.835263       0.555556    0.101010      0.170940  0.728101  \n",
      "4      0.841077       0.583333    0.070707      0.126126  0.738075  \n",
      "5      0.839441       0.800000    0.121212      0.210526  0.735906  \n",
      "6      0.836364       0.818182    0.090909      0.163636  0.730269  \n",
      "7      0.841017       0.769231    0.101010      0.178571  0.738942  \n",
      "8      0.842050       0.833333    0.101010      0.180180  0.740676  \n",
      "9      0.835577       0.666667    0.101010      0.175439  0.728968  \n"
     ]
    },
    {
     "data": {
      "image/png": "[encoded data removed]",
      "text/plain": [
       "<Figure size 432x288 with 2 Axes>"
      ]
     },
     "metadata": {
      "needs_background": "light"
     },
     "output_type": "display_data"
    },
    {
     "data": {
      "text/html": [
       "<div>\n",
       "<style scoped>\n",
       "    .dataframe tbody tr th:only-of-type {\n",
       "        vertical-align: middle;\n",
       "    }\n",
       "\n",
       "    .dataframe tbody tr th {\n",
       "        vertical-align: top;\n",
       "    }\n",
       "\n",
       "    .dataframe thead th {\n",
       "        text-align: right;\n",
       "    }\n",
       "</style>\n",
       "<table border=\"1\" class=\"dataframe\">\n",
       "  <thead>\n",
       "    <tr style=\"text-align: right;\">\n",
       "      <th></th>\n",
       "      <th>mean</th>\n",
       "      <th>std</th>\n",
       "    </tr>\n",
       "  </thead>\n",
       "  <tbody>\n",
       "    <tr>\n",
       "      <th>3.0_precision</th>\n",
       "      <td>0.760044</td>\n",
       "      <td>0.032337</td>\n",
       "    </tr>\n",
       "    <tr>\n",
       "      <th>3.0_recall</th>\n",
       "      <td>0.166438</td>\n",
       "      <td>0.016483</td>\n",
       "    </tr>\n",
       "    <tr>\n",
       "      <th>3.0_f1-score</th>\n",
       "      <td>0.272791</td>\n",
       "      <td>0.023240</td>\n",
       "    </tr>\n",
       "    <tr>\n",
       "      <th>4.0_precision</th>\n",
       "      <td>0.733476</td>\n",
       "      <td>0.003294</td>\n",
       "    </tr>\n",
       "    <tr>\n",
       "      <th>4.0_recall</th>\n",
       "      <td>0.979825</td>\n",
       "      <td>0.002682</td>\n",
       "    </tr>\n",
       "    <tr>\n",
       "      <th>4.0_f1-score</th>\n",
       "      <td>0.838936</td>\n",
       "      <td>0.002646</td>\n",
       "    </tr>\n",
       "    <tr>\n",
       "      <th>5.0_precision</th>\n",
       "      <td>0.765357</td>\n",
       "      <td>0.137498</td>\n",
       "    </tr>\n",
       "    <tr>\n",
       "      <th>5.0_recall</th>\n",
       "      <td>0.095869</td>\n",
       "      <td>0.013717</td>\n",
       "    </tr>\n",
       "    <tr>\n",
       "      <th>5.0_f1-score</th>\n",
       "      <td>0.169800</td>\n",
       "      <td>0.022705</td>\n",
       "    </tr>\n",
       "    <tr>\n",
       "      <th>accuracy</th>\n",
       "      <td>0.735030</td>\n",
       "      <td>0.004692</td>\n",
       "    </tr>\n",
       "  </tbody>\n",
       "</table>\n",
       "</div>"
      ],
      "text/plain": [
       "                   mean       std\n",
       "3.0_precision  0.760044  0.032337\n",
       "3.0_recall     0.166438  0.016483\n",
       "3.0_f1-score   0.272791  0.023240\n",
       "4.0_precision  0.733476  0.003294\n",
       "4.0_recall     0.979825  0.002682\n",
       "4.0_f1-score   0.838936  0.002646\n",
       "5.0_precision  0.765357  0.137498\n",
       "5.0_recall     0.095869  0.013717\n",
       "5.0_f1-score   0.169800  0.022705\n",
       "accuracy       0.735030  0.004692"
      ]
     },
     "execution_count": 223,
     "metadata": {},
     "output_type": "execute_result"
    }
   ],
   "source": [
    "logr.fit(X_filtered, y)\n",
    "y_pred, report = cross_val_report(logr, X_filtered, y)\n",
    "report"
   ]
  },
  {
   "cell_type": "markdown",
   "id": "7d742a9d",
   "metadata": {},
   "source": [
    "## interpretation"
   ]
  },
  {
   "cell_type": "code",
   "execution_count": 205,
   "id": "160667b0",
   "metadata": {},
   "outputs": [
    {
     "data": {
      "text/plain": [
       "(23063, 606)"
      ]
     },
     "execution_count": 205,
     "metadata": {},
     "output_type": "execute_result"
    }
   ],
   "source": [
    "X_50.shape"
   ]
  },
  {
   "cell_type": "code",
   "execution_count": 213,
   "id": "14cf2950",
   "metadata": {},
   "outputs": [
    {
     "data": {
      "text/plain": [
       "(23063, 520)"
      ]
     },
     "execution_count": 213,
     "metadata": {},
     "output_type": "execute_result"
    }
   ],
   "source": [
    "X_filtered.shape"
   ]
  },
  {
   "cell_type": "code",
   "execution_count": 207,
   "id": "e12d3dba",
   "metadata": {},
   "outputs": [],
   "source": [
    "other_features_50 = set(X_50.columns)\n",
    "\n",
    "author = re.compile('^(Authors_).*')\n",
    "authors_50 = set([feature for feature in other_features_50 if author.match(feature)])\n",
    "other_features_50 = other_features_50 - authors_50\n",
    "\n",
    "publisher = re.compile('^(Publisher_).*')\n",
    "publishers_50 = set([feature for feature in other_features_50 if publisher.match(feature)])\n",
    "other_features_50 = other_features_50 - publishers_50\n",
    "\n",
    "name = re.compile('.*_.*')\n",
    "names_50 = set([feature for feature in other_features_50 if name.match(feature)])\n",
    "other_features_50 = other_features_50 - names_50\n",
    "\n",
    "desc = re.compile('.* .*')\n",
    "desc_50 = set([feature for feature in other_features_50 if desc.match(feature)])\n",
    "other_features_50 = other_features_50 - desc_50"
   ]
  },
  {
   "cell_type": "code",
   "execution_count": 208,
   "id": "f3ed7f53",
   "metadata": {},
   "outputs": [],
   "source": [
    "indicator_frequency_features_50 = authors_50|publishers_50|names_50|desc_50"
   ]
  },
  {
   "cell_type": "code",
   "execution_count": 209,
   "id": "a9fd467f",
   "metadata": {},
   "outputs": [
    {
     "data": {
      "text/html": [
       "<div>\n",
       "<style scoped>\n",
       "    .dataframe tbody tr th:only-of-type {\n",
       "        vertical-align: middle;\n",
       "    }\n",
       "\n",
       "    .dataframe tbody tr th {\n",
       "        vertical-align: top;\n",
       "    }\n",
       "\n",
       "    .dataframe thead th {\n",
       "        text-align: right;\n",
       "    }\n",
       "</style>\n",
       "<table border=\"1\" class=\"dataframe\">\n",
       "  <thead>\n",
       "    <tr style=\"text-align: right;\">\n",
       "      <th></th>\n",
       "      <th>average_rating</th>\n",
       "      <th>n_rating3</th>\n",
       "      <th>n_rating4</th>\n",
       "      <th>n_rating5</th>\n",
       "    </tr>\n",
       "  </thead>\n",
       "  <tbody>\n",
       "    <tr>\n",
       "      <th>Authors_german national equestrian federation</th>\n",
       "      <td>5.000000</td>\n",
       "      <td>0</td>\n",
       "      <td>0</td>\n",
       "      <td>3</td>\n",
       "    </tr>\n",
       "    <tr>\n",
       "      <th>Publisher_the jewish publication society</th>\n",
       "      <td>4.400000</td>\n",
       "      <td>0</td>\n",
       "      <td>3</td>\n",
       "      <td>2</td>\n",
       "    </tr>\n",
       "    <tr>\n",
       "      <th>Publisher_w w norton company</th>\n",
       "      <td>3.808383</td>\n",
       "      <td>34</td>\n",
       "      <td>131</td>\n",
       "      <td>2</td>\n",
       "    </tr>\n",
       "    <tr>\n",
       "      <th>Authors_kathleen krull</th>\n",
       "      <td>4.000000</td>\n",
       "      <td>1</td>\n",
       "      <td>1</td>\n",
       "      <td>1</td>\n",
       "    </tr>\n",
       "    <tr>\n",
       "      <th>Publisher_villegas editores</th>\n",
       "      <td>4.666667</td>\n",
       "      <td>0</td>\n",
       "      <td>1</td>\n",
       "      <td>2</td>\n",
       "    </tr>\n",
       "    <tr>\n",
       "      <th>...</th>\n",
       "      <td>...</td>\n",
       "      <td>...</td>\n",
       "      <td>...</td>\n",
       "      <td>...</td>\n",
       "    </tr>\n",
       "    <tr>\n",
       "      <th>Authors_rick remender</th>\n",
       "      <td>3.000000</td>\n",
       "      <td>4</td>\n",
       "      <td>0</td>\n",
       "      <td>0</td>\n",
       "    </tr>\n",
       "    <tr>\n",
       "      <th>Publisher_macadam cage publishing</th>\n",
       "      <td>3.000000</td>\n",
       "      <td>3</td>\n",
       "      <td>0</td>\n",
       "      <td>0</td>\n",
       "    </tr>\n",
       "    <tr>\n",
       "      <th>Publisher_methuen publishing</th>\n",
       "      <td>4.142857</td>\n",
       "      <td>1</td>\n",
       "      <td>4</td>\n",
       "      <td>2</td>\n",
       "    </tr>\n",
       "    <tr>\n",
       "      <th>Publisher_steiner books</th>\n",
       "      <td>4.500000</td>\n",
       "      <td>0</td>\n",
       "      <td>1</td>\n",
       "      <td>1</td>\n",
       "    </tr>\n",
       "    <tr>\n",
       "      <th>Authors_michael romkey</th>\n",
       "      <td>3.000000</td>\n",
       "      <td>4</td>\n",
       "      <td>0</td>\n",
       "      <td>0</td>\n",
       "    </tr>\n",
       "  </tbody>\n",
       "</table>\n",
       "<p>597 rows × 4 columns</p>\n",
       "</div>"
      ],
      "text/plain": [
       "                                               average_rating  n_rating3  \\\n",
       "Authors_german national equestrian federation        5.000000          0   \n",
       "Publisher_the jewish publication society             4.400000          0   \n",
       "Publisher_w w norton company                         3.808383         34   \n",
       "Authors_kathleen krull                               4.000000          1   \n",
       "Publisher_villegas editores                          4.666667          0   \n",
       "...                                                       ...        ...   \n",
       "Authors_rick remender                                3.000000          4   \n",
       "Publisher_macadam cage publishing                    3.000000          3   \n",
       "Publisher_methuen publishing                         4.142857          1   \n",
       "Publisher_steiner books                              4.500000          0   \n",
       "Authors_michael romkey                               3.000000          4   \n",
       "\n",
       "                                               n_rating4  n_rating5  \n",
       "Authors_german national equestrian federation          0          3  \n",
       "Publisher_the jewish publication society               3          2  \n",
       "Publisher_w w norton company                         131          2  \n",
       "Authors_kathleen krull                                 1          1  \n",
       "Publisher_villegas editores                            1          2  \n",
       "...                                                  ...        ...  \n",
       "Authors_rick remender                                  0          0  \n",
       "Publisher_macadam cage publishing                      0          0  \n",
       "Publisher_methuen publishing                           4          2  \n",
       "Publisher_steiner books                                1          1  \n",
       "Authors_michael romkey                                 0          0  \n",
       "\n",
       "[597 rows x 4 columns]"
      ]
     },
     "execution_count": 209,
     "metadata": {},
     "output_type": "execute_result"
    }
   ],
   "source": [
    "feature_rating_50 = {feature:[sum(y[X[feature]>0])/len(y[X[feature]>0]), sum(y[X[feature]>0] == 3), sum(y[X[feature]>0] == 4), sum(y[X[feature]>0] == 5)] for feature in indicator_frequency_features_50 if len(y[X[feature]>0])>0}\n",
    "feature_rating_50_df = pd.DataFrame.from_dict(feature_rating_50, orient='index',\n",
    "                       columns=['average_rating', 'n_rating3', 'n_rating4', 'n_rating5'])\n",
    "feature_rating_50_df\n"
   ]
  },
  {
   "cell_type": "code",
   "execution_count": 210,
   "id": "7eae0e5c",
   "metadata": {},
   "outputs": [
    {
     "data": {
      "image/png": "[encoded data removed]",
      "text/plain": [
       "<Figure size 432x288 with 1 Axes>"
      ]
     },
     "metadata": {
      "needs_background": "light"
     },
     "output_type": "display_data"
    }
   ],
   "source": [
    "import matplotlib.pyplot as plt\n",
    "bins = ['<3.2', '[3.2, 3.8)', '[3.8,4.2)', '[4.2, 4.8)', '>= 4.8']\n",
    "counts = [len([feature for feature, ratings in feature_rating_50.items() if ratings[0] < 3.2]), \n",
    "          len([feature for feature, ratings in feature_rating_50.items() if ratings[0] >= 3.2 and ratings[0] < 3.8]), \n",
    "          len([feature for feature, ratings in feature_rating_50.items() if ratings[0] >= 3.8 and ratings[0] < 4.2]), \n",
    "          len([feature for feature, ratings in feature_rating_50.items() if ratings[0] >= 4.2 and ratings[0] < 4.8]), \n",
    "          len([feature for feature, ratings in feature_rating_50.items() if ratings[0] >= 4.8])]\n",
    "plt.bar(bins, counts)\n",
    "plt.xlabel(\"average rating bins\")\n",
    "plt.ylabel(\"number of features\")\n",
    "plt.title(\"Features Selected by TF-IDF\")\n",
    "plt.show()"
   ]
  },
  {
   "cell_type": "markdown",
   "id": "37228b84",
   "metadata": {},
   "source": [
    "### selected"
   ]
  },
  {
   "cell_type": "code",
   "execution_count": 234,
   "id": "66dae9d9",
   "metadata": {},
   "outputs": [],
   "source": [
    "other_features_selected = set(selected_features.copy())\n",
    "author = re.compile('^(Authors_).*')\n",
    "authors_selected = set([feature for feature in other_features_selected if author.match(feature)])\n",
    "other_features_selected = other_features_selected - authors_selected\n",
    "\n",
    "publisher = re.compile('^(Publisher_).*')\n",
    "publishers_selected = set([feature for feature in other_features_selected if publisher.match(feature)])\n",
    "other_features_selected = other_features_selected - publishers_selected\n",
    "\n",
    "name = re.compile('.*_.*')\n",
    "names_selected = set([feature for feature in other_features_selected if name.match(feature)])\n",
    "other_features_selected = other_features_selected - names_selected\n",
    "\n",
    "desc = re.compile('.* .*')\n",
    "desc_selected = set([feature for feature in other_features_selected if desc.match(feature)])\n",
    "other_features_selected = other_features_selected - desc_selected"
   ]
  },
  {
   "cell_type": "code",
   "execution_count": 235,
   "id": "4dc2faa3",
   "metadata": {},
   "outputs": [],
   "source": [
    "indicator_frequency_features_selected = authors_selected|publishers_selected|names_selected|desc_selected"
   ]
  },
  {
   "cell_type": "code",
   "execution_count": 236,
   "id": "b426c602",
   "metadata": {
    "scrolled": false
   },
   "outputs": [
    {
     "data": {
      "text/html": [
       "<div>\n",
       "<style scoped>\n",
       "    .dataframe tbody tr th:only-of-type {\n",
       "        vertical-align: middle;\n",
       "    }\n",
       "\n",
       "    .dataframe tbody tr th {\n",
       "        vertical-align: top;\n",
       "    }\n",
       "\n",
       "    .dataframe thead th {\n",
       "        text-align: right;\n",
       "    }\n",
       "</style>\n",
       "<table border=\"1\" class=\"dataframe\">\n",
       "  <thead>\n",
       "    <tr style=\"text-align: right;\">\n",
       "      <th></th>\n",
       "      <th>average_rating</th>\n",
       "      <th>n_rating3</th>\n",
       "      <th>n_rating4</th>\n",
       "      <th>n_rating5</th>\n",
       "    </tr>\n",
       "  </thead>\n",
       "  <tbody>\n",
       "    <tr>\n",
       "      <th>Authors_german national equestrian federation</th>\n",
       "      <td>5.000000</td>\n",
       "      <td>0</td>\n",
       "      <td>0</td>\n",
       "      <td>3</td>\n",
       "    </tr>\n",
       "    <tr>\n",
       "      <th>Publisher_islamic supreme council of america</th>\n",
       "      <td>5.000000</td>\n",
       "      <td>0</td>\n",
       "      <td>0</td>\n",
       "      <td>3</td>\n",
       "    </tr>\n",
       "    <tr>\n",
       "      <th>old_new</th>\n",
       "      <td>4.181818</td>\n",
       "      <td>0</td>\n",
       "      <td>9</td>\n",
       "      <td>2</td>\n",
       "    </tr>\n",
       "    <tr>\n",
       "      <th>Publisher_trafalgar square books</th>\n",
       "      <td>4.333333</td>\n",
       "      <td>0</td>\n",
       "      <td>4</td>\n",
       "      <td>2</td>\n",
       "    </tr>\n",
       "    <tr>\n",
       "      <th>Publisher_soho press</th>\n",
       "      <td>3.000000</td>\n",
       "      <td>4</td>\n",
       "      <td>0</td>\n",
       "      <td>0</td>\n",
       "    </tr>\n",
       "    <tr>\n",
       "      <th>...</th>\n",
       "      <td>...</td>\n",
       "      <td>...</td>\n",
       "      <td>...</td>\n",
       "      <td>...</td>\n",
       "    </tr>\n",
       "    <tr>\n",
       "      <th>Authors_liz ireland</th>\n",
       "      <td>3.000000</td>\n",
       "      <td>4</td>\n",
       "      <td>0</td>\n",
       "      <td>0</td>\n",
       "    </tr>\n",
       "    <tr>\n",
       "      <th>everything need</th>\n",
       "      <td>3.658416</td>\n",
       "      <td>70</td>\n",
       "      <td>131</td>\n",
       "      <td>1</td>\n",
       "    </tr>\n",
       "    <tr>\n",
       "      <th>Publisher_steiner books</th>\n",
       "      <td>4.500000</td>\n",
       "      <td>0</td>\n",
       "      <td>1</td>\n",
       "      <td>1</td>\n",
       "    </tr>\n",
       "    <tr>\n",
       "      <th>Authors_michael romkey</th>\n",
       "      <td>3.000000</td>\n",
       "      <td>4</td>\n",
       "      <td>0</td>\n",
       "      <td>0</td>\n",
       "    </tr>\n",
       "    <tr>\n",
       "      <th>Publisher_westcliffe publishers</th>\n",
       "      <td>5.000000</td>\n",
       "      <td>0</td>\n",
       "      <td>0</td>\n",
       "      <td>2</td>\n",
       "    </tr>\n",
       "  </tbody>\n",
       "</table>\n",
       "<p>518 rows × 4 columns</p>\n",
       "</div>"
      ],
      "text/plain": [
       "                                               average_rating  n_rating3  \\\n",
       "Authors_german national equestrian federation        5.000000          0   \n",
       "Publisher_islamic supreme council of america         5.000000          0   \n",
       "old_new                                              4.181818          0   \n",
       "Publisher_trafalgar square books                     4.333333          0   \n",
       "Publisher_soho press                                 3.000000          4   \n",
       "...                                                       ...        ...   \n",
       "Authors_liz ireland                                  3.000000          4   \n",
       "everything need                                      3.658416         70   \n",
       "Publisher_steiner books                              4.500000          0   \n",
       "Authors_michael romkey                               3.000000          4   \n",
       "Publisher_westcliffe publishers                      5.000000          0   \n",
       "\n",
       "                                               n_rating4  n_rating5  \n",
       "Authors_german national equestrian federation          0          3  \n",
       "Publisher_islamic supreme council of america           0          3  \n",
       "old_new                                                9          2  \n",
       "Publisher_trafalgar square books                       4          2  \n",
       "Publisher_soho press                                   0          0  \n",
       "...                                                  ...        ...  \n",
       "Authors_liz ireland                                    0          0  \n",
       "everything need                                      131          1  \n",
       "Publisher_steiner books                                1          1  \n",
       "Authors_michael romkey                                 0          0  \n",
       "Publisher_westcliffe publishers                        0          2  \n",
       "\n",
       "[518 rows x 4 columns]"
      ]
     },
     "execution_count": 236,
     "metadata": {},
     "output_type": "execute_result"
    }
   ],
   "source": [
    "feature_rating = {feature:[sum(y[X[feature]>0])/len(y[X[feature]>0]), sum(y[X[feature]>0] == 3), sum(y[X[feature]>0] == 4), sum(y[X[feature]>0] == 5)] for feature in indicator_frequency_features_selected}\n",
    "feature_rating_df = pd.DataFrame.from_dict(feature_rating, orient='index',\n",
    "                       columns=['average_rating', 'n_rating3', 'n_rating4', 'n_rating5'])\n",
    "feature_rating_df"
   ]
  },
  {
   "cell_type": "code",
   "execution_count": 237,
   "id": "473058e6",
   "metadata": {},
   "outputs": [
    {
     "data": {
      "image/png": "[encoded data removed]",
      "text/plain": [
       "<Figure size 432x288 with 1 Axes>"
      ]
     },
     "metadata": {
      "needs_background": "light"
     },
     "output_type": "display_data"
    }
   ],
   "source": [
    "import matplotlib.pyplot as plt\n",
    "bins = ['<3.2', '[3.2, 3.8)', '[3.8,4.2)', '[4.2, 4.8)', '>= 4.8']\n",
    "counts = [len([feature for feature, ratings in feature_rating.items() if ratings[0] < 3.2]), \n",
    "          len([feature for feature, ratings in feature_rating.items() if ratings[0] >= 3.2 and ratings[0] < 3.8]), \n",
    "          len([feature for feature, ratings in feature_rating.items() if ratings[0] >= 3.8 and ratings[0] < 4.2]), \n",
    "          len([feature for feature, ratings in feature_rating.items() if ratings[0] >= 4.2 and ratings[0] < 4.8]), \n",
    "          len([feature for feature, ratings in feature_rating.items() if ratings[0] >= 4.8])]\n",
    "plt.bar(bins, counts)\n",
    "plt.xlabel(\"average rating bins\")\n",
    "plt.ylabel(\"number of features\")\n",
    "plt.title(\"Features Selected by LogR with Threshold=1.36\")\n",
    "plt.show()"
   ]
  },
  {
   "cell_type": "markdown",
   "id": "c52b27b7",
   "metadata": {},
   "source": [
    "### a higher threshold"
   ]
  },
  {
   "cell_type": "code",
   "execution_count": 238,
   "id": "7a0edf0f",
   "metadata": {},
   "outputs": [
    {
     "name": "stdout",
     "output_type": "stream",
     "text": [
      "233 features selected\n"
     ]
    }
   ],
   "source": [
    "logr = LogisticRegression(solver='sag', max_iter=50, random_state=30027)\n",
    "logr.fit(X, y)\n",
    "selector_2 = SelectFromModel(logr, prefit=True, threshold=2).fit(X, y)\n",
    "selected_features_2 = [X.columns[i] for i in range(X.shape[1]) if selector_2.get_support()[i]]\n",
    "print(len(selected_features_2), \"features selected\")\n",
    "X_filtered_2 = X[selected_features_2]"
   ]
  },
  {
   "cell_type": "code",
   "execution_count": 239,
   "id": "82884cbd",
   "metadata": {},
   "outputs": [],
   "source": [
    "other_features_selected_2 = set(selected_features_2.copy())\n",
    "author = re.compile('^(Authors_).*')\n",
    "authors_selected_2 = set([feature for feature in other_features_selected_2 if author.match(feature)])\n",
    "other_features_selected_2 = other_features_selected_2 - authors_selected_2\n",
    "\n",
    "publisher = re.compile('^(Publisher_).*')\n",
    "publishers_selected_2 = set([feature for feature in other_features_selected_2 if publisher.match(feature)])\n",
    "other_features_selected_2 = other_features_selected_2 - publishers_selected_2\n",
    "\n",
    "name = re.compile('.*_.*')\n",
    "names_selected_2 = set([feature for feature in other_features_selected_2 if name.match(feature)])\n",
    "other_features_selected_2 = other_features_selected_2 - names_selected_2\n",
    "\n",
    "desc = re.compile('.* .*')\n",
    "desc_selected_2 = set([feature for feature in other_features_selected_2 if desc.match(feature)])\n",
    "other_features_selected_2 = other_features_selected_2 - desc_selected_2"
   ]
  },
  {
   "cell_type": "code",
   "execution_count": 240,
   "id": "70038411",
   "metadata": {},
   "outputs": [],
   "source": [
    "indicator_frequency_features_selected_2 = authors_selected_2|publishers_selected_2|names_selected_2|desc_selected_2"
   ]
  },
  {
   "cell_type": "code",
   "execution_count": 241,
   "id": "1a0ecc6d",
   "metadata": {},
   "outputs": [
    {
     "data": {
      "text/html": [
       "<div>\n",
       "<style scoped>\n",
       "    .dataframe tbody tr th:only-of-type {\n",
       "        vertical-align: middle;\n",
       "    }\n",
       "\n",
       "    .dataframe tbody tr th {\n",
       "        vertical-align: top;\n",
       "    }\n",
       "\n",
       "    .dataframe thead th {\n",
       "        text-align: right;\n",
       "    }\n",
       "</style>\n",
       "<table border=\"1\" class=\"dataframe\">\n",
       "  <thead>\n",
       "    <tr style=\"text-align: right;\">\n",
       "      <th></th>\n",
       "      <th>average_rating</th>\n",
       "      <th>n_rating3</th>\n",
       "      <th>n_rating4</th>\n",
       "      <th>n_rating5</th>\n",
       "    </tr>\n",
       "  </thead>\n",
       "  <tbody>\n",
       "    <tr>\n",
       "      <th>Authors_german national equestrian federation</th>\n",
       "      <td>5.000000</td>\n",
       "      <td>0</td>\n",
       "      <td>0</td>\n",
       "      <td>3</td>\n",
       "    </tr>\n",
       "    <tr>\n",
       "      <th>Authors_anonymous</th>\n",
       "      <td>4.693878</td>\n",
       "      <td>1</td>\n",
       "      <td>13</td>\n",
       "      <td>35</td>\n",
       "    </tr>\n",
       "    <tr>\n",
       "      <th>Authors_paramahansa yogananda</th>\n",
       "      <td>5.000000</td>\n",
       "      <td>0</td>\n",
       "      <td>0</td>\n",
       "      <td>9</td>\n",
       "    </tr>\n",
       "    <tr>\n",
       "      <th>Publisher_islamic supreme council of america</th>\n",
       "      <td>5.000000</td>\n",
       "      <td>0</td>\n",
       "      <td>0</td>\n",
       "      <td>3</td>\n",
       "    </tr>\n",
       "    <tr>\n",
       "      <th>Publisher_trafalgar square books</th>\n",
       "      <td>4.333333</td>\n",
       "      <td>0</td>\n",
       "      <td>4</td>\n",
       "      <td>2</td>\n",
       "    </tr>\n",
       "    <tr>\n",
       "      <th>...</th>\n",
       "      <td>...</td>\n",
       "      <td>...</td>\n",
       "      <td>...</td>\n",
       "      <td>...</td>\n",
       "    </tr>\n",
       "    <tr>\n",
       "      <th>Authors_liz ireland</th>\n",
       "      <td>3.000000</td>\n",
       "      <td>4</td>\n",
       "      <td>0</td>\n",
       "      <td>0</td>\n",
       "    </tr>\n",
       "    <tr>\n",
       "      <th>everything need</th>\n",
       "      <td>3.658416</td>\n",
       "      <td>70</td>\n",
       "      <td>131</td>\n",
       "      <td>1</td>\n",
       "    </tr>\n",
       "    <tr>\n",
       "      <th>Authors_julie highmore</th>\n",
       "      <td>3.000000</td>\n",
       "      <td>4</td>\n",
       "      <td>0</td>\n",
       "      <td>0</td>\n",
       "    </tr>\n",
       "    <tr>\n",
       "      <th>Authors_michael romkey</th>\n",
       "      <td>3.000000</td>\n",
       "      <td>4</td>\n",
       "      <td>0</td>\n",
       "      <td>0</td>\n",
       "    </tr>\n",
       "    <tr>\n",
       "      <th>Publisher_westcliffe publishers</th>\n",
       "      <td>5.000000</td>\n",
       "      <td>0</td>\n",
       "      <td>0</td>\n",
       "      <td>2</td>\n",
       "    </tr>\n",
       "  </tbody>\n",
       "</table>\n",
       "<p>231 rows × 4 columns</p>\n",
       "</div>"
      ],
      "text/plain": [
       "                                               average_rating  n_rating3  \\\n",
       "Authors_german national equestrian federation        5.000000          0   \n",
       "Authors_anonymous                                    4.693878          1   \n",
       "Authors_paramahansa yogananda                        5.000000          0   \n",
       "Publisher_islamic supreme council of america         5.000000          0   \n",
       "Publisher_trafalgar square books                     4.333333          0   \n",
       "...                                                       ...        ...   \n",
       "Authors_liz ireland                                  3.000000          4   \n",
       "everything need                                      3.658416         70   \n",
       "Authors_julie highmore                               3.000000          4   \n",
       "Authors_michael romkey                               3.000000          4   \n",
       "Publisher_westcliffe publishers                      5.000000          0   \n",
       "\n",
       "                                               n_rating4  n_rating5  \n",
       "Authors_german national equestrian federation          0          3  \n",
       "Authors_anonymous                                     13         35  \n",
       "Authors_paramahansa yogananda                          0          9  \n",
       "Publisher_islamic supreme council of america           0          3  \n",
       "Publisher_trafalgar square books                       4          2  \n",
       "...                                                  ...        ...  \n",
       "Authors_liz ireland                                    0          0  \n",
       "everything need                                      131          1  \n",
       "Authors_julie highmore                                 0          0  \n",
       "Authors_michael romkey                                 0          0  \n",
       "Publisher_westcliffe publishers                        0          2  \n",
       "\n",
       "[231 rows x 4 columns]"
      ]
     },
     "execution_count": 241,
     "metadata": {},
     "output_type": "execute_result"
    }
   ],
   "source": [
    "feature_rating_2 = {feature:[sum(y[X[feature]>0])/len(y[X[feature]>0]), sum(y[X[feature]>0] == 3), sum(y[X[feature]>0] == 4), sum(y[X[feature]>0] == 5)] for feature in indicator_frequency_features_selected_2}\n",
    "feature_rating_df_2 = pd.DataFrame.from_dict(feature_rating_2, orient='index',\n",
    "                       columns=['average_rating', 'n_rating3', 'n_rating4', 'n_rating5'])\n",
    "feature_rating_df_2"
   ]
  },
  {
   "cell_type": "code",
   "execution_count": 242,
   "id": "5f93b03b",
   "metadata": {},
   "outputs": [
    {
     "data": {
      "image/png": "[encoded data removed]",
      "text/plain": [
       "<Figure size 432x288 with 1 Axes>"
      ]
     },
     "metadata": {
      "needs_background": "light"
     },
     "output_type": "display_data"
    }
   ],
   "source": [
    "import matplotlib.pyplot as plt\n",
    "bins = ['<3.2', '[3.2, 3.8)', '[3.8,4.2)', '[4.2, 4.8)', '>= 4.8']\n",
    "counts = [len([feature for feature, ratings in feature_rating_2.items() if ratings[0] < 3.2]), \n",
    "          len([feature for feature, ratings in feature_rating_2.items() if ratings[0] >= 3.2 and ratings[0] < 3.8]), \n",
    "          len([feature for feature, ratings in feature_rating_2.items() if ratings[0] >= 3.8 and ratings[0] < 4.2]), \n",
    "          len([feature for feature, ratings in feature_rating_2.items() if ratings[0] >= 4.2 and ratings[0] < 4.8]), \n",
    "          len([feature for feature, ratings in feature_rating_2.items() if ratings[0] >= 4.8])]\n",
    "plt.bar(bins, counts)\n",
    "plt.xlabel(\"average rating bins\")\n",
    "plt.ylabel(\"number of features\")\n",
    "plt.title(\"Features Selected by LogR with Threshold=2\")\n",
    "plt.show()"
   ]
  },
  {
   "cell_type": "markdown",
   "id": "e7280308",
   "metadata": {},
   "source": [
    "### indicator/frequency feature sums"
   ]
  },
  {
   "cell_type": "code",
   "execution_count": 243,
   "id": "232dc1cf",
   "metadata": {},
   "outputs": [],
   "source": [
    "correct_3 = X_filtered.loc[(y_pred == y) & (y_pred == 3)]\n",
    "correct_4 = X_filtered.loc[(y_pred == y) & (y_pred == 4)]\n",
    "correct_5 = X_filtered.loc[(y_pred == y) & (y_pred == 5)]\n",
    "correct = pd.concat([correct_3, correct_4, correct_5])\n",
    "\n",
    "FN_3 = X_filtered.loc[(y_pred != y) & (y == 3)]\n",
    "FN_4 = X_filtered.loc[(y_pred != y) & (y == 4)]\n",
    "FN_5 = X_filtered.loc[(y_pred != y) & (y == 5)]\n",
    "incorrect = pd.concat([FN_3, FN_4, FN_5])"
   ]
  },
  {
   "cell_type": "code",
   "execution_count": 244,
   "id": "0d89ea24",
   "metadata": {},
   "outputs": [
    {
     "name": "stdout",
     "output_type": "stream",
     "text": [
      "there are 16952 correctly classified instances\n",
      "there are 6111 incorrectly classified instances\n",
      "there are 23063 instances\n"
     ]
    }
   ],
   "source": [
    "print(f'there are {correct.shape[0]} correctly classified instances')\n",
    "print(f'there are {incorrect.shape[0]} incorrectly classified instances')\n",
    "print(f'there are {X.shape[0]} instances')"
   ]
  },
  {
   "cell_type": "code",
   "execution_count": 245,
   "id": "51e7a466",
   "metadata": {},
   "outputs": [
    {
     "data": {
      "text/plain": [
       "1.3442622950819672"
      ]
     },
     "execution_count": 245,
     "metadata": {},
     "output_type": "execute_result"
    }
   ],
   "source": [
    "# average number of indicator/frequency feature involved in for correctly labelled rating 3 instances\n",
    "sum([sum(correct_3.iloc[i][indicator_frequency_features_selected]>0) for i in range(correct_3.shape[0])])/correct_3.shape[0]"
   ]
  },
  {
   "cell_type": "code",
   "execution_count": 246,
   "id": "823cfea8",
   "metadata": {},
   "outputs": [
    {
     "data": {
      "text/plain": [
       "0.3199672667757774"
      ]
     },
     "execution_count": 246,
     "metadata": {},
     "output_type": "execute_result"
    }
   ],
   "source": [
    "# average number of indicator/frequency feature involved in for false negative rating 3 instances\n",
    "sum([sum(FN_3.iloc[i][indicator_frequency_features_selected]>0) for i in range(FN_3.shape[0])])/FN_3.shape[0]"
   ]
  },
  {
   "cell_type": "code",
   "execution_count": 247,
   "id": "6129e11e",
   "metadata": {},
   "outputs": [
    {
     "data": {
      "text/plain": [
       "0.3498520244317109"
      ]
     },
     "execution_count": 247,
     "metadata": {},
     "output_type": "execute_result"
    }
   ],
   "source": [
    "# average number of indicator/frequency feature involved in for correctly labelled rating 4 instances\n",
    "sum([sum(correct_4.iloc[i][indicator_frequency_features_selected]>0) for i in range(correct_4.shape[0])])/correct_4.shape[0]"
   ]
  },
  {
   "cell_type": "code",
   "execution_count": 248,
   "id": "d02157a6",
   "metadata": {},
   "outputs": [
    {
     "data": {
      "text/plain": [
       "1.2446483180428134"
      ]
     },
     "execution_count": 248,
     "metadata": {},
     "output_type": "execute_result"
    }
   ],
   "source": [
    "# average number of indicator/frequency feature involved in for false negative rating 4 instances\n",
    "sum([sum(FN_4.iloc[i][indicator_frequency_features_selected]>0) for i in range(FN_4.shape[0])])/FN_4.shape[0]"
   ]
  },
  {
   "cell_type": "code",
   "execution_count": 249,
   "id": "a220f59a",
   "metadata": {},
   "outputs": [
    {
     "data": {
      "text/plain": [
       "2.210526315789474"
      ]
     },
     "execution_count": 249,
     "metadata": {},
     "output_type": "execute_result"
    }
   ],
   "source": [
    "# average number of indicator/frequency feature involved in for correctly labelled rating 5 instances\n",
    "sum([sum(correct_5.iloc[i][indicator_frequency_features_selected]>0) for i in range(correct_5.shape[0])])/correct_5.shape[0]"
   ]
  },
  {
   "cell_type": "code",
   "execution_count": 250,
   "id": "62e151ad",
   "metadata": {},
   "outputs": [
    {
     "data": {
      "text/plain": [
       "0.6830357142857143"
      ]
     },
     "execution_count": 250,
     "metadata": {},
     "output_type": "execute_result"
    }
   ],
   "source": [
    "# average number of indicator/frequency feature involved in for false negative rating 5 instances\n",
    "sum([sum(FN_5.iloc[i][indicator_frequency_features_selected]>0) for i in range(FN_5.shape[0])])/FN_5.shape[0]"
   ]
  },
  {
   "cell_type": "code",
   "execution_count": 251,
   "id": "52400325",
   "metadata": {},
   "outputs": [
    {
     "data": {
      "image/png": "[encoded data removed]",
      "text/plain": [
       "<Figure size 432x288 with 1 Axes>"
      ]
     },
     "metadata": {
      "needs_background": "light"
     },
     "output_type": "display_data"
    }
   ],
   "source": [
    "ratings = [3,4,5]\n",
    "average_sum_correct = [1.3442622950819672, 0.3498520244317109, 2.210526315789474]\n",
    "average_sum_incorrect = [0.3199672667757774, 1.2446483180428134, 0.6830357142857143]\n",
    "\n",
    "plt.plot(ratings, average_sum_correct, label = \"true positive\")\n",
    "plt.plot(ratings, average_sum_incorrect, label = \"false negative\")\n",
    "plt.legend()\n",
    "plt.xlabel(\"rating\")\n",
    "plt.ylabel(\"average #non-zero OHE and TF-IDF feature\")\n",
    "plt.title(\"Differences in #non-zero OHE and TF-IDF feature\")\n",
    "plt.show()"
   ]
  },
  {
   "cell_type": "markdown",
   "id": "d18ee028",
   "metadata": {},
   "source": [
    "### Different feature selection"
   ]
  },
  {
   "cell_type": "code",
   "execution_count": 9,
   "id": "47c5fc8f",
   "metadata": {},
   "outputs": [
    {
     "name": "stdout",
     "output_type": "stream",
     "text": [
      "================================================================================\n",
      "selected 50 features\n",
      "\n",
      "LogisticRegression prediction took 73.51874589920044 seconds.\n",
      "\n",
      "   3.0_precision  3.0_recall  3.0_f1-score  4.0_precision  4.0_recall  \\\n",
      "0       0.721854    0.185690      0.295393       0.734295    0.973473   \n",
      "1       0.717391    0.168654      0.273103       0.732747    0.975941   \n",
      "2       0.673333    0.172355      0.274457       0.731844    0.969772   \n",
      "3       0.686131    0.160410      0.260028       0.731787    0.972856   \n",
      "4       0.780142    0.187713      0.302613       0.736427    0.979025   \n",
      "5       0.656489    0.146758      0.239888       0.729592    0.970389   \n",
      "6       0.741667    0.151877      0.252125       0.731371    0.980876   \n",
      "7       0.728571    0.174061      0.280992       0.734571    0.976558   \n",
      "8       0.731544    0.185690      0.296196       0.734760    0.974691   \n",
      "9       0.692857    0.165247      0.266850       0.731787    0.973457   \n",
      "\n",
      "   4.0_f1-score  5.0_precision  5.0_recall  5.0_f1-score  accuracy  \n",
      "0      0.837135       0.714286    0.050505      0.094340  0.733420  \n",
      "1      0.837037       0.900000    0.090909      0.165138  0.732553  \n",
      "2      0.834174       0.666667    0.060000      0.110092  0.727785  \n",
      "3      0.835275       0.642857    0.090909      0.159292  0.728534  \n",
      "4      0.840572       0.700000    0.070707      0.128440  0.738942  \n",
      "5      0.832936       0.736842    0.141414      0.237288  0.725499  \n",
      "6      0.837945       0.916667    0.111111      0.198198  0.732871  \n",
      "7      0.838453       0.727273    0.080808      0.145455  0.734172  \n",
      "8      0.837888       0.875000    0.070707      0.130841  0.735039  \n",
      "9      0.835497       0.727273    0.080808      0.145455  0.729402  \n"
     ]
    },
    {
     "data": {
      "image/png": "[encoded data removed]",
      "text/plain": [
       "<Figure size 432x288 with 2 Axes>"
      ]
     },
     "metadata": {
      "needs_background": "light"
     },
     "output_type": "display_data"
    },
    {
     "name": "stdout",
     "output_type": "stream",
     "text": [
      "                   mean       std\n",
      "3.0_precision  0.712998  0.036375\n",
      "3.0_recall     0.169846  0.014193\n",
      "3.0_f1-score   0.274164  0.020295\n",
      "4.0_precision  0.732918  0.002042\n",
      "4.0_recall     0.974704  0.003515\n",
      "4.0_f1-score   0.836691  0.002245\n",
      "5.0_precision  0.760686  0.098976\n",
      "5.0_recall     0.084788  0.026230\n",
      "5.0_f1-score   0.151454  0.041900\n",
      "accuracy       0.731822  0.003996\n",
      "\n",
      "================================================================================\n",
      "\n",
      "\n",
      "================================================================================\n",
      "selected 100 features\n",
      "\n",
      "LogisticRegression prediction took 89.74640011787415 seconds.\n",
      "\n",
      "   3.0_precision  3.0_recall  3.0_f1-score  4.0_precision  4.0_recall  \\\n",
      "0       0.689024    0.192504      0.300932       0.734331    0.968538   \n",
      "1       0.713333    0.182283      0.290366       0.734979    0.973473   \n",
      "2       0.675159    0.180887      0.285330       0.732585    0.966687   \n",
      "3       0.659722    0.162116      0.260274       0.731719    0.969155   \n",
      "4       0.772727    0.203072      0.321622       0.738684    0.976558   \n",
      "5       0.684211    0.155290      0.253129       0.731447    0.972856   \n",
      "6       0.701493    0.160410      0.261111       0.732283    0.975324   \n",
      "7       0.709459    0.179181      0.286104       0.735445    0.974090   \n",
      "8       0.703704    0.194208      0.304406       0.735239    0.968519   \n",
      "9       0.710345    0.175468      0.281421       0.733612    0.974074   \n",
      "\n",
      "   4.0_f1-score  5.0_precision  5.0_recall  5.0_f1-score  accuracy  \n",
      "0      0.835329       0.800000    0.040404      0.076923  0.731253  \n",
      "1      0.837580       0.900000    0.090909      0.165138  0.734287  \n",
      "2      0.833511       0.636364    0.070000      0.126126  0.728218  \n",
      "3      0.833864       0.600000    0.090909      0.157895  0.726366  \n",
      "4      0.841126       0.666667    0.060606      0.111111  0.740676  \n",
      "5      0.835054       0.823529    0.141414      0.241379  0.729402  \n",
      "6      0.836508       0.923077    0.121212      0.214286  0.731570  \n",
      "7      0.838110       0.818182    0.090909      0.163636  0.734172  \n",
      "8      0.835908       0.700000    0.070707      0.128440  0.732871  \n",
      "9      0.836913       0.700000    0.070707      0.128440  0.732003  \n"
     ]
    },
    {
     "data": {
      "image/png": "[encoded data removed]",
      "text/plain": [
       "<Figure size 432x288 with 2 Axes>"
      ]
     },
     "metadata": {
      "needs_background": "light"
     },
     "output_type": "display_data"
    },
    {
     "name": "stdout",
     "output_type": "stream",
     "text": [
      "                   mean       std\n",
      "3.0_precision  0.701918  0.030280\n",
      "3.0_recall     0.178542  0.015673\n",
      "3.0_f1-score   0.284469  0.021627\n",
      "4.0_precision  0.734032  0.002197\n",
      "4.0_recall     0.971927  0.003396\n",
      "4.0_f1-score   0.836390  0.002234\n",
      "5.0_precision  0.756782  0.111509\n",
      "5.0_recall     0.084778  0.029469\n",
      "5.0_f1-score   0.151337  0.048642\n",
      "accuracy       0.732082  0.003936\n",
      "\n",
      "================================================================================\n",
      "\n",
      "\n",
      "================================================================================\n",
      "selected 200 features\n",
      "\n",
      "LogisticRegression prediction took 114.32790875434875 seconds.\n",
      "\n",
      "   3.0_precision  3.0_recall  3.0_f1-score  4.0_precision  4.0_recall  \\\n",
      "0       0.693989    0.216354      0.329870       0.739028    0.966070   \n",
      "1       0.670732    0.187394      0.292943       0.735584    0.967921   \n",
      "2       0.698795    0.197952      0.308511       0.736274    0.967921   \n",
      "3       0.644295    0.163823      0.261224       0.730751    0.966070   \n",
      "4       0.756098    0.211604      0.330667       0.740619    0.974090   \n",
      "5       0.689189    0.174061      0.277929       0.734236    0.969772   \n",
      "6       0.686131    0.160410      0.260028       0.732591    0.973473   \n",
      "7       0.679012    0.187713      0.294118       0.736176    0.969155   \n",
      "8       0.684211    0.199319      0.308707       0.735529    0.964815   \n",
      "9       0.672956    0.182283      0.286863       0.734551    0.968519   \n",
      "\n",
      "   4.0_f1-score  5.0_precision  5.0_recall  5.0_f1-score  accuracy  \n",
      "0      0.837433       0.800000    0.040404      0.076923  0.735587  \n",
      "1      0.835908       0.900000    0.090909      0.165138  0.731686  \n",
      "2      0.836354       0.600000    0.060000      0.109091  0.732987  \n",
      "3      0.832094       0.642857    0.090909      0.159292  0.724631  \n",
      "4      0.841460       0.700000    0.070707      0.128440  0.741544  \n",
      "5      0.835726       0.764706    0.131313      0.224138  0.731570  \n",
      "6      0.836026       0.866667    0.131313      0.228070  0.730703  \n",
      "7      0.836751       0.900000    0.090909      0.165138  0.732871  \n",
      "8      0.834713       0.700000    0.070707      0.128440  0.731570  \n",
      "9      0.835463       0.818182    0.090909      0.163636  0.730703  \n"
     ]
    },
    {
     "data": {
      "image/png": "[encoded data removed]",
      "text/plain": [
       "<Figure size 432x288 with 2 Axes>"
      ]
     },
     "metadata": {
      "needs_background": "light"
     },
     "output_type": "display_data"
    },
    {
     "name": "stdout",
     "output_type": "stream",
     "text": [
      "                   mean       std\n",
      "3.0_precision  0.687541  0.028523\n",
      "3.0_recall     0.188091  0.018742\n",
      "3.0_f1-score   0.295086  0.024911\n",
      "4.0_precision  0.735534  0.002852\n",
      "4.0_recall     0.968781  0.003042\n",
      "4.0_f1-score   0.836193  0.002345\n",
      "5.0_precision  0.769241  0.106068\n",
      "5.0_recall     0.086808  0.028712\n",
      "5.0_f1-score   0.154831  0.047178\n",
      "accuracy       0.732385  0.004247\n",
      "\n",
      "================================================================================\n",
      "\n",
      "\n",
      "================================================================================\n",
      "selected 300 features\n",
      "\n",
      "LogisticRegression prediction took 138.69750094413757 seconds.\n",
      "\n",
      "   3.0_precision  3.0_recall  3.0_f1-score  4.0_precision  4.0_recall  \\\n",
      "0       0.656863    0.228279      0.338812       0.740935    0.958051   \n",
      "1       0.692771    0.195911      0.305445       0.738375    0.969772   \n",
      "2       0.686047    0.201365      0.311346       0.737189    0.967304   \n",
      "3       0.624204    0.167235      0.263795       0.731455    0.961135   \n",
      "4       0.727273    0.218430      0.335958       0.741737    0.969155   \n",
      "5       0.664596    0.182594      0.286479       0.734617    0.964837   \n",
      "6       0.671233    0.167235      0.267760       0.732276    0.968538   \n",
      "7       0.651429    0.194539      0.299606       0.736917    0.964220   \n",
      "8       0.685393    0.207836      0.318954       0.737364    0.963580   \n",
      "9       0.660819    0.192504      0.298153       0.735876    0.964815   \n",
      "\n",
      "   4.0_f1-score  5.0_precision  5.0_recall  5.0_f1-score  accuracy  \n",
      "0      0.835620       0.714286    0.050505      0.094340  0.733420  \n",
      "1      0.838400       0.916667    0.111111      0.198198  0.736021  \n",
      "2      0.836713       0.875000    0.070000      0.129630  0.733853  \n",
      "3      0.830712       0.578947    0.111111      0.186441  0.722897  \n",
      "4      0.840332       0.750000    0.090909      0.162162  0.740676  \n",
      "5      0.834133       0.750000    0.121212      0.208696  0.729835  \n",
      "6      0.833997       0.750000    0.121212      0.208696  0.728534  \n",
      "7      0.835382       0.900000    0.090909      0.165138  0.731136  \n",
      "8      0.835429       0.727273    0.080808      0.145455  0.733304  \n",
      "9      0.834936       0.818182    0.090909      0.163636  0.730703  \n"
     ]
    },
    {
     "data": {
      "image/png": "[encoded data removed]",
      "text/plain": [
       "<Figure size 432x288 with 2 Axes>"
      ]
     },
     "metadata": {
      "needs_background": "light"
     },
     "output_type": "display_data"
    },
    {
     "name": "stdout",
     "output_type": "stream",
     "text": [
      "                   mean       std\n",
      "3.0_precision  0.672063  0.027850\n",
      "3.0_recall     0.195593  0.019892\n",
      "3.0_f1-score   0.302631  0.025352\n",
      "4.0_precision  0.736674  0.003315\n",
      "4.0_recall     0.965141  0.003706\n",
      "4.0_f1-score   0.835565  0.002595\n",
      "5.0_precision  0.778035  0.102058\n",
      "5.0_recall     0.093869  0.022942\n",
      "5.0_f1-score   0.166239  0.036516\n",
      "accuracy       0.732038  0.004721\n",
      "\n",
      "================================================================================\n",
      "\n",
      "\n"
     ]
    }
   ],
   "source": [
    "logr = LogisticRegression(solver='sag', max_iter=50, random_state=30027)\n",
    "train_df_50 = pd.read_csv(\"./Final/Datasets/train_df_50.csv\", keep_default_na=False)\n",
    "train_df_100 = pd.read_csv(\"./Final/Datasets/train_df_100.csv\", keep_default_na=False)\n",
    "train_df_200 = pd.read_csv(\"./Final/Datasets/train_df_200.csv\", keep_default_na=False)\n",
    "train_df_300 = pd.read_csv(\"./Final/Datasets/train_df_300.csv\", keep_default_na=False)\n",
    "nums = ['50', '100', '200', '300']\n",
    "train_dfs = [pd.read_csv(\"./Final/Datasets/train_df_\"+num+\".csv\", keep_default_na=False) for num in nums]\n",
    "\n",
    "for i in range(4): \n",
    "    print(\"================================================================================\")\n",
    "    print(f'selected {nums[i]} features\\n')\n",
    "    train_df = train_dfs[i]\n",
    "    X_train = train_df.iloc[:,:-1]\n",
    "    y_train = train_df.iloc[:,-1]\n",
    "    _, report = cross_val_report(logr, X_train, y_train)\n",
    "    print(report)\n",
    "    print('\\n================================================================================\\n\\n')"
   ]
  },
  {
   "cell_type": "raw",
   "id": "c170f10c",
   "metadata": {},
   "source": []
  },
  {
   "cell_type": "code",
   "execution_count": null,
   "id": "8dd88735",
   "metadata": {},
   "outputs": [],
   "source": []
  }
 ],
 "metadata": {
  "kernelspec": {
   "display_name": "Python 3",
   "language": "python",
   "name": "python3"
  },
  "language_info": {
   "codemirror_mode": {
    "name": "ipython",
    "version": 3
   },
   "file_extension": ".py",
   "mimetype": "text/x-python",
   "name": "python",
   "nbconvert_exporter": "python",
   "pygments_lexer": "ipython3",
   "version": "3.8.8"
  }
 },
 "nbformat": 4,
 "nbformat_minor": 5
}
