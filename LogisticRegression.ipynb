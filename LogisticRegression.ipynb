{
 "cells": [
  {
   "cell_type": "code",
   "execution_count": 1,
   "id": "35ba1369",
   "metadata": {},
   "outputs": [],
   "source": [
    "%run Global.ipynb\n",
    "%run Helper_Functions.ipynb"
   ]
  },
  {
   "cell_type": "code",
   "execution_count": 2,
   "id": "8177f0a0",
   "metadata": {},
   "outputs": [],
   "source": [
    "train_df_ohe_selected = pd.read_csv(DATASET_DIR + \"/train_df_ohe_selected_50.csv\", keep_default_na=False)\n",
    "\n",
    "y = train_df_ohe_selected.iloc[:,-1]\n",
    "X = train_df_ohe_selected.iloc[:,:-1]"
   ]
  },
  {
   "cell_type": "markdown",
   "id": "1de03bb0",
   "metadata": {},
   "source": [
    "# Logistic Regression"
   ]
  },
  {
   "cell_type": "code",
   "execution_count": 3,
   "id": "1791ad42",
   "metadata": {},
   "outputs": [],
   "source": [
    "from sklearn.linear_model import LogisticRegression\n",
    "\n",
    "logr = LogisticRegression(solver='sag') # uses Stochastic Average Gradient descent solver"
   ]
  },
  {
   "cell_type": "code",
   "execution_count": 4,
   "id": "3f696512",
   "metadata": {},
   "outputs": [
    {
     "name": "stdout",
     "output_type": "stream",
     "text": [
      "Fitting 3 folds for each of 5 candidates, totalling 15 fits\n",
      "[CV] END .......................................max_iter=100; total time=  11.7s\n",
      "[CV] END .......................................max_iter=100; total time=  11.9s\n",
      "[CV] END .......................................max_iter=100; total time=  11.0s\n",
      "[CV] END .......................................max_iter=500; total time=  26.0s\n",
      "[CV] END .......................................max_iter=500; total time=  27.9s\n",
      "[CV] END .......................................max_iter=500; total time=  29.6s\n",
      "[CV] END ......................................max_iter=1000; total time=  27.8s\n",
      "[CV] END ......................................max_iter=1000; total time=  28.1s\n",
      "[CV] END ......................................max_iter=1000; total time=  29.0s\n",
      "[CV] END ......................................max_iter=5000; total time=  27.0s\n",
      "[CV] END ......................................max_iter=5000; total time=  27.1s\n",
      "[CV] END ......................................max_iter=5000; total time=  28.5s\n",
      "[CV] END .....................................max_iter=10000; total time=  26.1s\n",
      "[CV] END .....................................max_iter=10000; total time=  28.1s\n",
      "[CV] END .....................................max_iter=10000; total time=  29.2s\n"
     ]
    },
    {
     "data": {
      "text/html": [
       "<div>\n",
       "<style scoped>\n",
       "    .dataframe tbody tr th:only-of-type {\n",
       "        vertical-align: middle;\n",
       "    }\n",
       "\n",
       "    .dataframe tbody tr th {\n",
       "        vertical-align: top;\n",
       "    }\n",
       "\n",
       "    .dataframe thead th {\n",
       "        text-align: right;\n",
       "    }\n",
       "</style>\n",
       "<table border=\"1\" class=\"dataframe\">\n",
       "  <thead>\n",
       "    <tr style=\"text-align: right;\">\n",
       "      <th></th>\n",
       "      <th>params</th>\n",
       "      <th>mean_test_3.0_precision</th>\n",
       "      <th>std_test_3.0_precision</th>\n",
       "      <th>rank_test_3.0_precision</th>\n",
       "      <th>mean_test_3.0_recall</th>\n",
       "      <th>std_test_3.0_recall</th>\n",
       "      <th>rank_test_3.0_recall</th>\n",
       "      <th>mean_test_3.0_f1-score</th>\n",
       "      <th>std_test_3.0_f1-score</th>\n",
       "      <th>rank_test_3.0_f1-score</th>\n",
       "      <th>...</th>\n",
       "      <th>rank_test_5.0_precision</th>\n",
       "      <th>mean_test_5.0_recall</th>\n",
       "      <th>std_test_5.0_recall</th>\n",
       "      <th>rank_test_5.0_recall</th>\n",
       "      <th>mean_test_5.0_f1-score</th>\n",
       "      <th>std_test_5.0_f1-score</th>\n",
       "      <th>rank_test_5.0_f1-score</th>\n",
       "      <th>mean_test_accuracy</th>\n",
       "      <th>std_test_accuracy</th>\n",
       "      <th>rank_test_accuracy</th>\n",
       "    </tr>\n",
       "  </thead>\n",
       "  <tbody>\n",
       "    <tr>\n",
       "      <th>0</th>\n",
       "      <td>{'max_iter': 100}</td>\n",
       "      <td>0.709700</td>\n",
       "      <td>0.014423</td>\n",
       "      <td>5</td>\n",
       "      <td>0.150069</td>\n",
       "      <td>0.002879</td>\n",
       "      <td>5</td>\n",
       "      <td>0.247750</td>\n",
       "      <td>0.004796</td>\n",
       "      <td>5</td>\n",
       "      <td>...</td>\n",
       "      <td>1</td>\n",
       "      <td>0.070631</td>\n",
       "      <td>0.007089</td>\n",
       "      <td>5</td>\n",
       "      <td>0.129498</td>\n",
       "      <td>0.011707</td>\n",
       "      <td>5</td>\n",
       "      <td>0.728093</td>\n",
       "      <td>0.001383</td>\n",
       "      <td>5</td>\n",
       "    </tr>\n",
       "    <tr>\n",
       "      <th>1</th>\n",
       "      <td>{'max_iter': 500}</td>\n",
       "      <td>0.715484</td>\n",
       "      <td>0.013999</td>\n",
       "      <td>1</td>\n",
       "      <td>0.154844</td>\n",
       "      <td>0.003828</td>\n",
       "      <td>1</td>\n",
       "      <td>0.254586</td>\n",
       "      <td>0.006002</td>\n",
       "      <td>1</td>\n",
       "      <td>...</td>\n",
       "      <td>2</td>\n",
       "      <td>0.074668</td>\n",
       "      <td>0.010270</td>\n",
       "      <td>1</td>\n",
       "      <td>0.136212</td>\n",
       "      <td>0.017417</td>\n",
       "      <td>1</td>\n",
       "      <td>0.729437</td>\n",
       "      <td>0.001567</td>\n",
       "      <td>1</td>\n",
       "    </tr>\n",
       "    <tr>\n",
       "      <th>2</th>\n",
       "      <td>{'max_iter': 1000}</td>\n",
       "      <td>0.715484</td>\n",
       "      <td>0.013999</td>\n",
       "      <td>1</td>\n",
       "      <td>0.154844</td>\n",
       "      <td>0.003828</td>\n",
       "      <td>1</td>\n",
       "      <td>0.254586</td>\n",
       "      <td>0.006002</td>\n",
       "      <td>1</td>\n",
       "      <td>...</td>\n",
       "      <td>2</td>\n",
       "      <td>0.074668</td>\n",
       "      <td>0.010270</td>\n",
       "      <td>1</td>\n",
       "      <td>0.136212</td>\n",
       "      <td>0.017417</td>\n",
       "      <td>1</td>\n",
       "      <td>0.729437</td>\n",
       "      <td>0.001567</td>\n",
       "      <td>1</td>\n",
       "    </tr>\n",
       "    <tr>\n",
       "      <th>3</th>\n",
       "      <td>{'max_iter': 5000}</td>\n",
       "      <td>0.715484</td>\n",
       "      <td>0.013999</td>\n",
       "      <td>1</td>\n",
       "      <td>0.154844</td>\n",
       "      <td>0.003828</td>\n",
       "      <td>1</td>\n",
       "      <td>0.254586</td>\n",
       "      <td>0.006002</td>\n",
       "      <td>1</td>\n",
       "      <td>...</td>\n",
       "      <td>2</td>\n",
       "      <td>0.074668</td>\n",
       "      <td>0.010270</td>\n",
       "      <td>1</td>\n",
       "      <td>0.136212</td>\n",
       "      <td>0.017417</td>\n",
       "      <td>1</td>\n",
       "      <td>0.729437</td>\n",
       "      <td>0.001567</td>\n",
       "      <td>1</td>\n",
       "    </tr>\n",
       "    <tr>\n",
       "      <th>4</th>\n",
       "      <td>{'max_iter': 10000}</td>\n",
       "      <td>0.715484</td>\n",
       "      <td>0.013999</td>\n",
       "      <td>1</td>\n",
       "      <td>0.154844</td>\n",
       "      <td>0.003828</td>\n",
       "      <td>1</td>\n",
       "      <td>0.254586</td>\n",
       "      <td>0.006002</td>\n",
       "      <td>1</td>\n",
       "      <td>...</td>\n",
       "      <td>2</td>\n",
       "      <td>0.074668</td>\n",
       "      <td>0.010270</td>\n",
       "      <td>1</td>\n",
       "      <td>0.136212</td>\n",
       "      <td>0.017417</td>\n",
       "      <td>1</td>\n",
       "      <td>0.729437</td>\n",
       "      <td>0.001567</td>\n",
       "      <td>1</td>\n",
       "    </tr>\n",
       "  </tbody>\n",
       "</table>\n",
       "<p>5 rows × 31 columns</p>\n",
       "</div>"
      ],
      "text/plain": [
       "                params  mean_test_3.0_precision  std_test_3.0_precision  \\\n",
       "0    {'max_iter': 100}                 0.709700                0.014423   \n",
       "1    {'max_iter': 500}                 0.715484                0.013999   \n",
       "2   {'max_iter': 1000}                 0.715484                0.013999   \n",
       "3   {'max_iter': 5000}                 0.715484                0.013999   \n",
       "4  {'max_iter': 10000}                 0.715484                0.013999   \n",
       "\n",
       "   rank_test_3.0_precision  mean_test_3.0_recall  std_test_3.0_recall  \\\n",
       "0                        5              0.150069             0.002879   \n",
       "1                        1              0.154844             0.003828   \n",
       "2                        1              0.154844             0.003828   \n",
       "3                        1              0.154844             0.003828   \n",
       "4                        1              0.154844             0.003828   \n",
       "\n",
       "   rank_test_3.0_recall  mean_test_3.0_f1-score  std_test_3.0_f1-score  \\\n",
       "0                     5                0.247750               0.004796   \n",
       "1                     1                0.254586               0.006002   \n",
       "2                     1                0.254586               0.006002   \n",
       "3                     1                0.254586               0.006002   \n",
       "4                     1                0.254586               0.006002   \n",
       "\n",
       "   rank_test_3.0_f1-score  ...  rank_test_5.0_precision  mean_test_5.0_recall  \\\n",
       "0                       5  ...                        1              0.070631   \n",
       "1                       1  ...                        2              0.074668   \n",
       "2                       1  ...                        2              0.074668   \n",
       "3                       1  ...                        2              0.074668   \n",
       "4                       1  ...                        2              0.074668   \n",
       "\n",
       "   std_test_5.0_recall  rank_test_5.0_recall  mean_test_5.0_f1-score  \\\n",
       "0             0.007089                     5                0.129498   \n",
       "1             0.010270                     1                0.136212   \n",
       "2             0.010270                     1                0.136212   \n",
       "3             0.010270                     1                0.136212   \n",
       "4             0.010270                     1                0.136212   \n",
       "\n",
       "   std_test_5.0_f1-score  rank_test_5.0_f1-score  mean_test_accuracy  \\\n",
       "0               0.011707                       5            0.728093   \n",
       "1               0.017417                       1            0.729437   \n",
       "2               0.017417                       1            0.729437   \n",
       "3               0.017417                       1            0.729437   \n",
       "4               0.017417                       1            0.729437   \n",
       "\n",
       "   std_test_accuracy  rank_test_accuracy  \n",
       "0           0.001383                   5  \n",
       "1           0.001567                   1  \n",
       "2           0.001567                   1  \n",
       "3           0.001567                   1  \n",
       "4           0.001567                   1  \n",
       "\n",
       "[5 rows x 31 columns]"
      ]
     },
     "execution_count": 4,
     "metadata": {},
     "output_type": "execute_result"
    }
   ],
   "source": [
    "param_grid = {'max_iter': [100, 500, 1000, 5000, 10000]}\n",
    "cv_results = tune_hyperparameter(logr, param_grid, X, y, cv=3)\n",
    "cv_results\n",
    "# max_iter>=500 works well"
   ]
  },
  {
   "cell_type": "code",
   "execution_count": 5,
   "id": "7417a6ae",
   "metadata": {},
   "outputs": [
    {
     "name": "stdout",
     "output_type": "stream",
     "text": [
      "LogisticRegression prediction took 362.12949299812317 seconds\n",
      "   test_3.0_f1-score  test_4.0_f1-score  test_5.0_f1-score  test_accuracy\n",
      "0           0.289617           0.838675           0.112150       0.734720\n",
      "1           0.260749           0.835624           0.165138       0.729952\n",
      "2           0.285326           0.835456           0.127273       0.730819\n",
      "3           0.267586           0.835940           0.175439       0.730269\n",
      "4           0.308743           0.840933           0.111111       0.739376\n",
      "5           0.241234           0.833201           0.189655       0.725499\n",
      "6           0.251412           0.836143           0.148148       0.730269\n",
      "7           0.277008           0.837259           0.126126       0.732437\n",
      "8           0.299728           0.838812           0.113208       0.736340\n",
      "9           0.269972           0.837000           0.176991       0.731570\n"
     ]
    },
    {
     "data": {
      "image/png": "[encoded data removed]",
      "text/plain": [
       "<Figure size 640x480 with 2 Axes>"
      ]
     },
     "metadata": {},
     "output_type": "display_data"
    },
    {
     "data": {
      "text/plain": [
       "test_3.0_f1-score    0.275138\n",
       "test_4.0_f1-score    0.836904\n",
       "test_5.0_f1-score    0.144524\n",
       "test_accuracy        0.732125\n",
       "dtype: float64"
      ]
     },
     "execution_count": 5,
     "metadata": {},
     "output_type": "execute_result"
    }
   ],
   "source": [
    "logr = LogisticRegression(solver='sag', max_iter=500)\n",
    "logr.fit(X, y)\n",
    "cross_val_report(logr, X, y)[1]"
   ]
  },
  {
   "cell_type": "markdown",
   "id": "814b6764",
   "metadata": {},
   "source": [
    "## Attempt 2: Using selected features"
   ]
  },
  {
   "cell_type": "code",
   "execution_count": 6,
   "id": "7c7193ba",
   "metadata": {},
   "outputs": [
    {
     "name": "stdout",
     "output_type": "stream",
     "text": [
      "LogR Coefficients: [[ 0.15637202 -0.00109718  0.0096929  ... -0.96924598 -0.02458321\n",
      "  -0.42227948]\n",
      " [-0.08624537 -0.00629142  0.00153767 ...  0.49809241 -0.3041469\n",
      "  -0.28169694]\n",
      " [-0.07012665  0.0073886  -0.01123057 ...  0.47115357  0.32873011\n",
      "   0.70397642]]\n",
      "Selector threshold: 1.7678928122459392\n",
      "288 features selected\n"
     ]
    }
   ],
   "source": [
    "selector = SelectFromModel(logr, prefit=True).fit(X, y)\n",
    "print(\"LogR Coefficients:\", selector.estimator_.coef_)\n",
    "print(\"Selector threshold:\", selector.threshold_)\n",
    "selected_features = [X.columns[i] for i in range(X.shape[1]) if selector.get_support()[i]]\n",
    "print(len(selected_features), \"features selected\")\n",
    "X_filtered = X[selected_features]"
   ]
  },
  {
   "cell_type": "code",
   "execution_count": 7,
   "id": "02c20276",
   "metadata": {},
   "outputs": [
    {
     "name": "stdout",
     "output_type": "stream",
     "text": [
      "LogisticRegression prediction took 22.691722869873047 seconds\n",
      "   test_3.0_f1-score  test_4.0_f1-score  test_5.0_f1-score  test_accuracy\n",
      "0           0.221239           0.836905           0.109091       0.729085\n",
      "1           0.204082           0.833333           0.196429       0.724317\n",
      "2           0.216617           0.838205           0.092593       0.729952\n",
      "3           0.174436           0.832898           0.188034       0.721596\n",
      "4           0.239291           0.840921           0.159292       0.735906\n",
      "5           0.188623           0.835119           0.222222       0.725932\n",
      "6           0.178187           0.837536           0.210526       0.728968\n",
      "7           0.208644           0.836905           0.173913       0.728968\n",
      "8           0.245974           0.840398           0.112150       0.735473\n",
      "9           0.189474           0.834724           0.144144       0.725065\n"
     ]
    },
    {
     "data": {
      "image/png": "[encoded data removed]",
      "text/plain": [
       "<Figure size 640x480 with 2 Axes>"
      ]
     },
     "metadata": {},
     "output_type": "display_data"
    },
    {
     "data": {
      "text/plain": [
       "test_3.0_f1-score    0.206657\n",
       "test_4.0_f1-score    0.836694\n",
       "test_5.0_f1-score    0.160839\n",
       "test_accuracy        0.728526\n",
       "dtype: float64"
      ]
     },
     "execution_count": 7,
     "metadata": {},
     "output_type": "execute_result"
    }
   ],
   "source": [
    "logr.fit(X_filtered, y)\n",
    "cross_val_report(logr, X_filtered, y)[1]"
   ]
  },
  {
   "cell_type": "markdown",
   "id": "35a7331d",
   "metadata": {},
   "source": [
    "## Attempt 3: Applying Dimensionality Reduction"
   ]
  },
  {
   "cell_type": "code",
   "execution_count": 8,
   "id": "2c56923c",
   "metadata": {},
   "outputs": [
    {
     "data": {
      "text/plain": [
       "array([[-9.87326868e-03, -9.15325284e-03, -6.84363169e-03, ...,\n",
       "        -5.31308980e-04, -9.71324268e-05, -2.58839025e-04],\n",
       "       [-9.87326868e-03, -9.15325284e-03, -6.84363169e-03, ...,\n",
       "        -5.31308980e-04, -9.71324268e-05, -2.58839025e-04],\n",
       "       [-9.87326868e-03, -9.15325284e-03, -6.84363169e-03, ...,\n",
       "        -5.31308980e-04, -9.71324268e-05, -2.58839025e-04],\n",
       "       ...,\n",
       "       [-9.87326868e-03, -9.15325284e-03, -6.84363169e-03, ...,\n",
       "        -5.31308980e-04, -9.71324268e-05, -2.58839025e-04],\n",
       "       [-9.87326868e-03, -9.15325284e-03, -6.84363169e-03, ...,\n",
       "        -5.31308980e-04, -9.71324268e-05, -2.58839025e-04],\n",
       "       [-9.87326868e-03, -9.15325284e-03, -6.84363169e-03, ...,\n",
       "        -5.31308980e-04, -9.71324268e-05, -2.58839025e-04]])"
      ]
     },
     "execution_count": 8,
     "metadata": {},
     "output_type": "execute_result"
    }
   ],
   "source": [
    "from sklearn.decomposition import PCA\n",
    "\n",
    "reducer = PCA(n_components=100, random_state=30027)\n",
    "X_reduced = reducer.fit_transform(X_filtered)\n",
    "X_reduced"
   ]
  },
  {
   "cell_type": "code",
   "execution_count": 9,
   "id": "a7c75aa6",
   "metadata": {},
   "outputs": [
    {
     "name": "stdout",
     "output_type": "stream",
     "text": [
      "LogisticRegression prediction took 8.239176988601685 seconds\n",
      "   test_3.0_f1-score  test_4.0_f1-score  test_5.0_f1-score  test_accuracy\n",
      "0           0.135802           0.829534           0.056604       0.714348\n",
      "1           0.107858           0.825636           0.162162       0.708713\n",
      "2           0.106918           0.828941           0.092593       0.712180\n",
      "3           0.100000           0.825783           0.110092       0.708153\n",
      "4           0.125786           0.831954           0.111111       0.717693\n",
      "5           0.119816           0.827747           0.178571       0.712056\n",
      "6           0.111111           0.832000           0.149533       0.717693\n",
      "7           0.115445           0.828801           0.109091       0.712489\n",
      "8           0.128125           0.830403           0.057692       0.715525\n",
      "9           0.120930           0.828320           0.108108       0.712056\n"
     ]
    },
    {
     "data": {
      "image/png": "[encoded data removed]",
      "text/plain": [
       "<Figure size 640x480 with 2 Axes>"
      ]
     },
     "metadata": {},
     "output_type": "display_data"
    },
    {
     "data": {
      "text/plain": [
       "test_3.0_f1-score    0.117179\n",
       "test_4.0_f1-score    0.828912\n",
       "test_5.0_f1-score    0.113556\n",
       "test_accuracy        0.713090\n",
       "dtype: float64"
      ]
     },
     "execution_count": 9,
     "metadata": {},
     "output_type": "execute_result"
    }
   ],
   "source": [
    "logr.fit(X_reduced, y)\n",
    "cross_val_report(logr, X_reduced, y)[1]"
   ]
  },
  {
   "cell_type": "code",
   "execution_count": 10,
   "id": "b355a719",
   "metadata": {},
   "outputs": [],
   "source": [
    "# Dimensionality reduction doesn't work well - Let's retain the original features"
   ]
  }
 ],
 "metadata": {
  "kernelspec": {
   "display_name": "Python 3 (ipykernel)",
   "language": "python",
   "name": "python3"
  },
  "language_info": {
   "codemirror_mode": {
    "name": "ipython",
    "version": 3
   },
   "file_extension": ".py",
   "mimetype": "text/x-python",
   "name": "python",
   "nbconvert_exporter": "python",
   "pygments_lexer": "ipython3",
   "version": "3.9.16"
  }
 },
 "nbformat": 4,
 "nbformat_minor": 5
}
