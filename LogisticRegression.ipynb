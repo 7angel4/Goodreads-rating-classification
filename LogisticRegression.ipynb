{
 "cells": [
  {
   "cell_type": "code",
   "execution_count": 10,
   "id": "35ba1369",
   "metadata": {},
   "outputs": [],
   "source": [
    "%run Global.ipynb\n",
    "%run Helper_Functions.ipynb"
   ]
  },
  {
   "cell_type": "code",
   "execution_count": 12,
   "id": "ca7d9dc6",
   "metadata": {},
   "outputs": [],
   "source": [
    "from sklearn.linear_model import LogisticRegression"
   ]
  },
  {
   "cell_type": "markdown",
   "id": "1de03bb0",
   "metadata": {},
   "source": [
    "# Logistic Regression"
   ]
  },
  {
   "cell_type": "markdown",
   "id": "47a36726",
   "metadata": {},
   "source": [
    "## 50 features"
   ]
  },
  {
   "cell_type": "code",
   "execution_count": 11,
   "id": "8177f0a0",
   "metadata": {},
   "outputs": [],
   "source": [
    "train_df_ohe_selected = pd.read_csv(\"./Final/Datasets/train_df.csv\", keep_default_na=False)\n",
    "\n",
    "y = train_df_ohe_selected.iloc[:,-1]\n",
    "X = train_df_ohe_selected.iloc[:,:-1]"
   ]
  },
  {
   "cell_type": "code",
   "execution_count": 13,
   "id": "1791ad42",
   "metadata": {},
   "outputs": [],
   "source": [
    "logr = LogisticRegression(solver='sag') # uses Stochastic Average Gradient descent solver"
   ]
  },
  {
   "cell_type": "code",
   "execution_count": 14,
   "id": "3f696512",
   "metadata": {},
   "outputs": [
    {
     "name": "stdout",
     "output_type": "stream",
     "text": [
      "Fitting 3 folds for each of 3 candidates, totalling 9 fits\n",
      "[CV] END ........................................max_iter=50; total time=   5.0s\n",
      "[CV] END ........................................max_iter=50; total time=   5.5s\n",
      "[CV] END ........................................max_iter=50; total time=   6.9s\n",
      "[CV] END .......................................max_iter=100; total time=   5.4s\n",
      "[CV] END .......................................max_iter=100; total time=   6.1s\n",
      "[CV] END .......................................max_iter=100; total time=   5.2s\n",
      "[CV] END .......................................max_iter=150; total time=   5.9s\n",
      "[CV] END .......................................max_iter=150; total time=   6.2s\n",
      "[CV] END .......................................max_iter=150; total time=   5.2s\n"
     ]
    },
    {
     "data": {
      "text/html": [
       "<div>\n",
       "<style scoped>\n",
       "    .dataframe tbody tr th:only-of-type {\n",
       "        vertical-align: middle;\n",
       "    }\n",
       "\n",
       "    .dataframe tbody tr th {\n",
       "        vertical-align: top;\n",
       "    }\n",
       "\n",
       "    .dataframe thead th {\n",
       "        text-align: right;\n",
       "    }\n",
       "</style>\n",
       "<table border=\"1\" class=\"dataframe\">\n",
       "  <thead>\n",
       "    <tr style=\"text-align: right;\">\n",
       "      <th></th>\n",
       "      <th>params</th>\n",
       "      <th>mean_test_3.0_precision</th>\n",
       "      <th>std_test_3.0_precision</th>\n",
       "      <th>rank_test_3.0_precision</th>\n",
       "      <th>mean_test_3.0_recall</th>\n",
       "      <th>std_test_3.0_recall</th>\n",
       "      <th>rank_test_3.0_recall</th>\n",
       "      <th>mean_test_3.0_f1-score</th>\n",
       "      <th>std_test_3.0_f1-score</th>\n",
       "      <th>rank_test_3.0_f1-score</th>\n",
       "      <th>...</th>\n",
       "      <th>rank_test_5.0_precision</th>\n",
       "      <th>mean_test_5.0_recall</th>\n",
       "      <th>std_test_5.0_recall</th>\n",
       "      <th>rank_test_5.0_recall</th>\n",
       "      <th>mean_test_5.0_f1-score</th>\n",
       "      <th>std_test_5.0_f1-score</th>\n",
       "      <th>rank_test_5.0_f1-score</th>\n",
       "      <th>mean_test_accuracy</th>\n",
       "      <th>std_test_accuracy</th>\n",
       "      <th>rank_test_accuracy</th>\n",
       "    </tr>\n",
       "  </thead>\n",
       "  <tbody>\n",
       "    <tr>\n",
       "      <th>0</th>\n",
       "      <td>{'max_iter': 50}</td>\n",
       "      <td>0.706472</td>\n",
       "      <td>0.013357</td>\n",
       "      <td>1</td>\n",
       "      <td>0.150068</td>\n",
       "      <td>0.000895</td>\n",
       "      <td>1</td>\n",
       "      <td>0.247542</td>\n",
       "      <td>0.001786</td>\n",
       "      <td>1</td>\n",
       "      <td>...</td>\n",
       "      <td>1</td>\n",
       "      <td>0.069627</td>\n",
       "      <td>0.009897</td>\n",
       "      <td>1</td>\n",
       "      <td>0.127616</td>\n",
       "      <td>0.016989</td>\n",
       "      <td>1</td>\n",
       "      <td>0.727832</td>\n",
       "      <td>0.000856</td>\n",
       "      <td>1</td>\n",
       "    </tr>\n",
       "    <tr>\n",
       "      <th>1</th>\n",
       "      <td>{'max_iter': 100}</td>\n",
       "      <td>0.706472</td>\n",
       "      <td>0.013357</td>\n",
       "      <td>1</td>\n",
       "      <td>0.150068</td>\n",
       "      <td>0.000895</td>\n",
       "      <td>1</td>\n",
       "      <td>0.247542</td>\n",
       "      <td>0.001786</td>\n",
       "      <td>1</td>\n",
       "      <td>...</td>\n",
       "      <td>1</td>\n",
       "      <td>0.069627</td>\n",
       "      <td>0.009897</td>\n",
       "      <td>1</td>\n",
       "      <td>0.127616</td>\n",
       "      <td>0.016989</td>\n",
       "      <td>1</td>\n",
       "      <td>0.727832</td>\n",
       "      <td>0.000856</td>\n",
       "      <td>1</td>\n",
       "    </tr>\n",
       "    <tr>\n",
       "      <th>2</th>\n",
       "      <td>{'max_iter': 150}</td>\n",
       "      <td>0.706472</td>\n",
       "      <td>0.013357</td>\n",
       "      <td>1</td>\n",
       "      <td>0.150068</td>\n",
       "      <td>0.000895</td>\n",
       "      <td>1</td>\n",
       "      <td>0.247542</td>\n",
       "      <td>0.001786</td>\n",
       "      <td>1</td>\n",
       "      <td>...</td>\n",
       "      <td>1</td>\n",
       "      <td>0.069627</td>\n",
       "      <td>0.009897</td>\n",
       "      <td>1</td>\n",
       "      <td>0.127616</td>\n",
       "      <td>0.016989</td>\n",
       "      <td>1</td>\n",
       "      <td>0.727832</td>\n",
       "      <td>0.000856</td>\n",
       "      <td>1</td>\n",
       "    </tr>\n",
       "  </tbody>\n",
       "</table>\n",
       "<p>3 rows × 31 columns</p>\n",
       "</div>"
      ],
      "text/plain": [
       "              params  mean_test_3.0_precision  std_test_3.0_precision  \\\n",
       "0   {'max_iter': 50}                 0.706472                0.013357   \n",
       "1  {'max_iter': 100}                 0.706472                0.013357   \n",
       "2  {'max_iter': 150}                 0.706472                0.013357   \n",
       "\n",
       "   rank_test_3.0_precision  mean_test_3.0_recall  std_test_3.0_recall  \\\n",
       "0                        1              0.150068             0.000895   \n",
       "1                        1              0.150068             0.000895   \n",
       "2                        1              0.150068             0.000895   \n",
       "\n",
       "   rank_test_3.0_recall  mean_test_3.0_f1-score  std_test_3.0_f1-score  \\\n",
       "0                     1                0.247542               0.001786   \n",
       "1                     1                0.247542               0.001786   \n",
       "2                     1                0.247542               0.001786   \n",
       "\n",
       "   rank_test_3.0_f1-score  ...  rank_test_5.0_precision  mean_test_5.0_recall  \\\n",
       "0                       1  ...                        1              0.069627   \n",
       "1                       1  ...                        1              0.069627   \n",
       "2                       1  ...                        1              0.069627   \n",
       "\n",
       "   std_test_5.0_recall  rank_test_5.0_recall  mean_test_5.0_f1-score  \\\n",
       "0             0.009897                     1                0.127616   \n",
       "1             0.009897                     1                0.127616   \n",
       "2             0.009897                     1                0.127616   \n",
       "\n",
       "   std_test_5.0_f1-score  rank_test_5.0_f1-score  mean_test_accuracy  \\\n",
       "0               0.016989                       1            0.727832   \n",
       "1               0.016989                       1            0.727832   \n",
       "2               0.016989                       1            0.727832   \n",
       "\n",
       "   std_test_accuracy  rank_test_accuracy  \n",
       "0           0.000856                   1  \n",
       "1           0.000856                   1  \n",
       "2           0.000856                   1  \n",
       "\n",
       "[3 rows x 31 columns]"
      ]
     },
     "execution_count": 14,
     "metadata": {},
     "output_type": "execute_result"
    }
   ],
   "source": [
    "param_grid = {'max_iter': [50,100,150]}\n",
    "cv_results = tune_hyperparameter(logr, param_grid, X, y, cv=3)\n",
    "cv_results\n",
    "# max_iter>=500 works well"
   ]
  },
  {
   "cell_type": "code",
   "execution_count": 15,
   "id": "7417a6ae",
   "metadata": {},
   "outputs": [
    {
     "name": "stdout",
     "output_type": "stream",
     "text": [
      "LogisticRegression prediction took 70.39257097244263 seconds.\n",
      "\n",
      "   3.0_precision  3.0_recall  3.0_f1-score  4.0_precision  4.0_recall  \\\n",
      "0       0.721854    0.185690      0.295393       0.734295    0.973473   \n",
      "1       0.717391    0.168654      0.273103       0.732747    0.975941   \n",
      "2       0.673333    0.172355      0.274457       0.731844    0.969772   \n",
      "3       0.686131    0.160410      0.260028       0.731787    0.972856   \n",
      "4       0.780142    0.187713      0.302613       0.736427    0.979025   \n",
      "5       0.656489    0.146758      0.239888       0.729592    0.970389   \n",
      "6       0.741667    0.151877      0.252125       0.731371    0.980876   \n",
      "7       0.728571    0.174061      0.280992       0.734571    0.976558   \n",
      "8       0.731544    0.185690      0.296196       0.734760    0.974691   \n",
      "9       0.692857    0.165247      0.266850       0.731787    0.973457   \n",
      "\n",
      "   4.0_f1-score  5.0_precision  5.0_recall  5.0_f1-score  accuracy  \n",
      "0      0.837135       0.714286    0.050505      0.094340  0.733420  \n",
      "1      0.837037       0.900000    0.090909      0.165138  0.732553  \n",
      "2      0.834174       0.666667    0.060000      0.110092  0.727785  \n",
      "3      0.835275       0.642857    0.090909      0.159292  0.728534  \n",
      "4      0.840572       0.700000    0.070707      0.128440  0.738942  \n",
      "5      0.832936       0.736842    0.141414      0.237288  0.725499  \n",
      "6      0.837945       0.916667    0.111111      0.198198  0.732871  \n",
      "7      0.838453       0.727273    0.080808      0.145455  0.734172  \n",
      "8      0.837888       0.875000    0.070707      0.130841  0.735039  \n",
      "9      0.835497       0.727273    0.080808      0.145455  0.729402  \n"
     ]
    },
    {
     "data": {
      "image/png": "[encoded data removed]",
      "text/plain": [
       "<Figure size 432x288 with 2 Axes>"
      ]
     },
     "metadata": {
      "needs_background": "light"
     },
     "output_type": "display_data"
    },
    {
     "data": {
      "text/html": [
       "<div>\n",
       "<style scoped>\n",
       "    .dataframe tbody tr th:only-of-type {\n",
       "        vertical-align: middle;\n",
       "    }\n",
       "\n",
       "    .dataframe tbody tr th {\n",
       "        vertical-align: top;\n",
       "    }\n",
       "\n",
       "    .dataframe thead th {\n",
       "        text-align: right;\n",
       "    }\n",
       "</style>\n",
       "<table border=\"1\" class=\"dataframe\">\n",
       "  <thead>\n",
       "    <tr style=\"text-align: right;\">\n",
       "      <th></th>\n",
       "      <th>mean</th>\n",
       "      <th>std</th>\n",
       "    </tr>\n",
       "  </thead>\n",
       "  <tbody>\n",
       "    <tr>\n",
       "      <th>3.0_precision</th>\n",
       "      <td>0.712998</td>\n",
       "      <td>0.036375</td>\n",
       "    </tr>\n",
       "    <tr>\n",
       "      <th>3.0_recall</th>\n",
       "      <td>0.169846</td>\n",
       "      <td>0.014193</td>\n",
       "    </tr>\n",
       "    <tr>\n",
       "      <th>3.0_f1-score</th>\n",
       "      <td>0.274164</td>\n",
       "      <td>0.020295</td>\n",
       "    </tr>\n",
       "    <tr>\n",
       "      <th>4.0_precision</th>\n",
       "      <td>0.732918</td>\n",
       "      <td>0.002042</td>\n",
       "    </tr>\n",
       "    <tr>\n",
       "      <th>4.0_recall</th>\n",
       "      <td>0.974704</td>\n",
       "      <td>0.003515</td>\n",
       "    </tr>\n",
       "    <tr>\n",
       "      <th>4.0_f1-score</th>\n",
       "      <td>0.836691</td>\n",
       "      <td>0.002245</td>\n",
       "    </tr>\n",
       "    <tr>\n",
       "      <th>5.0_precision</th>\n",
       "      <td>0.760686</td>\n",
       "      <td>0.098976</td>\n",
       "    </tr>\n",
       "    <tr>\n",
       "      <th>5.0_recall</th>\n",
       "      <td>0.084788</td>\n",
       "      <td>0.026230</td>\n",
       "    </tr>\n",
       "    <tr>\n",
       "      <th>5.0_f1-score</th>\n",
       "      <td>0.151454</td>\n",
       "      <td>0.041900</td>\n",
       "    </tr>\n",
       "    <tr>\n",
       "      <th>accuracy</th>\n",
       "      <td>0.731822</td>\n",
       "      <td>0.003996</td>\n",
       "    </tr>\n",
       "  </tbody>\n",
       "</table>\n",
       "</div>"
      ],
      "text/plain": [
       "                   mean       std\n",
       "3.0_precision  0.712998  0.036375\n",
       "3.0_recall     0.169846  0.014193\n",
       "3.0_f1-score   0.274164  0.020295\n",
       "4.0_precision  0.732918  0.002042\n",
       "4.0_recall     0.974704  0.003515\n",
       "4.0_f1-score   0.836691  0.002245\n",
       "5.0_precision  0.760686  0.098976\n",
       "5.0_recall     0.084788  0.026230\n",
       "5.0_f1-score   0.151454  0.041900\n",
       "accuracy       0.731822  0.003996"
      ]
     },
     "execution_count": 15,
     "metadata": {},
     "output_type": "execute_result"
    }
   ],
   "source": [
    "logr = LogisticRegression(solver='sag', max_iter=50, random_state=30027)\n",
    "logr.fit(X, y)\n",
    "cross_val_report(logr, X, y)[1]"
   ]
  },
  {
   "cell_type": "markdown",
   "id": "fd509a4c",
   "metadata": {},
   "source": [
    "## 300 features"
   ]
  },
  {
   "cell_type": "code",
   "execution_count": 7,
   "id": "6c9edf9c",
   "metadata": {},
   "outputs": [
    {
     "name": "stdout",
     "output_type": "stream",
     "text": [
      "LogisticRegression prediction took 128.30999898910522 seconds.\n",
      "\n",
      "   3.0_precision  3.0_recall  3.0_f1-score  4.0_precision  4.0_recall  \\\n",
      "0       0.656863    0.228279      0.338812       0.740935    0.958051   \n",
      "1       0.682635    0.194208      0.302387       0.737312    0.967921   \n",
      "2       0.686391    0.197952      0.307285       0.736620    0.967921   \n",
      "3       0.622642    0.168942      0.265772       0.731673    0.960518   \n",
      "4       0.728814    0.220137      0.338139       0.742439    0.969155   \n",
      "5       0.677019    0.186007      0.291834       0.735557    0.966070   \n",
      "6       0.671233    0.167235      0.267760       0.732618    0.968538   \n",
      "7       0.642045    0.192833      0.296588       0.736321    0.962986   \n",
      "8       0.683616    0.206133      0.316754       0.737016    0.963580   \n",
      "9       0.656977    0.192504      0.297760       0.735751    0.964198   \n",
      "\n",
      "   4.0_f1-score  5.0_precision  5.0_recall  5.0_f1-score  accuracy  \n",
      "0      0.835620       0.714286    0.050505      0.094340  0.733420  \n",
      "1      0.837023       0.916667    0.111111      0.198198  0.734287  \n",
      "2      0.836577       0.875000    0.070000      0.129630  0.733420  \n",
      "3      0.830621       0.578947    0.111111      0.186441  0.722897  \n",
      "4      0.840781       0.769231    0.101010      0.178571  0.741544  \n",
      "5      0.835200       0.750000    0.121212      0.208696  0.731570  \n",
      "6      0.834219       0.764706    0.131313      0.224138  0.728968  \n",
      "7      0.834536       0.900000    0.090909      0.165138  0.729835  \n",
      "8      0.835206       0.727273    0.080808      0.145455  0.732871  \n",
      "9      0.834625       0.818182    0.090909      0.163636  0.730269  \n"
     ]
    },
    {
     "data": {
      "image/png": "[encoded data removed]",
      "text/plain": [
       "<Figure size 432x288 with 2 Axes>"
      ]
     },
     "metadata": {
      "needs_background": "light"
     },
     "output_type": "display_data"
    },
    {
     "data": {
      "text/html": [
       "<div>\n",
       "<style scoped>\n",
       "    .dataframe tbody tr th:only-of-type {\n",
       "        vertical-align: middle;\n",
       "    }\n",
       "\n",
       "    .dataframe tbody tr th {\n",
       "        vertical-align: top;\n",
       "    }\n",
       "\n",
       "    .dataframe thead th {\n",
       "        text-align: right;\n",
       "    }\n",
       "</style>\n",
       "<table border=\"1\" class=\"dataframe\">\n",
       "  <thead>\n",
       "    <tr style=\"text-align: right;\">\n",
       "      <th></th>\n",
       "      <th>mean</th>\n",
       "      <th>std</th>\n",
       "    </tr>\n",
       "  </thead>\n",
       "  <tbody>\n",
       "    <tr>\n",
       "      <th>3.0_precision</th>\n",
       "      <td>0.670823</td>\n",
       "      <td>0.028835</td>\n",
       "    </tr>\n",
       "    <tr>\n",
       "      <th>3.0_recall</th>\n",
       "      <td>0.195423</td>\n",
       "      <td>0.019472</td>\n",
       "    </tr>\n",
       "    <tr>\n",
       "      <th>3.0_f1-score</th>\n",
       "      <td>0.302309</td>\n",
       "      <td>0.024814</td>\n",
       "    </tr>\n",
       "    <tr>\n",
       "      <th>4.0_precision</th>\n",
       "      <td>0.736624</td>\n",
       "      <td>0.003259</td>\n",
       "    </tr>\n",
       "    <tr>\n",
       "      <th>4.0_recall</th>\n",
       "      <td>0.964894</td>\n",
       "      <td>0.003696</td>\n",
       "    </tr>\n",
       "    <tr>\n",
       "      <th>4.0_f1-score</th>\n",
       "      <td>0.835441</td>\n",
       "      <td>0.002553</td>\n",
       "    </tr>\n",
       "    <tr>\n",
       "      <th>5.0_precision</th>\n",
       "      <td>0.781429</td>\n",
       "      <td>0.101276</td>\n",
       "    </tr>\n",
       "    <tr>\n",
       "      <th>5.0_recall</th>\n",
       "      <td>0.095889</td>\n",
       "      <td>0.024478</td>\n",
       "    </tr>\n",
       "    <tr>\n",
       "      <th>5.0_f1-score</th>\n",
       "      <td>0.169424</td>\n",
       "      <td>0.038851</td>\n",
       "    </tr>\n",
       "    <tr>\n",
       "      <th>accuracy</th>\n",
       "      <td>0.731908</td>\n",
       "      <td>0.004725</td>\n",
       "    </tr>\n",
       "  </tbody>\n",
       "</table>\n",
       "</div>"
      ],
      "text/plain": [
       "                   mean       std\n",
       "3.0_precision  0.670823  0.028835\n",
       "3.0_recall     0.195423  0.019472\n",
       "3.0_f1-score   0.302309  0.024814\n",
       "4.0_precision  0.736624  0.003259\n",
       "4.0_recall     0.964894  0.003696\n",
       "4.0_f1-score   0.835441  0.002553\n",
       "5.0_precision  0.781429  0.101276\n",
       "5.0_recall     0.095889  0.024478\n",
       "5.0_f1-score   0.169424  0.038851\n",
       "accuracy       0.731908  0.004725"
      ]
     },
     "execution_count": 7,
     "metadata": {},
     "output_type": "execute_result"
    }
   ],
   "source": [
    "# 300 features\n",
    "train_df_ohe_selected = pd.read_csv(\"./Final/Datasets/train_df_300.csv\", keep_default_na=False)\n",
    "\n",
    "y = train_df_ohe_selected.iloc[:,-1]\n",
    "X = train_df_ohe_selected.iloc[:,:-1]\n",
    "\n",
    "logr = LogisticRegression(solver='sag', max_iter=50, random_state=30027)\n",
    "logr.fit(X, y)\n",
    "cross_val_report(logr, X, y)[1]"
   ]
  },
  {
   "cell_type": "markdown",
   "id": "814b6764",
   "metadata": {},
   "source": [
    "## Using selected features from 300 features"
   ]
  },
  {
   "cell_type": "code",
   "execution_count": 20,
   "id": "7c7193ba",
   "metadata": {},
   "outputs": [
    {
     "name": "stdout",
     "output_type": "stream",
     "text": [
      "LogR Coefficients: [[ 1.81017756e+00  5.06716768e-03  4.16578365e-02 ...  1.68507896e-01\n",
      "  -2.33456361e-01  9.48739482e-01]\n",
      " [-1.16858592e+00 -3.06978037e-02  3.19729234e-03 ...  1.03174751e-01\n",
      "   2.34755725e-01  1.31449755e-01]\n",
      " [-6.41591640e-01  2.56306360e-02 -4.48551288e-02 ... -2.71682647e-01\n",
      "  -1.29936314e-03 -1.08018924e+00]]\n",
      "Selector threshold: 1.359023438646688\n",
      "524 features selected\n"
     ]
    }
   ],
   "source": [
    "selector = SelectFromModel(logr, prefit=True).fit(X, y)\n",
    "print(\"LogR Coefficients:\", selector.estimator_.coef_)\n",
    "print(\"Selector threshold:\", selector.threshold_)\n",
    "selected_features = [X.columns[i] for i in range(X.shape[1]) if selector.get_support()[i]]\n",
    "print(len(selected_features), \"features selected\")\n",
    "X_filtered = X[selected_features]"
   ]
  },
  {
   "cell_type": "code",
   "execution_count": 22,
   "id": "02c20276",
   "metadata": {},
   "outputs": [
    {
     "name": "stdout",
     "output_type": "stream",
     "text": [
      "LogisticRegression prediction took 51.60170078277588 seconds.\n",
      "\n",
      "   3.0_precision  3.0_recall  3.0_f1-score  4.0_precision  4.0_recall  \\\n",
      "0       0.743243    0.187394      0.299320       0.736034    0.975324   \n",
      "1       0.725191    0.161840      0.264624       0.732225    0.978408   \n",
      "2       0.767606    0.186007      0.299451       0.737819    0.980876   \n",
      "3       0.752294    0.139932      0.235971       0.728650    0.979025   \n",
      "4       0.798450    0.175768      0.288112       0.735118    0.982727   \n",
      "5       0.766667    0.156997      0.260623       0.732505    0.981493   \n",
      "6       0.729508    0.151877      0.251412       0.730327    0.979025   \n",
      "7       0.764286    0.182594      0.294766       0.737454    0.979025   \n",
      "8       0.800000    0.177172      0.290098       0.735675    0.982716   \n",
      "9       0.721311    0.149915      0.248237       0.729829    0.977160   \n",
      "\n",
      "   4.0_f1-score  5.0_precision  5.0_recall  5.0_f1-score  accuracy  \n",
      "0      0.838949       0.727273    0.080808      0.145455  0.736454  \n",
      "1      0.837602       1.000000    0.101010      0.183486  0.732987  \n",
      "2      0.842161       0.900000    0.090000      0.163636  0.740355  \n",
      "3      0.835483       0.578947    0.111111      0.186441  0.728534  \n",
      "4      0.841077       0.700000    0.070707      0.128440  0.738508  \n",
      "5      0.838914       0.857143    0.121212      0.212389  0.735039  \n",
      "6      0.836584       0.818182    0.090909      0.163636  0.730703  \n",
      "7      0.841240       0.785714    0.111111      0.194690  0.739376  \n",
      "8      0.841438       0.833333    0.101010      0.180180  0.739809  \n",
      "9      0.835577       0.666667    0.101010      0.175439  0.728968  \n"
     ]
    },
    {
     "data": {
      "image/png": "[encoded data removed]",
      "text/plain": [
       "<Figure size 432x288 with 2 Axes>"
      ]
     },
     "metadata": {
      "needs_background": "light"
     },
     "output_type": "display_data"
    },
    {
     "data": {
      "text/html": [
       "<div>\n",
       "<style scoped>\n",
       "    .dataframe tbody tr th:only-of-type {\n",
       "        vertical-align: middle;\n",
       "    }\n",
       "\n",
       "    .dataframe tbody tr th {\n",
       "        vertical-align: top;\n",
       "    }\n",
       "\n",
       "    .dataframe thead th {\n",
       "        text-align: right;\n",
       "    }\n",
       "</style>\n",
       "<table border=\"1\" class=\"dataframe\">\n",
       "  <thead>\n",
       "    <tr style=\"text-align: right;\">\n",
       "      <th></th>\n",
       "      <th>mean</th>\n",
       "      <th>std</th>\n",
       "    </tr>\n",
       "  </thead>\n",
       "  <tbody>\n",
       "    <tr>\n",
       "      <th>3.0_precision</th>\n",
       "      <td>0.756855</td>\n",
       "      <td>0.028045</td>\n",
       "    </tr>\n",
       "    <tr>\n",
       "      <th>3.0_recall</th>\n",
       "      <td>0.166949</td>\n",
       "      <td>0.016933</td>\n",
       "    </tr>\n",
       "    <tr>\n",
       "      <th>3.0_f1-score</th>\n",
       "      <td>0.273261</td>\n",
       "      <td>0.023711</td>\n",
       "    </tr>\n",
       "    <tr>\n",
       "      <th>4.0_precision</th>\n",
       "      <td>0.733563</td>\n",
       "      <td>0.003295</td>\n",
       "    </tr>\n",
       "    <tr>\n",
       "      <th>4.0_recall</th>\n",
       "      <td>0.979578</td>\n",
       "      <td>0.002388</td>\n",
       "    </tr>\n",
       "    <tr>\n",
       "      <th>4.0_f1-score</th>\n",
       "      <td>0.838903</td>\n",
       "      <td>0.002518</td>\n",
       "    </tr>\n",
       "    <tr>\n",
       "      <th>5.0_precision</th>\n",
       "      <td>0.786726</td>\n",
       "      <td>0.122511</td>\n",
       "    </tr>\n",
       "    <tr>\n",
       "      <th>5.0_recall</th>\n",
       "      <td>0.097889</td>\n",
       "      <td>0.015145</td>\n",
       "    </tr>\n",
       "    <tr>\n",
       "      <th>5.0_f1-score</th>\n",
       "      <td>0.173379</td>\n",
       "      <td>0.024240</td>\n",
       "    </tr>\n",
       "    <tr>\n",
       "      <th>accuracy</th>\n",
       "      <td>0.735073</td>\n",
       "      <td>0.004547</td>\n",
       "    </tr>\n",
       "  </tbody>\n",
       "</table>\n",
       "</div>"
      ],
      "text/plain": [
       "                   mean       std\n",
       "3.0_precision  0.756855  0.028045\n",
       "3.0_recall     0.166949  0.016933\n",
       "3.0_f1-score   0.273261  0.023711\n",
       "4.0_precision  0.733563  0.003295\n",
       "4.0_recall     0.979578  0.002388\n",
       "4.0_f1-score   0.838903  0.002518\n",
       "5.0_precision  0.786726  0.122511\n",
       "5.0_recall     0.097889  0.015145\n",
       "5.0_f1-score   0.173379  0.024240\n",
       "accuracy       0.735073  0.004547"
      ]
     },
     "execution_count": 22,
     "metadata": {},
     "output_type": "execute_result"
    }
   ],
   "source": [
    "logr.fit(X_filtered, y)\n",
    "cross_val_report(logr, X_filtered, y)[1]"
   ]
  },
  {
   "cell_type": "code",
   "execution_count": 9,
   "id": "62deb3a0",
   "metadata": {},
   "outputs": [
    {
     "name": "stdout",
     "output_type": "stream",
     "text": [
      "LogR Coefficients: [[ 1.81017756e+00  5.06716768e-03  4.16578365e-02 ...  1.68507896e-01\n",
      "  -2.33456361e-01  9.48739482e-01]\n",
      " [-1.16858592e+00 -3.06978037e-02  3.19729234e-03 ...  1.03174751e-01\n",
      "   2.34755725e-01  1.31449755e-01]\n",
      " [-6.41591640e-01  2.56306360e-02 -4.48551288e-02 ... -2.71682647e-01\n",
      "  -1.29936314e-03 -1.08018924e+00]]\n",
      "Selector threshold: 1.359023438646688\n"
     ]
    }
   ],
   "source": [
    "selector = SelectFromModel(logr, prefit=True).fit(X, y)\n",
    "print(\"LogR Coefficients:\", selector.estimator_.coef_)\n",
    "print(\"Selector threshold:\", selector.threshold_)"
   ]
  },
  {
   "cell_type": "code",
   "execution_count": 28,
   "id": "4657477b",
   "metadata": {},
   "outputs": [
    {
     "name": "stdout",
     "output_type": "stream",
     "text": [
      "threshold = 0.0: 1108 features selected\n",
      "LogisticRegression prediction took 140.09111714363098 seconds.\n",
      "\n",
      "threshold = 0.1: 1086 features selected\n",
      "LogisticRegression prediction took 126.15939617156982 seconds.\n",
      "\n",
      "threshold = 0.2: 1066 features selected\n",
      "LogisticRegression prediction took 135.6067771911621 seconds.\n",
      "\n",
      "threshold = 0.3: 1032 features selected\n",
      "LogisticRegression prediction took 115.65002012252808 seconds.\n",
      "\n",
      "threshold = 0.4: 993 features selected\n",
      "LogisticRegression prediction took 128.0643961429596 seconds.\n",
      "\n",
      "threshold = 0.5: 946 features selected\n",
      "LogisticRegression prediction took 126.78854513168335 seconds.\n",
      "\n",
      "threshold = 0.6: 883 features selected\n",
      "LogisticRegression prediction took 105.39535593986511 seconds.\n",
      "\n",
      "threshold = 0.7: 829 features selected\n",
      "LogisticRegression prediction took 108.03469800949097 seconds.\n",
      "\n",
      "threshold = 0.8: 783 features selected\n",
      "LogisticRegression prediction took 102.77078199386597 seconds.\n",
      "\n",
      "threshold = 0.9: 732 features selected\n",
      "LogisticRegression prediction took 85.48663592338562 seconds.\n",
      "\n",
      "threshold = 1.0: 686 features selected\n",
      "LogisticRegression prediction took 71.03451919555664 seconds.\n",
      "\n",
      "threshold = 1.1: 641 features selected\n",
      "LogisticRegression prediction took 64.9167377948761 seconds.\n",
      "\n",
      "threshold = 1.2: 593 features selected\n",
      "LogisticRegression prediction took 61.51498198509216 seconds.\n",
      "\n",
      "threshold = 1.3: 557 features selected\n",
      "LogisticRegression prediction took 55.437193870544434 seconds.\n",
      "\n",
      "threshold = 1.4: 508 features selected\n",
      "LogisticRegression prediction took 48.162225008010864 seconds.\n",
      "\n",
      "threshold = 1.5: 449 features selected\n",
      "LogisticRegression prediction took 49.889461040496826 seconds.\n",
      "\n",
      "threshold = 1.6: 388 features selected\n",
      "LogisticRegression prediction took 44.29803705215454 seconds.\n",
      "\n",
      "threshold = 1.7: 356 features selected\n",
      "LogisticRegression prediction took 36.0128870010376 seconds.\n",
      "\n",
      "threshold = 1.8: 308 features selected\n",
      "LogisticRegression prediction took 29.17469096183777 seconds.\n",
      "\n",
      "threshold = 1.9: 275 features selected\n",
      "LogisticRegression prediction took 27.590718984603882 seconds.\n",
      "\n",
      "threshold = 2.0: 233 features selected\n",
      "LogisticRegression prediction took 24.60068392753601 seconds.\n",
      "\n",
      "threshold = 2.1: 199 features selected\n",
      "LogisticRegression prediction took 19.81138777732849 seconds.\n",
      "\n"
     ]
    }
   ],
   "source": [
    "logr = LogisticRegression(solver='sag', max_iter=50, random_state=30027)\n",
    "\n",
    "thresholds = [i/10 for i in range(0, 22)]\n",
    "nFeatures = []\n",
    "accuracy = []\n",
    "f1_3 = []\n",
    "f1_4 = []\n",
    "f1_5 = []\n",
    "accuracy_std = []\n",
    "for threshold in thresholds: \n",
    "    selector = SelectFromModel(logr, threshold=threshold).fit(X, y)\n",
    "    selected_features = [X.columns[i] for i in range(X.shape[1]) if selector.get_support()[i]]\n",
    "    nFeatures.append(len(selected_features))\n",
    "    print(f'threshold = {threshold}: {len(selected_features)} features selected')\n",
    "    X_filtered = X[selected_features]\n",
    "    logr.fit(X_filtered, y)\n",
    "    df = cross_val_report(logr, X_filtered, y, print_confusion_matrix=False, print_full_results=False, predict=False)[1]\n",
    "    accuracy.append(df.loc['accuracy']['mean'])\n",
    "    f1_3.append(df.loc['3.0_f1-score']['mean'])\n",
    "    f1_4.append(df.loc['4.0_f1-score']['mean'])\n",
    "    f1_5.append(df.loc['5.0_f1-score']['mean'])\n",
    "    accuracy_std.append(df.loc['accuracy']['std'])"
   ]
  },
  {
   "cell_type": "code",
   "execution_count": 36,
   "id": "356ef9ee",
   "metadata": {},
   "outputs": [
    {
     "data": {
      "image/png": "[encoded data removed]",
      "text/plain": [
       "<Figure size 432x288 with 1 Axes>"
      ]
     },
     "metadata": {
      "needs_background": "light"
     },
     "output_type": "display_data"
    },
    {
     "data": {
      "image/png": "[encoded data removed]",
      "text/plain": [
       "<Figure size 432x288 with 1 Axes>"
      ]
     },
     "metadata": {
      "needs_background": "light"
     },
     "output_type": "display_data"
    }
   ],
   "source": [
    "plt.plot(thresholds, accuracy, label = \"accuracy\")\n",
    "plt.plot(thresholds, f1_3, label = \"3_f1\")\n",
    "plt.plot(thresholds, f1_4, label = \"4_f1\")\n",
    "plt.plot(thresholds, f1_5, label = \"5_f1\")\n",
    "plt.legend()\n",
    "plt.xlabel(\"threshold\")\n",
    "plt.ylabel(\"performance\")\n",
    "plt.title(\"Threshold vs Performance\")\n",
    "plt.show()"
   ]
  },
  {
   "cell_type": "markdown",
   "id": "d18ee028",
   "metadata": {},
   "source": [
    "### Different feature selection"
   ]
  },
  {
   "cell_type": "code",
   "execution_count": 9,
   "id": "47c5fc8f",
   "metadata": {},
   "outputs": [
    {
     "name": "stdout",
     "output_type": "stream",
     "text": [
      "================================================================================\n",
      "selected 50 features\n",
      "\n",
      "LogisticRegression prediction took 73.51874589920044 seconds.\n",
      "\n",
      "   3.0_precision  3.0_recall  3.0_f1-score  4.0_precision  4.0_recall  \\\n",
      "0       0.721854    0.185690      0.295393       0.734295    0.973473   \n",
      "1       0.717391    0.168654      0.273103       0.732747    0.975941   \n",
      "2       0.673333    0.172355      0.274457       0.731844    0.969772   \n",
      "3       0.686131    0.160410      0.260028       0.731787    0.972856   \n",
      "4       0.780142    0.187713      0.302613       0.736427    0.979025   \n",
      "5       0.656489    0.146758      0.239888       0.729592    0.970389   \n",
      "6       0.741667    0.151877      0.252125       0.731371    0.980876   \n",
      "7       0.728571    0.174061      0.280992       0.734571    0.976558   \n",
      "8       0.731544    0.185690      0.296196       0.734760    0.974691   \n",
      "9       0.692857    0.165247      0.266850       0.731787    0.973457   \n",
      "\n",
      "   4.0_f1-score  5.0_precision  5.0_recall  5.0_f1-score  accuracy  \n",
      "0      0.837135       0.714286    0.050505      0.094340  0.733420  \n",
      "1      0.837037       0.900000    0.090909      0.165138  0.732553  \n",
      "2      0.834174       0.666667    0.060000      0.110092  0.727785  \n",
      "3      0.835275       0.642857    0.090909      0.159292  0.728534  \n",
      "4      0.840572       0.700000    0.070707      0.128440  0.738942  \n",
      "5      0.832936       0.736842    0.141414      0.237288  0.725499  \n",
      "6      0.837945       0.916667    0.111111      0.198198  0.732871  \n",
      "7      0.838453       0.727273    0.080808      0.145455  0.734172  \n",
      "8      0.837888       0.875000    0.070707      0.130841  0.735039  \n",
      "9      0.835497       0.727273    0.080808      0.145455  0.729402  \n"
     ]
    },
    {
     "data": {
      "image/png": "[encoded data removed]",
      "text/plain": [
       "<Figure size 432x288 with 2 Axes>"
      ]
     },
     "metadata": {
      "needs_background": "light"
     },
     "output_type": "display_data"
    },
    {
     "name": "stdout",
     "output_type": "stream",
     "text": [
      "                   mean       std\n",
      "3.0_precision  0.712998  0.036375\n",
      "3.0_recall     0.169846  0.014193\n",
      "3.0_f1-score   0.274164  0.020295\n",
      "4.0_precision  0.732918  0.002042\n",
      "4.0_recall     0.974704  0.003515\n",
      "4.0_f1-score   0.836691  0.002245\n",
      "5.0_precision  0.760686  0.098976\n",
      "5.0_recall     0.084788  0.026230\n",
      "5.0_f1-score   0.151454  0.041900\n",
      "accuracy       0.731822  0.003996\n",
      "\n",
      "================================================================================\n",
      "\n",
      "\n",
      "================================================================================\n",
      "selected 100 features\n",
      "\n",
      "LogisticRegression prediction took 89.74640011787415 seconds.\n",
      "\n",
      "   3.0_precision  3.0_recall  3.0_f1-score  4.0_precision  4.0_recall  \\\n",
      "0       0.689024    0.192504      0.300932       0.734331    0.968538   \n",
      "1       0.713333    0.182283      0.290366       0.734979    0.973473   \n",
      "2       0.675159    0.180887      0.285330       0.732585    0.966687   \n",
      "3       0.659722    0.162116      0.260274       0.731719    0.969155   \n",
      "4       0.772727    0.203072      0.321622       0.738684    0.976558   \n",
      "5       0.684211    0.155290      0.253129       0.731447    0.972856   \n",
      "6       0.701493    0.160410      0.261111       0.732283    0.975324   \n",
      "7       0.709459    0.179181      0.286104       0.735445    0.974090   \n",
      "8       0.703704    0.194208      0.304406       0.735239    0.968519   \n",
      "9       0.710345    0.175468      0.281421       0.733612    0.974074   \n",
      "\n",
      "   4.0_f1-score  5.0_precision  5.0_recall  5.0_f1-score  accuracy  \n",
      "0      0.835329       0.800000    0.040404      0.076923  0.731253  \n",
      "1      0.837580       0.900000    0.090909      0.165138  0.734287  \n",
      "2      0.833511       0.636364    0.070000      0.126126  0.728218  \n",
      "3      0.833864       0.600000    0.090909      0.157895  0.726366  \n",
      "4      0.841126       0.666667    0.060606      0.111111  0.740676  \n",
      "5      0.835054       0.823529    0.141414      0.241379  0.729402  \n",
      "6      0.836508       0.923077    0.121212      0.214286  0.731570  \n",
      "7      0.838110       0.818182    0.090909      0.163636  0.734172  \n",
      "8      0.835908       0.700000    0.070707      0.128440  0.732871  \n",
      "9      0.836913       0.700000    0.070707      0.128440  0.732003  \n"
     ]
    },
    {
     "data": {
      "image/png": "[encoded data removed]",
      "text/plain": [
       "<Figure size 432x288 with 2 Axes>"
      ]
     },
     "metadata": {
      "needs_background": "light"
     },
     "output_type": "display_data"
    },
    {
     "name": "stdout",
     "output_type": "stream",
     "text": [
      "                   mean       std\n",
      "3.0_precision  0.701918  0.030280\n",
      "3.0_recall     0.178542  0.015673\n",
      "3.0_f1-score   0.284469  0.021627\n",
      "4.0_precision  0.734032  0.002197\n",
      "4.0_recall     0.971927  0.003396\n",
      "4.0_f1-score   0.836390  0.002234\n",
      "5.0_precision  0.756782  0.111509\n",
      "5.0_recall     0.084778  0.029469\n",
      "5.0_f1-score   0.151337  0.048642\n",
      "accuracy       0.732082  0.003936\n",
      "\n",
      "================================================================================\n",
      "\n",
      "\n",
      "================================================================================\n",
      "selected 200 features\n",
      "\n",
      "LogisticRegression prediction took 114.32790875434875 seconds.\n",
      "\n",
      "   3.0_precision  3.0_recall  3.0_f1-score  4.0_precision  4.0_recall  \\\n",
      "0       0.693989    0.216354      0.329870       0.739028    0.966070   \n",
      "1       0.670732    0.187394      0.292943       0.735584    0.967921   \n",
      "2       0.698795    0.197952      0.308511       0.736274    0.967921   \n",
      "3       0.644295    0.163823      0.261224       0.730751    0.966070   \n",
      "4       0.756098    0.211604      0.330667       0.740619    0.974090   \n",
      "5       0.689189    0.174061      0.277929       0.734236    0.969772   \n",
      "6       0.686131    0.160410      0.260028       0.732591    0.973473   \n",
      "7       0.679012    0.187713      0.294118       0.736176    0.969155   \n",
      "8       0.684211    0.199319      0.308707       0.735529    0.964815   \n",
      "9       0.672956    0.182283      0.286863       0.734551    0.968519   \n",
      "\n",
      "   4.0_f1-score  5.0_precision  5.0_recall  5.0_f1-score  accuracy  \n",
      "0      0.837433       0.800000    0.040404      0.076923  0.735587  \n",
      "1      0.835908       0.900000    0.090909      0.165138  0.731686  \n",
      "2      0.836354       0.600000    0.060000      0.109091  0.732987  \n",
      "3      0.832094       0.642857    0.090909      0.159292  0.724631  \n",
      "4      0.841460       0.700000    0.070707      0.128440  0.741544  \n",
      "5      0.835726       0.764706    0.131313      0.224138  0.731570  \n",
      "6      0.836026       0.866667    0.131313      0.228070  0.730703  \n",
      "7      0.836751       0.900000    0.090909      0.165138  0.732871  \n",
      "8      0.834713       0.700000    0.070707      0.128440  0.731570  \n",
      "9      0.835463       0.818182    0.090909      0.163636  0.730703  \n"
     ]
    },
    {
     "data": {
      "image/png": "[encoded data removed]",
      "text/plain": [
       "<Figure size 432x288 with 2 Axes>"
      ]
     },
     "metadata": {
      "needs_background": "light"
     },
     "output_type": "display_data"
    },
    {
     "name": "stdout",
     "output_type": "stream",
     "text": [
      "                   mean       std\n",
      "3.0_precision  0.687541  0.028523\n",
      "3.0_recall     0.188091  0.018742\n",
      "3.0_f1-score   0.295086  0.024911\n",
      "4.0_precision  0.735534  0.002852\n",
      "4.0_recall     0.968781  0.003042\n",
      "4.0_f1-score   0.836193  0.002345\n",
      "5.0_precision  0.769241  0.106068\n",
      "5.0_recall     0.086808  0.028712\n",
      "5.0_f1-score   0.154831  0.047178\n",
      "accuracy       0.732385  0.004247\n",
      "\n",
      "================================================================================\n",
      "\n",
      "\n",
      "================================================================================\n",
      "selected 300 features\n",
      "\n",
      "LogisticRegression prediction took 138.69750094413757 seconds.\n",
      "\n",
      "   3.0_precision  3.0_recall  3.0_f1-score  4.0_precision  4.0_recall  \\\n",
      "0       0.656863    0.228279      0.338812       0.740935    0.958051   \n",
      "1       0.692771    0.195911      0.305445       0.738375    0.969772   \n",
      "2       0.686047    0.201365      0.311346       0.737189    0.967304   \n",
      "3       0.624204    0.167235      0.263795       0.731455    0.961135   \n",
      "4       0.727273    0.218430      0.335958       0.741737    0.969155   \n",
      "5       0.664596    0.182594      0.286479       0.734617    0.964837   \n",
      "6       0.671233    0.167235      0.267760       0.732276    0.968538   \n",
      "7       0.651429    0.194539      0.299606       0.736917    0.964220   \n",
      "8       0.685393    0.207836      0.318954       0.737364    0.963580   \n",
      "9       0.660819    0.192504      0.298153       0.735876    0.964815   \n",
      "\n",
      "   4.0_f1-score  5.0_precision  5.0_recall  5.0_f1-score  accuracy  \n",
      "0      0.835620       0.714286    0.050505      0.094340  0.733420  \n",
      "1      0.838400       0.916667    0.111111      0.198198  0.736021  \n",
      "2      0.836713       0.875000    0.070000      0.129630  0.733853  \n",
      "3      0.830712       0.578947    0.111111      0.186441  0.722897  \n",
      "4      0.840332       0.750000    0.090909      0.162162  0.740676  \n",
      "5      0.834133       0.750000    0.121212      0.208696  0.729835  \n",
      "6      0.833997       0.750000    0.121212      0.208696  0.728534  \n",
      "7      0.835382       0.900000    0.090909      0.165138  0.731136  \n",
      "8      0.835429       0.727273    0.080808      0.145455  0.733304  \n",
      "9      0.834936       0.818182    0.090909      0.163636  0.730703  \n"
     ]
    },
    {
     "data": {
      "image/png": "[encoded data removed]",
      "text/plain": [
       "<Figure size 432x288 with 2 Axes>"
      ]
     },
     "metadata": {
      "needs_background": "light"
     },
     "output_type": "display_data"
    },
    {
     "name": "stdout",
     "output_type": "stream",
     "text": [
      "                   mean       std\n",
      "3.0_precision  0.672063  0.027850\n",
      "3.0_recall     0.195593  0.019892\n",
      "3.0_f1-score   0.302631  0.025352\n",
      "4.0_precision  0.736674  0.003315\n",
      "4.0_recall     0.965141  0.003706\n",
      "4.0_f1-score   0.835565  0.002595\n",
      "5.0_precision  0.778035  0.102058\n",
      "5.0_recall     0.093869  0.022942\n",
      "5.0_f1-score   0.166239  0.036516\n",
      "accuracy       0.732038  0.004721\n",
      "\n",
      "================================================================================\n",
      "\n",
      "\n"
     ]
    }
   ],
   "source": [
    "logr = LogisticRegression(solver='sag', max_iter=50, random_state=30027)\n",
    "train_df_50 = pd.read_csv(\"./Final/Datasets/train_df_50.csv\", keep_default_na=False)\n",
    "train_df_100 = pd.read_csv(\"./Final/Datasets/train_df_100.csv\", keep_default_na=False)\n",
    "train_df_200 = pd.read_csv(\"./Final/Datasets/train_df_200.csv\", keep_default_na=False)\n",
    "train_df_300 = pd.read_csv(\"./Final/Datasets/train_df_300.csv\", keep_default_na=False)\n",
    "nums = ['50', '100', '200', '300']\n",
    "train_dfs = [pd.read_csv(\"./Final/Datasets/train_df_\"+num+\".csv\", keep_default_na=False) for num in nums]\n",
    "\n",
    "for i in range(4): \n",
    "    print(\"================================================================================\")\n",
    "    print(f'selected {nums[i]} features\\n')\n",
    "    train_df = train_dfs[i]\n",
    "    X_train = train_df.iloc[:,:-1]\n",
    "    y_train = train_df.iloc[:,-1]\n",
    "    _, report = cross_val_report(logr, X_train, y_train)\n",
    "    print(report)\n",
    "    print('\\n================================================================================\\n\\n')"
   ]
  },
  {
   "cell_type": "raw",
   "id": "c170f10c",
   "metadata": {},
   "source": []
  },
  {
   "cell_type": "code",
   "execution_count": null,
   "id": "8dd88735",
   "metadata": {},
   "outputs": [],
   "source": []
  }
 ],
 "metadata": {
  "kernelspec": {
   "display_name": "Python 3",
   "language": "python",
   "name": "python3"
  },
  "language_info": {
   "codemirror_mode": {
    "name": "ipython",
    "version": 3
   },
   "file_extension": ".py",
   "mimetype": "text/x-python",
   "name": "python",
   "nbconvert_exporter": "python",
   "pygments_lexer": "ipython3",
   "version": "3.8.8"
  }
 },
 "nbformat": 4,
 "nbformat_minor": 5
}
