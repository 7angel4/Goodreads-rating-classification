{
 "cells": [
  {
   "cell_type": "markdown",
   "metadata": {},
   "source": [
    "Documentation:\n",
    "1. Converted class label to categorical\n",
    "2. Supplied (original) vectorisers + TF-IDF vectorizer\n",
    "3. Added preprocessing (punctuation removal, casefolding, stop-words removal (including words to short), lemmatization) steps to the text features\n",
    "4. Encoded the simple string features ('Authors', 'Publisher', 'Language')\n",
    "5. Dimensionality reduction with TruncatedSVD\n",
    "6. Bigrams instead of words\n",
    "7. Feature selection with SelectKBest\n",
    "8. Standardization of 'pageNumbers' \n",
    "9. Instead of 8: Take the log of the standardized 'pageNumbers' using MinMaxScaler\n",
    "\n",
    "Yet to try:\n",
    "* Discretisation of PageNumbers"
   ]
  },
  {
   "cell_type": "code",
   "execution_count": null,
   "metadata": {
    "collapsed": true,
    "execution": {
     "iopub.execute_input": "2023-04-16T08:13:06.888402Z",
     "iopub.status.busy": "2023-04-16T08:13:06.887900Z",
     "iopub.status.idle": "2023-04-16T08:13:07.176277Z",
     "shell.execute_reply": "2023-04-16T08:13:07.175364Z",
     "shell.execute_reply.started": "2023-04-16T08:13:06.888358Z"
    }
   },
   "outputs": [],
   "source": [
    "import pandas as pd\n",
    "import numpy as np\n",
    "import sklearn\n",
    "import matplotlib.pyplot as plt\n",
    "import pickle\n",
    "import seaborn as sns\n",
    "import scipy\n",
    "from scipy import sparse\n",
    "import re"
   ]
  },
  {
   "cell_type": "code",
   "execution_count": null,
   "metadata": {},
   "outputs": [],
   "source": [
    "import warnings\n",
    "warnings.filterwarnings('ignore')"
   ]
  },
  {
   "cell_type": "code",
   "execution_count": null,
   "metadata": {
    "collapsed": true
   },
   "outputs": [],
   "source": [
    "# Load datasets\n",
    "original_train_df = pd.read_csv(r\"book_rating_train.csv\", index_col = False, delimiter = ',', header=0)\n",
    "original_test_df = pd.read_csv(r\"book_rating_test.csv\", index_col = False, delimiter = ',', header=0)\n",
    "print(\"Training set size:\", len(original_train_df))\n",
    "print(\"Test set size:\", len(original_test_df))"
   ]
  },
  {
   "cell_type": "code",
   "execution_count": null,
   "metadata": {
    "collapsed": true
   },
   "outputs": [],
   "source": [
    "# Make a copy of the original datasets\n",
    "train_df = original_train_df.copy()\n",
    "test_df = original_test_df.copy()"
   ]
  },
  {
   "cell_type": "code",
   "execution_count": null,
   "metadata": {
    "collapsed": true,
    "execution": {
     "iopub.execute_input": "2023-04-16T08:13:09.465930Z",
     "iopub.status.busy": "2023-04-16T08:13:09.464662Z",
     "iopub.status.idle": "2023-04-16T08:13:10.193644Z",
     "shell.execute_reply": "2023-04-16T08:13:10.192397Z",
     "shell.execute_reply.started": "2023-04-16T08:13:09.465885Z"
    }
   },
   "outputs": [],
   "source": [
    "# Encode authors, publisher, and language to numerical features (in both training and test set)\n",
    "from sklearn.preprocessing import OneHotEncoder\n",
    "string_features = ['Authors', 'Publisher', 'Language']\n",
    "full_string_features = pd.concat([train_df[string_features], test_df[string_features]])\n",
    "ohe = OneHotEncoder()\n",
    "ohe.fit(full_string_features)\n",
    "train_ohe_features = ohe.transform(train_df[string_features])\n",
    "test_ohe_features = ohe.transform(test_df[string_features])"
   ]
  },
  {
   "cell_type": "code",
   "execution_count": null,
   "metadata": {
    "collapsed": true
   },
   "outputs": [],
   "source": [
    "numerical_features = ['PublishYear', 'PublishMonth', 'PublishDay', 'pagesNumber']\n",
    "x_full_train = train_df[numerical_features]\n",
    "x_full_test = test_df[numerical_features]"
   ]
  },
  {
   "cell_type": "code",
   "execution_count": null,
   "metadata": {
    "collapsed": true
   },
   "outputs": [],
   "source": [
    "y_full_train = train_df.iloc[:,-1]"
   ]
  },
  {
   "cell_type": "markdown",
   "metadata": {},
   "source": [
    "# Data Visualisation"
   ]
  },
  {
   "cell_type": "code",
   "execution_count": null,
   "metadata": {
    "collapsed": true
   },
   "outputs": [],
   "source": [
    "# Look at NMI of the numerical attributes\n",
    "\n",
    "from sklearn.metrics.cluster import normalized_mutual_info_score\n",
    "\n",
    "for feature in numerical_features:\n",
    "    print(f\"NMI for {feature} =\", normalized_mutual_info_score(x_full_train[feature], y_full_train))"
   ]
  },
  {
   "cell_type": "code",
   "execution_count": null,
   "metadata": {
    "collapsed": true,
    "execution": {
     "iopub.execute_input": "2023-04-16T08:06:40.804818Z",
     "iopub.status.busy": "2023-04-16T08:06:40.803332Z",
     "iopub.status.idle": "2023-04-16T08:06:41.319477Z",
     "shell.execute_reply": "2023-04-16T08:06:41.317637Z",
     "shell.execute_reply.started": "2023-04-16T08:06:40.804753Z"
    }
   },
   "outputs": [],
   "source": [
    "# Look at the correlation matrix of the numerical attributes\n",
    "cor_matrix = train_df[numerical_features + ['rating_label']].corr()\n",
    "round(cor_matrix, 2)\n",
    "plt.figure(figsize=(12, 8))\n",
    "sns.heatmap(cor_matrix, cmap='cividis', annot=True, linewidths=2)\n",
    "plt.show()"
   ]
  },
  {
   "cell_type": "code",
   "execution_count": null,
   "metadata": {
    "collapsed": true,
    "execution": {
     "iopub.execute_input": "2023-04-16T08:06:46.337254Z",
     "iopub.status.busy": "2023-04-16T08:06:46.336497Z",
     "iopub.status.idle": "2023-04-16T08:06:47.572378Z",
     "shell.execute_reply": "2023-04-16T08:06:47.571097Z",
     "shell.execute_reply.started": "2023-04-16T08:06:46.337212Z"
    }
   },
   "outputs": [],
   "source": [
    "# Scatterplots for Publish year, month, and day vs. Rating\n",
    "for feature in ['PublishYear', 'PublishMonth', 'PublishDay']: \n",
    "    plt.scatter(train_df[feature], train_df['rating_label'])\n",
    "    plt.xlabel(feature)\n",
    "    plt.ylabel('rating')\n",
    "\n",
    "    values, counts = np.unique(sorted(train_df[feature]), return_counts=True)\n",
    "    avg = []\n",
    "    for i in range(len(values)): \n",
    "        v = values[i]\n",
    "        c = counts[i]\n",
    "        avg.append(sum(train_df.loc[train_df[feature] == v]['rating_label'])/c)\n",
    "    plt.plot(values, avg, color = 'red')\n",
    "    plt.show()"
   ]
  },
  {
   "cell_type": "code",
   "execution_count": null,
   "metadata": {
    "collapsed": true
   },
   "outputs": [],
   "source": [
    "# Histogram for pages number < 2000\n",
    "pageNum = train_df.loc[train_df['pagesNumber'] < 2000]['pagesNumber']\n",
    "plt.hist(pageNum, bins = 30)\n",
    "plt.show()"
   ]
  },
  {
   "cell_type": "code",
   "execution_count": null,
   "metadata": {
    "collapsed": true
   },
   "outputs": [],
   "source": [
    "plt.scatter(train_df['pagesNumber'], train_df['rating_label'])\n",
    "plt.xlabel('pagesNumber')\n",
    "plt.ylabel('rating_label')\n",
    "plt.show()"
   ]
  },
  {
   "cell_type": "code",
   "execution_count": null,
   "metadata": {
    "collapsed": true
   },
   "outputs": [],
   "source": [
    "# Convert rating_label to categorical class label (need to do this after the visualisations)\n",
    "train_df['rating_label'] = train_df['rating_label'].astype('category')\n",
    "y_full_train = train_df['rating_label']\n",
    "\n",
    "# Check class distributions\n",
    "class_labels, count = np.unique(train_df['rating_label'], return_counts=True)\n",
    "for pair in zip(class_labels, count):\n",
    "    print(f\"Rating {pair[0]}: {pair[1]} instances\")"
   ]
  },
  {
   "cell_type": "code",
   "execution_count": null,
   "metadata": {
    "collapsed": true
   },
   "outputs": [],
   "source": [
    "# standardise page number (to be done after visualisations)\n",
    "from sklearn.preprocessing import StandardScaler, MinMaxScaler\n",
    "from sklearn.preprocessing import normalize\n",
    "from sklearn.impute import SimpleImputer\n",
    "\n",
    "scaler = MinMaxScaler()\n",
    "x_full_train['pagesNumber'] = scaler.fit_transform(x_full_train['pagesNumber'].values.reshape(-1, 1))\n",
    "\n",
    "# Check if imputation is needed for missing values (no)\n",
    "print(f\"The pagesNumber column has {x_full_train['pagesNumber'].isna().sum()} missing values.\")\n",
    "print(f\"The pagesNumber column has {(x_full_train['pagesNumber'] == np.inf).sum()} infinite values.\")\n",
    "print(f\"The pagesNumber column has {(x_full_train['pagesNumber'] == 0).sum()} zero values.\")  # 196 zero values\n",
    "\n",
    "# Take the log\n",
    "x_full_train['pagesNumber'] = np.log(1 + x_full_train['pagesNumber'])  # prevent zero devision\n",
    "print(x_full_train['pagesNumber'][:20])\n",
    "\n",
    "print(np.mean(x_full_train['pagesNumber']))\n",
    "print(np.std(x_full_train['pagesNumber']))\n",
    "print(np.min(x_full_train['pagesNumber']))\n",
    "print(np.max(x_full_train['pagesNumber']))"
   ]
  },
  {
   "cell_type": "code",
   "execution_count": null,
   "metadata": {
    "collapsed": true
   },
   "outputs": [],
   "source": [
    "# Check NMI again\n",
    "print(f\"NMI for pagesNumber =\", normalized_mutual_info_score(x_full_train['pagesNumber'], y_full_train))\n",
    "x_full_train['pagesNumber'].corr(y_full_train)"
   ]
  },
  {
   "cell_type": "code",
   "execution_count": null,
   "metadata": {
    "collapsed": true
   },
   "outputs": [],
   "source": [
    "plt.scatter(x_full_train['pagesNumber'], y_full_train)"
   ]
  },
  {
   "cell_type": "code",
   "execution_count": null,
   "metadata": {
    "collapsed": true
   },
   "outputs": [],
   "source": [
    "# Save the numerical features as a matrix\n",
    "numerical_train_matrix = sparse.hstack((sparse.csr_matrix(x_full_train[['pagesNumber']].to_numpy()), train_ohe_features))\n",
    "numerical_test_matrix = sparse.hstack((sparse.csr_matrix(x_full_test[['pagesNumber']].to_numpy()), test_ohe_features))\n",
    "scipy.sparse.save_npz('./preprocessed_data/train_numerical.npz', numerical_train_matrix)\n",
    "scipy.sparse.save_npz('./preprocessed_data/test_numerical.npz', numerical_test_matrix)\n",
    "# print(numerical_train_matrix)"
   ]
  },
  {
   "cell_type": "code",
   "execution_count": null,
   "metadata": {
    "collapsed": true
   },
   "outputs": [],
   "source": [
    "numerical_train_matrix"
   ]
  },
  {
   "cell_type": "markdown",
   "metadata": {},
   "source": [
    "# Text Pre-processing"
   ]
  },
  {
   "cell_type": "code",
   "execution_count": null,
   "metadata": {
    "collapsed": true
   },
   "outputs": [],
   "source": [
    "%run Text_Preprocessing.ipynb"
   ]
  },
  {
   "cell_type": "markdown",
   "metadata": {},
   "source": [
    "## M1: CountVectorizer\n",
    "```python\n",
    "# Check\n",
    "preprocess(train_df['Description'][0])\n",
    "\n",
    "# Process data\n",
    "preprocess_with_count_vectorizer('Name', train_df, test_df, ngram=1)\n",
    "preprocess_with_count_vectorizer('Description', train_df, test_df, ngram=2)\n",
    "preprocess_with_count_vectorizer('Name', train_df, test_df, ngram=2)\n",
    "preprocess_with_count_vectorizer('Description', train_df, test_df, ngram=1)\n",
    "```"
   ]
  },
  {
   "cell_type": "markdown",
   "metadata": {},
   "source": [
    "## M2: doc2Vec\n",
    "```python\n",
    "# Check\n",
    "list(tokenize_corpus(train_df['Name'], ngram=1))\n",
    "\n",
    "# Process data\n",
    "preprocess_with_doc2vec('Name', train_df, test_df, ngram=1)\n",
    "preprocess_with_doc2vec('Description', train_df, test_df, ngram=2)\n",
    "preprocess_with_doc2vec('Name', train_df, test_df, ngram=2)\n",
    "preprocess_with_doc2vec('Description', train_df, test_df, ngram=1)\n",
    "```"
   ]
  },
  {
   "cell_type": "markdown",
   "metadata": {},
   "source": [
    "## M3: TfIdfVectorizer\n",
    "```python\n",
    "# TfidfVectorizer using the same preprocess() function as CountVectorizer\n",
    "preprocess_with_tfidf_vectorizer('Name', train_df, test_df, ngram=1)\n",
    "preprocess_with_tfidf_vectorizer('Description', train_df, test_df, ngram=2)\n",
    "preprocess_with_tfidf_vectorizer('Name', train_df, test_df, ngram=2)\n",
    "preprocess_with_tfidf_vectorizer('Description', train_df, test_df, ngram=1)\n",
    "```"
   ]
  },
  {
   "cell_type": "markdown",
   "metadata": {},
   "source": [
    "## Transformation"
   ]
  },
  {
   "cell_type": "markdown",
   "metadata": {},
   "source": [
    "train_df: original training set, with 'Authors', 'Publisher', 'Language' encoded to numerical attributes\\\n",
    "test_df: original test set, with 'Authors', 'Publisher', 'Language' encoded to numerical attributes\\\n",
    "x_full_train: attributes in train_df\\\n",
    "y_train: class labels (rankings) in train_df\\\n",
    "x_full_test: attributes in test_df\\\n",
    "text_matrix: sparse matrix consisting of the 'Description' and 'Name' feature vectors\\\n",
    "numerical_matrix: matrix containing the (encoded) 'Authors', 'Publisher', 'Language' features\\\n",
    "X_train: fully transformed matrix combining text_matrix and numerical_matrix, representing the training set\\\n",
    "X_test: fully transformed matrix combining text_matrix and numerical_matrix, representing the training set\n",
    "\n",
    "\n",
    "Dimensionality reduction: Truncated singular value decomposition (SVD)\\\n",
    "Unlike PCA, this estimator does not center the data before computing the SVD. This means it can work with sparse matrices efficiently."
   ]
  },
  {
   "cell_type": "code",
   "execution_count": null,
   "metadata": {
    "collapsed": true
   },
   "outputs": [],
   "source": [
    "from sklearn import feature_extraction\n",
    "from sklearn.model_selection import train_test_split, cross_validate\n",
    "from sklearn.metrics import classification_report\n",
    "\n",
    "from sklearn.decomposition import TruncatedSVD, LatentDirichletAllocation\n",
    "from sklearn.feature_selection import SelectKBest"
   ]
  },
  {
   "cell_type": "code",
   "execution_count": 130,
   "metadata": {
    "collapsed": true
   },
   "outputs": [],
   "source": [
    "def transform_to_matrix(description_file, name_file, numerical_file, file_type='npz', dimensionality_reduction=True):\n",
    "    \"\"\"\n",
    "    Reads in and combines the text and numerical features into a single matrix;\n",
    "    Returns the combined matrix.\n",
    "    \"\"\"\n",
    "    \n",
    "    # text features: 'Description' and 'Name'\n",
    "    if file_type == 'npz':\n",
    "        name_matrix = sparse.load_npz(name_file)\n",
    "        description_matrix = sparse.load_npz(description_file)\n",
    "        text_matrix = sparse.hstack((name_matrix, description_matrix))  # bind sparse matrices\n",
    "    else:\n",
    "        name_matrix = np.loadtxt(open(name_file, \"rb\"), delimiter=\",\")\n",
    "        description_matrix = np.loadtxt(open(description_file, \"rb\"), delimiter=\",\")\n",
    "        text_matrix = np.hstack((name_matrix, description_matrix))  # bind np arrays\n",
    "    \n",
    "    if dimensionality_reduction:\n",
    "        # Dimensionality reduction on text features\n",
    "        lda = LatentDirichletAllocation(n_components=20, random_state=30027)\n",
    "        name_matrix = lda.fit_transform(name_matrix)\n",
    "        text_matrix = lda.fit_transform(text_matrix)\n",
    "        #svd = TruncatedSVD(n_components=10, random_state=30027)\n",
    "        #name_matrix = svd.fit_transform(name_matrix)\n",
    "        #text_matrix = svd.fit_transform(text_matrix)\n",
    "    \n",
    "    numerical_matrix = scipy.sparse.load_npz(numerical_file)\n",
    "    X = sparse.hstack((numerical_matrix, text_matrix))\n",
    "    \n",
    "    return X"
   ]
  },
  {
   "cell_type": "code",
   "execution_count": 152,
   "metadata": {},
   "outputs": [],
   "source": [
    "# tfidf\n",
    "DESCRIPTION_TRAIN_SET = './preprocessed_data/TfIdf/train_Description_2grams_tfidf.npz'\n",
    "NAME_TRAIN_SET = './preprocessed_data/TfIdf/train_Name_2grams_tfidf.npz'\n",
    "NUMERICAL_TRAIN_SET = './preprocessed_data/train_numerical.npz'\n",
    "\n",
    "DESCRIPTION_TEST_SET = './preprocessed_data/TfIdf/test_Description_2grams_tfidf.npz'\n",
    "NAME_TEST_SET = './preprocessed_data/TfIdf/test_Name_2grams_tfidf.npz'\n",
    "NUMERICAL_TEST_SET = './preprocessed_data/test_numerical.npz'\n",
    "FILE_TYPE = 'npz'"
   ]
  },
  {
   "cell_type": "code",
   "execution_count": 154,
   "metadata": {},
   "outputs": [
    {
     "data": {
      "text/plain": [
       "(23063, 189536)"
      ]
     },
     "execution_count": 154,
     "metadata": {},
     "output_type": "execute_result"
    }
   ],
   "source": [
    "X_full_train = transform_to_matrix(DESCRIPTION_TRAIN_SET, NAME_TRAIN_SET, NUMERICAL_TRAIN_SET, file_type=FILE_TYPE, dimensionality_reduction=False)\n",
    "#X_test = transform_to_matrix(DESCRIPTION_TEST_SET, NAME_TEST_SET, NUMERICAL_TEST_SET, file_type=FILE_TYPE)\n",
    "X_full_train.shape"
   ]
  },
  {
   "cell_type": "code",
   "execution_count": 155,
   "metadata": {},
   "outputs": [],
   "source": [
    "# Split training set into training and validation set\n",
    "X_train, X_val, y_train, y_val = train_test_split(X_full_train, y_full_train, train_size=0.8, random_state=30027)"
   ]
  },
  {
   "cell_type": "code",
   "execution_count": null,
   "metadata": {
    "collapsed": true
   },
   "outputs": [],
   "source": [
    "# Feature selection\n",
    "selector = SelectKBest(k=20)\n",
    "selector.fit(X_train, y_train)\n",
    "X_train = selector.transform(X_train)\n",
    "X_val = selector.transform(X_val)\n",
    "print(X_train.shape)\n",
    "print(X_val.shape)"
   ]
  },
  {
   "cell_type": "code",
   "execution_count": null,
   "metadata": {
    "collapsed": true
   },
   "outputs": [],
   "source": [
    "# Check NMI of each column with the rating label\n",
    "for i in range(X_train.shape[1]):\n",
    "    print(f\"NMI for component {i} =\", normalized_mutual_info_score(X_train.toarray()[:,i], y_train))"
   ]
  },
  {
   "cell_type": "code",
   "execution_count": null,
   "metadata": {
    "collapsed": true
   },
   "outputs": [],
   "source": [
    "import seaborn\n",
    "df = pd.DataFrame.sparse.from_spmatrix(X_train)\n",
    "df = df.sparse.to_dense()\n",
    "y_df = y_train.reset_index()\n",
    "del y_df['index']\n",
    "\n",
    "df = pd.concat([df, pd.DataFrame(y_df.values)], ignore_index = True, axis = 1)\n",
    "seaborn.pairplot(df)"
   ]
  },
  {
   "cell_type": "markdown",
   "metadata": {},
   "source": [
    "# Model Induction on Training set"
   ]
  },
  {
   "cell_type": "code",
   "execution_count": null,
   "metadata": {
    "collapsed": true
   },
   "outputs": [],
   "source": [
    "# scoring for cross validation\n",
    "def report_scoring(clf, X, y, include_avg=True): \n",
    "    y_pred = clf.predict(X)\n",
    "    results = classification_report(y, y_pred, output_dict=True, zero_division=0)\n",
    "    \n",
    "    report_dict = {}  # set up our own output dictionary\n",
    "    for label in ['3.0', '4.0', '5.0']: \n",
    "        for metric in ['precision', 'recall', 'f1-score']: \n",
    "            report_dict[label + '_' + metric] = results[label][metric]\n",
    "    report_dict['accuracy'] = results['accuracy']\n",
    "    \n",
    "    if include_avg:\n",
    "        for metric in ['precision', 'recall', 'f1-score']:\n",
    "            report_dict['macro_avg_' + metric] = results['macro avg'][metric]\n",
    "            report_dict['weighted_avg_' + metric] = results['weighted avg'][metric]\n",
    "    \n",
    "    return report_dict"
   ]
  },
  {
   "cell_type": "code",
   "execution_count": null,
   "metadata": {
    "collapsed": true
   },
   "outputs": [],
   "source": [
    "def get_model_name(model):\n",
    "    \"\"\"\n",
    "    Returns the name of the sklearn classifier.\n",
    "    \"\"\"\n",
    "    return re.findall(r'(\\w+)\\(', str(model))[0]"
   ]
  },
  {
   "cell_type": "code",
   "execution_count": null,
   "metadata": {
    "collapsed": true
   },
   "outputs": [],
   "source": [
    "import time"
   ]
  },
  {
   "cell_type": "code",
   "execution_count": null,
   "metadata": {
    "collapsed": true
   },
   "outputs": [],
   "source": [
    "def validate(clf, X, y, print_full_results=True):\n",
    "    \"\"\"\n",
    "    Evaluates the classifier on the given dataset.\n",
    "    \"\"\"\n",
    "    start = time.time()\n",
    "    # cross validation on TRAINING set\n",
    "    result = cross_validate(clf, X, y, scoring=report_scoring, cv=20)\n",
    "    end = time.time()\n",
    "    print(f\"{get_model_name(clf)} prediction took {end - start} seconds\")\n",
    "    \n",
    "    # Convert evaluation results to a dataframe (\"test_\" prefix is auto-generated)\n",
    "    results_df = pd.DataFrame.from_dict(result)[['test_3.0_f1-score','test_4.0_f1-score','test_5.0_f1-score','test_accuracy']]\n",
    "    if print_full_results:\n",
    "        print(results_df)\n",
    "    \n",
    "    return results_df.mean(axis=0)"
   ]
  },
  {
   "cell_type": "code",
   "execution_count": null,
   "metadata": {
    "collapsed": true
   },
   "outputs": [],
   "source": [
    "from sklearn.metrics import confusion_matrix, ConfusionMatrixDisplay"
   ]
  },
  {
   "cell_type": "code",
   "execution_count": null,
   "metadata": {
    "collapsed": true
   },
   "outputs": [],
   "source": [
    "def evaluate(clf, X, y, print_confusion_matrix=True, print_classification_report=True):\n",
    "    y_pred = clf.predict(X)\n",
    "    if print_confusion_matrix:\n",
    "        cm = confusion_matrix(y, y_pred)\n",
    "        display = ConfusionMatrixDisplay(confusion_matrix=cm, display_labels=clf.classes_)\n",
    "        display.plot()\n",
    "        plt.show()\n",
    "    \n",
    "    if print_classification_report:\n",
    "        print(classification_report(y, y_pred, zero_division=0))\n",
    "    \n",
    "    return y_pred"
   ]
  },
  {
   "cell_type": "code",
   "execution_count": null,
   "metadata": {
    "collapsed": true
   },
   "outputs": [],
   "source": [
    "def validate_and_test(clf, X_train, y_train, X_val, y_val, print_full_cv_results=True, print_confusion_matrix=True, print_classification_report=True):\n",
    "    clf.fit(X_train, y_train)\n",
    "    print(\"Evaluate on training set:\\n\")\n",
    "    print(validate(clf, X_train, y_train, print_full_results=print_full_cv_results))\n",
    "    print(\"\\n\\nEvaluate on validation set:\\n\")\n",
    "    return evaluate(clf, X_val, y_val, print_confusion_matrix=print_confusion_matrix, print_classification_report=print_classification_report)"
   ]
  },
  {
   "cell_type": "markdown",
   "metadata": {},
   "source": [
    "## Error Analysis"
   ]
  },
  {
   "cell_type": "code",
   "execution_count": null,
   "metadata": {
    "collapsed": true
   },
   "outputs": [],
   "source": [
    "def get_correct_classifications(y_true, y_pred, class_label=None):\n",
    "    \"\"\"\n",
    "    Returns a list of integers, representing the index of the correctly classified instances, \n",
    "    in the original training set (original_train_df).\n",
    "    If class_label is specified, only considers the correct classification in that class.\n",
    "    \"\"\"\n",
    "    \n",
    "    y_true_copy = y_true.reset_index()  # now a dataframe with two columns, 'index' and 'rating_label'\n",
    "    if class_label is None:\n",
    "        match_idx = [i for i in range(len(y_pred)) if y_true_copy.iloc[i,:]['rating_label'] == y_pred[i]]\n",
    "    \n",
    "    else: # have a specific class label for interest\n",
    "        y_true_filtered = y_true_copy[y_true_copy['rating_label'] == class_label]['rating_label']\n",
    "        y_pred_filtered = pd.Series(y_pred)[y_pred == class_label]\n",
    "        match_idx = y_true_filtered.index.intersection(y_pred_filtered.index).tolist()  # correct predictions\n",
    "    \n",
    "    original_idx = y_true_copy.iloc[match_idx,:]['index']  # index in the original training set\n",
    "    return original_idx"
   ]
  },
  {
   "cell_type": "markdown",
   "metadata": {},
   "source": [
    "## Hyperparameter Tuning"
   ]
  },
  {
   "cell_type": "code",
   "execution_count": null,
   "metadata": {
    "collapsed": true
   },
   "outputs": [],
   "source": [
    "from sklearn.model_selection import GridSearchCV"
   ]
  },
  {
   "cell_type": "code",
   "execution_count": null,
   "metadata": {
    "collapsed": true
   },
   "outputs": [],
   "source": [
    "# scoring for hyperparameter tuning\n",
    "def hyperparameter_scoring(clf, X, y): \n",
    "    y_pred = clf.predict(X)\n",
    "    results = classification_report(y, y_pred, output_dict=True, zero_division=0)\n",
    "    \n",
    "    report_dict = {}  # set up our own output dictionary\n",
    "    for label in ['3.0', '4.0', '5.0']: \n",
    "        for metric in ['f1-score']: \n",
    "            report_dict[label + '_' + metric] = results[label][metric]\n",
    "    report_dict['accuracy'] = results['accuracy']\n",
    "    #for metric in ['precision', 'recall', 'f1-score']:\n",
    "        #report_dict['weighted_avg_' + metric] = results['weighted avg'][metric]\n",
    "    \n",
    "    return report_dict"
   ]
  },
  {
   "cell_type": "code",
   "execution_count": null,
   "metadata": {
    "collapsed": true
   },
   "outputs": [],
   "source": [
    "def tune_hyperparameter(clf, param_grid, X_train, y_train): \n",
    "    grid_search = GridSearchCV(clf, param_grid, scoring=hyperparameter_scoring, cv=20, verbose=2, refit=False)\n",
    "    grid_search.fit(X_train, y_train)\n",
    "    result_df = pd.DataFrame.from_dict(grid_search.cv_results_)\n",
    "    r = re.compile('^((mean|rank)_test|params).*')\n",
    "    score_metrics = list(filter(r.match, result_df.columns))\n",
    "    return result_df[score_metrics]\n"
   ]
  },
  {
   "cell_type": "markdown",
   "metadata": {},
   "source": [
    "## Naive Bayes"
   ]
  },
  {
   "cell_type": "code",
   "execution_count": 131,
   "metadata": {
    "collapsed": true
   },
   "outputs": [],
   "source": [
    "from sklearn.naive_bayes import GaussianNB\n",
    "from sklearn.naive_bayes import MultinomialNB"
   ]
  },
  {
   "cell_type": "code",
   "execution_count": 120,
   "metadata": {
    "collapsed": true
   },
   "outputs": [
    {
     "name": "stdout",
     "output_type": "stream",
     "text": [
      "Evaluate on training set:\n",
      "\n",
      "GaussianNB prediction took 0.2621293067932129 seconds\n",
      "    test_3.0_f1-score  test_4.0_f1-score  test_5.0_f1-score  test_accuracy\n",
      "0            0.410078           0.000000           0.086957       0.257855\n",
      "1            0.408304           0.003086           0.047619       0.257855\n",
      "2            0.409367           0.000000           0.088889       0.257855\n",
      "3            0.409367           0.003086           0.177778       0.261105\n",
      "4            0.409367           0.003086           0.133333       0.260022\n",
      "5            0.410435           0.000000           0.122449       0.258938\n",
      "6            0.409722           0.003077           0.136364       0.260022\n",
      "7            0.407986           0.000000           0.255319       0.261105\n",
      "8            0.408696           0.012270           0.045455       0.260022\n",
      "9            0.408304           0.000000           0.139535       0.258938\n",
      "10           0.410792           0.000000           0.166667       0.260304\n",
      "11           0.406957           0.000000           0.173913       0.258134\n",
      "12           0.408341           0.000000           0.222222       0.260304\n",
      "13           0.406603           0.000000           0.088889       0.255965\n",
      "14           0.409765           0.003082           0.208333       0.261388\n",
      "15           0.407632           0.000000           0.093023       0.257050\n",
      "16           0.408696           0.000000           0.173913       0.259219\n",
      "17           0.409408           0.006144           0.133333       0.260304\n",
      "18           0.409051           0.003082           0.260870       0.262473\n",
      "19           0.409051           0.000000           0.217391       0.260304\n",
      "test_3.0_f1-score    0.408896\n",
      "test_4.0_f1-score    0.001846\n",
      "test_5.0_f1-score    0.148613\n",
      "test_accuracy        0.259458\n",
      "dtype: float64\n",
      "\n",
      "\n",
      "Evaluate on validation set:\n",
      "\n"
     ]
    },
    {
     "data": {
      "image/png": "[encoded data removed]",
      "text/plain": [
       "<Figure size 432x288 with 2 Axes>"
      ]
     },
     "metadata": {
      "needs_background": "light"
     },
     "output_type": "display_data"
    },
    {
     "name": "stdout",
     "output_type": "stream",
     "text": [
      "              precision    recall  f1-score   support\n",
      "\n",
      "         3.0       0.25      1.00      0.40      1153\n",
      "         4.0       1.00      0.00      0.00      3260\n",
      "         5.0       0.41      0.06      0.10       200\n",
      "\n",
      "    accuracy                           0.25      4613\n",
      "   macro avg       0.56      0.35      0.17      4613\n",
      "weighted avg       0.79      0.25      0.11      4613\n",
      "\n"
     ]
    }
   ],
   "source": [
    "gnb = GaussianNB()\n",
    "y_pred = validate_and_test(gnb, X_train.toarray(), y_train, X_val.toarray(), y_val)"
   ]
  },
  {
   "cell_type": "markdown",
   "metadata": {},
   "source": [
    "### Compare rating 5 instances"
   ]
  },
  {
   "cell_type": "code",
   "execution_count": null,
   "metadata": {
    "collapsed": true
   },
   "outputs": [],
   "source": [
    "original_train_df[original_train_df['rating_label'] == 5.0]"
   ]
  },
  {
   "cell_type": "code",
   "execution_count": null,
   "metadata": {
    "collapsed": true
   },
   "outputs": [],
   "source": [
    "original_train_df.iloc[get_correct_classifications(y_val, y_pred, class_label=5.0),:]"
   ]
  },
  {
   "cell_type": "code",
   "execution_count": 132,
   "metadata": {
    "collapsed": true
   },
   "outputs": [
    {
     "name": "stdout",
     "output_type": "stream",
     "text": [
      "Evaluate on training set:\n",
      "\n",
      "MultinomialNB prediction took 0.23177289962768555 seconds\n",
      "    test_3.0_f1-score  test_4.0_f1-score  test_5.0_f1-score  test_accuracy\n",
      "0                 0.0           0.824505           0.093023       0.702059\n",
      "1                 0.0           0.824204           0.000000       0.700975\n",
      "2                 0.0           0.824729           0.048780       0.702059\n",
      "3                 0.0           0.825559           0.177778       0.704225\n",
      "4                 0.0           0.823229           0.046512       0.699892\n",
      "5                 0.0           0.824505           0.093023       0.702059\n",
      "6                 0.0           0.825782           0.139535       0.704225\n",
      "7                 0.0           0.826837           0.222222       0.706392\n",
      "8                 0.0           0.825255           0.047619       0.702059\n",
      "9                 0.0           0.825255           0.095238       0.703142\n",
      "10                0.0           0.826837           0.186047       0.706074\n",
      "11                0.0           0.827058           0.142857       0.706074\n",
      "12                0.0           0.828115           0.227273       0.708243\n",
      "13                0.0           0.826004           0.050000       0.703905\n",
      "14                0.0           0.826531           0.097561       0.704989\n",
      "15                0.0           0.826531           0.097561       0.704989\n",
      "16                0.0           0.827058           0.142857       0.706074\n",
      "17                0.0           0.827058           0.142857       0.706074\n",
      "18                0.0           0.826309           0.139535       0.704989\n",
      "19                0.0           0.827366           0.222222       0.707158\n",
      "test_3.0_f1-score    0.000000\n",
      "test_4.0_f1-score    0.825936\n",
      "test_5.0_f1-score    0.120625\n",
      "test_accuracy        0.704283\n",
      "dtype: float64\n",
      "\n",
      "\n",
      "Evaluate on validation set:\n",
      "\n"
     ]
    },
    {
     "data": {
      "image/png": "[encoded data removed]",
      "text/plain": [
       "<Figure size 432x288 with 2 Axes>"
      ]
     },
     "metadata": {
      "needs_background": "light"
     },
     "output_type": "display_data"
    },
    {
     "name": "stdout",
     "output_type": "stream",
     "text": [
      "              precision    recall  f1-score   support\n",
      "\n",
      "         3.0       0.00      0.00      0.00      1153\n",
      "         4.0       0.71      1.00      0.83      3260\n",
      "         5.0       0.48      0.05      0.09       200\n",
      "\n",
      "    accuracy                           0.71      4613\n",
      "   macro avg       0.39      0.35      0.31      4613\n",
      "weighted avg       0.52      0.71      0.59      4613\n",
      "\n"
     ]
    }
   ],
   "source": [
    "mnb = MultinomialNB()\n",
    "y_pred = validate_and_test(mnb, X_train.toarray(), y_train, X_val.toarray(), y_val)"
   ]
  },
  {
   "cell_type": "markdown",
   "metadata": {},
   "source": [
    "## SVM"
   ]
  },
  {
   "cell_type": "markdown",
   "metadata": {},
   "source": [
    "### Linear"
   ]
  },
  {
   "cell_type": "code",
   "execution_count": null,
   "metadata": {
    "collapsed": true
   },
   "outputs": [],
   "source": [
    "from sklearn import svm"
   ]
  },
  {
   "cell_type": "code",
   "execution_count": null,
   "metadata": {
    "collapsed": true
   },
   "outputs": [],
   "source": [
    "linearSVM = svm.LinearSVC(random_state=30027, C=10) # set C?\n",
    "linearSVM.fit(X_train, y_train)\n",
    "validate_and_test(linearSVM, X_train, y_train, X_val, y_val)"
   ]
  },
  {
   "cell_type": "code",
   "execution_count": 119,
   "metadata": {
    "collapsed": true
   },
   "outputs": [
    {
     "name": "stdout",
     "output_type": "stream",
     "text": [
      "Evaluate on training set:\n",
      "\n",
      "SGDClassifier prediction took 0.5179867744445801 seconds\n",
      "    test_3.0_f1-score  test_4.0_f1-score  test_5.0_f1-score  test_accuracy\n",
      "0                 0.0           0.824204                0.0       0.700975\n",
      "1                 0.0           0.824204                0.0       0.700975\n",
      "2                 0.0           0.824204                0.0       0.700975\n",
      "3                 0.0           0.824204                0.0       0.700975\n",
      "4                 0.0           0.824204                0.0       0.700975\n",
      "5                 0.0           0.824204                0.0       0.700975\n",
      "6                 0.0           0.824204                0.0       0.700975\n",
      "7                 0.0           0.824204                0.0       0.700975\n",
      "8                 0.0           0.824204                0.0       0.700975\n",
      "9                 0.0           0.824204                0.0       0.700975\n",
      "10                0.0           0.824729                0.0       0.701735\n",
      "11                0.0           0.825478                0.0       0.702820\n",
      "12                0.0           0.825478                0.0       0.702820\n",
      "13                0.0           0.825478                0.0       0.702820\n",
      "14                0.0           0.825478                0.0       0.702820\n",
      "15                0.0           0.825478                0.0       0.702820\n",
      "16                0.0           0.825478                0.0       0.702820\n",
      "17                0.0           0.825478                0.0       0.702820\n",
      "18                0.0           0.825478                0.0       0.702820\n",
      "19                0.0           0.824729                0.0       0.701735\n",
      "test_3.0_f1-score    0.000000\n",
      "test_4.0_f1-score    0.824766\n",
      "test_5.0_f1-score    0.000000\n",
      "test_accuracy        0.701789\n",
      "dtype: float64\n",
      "\n",
      "\n",
      "Evaluate on validation set:\n",
      "\n"
     ]
    },
    {
     "data": {
      "image/png": "[encoded data removed]",
      "text/plain": [
       "<Figure size 432x288 with 2 Axes>"
      ]
     },
     "metadata": {
      "needs_background": "light"
     },
     "output_type": "display_data"
    },
    {
     "name": "stdout",
     "output_type": "stream",
     "text": [
      "              precision    recall  f1-score   support\n",
      "\n",
      "         3.0       0.00      0.00      0.00      1153\n",
      "         4.0       0.71      1.00      0.83      3260\n",
      "         5.0       0.00      0.00      0.00       200\n",
      "\n",
      "    accuracy                           0.71      4613\n",
      "   macro avg       0.24      0.33      0.28      4613\n",
      "weighted avg       0.50      0.71      0.59      4613\n",
      "\n"
     ]
    },
    {
     "data": {
      "text/plain": [
       "array([4., 4., 4., ..., 4., 4., 4.])"
      ]
     },
     "execution_count": 119,
     "metadata": {},
     "output_type": "execute_result"
    }
   ],
   "source": [
    "# Linear SVM using Stochastic Gradient Descent\n",
    "from sklearn.linear_model import SGDClassifier\n",
    "\n",
    "# learning_rate='optimal' predicts most 4s as 3s\n",
    "# validation accuracy stops increasing for eta0 < 0.0000001\n",
    "svm_sgd = SGDClassifier(learning_rate='adaptive', eta0 = 0.0000001)  # default: loss='hinge' -> gives a linear SVM\n",
    "validate_and_test(svm_sgd, X_train, y_train, X_val, y_val)"
   ]
  },
  {
   "cell_type": "markdown",
   "metadata": {},
   "source": [
    "### Kernel SVM"
   ]
  },
  {
   "cell_type": "code",
   "execution_count": null,
   "metadata": {
    "collapsed": true
   },
   "outputs": [],
   "source": [
    "# tune hyperparameter C\n",
    "RBF_svm = svm.SVC(kernel='rbf', gamma=0.9)\n",
    "param_grid = {'C': range(1, 10)}\n",
    "grid_search_result = tune_hyperparameter(RBF_svm, param_grid, X_train, y_train)"
   ]
  },
  {
   "cell_type": "code",
   "execution_count": null,
   "metadata": {
    "collapsed": true
   },
   "outputs": [],
   "source": [
    "grid_search_result"
   ]
  },
  {
   "cell_type": "code",
   "execution_count": 118,
   "metadata": {
    "collapsed": true
   },
   "outputs": [
    {
     "name": "stdout",
     "output_type": "stream",
     "text": [
      "Evaluate on training set:\n",
      "\n",
      "SVC prediction took 120.91550493240356 seconds\n",
      "    test_3.0_f1-score  test_4.0_f1-score  test_5.0_f1-score  test_accuracy\n",
      "0                 0.0           0.824505           0.093023       0.702059\n",
      "1                 0.0           0.824729           0.048780       0.702059\n",
      "2                 0.0           0.824729           0.048780       0.702059\n",
      "3                 0.0           0.825559           0.177778       0.704225\n",
      "4                 0.0           0.823229           0.046512       0.699892\n",
      "5                 0.0           0.824505           0.093023       0.702059\n",
      "6                 0.0           0.825782           0.139535       0.704225\n",
      "7                 0.0           0.826837           0.222222       0.706392\n",
      "8                 0.0           0.824204           0.000000       0.700975\n",
      "9                 0.0           0.825255           0.095238       0.703142\n",
      "10                0.0           0.825559           0.139535       0.703905\n",
      "11                0.0           0.827058           0.142857       0.706074\n",
      "12                0.0           0.828115           0.227273       0.708243\n",
      "13                0.0           0.826531           0.097561       0.704989\n",
      "14                0.0           0.827058           0.142857       0.706074\n",
      "15                0.0           0.826531           0.097561       0.704989\n",
      "16                0.0           0.827058           0.142857       0.706074\n",
      "17                0.0           0.826004           0.050000       0.703905\n",
      "18                0.0           0.827366           0.222222       0.707158\n",
      "19                0.0           0.827366           0.222222       0.707158\n",
      "test_3.0_f1-score    0.000000\n",
      "test_4.0_f1-score    0.825899\n",
      "test_5.0_f1-score    0.122492\n",
      "test_accuracy        0.704283\n",
      "dtype: float64\n",
      "\n",
      "\n",
      "Evaluate on validation set:\n",
      "\n"
     ]
    },
    {
     "data": {
      "image/png": "[encoded data removed]",
      "text/plain": [
       "<Figure size 432x288 with 2 Axes>"
      ]
     },
     "metadata": {
      "needs_background": "light"
     },
     "output_type": "display_data"
    },
    {
     "name": "stdout",
     "output_type": "stream",
     "text": [
      "              precision    recall  f1-score   support\n",
      "\n",
      "         3.0       0.00      0.00      0.00      1153\n",
      "         4.0       0.71      1.00      0.83      3260\n",
      "         5.0       0.58      0.06      0.10       200\n",
      "\n",
      "    accuracy                           0.71      4613\n",
      "   macro avg       0.43      0.35      0.31      4613\n",
      "weighted avg       0.53      0.71      0.59      4613\n",
      "\n"
     ]
    },
    {
     "data": {
      "text/plain": [
       "array([4., 4., 4., ..., 4., 4., 4.])"
      ]
     },
     "execution_count": 118,
     "metadata": {},
     "output_type": "execute_result"
    }
   ],
   "source": [
    "# Try kernel SVM\n",
    "RBF_svm = svm.SVC(kernel='rbf', gamma=0.9, C=10)\n",
    "validate_and_test(RBF_svm, X_train, y_train, X_val, y_val)"
   ]
  },
  {
   "cell_type": "markdown",
   "metadata": {},
   "source": [
    "## kNN"
   ]
  },
  {
   "cell_type": "code",
   "execution_count": null,
   "metadata": {
    "collapsed": true
   },
   "outputs": [],
   "source": [
    "from sklearn.neighbors import KNeighborsClassifier"
   ]
  },
  {
   "cell_type": "code",
   "execution_count": null,
   "metadata": {
    "collapsed": true
   },
   "outputs": [],
   "source": [
    "# tune hyperparameters p and K\n",
    "knn = KNeighborsClassifier(weights = 'distance')\n",
    "param_grid = {'p': [1,2], 'n_neighbors': range(1,11)}\n",
    "grid_search_result = tune_hyperparameter(knn, param_grid, X_train, y_train)"
   ]
  },
  {
   "cell_type": "code",
   "execution_count": null,
   "metadata": {
    "collapsed": true
   },
   "outputs": [],
   "source": [
    "grid_search_result\n",
    "# p=2 (euclidean distance) is generally better\n",
    "# larger k models prefers label 4.0 and hence results in higher accuracy due to data imbalance"
   ]
  },
  {
   "cell_type": "code",
   "execution_count": 117,
   "metadata": {
    "collapsed": true
   },
   "outputs": [
    {
     "name": "stdout",
     "output_type": "stream",
     "text": [
      "Evaluate on training set:\n",
      "\n",
      "KNeighborsClassifier prediction took 9.68991994857788 seconds\n",
      "    test_3.0_f1-score  test_4.0_f1-score  test_5.0_f1-score  test_accuracy\n",
      "0            0.230047           0.741065           0.122449       0.606717\n",
      "1            0.247086           0.745812           0.045455       0.613218\n",
      "2            0.209366           0.779708           0.136364       0.652221\n",
      "3            0.270784           0.750182           0.153846       0.624052\n",
      "4            0.186667           0.764706           0.046512       0.630553\n",
      "5            0.257426           0.763819           0.122449       0.635970\n",
      "6            0.168865           0.754584           0.122449       0.617551\n",
      "7            0.225420           0.748191           0.255319       0.617551\n",
      "8            0.278960           0.759071           0.044444       0.631636\n",
      "9            0.221154           0.751262           0.093023       0.616468\n",
      "10           0.228117           0.779733           0.173913       0.651844\n",
      "11           0.222812           0.776999           0.097561       0.648590\n",
      "12           0.257426           0.770445           0.217391       0.644252\n",
      "13           0.125000           0.777322           0.090909       0.642082\n",
      "14           0.197183           0.778933           0.217391       0.652928\n",
      "15           0.156757           0.763103           0.093023       0.625813\n",
      "16           0.211957           0.779330           0.181818       0.651844\n",
      "17           0.296984           0.758772           0.177778       0.636659\n",
      "18           0.207792           0.767376           0.204082       0.635575\n",
      "19           0.225564           0.763610           0.285714       0.634490\n",
      "test_3.0_f1-score    0.221268\n",
      "test_4.0_f1-score    0.763701\n",
      "test_5.0_f1-score    0.144095\n",
      "test_accuracy        0.633501\n",
      "dtype: float64\n",
      "\n",
      "\n",
      "Evaluate on validation set:\n",
      "\n"
     ]
    },
    {
     "data": {
      "image/png": "[encoded data removed]",
      "text/plain": [
       "<Figure size 432x288 with 2 Axes>"
      ]
     },
     "metadata": {
      "needs_background": "light"
     },
     "output_type": "display_data"
    },
    {
     "name": "stdout",
     "output_type": "stream",
     "text": [
      "              precision    recall  f1-score   support\n",
      "\n",
      "         3.0       0.26      0.23      0.24      1153\n",
      "         4.0       0.71      0.79      0.75      3260\n",
      "         5.0       0.35      0.06      0.10       200\n",
      "\n",
      "    accuracy                           0.61      4613\n",
      "   macro avg       0.44      0.36      0.36      4613\n",
      "weighted avg       0.59      0.61      0.59      4613\n",
      "\n"
     ]
    },
    {
     "data": {
      "text/plain": [
       "array([3., 4., 3., ..., 4., 3., 3.])"
      ]
     },
     "execution_count": 117,
     "metadata": {},
     "output_type": "execute_result"
    }
   ],
   "source": [
    "knn = KNeighborsClassifier(n_neighbors=5, weights='distance')\n",
    "validate_and_test(knn, X_train, y_train, X_val, y_val)"
   ]
  },
  {
   "cell_type": "markdown",
   "metadata": {},
   "source": [
    "## Decision Tree"
   ]
  },
  {
   "cell_type": "code",
   "execution_count": null,
   "metadata": {
    "collapsed": true
   },
   "outputs": [],
   "source": [
    "from sklearn.tree import DecisionTreeClassifier"
   ]
  },
  {
   "cell_type": "code",
   "execution_count": null,
   "metadata": {
    "collapsed": true
   },
   "outputs": [],
   "source": [
    "# tune hyperparameter max_depth\n",
    "dtc = DecisionTreeClassifier(random_state = 30027)\n",
    "param_grid = {'max_depth': range(2,21)}\n",
    "grid_search_result = tune_hyperparameter(dtc, param_grid, X_train, y_train)"
   ]
  },
  {
   "cell_type": "code",
   "execution_count": null,
   "metadata": {
    "collapsed": true
   },
   "outputs": [],
   "source": [
    "grid_search_result\n",
    "# smaller depth converge towards 0R and prefers 4.0 label"
   ]
  },
  {
   "cell_type": "code",
   "execution_count": 116,
   "metadata": {
    "collapsed": true
   },
   "outputs": [
    {
     "name": "stdout",
     "output_type": "stream",
     "text": [
      "Evaluate on training set:\n",
      "\n",
      "DecisionTreeClassifier prediction took 1.367140769958496 seconds\n",
      "    test_3.0_f1-score  test_4.0_f1-score  test_5.0_f1-score  test_accuracy\n",
      "0            0.053030           0.812256           0.166667       0.686891\n",
      "1            0.037594           0.808068           0.000000       0.678223\n",
      "2            0.057554           0.806303           0.133333       0.677140\n",
      "3            0.081181           0.812827           0.170213       0.689057\n",
      "4            0.037175           0.805737           0.046512       0.676056\n",
      "5            0.061776           0.817414           0.125000       0.693391\n",
      "6            0.022222           0.805501           0.204082       0.674973\n",
      "7            0.049645           0.800792           0.250000       0.671723\n",
      "8            0.057762           0.805774           0.088889       0.676056\n",
      "9            0.051282           0.805229           0.093023       0.677140\n",
      "10           0.052434           0.814090           0.136364       0.687636\n",
      "11           0.079710           0.813360           0.097561       0.687636\n",
      "12           0.074906           0.814912           0.166667       0.690889\n",
      "13           0.023256           0.811162           0.133333       0.684382\n",
      "14           0.067164           0.810740           0.204082       0.686551\n",
      "15           0.037175           0.809399           0.093023       0.680043\n",
      "16           0.068441           0.817176           0.181818       0.695228\n",
      "17           0.081481           0.815445           0.217391       0.693059\n",
      "18           0.074627           0.812582           0.200000       0.688720\n",
      "19           0.038168           0.815927           0.240000       0.689805\n",
      "test_3.0_f1-score    0.055329\n",
      "test_4.0_f1-score    0.810735\n",
      "test_5.0_f1-score    0.147398\n",
      "test_accuracy        0.684230\n",
      "dtype: float64\n",
      "\n",
      "\n",
      "Evaluate on validation set:\n",
      "\n"
     ]
    },
    {
     "data": {
      "image/png": "[encoded data removed]",
      "text/plain": [
       "<Figure size 432x288 with 2 Axes>"
      ]
     },
     "metadata": {
      "needs_background": "light"
     },
     "output_type": "display_data"
    },
    {
     "name": "stdout",
     "output_type": "stream",
     "text": [
      "              precision    recall  f1-score   support\n",
      "\n",
      "         3.0       0.17      0.02      0.04      1153\n",
      "         4.0       0.71      0.96      0.81      3260\n",
      "         5.0       0.37      0.06      0.10       200\n",
      "\n",
      "    accuracy                           0.69      4613\n",
      "   macro avg       0.41      0.35      0.32      4613\n",
      "weighted avg       0.56      0.69      0.59      4613\n",
      "\n"
     ]
    },
    {
     "data": {
      "text/plain": [
       "array([4., 4., 4., ..., 4., 4., 4.])"
      ]
     },
     "execution_count": 116,
     "metadata": {},
     "output_type": "execute_result"
    }
   ],
   "source": [
    "dtc = DecisionTreeClassifier(max_depth=20, random_state = 30027)\n",
    "validate_and_test(dtc, X_train, y_train, X_val, y_val)"
   ]
  },
  {
   "cell_type": "markdown",
   "metadata": {},
   "source": [
    "## Logistic Regression"
   ]
  },
  {
   "cell_type": "code",
   "execution_count": 138,
   "metadata": {
    "collapsed": true
   },
   "outputs": [],
   "source": [
    "# doc2vec\n",
    "DESCRIPTION_TRAIN_SET = './preprocessed_data/doc2Vec/train_Description_2grams_doc2vec.csv'\n",
    "NAME_TRAIN_SET = './preprocessed_data/doc2Vec/train_Name_2grams_doc2vec.csv'\n",
    "NUMERICAL_TRAIN_SET = './preprocessed_data/train_numerical.npz'\n",
    "\n",
    "DESCRIPTION_TEST_SET = './preprocessed_data/doc2Vec/test_Description_2grams_doc2vec.csv'\n",
    "NAME_TEST_SET = './preprocessed_data/doc2Vec/test_Name_2grams_doc2vec.csv'\n",
    "NUMERICAL_TEST_SET = './preprocessed_data/test_numerical.npz'\n",
    "FILE_TYPE = 'csv'"
   ]
  },
  {
   "cell_type": "code",
   "execution_count": 139,
   "metadata": {
    "collapsed": true
   },
   "outputs": [
    {
     "data": {
      "text/plain": [
       "(23063, 24530)"
      ]
     },
     "execution_count": 139,
     "metadata": {},
     "output_type": "execute_result"
    }
   ],
   "source": [
    "X_full_train = transform_to_matrix(DESCRIPTION_TRAIN_SET, NAME_TRAIN_SET, NUMERICAL_TRAIN_SET, file_type=FILE_TYPE, dimensionality_reduction=False)\n",
    "#X_test = transform_to_matrix(DESCRIPTION_TEST_SET, NAME_TEST_SET, NUMERICAL_TEST_SET, file_type=FILE_TYPE)\n",
    "X_full_train.shape"
   ]
  },
  {
   "cell_type": "code",
   "execution_count": 159,
   "metadata": {},
   "outputs": [],
   "source": [
    "# Split training set into training and validation set\n",
    "X_train, X_val, y_train, y_val = train_test_split(X_full_train, y_full_train, train_size=0.8, random_state=30027)"
   ]
  },
  {
   "cell_type": "code",
   "execution_count": 156,
   "metadata": {},
   "outputs": [
    {
     "name": "stdout",
     "output_type": "stream",
     "text": [
      "Evaluate on training set:\n",
      "\n",
      "LogisticRegression prediction took 225.6245560646057 seconds\n",
      "    test_3.0_f1-score  test_4.0_f1-score  test_5.0_f1-score  test_accuracy\n",
      "0            0.267559           0.829561           0.133333       0.721560\n",
      "1            0.284768           0.829787           0.000000       0.722644\n",
      "2            0.307190           0.835901           0.297872       0.734561\n",
      "3            0.314465           0.828051           0.133333       0.722644\n",
      "4            0.288591           0.833777           0.090909       0.728061\n",
      "5            0.288591           0.835662           0.222222       0.732394\n",
      "6            0.380645           0.847957           0.139535       0.752979\n",
      "7            0.293333           0.837675           0.367347       0.736728\n",
      "8            0.317881           0.838667           0.181818       0.737811\n",
      "9            0.328173           0.830520           0.095238       0.725894\n",
      "10           0.351438           0.839490           0.142857       0.740781\n",
      "11           0.199313           0.823841           0.186047       0.710412\n",
      "12           0.326797           0.839920           0.266667       0.740781\n",
      "13           0.288462           0.826846           0.142857       0.720174\n",
      "14           0.321311           0.838796           0.181818       0.737527\n",
      "15           0.292208           0.829987           0.142857       0.724512\n",
      "16           0.284746           0.836098           0.142857       0.732104\n",
      "17           0.261745           0.832778           0.266667       0.726681\n",
      "18           0.350318           0.838493           0.181818       0.739696\n",
      "19           0.315789           0.839142           0.333333       0.739696\n",
      "test_3.0_f1-score    0.303166\n",
      "test_4.0_f1-score    0.834647\n",
      "test_5.0_f1-score    0.182469\n",
      "test_accuracy        0.731382\n",
      "dtype: float64\n",
      "\n",
      "\n",
      "Evaluate on validation set:\n",
      "\n"
     ]
    },
    {
     "data": {
      "image/png": "[encoded data removed]",
      "text/plain": [
       "<Figure size 432x288 with 2 Axes>"
      ]
     },
     "metadata": {
      "needs_background": "light"
     },
     "output_type": "display_data"
    },
    {
     "name": "stdout",
     "output_type": "stream",
     "text": [
      "              precision    recall  f1-score   support\n",
      "\n",
      "         3.0       0.63      0.19      0.30      1153\n",
      "         4.0       0.74      0.96      0.83      3260\n",
      "         5.0       0.61      0.07      0.13       200\n",
      "\n",
      "    accuracy                           0.73      4613\n",
      "   macro avg       0.66      0.41      0.42      4613\n",
      "weighted avg       0.71      0.73      0.67      4613\n",
      "\n"
     ]
    },
    {
     "data": {
      "text/plain": [
       "array([4., 4., 4., ..., 4., 4., 4.])"
      ]
     },
     "execution_count": 156,
     "metadata": {},
     "output_type": "execute_result"
    }
   ],
   "source": [
    "from sklearn.linear_model import LogisticRegression\n",
    "# using full feature set\n",
    "logr = LogisticRegression()\n",
    "validate_and_test(logr, X_train, y_train, X_val, y_val)"
   ]
  },
  {
   "cell_type": "code",
   "execution_count": 166,
   "metadata": {},
   "outputs": [
    {
     "name": "stdout",
     "output_type": "stream",
     "text": [
      "(18450, 100)\n",
      "(4613, 100)\n"
     ]
    }
   ],
   "source": [
    "# Feature selection\n",
    "selector = SelectKBest(k=100)\n",
    "selector.fit(X_train, y_train)\n",
    "X_train_reduced = selector.transform(X_train)\n",
    "X_val_reduced = selector.transform(X_val)\n",
    "print(X_train_reduced.shape)\n",
    "print(X_val_reduced.shape)"
   ]
  },
  {
   "cell_type": "code",
   "execution_count": 167,
   "metadata": {},
   "outputs": [
    {
     "name": "stdout",
     "output_type": "stream",
     "text": [
      "Evaluate on training set:\n",
      "\n",
      "LogisticRegression prediction took 6.984812021255493 seconds\n",
      "    test_3.0_f1-score  test_4.0_f1-score  test_5.0_f1-score  test_accuracy\n",
      "0            0.000000           0.825559           0.177778       0.704225\n",
      "1            0.008439           0.825255           0.048780       0.703142\n",
      "2            0.033333           0.828956           0.222222       0.710726\n",
      "3            0.016807           0.826087           0.136364       0.705309\n",
      "4            0.016807           0.824808           0.090909       0.703142\n",
      "5            0.016736           0.825336           0.136364       0.704225\n",
      "6            0.008439           0.825032           0.093023       0.703142\n",
      "7            0.008439           0.828425           0.297872       0.709642\n",
      "8            0.000000           0.825032           0.136364       0.703142\n",
      "9            0.016807           0.826309           0.095238       0.705309\n",
      "10           0.016807           0.826615           0.139535       0.706074\n",
      "11           0.000000           0.827586           0.186047       0.707158\n",
      "12           0.016878           0.828205           0.255319       0.709328\n",
      "13           0.000000           0.827058           0.142857       0.706074\n",
      "14           0.041667           0.829706           0.142857       0.711497\n",
      "15           0.000000           0.826531           0.097561       0.704989\n",
      "16           0.016807           0.827366           0.142857       0.707158\n",
      "17           0.016878           0.828645           0.186047       0.709328\n",
      "18           0.008439           0.825864           0.177778       0.704989\n",
      "19           0.041667           0.830552           0.260870       0.713666\n",
      "test_3.0_f1-score    0.014247\n",
      "test_4.0_f1-score    0.826946\n",
      "test_5.0_f1-score    0.158332\n",
      "test_accuracy        0.706613\n",
      "dtype: float64\n",
      "\n",
      "\n",
      "Evaluate on validation set:\n",
      "\n"
     ]
    },
    {
     "data": {
      "image/png": "[encoded data removed]",
      "text/plain": [
       "<Figure size 432x288 with 2 Axes>"
      ]
     },
     "metadata": {
      "needs_background": "light"
     },
     "output_type": "display_data"
    },
    {
     "name": "stdout",
     "output_type": "stream",
     "text": [
      "              precision    recall  f1-score   support\n",
      "\n",
      "         3.0       0.90      0.01      0.02      1153\n",
      "         4.0       0.71      1.00      0.83      3260\n",
      "         5.0       0.58      0.06      0.10       200\n",
      "\n",
      "    accuracy                           0.71      4613\n",
      "   macro avg       0.73      0.35      0.32      4613\n",
      "weighted avg       0.75      0.71      0.59      4613\n",
      "\n"
     ]
    },
    {
     "data": {
      "text/plain": [
       "array([4., 4., 4., ..., 4., 4., 4.])"
      ]
     },
     "execution_count": 167,
     "metadata": {},
     "output_type": "execute_result"
    }
   ],
   "source": [
    "# using reduced feature set\n",
    "validate_and_test(logr, X_train_reduced, y_train, X_val_reduced, y_val)\n",
    "\n"
   ]
  },
  {
   "cell_type": "code",
   "execution_count": 122,
   "metadata": {
    "collapsed": true
   },
   "outputs": [
    {
     "ename": "ValueError",
     "evalue": "The loss log_loss is not supported. ",
     "output_type": "error",
     "traceback": [
      "\u001b[0;31m---------------------------------------------------------------------------\u001b[0m",
      "\u001b[0;31mValueError\u001b[0m                                Traceback (most recent call last)",
      "\u001b[0;32m<ipython-input-122-7362ce68010a>\u001b[0m in \u001b[0;36m<module>\u001b[0;34m\u001b[0m\n\u001b[1;32m      6\u001b[0m \u001b[0;31m# eta0=0.0000001 -> low variance, capped at 0.698\u001b[0m\u001b[0;34m\u001b[0m\u001b[0;34m\u001b[0m\u001b[0;34m\u001b[0m\u001b[0m\n\u001b[1;32m      7\u001b[0m \u001b[0;31m# eta0=0.001 -> high variance, occasionally reached 0.7\u001b[0m\u001b[0;34m\u001b[0m\u001b[0;34m\u001b[0m\u001b[0;34m\u001b[0m\u001b[0m\n\u001b[0;32m----> 8\u001b[0;31m \u001b[0mlogr_sgd\u001b[0m \u001b[0;34m=\u001b[0m \u001b[0mSGDClassifier\u001b[0m\u001b[0;34m(\u001b[0m\u001b[0mloss\u001b[0m\u001b[0;34m=\u001b[0m\u001b[0;34m'log_loss'\u001b[0m\u001b[0;34m,\u001b[0m \u001b[0mlearning_rate\u001b[0m\u001b[0;34m=\u001b[0m\u001b[0;34m'adaptive'\u001b[0m\u001b[0;34m,\u001b[0m \u001b[0meta0\u001b[0m\u001b[0;34m=\u001b[0m\u001b[0;36m0.0000001\u001b[0m\u001b[0;34m)\u001b[0m\u001b[0;34m\u001b[0m\u001b[0;34m\u001b[0m\u001b[0m\n\u001b[0m\u001b[1;32m      9\u001b[0m \u001b[0mvalidate_and_test\u001b[0m\u001b[0;34m(\u001b[0m\u001b[0mlogr_sgd\u001b[0m\u001b[0;34m,\u001b[0m \u001b[0mX_train\u001b[0m\u001b[0;34m,\u001b[0m \u001b[0my_train\u001b[0m\u001b[0;34m,\u001b[0m \u001b[0mX_val\u001b[0m\u001b[0;34m,\u001b[0m \u001b[0my_val\u001b[0m\u001b[0;34m)\u001b[0m\u001b[0;34m\u001b[0m\u001b[0;34m\u001b[0m\u001b[0m\n",
      "\u001b[0;32m/Library/anaconda3/lib/python3.8/site-packages/sklearn/utils/validation.py\u001b[0m in \u001b[0;36minner_f\u001b[0;34m(*args, **kwargs)\u001b[0m\n\u001b[1;32m     61\u001b[0m             \u001b[0mextra_args\u001b[0m \u001b[0;34m=\u001b[0m \u001b[0mlen\u001b[0m\u001b[0;34m(\u001b[0m\u001b[0margs\u001b[0m\u001b[0;34m)\u001b[0m \u001b[0;34m-\u001b[0m \u001b[0mlen\u001b[0m\u001b[0;34m(\u001b[0m\u001b[0mall_args\u001b[0m\u001b[0;34m)\u001b[0m\u001b[0;34m\u001b[0m\u001b[0;34m\u001b[0m\u001b[0m\n\u001b[1;32m     62\u001b[0m             \u001b[0;32mif\u001b[0m \u001b[0mextra_args\u001b[0m \u001b[0;34m<=\u001b[0m \u001b[0;36m0\u001b[0m\u001b[0;34m:\u001b[0m\u001b[0;34m\u001b[0m\u001b[0;34m\u001b[0m\u001b[0m\n\u001b[0;32m---> 63\u001b[0;31m                 \u001b[0;32mreturn\u001b[0m \u001b[0mf\u001b[0m\u001b[0;34m(\u001b[0m\u001b[0;34m*\u001b[0m\u001b[0margs\u001b[0m\u001b[0;34m,\u001b[0m \u001b[0;34m**\u001b[0m\u001b[0mkwargs\u001b[0m\u001b[0;34m)\u001b[0m\u001b[0;34m\u001b[0m\u001b[0;34m\u001b[0m\u001b[0m\n\u001b[0m\u001b[1;32m     64\u001b[0m \u001b[0;34m\u001b[0m\u001b[0m\n\u001b[1;32m     65\u001b[0m             \u001b[0;31m# extra_args > 0\u001b[0m\u001b[0;34m\u001b[0m\u001b[0;34m\u001b[0m\u001b[0;34m\u001b[0m\u001b[0m\n",
      "\u001b[0;32m/Library/anaconda3/lib/python3.8/site-packages/sklearn/linear_model/_stochastic_gradient.py\u001b[0m in \u001b[0;36m__init__\u001b[0;34m(self, loss, penalty, alpha, l1_ratio, fit_intercept, max_iter, tol, shuffle, verbose, epsilon, n_jobs, random_state, learning_rate, eta0, power_t, early_stopping, validation_fraction, n_iter_no_change, class_weight, warm_start, average)\u001b[0m\n\u001b[1;32m    973\u001b[0m                  \u001b[0mn_iter_no_change\u001b[0m\u001b[0;34m=\u001b[0m\u001b[0;36m5\u001b[0m\u001b[0;34m,\u001b[0m \u001b[0mclass_weight\u001b[0m\u001b[0;34m=\u001b[0m\u001b[0;32mNone\u001b[0m\u001b[0;34m,\u001b[0m \u001b[0mwarm_start\u001b[0m\u001b[0;34m=\u001b[0m\u001b[0;32mFalse\u001b[0m\u001b[0;34m,\u001b[0m\u001b[0;34m\u001b[0m\u001b[0;34m\u001b[0m\u001b[0m\n\u001b[1;32m    974\u001b[0m                  average=False):\n\u001b[0;32m--> 975\u001b[0;31m         super().__init__(\n\u001b[0m\u001b[1;32m    976\u001b[0m             \u001b[0mloss\u001b[0m\u001b[0;34m=\u001b[0m\u001b[0mloss\u001b[0m\u001b[0;34m,\u001b[0m \u001b[0mpenalty\u001b[0m\u001b[0;34m=\u001b[0m\u001b[0mpenalty\u001b[0m\u001b[0;34m,\u001b[0m \u001b[0malpha\u001b[0m\u001b[0;34m=\u001b[0m\u001b[0malpha\u001b[0m\u001b[0;34m,\u001b[0m \u001b[0ml1_ratio\u001b[0m\u001b[0;34m=\u001b[0m\u001b[0ml1_ratio\u001b[0m\u001b[0;34m,\u001b[0m\u001b[0;34m\u001b[0m\u001b[0;34m\u001b[0m\u001b[0m\n\u001b[1;32m    977\u001b[0m             \u001b[0mfit_intercept\u001b[0m\u001b[0;34m=\u001b[0m\u001b[0mfit_intercept\u001b[0m\u001b[0;34m,\u001b[0m \u001b[0mmax_iter\u001b[0m\u001b[0;34m=\u001b[0m\u001b[0mmax_iter\u001b[0m\u001b[0;34m,\u001b[0m \u001b[0mtol\u001b[0m\u001b[0;34m=\u001b[0m\u001b[0mtol\u001b[0m\u001b[0;34m,\u001b[0m\u001b[0;34m\u001b[0m\u001b[0;34m\u001b[0m\u001b[0m\n",
      "\u001b[0;32m/Library/anaconda3/lib/python3.8/site-packages/sklearn/utils/validation.py\u001b[0m in \u001b[0;36minner_f\u001b[0;34m(*args, **kwargs)\u001b[0m\n\u001b[1;32m     61\u001b[0m             \u001b[0mextra_args\u001b[0m \u001b[0;34m=\u001b[0m \u001b[0mlen\u001b[0m\u001b[0;34m(\u001b[0m\u001b[0margs\u001b[0m\u001b[0;34m)\u001b[0m \u001b[0;34m-\u001b[0m \u001b[0mlen\u001b[0m\u001b[0;34m(\u001b[0m\u001b[0mall_args\u001b[0m\u001b[0;34m)\u001b[0m\u001b[0;34m\u001b[0m\u001b[0;34m\u001b[0m\u001b[0m\n\u001b[1;32m     62\u001b[0m             \u001b[0;32mif\u001b[0m \u001b[0mextra_args\u001b[0m \u001b[0;34m<=\u001b[0m \u001b[0;36m0\u001b[0m\u001b[0;34m:\u001b[0m\u001b[0;34m\u001b[0m\u001b[0;34m\u001b[0m\u001b[0m\n\u001b[0;32m---> 63\u001b[0;31m                 \u001b[0;32mreturn\u001b[0m \u001b[0mf\u001b[0m\u001b[0;34m(\u001b[0m\u001b[0;34m*\u001b[0m\u001b[0margs\u001b[0m\u001b[0;34m,\u001b[0m \u001b[0;34m**\u001b[0m\u001b[0mkwargs\u001b[0m\u001b[0;34m)\u001b[0m\u001b[0;34m\u001b[0m\u001b[0;34m\u001b[0m\u001b[0m\n\u001b[0m\u001b[1;32m     64\u001b[0m \u001b[0;34m\u001b[0m\u001b[0m\n\u001b[1;32m     65\u001b[0m             \u001b[0;31m# extra_args > 0\u001b[0m\u001b[0;34m\u001b[0m\u001b[0;34m\u001b[0m\u001b[0;34m\u001b[0m\u001b[0m\n",
      "\u001b[0;32m/Library/anaconda3/lib/python3.8/site-packages/sklearn/linear_model/_stochastic_gradient.py\u001b[0m in \u001b[0;36m__init__\u001b[0;34m(self, loss, penalty, alpha, l1_ratio, fit_intercept, max_iter, tol, shuffle, verbose, epsilon, n_jobs, random_state, learning_rate, eta0, power_t, early_stopping, validation_fraction, n_iter_no_change, class_weight, warm_start, average)\u001b[0m\n\u001b[1;32m    476\u001b[0m                  class_weight=None, warm_start=False, average=False):\n\u001b[1;32m    477\u001b[0m \u001b[0;34m\u001b[0m\u001b[0m\n\u001b[0;32m--> 478\u001b[0;31m         super().__init__(\n\u001b[0m\u001b[1;32m    479\u001b[0m             \u001b[0mloss\u001b[0m\u001b[0;34m=\u001b[0m\u001b[0mloss\u001b[0m\u001b[0;34m,\u001b[0m \u001b[0mpenalty\u001b[0m\u001b[0;34m=\u001b[0m\u001b[0mpenalty\u001b[0m\u001b[0;34m,\u001b[0m \u001b[0malpha\u001b[0m\u001b[0;34m=\u001b[0m\u001b[0malpha\u001b[0m\u001b[0;34m,\u001b[0m \u001b[0ml1_ratio\u001b[0m\u001b[0;34m=\u001b[0m\u001b[0ml1_ratio\u001b[0m\u001b[0;34m,\u001b[0m\u001b[0;34m\u001b[0m\u001b[0;34m\u001b[0m\u001b[0m\n\u001b[1;32m    480\u001b[0m             \u001b[0mfit_intercept\u001b[0m\u001b[0;34m=\u001b[0m\u001b[0mfit_intercept\u001b[0m\u001b[0;34m,\u001b[0m \u001b[0mmax_iter\u001b[0m\u001b[0;34m=\u001b[0m\u001b[0mmax_iter\u001b[0m\u001b[0;34m,\u001b[0m \u001b[0mtol\u001b[0m\u001b[0;34m=\u001b[0m\u001b[0mtol\u001b[0m\u001b[0;34m,\u001b[0m\u001b[0;34m\u001b[0m\u001b[0;34m\u001b[0m\u001b[0m\n",
      "\u001b[0;32m/Library/anaconda3/lib/python3.8/site-packages/sklearn/utils/validation.py\u001b[0m in \u001b[0;36minner_f\u001b[0;34m(*args, **kwargs)\u001b[0m\n\u001b[1;32m     61\u001b[0m             \u001b[0mextra_args\u001b[0m \u001b[0;34m=\u001b[0m \u001b[0mlen\u001b[0m\u001b[0;34m(\u001b[0m\u001b[0margs\u001b[0m\u001b[0;34m)\u001b[0m \u001b[0;34m-\u001b[0m \u001b[0mlen\u001b[0m\u001b[0;34m(\u001b[0m\u001b[0mall_args\u001b[0m\u001b[0;34m)\u001b[0m\u001b[0;34m\u001b[0m\u001b[0;34m\u001b[0m\u001b[0m\n\u001b[1;32m     62\u001b[0m             \u001b[0;32mif\u001b[0m \u001b[0mextra_args\u001b[0m \u001b[0;34m<=\u001b[0m \u001b[0;36m0\u001b[0m\u001b[0;34m:\u001b[0m\u001b[0;34m\u001b[0m\u001b[0;34m\u001b[0m\u001b[0m\n\u001b[0;32m---> 63\u001b[0;31m                 \u001b[0;32mreturn\u001b[0m \u001b[0mf\u001b[0m\u001b[0;34m(\u001b[0m\u001b[0;34m*\u001b[0m\u001b[0margs\u001b[0m\u001b[0;34m,\u001b[0m \u001b[0;34m**\u001b[0m\u001b[0mkwargs\u001b[0m\u001b[0;34m)\u001b[0m\u001b[0;34m\u001b[0m\u001b[0;34m\u001b[0m\u001b[0m\n\u001b[0m\u001b[1;32m     64\u001b[0m \u001b[0;34m\u001b[0m\u001b[0m\n\u001b[1;32m     65\u001b[0m             \u001b[0;31m# extra_args > 0\u001b[0m\u001b[0;34m\u001b[0m\u001b[0;34m\u001b[0m\u001b[0;34m\u001b[0m\u001b[0m\n",
      "\u001b[0;32m/Library/anaconda3/lib/python3.8/site-packages/sklearn/linear_model/_stochastic_gradient.py\u001b[0m in \u001b[0;36m__init__\u001b[0;34m(self, loss, penalty, alpha, C, l1_ratio, fit_intercept, max_iter, tol, shuffle, verbose, epsilon, random_state, learning_rate, eta0, power_t, early_stopping, validation_fraction, n_iter_no_change, warm_start, average)\u001b[0m\n\u001b[1;32m    100\u001b[0m         \u001b[0;31m# current tests expect init to do parameter validation\u001b[0m\u001b[0;34m\u001b[0m\u001b[0;34m\u001b[0m\u001b[0;34m\u001b[0m\u001b[0m\n\u001b[1;32m    101\u001b[0m         \u001b[0;31m# but we are not allowed to set attributes\u001b[0m\u001b[0;34m\u001b[0m\u001b[0;34m\u001b[0m\u001b[0;34m\u001b[0m\u001b[0m\n\u001b[0;32m--> 102\u001b[0;31m         \u001b[0mself\u001b[0m\u001b[0;34m.\u001b[0m\u001b[0m_validate_params\u001b[0m\u001b[0;34m(\u001b[0m\u001b[0;34m)\u001b[0m\u001b[0;34m\u001b[0m\u001b[0;34m\u001b[0m\u001b[0m\n\u001b[0m\u001b[1;32m    103\u001b[0m \u001b[0;34m\u001b[0m\u001b[0m\n\u001b[1;32m    104\u001b[0m     \u001b[0;32mdef\u001b[0m \u001b[0mset_params\u001b[0m\u001b[0;34m(\u001b[0m\u001b[0mself\u001b[0m\u001b[0;34m,\u001b[0m \u001b[0;34m**\u001b[0m\u001b[0mkwargs\u001b[0m\u001b[0;34m)\u001b[0m\u001b[0;34m:\u001b[0m\u001b[0;34m\u001b[0m\u001b[0;34m\u001b[0m\u001b[0m\n",
      "\u001b[0;32m/Library/anaconda3/lib/python3.8/site-packages/sklearn/linear_model/_stochastic_gradient.py\u001b[0m in \u001b[0;36m_validate_params\u001b[0;34m(self, for_partial_fit)\u001b[0m\n\u001b[1;32m    154\u001b[0m \u001b[0;34m\u001b[0m\u001b[0m\n\u001b[1;32m    155\u001b[0m         \u001b[0;32mif\u001b[0m \u001b[0mself\u001b[0m\u001b[0;34m.\u001b[0m\u001b[0mloss\u001b[0m \u001b[0;32mnot\u001b[0m \u001b[0;32min\u001b[0m \u001b[0mself\u001b[0m\u001b[0;34m.\u001b[0m\u001b[0mloss_functions\u001b[0m\u001b[0;34m:\u001b[0m\u001b[0;34m\u001b[0m\u001b[0;34m\u001b[0m\u001b[0m\n\u001b[0;32m--> 156\u001b[0;31m             \u001b[0;32mraise\u001b[0m \u001b[0mValueError\u001b[0m\u001b[0;34m(\u001b[0m\u001b[0;34m\"The loss %s is not supported. \"\u001b[0m \u001b[0;34m%\u001b[0m \u001b[0mself\u001b[0m\u001b[0;34m.\u001b[0m\u001b[0mloss\u001b[0m\u001b[0;34m)\u001b[0m\u001b[0;34m\u001b[0m\u001b[0;34m\u001b[0m\u001b[0m\n\u001b[0m\u001b[1;32m    157\u001b[0m \u001b[0;34m\u001b[0m\u001b[0m\n\u001b[1;32m    158\u001b[0m     \u001b[0;32mdef\u001b[0m \u001b[0m_get_loss_function\u001b[0m\u001b[0;34m(\u001b[0m\u001b[0mself\u001b[0m\u001b[0;34m,\u001b[0m \u001b[0mloss\u001b[0m\u001b[0;34m)\u001b[0m\u001b[0;34m:\u001b[0m\u001b[0;34m\u001b[0m\u001b[0;34m\u001b[0m\u001b[0m\n",
      "\u001b[0;31mValueError\u001b[0m: The loss log_loss is not supported. "
     ]
    }
   ],
   "source": [
    "# Logistic regression using Stochastic Gradient Descent\n",
    "from sklearn.linear_model import SGDClassifier\n",
    "\n",
    "# learning_rate='optimal' -> validation accuracy = 0.535\n",
    "# probabilistic -> different accuracy each time\n",
    "# eta0=0.0000001 -> low variance, capped at 0.698\n",
    "# eta0=0.001 -> high variance, occasionally reached 0.7\n",
    "logr_sgd = SGDClassifier(loss='log_loss', learning_rate='adaptive', eta0=0.0000001)\n",
    "validate_and_test(logr_sgd, X_train, y_train, X_val, y_val)"
   ]
  },
  {
   "cell_type": "markdown",
   "metadata": {},
   "source": [
    "## Boosting"
   ]
  },
  {
   "cell_type": "code",
   "execution_count": 123,
   "metadata": {
    "collapsed": true
   },
   "outputs": [
    {
     "name": "stdout",
     "output_type": "stream",
     "text": [
      "Evaluate on training set:\n",
      "\n",
      "AdaBoostClassifier prediction took 13.508945941925049 seconds\n",
      "    test_3.0_f1-score  test_4.0_f1-score  test_5.0_f1-score  test_accuracy\n",
      "0            0.000000           0.822023           0.127660       0.698808\n",
      "1            0.000000           0.823980           0.047619       0.700975\n",
      "2            0.000000           0.825255           0.095238       0.703142\n",
      "3            0.000000           0.824281           0.136364       0.702059\n",
      "4            0.000000           0.823229           0.046512       0.699892\n",
      "5            0.000000           0.822023           0.125000       0.698808\n",
      "6            0.000000           0.823980           0.047619       0.700975\n",
      "7            0.000000           0.827366           0.217391       0.706392\n",
      "8            0.000000           0.820972           0.043478       0.696641\n",
      "9            0.000000           0.824204           0.000000       0.700975\n",
      "10           0.000000           0.824505           0.048780       0.701735\n",
      "11           0.000000           0.826531           0.048780       0.703905\n",
      "12           0.000000           0.827366           0.222222       0.707158\n",
      "13           0.000000           0.823755           0.047619       0.700651\n",
      "14           0.000000           0.827145           0.255319       0.707158\n",
      "15           0.000000           0.825255           0.050000       0.702820\n",
      "16           0.000000           0.826004           0.050000       0.703905\n",
      "17           0.008439           0.826087           0.139535       0.704989\n",
      "18           0.000000           0.826087           0.177778       0.704989\n",
      "19           0.008475           0.826087           0.136364       0.704989\n",
      "test_3.0_f1-score    0.000846\n",
      "test_4.0_f1-score    0.824807\n",
      "test_5.0_f1-score    0.103164\n",
      "test_accuracy        0.702548\n",
      "dtype: float64\n",
      "\n",
      "\n",
      "Evaluate on validation set:\n",
      "\n"
     ]
    },
    {
     "data": {
      "image/png": "[encoded data removed]",
      "text/plain": [
       "<Figure size 432x288 with 2 Axes>"
      ]
     },
     "metadata": {
      "needs_background": "light"
     },
     "output_type": "display_data"
    },
    {
     "name": "stdout",
     "output_type": "stream",
     "text": [
      "              precision    recall  f1-score   support\n",
      "\n",
      "         3.0       0.00      0.00      0.00      1153\n",
      "         4.0       0.71      0.99      0.83      3260\n",
      "         5.0       0.25      0.03      0.05       200\n",
      "\n",
      "    accuracy                           0.70      4613\n",
      "   macro avg       0.32      0.34      0.29      4613\n",
      "weighted avg       0.51      0.70      0.59      4613\n",
      "\n"
     ]
    },
    {
     "data": {
      "text/plain": [
       "array([4., 4., 4., ..., 4., 4., 4.])"
      ]
     },
     "execution_count": 123,
     "metadata": {},
     "output_type": "execute_result"
    }
   ],
   "source": [
    "from sklearn.ensemble import AdaBoostClassifier\n",
    "\n",
    "adab = AdaBoostClassifier(n_estimators=100, random_state=30027)\n",
    "validate_and_test(adab, X_train, y_train, X_val, y_val)"
   ]
  },
  {
   "cell_type": "markdown",
   "metadata": {},
   "source": [
    "## Random Forest"
   ]
  },
  {
   "cell_type": "code",
   "execution_count": 124,
   "metadata": {
    "collapsed": true
   },
   "outputs": [
    {
     "name": "stdout",
     "output_type": "stream",
     "text": [
      "Evaluate on training set:\n",
      "\n",
      "RandomForestClassifier prediction took 7.203554153442383 seconds\n",
      "    test_3.0_f1-score  test_4.0_f1-score  test_5.0_f1-score  test_accuracy\n",
      "0                 0.0           0.824204           0.000000       0.700975\n",
      "1                 0.0           0.824204           0.000000       0.700975\n",
      "2                 0.0           0.824204           0.000000       0.700975\n",
      "3                 0.0           0.824729           0.048780       0.702059\n",
      "4                 0.0           0.824204           0.000000       0.700975\n",
      "5                 0.0           0.824204           0.000000       0.700975\n",
      "6                 0.0           0.824729           0.048780       0.702059\n",
      "7                 0.0           0.824729           0.048780       0.702059\n",
      "8                 0.0           0.824204           0.000000       0.700975\n",
      "9                 0.0           0.825255           0.095238       0.703142\n",
      "10                0.0           0.825782           0.097561       0.703905\n",
      "11                0.0           0.826531           0.097561       0.704989\n",
      "12                0.0           0.825478           0.000000       0.702820\n",
      "13                0.0           0.825478           0.000000       0.702820\n",
      "14                0.0           0.825478           0.000000       0.702820\n",
      "15                0.0           0.826004           0.050000       0.703905\n",
      "16                0.0           0.826004           0.050000       0.703905\n",
      "17                0.0           0.825478           0.000000       0.702820\n",
      "18                0.0           0.826004           0.050000       0.703905\n",
      "19                0.0           0.825255           0.048780       0.702820\n",
      "test_3.0_f1-score    0.000000\n",
      "test_4.0_f1-score    0.825108\n",
      "test_5.0_f1-score    0.031774\n",
      "test_accuracy        0.702494\n",
      "dtype: float64\n",
      "\n",
      "\n",
      "Evaluate on validation set:\n",
      "\n"
     ]
    },
    {
     "data": {
      "image/png": "[encoded data removed]",
      "text/plain": [
       "<Figure size 432x288 with 2 Axes>"
      ]
     },
     "metadata": {
      "needs_background": "light"
     },
     "output_type": "display_data"
    },
    {
     "name": "stdout",
     "output_type": "stream",
     "text": [
      "              precision    recall  f1-score   support\n",
      "\n",
      "         3.0       0.00      0.00      0.00      1153\n",
      "         4.0       0.71      1.00      0.83      3260\n",
      "         5.0       0.00      0.00      0.00       200\n",
      "\n",
      "    accuracy                           0.71      4613\n",
      "   macro avg       0.24      0.33      0.28      4613\n",
      "weighted avg       0.50      0.71      0.59      4613\n",
      "\n"
     ]
    },
    {
     "data": {
      "text/plain": [
       "array([4., 4., 4., ..., 4., 4., 4.])"
      ]
     },
     "execution_count": 124,
     "metadata": {},
     "output_type": "execute_result"
    }
   ],
   "source": [
    "from sklearn.ensemble import RandomForestClassifier\n",
    "\n",
    "rf = RandomForestClassifier(max_depth=2, random_state=30027)\n",
    "validate_and_test(rf, X_train, y_train, X_val, y_val)"
   ]
  },
  {
   "cell_type": "markdown",
   "metadata": {},
   "source": [
    "## Stacking Classifier"
   ]
  },
  {
   "cell_type": "code",
   "execution_count": 126,
   "metadata": {
    "collapsed": true
   },
   "outputs": [
    {
     "name": "stderr",
     "output_type": "stream",
     "text": [
      "[Parallel(n_jobs=1)]: Using backend SequentialBackend with 1 concurrent workers.\n",
      "[Parallel(n_jobs=1)]: Done   5 out of   5 | elapsed:    5.9s finished\n",
      "[Parallel(n_jobs=1)]: Using backend SequentialBackend with 1 concurrent workers.\n",
      "[Parallel(n_jobs=1)]: Done   5 out of   5 | elapsed:    0.1s finished\n",
      "[Parallel(n_jobs=1)]: Using backend SequentialBackend with 1 concurrent workers.\n",
      "[Parallel(n_jobs=1)]: Done   5 out of   5 | elapsed:   24.6s finished\n",
      "[Parallel(n_jobs=1)]: Using backend SequentialBackend with 1 concurrent workers.\n",
      "[Parallel(n_jobs=1)]: Done   5 out of   5 | elapsed:    9.6s finished\n",
      "[Parallel(n_jobs=1)]: Using backend SequentialBackend with 1 concurrent workers.\n",
      "[Parallel(n_jobs=1)]: Done   5 out of   5 | elapsed:    0.3s finished\n",
      "/Library/anaconda3/lib/python3.8/site-packages/sklearn/linear_model/_logistic.py:763: ConvergenceWarning: lbfgs failed to converge (status=1):\n",
      "STOP: TOTAL NO. of ITERATIONS REACHED LIMIT.\n",
      "\n",
      "Increase the number of iterations (max_iter) or scale the data as shown in:\n",
      "    https://scikit-learn.org/stable/modules/preprocessing.html\n",
      "Please also refer to the documentation for alternative solver options:\n",
      "    https://scikit-learn.org/stable/modules/linear_model.html#logistic-regression\n",
      "  n_iter_i = _check_optimize_result(\n"
     ]
    },
    {
     "name": "stdout",
     "output_type": "stream",
     "text": [
      "Evaluate on training set:\n",
      "\n"
     ]
    },
    {
     "name": "stderr",
     "output_type": "stream",
     "text": [
      "[Parallel(n_jobs=1)]: Using backend SequentialBackend with 1 concurrent workers.\n",
      "[Parallel(n_jobs=1)]: Done   5 out of   5 | elapsed:    5.2s finished\n",
      "[Parallel(n_jobs=1)]: Using backend SequentialBackend with 1 concurrent workers.\n",
      "[Parallel(n_jobs=1)]: Done   5 out of   5 | elapsed:    0.1s finished\n",
      "[Parallel(n_jobs=1)]: Using backend SequentialBackend with 1 concurrent workers.\n",
      "[Parallel(n_jobs=1)]: Done   5 out of   5 | elapsed:   21.3s finished\n",
      "[Parallel(n_jobs=1)]: Using backend SequentialBackend with 1 concurrent workers.\n",
      "[Parallel(n_jobs=1)]: Done   5 out of   5 | elapsed:    8.0s finished\n",
      "[Parallel(n_jobs=1)]: Using backend SequentialBackend with 1 concurrent workers.\n",
      "[Parallel(n_jobs=1)]: Done   5 out of   5 | elapsed:    0.2s finished\n",
      "/Library/anaconda3/lib/python3.8/site-packages/sklearn/linear_model/_logistic.py:763: ConvergenceWarning: lbfgs failed to converge (status=1):\n",
      "STOP: TOTAL NO. of ITERATIONS REACHED LIMIT.\n",
      "\n",
      "Increase the number of iterations (max_iter) or scale the data as shown in:\n",
      "    https://scikit-learn.org/stable/modules/preprocessing.html\n",
      "Please also refer to the documentation for alternative solver options:\n",
      "    https://scikit-learn.org/stable/modules/linear_model.html#logistic-regression\n",
      "  n_iter_i = _check_optimize_result(\n",
      "[Parallel(n_jobs=1)]: Using backend SequentialBackend with 1 concurrent workers.\n",
      "[Parallel(n_jobs=1)]: Done   5 out of   5 | elapsed:    5.2s finished\n",
      "[Parallel(n_jobs=1)]: Using backend SequentialBackend with 1 concurrent workers.\n",
      "[Parallel(n_jobs=1)]: Done   5 out of   5 | elapsed:    0.1s finished\n",
      "[Parallel(n_jobs=1)]: Using backend SequentialBackend with 1 concurrent workers.\n",
      "[Parallel(n_jobs=1)]: Done   5 out of   5 | elapsed:   20.8s finished\n",
      "[Parallel(n_jobs=1)]: Using backend SequentialBackend with 1 concurrent workers.\n",
      "[Parallel(n_jobs=1)]: Done   5 out of   5 | elapsed:    7.8s finished\n",
      "[Parallel(n_jobs=1)]: Using backend SequentialBackend with 1 concurrent workers.\n",
      "[Parallel(n_jobs=1)]: Done   5 out of   5 | elapsed:    0.2s finished\n",
      "/Library/anaconda3/lib/python3.8/site-packages/sklearn/linear_model/_logistic.py:763: ConvergenceWarning: lbfgs failed to converge (status=1):\n",
      "STOP: TOTAL NO. of ITERATIONS REACHED LIMIT.\n",
      "\n",
      "Increase the number of iterations (max_iter) or scale the data as shown in:\n",
      "    https://scikit-learn.org/stable/modules/preprocessing.html\n",
      "Please also refer to the documentation for alternative solver options:\n",
      "    https://scikit-learn.org/stable/modules/linear_model.html#logistic-regression\n",
      "  n_iter_i = _check_optimize_result(\n",
      "[Parallel(n_jobs=1)]: Using backend SequentialBackend with 1 concurrent workers.\n",
      "/Library/anaconda3/lib/python3.8/site-packages/sklearn/svm/_base.py:985: ConvergenceWarning: Liblinear failed to converge, increase the number of iterations.\n",
      "  warnings.warn(\"Liblinear failed to converge, increase \"\n",
      "[Parallel(n_jobs=1)]: Done   5 out of   5 | elapsed:    5.4s finished\n",
      "[Parallel(n_jobs=1)]: Using backend SequentialBackend with 1 concurrent workers.\n",
      "[Parallel(n_jobs=1)]: Done   5 out of   5 | elapsed:    0.1s finished\n",
      "[Parallel(n_jobs=1)]: Using backend SequentialBackend with 1 concurrent workers.\n",
      "[Parallel(n_jobs=1)]: Done   5 out of   5 | elapsed:   22.4s finished\n",
      "[Parallel(n_jobs=1)]: Using backend SequentialBackend with 1 concurrent workers.\n",
      "[Parallel(n_jobs=1)]: Done   5 out of   5 | elapsed:    8.1s finished\n",
      "[Parallel(n_jobs=1)]: Using backend SequentialBackend with 1 concurrent workers.\n",
      "[Parallel(n_jobs=1)]: Done   5 out of   5 | elapsed:    0.2s finished\n",
      "/Library/anaconda3/lib/python3.8/site-packages/sklearn/linear_model/_logistic.py:763: ConvergenceWarning: lbfgs failed to converge (status=1):\n",
      "STOP: TOTAL NO. of ITERATIONS REACHED LIMIT.\n",
      "\n",
      "Increase the number of iterations (max_iter) or scale the data as shown in:\n",
      "    https://scikit-learn.org/stable/modules/preprocessing.html\n",
      "Please also refer to the documentation for alternative solver options:\n",
      "    https://scikit-learn.org/stable/modules/linear_model.html#logistic-regression\n",
      "  n_iter_i = _check_optimize_result(\n",
      "[Parallel(n_jobs=1)]: Using backend SequentialBackend with 1 concurrent workers.\n",
      "[Parallel(n_jobs=1)]: Done   5 out of   5 | elapsed:    5.4s finished\n",
      "[Parallel(n_jobs=1)]: Using backend SequentialBackend with 1 concurrent workers.\n",
      "[Parallel(n_jobs=1)]: Done   5 out of   5 | elapsed:    0.1s finished\n",
      "[Parallel(n_jobs=1)]: Using backend SequentialBackend with 1 concurrent workers.\n",
      "[Parallel(n_jobs=1)]: Done   5 out of   5 | elapsed:   20.8s finished\n",
      "[Parallel(n_jobs=1)]: Using backend SequentialBackend with 1 concurrent workers.\n",
      "[Parallel(n_jobs=1)]: Done   5 out of   5 | elapsed:    7.8s finished\n",
      "[Parallel(n_jobs=1)]: Using backend SequentialBackend with 1 concurrent workers.\n",
      "[Parallel(n_jobs=1)]: Done   5 out of   5 | elapsed:    0.2s finished\n",
      "/Library/anaconda3/lib/python3.8/site-packages/sklearn/linear_model/_logistic.py:763: ConvergenceWarning: lbfgs failed to converge (status=1):\n",
      "STOP: TOTAL NO. of ITERATIONS REACHED LIMIT.\n",
      "\n",
      "Increase the number of iterations (max_iter) or scale the data as shown in:\n",
      "    https://scikit-learn.org/stable/modules/preprocessing.html\n",
      "Please also refer to the documentation for alternative solver options:\n",
      "    https://scikit-learn.org/stable/modules/linear_model.html#logistic-regression\n",
      "  n_iter_i = _check_optimize_result(\n",
      "[Parallel(n_jobs=1)]: Using backend SequentialBackend with 1 concurrent workers.\n",
      "[Parallel(n_jobs=1)]: Done   5 out of   5 | elapsed:    5.2s finished\n",
      "[Parallel(n_jobs=1)]: Using backend SequentialBackend with 1 concurrent workers.\n",
      "[Parallel(n_jobs=1)]: Done   5 out of   5 | elapsed:    0.1s finished\n",
      "[Parallel(n_jobs=1)]: Using backend SequentialBackend with 1 concurrent workers.\n",
      "[Parallel(n_jobs=1)]: Done   5 out of   5 | elapsed:   21.2s finished\n",
      "[Parallel(n_jobs=1)]: Using backend SequentialBackend with 1 concurrent workers.\n",
      "[Parallel(n_jobs=1)]: Done   5 out of   5 | elapsed:    7.8s finished\n",
      "[Parallel(n_jobs=1)]: Using backend SequentialBackend with 1 concurrent workers.\n",
      "[Parallel(n_jobs=1)]: Done   5 out of   5 | elapsed:    0.2s finished\n",
      "/Library/anaconda3/lib/python3.8/site-packages/sklearn/linear_model/_logistic.py:763: ConvergenceWarning: lbfgs failed to converge (status=1):\n",
      "STOP: TOTAL NO. of ITERATIONS REACHED LIMIT.\n",
      "\n",
      "Increase the number of iterations (max_iter) or scale the data as shown in:\n",
      "    https://scikit-learn.org/stable/modules/preprocessing.html\n",
      "Please also refer to the documentation for alternative solver options:\n",
      "    https://scikit-learn.org/stable/modules/linear_model.html#logistic-regression\n",
      "  n_iter_i = _check_optimize_result(\n",
      "[Parallel(n_jobs=1)]: Using backend SequentialBackend with 1 concurrent workers.\n",
      "/Library/anaconda3/lib/python3.8/site-packages/sklearn/svm/_base.py:985: ConvergenceWarning: Liblinear failed to converge, increase the number of iterations.\n",
      "  warnings.warn(\"Liblinear failed to converge, increase \"\n",
      "[Parallel(n_jobs=1)]: Done   5 out of   5 | elapsed:    5.3s finished\n",
      "[Parallel(n_jobs=1)]: Using backend SequentialBackend with 1 concurrent workers.\n",
      "[Parallel(n_jobs=1)]: Done   5 out of   5 | elapsed:    0.1s finished\n",
      "[Parallel(n_jobs=1)]: Using backend SequentialBackend with 1 concurrent workers.\n",
      "[Parallel(n_jobs=1)]: Done   5 out of   5 | elapsed:   22.7s finished\n",
      "[Parallel(n_jobs=1)]: Using backend SequentialBackend with 1 concurrent workers.\n",
      "[Parallel(n_jobs=1)]: Done   5 out of   5 | elapsed:    9.1s finished\n",
      "[Parallel(n_jobs=1)]: Using backend SequentialBackend with 1 concurrent workers.\n",
      "[Parallel(n_jobs=1)]: Done   5 out of   5 | elapsed:    0.2s finished\n",
      "/Library/anaconda3/lib/python3.8/site-packages/sklearn/linear_model/_logistic.py:763: ConvergenceWarning: lbfgs failed to converge (status=1):\n",
      "STOP: TOTAL NO. of ITERATIONS REACHED LIMIT.\n",
      "\n",
      "Increase the number of iterations (max_iter) or scale the data as shown in:\n",
      "    https://scikit-learn.org/stable/modules/preprocessing.html\n",
      "Please also refer to the documentation for alternative solver options:\n",
      "    https://scikit-learn.org/stable/modules/linear_model.html#logistic-regression\n",
      "  n_iter_i = _check_optimize_result(\n",
      "[Parallel(n_jobs=1)]: Using backend SequentialBackend with 1 concurrent workers.\n",
      "[Parallel(n_jobs=1)]: Done   5 out of   5 | elapsed:    5.7s finished\n",
      "[Parallel(n_jobs=1)]: Using backend SequentialBackend with 1 concurrent workers.\n",
      "[Parallel(n_jobs=1)]: Done   5 out of   5 | elapsed:    0.1s finished\n",
      "[Parallel(n_jobs=1)]: Using backend SequentialBackend with 1 concurrent workers.\n"
     ]
    },
    {
     "name": "stderr",
     "output_type": "stream",
     "text": [
      "[Parallel(n_jobs=1)]: Done   5 out of   5 | elapsed:   20.8s finished\n",
      "[Parallel(n_jobs=1)]: Using backend SequentialBackend with 1 concurrent workers.\n",
      "[Parallel(n_jobs=1)]: Done   5 out of   5 | elapsed:    7.8s finished\n",
      "[Parallel(n_jobs=1)]: Using backend SequentialBackend with 1 concurrent workers.\n",
      "[Parallel(n_jobs=1)]: Done   5 out of   5 | elapsed:    0.2s finished\n",
      "/Library/anaconda3/lib/python3.8/site-packages/sklearn/linear_model/_logistic.py:763: ConvergenceWarning: lbfgs failed to converge (status=1):\n",
      "STOP: TOTAL NO. of ITERATIONS REACHED LIMIT.\n",
      "\n",
      "Increase the number of iterations (max_iter) or scale the data as shown in:\n",
      "    https://scikit-learn.org/stable/modules/preprocessing.html\n",
      "Please also refer to the documentation for alternative solver options:\n",
      "    https://scikit-learn.org/stable/modules/linear_model.html#logistic-regression\n",
      "  n_iter_i = _check_optimize_result(\n",
      "[Parallel(n_jobs=1)]: Using backend SequentialBackend with 1 concurrent workers.\n",
      "[Parallel(n_jobs=1)]: Done   5 out of   5 | elapsed:    5.0s finished\n",
      "[Parallel(n_jobs=1)]: Using backend SequentialBackend with 1 concurrent workers.\n",
      "[Parallel(n_jobs=1)]: Done   5 out of   5 | elapsed:    0.1s finished\n",
      "[Parallel(n_jobs=1)]: Using backend SequentialBackend with 1 concurrent workers.\n",
      "[Parallel(n_jobs=1)]: Done   5 out of   5 | elapsed:   21.4s finished\n",
      "[Parallel(n_jobs=1)]: Using backend SequentialBackend with 1 concurrent workers.\n",
      "[Parallel(n_jobs=1)]: Done   5 out of   5 | elapsed:    7.9s finished\n",
      "[Parallel(n_jobs=1)]: Using backend SequentialBackend with 1 concurrent workers.\n",
      "[Parallel(n_jobs=1)]: Done   5 out of   5 | elapsed:    0.2s finished\n",
      "/Library/anaconda3/lib/python3.8/site-packages/sklearn/linear_model/_logistic.py:763: ConvergenceWarning: lbfgs failed to converge (status=1):\n",
      "STOP: TOTAL NO. of ITERATIONS REACHED LIMIT.\n",
      "\n",
      "Increase the number of iterations (max_iter) or scale the data as shown in:\n",
      "    https://scikit-learn.org/stable/modules/preprocessing.html\n",
      "Please also refer to the documentation for alternative solver options:\n",
      "    https://scikit-learn.org/stable/modules/linear_model.html#logistic-regression\n",
      "  n_iter_i = _check_optimize_result(\n",
      "[Parallel(n_jobs=1)]: Using backend SequentialBackend with 1 concurrent workers.\n",
      "[Parallel(n_jobs=1)]: Done   5 out of   5 | elapsed:    5.3s finished\n",
      "[Parallel(n_jobs=1)]: Using backend SequentialBackend with 1 concurrent workers.\n",
      "[Parallel(n_jobs=1)]: Done   5 out of   5 | elapsed:    0.1s finished\n",
      "[Parallel(n_jobs=1)]: Using backend SequentialBackend with 1 concurrent workers.\n",
      "[Parallel(n_jobs=1)]: Done   5 out of   5 | elapsed:   20.7s finished\n",
      "[Parallel(n_jobs=1)]: Using backend SequentialBackend with 1 concurrent workers.\n",
      "[Parallel(n_jobs=1)]: Done   5 out of   5 | elapsed:    7.8s finished\n",
      "[Parallel(n_jobs=1)]: Using backend SequentialBackend with 1 concurrent workers.\n",
      "[Parallel(n_jobs=1)]: Done   5 out of   5 | elapsed:    0.2s finished\n",
      "/Library/anaconda3/lib/python3.8/site-packages/sklearn/linear_model/_logistic.py:763: ConvergenceWarning: lbfgs failed to converge (status=1):\n",
      "STOP: TOTAL NO. of ITERATIONS REACHED LIMIT.\n",
      "\n",
      "Increase the number of iterations (max_iter) or scale the data as shown in:\n",
      "    https://scikit-learn.org/stable/modules/preprocessing.html\n",
      "Please also refer to the documentation for alternative solver options:\n",
      "    https://scikit-learn.org/stable/modules/linear_model.html#logistic-regression\n",
      "  n_iter_i = _check_optimize_result(\n",
      "[Parallel(n_jobs=1)]: Using backend SequentialBackend with 1 concurrent workers.\n",
      "[Parallel(n_jobs=1)]: Done   5 out of   5 | elapsed:    5.2s finished\n",
      "[Parallel(n_jobs=1)]: Using backend SequentialBackend with 1 concurrent workers.\n",
      "[Parallel(n_jobs=1)]: Done   5 out of   5 | elapsed:    0.1s finished\n",
      "[Parallel(n_jobs=1)]: Using backend SequentialBackend with 1 concurrent workers.\n",
      "[Parallel(n_jobs=1)]: Done   5 out of   5 | elapsed:   21.7s finished\n",
      "[Parallel(n_jobs=1)]: Using backend SequentialBackend with 1 concurrent workers.\n",
      "[Parallel(n_jobs=1)]: Done   5 out of   5 | elapsed:    7.7s finished\n",
      "[Parallel(n_jobs=1)]: Using backend SequentialBackend with 1 concurrent workers.\n",
      "[Parallel(n_jobs=1)]: Done   5 out of   5 | elapsed:    0.2s finished\n",
      "/Library/anaconda3/lib/python3.8/site-packages/sklearn/linear_model/_logistic.py:763: ConvergenceWarning: lbfgs failed to converge (status=1):\n",
      "STOP: TOTAL NO. of ITERATIONS REACHED LIMIT.\n",
      "\n",
      "Increase the number of iterations (max_iter) or scale the data as shown in:\n",
      "    https://scikit-learn.org/stable/modules/preprocessing.html\n",
      "Please also refer to the documentation for alternative solver options:\n",
      "    https://scikit-learn.org/stable/modules/linear_model.html#logistic-regression\n",
      "  n_iter_i = _check_optimize_result(\n",
      "[Parallel(n_jobs=1)]: Using backend SequentialBackend with 1 concurrent workers.\n",
      "[Parallel(n_jobs=1)]: Done   5 out of   5 | elapsed:    5.3s finished\n",
      "[Parallel(n_jobs=1)]: Using backend SequentialBackend with 1 concurrent workers.\n",
      "[Parallel(n_jobs=1)]: Done   5 out of   5 | elapsed:    0.1s finished\n",
      "[Parallel(n_jobs=1)]: Using backend SequentialBackend with 1 concurrent workers.\n",
      "[Parallel(n_jobs=1)]: Done   5 out of   5 | elapsed:   21.9s finished\n",
      "[Parallel(n_jobs=1)]: Using backend SequentialBackend with 1 concurrent workers.\n",
      "[Parallel(n_jobs=1)]: Done   5 out of   5 | elapsed:    7.7s finished\n",
      "[Parallel(n_jobs=1)]: Using backend SequentialBackend with 1 concurrent workers.\n",
      "[Parallel(n_jobs=1)]: Done   5 out of   5 | elapsed:    0.2s finished\n",
      "/Library/anaconda3/lib/python3.8/site-packages/sklearn/linear_model/_logistic.py:763: ConvergenceWarning: lbfgs failed to converge (status=1):\n",
      "STOP: TOTAL NO. of ITERATIONS REACHED LIMIT.\n",
      "\n",
      "Increase the number of iterations (max_iter) or scale the data as shown in:\n",
      "    https://scikit-learn.org/stable/modules/preprocessing.html\n",
      "Please also refer to the documentation for alternative solver options:\n",
      "    https://scikit-learn.org/stable/modules/linear_model.html#logistic-regression\n",
      "  n_iter_i = _check_optimize_result(\n",
      "[Parallel(n_jobs=1)]: Using backend SequentialBackend with 1 concurrent workers.\n",
      "/Library/anaconda3/lib/python3.8/site-packages/sklearn/svm/_base.py:985: ConvergenceWarning: Liblinear failed to converge, increase the number of iterations.\n",
      "  warnings.warn(\"Liblinear failed to converge, increase \"\n",
      "[Parallel(n_jobs=1)]: Done   5 out of   5 | elapsed:    5.1s finished\n",
      "[Parallel(n_jobs=1)]: Using backend SequentialBackend with 1 concurrent workers.\n",
      "[Parallel(n_jobs=1)]: Done   5 out of   5 | elapsed:    0.1s finished\n",
      "[Parallel(n_jobs=1)]: Using backend SequentialBackend with 1 concurrent workers.\n",
      "[Parallel(n_jobs=1)]: Done   5 out of   5 | elapsed:   50.0s finished\n",
      "[Parallel(n_jobs=1)]: Using backend SequentialBackend with 1 concurrent workers.\n",
      "[Parallel(n_jobs=1)]: Done   5 out of   5 | elapsed:   10.2s finished\n",
      "[Parallel(n_jobs=1)]: Using backend SequentialBackend with 1 concurrent workers.\n",
      "[Parallel(n_jobs=1)]: Done   5 out of   5 | elapsed:    0.2s finished\n",
      "/Library/anaconda3/lib/python3.8/site-packages/sklearn/linear_model/_logistic.py:763: ConvergenceWarning: lbfgs failed to converge (status=1):\n",
      "STOP: TOTAL NO. of ITERATIONS REACHED LIMIT.\n",
      "\n",
      "Increase the number of iterations (max_iter) or scale the data as shown in:\n",
      "    https://scikit-learn.org/stable/modules/preprocessing.html\n",
      "Please also refer to the documentation for alternative solver options:\n",
      "    https://scikit-learn.org/stable/modules/linear_model.html#logistic-regression\n",
      "  n_iter_i = _check_optimize_result(\n",
      "[Parallel(n_jobs=1)]: Using backend SequentialBackend with 1 concurrent workers.\n",
      "/Library/anaconda3/lib/python3.8/site-packages/sklearn/svm/_base.py:985: ConvergenceWarning: Liblinear failed to converge, increase the number of iterations.\n",
      "  warnings.warn(\"Liblinear failed to converge, increase \"\n",
      "[Parallel(n_jobs=1)]: Done   5 out of   5 | elapsed:    5.0s finished\n",
      "[Parallel(n_jobs=1)]: Using backend SequentialBackend with 1 concurrent workers.\n",
      "[Parallel(n_jobs=1)]: Done   5 out of   5 | elapsed:    0.1s finished\n",
      "[Parallel(n_jobs=1)]: Using backend SequentialBackend with 1 concurrent workers.\n",
      "[Parallel(n_jobs=1)]: Done   5 out of   5 | elapsed:   21.0s finished\n",
      "[Parallel(n_jobs=1)]: Using backend SequentialBackend with 1 concurrent workers.\n"
     ]
    },
    {
     "name": "stderr",
     "output_type": "stream",
     "text": [
      "[Parallel(n_jobs=1)]: Done   5 out of   5 | elapsed:    7.7s finished\n",
      "[Parallel(n_jobs=1)]: Using backend SequentialBackend with 1 concurrent workers.\n",
      "[Parallel(n_jobs=1)]: Done   5 out of   5 | elapsed:    0.2s finished\n",
      "/Library/anaconda3/lib/python3.8/site-packages/sklearn/linear_model/_logistic.py:763: ConvergenceWarning: lbfgs failed to converge (status=1):\n",
      "STOP: TOTAL NO. of ITERATIONS REACHED LIMIT.\n",
      "\n",
      "Increase the number of iterations (max_iter) or scale the data as shown in:\n",
      "    https://scikit-learn.org/stable/modules/preprocessing.html\n",
      "Please also refer to the documentation for alternative solver options:\n",
      "    https://scikit-learn.org/stable/modules/linear_model.html#logistic-regression\n",
      "  n_iter_i = _check_optimize_result(\n",
      "[Parallel(n_jobs=1)]: Using backend SequentialBackend with 1 concurrent workers.\n",
      "[Parallel(n_jobs=1)]: Done   5 out of   5 | elapsed:    6.2s finished\n",
      "[Parallel(n_jobs=1)]: Using backend SequentialBackend with 1 concurrent workers.\n",
      "[Parallel(n_jobs=1)]: Done   5 out of   5 | elapsed:    0.1s finished\n",
      "[Parallel(n_jobs=1)]: Using backend SequentialBackend with 1 concurrent workers.\n",
      "[Parallel(n_jobs=1)]: Done   5 out of   5 | elapsed:   21.9s finished\n",
      "[Parallel(n_jobs=1)]: Using backend SequentialBackend with 1 concurrent workers.\n",
      "[Parallel(n_jobs=1)]: Done   5 out of   5 | elapsed:    7.8s finished\n",
      "[Parallel(n_jobs=1)]: Using backend SequentialBackend with 1 concurrent workers.\n",
      "[Parallel(n_jobs=1)]: Done   5 out of   5 | elapsed:    0.2s finished\n",
      "/Library/anaconda3/lib/python3.8/site-packages/sklearn/linear_model/_logistic.py:763: ConvergenceWarning: lbfgs failed to converge (status=1):\n",
      "STOP: TOTAL NO. of ITERATIONS REACHED LIMIT.\n",
      "\n",
      "Increase the number of iterations (max_iter) or scale the data as shown in:\n",
      "    https://scikit-learn.org/stable/modules/preprocessing.html\n",
      "Please also refer to the documentation for alternative solver options:\n",
      "    https://scikit-learn.org/stable/modules/linear_model.html#logistic-regression\n",
      "  n_iter_i = _check_optimize_result(\n",
      "[Parallel(n_jobs=1)]: Using backend SequentialBackend with 1 concurrent workers.\n",
      "[Parallel(n_jobs=1)]: Done   5 out of   5 | elapsed:    5.4s finished\n",
      "[Parallel(n_jobs=1)]: Using backend SequentialBackend with 1 concurrent workers.\n",
      "[Parallel(n_jobs=1)]: Done   5 out of   5 | elapsed:    0.1s finished\n",
      "[Parallel(n_jobs=1)]: Using backend SequentialBackend with 1 concurrent workers.\n",
      "[Parallel(n_jobs=1)]: Done   5 out of   5 | elapsed:   21.0s finished\n",
      "[Parallel(n_jobs=1)]: Using backend SequentialBackend with 1 concurrent workers.\n",
      "[Parallel(n_jobs=1)]: Done   5 out of   5 | elapsed:    7.8s finished\n",
      "[Parallel(n_jobs=1)]: Using backend SequentialBackend with 1 concurrent workers.\n",
      "[Parallel(n_jobs=1)]: Done   5 out of   5 | elapsed:    0.3s finished\n",
      "/Library/anaconda3/lib/python3.8/site-packages/sklearn/linear_model/_logistic.py:763: ConvergenceWarning: lbfgs failed to converge (status=1):\n",
      "STOP: TOTAL NO. of ITERATIONS REACHED LIMIT.\n",
      "\n",
      "Increase the number of iterations (max_iter) or scale the data as shown in:\n",
      "    https://scikit-learn.org/stable/modules/preprocessing.html\n",
      "Please also refer to the documentation for alternative solver options:\n",
      "    https://scikit-learn.org/stable/modules/linear_model.html#logistic-regression\n",
      "  n_iter_i = _check_optimize_result(\n",
      "[Parallel(n_jobs=1)]: Using backend SequentialBackend with 1 concurrent workers.\n",
      "/Library/anaconda3/lib/python3.8/site-packages/sklearn/svm/_base.py:985: ConvergenceWarning: Liblinear failed to converge, increase the number of iterations.\n",
      "  warnings.warn(\"Liblinear failed to converge, increase \"\n",
      "[Parallel(n_jobs=1)]: Done   5 out of   5 | elapsed:    5.3s finished\n",
      "[Parallel(n_jobs=1)]: Using backend SequentialBackend with 1 concurrent workers.\n",
      "[Parallel(n_jobs=1)]: Done   5 out of   5 | elapsed:    0.1s finished\n",
      "[Parallel(n_jobs=1)]: Using backend SequentialBackend with 1 concurrent workers.\n",
      "[Parallel(n_jobs=1)]: Done   5 out of   5 | elapsed:   21.6s finished\n",
      "[Parallel(n_jobs=1)]: Using backend SequentialBackend with 1 concurrent workers.\n",
      "[Parallel(n_jobs=1)]: Done   5 out of   5 | elapsed:    7.8s finished\n",
      "[Parallel(n_jobs=1)]: Using backend SequentialBackend with 1 concurrent workers.\n",
      "[Parallel(n_jobs=1)]: Done   5 out of   5 | elapsed:    0.2s finished\n",
      "/Library/anaconda3/lib/python3.8/site-packages/sklearn/linear_model/_logistic.py:763: ConvergenceWarning: lbfgs failed to converge (status=1):\n",
      "STOP: TOTAL NO. of ITERATIONS REACHED LIMIT.\n",
      "\n",
      "Increase the number of iterations (max_iter) or scale the data as shown in:\n",
      "    https://scikit-learn.org/stable/modules/preprocessing.html\n",
      "Please also refer to the documentation for alternative solver options:\n",
      "    https://scikit-learn.org/stable/modules/linear_model.html#logistic-regression\n",
      "  n_iter_i = _check_optimize_result(\n",
      "[Parallel(n_jobs=1)]: Using backend SequentialBackend with 1 concurrent workers.\n",
      "[Parallel(n_jobs=1)]: Done   5 out of   5 | elapsed:    5.4s finished\n",
      "[Parallel(n_jobs=1)]: Using backend SequentialBackend with 1 concurrent workers.\n",
      "[Parallel(n_jobs=1)]: Done   5 out of   5 | elapsed:    0.1s finished\n",
      "[Parallel(n_jobs=1)]: Using backend SequentialBackend with 1 concurrent workers.\n",
      "[Parallel(n_jobs=1)]: Done   5 out of   5 | elapsed:   20.8s finished\n",
      "[Parallel(n_jobs=1)]: Using backend SequentialBackend with 1 concurrent workers.\n",
      "[Parallel(n_jobs=1)]: Done   5 out of   5 | elapsed:    7.8s finished\n",
      "[Parallel(n_jobs=1)]: Using backend SequentialBackend with 1 concurrent workers.\n",
      "[Parallel(n_jobs=1)]: Done   5 out of   5 | elapsed:    0.2s finished\n",
      "/Library/anaconda3/lib/python3.8/site-packages/sklearn/linear_model/_logistic.py:763: ConvergenceWarning: lbfgs failed to converge (status=1):\n",
      "STOP: TOTAL NO. of ITERATIONS REACHED LIMIT.\n",
      "\n",
      "Increase the number of iterations (max_iter) or scale the data as shown in:\n",
      "    https://scikit-learn.org/stable/modules/preprocessing.html\n",
      "Please also refer to the documentation for alternative solver options:\n",
      "    https://scikit-learn.org/stable/modules/linear_model.html#logistic-regression\n",
      "  n_iter_i = _check_optimize_result(\n",
      "/Library/anaconda3/lib/python3.8/site-packages/sklearn/svm/_base.py:985: ConvergenceWarning: Liblinear failed to converge, increase the number of iterations.\n",
      "  warnings.warn(\"Liblinear failed to converge, increase \"\n",
      "[Parallel(n_jobs=1)]: Using backend SequentialBackend with 1 concurrent workers.\n",
      "[Parallel(n_jobs=1)]: Done   5 out of   5 | elapsed:    5.0s finished\n",
      "[Parallel(n_jobs=1)]: Using backend SequentialBackend with 1 concurrent workers.\n",
      "[Parallel(n_jobs=1)]: Done   5 out of   5 | elapsed:    0.1s finished\n",
      "[Parallel(n_jobs=1)]: Using backend SequentialBackend with 1 concurrent workers.\n",
      "[Parallel(n_jobs=1)]: Done   5 out of   5 | elapsed:   21.0s finished\n",
      "[Parallel(n_jobs=1)]: Using backend SequentialBackend with 1 concurrent workers.\n",
      "[Parallel(n_jobs=1)]: Done   5 out of   5 | elapsed:    7.9s finished\n",
      "[Parallel(n_jobs=1)]: Using backend SequentialBackend with 1 concurrent workers.\n",
      "[Parallel(n_jobs=1)]: Done   5 out of   5 | elapsed:    0.2s finished\n",
      "/Library/anaconda3/lib/python3.8/site-packages/sklearn/linear_model/_logistic.py:763: ConvergenceWarning: lbfgs failed to converge (status=1):\n",
      "STOP: TOTAL NO. of ITERATIONS REACHED LIMIT.\n",
      "\n",
      "Increase the number of iterations (max_iter) or scale the data as shown in:\n",
      "    https://scikit-learn.org/stable/modules/preprocessing.html\n",
      "Please also refer to the documentation for alternative solver options:\n",
      "    https://scikit-learn.org/stable/modules/linear_model.html#logistic-regression\n",
      "  n_iter_i = _check_optimize_result(\n",
      "[Parallel(n_jobs=1)]: Using backend SequentialBackend with 1 concurrent workers.\n",
      "[Parallel(n_jobs=1)]: Done   5 out of   5 | elapsed:    5.1s finished\n",
      "[Parallel(n_jobs=1)]: Using backend SequentialBackend with 1 concurrent workers.\n",
      "[Parallel(n_jobs=1)]: Done   5 out of   5 | elapsed:    0.1s finished\n",
      "[Parallel(n_jobs=1)]: Using backend SequentialBackend with 1 concurrent workers.\n",
      "[Parallel(n_jobs=1)]: Done   5 out of   5 | elapsed:   21.6s finished\n",
      "[Parallel(n_jobs=1)]: Using backend SequentialBackend with 1 concurrent workers.\n",
      "[Parallel(n_jobs=1)]: Done   5 out of   5 | elapsed:    7.7s finished\n",
      "[Parallel(n_jobs=1)]: Using backend SequentialBackend with 1 concurrent workers.\n"
     ]
    },
    {
     "name": "stderr",
     "output_type": "stream",
     "text": [
      "[Parallel(n_jobs=1)]: Done   5 out of   5 | elapsed:    0.2s finished\n",
      "/Library/anaconda3/lib/python3.8/site-packages/sklearn/linear_model/_logistic.py:763: ConvergenceWarning: lbfgs failed to converge (status=1):\n",
      "STOP: TOTAL NO. of ITERATIONS REACHED LIMIT.\n",
      "\n",
      "Increase the number of iterations (max_iter) or scale the data as shown in:\n",
      "    https://scikit-learn.org/stable/modules/preprocessing.html\n",
      "Please also refer to the documentation for alternative solver options:\n",
      "    https://scikit-learn.org/stable/modules/linear_model.html#logistic-regression\n",
      "  n_iter_i = _check_optimize_result(\n",
      "[Parallel(n_jobs=1)]: Using backend SequentialBackend with 1 concurrent workers.\n",
      "[Parallel(n_jobs=1)]: Done   5 out of   5 | elapsed:    5.2s finished\n",
      "[Parallel(n_jobs=1)]: Using backend SequentialBackend with 1 concurrent workers.\n",
      "[Parallel(n_jobs=1)]: Done   5 out of   5 | elapsed:    0.1s finished\n",
      "[Parallel(n_jobs=1)]: Using backend SequentialBackend with 1 concurrent workers.\n",
      "[Parallel(n_jobs=1)]: Done   5 out of   5 | elapsed:   21.3s finished\n",
      "[Parallel(n_jobs=1)]: Using backend SequentialBackend with 1 concurrent workers.\n",
      "[Parallel(n_jobs=1)]: Done   5 out of   5 | elapsed:    7.6s finished\n",
      "[Parallel(n_jobs=1)]: Using backend SequentialBackend with 1 concurrent workers.\n",
      "[Parallel(n_jobs=1)]: Done   5 out of   5 | elapsed:    0.2s finished\n",
      "/Library/anaconda3/lib/python3.8/site-packages/sklearn/linear_model/_logistic.py:763: ConvergenceWarning: lbfgs failed to converge (status=1):\n",
      "STOP: TOTAL NO. of ITERATIONS REACHED LIMIT.\n",
      "\n",
      "Increase the number of iterations (max_iter) or scale the data as shown in:\n",
      "    https://scikit-learn.org/stable/modules/preprocessing.html\n",
      "Please also refer to the documentation for alternative solver options:\n",
      "    https://scikit-learn.org/stable/modules/linear_model.html#logistic-regression\n",
      "  n_iter_i = _check_optimize_result(\n"
     ]
    },
    {
     "name": "stdout",
     "output_type": "stream",
     "text": [
      "StackingClassifier prediction took 896.3090162277222 seconds\n",
      "    test_3.0_f1-score  test_4.0_f1-score  test_5.0_f1-score  test_accuracy\n",
      "0                 0.0           0.824505           0.093023       0.702059\n",
      "1                 0.0           0.823980           0.047619       0.700975\n",
      "2                 0.0           0.824729           0.048780       0.702059\n",
      "3                 0.0           0.826309           0.181818       0.705309\n",
      "4                 0.0           0.823229           0.046512       0.699892\n",
      "5                 0.0           0.823755           0.090909       0.700975\n",
      "6                 0.0           0.825782           0.139535       0.704225\n",
      "7                 0.0           0.827366           0.260870       0.707476\n",
      "8                 0.0           0.825255           0.047619       0.702059\n",
      "9                 0.0           0.825255           0.095238       0.703142\n",
      "10                0.0           0.824808           0.136364       0.702820\n",
      "11                0.0           0.827058           0.142857       0.706074\n",
      "12                0.0           0.828115           0.227273       0.708243\n",
      "13                0.0           0.825782           0.095238       0.703905\n",
      "14                0.0           0.827058           0.142857       0.706074\n",
      "15                0.0           0.825782           0.095238       0.703905\n",
      "16                0.0           0.827586           0.186047       0.707158\n",
      "17                0.0           0.827058           0.142857       0.706074\n",
      "18                0.0           0.827366           0.222222       0.707158\n",
      "19                0.0           0.827366           0.222222       0.707158\n",
      "test_3.0_f1-score    0.000000\n",
      "test_4.0_f1-score    0.825907\n",
      "test_5.0_f1-score    0.133255\n",
      "test_accuracy        0.704337\n",
      "dtype: float64\n",
      "\n",
      "\n",
      "Evaluate on validation set:\n",
      "\n"
     ]
    },
    {
     "data": {
      "image/png": "[encoded data removed]",
      "text/plain": [
       "<Figure size 432x288 with 2 Axes>"
      ]
     },
     "metadata": {
      "needs_background": "light"
     },
     "output_type": "display_data"
    },
    {
     "name": "stdout",
     "output_type": "stream",
     "text": [
      "              precision    recall  f1-score   support\n",
      "\n",
      "         3.0       0.00      0.00      0.00      1153\n",
      "         4.0       0.71      1.00      0.83      3260\n",
      "         5.0       0.69      0.06      0.10       200\n",
      "\n",
      "    accuracy                           0.71      4613\n",
      "   macro avg       0.47      0.35      0.31      4613\n",
      "weighted avg       0.53      0.71      0.59      4613\n",
      "\n"
     ]
    },
    {
     "data": {
      "text/plain": [
       "array([4., 4., 4., ..., 4., 4., 4.])"
      ]
     },
     "execution_count": 126,
     "metadata": {},
     "output_type": "execute_result"
    }
   ],
   "source": [
    "from sklearn.ensemble import StackingClassifier\n",
    "\n",
    "classifiers = [('linearSVM', linearSVM), ('svm_sgd', svm_sgd), ('RBF_svm', RBF_svm), ('knn', knn), ('dtc', dtc)]#, ('logr', logr)]\n",
    "sc = StackingClassifier(classifiers, verbose = 1)\n",
    "validate_and_test(sc, X_train, y_train, X_val, y_val)"
   ]
  },
  {
   "cell_type": "code",
   "execution_count": null,
   "metadata": {
    "collapsed": true
   },
   "outputs": [],
   "source": [
    "evaluate(stacking_clf, X_val, y_val, print_confusion_matrix=True, print_classification_report=True)"
   ]
  },
  {
   "cell_type": "code",
   "execution_count": null,
   "metadata": {
    "collapsed": true
   },
   "outputs": [],
   "source": []
  },
  {
   "cell_type": "markdown",
   "metadata": {},
   "source": [
    "## Baseline - 0R & 1R"
   ]
  },
  {
   "cell_type": "code",
   "execution_count": 128,
   "metadata": {
    "collapsed": true,
    "execution": {
     "iopub.execute_input": "2023-04-16T08:33:57.307355Z",
     "iopub.status.busy": "2023-04-16T08:33:57.306901Z",
     "iopub.status.idle": "2023-04-16T08:33:57.359791Z",
     "shell.execute_reply": "2023-04-16T08:33:57.358692Z",
     "shell.execute_reply.started": "2023-04-16T08:33:57.307317Z"
    }
   },
   "outputs": [],
   "source": [
    "from sklearn.tree import DecisionTreeClassifier\n",
    "from sklearn.preprocessing import KBinsDiscretizer\n",
    "from sklearn.dummy import DummyClassifier"
   ]
  },
  {
   "cell_type": "code",
   "execution_count": 129,
   "metadata": {
    "collapsed": true
   },
   "outputs": [
    {
     "name": "stdout",
     "output_type": "stream",
     "text": [
      "Evaluate on training set:\n",
      "\n",
      "DummyClassifier prediction took 0.15984010696411133 seconds\n",
      "test_3.0_f1-score    0.000000\n",
      "test_4.0_f1-score    0.824766\n",
      "test_5.0_f1-score    0.000000\n",
      "test_accuracy        0.701789\n",
      "dtype: float64\n",
      "\n",
      "\n",
      "Evaluate on validation set:\n",
      "\n"
     ]
    },
    {
     "data": {
      "image/png": "[encoded data removed]",
      "text/plain": [
       "<Figure size 432x288 with 2 Axes>"
      ]
     },
     "metadata": {
      "needs_background": "light"
     },
     "output_type": "display_data"
    },
    {
     "name": "stdout",
     "output_type": "stream",
     "text": [
      "              precision    recall  f1-score   support\n",
      "\n",
      "         3.0       0.00      0.00      0.00      1153\n",
      "         4.0       0.71      1.00      0.83      3260\n",
      "         5.0       0.00      0.00      0.00       200\n",
      "\n",
      "    accuracy                           0.71      4613\n",
      "   macro avg       0.24      0.33      0.28      4613\n",
      "weighted avg       0.50      0.71      0.59      4613\n",
      "\n",
      "\n",
      "*****************************\n",
      "\n",
      "Evaluate on training set:\n",
      "\n",
      "DecisionTreeClassifier prediction took 0.23511886596679688 seconds\n",
      "test_3.0_f1-score    0.000000\n",
      "test_4.0_f1-score    0.824766\n",
      "test_5.0_f1-score    0.000000\n",
      "test_accuracy        0.701789\n",
      "dtype: float64\n",
      "\n",
      "\n",
      "Evaluate on validation set:\n",
      "\n"
     ]
    },
    {
     "data": {
      "image/png": "[encoded data removed]",
      "text/plain": [
       "<Figure size 432x288 with 2 Axes>"
      ]
     },
     "metadata": {
      "needs_background": "light"
     },
     "output_type": "display_data"
    },
    {
     "name": "stdout",
     "output_type": "stream",
     "text": [
      "              precision    recall  f1-score   support\n",
      "\n",
      "         3.0       0.00      0.00      0.00      1153\n",
      "         4.0       0.71      1.00      0.83      3260\n",
      "         5.0       0.00      0.00      0.00       200\n",
      "\n",
      "    accuracy                           0.71      4613\n",
      "   macro avg       0.24      0.33      0.28      4613\n",
      "weighted avg       0.50      0.71      0.59      4613\n",
      "\n",
      "\n",
      "*****************************\n",
      "\n"
     ]
    }
   ],
   "source": [
    "# build and test 0R and 1R model\n",
    "zero_r = DummyClassifier(strategy='most_frequent')\n",
    "one_r = DecisionTreeClassifier(max_depth=1)\n",
    "baselines = [zero_r, one_r]\n",
    "\n",
    "for baseline in baselines: \n",
    "    validate_and_test(baseline, X_train, y_train, X_val, y_val, print_full_cv_results=False)\n",
    "    print(\"\\n*****************************\\n\")"
   ]
  },
  {
   "cell_type": "code",
   "execution_count": null,
   "metadata": {
    "collapsed": true
   },
   "outputs": [],
   "source": []
  },
  {
   "cell_type": "code",
   "execution_count": null,
   "metadata": {
    "collapsed": true
   },
   "outputs": [],
   "source": []
  }
 ],
 "metadata": {
  "kernelspec": {
   "display_name": "Python 3",
   "language": "python",
   "name": "python3"
  },
  "language_info": {
   "codemirror_mode": {
    "name": "ipython",
    "version": 3
   },
   "file_extension": ".py",
   "mimetype": "text/x-python",
   "name": "python",
   "nbconvert_exporter": "python",
   "pygments_lexer": "ipython3",
   "version": "3.8.8"
  }
 },
 "nbformat": 4,
 "nbformat_minor": 4
}
