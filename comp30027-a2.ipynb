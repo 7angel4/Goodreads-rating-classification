{
 "cells": [
  {
   "cell_type": "code",
   "execution_count": 24,
   "metadata": {
    "execution": {
     "iopub.execute_input": "2023-04-16T08:13:06.888402Z",
     "iopub.status.busy": "2023-04-16T08:13:06.887900Z",
     "iopub.status.idle": "2023-04-16T08:13:07.176277Z",
     "shell.execute_reply": "2023-04-16T08:13:07.175364Z",
     "shell.execute_reply.started": "2023-04-16T08:13:06.888358Z"
    }
   },
   "outputs": [],
   "source": [
    "import pandas as pd\n",
    "import numpy as np\n",
    "import sklearn\n",
    "import matplotlib.pyplot as plt\n",
    "import pickle\n",
    "import seaborn as sns\n",
    "import scipy"
   ]
  },
  {
   "cell_type": "code",
   "execution_count": 47,
   "metadata": {},
   "outputs": [],
   "source": [
    "# Load datasets\n",
    "train_df = pd.read_csv(r\"book_rating_train.csv\", index_col = False, delimiter = ',', header=0)\n",
    "test_df = pd.read_csv(r\"book_rating_test.csv\", index_col = False, delimiter = ',', header=0)"
   ]
  },
  {
   "cell_type": "code",
   "execution_count": 48,
   "metadata": {
    "execution": {
     "iopub.execute_input": "2023-04-16T08:13:09.465930Z",
     "iopub.status.busy": "2023-04-16T08:13:09.464662Z",
     "iopub.status.idle": "2023-04-16T08:13:10.193644Z",
     "shell.execute_reply": "2023-04-16T08:13:10.192397Z",
     "shell.execute_reply.started": "2023-04-16T08:13:09.465885Z"
    }
   },
   "outputs": [],
   "source": [
    "# Convert authors, publisher, and language to numbers (in both training and testing set)\n",
    "string_features = ['Authors', 'Publisher', 'Language']\n",
    "for feature in string_features: \n",
    "    all_values = np.concatenate((train_df[feature], test_df[feature]))\n",
    "    num, mapping = pd.factorize(all_values)\n",
    "    numerical_feature_train = pd.Categorical(train_df[feature], mapping).codes\n",
    "    numerical_feature_test = pd.Categorical(test_df[feature], mapping).codes\n",
    "    train_df[feature] = numerical_feature_train\n",
    "    test_df[feature] = numerical_feature_test\n",
    "\n",
    "# Convert rating_label to categorical class label\n",
    "train_df['rating_label'] = train_df['rating_label'].astype('category')\n",
    "# print(train_df.dtypes)"
   ]
  },
  {
   "cell_type": "code",
   "execution_count": 57,
   "metadata": {},
   "outputs": [],
   "source": [
    "x_full_train = train_df.iloc[:,:-1]\n",
    "y_train = train_df.iloc[:,-1]\n",
    "x_full_test = test_df.iloc[:,:-1]"
   ]
  },
  {
   "cell_type": "code",
   "execution_count": 50,
   "metadata": {},
   "outputs": [
    {
     "data": {
      "text/html": [
       "<div>\n",
       "<style scoped>\n",
       "    .dataframe tbody tr th:only-of-type {\n",
       "        vertical-align: middle;\n",
       "    }\n",
       "\n",
       "    .dataframe tbody tr th {\n",
       "        vertical-align: top;\n",
       "    }\n",
       "\n",
       "    .dataframe thead th {\n",
       "        text-align: right;\n",
       "    }\n",
       "</style>\n",
       "<table border=\"1\" class=\"dataframe\">\n",
       "  <thead>\n",
       "    <tr style=\"text-align: right;\">\n",
       "      <th></th>\n",
       "      <th>Name</th>\n",
       "      <th>Authors</th>\n",
       "      <th>PublishYear</th>\n",
       "      <th>PublishMonth</th>\n",
       "      <th>PublishDay</th>\n",
       "      <th>Publisher</th>\n",
       "      <th>Language</th>\n",
       "      <th>pagesNumber</th>\n",
       "      <th>Description</th>\n",
       "      <th>rating_label</th>\n",
       "    </tr>\n",
       "  </thead>\n",
       "  <tbody>\n",
       "    <tr>\n",
       "      <th>0</th>\n",
       "      <td>Best of Dr Jean: Reading &amp; Writing</td>\n",
       "      <td>0</td>\n",
       "      <td>2005</td>\n",
       "      <td>6</td>\n",
       "      <td>1</td>\n",
       "      <td>0</td>\n",
       "      <td>-1</td>\n",
       "      <td>48</td>\n",
       "      <td>Teachers will turn to this treasury of ideas a...</td>\n",
       "      <td>4.0</td>\n",
       "    </tr>\n",
       "    <tr>\n",
       "      <th>1</th>\n",
       "      <td>Here All Dwell Free</td>\n",
       "      <td>1</td>\n",
       "      <td>1991</td>\n",
       "      <td>10</td>\n",
       "      <td>1</td>\n",
       "      <td>1</td>\n",
       "      <td>-1</td>\n",
       "      <td>364</td>\n",
       "      <td>Every human being lives a fairy tale -- an unc...</td>\n",
       "      <td>4.0</td>\n",
       "    </tr>\n",
       "    <tr>\n",
       "      <th>2</th>\n",
       "      <td>Boomer's Big Surprise</td>\n",
       "      <td>2</td>\n",
       "      <td>2005</td>\n",
       "      <td>3</td>\n",
       "      <td>31</td>\n",
       "      <td>2</td>\n",
       "      <td>-1</td>\n",
       "      <td>32</td>\n",
       "      <td>&lt;i&gt;Boomer's Big Surprise&lt;/i&gt; will have special...</td>\n",
       "      <td>4.0</td>\n",
       "    </tr>\n",
       "    <tr>\n",
       "      <th>3</th>\n",
       "      <td>I'll Go and Do More: Annie Dodge Wauneka, Nava...</td>\n",
       "      <td>3</td>\n",
       "      <td>2004</td>\n",
       "      <td>9</td>\n",
       "      <td>1</td>\n",
       "      <td>3</td>\n",
       "      <td>-1</td>\n",
       "      <td>293</td>\n",
       "      <td>&lt;i&gt;I'll Go and Do More&lt;/i&gt; is the story of Ann...</td>\n",
       "      <td>4.0</td>\n",
       "    </tr>\n",
       "    <tr>\n",
       "      <th>4</th>\n",
       "      <td>Us</td>\n",
       "      <td>4</td>\n",
       "      <td>2005</td>\n",
       "      <td>7</td>\n",
       "      <td>7</td>\n",
       "      <td>4</td>\n",
       "      <td>0</td>\n",
       "      <td>352</td>\n",
       "      <td>Since their days at Oxford, they've gone their...</td>\n",
       "      <td>3.0</td>\n",
       "    </tr>\n",
       "    <tr>\n",
       "      <th>...</th>\n",
       "      <td>...</td>\n",
       "      <td>...</td>\n",
       "      <td>...</td>\n",
       "      <td>...</td>\n",
       "      <td>...</td>\n",
       "      <td>...</td>\n",
       "      <td>...</td>\n",
       "      <td>...</td>\n",
       "      <td>...</td>\n",
       "      <td>...</td>\n",
       "    </tr>\n",
       "    <tr>\n",
       "      <th>23058</th>\n",
       "      <td>Black Coffee Blues</td>\n",
       "      <td>16300</td>\n",
       "      <td>1997</td>\n",
       "      <td>8</td>\n",
       "      <td>1</td>\n",
       "      <td>4245</td>\n",
       "      <td>0</td>\n",
       "      <td>120</td>\n",
       "      <td>\"If I lose the light of the sun, I will write ...</td>\n",
       "      <td>4.0</td>\n",
       "    </tr>\n",
       "    <tr>\n",
       "      <th>23059</th>\n",
       "      <td>America's Champion Swimmer: Gertrude Ederle</td>\n",
       "      <td>1250</td>\n",
       "      <td>2005</td>\n",
       "      <td>6</td>\n",
       "      <td>1</td>\n",
       "      <td>47</td>\n",
       "      <td>-1</td>\n",
       "      <td>32</td>\n",
       "      <td>Trudy Ederle loved to swim, and she was determ...</td>\n",
       "      <td>4.0</td>\n",
       "    </tr>\n",
       "    <tr>\n",
       "      <th>23060</th>\n",
       "      <td>Crime and Custom in Savage Society</td>\n",
       "      <td>14077</td>\n",
       "      <td>1989</td>\n",
       "      <td>2</td>\n",
       "      <td>15</td>\n",
       "      <td>298</td>\n",
       "      <td>-1</td>\n",
       "      <td>132</td>\n",
       "      <td>Bronislaw Malinowski achieved international re...</td>\n",
       "      <td>4.0</td>\n",
       "    </tr>\n",
       "    <tr>\n",
       "      <th>23061</th>\n",
       "      <td>The Name and Nature of Poetry and Other Select...</td>\n",
       "      <td>8284</td>\n",
       "      <td>1998</td>\n",
       "      <td>4</td>\n",
       "      <td>21</td>\n",
       "      <td>4246</td>\n",
       "      <td>-1</td>\n",
       "      <td>136</td>\n",
       "      <td>Lovers of Housman's poetry and admirers of his...</td>\n",
       "      <td>4.0</td>\n",
       "    </tr>\n",
       "    <tr>\n",
       "      <th>23062</th>\n",
       "      <td>Redemption (Sevens, #7)</td>\n",
       "      <td>10496</td>\n",
       "      <td>2002</td>\n",
       "      <td>7</td>\n",
       "      <td>8</td>\n",
       "      <td>83</td>\n",
       "      <td>-1</td>\n",
       "      <td>192</td>\n",
       "      <td>Before the accident, Peter spent every weekend...</td>\n",
       "      <td>4.0</td>\n",
       "    </tr>\n",
       "  </tbody>\n",
       "</table>\n",
       "<p>23063 rows × 10 columns</p>\n",
       "</div>"
      ],
      "text/plain": [
       "                                                    Name  Authors  \\\n",
       "0                     Best of Dr Jean: Reading & Writing        0   \n",
       "1                                    Here All Dwell Free        1   \n",
       "2                                  Boomer's Big Surprise        2   \n",
       "3      I'll Go and Do More: Annie Dodge Wauneka, Nava...        3   \n",
       "4                                                     Us        4   \n",
       "...                                                  ...      ...   \n",
       "23058                                 Black Coffee Blues    16300   \n",
       "23059        America's Champion Swimmer: Gertrude Ederle     1250   \n",
       "23060                 Crime and Custom in Savage Society    14077   \n",
       "23061  The Name and Nature of Poetry and Other Select...     8284   \n",
       "23062                            Redemption (Sevens, #7)    10496   \n",
       "\n",
       "       PublishYear  PublishMonth  PublishDay  Publisher  Language  \\\n",
       "0             2005             6           1          0        -1   \n",
       "1             1991            10           1          1        -1   \n",
       "2             2005             3          31          2        -1   \n",
       "3             2004             9           1          3        -1   \n",
       "4             2005             7           7          4         0   \n",
       "...            ...           ...         ...        ...       ...   \n",
       "23058         1997             8           1       4245         0   \n",
       "23059         2005             6           1         47        -1   \n",
       "23060         1989             2          15        298        -1   \n",
       "23061         1998             4          21       4246        -1   \n",
       "23062         2002             7           8         83        -1   \n",
       "\n",
       "       pagesNumber                                        Description  \\\n",
       "0               48  Teachers will turn to this treasury of ideas a...   \n",
       "1              364  Every human being lives a fairy tale -- an unc...   \n",
       "2               32  <i>Boomer's Big Surprise</i> will have special...   \n",
       "3              293  <i>I'll Go and Do More</i> is the story of Ann...   \n",
       "4              352  Since their days at Oxford, they've gone their...   \n",
       "...            ...                                                ...   \n",
       "23058          120  \"If I lose the light of the sun, I will write ...   \n",
       "23059           32  Trudy Ederle loved to swim, and she was determ...   \n",
       "23060          132  Bronislaw Malinowski achieved international re...   \n",
       "23061          136  Lovers of Housman's poetry and admirers of his...   \n",
       "23062          192  Before the accident, Peter spent every weekend...   \n",
       "\n",
       "      rating_label  \n",
       "0              4.0  \n",
       "1              4.0  \n",
       "2              4.0  \n",
       "3              4.0  \n",
       "4              3.0  \n",
       "...            ...  \n",
       "23058          4.0  \n",
       "23059          4.0  \n",
       "23060          4.0  \n",
       "23061          4.0  \n",
       "23062          4.0  \n",
       "\n",
       "[23063 rows x 10 columns]"
      ]
     },
     "execution_count": 50,
     "metadata": {},
     "output_type": "execute_result"
    }
   ],
   "source": [
    "train_df  # with string attributes encoded to numerical"
   ]
  },
  {
   "cell_type": "code",
   "execution_count": 51,
   "metadata": {},
   "outputs": [
    {
     "name": "stdout",
     "output_type": "stream",
     "text": [
      "[[    0     0    -1]\n",
      " [    1     1    -1]\n",
      " [    2     2    -1]\n",
      " ...\n",
      " [14077   298    -1]\n",
      " [ 8284  4246    -1]\n",
      " [10496    83    -1]]\n"
     ]
    }
   ],
   "source": [
    "# Save the numerical features as a matrix\n",
    "numerical_train_matrix = x_full_train[['Authors', 'Publisher', 'Language']].to_numpy()\n",
    "numerical_test_matrix = x_full_test[['Authors', 'Publisher', 'Language']].to_numpy()\n",
    "np.savez_compressed('train_numerical.npz', numerical_train_matrix)\n",
    "np.savez_compressed('test_numerical.npz', numerical_test_matrix)\n",
    "# print(numerical_train_matrix)"
   ]
  },
  {
   "cell_type": "markdown",
   "metadata": {},
   "source": [
    "# Data Visualisation"
   ]
  },
  {
   "cell_type": "code",
   "execution_count": 7,
   "metadata": {},
   "outputs": [
    {
     "name": "stdout",
     "output_type": "stream",
     "text": [
      "NMI for PublishYear = 0.005010413368619569\n",
      "NMI for PublishMonth = 0.0007191125502055215\n",
      "NMI for PublishDay = 0.0013529681241697595\n",
      "NMI for pagesNumber = 0.01964529722439041\n"
     ]
    }
   ],
   "source": [
    "# Look at NMI of the numerical attributes\n",
    "\n",
    "from sklearn.metrics.cluster import normalized_mutual_info_score\n",
    "\n",
    "for feature in ['PublishYear', 'PublishMonth', 'PublishDay', 'pagesNumber']:\n",
    "    print(f\"NMI for {feature} =\", normalized_mutual_info_score(x_full_train[feature], y_train))"
   ]
  },
  {
   "cell_type": "code",
   "execution_count": 8,
   "metadata": {
    "execution": {
     "iopub.execute_input": "2023-04-16T08:06:40.804818Z",
     "iopub.status.busy": "2023-04-16T08:06:40.803332Z",
     "iopub.status.idle": "2023-04-16T08:06:41.319477Z",
     "shell.execute_reply": "2023-04-16T08:06:41.317637Z",
     "shell.execute_reply.started": "2023-04-16T08:06:40.804753Z"
    }
   },
   "outputs": [
    {
     "data": {
      "image/png": "[encoded data removed]",
      "text/plain": [
       "<Figure size 1200x800 with 2 Axes>"
      ]
     },
     "metadata": {},
     "output_type": "display_data"
    }
   ],
   "source": [
    "# Look at the correlation matrix of the numerical attributes\n",
    "\n",
    "cor_matrix = train_df[['PublishYear', 'PublishMonth', 'PublishDay', 'pagesNumber', 'rating_label']].corr()\n",
    "round(cor_matrix,2)\n",
    "plt.figure(figsize=(12, 8))\n",
    "sns.heatmap(cor_matrix, cmap='cividis', annot=True, linewidths=2)\n",
    "plt.show()"
   ]
  },
  {
   "cell_type": "code",
   "execution_count": 9,
   "metadata": {
    "execution": {
     "iopub.execute_input": "2023-04-16T08:06:46.337254Z",
     "iopub.status.busy": "2023-04-16T08:06:46.336497Z",
     "iopub.status.idle": "2023-04-16T08:06:47.572378Z",
     "shell.execute_reply": "2023-04-16T08:06:47.571097Z",
     "shell.execute_reply.started": "2023-04-16T08:06:46.337212Z"
    }
   },
   "outputs": [
    {
     "data": {
      "image/png": "[encoded data removed]",
      "text/plain": [
       "<Figure size 640x480 with 1 Axes>"
      ]
     },
     "metadata": {},
     "output_type": "display_data"
    },
    {
     "data": {
      "image/png": "[encoded data removed]",
      "text/plain": [
       "<Figure size 640x480 with 1 Axes>"
      ]
     },
     "metadata": {},
     "output_type": "display_data"
    },
    {
     "data": {
      "image/png": "[encoded data removed]",
      "text/plain": [
       "<Figure size 640x480 with 1 Axes>"
      ]
     },
     "metadata": {},
     "output_type": "display_data"
    }
   ],
   "source": [
    "# Scatterplots for Publish year, month, and day vs. Rating\n",
    "for feature in ['PublishYear', 'PublishMonth', 'PublishDay']: \n",
    "    plt.scatter(train_df[feature], train_df['rating_label'])\n",
    "    plt.xlabel(feature)\n",
    "    plt.ylabel('rating')\n",
    "\n",
    "    values, counts = np.unique(sorted(train_df[feature]), return_counts=True)\n",
    "    avg = []\n",
    "    for i in range(len(values)): \n",
    "        v = values[i]\n",
    "        c = counts[i]\n",
    "        avg.append(sum(train_df.loc[train_df[feature] == v]['rating_label'])/c)\n",
    "    plt.plot(values, avg, color = 'red')\n",
    "    plt.show()"
   ]
  },
  {
   "cell_type": "code",
   "execution_count": 10,
   "metadata": {},
   "outputs": [
    {
     "data": {
      "image/png": "[encoded data removed]",
      "text/plain": [
       "<Figure size 640x480 with 1 Axes>"
      ]
     },
     "metadata": {},
     "output_type": "display_data"
    }
   ],
   "source": [
    "# Histogram for pages number < 2000\n",
    "pageNum = train_df.loc[train_df['pagesNumber']< 2000]['pagesNumber']\n",
    "plt.hist(pageNum, bins = 30)\n",
    "plt.show()"
   ]
  },
  {
   "cell_type": "markdown",
   "metadata": {},
   "source": [
    "# Feature Pre-processing"
   ]
  },
  {
   "cell_type": "markdown",
   "metadata": {},
   "source": [
    "## M1: CountVectorizer"
   ]
  },
  {
   "cell_type": "code",
   "execution_count": 35,
   "metadata": {},
   "outputs": [],
   "source": [
    "import nltk\n",
    "import string\n",
    "from sklearn.feature_extraction.text import CountVectorizer\n",
    "from nltk.corpus import stopwords, wordnet\n",
    "from nltk import word_tokenize\n",
    "from nltk.stem import WordNetLemmatizer"
   ]
  },
  {
   "cell_type": "code",
   "execution_count": 36,
   "metadata": {},
   "outputs": [],
   "source": [
    "def tokenize(text):\n",
    "    text = ''.join([c for c in text if c not in string.punctuation])  # punctuation removal\n",
    "    tokens = nltk.word_tokenize(text)  # tokenization\n",
    "    stop_words = set(stopwords.words('english'))\n",
    "    no_stopwords = [w for w in tokens if w not in stop_words and len(w) > 2]  # stop words removal\n",
    "    lemmatized = [WordNetLemmatizer().lemmatize(w) for w in no_stopwords]  # lemmatization\n",
    "    return lemmatized"
   ]
  },
  {
   "cell_type": "code",
   "execution_count": 37,
   "metadata": {},
   "outputs": [],
   "source": [
    "def preprocess_with_count_vectorizer(feature, train_df, test_df):\n",
    "    train_corpus = train_df[feature]\n",
    "    test = test_df[feature]\n",
    "    \n",
    "    vocab = CountVectorizer(tokenizer=tokenize).fit(train_corpus)\n",
    "    x_train = vocab.transform(train_corpus)\n",
    "    x_test = vocab.transform(test)\n",
    "    \n",
    "    scipy.sparse.save_npz(f'train_{feature}_countVectorizer.npz', x_train)\n",
    "    scipy.sparse.save_npz(f'test_{feature}_countVectorizer.npz', x_test)\n",
    "    \n",
    "    return x_train, x_test"
   ]
  },
  {
   "cell_type": "code",
   "execution_count": 38,
   "metadata": {},
   "outputs": [
    {
     "data": {
      "text/plain": [
       "(<23063x19678 sparse matrix of type '<class 'numpy.int64'>'\n",
       " \twith 99140 stored elements in Compressed Sparse Row format>,\n",
       " <5766x19678 sparse matrix of type '<class 'numpy.int64'>'\n",
       " \twith 21940 stored elements in Compressed Sparse Row format>)"
      ]
     },
     "execution_count": 38,
     "metadata": {},
     "output_type": "execute_result"
    }
   ],
   "source": [
    "preprocess_with_count_vectorizer('Name', train_df, test_df)"
   ]
  },
  {
   "cell_type": "code",
   "execution_count": null,
   "metadata": {},
   "outputs": [],
   "source": [
    "#vocab = pickle.load(open(\"/kaggle/input/book-text-features/book_text_features_countvec/train_name_countvectorizer.pkl\", \"rb\"))"
   ]
  },
  {
   "cell_type": "code",
   "execution_count": null,
   "metadata": {},
   "outputs": [],
   "source": [
    "#vocab_dict = vocab.vocabulary_"
   ]
  },
  {
   "cell_type": "markdown",
   "metadata": {},
   "source": [
    "## M2: doc2Vec"
   ]
  },
  {
   "cell_type": "code",
   "execution_count": 15,
   "metadata": {},
   "outputs": [],
   "source": [
    "import gensim\n",
    "import nltk\n",
    "from nltk.corpus import stopwords, wordnet\n",
    "from nltk.stem import WordNetLemmatizer"
   ]
  },
  {
   "cell_type": "code",
   "execution_count": 16,
   "metadata": {},
   "outputs": [],
   "source": [
    "# size of the output vector\n",
    "vec_size = 100\n",
    "\n",
    "# function to preprocess and tokenize text\n",
    "def tokenize_corpus(txt, tokens_only=False):\n",
    "    for i, line in enumerate(txt):\n",
    "        tokens = gensim.utils.simple_preprocess(line)\n",
    "        tokens = [w for w in tokens if w not in stopwords.words('english') and len(w) > 2]  # stop words removal (also remove words too short)\n",
    "        lemmatizer = WordNetLemmatizer()\n",
    "        tokens = [lemmatizer.lemmatize(w) for w in tokens]  # lemmatize\n",
    "        #print(tokens)\n",
    "        if tokens_only:\n",
    "            yield tokens\n",
    "        else:\n",
    "            yield gensim.models.doc2vec.TaggedDocument(tokens, [i])"
   ]
  },
  {
   "cell_type": "code",
   "execution_count": 41,
   "metadata": {},
   "outputs": [],
   "source": [
    "def preprocess_with_doc2vec(feature, train_df, test_df):\n",
    "    train_corpus = train_df[feature]\n",
    "    test = test_df[feature]\n",
    "    # tokenize a training corpus\n",
    "    corpus = list(tokenize_corpus(train_corpus))\n",
    "    \n",
    "    # train doc2vec on the training corpus\n",
    "    model = gensim.models.doc2vec.Doc2Vec(vector_size=vec_size, min_count=2, epochs=40)\n",
    "    model.build_vocab(corpus)\n",
    "    model.train(corpus, total_examples=model.corpus_count, epochs=model.epochs)\n",
    "\n",
    "    # tokenize new documents\n",
    "    doc = list(tokenize_corpus(test, tokens_only=True))\n",
    "    \n",
    "    # generate embeddings for the new documents in training set\n",
    "    x_train = np.zeros((len(doc),vec_size))\n",
    "    for i in range(len(doc)):\n",
    "        x_train[i,:] = model.infer_vector(doc[i])\n",
    "\n",
    "    # generate embeddings for the new documents in test set\n",
    "    x_test = np.zeros((len(doc),vec_size))  # type = numpy.ndarray\n",
    "    for i in range(len(doc)):\n",
    "        x_test[i,:] = model.infer_vector(doc[i])\n",
    "\n",
    "    # print(x_test)\n",
    "    # check the shape of doc_emb\n",
    "    # print(x_test.shape)\n",
    "    np.savetxt(f'train_{feature}_doc2vec.csv', x_train, delimiter=',')\n",
    "    np.savetxt(f'test_{feature}_doc2vec.csv', x_test, delimiter=',')\n",
    "    return x_train, x_test"
   ]
  },
  {
   "cell_type": "code",
   "execution_count": 42,
   "metadata": {},
   "outputs": [
    {
     "name": "stdout",
     "output_type": "stream",
     "text": [
      "<class 'numpy.ndarray'>\n"
     ]
    },
    {
     "data": {
      "text/plain": [
       "(array([[ 0.11196963,  0.15273769,  0.04297854, ..., -0.04687104,\n",
       "          0.01627849, -0.01782078],\n",
       "        [ 0.08887995,  0.12251815,  0.076112  , ...,  0.05717133,\n",
       "          0.12689632,  0.03760827],\n",
       "        [-0.00845319, -0.07502079,  0.1706717 , ..., -0.04990534,\n",
       "         -0.00581718, -0.0416918 ],\n",
       "        ...,\n",
       "        [-0.14250603,  0.12224836,  0.12557665, ..., -0.11931561,\n",
       "          0.11730058,  0.13045765],\n",
       "        [-0.14543054,  0.09632152, -0.03490108, ..., -0.0760228 ,\n",
       "          0.14981148, -0.10012434],\n",
       "        [ 0.05652768,  0.1308983 ,  0.03039257, ..., -0.09998382,\n",
       "         -0.08211842,  0.01058627]]),\n",
       " array([[ 0.12027495,  0.17154205,  0.03829053, ..., -0.06923746,\n",
       "          0.03413263, -0.03391378],\n",
       "        [ 0.08102742,  0.12855253,  0.05120888, ...,  0.05298989,\n",
       "          0.11989763,  0.03238111],\n",
       "        [-0.02143106, -0.07820677,  0.16679144, ..., -0.05808017,\n",
       "         -0.0561824 , -0.05156116],\n",
       "        ...,\n",
       "        [-0.11859014,  0.1144022 ,  0.14576271, ..., -0.09501491,\n",
       "          0.11075246,  0.12565261],\n",
       "        [-0.15826605,  0.12299965, -0.02560307, ..., -0.08287364,\n",
       "          0.15237604, -0.09644412],\n",
       "        [ 0.06417739,  0.14214694,  0.0231633 , ..., -0.08946822,\n",
       "         -0.09101485,  0.00331291]]))"
      ]
     },
     "execution_count": 42,
     "metadata": {},
     "output_type": "execute_result"
    }
   ],
   "source": [
    "preprocess_with_doc2vec('Name', train_df, test_df)"
   ]
  },
  {
   "cell_type": "markdown",
   "metadata": {},
   "source": [
    "## M3: TfidfVectorizer"
   ]
  },
  {
   "cell_type": "code",
   "execution_count": 28,
   "metadata": {},
   "outputs": [],
   "source": [
    "from sklearn.feature_extraction.text import TfidfVectorizer"
   ]
  },
  {
   "cell_type": "code",
   "execution_count": 39,
   "metadata": {},
   "outputs": [],
   "source": [
    "def preprocess_with_tfidf_vectorizer(feature, train_df, test_df):\n",
    "    train_corpus = train_df[feature]\n",
    "    test = test_df[feature]\n",
    "    \n",
    "    vocab = tfidf_vectorizer = TfidfVectorizer(tokenizer=tokenize).fit(train_corpus)\n",
    "    x_train = vocab.transform(train_corpus)\n",
    "    x_test = vocab.transform(test)\n",
    "    \n",
    "    scipy.sparse.save_npz(f'train_{feature}_tfidf.npz', x_train)\n",
    "    scipy.sparse.save_npz(f'test_{feature}_tfidf.npz', x_test)\n",
    "    \n",
    "    return x_train, x_test"
   ]
  },
  {
   "cell_type": "code",
   "execution_count": 40,
   "metadata": {},
   "outputs": [
    {
     "data": {
      "text/plain": [
       "(<23063x19678 sparse matrix of type '<class 'numpy.float64'>'\n",
       " \twith 99140 stored elements in Compressed Sparse Row format>,\n",
       " <5766x19678 sparse matrix of type '<class 'numpy.float64'>'\n",
       " \twith 21940 stored elements in Compressed Sparse Row format>)"
      ]
     },
     "execution_count": 40,
     "metadata": {},
     "output_type": "execute_result"
    }
   ],
   "source": [
    "preprocess_with_tfidf_vectorizer('Name', train_df, test_df)"
   ]
  },
  {
   "cell_type": "markdown",
   "metadata": {},
   "source": [
    "# Training"
   ]
  },
  {
   "cell_type": "markdown",
   "metadata": {},
   "source": [
    "train_df: original training set, with 'Authors', 'Publisher', 'Language' encoded to numerical attributes\n",
    "test_df: original test set, with 'Authors', 'Publisher', 'Language' encoded to numerical attributes\n",
    "x_full_train: attributes in train_df\n",
    "y_train: class labels (rankings) in train_df\n",
    "x_full_test: attributes in test_df\n",
    "y_test: class labels (rankings) in test_df\n",
    "x_train_transformed:"
   ]
  },
  {
   "cell_type": "code",
   "execution_count": 52,
   "metadata": {},
   "outputs": [],
   "source": [
    "from sklearn import feature_extraction\n",
    "from sklearn.model_selection import train_test_split, cross_validate\n",
    "from sklearn.metrics import classification_report\n",
    "from scipy import sparse"
   ]
  },
  {
   "cell_type": "code",
   "execution_count": 53,
   "metadata": {
    "execution": {
     "iopub.execute_input": "2023-04-16T08:13:22.775671Z",
     "iopub.status.busy": "2023-04-16T08:13:22.775213Z",
     "iopub.status.idle": "2023-04-16T08:13:43.792525Z",
     "shell.execute_reply": "2023-04-16T08:13:43.791586Z",
     "shell.execute_reply.started": "2023-04-16T08:13:22.775631Z"
    }
   },
   "outputs": [
    {
     "data": {
      "text/plain": [
       "<23063x150210 sparse matrix of type '<class 'numpy.float64'>'\n",
       "\twith 1507259 stored elements in Compressed Sparse Row format>"
      ]
     },
     "execution_count": 53,
     "metadata": {},
     "output_type": "execute_result"
    }
   ],
   "source": [
    "# read in and combine the description & name tfidf matrices\n",
    "description_tfidf_matrix = sparse.load_npz('train_Description_tfidf.npz')\n",
    "name_tfidf_matrix = sparse.load_npz('train_Name_tfidf.npz')\n",
    "text_matrix = sparse.hstack((description_tfidf_matrix, name_tfidf_matrix))\n",
    "text_matrix"
   ]
  },
  {
   "cell_type": "code",
   "execution_count": 54,
   "metadata": {},
   "outputs": [
    {
     "data": {
      "text/plain": [
       "<23063x150213 sparse matrix of type '<class 'numpy.float64'>'\n",
       "\twith 1570990 stored elements in Compressed Sparse Row format>"
      ]
     },
     "execution_count": 54,
     "metadata": {},
     "output_type": "execute_result"
    }
   ],
   "source": [
    "# Extract the now numerical features as a matrix\n",
    "numerical_matrix = np.load('train_numerical.npz')['arr_0']\n",
    "#print(numerical_matrix.files)\n",
    "\n",
    "# Combine with the text feature vectors to form a new matrix\n",
    "X_train = sparse.hstack((sparse.csr_matrix(numerical_matrix), text_matrix))\n",
    "X_train"
   ]
  },
  {
   "cell_type": "markdown",
   "metadata": {},
   "source": [
    "## Evaluation"
   ]
  },
  {
   "cell_type": "code",
   "execution_count": 55,
   "metadata": {},
   "outputs": [],
   "source": [
    "# scoring for cross validation\n",
    "def report_scoring(clf, X, y): \n",
    "    y_pred = clf.predict(X)\n",
    "    report = classification_report(y, y_pred, output_dict=True)\n",
    "    report_dict = {}\n",
    "    for label in ['3.0', '4.0', '5.0']: \n",
    "        for metric in ['precision', 'recall', 'f1-score']: \n",
    "            report_dict[label + '_' + metric] = report[label][metric]\n",
    "    report_dict['accuracy'] = report['accuracy']\n",
    "    return report_dict"
   ]
  },
  {
   "cell_type": "markdown",
   "metadata": {},
   "source": [
    "## SVM"
   ]
  },
  {
   "cell_type": "code",
   "execution_count": 56,
   "metadata": {},
   "outputs": [],
   "source": [
    "from sklearn import svm"
   ]
  },
  {
   "cell_type": "code",
   "execution_count": null,
   "metadata": {},
   "outputs": [
    {
     "name": "stderr",
     "output_type": "stream",
     "text": [
      "/usr/local/lib/python3.9/site-packages/sklearn/svm/_base.py:1225: ConvergenceWarning: Liblinear failed to converge, increase the number of iterations.\n",
      "  warnings.warn(\n",
      "/usr/local/lib/python3.9/site-packages/sklearn/metrics/_classification.py:1327: UndefinedMetricWarning: Precision and F-score are ill-defined and being set to 0.0 in labels with no predicted samples. Use `zero_division` parameter to control this behavior.\n",
      "  _warn_prf(average, modifier, msg_start, len(result))\n",
      "/usr/local/lib/python3.9/site-packages/sklearn/metrics/_classification.py:1327: UndefinedMetricWarning: Precision and F-score are ill-defined and being set to 0.0 in labels with no predicted samples. Use `zero_division` parameter to control this behavior.\n",
      "  _warn_prf(average, modifier, msg_start, len(result))\n",
      "/usr/local/lib/python3.9/site-packages/sklearn/metrics/_classification.py:1327: UndefinedMetricWarning: Precision and F-score are ill-defined and being set to 0.0 in labels with no predicted samples. Use `zero_division` parameter to control this behavior.\n",
      "  _warn_prf(average, modifier, msg_start, len(result))\n",
      "/usr/local/lib/python3.9/site-packages/sklearn/svm/_base.py:1225: ConvergenceWarning: Liblinear failed to converge, increase the number of iterations.\n",
      "  warnings.warn(\n",
      "/usr/local/lib/python3.9/site-packages/sklearn/metrics/_classification.py:1327: UndefinedMetricWarning: Precision and F-score are ill-defined and being set to 0.0 in labels with no predicted samples. Use `zero_division` parameter to control this behavior.\n",
      "  _warn_prf(average, modifier, msg_start, len(result))\n",
      "/usr/local/lib/python3.9/site-packages/sklearn/metrics/_classification.py:1327: UndefinedMetricWarning: Precision and F-score are ill-defined and being set to 0.0 in labels with no predicted samples. Use `zero_division` parameter to control this behavior.\n",
      "  _warn_prf(average, modifier, msg_start, len(result))\n",
      "/usr/local/lib/python3.9/site-packages/sklearn/metrics/_classification.py:1327: UndefinedMetricWarning: Precision and F-score are ill-defined and being set to 0.0 in labels with no predicted samples. Use `zero_division` parameter to control this behavior.\n",
      "  _warn_prf(average, modifier, msg_start, len(result))\n"
     ]
    }
   ],
   "source": [
    "# run SVM with description + name\n",
    "linearSVM = sklearn.svm.LinearSVC(random_state = 30027)\n",
    "result = cross_validate(linearSVM, X_train, y_train, scoring = report_scoring, cv=20)"
   ]
  },
  {
   "cell_type": "code",
   "execution_count": null,
   "metadata": {},
   "outputs": [],
   "source": [
    "# result of SVM with description + name\n",
    "pd.DataFrame.from_dict(result)[['test_3.0_f1-score','test_4.0_f1-score','test_5.0_f1-score','test_accuracy']]"
   ]
  },
  {
   "cell_type": "markdown",
   "metadata": {},
   "source": [
    "## Baseline - 0R & 1R"
   ]
  },
  {
   "cell_type": "code",
   "execution_count": 27,
   "metadata": {
    "execution": {
     "iopub.execute_input": "2023-04-16T08:33:57.307355Z",
     "iopub.status.busy": "2023-04-16T08:33:57.306901Z",
     "iopub.status.idle": "2023-04-16T08:33:57.359791Z",
     "shell.execute_reply": "2023-04-16T08:33:57.358692Z",
     "shell.execute_reply.started": "2023-04-16T08:33:57.307317Z"
    }
   },
   "outputs": [],
   "source": [
    "from sklearn.tree import DecisionTreeClassifier\n",
    "from sklearn.metrics import accuracy_score\n",
    "from sklearn.preprocessing import KBinsDiscretizer\n",
    "from sklearn.impute import SimpleImputer\n",
    "from sklearn.metrics import classification_report\n",
    "from sklearn.dummy import DummyClassifier"
   ]
  },
  {
   "cell_type": "code",
   "execution_count": null,
   "metadata": {},
   "outputs": [],
   "source": [
    "# build and test 0R and 1R model\n",
    "zero_r = DummyClassifier(strategy = 'most_frequent')\n",
    "one_r = DecisionTreeClassifier(max_depth=1)\n",
    "models = [zero_r, one_r]\n",
    "X_train_num = X_ttrain\n",
    "del X_train_num[\"Description\"]\n",
    "del X_train_num[\"Name\"]\n",
    "X_val_num = X_val\n",
    "del X_val_num[\"Description\"]\n",
    "del X_val_num[\"Name\"]\n",
    "for model in models: \n",
    "    model.fit(X_train_num, y_ttrain)\n",
    "    print(model)\n",
    "    print(classification_report(y_val, model.predict(X_val_num)))\n",
    "    print('\\n\\n')"
   ]
  },
  {
   "cell_type": "code",
   "execution_count": null,
   "metadata": {},
   "outputs": [],
   "source": []
  },
  {
   "cell_type": "markdown",
   "metadata": {},
   "source": [
    "## "
   ]
  },
  {
   "cell_type": "markdown",
   "metadata": {},
   "source": [
    "# Evaluation"
   ]
  },
  {
   "cell_type": "code",
   "execution_count": null,
   "metadata": {},
   "outputs": [],
   "source": []
  }
 ],
 "metadata": {
  "kernelspec": {
   "display_name": "Python 3 (ipykernel)",
   "language": "python",
   "name": "python3"
  },
  "language_info": {
   "codemirror_mode": {
    "name": "ipython",
    "version": 3
   },
   "file_extension": ".py",
   "mimetype": "text/x-python",
   "name": "python",
   "nbconvert_exporter": "python",
   "pygments_lexer": "ipython3",
   "version": "3.9.16"
  }
 },
 "nbformat": 4,
 "nbformat_minor": 4
}
