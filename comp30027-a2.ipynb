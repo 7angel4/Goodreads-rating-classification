{
 "cells": [
  {
   "cell_type": "code",
   "execution_count": 139,
   "metadata": {},
   "outputs": [],
   "source": [
    "%run Text_Preprocessing.ipynb\n",
    "%run Validation_and_Testing.ipynb"
   ]
  },
  {
   "cell_type": "markdown",
   "metadata": {},
   "source": [
    "Documentation:\n",
    "1. Converted class label to categorical\n",
    "2. Supplied (original) vectorisers + TF-IDF vectorizer\n",
    "3. Added preprocessing (punctuation removal, casefolding, stop-words removal (including words to short), lemmatization) steps to the text features\n",
    "4. Encoded the simple string features ('Authors', 'Publisher', 'Language')\n",
    "5. Dimensionality reduction with TruncatedSVD\n",
    "6. Bigrams instead of words\n",
    "7. Feature selection with SelectKBest\n",
    "8. Standardization of 'pageNumbers' \n",
    "9. Instead of 8: Take the log of the standardized 'pageNumbers' using MinMaxScaler\n",
    "\n",
    "Yet to try:\n",
    "* Discretisation of PageNumbers"
   ]
  },
  {
   "cell_type": "code",
   "execution_count": 2,
   "metadata": {
    "execution": {
     "iopub.execute_input": "2023-04-16T08:13:06.888402Z",
     "iopub.status.busy": "2023-04-16T08:13:06.887900Z",
     "iopub.status.idle": "2023-04-16T08:13:07.176277Z",
     "shell.execute_reply": "2023-04-16T08:13:07.175364Z",
     "shell.execute_reply.started": "2023-04-16T08:13:06.888358Z"
    }
   },
   "outputs": [],
   "source": [
    "import pandas as pd\n",
    "import numpy as np\n",
    "import sklearn\n",
    "import matplotlib.pyplot as plt\n",
    "import pickle\n",
    "import seaborn as sns\n",
    "import scipy\n",
    "import re\n",
    "from sklearn.metrics.cluster import normalized_mutual_info_score\n",
    "from sklearn.model_selection import train_test_split"
   ]
  },
  {
   "cell_type": "code",
   "execution_count": 3,
   "metadata": {},
   "outputs": [],
   "source": [
    "import warnings\n",
    "warnings.filterwarnings('ignore')"
   ]
  },
  {
   "cell_type": "code",
   "execution_count": 4,
   "metadata": {},
   "outputs": [
    {
     "name": "stdout",
     "output_type": "stream",
     "text": [
      "Training set size: 23063\n",
      "Test set size: 5766\n"
     ]
    }
   ],
   "source": [
    "# Load datasets\n",
    "original_train_df = pd.read_csv(r\"book_rating_train.csv\", index_col = False, delimiter = ',', header=0)\n",
    "test_df = pd.read_csv(r\"book_rating_test.csv\", index_col = False, delimiter = ',', header=0)\n",
    "print(\"Training set size:\", len(original_train_df))\n",
    "print(\"Test set size:\", len(test_df))"
   ]
  },
  {
   "cell_type": "code",
   "execution_count": 5,
   "metadata": {
    "scrolled": true
   },
   "outputs": [],
   "source": [
    "# Take a holdout as the validation set (our own labelled, test set)\n",
    "train_df, val_df = train_test_split(original_train_df, train_size=0.8, random_state=30027)"
   ]
  },
  {
   "cell_type": "markdown",
   "metadata": {},
   "source": [
    "# Preprocessing"
   ]
  },
  {
   "cell_type": "code",
   "execution_count": 6,
   "metadata": {},
   "outputs": [],
   "source": [
    "STRING_FEATURES = ['Authors', 'Publisher', 'Language']\n",
    "NUMERICAL_FEATURES = ['PublishYear', 'PublishMonth', 'PublishDay', 'pagesNumber']\n",
    "TEXT_FEATURES = ['Name', 'Description']\n",
    "CLASS_LABEL = 'rating_label'"
   ]
  },
  {
   "cell_type": "code",
   "execution_count": 7,
   "metadata": {},
   "outputs": [
    {
     "name": "stdout",
     "output_type": "stream",
     "text": [
      "Rating 3.0: 5864 instances\n",
      "Rating 4.0: 16208 instances\n",
      "Rating 5.0: 991 instances\n"
     ]
    }
   ],
   "source": [
    "# Check class distributions\n",
    "class_labels, count = np.unique(original_train_df['rating_label'], return_counts=True)\n",
    "for pair in zip(class_labels, count):\n",
    "    print(f\"Rating {pair[0]}: {pair[1]} instances\")"
   ]
  },
  {
   "cell_type": "markdown",
   "metadata": {},
   "source": [
    "## Preprocess String features: Language, Authors, and Publisher"
   ]
  },
  {
   "cell_type": "code",
   "execution_count": 8,
   "metadata": {},
   "outputs": [
    {
     "name": "stdout",
     "output_type": "stream",
     "text": [
      "There are 16301 unique 'Authors' values.\n",
      "There are 0 missing 'Authors' values.\n",
      "\n",
      "There are 4247 unique 'Publisher' values.\n",
      "There are 148 missing 'Publisher' values.\n",
      "\n",
      "There are 18 unique 'Language' values.\n",
      "There are 17202 missing 'Language' values.\n",
      "\n"
     ]
    }
   ],
   "source": [
    "for feature in STRING_FEATURES:\n",
    "    print(f\"There are {original_train_df[feature].nunique()} unique '{feature}' values.\")\n",
    "    print(f\"There are {original_train_df[feature].isna().sum()} missing '{feature}' values.\\n\")\n",
    "\n",
    "# Too many missing values in 'Language'. Let's drop it.\n",
    "train_df = train_df.drop('Language', axis=1)"
   ]
  },
  {
   "cell_type": "code",
   "execution_count": 9,
   "metadata": {},
   "outputs": [],
   "source": [
    "# For Authors and Publisher, we just do a general text preprocessing here\n",
    "# The models will have their own strategies to deal with these\n",
    "for feature in ['Authors', 'Publisher']:\n",
    "    train_df[feature] = train_df[feature].apply(lambda x: preprocess(str(x), stop_words_removal=False, lemmatize=False, min_word_len=0))"
   ]
  },
  {
   "cell_type": "markdown",
   "metadata": {},
   "source": [
    "## Preprocess Numerical features: PublishDates and pagesNumber"
   ]
  },
  {
   "cell_type": "markdown",
   "metadata": {},
   "source": [
    "### Data Visualisation"
   ]
  },
  {
   "cell_type": "code",
   "execution_count": 10,
   "metadata": {},
   "outputs": [
    {
     "name": "stdout",
     "output_type": "stream",
     "text": [
      "NMI for PublishYear = 0.005703215058084223\n",
      "NMI for PublishMonth = 0.0007283804738261772\n",
      "NMI for PublishDay = 0.0013567943627829909\n",
      "NMI for pagesNumber = 0.022262112423956495\n"
     ]
    }
   ],
   "source": [
    "# Look at NMI of the numerical attributes\n",
    "train_numerical_df = train_df[NUMERICAL_FEATURES]\n",
    "train_label = train_df[CLASS_LABEL]\n",
    "\n",
    "for feature in NUMERICAL_FEATURES:\n",
    "    print(f\"NMI for {feature} =\", normalized_mutual_info_score(train_numerical_df[feature], train_label))"
   ]
  },
  {
   "cell_type": "code",
   "execution_count": 11,
   "metadata": {
    "execution": {
     "iopub.execute_input": "2023-04-16T08:06:40.804818Z",
     "iopub.status.busy": "2023-04-16T08:06:40.803332Z",
     "iopub.status.idle": "2023-04-16T08:06:41.319477Z",
     "shell.execute_reply": "2023-04-16T08:06:41.317637Z",
     "shell.execute_reply.started": "2023-04-16T08:06:40.804753Z"
    }
   },
   "outputs": [
    {
     "data": {
      "image/png": "[encoded data removed]",
      "text/plain": [
       "<Figure size 864x576 with 2 Axes>"
      ]
     },
     "metadata": {
      "needs_background": "light"
     },
     "output_type": "display_data"
    }
   ],
   "source": [
    "# Look at the correlation matrix of the numerical attributes\n",
    "cor_matrix = train_df[NUMERICAL_FEATURES + [CLASS_LABEL]].corr()\n",
    "round(cor_matrix, 2)\n",
    "plt.figure(figsize=(12, 8))\n",
    "sns.heatmap(cor_matrix, cmap='cividis', annot=True, linewidths=2)\n",
    "plt.show()"
   ]
  },
  {
   "cell_type": "code",
   "execution_count": 12,
   "metadata": {},
   "outputs": [],
   "source": [
    "def scatter_vs_rating(df, feature):\n",
    "    plt.scatter(df[feature], df['rating_label'])\n",
    "    plt.xlabel(feature)\n",
    "    plt.ylabel('rating')"
   ]
  },
  {
   "cell_type": "code",
   "execution_count": 13,
   "metadata": {},
   "outputs": [],
   "source": [
    "def hist_plot(df, feature, bins=30):\n",
    "    plt.hist(df[feature], bins=bins)\n",
    "    plt.xlabel(feature)\n",
    "    plt.ylabel('frequency')\n",
    "    plt.show()"
   ]
  },
  {
   "cell_type": "code",
   "execution_count": 14,
   "metadata": {
    "execution": {
     "iopub.execute_input": "2023-04-16T08:06:46.337254Z",
     "iopub.status.busy": "2023-04-16T08:06:46.336497Z",
     "iopub.status.idle": "2023-04-16T08:06:47.572378Z",
     "shell.execute_reply": "2023-04-16T08:06:47.571097Z",
     "shell.execute_reply.started": "2023-04-16T08:06:46.337212Z"
    }
   },
   "outputs": [
    {
     "data": {
      "image/png": "[encoded data removed]",
      "text/plain": [
       "<Figure size 432x288 with 1 Axes>"
      ]
     },
     "metadata": {
      "needs_background": "light"
     },
     "output_type": "display_data"
    },
    {
     "data": {
      "image/png": "[encoded data removed]",
      "text/plain": [
       "<Figure size 432x288 with 1 Axes>"
      ]
     },
     "metadata": {
      "needs_background": "light"
     },
     "output_type": "display_data"
    },
    {
     "data": {
      "image/png": "[encoded data removed]",
      "text/plain": [
       "<Figure size 432x288 with 1 Axes>"
      ]
     },
     "metadata": {
      "needs_background": "light"
     },
     "output_type": "display_data"
    }
   ],
   "source": [
    "# Scatterplots for Publish year, month, and day vs. Rating\n",
    "for feature in ['PublishYear', 'PublishMonth', 'PublishDay']: \n",
    "    scatter_vs_rating(train_df, feature)\n",
    "    \n",
    "    # Look at the average rating for each value\n",
    "    values, counts = np.unique(sorted(train_df[feature]), return_counts=True)\n",
    "    avg = [sum(train_df.loc[train_df[feature] == values[i]]['rating_label']) / counts[i] for i in range(len(values))]\n",
    "    plt.plot(values, avg, color = 'red')\n",
    "    plt.show()"
   ]
  },
  {
   "cell_type": "code",
   "execution_count": 15,
   "metadata": {},
   "outputs": [],
   "source": [
    "# Looks like there's little correlation between the Publish time and rating_label\n",
    "# Let's discard PublishMonth and PublishDay\n",
    "train_df = train_df.drop(['PublishMonth', 'PublishDay'], axis=1)"
   ]
  },
  {
   "cell_type": "code",
   "execution_count": 16,
   "metadata": {},
   "outputs": [
    {
     "data": {
      "image/png": "[encoded data removed]",
      "text/plain": [
       "<Figure size 432x288 with 1 Axes>"
      ]
     },
     "metadata": {
      "needs_background": "light"
     },
     "output_type": "display_data"
    }
   ],
   "source": [
    "# Histogram for pages number < 2000\n",
    "hist_plot(train_df.loc[train_df['pagesNumber'] < 2000], 'pagesNumber')"
   ]
  },
  {
   "cell_type": "code",
   "execution_count": 17,
   "metadata": {},
   "outputs": [
    {
     "data": {
      "image/png": "[encoded data removed]",
      "text/plain": [
       "<Figure size 432x288 with 1 Axes>"
      ]
     },
     "metadata": {
      "needs_background": "light"
     },
     "output_type": "display_data"
    }
   ],
   "source": [
    "scatter_vs_rating(train_df, 'pagesNumber')\n",
    "plt.show()"
   ]
  },
  {
   "cell_type": "code",
   "execution_count": 18,
   "metadata": {},
   "outputs": [],
   "source": [
    "# Try discretizing it\n",
    "from sklearn.preprocessing import KBinsDiscretizer\n",
    "\n",
    "def discretize(df, feature, discretizer=None, strategy='kmeans', n_bins=7):\n",
    "    if discretizer is None:\n",
    "        discretizer = KBinsDiscretizer(n_bins=n_bins, encode='ordinal', strategy=strategy)\n",
    "        discretizer.fit(df[[feature]])\n",
    "        \n",
    "    transformed_df = df.copy()\n",
    "    transformed_df[feature] = discretizer.transform(df[[feature]])\n",
    "    \n",
    "    return transformed_df, discretizer"
   ]
  },
  {
   "cell_type": "code",
   "execution_count": 19,
   "metadata": {},
   "outputs": [],
   "source": [
    "DISCRETIZATION_STRATEGIES = ['kmeans', 'quantile', 'uniform']\n",
    "\n",
    "def tune_discretization(X, y, feature, lower, upper):\n",
    "    \"\"\"\n",
    "    Returns the combination of n (number of bins) and discretisation strategy \n",
    "    that gives the highest normalised mutual information between `X` and `y`.\n",
    "    \"\"\"\n",
    "    \n",
    "    max_nmi = 0\n",
    "    best_n = 0\n",
    "    best_strategy = None\n",
    "    \n",
    "    for n in range(lower, upper+1):\n",
    "        for strategy in DISCRETIZATION_STRATEGIES:\n",
    "            transformed_X, _ = discretize(X, feature, strategy=strategy, n_bins=n)\n",
    "            nmi = normalized_mutual_info_score(transformed_X[feature], y)\n",
    "            if nmi > max_nmi:\n",
    "                max_nmi = nmi\n",
    "                best_n = n\n",
    "                best_strategy = strategy\n",
    "    \n",
    "    return max_nmi, best_n, best_strategy"
   ]
  },
  {
   "cell_type": "code",
   "execution_count": 20,
   "metadata": {},
   "outputs": [
    {
     "name": "stdout",
     "output_type": "stream",
     "text": [
      "The number of bins that gives the highest NMI with rating_label is 7\n",
      "The highest NMI is: 0.013661409211904464\n",
      "The best strategy is: kmeans\n"
     ]
    }
   ],
   "source": [
    "max_nmi_pn, best_n_pn, best_strategy_pn = tune_discretization(train_numerical_df, train_label, 'pagesNumber', 2, 20)\n",
    "print(\"The number of bins that gives the highest NMI with rating_label is\", best_n_pn)\n",
    "print(\"The highest NMI is:\", max_nmi_pn)\n",
    "print(\"The best strategy is:\", best_strategy_pn)"
   ]
  },
  {
   "cell_type": "code",
   "execution_count": 21,
   "metadata": {},
   "outputs": [
    {
     "data": {
      "text/plain": [
       "(array([0., 1., 2., 3., 4., 5., 6.]),\n",
       " array([5572, 8499, 3564,  712,  100,    2,    1]))"
      ]
     },
     "execution_count": 21,
     "metadata": {},
     "output_type": "execute_result"
    }
   ],
   "source": [
    "train_df, discretizer_pn = discretize(train_df, 'pagesNumber', strategy='kmeans', n_bins=7)\n",
    "np.unique(train_df['pagesNumber'], return_counts=True)"
   ]
  },
  {
   "cell_type": "code",
   "execution_count": 22,
   "metadata": {},
   "outputs": [
    {
     "data": {
      "image/png": "[encoded data removed]",
      "text/plain": [
       "<Figure size 432x288 with 1 Axes>"
      ]
     },
     "metadata": {
      "needs_background": "light"
     },
     "output_type": "display_data"
    }
   ],
   "source": [
    "scatter_vs_rating(train_df, 'pagesNumber')"
   ]
  },
  {
   "cell_type": "code",
   "execution_count": 23,
   "metadata": {},
   "outputs": [
    {
     "name": "stdout",
     "output_type": "stream",
     "text": [
      "The number of bins that gives the highest NMI with rating_label is 15\n",
      "The highest NMI is: 0.006807258586597651\n",
      "The best strategy is: uniform\n"
     ]
    }
   ],
   "source": [
    "# Try discretizing PublishYear as well \n",
    "max_nmi_py, best_n_py, best_strategy_py = tune_discretization(train_numerical_df, train_label, 'PublishYear', 2, 100)\n",
    "print(\"The number of bins that gives the highest NMI with rating_label is\", best_n_py)\n",
    "print(\"The highest NMI is:\", max_nmi_py)\n",
    "print(\"The best strategy is:\", best_strategy_py)"
   ]
  },
  {
   "cell_type": "code",
   "execution_count": 24,
   "metadata": {},
   "outputs": [
    {
     "data": {
      "text/plain": [
       "(array([ 0.,  4.,  5.,  6.,  7.,  8.,  9., 10., 11., 12., 13., 14.]),\n",
       " array([    1,     3,     3,     5,     5,    17,    50,   189,   868,\n",
       "         4018, 13008,   283]))"
      ]
     },
     "execution_count": 24,
     "metadata": {},
     "output_type": "execute_result"
    }
   ],
   "source": [
    "train_df, discretizer_py = discretize(train_df, 'PublishYear', strategy='uniform', n_bins=15)\n",
    "np.unique(train_df['PublishYear'], return_counts=True)"
   ]
  },
  {
   "cell_type": "code",
   "execution_count": 25,
   "metadata": {},
   "outputs": [
    {
     "data": {
      "image/png": "[encoded data removed]",
      "text/plain": [
       "<Figure size 432x288 with 1 Axes>"
      ]
     },
     "metadata": {
      "needs_background": "light"
     },
     "output_type": "display_data"
    }
   ],
   "source": [
    "scatter_vs_rating(train_df, 'PublishYear')"
   ]
  },
  {
   "cell_type": "markdown",
   "metadata": {},
   "source": [
    "## Text Pre-processing"
   ]
  },
  {
   "cell_type": "code",
   "execution_count": 26,
   "metadata": {},
   "outputs": [],
   "source": [
    "# We use a different delimiter for the name and description bigrams, to prevent duplicate column namaes\n",
    "train_df_name, vectorizer_name = preprocess_text_feature(train_df, 'Name', ngram=2, delimiter='_')  # can try ngram=1\n",
    "train_df_desc, vectorizer_desc = preprocess_text_feature(train_df, 'Description', ngram=2)\n",
    "# print(sorted(vectorizer_name.vocabulary_))\n",
    "# print(sorted(vectorizer_desc.vocabulary_))"
   ]
  },
  {
   "cell_type": "code",
   "execution_count": 27,
   "metadata": {
    "scrolled": false
   },
   "outputs": [],
   "source": [
    "# Bind them together\n",
    "train_df = pd.concat([train_df.reset_index(drop=True), train_df_name, train_df_desc], axis=1)\n",
    "train_df = train_df.drop(TEXT_FEATURES, axis=1)  # drop the original columns"
   ]
  },
  {
   "cell_type": "markdown",
   "metadata": {},
   "source": [
    "## Convert rating_label to categorical class label"
   ]
  },
  {
   "cell_type": "code",
   "execution_count": 28,
   "metadata": {
    "scrolled": true
   },
   "outputs": [],
   "source": [
    "# Finally, convert rating_label to categorical class label\n",
    "train_df[CLASS_LABEL] = train_df[CLASS_LABEL].astype('category')\n",
    "# move rating_label to the last column\n",
    "labels = train_df[CLASS_LABEL]\n",
    "train_df = pd.concat([train_df.drop([CLASS_LABEL], axis=1), labels], axis=1) "
   ]
  },
  {
   "cell_type": "code",
   "execution_count": 29,
   "metadata": {},
   "outputs": [],
   "source": [
    "DTYPE = train_df.dtypes.apply(lambda x: x.name).to_dict()  # needed for reading the CSV later\n",
    "DTYPE['Authors'] = 'string'\n",
    "DTYPE['Publisher'] = 'string'"
   ]
  },
  {
   "cell_type": "code",
   "execution_count": 30,
   "metadata": {},
   "outputs": [],
   "source": [
    "# Save the general transformed df\n",
    "train_df.to_csv(\"transformed_train_df.csv\", index=False)"
   ]
  },
  {
   "cell_type": "markdown",
   "metadata": {},
   "source": [
    "## Preprocessing: Altogether"
   ]
  },
  {
   "cell_type": "code",
   "execution_count": 31,
   "metadata": {},
   "outputs": [],
   "source": [
    "def preprocess_test_df(df, discretizer_pn=None, discretizer_py=None, vectorizer_name=None, vectorizer_desc=None):\n",
    "    # preprocess string features\n",
    "    for feature in ['Authors', 'Publisher']:\n",
    "        df[feature] = df[feature].apply(lambda x: preprocess(str(x), stop_words_removal=False, lemmatize=False, min_word_len=0))\n",
    "    \n",
    "    # preprocess pagesNumber and PublishYear\n",
    "    df, _ = discretize(df, 'pagesNumber', discretizer=discretizer_pn)\n",
    "    df, _ = discretize(df, 'PublishYear', discretizer=discretizer_py)\n",
    "    \n",
    "    # preprocess text features\n",
    "    df_name, _ = preprocess_text_feature(df, 'Name', vectorizer=vectorizer_name, delimiter='_')\n",
    "    df_desc, _ = preprocess_text_feature(df, 'Description', vectorizer=vectorizer_desc)\n",
    "    \n",
    "    # discard the obsolete original features and some unwanted features\n",
    "    df = pd.concat([df.reset_index(drop=True), df_name, df_desc], axis=1)\n",
    "    df = df.drop(['Name', 'Description', 'PublishMonth', 'PublishDay', 'Language'], axis=1)\n",
    "        \n",
    "    return df, discretizer_pn, discretizer_py, vectorizer_name, vectorizer_desc"
   ]
  },
  {
   "cell_type": "code",
   "execution_count": 32,
   "metadata": {},
   "outputs": [],
   "source": [
    "val_df_X = preprocess_test_df(val_df.iloc[:,:-1], discretizer_pn, discretizer_py, vectorizer_name, vectorizer_desc)[0]\n",
    "val_df_y = val_df[CLASS_LABEL].astype('category')\n",
    "val_df = pd.concat([val_df_X, val_df_y.reset_index(drop=True)], axis=1)"
   ]
  },
  {
   "cell_type": "code",
   "execution_count": 33,
   "metadata": {},
   "outputs": [
    {
     "data": {
      "text/html": [
       "<div>\n",
       "<style scoped>\n",
       "    .dataframe tbody tr th:only-of-type {\n",
       "        vertical-align: middle;\n",
       "    }\n",
       "\n",
       "    .dataframe tbody tr th {\n",
       "        vertical-align: top;\n",
       "    }\n",
       "\n",
       "    .dataframe thead th {\n",
       "        text-align: right;\n",
       "    }\n",
       "</style>\n",
       "<table border=\"1\" class=\"dataframe\">\n",
       "  <thead>\n",
       "    <tr style=\"text-align: right;\">\n",
       "      <th></th>\n",
       "      <th>Authors</th>\n",
       "      <th>PublishYear</th>\n",
       "      <th>Publisher</th>\n",
       "      <th>pagesNumber</th>\n",
       "      <th>survival_guide</th>\n",
       "      <th>everything_need</th>\n",
       "      <th>need_know</th>\n",
       "      <th>civil_right</th>\n",
       "      <th>story_behind</th>\n",
       "      <th>every_day</th>\n",
       "      <th>...</th>\n",
       "      <th>three decade</th>\n",
       "      <th>wall street</th>\n",
       "      <th>little girl</th>\n",
       "      <th>comic book</th>\n",
       "      <th>million copy</th>\n",
       "      <th>help student</th>\n",
       "      <th>old testament</th>\n",
       "      <th>orson scott</th>\n",
       "      <th>scott card</th>\n",
       "      <th>rating_label</th>\n",
       "    </tr>\n",
       "  </thead>\n",
       "  <tbody>\n",
       "    <tr>\n",
       "      <th>0</th>\n",
       "      <td>william johnstone</td>\n",
       "      <td>13.0</td>\n",
       "      <td>pinnacle</td>\n",
       "      <td>1.0</td>\n",
       "      <td>0.0</td>\n",
       "      <td>0.0</td>\n",
       "      <td>0.0</td>\n",
       "      <td>0.0</td>\n",
       "      <td>0.0</td>\n",
       "      <td>0.0</td>\n",
       "      <td>...</td>\n",
       "      <td>0.0</td>\n",
       "      <td>0.000000</td>\n",
       "      <td>0.0</td>\n",
       "      <td>0.000000</td>\n",
       "      <td>0.0</td>\n",
       "      <td>0.0</td>\n",
       "      <td>0.0</td>\n",
       "      <td>0.0</td>\n",
       "      <td>1.000000</td>\n",
       "      <td>4.0</td>\n",
       "    </tr>\n",
       "    <tr>\n",
       "      <th>1</th>\n",
       "      <td>simon sebag montefiore</td>\n",
       "      <td>13.0</td>\n",
       "      <td>knopf</td>\n",
       "      <td>2.0</td>\n",
       "      <td>0.0</td>\n",
       "      <td>0.0</td>\n",
       "      <td>0.0</td>\n",
       "      <td>0.0</td>\n",
       "      <td>0.0</td>\n",
       "      <td>0.0</td>\n",
       "      <td>...</td>\n",
       "      <td>0.0</td>\n",
       "      <td>0.000000</td>\n",
       "      <td>0.0</td>\n",
       "      <td>0.000000</td>\n",
       "      <td>0.0</td>\n",
       "      <td>0.0</td>\n",
       "      <td>0.0</td>\n",
       "      <td>0.0</td>\n",
       "      <td>0.000000</td>\n",
       "      <td>4.0</td>\n",
       "    </tr>\n",
       "    <tr>\n",
       "      <th>2</th>\n",
       "      <td>richard holmes</td>\n",
       "      <td>13.0</td>\n",
       "      <td>basic books</td>\n",
       "      <td>2.0</td>\n",
       "      <td>0.0</td>\n",
       "      <td>0.0</td>\n",
       "      <td>0.0</td>\n",
       "      <td>0.0</td>\n",
       "      <td>0.0</td>\n",
       "      <td>0.0</td>\n",
       "      <td>...</td>\n",
       "      <td>0.0</td>\n",
       "      <td>0.000000</td>\n",
       "      <td>0.0</td>\n",
       "      <td>0.000000</td>\n",
       "      <td>0.0</td>\n",
       "      <td>0.0</td>\n",
       "      <td>0.0</td>\n",
       "      <td>0.0</td>\n",
       "      <td>0.000000</td>\n",
       "      <td>3.0</td>\n",
       "    </tr>\n",
       "    <tr>\n",
       "      <th>3</th>\n",
       "      <td>beverly connor</td>\n",
       "      <td>13.0</td>\n",
       "      <td>cumberland house publishing</td>\n",
       "      <td>1.0</td>\n",
       "      <td>0.0</td>\n",
       "      <td>0.0</td>\n",
       "      <td>0.0</td>\n",
       "      <td>0.0</td>\n",
       "      <td>0.0</td>\n",
       "      <td>0.0</td>\n",
       "      <td>...</td>\n",
       "      <td>0.0</td>\n",
       "      <td>0.000000</td>\n",
       "      <td>0.0</td>\n",
       "      <td>0.000000</td>\n",
       "      <td>0.0</td>\n",
       "      <td>0.0</td>\n",
       "      <td>0.0</td>\n",
       "      <td>0.0</td>\n",
       "      <td>0.000000</td>\n",
       "      <td>4.0</td>\n",
       "    </tr>\n",
       "    <tr>\n",
       "      <th>4</th>\n",
       "      <td>stephen whitfield</td>\n",
       "      <td>12.0</td>\n",
       "      <td>johns hopkins university press</td>\n",
       "      <td>1.0</td>\n",
       "      <td>0.0</td>\n",
       "      <td>0.0</td>\n",
       "      <td>0.0</td>\n",
       "      <td>0.0</td>\n",
       "      <td>0.0</td>\n",
       "      <td>0.0</td>\n",
       "      <td>...</td>\n",
       "      <td>0.0</td>\n",
       "      <td>0.567391</td>\n",
       "      <td>0.0</td>\n",
       "      <td>0.000000</td>\n",
       "      <td>0.0</td>\n",
       "      <td>0.0</td>\n",
       "      <td>0.0</td>\n",
       "      <td>0.0</td>\n",
       "      <td>0.000000</td>\n",
       "      <td>4.0</td>\n",
       "    </tr>\n",
       "    <tr>\n",
       "      <th>...</th>\n",
       "      <td>...</td>\n",
       "      <td>...</td>\n",
       "      <td>...</td>\n",
       "      <td>...</td>\n",
       "      <td>...</td>\n",
       "      <td>...</td>\n",
       "      <td>...</td>\n",
       "      <td>...</td>\n",
       "      <td>...</td>\n",
       "      <td>...</td>\n",
       "      <td>...</td>\n",
       "      <td>...</td>\n",
       "      <td>...</td>\n",
       "      <td>...</td>\n",
       "      <td>...</td>\n",
       "      <td>...</td>\n",
       "      <td>...</td>\n",
       "      <td>...</td>\n",
       "      <td>...</td>\n",
       "      <td>...</td>\n",
       "      <td>...</td>\n",
       "    </tr>\n",
       "    <tr>\n",
       "      <th>4608</th>\n",
       "      <td>timothy ross</td>\n",
       "      <td>13.0</td>\n",
       "      <td>wiley</td>\n",
       "      <td>3.0</td>\n",
       "      <td>0.0</td>\n",
       "      <td>0.0</td>\n",
       "      <td>0.0</td>\n",
       "      <td>0.0</td>\n",
       "      <td>0.0</td>\n",
       "      <td>0.0</td>\n",
       "      <td>...</td>\n",
       "      <td>0.0</td>\n",
       "      <td>0.000000</td>\n",
       "      <td>0.0</td>\n",
       "      <td>0.000000</td>\n",
       "      <td>0.0</td>\n",
       "      <td>0.0</td>\n",
       "      <td>0.0</td>\n",
       "      <td>0.0</td>\n",
       "      <td>0.000000</td>\n",
       "      <td>4.0</td>\n",
       "    </tr>\n",
       "    <tr>\n",
       "      <th>4609</th>\n",
       "      <td>tami hoag</td>\n",
       "      <td>13.0</td>\n",
       "      <td>orion paperbacks</td>\n",
       "      <td>2.0</td>\n",
       "      <td>0.0</td>\n",
       "      <td>0.0</td>\n",
       "      <td>0.0</td>\n",
       "      <td>0.0</td>\n",
       "      <td>0.0</td>\n",
       "      <td>0.0</td>\n",
       "      <td>...</td>\n",
       "      <td>0.0</td>\n",
       "      <td>0.454344</td>\n",
       "      <td>0.0</td>\n",
       "      <td>0.248463</td>\n",
       "      <td>0.0</td>\n",
       "      <td>0.0</td>\n",
       "      <td>0.0</td>\n",
       "      <td>0.0</td>\n",
       "      <td>0.283651</td>\n",
       "      <td>4.0</td>\n",
       "    </tr>\n",
       "    <tr>\n",
       "      <th>4610</th>\n",
       "      <td>henry spencer ashbee</td>\n",
       "      <td>12.0</td>\n",
       "      <td>signet classics</td>\n",
       "      <td>2.0</td>\n",
       "      <td>0.0</td>\n",
       "      <td>0.0</td>\n",
       "      <td>0.0</td>\n",
       "      <td>0.0</td>\n",
       "      <td>0.0</td>\n",
       "      <td>0.0</td>\n",
       "      <td>...</td>\n",
       "      <td>0.0</td>\n",
       "      <td>0.000000</td>\n",
       "      <td>0.0</td>\n",
       "      <td>0.000000</td>\n",
       "      <td>0.0</td>\n",
       "      <td>0.0</td>\n",
       "      <td>0.0</td>\n",
       "      <td>0.0</td>\n",
       "      <td>0.000000</td>\n",
       "      <td>3.0</td>\n",
       "    </tr>\n",
       "    <tr>\n",
       "      <th>4611</th>\n",
       "      <td>tracy porter</td>\n",
       "      <td>13.0</td>\n",
       "      <td>llewellyn publications</td>\n",
       "      <td>1.0</td>\n",
       "      <td>0.0</td>\n",
       "      <td>0.0</td>\n",
       "      <td>0.0</td>\n",
       "      <td>0.0</td>\n",
       "      <td>0.0</td>\n",
       "      <td>0.0</td>\n",
       "      <td>...</td>\n",
       "      <td>0.0</td>\n",
       "      <td>0.000000</td>\n",
       "      <td>0.0</td>\n",
       "      <td>0.000000</td>\n",
       "      <td>0.0</td>\n",
       "      <td>0.0</td>\n",
       "      <td>0.0</td>\n",
       "      <td>0.0</td>\n",
       "      <td>0.000000</td>\n",
       "      <td>4.0</td>\n",
       "    </tr>\n",
       "    <tr>\n",
       "      <th>4612</th>\n",
       "      <td>christophe blain</td>\n",
       "      <td>13.0</td>\n",
       "      <td>nbm publishing</td>\n",
       "      <td>0.0</td>\n",
       "      <td>0.0</td>\n",
       "      <td>0.0</td>\n",
       "      <td>0.0</td>\n",
       "      <td>0.0</td>\n",
       "      <td>0.0</td>\n",
       "      <td>0.0</td>\n",
       "      <td>...</td>\n",
       "      <td>0.0</td>\n",
       "      <td>0.000000</td>\n",
       "      <td>0.0</td>\n",
       "      <td>0.000000</td>\n",
       "      <td>0.0</td>\n",
       "      <td>0.0</td>\n",
       "      <td>0.0</td>\n",
       "      <td>0.0</td>\n",
       "      <td>0.000000</td>\n",
       "      <td>4.0</td>\n",
       "    </tr>\n",
       "  </tbody>\n",
       "</table>\n",
       "<p>4613 rows × 605 columns</p>\n",
       "</div>"
      ],
      "text/plain": [
       "                     Authors  PublishYear                       Publisher  \\\n",
       "0          william johnstone         13.0                        pinnacle   \n",
       "1     simon sebag montefiore         13.0                           knopf   \n",
       "2             richard holmes         13.0                     basic books   \n",
       "3             beverly connor         13.0     cumberland house publishing   \n",
       "4          stephen whitfield         12.0  johns hopkins university press   \n",
       "...                      ...          ...                             ...   \n",
       "4608            timothy ross         13.0                           wiley   \n",
       "4609               tami hoag         13.0                orion paperbacks   \n",
       "4610    henry spencer ashbee         12.0                 signet classics   \n",
       "4611            tracy porter         13.0          llewellyn publications   \n",
       "4612        christophe blain         13.0                  nbm publishing   \n",
       "\n",
       "      pagesNumber  survival_guide  everything_need  need_know  civil_right  \\\n",
       "0             1.0             0.0              0.0        0.0          0.0   \n",
       "1             2.0             0.0              0.0        0.0          0.0   \n",
       "2             2.0             0.0              0.0        0.0          0.0   \n",
       "3             1.0             0.0              0.0        0.0          0.0   \n",
       "4             1.0             0.0              0.0        0.0          0.0   \n",
       "...           ...             ...              ...        ...          ...   \n",
       "4608          3.0             0.0              0.0        0.0          0.0   \n",
       "4609          2.0             0.0              0.0        0.0          0.0   \n",
       "4610          2.0             0.0              0.0        0.0          0.0   \n",
       "4611          1.0             0.0              0.0        0.0          0.0   \n",
       "4612          0.0             0.0              0.0        0.0          0.0   \n",
       "\n",
       "      story_behind  every_day  ...  three decade  wall street  little girl  \\\n",
       "0              0.0        0.0  ...           0.0     0.000000          0.0   \n",
       "1              0.0        0.0  ...           0.0     0.000000          0.0   \n",
       "2              0.0        0.0  ...           0.0     0.000000          0.0   \n",
       "3              0.0        0.0  ...           0.0     0.000000          0.0   \n",
       "4              0.0        0.0  ...           0.0     0.567391          0.0   \n",
       "...            ...        ...  ...           ...          ...          ...   \n",
       "4608           0.0        0.0  ...           0.0     0.000000          0.0   \n",
       "4609           0.0        0.0  ...           0.0     0.454344          0.0   \n",
       "4610           0.0        0.0  ...           0.0     0.000000          0.0   \n",
       "4611           0.0        0.0  ...           0.0     0.000000          0.0   \n",
       "4612           0.0        0.0  ...           0.0     0.000000          0.0   \n",
       "\n",
       "      comic book  million copy  help student  old testament  orson scott  \\\n",
       "0       0.000000           0.0           0.0            0.0          0.0   \n",
       "1       0.000000           0.0           0.0            0.0          0.0   \n",
       "2       0.000000           0.0           0.0            0.0          0.0   \n",
       "3       0.000000           0.0           0.0            0.0          0.0   \n",
       "4       0.000000           0.0           0.0            0.0          0.0   \n",
       "...          ...           ...           ...            ...          ...   \n",
       "4608    0.000000           0.0           0.0            0.0          0.0   \n",
       "4609    0.248463           0.0           0.0            0.0          0.0   \n",
       "4610    0.000000           0.0           0.0            0.0          0.0   \n",
       "4611    0.000000           0.0           0.0            0.0          0.0   \n",
       "4612    0.000000           0.0           0.0            0.0          0.0   \n",
       "\n",
       "      scott card  rating_label  \n",
       "0       1.000000           4.0  \n",
       "1       0.000000           4.0  \n",
       "2       0.000000           3.0  \n",
       "3       0.000000           4.0  \n",
       "4       0.000000           4.0  \n",
       "...          ...           ...  \n",
       "4608    0.000000           4.0  \n",
       "4609    0.283651           4.0  \n",
       "4610    0.000000           3.0  \n",
       "4611    0.000000           4.0  \n",
       "4612    0.000000           4.0  \n",
       "\n",
       "[4613 rows x 605 columns]"
      ]
     },
     "execution_count": 33,
     "metadata": {},
     "output_type": "execute_result"
    }
   ],
   "source": [
    "val_df"
   ]
  },
  {
   "cell_type": "code",
   "execution_count": 34,
   "metadata": {},
   "outputs": [],
   "source": [
    "val_df.to_csv(\"transformed_val_df.csv\", index=False)"
   ]
  },
  {
   "cell_type": "markdown",
   "metadata": {},
   "source": [
    "# Model Induction on Training set"
   ]
  },
  {
   "cell_type": "code",
   "execution_count": 98,
   "metadata": {},
   "outputs": [],
   "source": [
    "X_train = train_df.iloc[:,:-1] # (transformed) attributes\n",
    "y_train = train_df.iloc[:,-1]  # ground truth labels\n",
    "# validation set\n",
    "X_val = val_df.iloc[:,:-1]\n",
    "y_val = val_df.iloc[:,-1]"
   ]
  },
  {
   "cell_type": "code",
   "execution_count": 64,
   "metadata": {},
   "outputs": [
    {
     "data": {
      "text/html": [
       "<div>\n",
       "<style scoped>\n",
       "    .dataframe tbody tr th:only-of-type {\n",
       "        vertical-align: middle;\n",
       "    }\n",
       "\n",
       "    .dataframe tbody tr th {\n",
       "        vertical-align: top;\n",
       "    }\n",
       "\n",
       "    .dataframe thead th {\n",
       "        text-align: right;\n",
       "    }\n",
       "</style>\n",
       "<table border=\"1\" class=\"dataframe\">\n",
       "  <thead>\n",
       "    <tr style=\"text-align: right;\">\n",
       "      <th></th>\n",
       "      <th>Authors</th>\n",
       "      <th>PublishYear</th>\n",
       "      <th>Publisher</th>\n",
       "      <th>pagesNumber</th>\n",
       "      <th>survival_guide</th>\n",
       "      <th>everything_need</th>\n",
       "      <th>need_know</th>\n",
       "      <th>civil_right</th>\n",
       "      <th>story_behind</th>\n",
       "      <th>every_day</th>\n",
       "      <th>...</th>\n",
       "      <th>book first</th>\n",
       "      <th>three decade</th>\n",
       "      <th>wall street</th>\n",
       "      <th>little girl</th>\n",
       "      <th>comic book</th>\n",
       "      <th>million copy</th>\n",
       "      <th>help student</th>\n",
       "      <th>old testament</th>\n",
       "      <th>orson scott</th>\n",
       "      <th>scott card</th>\n",
       "    </tr>\n",
       "  </thead>\n",
       "  <tbody>\n",
       "    <tr>\n",
       "      <th>0</th>\n",
       "      <td>william johnstone</td>\n",
       "      <td>13.0</td>\n",
       "      <td>pinnacle</td>\n",
       "      <td>1.0</td>\n",
       "      <td>0.0</td>\n",
       "      <td>0.0</td>\n",
       "      <td>0.0</td>\n",
       "      <td>0.0</td>\n",
       "      <td>0.0</td>\n",
       "      <td>0.0</td>\n",
       "      <td>...</td>\n",
       "      <td>0.0</td>\n",
       "      <td>0.0</td>\n",
       "      <td>0.000000</td>\n",
       "      <td>0.0</td>\n",
       "      <td>0.000000</td>\n",
       "      <td>0.0</td>\n",
       "      <td>0.0</td>\n",
       "      <td>0.0</td>\n",
       "      <td>0.0</td>\n",
       "      <td>1.000000</td>\n",
       "    </tr>\n",
       "    <tr>\n",
       "      <th>1</th>\n",
       "      <td>simon sebag montefiore</td>\n",
       "      <td>13.0</td>\n",
       "      <td>knopf</td>\n",
       "      <td>2.0</td>\n",
       "      <td>0.0</td>\n",
       "      <td>0.0</td>\n",
       "      <td>0.0</td>\n",
       "      <td>0.0</td>\n",
       "      <td>0.0</td>\n",
       "      <td>0.0</td>\n",
       "      <td>...</td>\n",
       "      <td>0.0</td>\n",
       "      <td>0.0</td>\n",
       "      <td>0.000000</td>\n",
       "      <td>0.0</td>\n",
       "      <td>0.000000</td>\n",
       "      <td>0.0</td>\n",
       "      <td>0.0</td>\n",
       "      <td>0.0</td>\n",
       "      <td>0.0</td>\n",
       "      <td>0.000000</td>\n",
       "    </tr>\n",
       "    <tr>\n",
       "      <th>2</th>\n",
       "      <td>richard holmes</td>\n",
       "      <td>13.0</td>\n",
       "      <td>basic books</td>\n",
       "      <td>2.0</td>\n",
       "      <td>0.0</td>\n",
       "      <td>0.0</td>\n",
       "      <td>0.0</td>\n",
       "      <td>0.0</td>\n",
       "      <td>0.0</td>\n",
       "      <td>0.0</td>\n",
       "      <td>...</td>\n",
       "      <td>0.0</td>\n",
       "      <td>0.0</td>\n",
       "      <td>0.000000</td>\n",
       "      <td>0.0</td>\n",
       "      <td>0.000000</td>\n",
       "      <td>0.0</td>\n",
       "      <td>0.0</td>\n",
       "      <td>0.0</td>\n",
       "      <td>0.0</td>\n",
       "      <td>0.000000</td>\n",
       "    </tr>\n",
       "    <tr>\n",
       "      <th>3</th>\n",
       "      <td>beverly connor</td>\n",
       "      <td>13.0</td>\n",
       "      <td>cumberland house publishing</td>\n",
       "      <td>1.0</td>\n",
       "      <td>0.0</td>\n",
       "      <td>0.0</td>\n",
       "      <td>0.0</td>\n",
       "      <td>0.0</td>\n",
       "      <td>0.0</td>\n",
       "      <td>0.0</td>\n",
       "      <td>...</td>\n",
       "      <td>0.0</td>\n",
       "      <td>0.0</td>\n",
       "      <td>0.000000</td>\n",
       "      <td>0.0</td>\n",
       "      <td>0.000000</td>\n",
       "      <td>0.0</td>\n",
       "      <td>0.0</td>\n",
       "      <td>0.0</td>\n",
       "      <td>0.0</td>\n",
       "      <td>0.000000</td>\n",
       "    </tr>\n",
       "    <tr>\n",
       "      <th>4</th>\n",
       "      <td>stephen whitfield</td>\n",
       "      <td>12.0</td>\n",
       "      <td>johns hopkins university press</td>\n",
       "      <td>1.0</td>\n",
       "      <td>0.0</td>\n",
       "      <td>0.0</td>\n",
       "      <td>0.0</td>\n",
       "      <td>0.0</td>\n",
       "      <td>0.0</td>\n",
       "      <td>0.0</td>\n",
       "      <td>...</td>\n",
       "      <td>0.0</td>\n",
       "      <td>0.0</td>\n",
       "      <td>0.567391</td>\n",
       "      <td>0.0</td>\n",
       "      <td>0.000000</td>\n",
       "      <td>0.0</td>\n",
       "      <td>0.0</td>\n",
       "      <td>0.0</td>\n",
       "      <td>0.0</td>\n",
       "      <td>0.000000</td>\n",
       "    </tr>\n",
       "    <tr>\n",
       "      <th>...</th>\n",
       "      <td>...</td>\n",
       "      <td>...</td>\n",
       "      <td>...</td>\n",
       "      <td>...</td>\n",
       "      <td>...</td>\n",
       "      <td>...</td>\n",
       "      <td>...</td>\n",
       "      <td>...</td>\n",
       "      <td>...</td>\n",
       "      <td>...</td>\n",
       "      <td>...</td>\n",
       "      <td>...</td>\n",
       "      <td>...</td>\n",
       "      <td>...</td>\n",
       "      <td>...</td>\n",
       "      <td>...</td>\n",
       "      <td>...</td>\n",
       "      <td>...</td>\n",
       "      <td>...</td>\n",
       "      <td>...</td>\n",
       "      <td>...</td>\n",
       "    </tr>\n",
       "    <tr>\n",
       "      <th>4608</th>\n",
       "      <td>timothy ross</td>\n",
       "      <td>13.0</td>\n",
       "      <td>wiley</td>\n",
       "      <td>3.0</td>\n",
       "      <td>0.0</td>\n",
       "      <td>0.0</td>\n",
       "      <td>0.0</td>\n",
       "      <td>0.0</td>\n",
       "      <td>0.0</td>\n",
       "      <td>0.0</td>\n",
       "      <td>...</td>\n",
       "      <td>0.0</td>\n",
       "      <td>0.0</td>\n",
       "      <td>0.000000</td>\n",
       "      <td>0.0</td>\n",
       "      <td>0.000000</td>\n",
       "      <td>0.0</td>\n",
       "      <td>0.0</td>\n",
       "      <td>0.0</td>\n",
       "      <td>0.0</td>\n",
       "      <td>0.000000</td>\n",
       "    </tr>\n",
       "    <tr>\n",
       "      <th>4609</th>\n",
       "      <td>tami hoag</td>\n",
       "      <td>13.0</td>\n",
       "      <td>orion paperbacks</td>\n",
       "      <td>2.0</td>\n",
       "      <td>0.0</td>\n",
       "      <td>0.0</td>\n",
       "      <td>0.0</td>\n",
       "      <td>0.0</td>\n",
       "      <td>0.0</td>\n",
       "      <td>0.0</td>\n",
       "      <td>...</td>\n",
       "      <td>0.0</td>\n",
       "      <td>0.0</td>\n",
       "      <td>0.454344</td>\n",
       "      <td>0.0</td>\n",
       "      <td>0.248463</td>\n",
       "      <td>0.0</td>\n",
       "      <td>0.0</td>\n",
       "      <td>0.0</td>\n",
       "      <td>0.0</td>\n",
       "      <td>0.283651</td>\n",
       "    </tr>\n",
       "    <tr>\n",
       "      <th>4610</th>\n",
       "      <td>henry spencer ashbee</td>\n",
       "      <td>12.0</td>\n",
       "      <td>signet classics</td>\n",
       "      <td>2.0</td>\n",
       "      <td>0.0</td>\n",
       "      <td>0.0</td>\n",
       "      <td>0.0</td>\n",
       "      <td>0.0</td>\n",
       "      <td>0.0</td>\n",
       "      <td>0.0</td>\n",
       "      <td>...</td>\n",
       "      <td>0.0</td>\n",
       "      <td>0.0</td>\n",
       "      <td>0.000000</td>\n",
       "      <td>0.0</td>\n",
       "      <td>0.000000</td>\n",
       "      <td>0.0</td>\n",
       "      <td>0.0</td>\n",
       "      <td>0.0</td>\n",
       "      <td>0.0</td>\n",
       "      <td>0.000000</td>\n",
       "    </tr>\n",
       "    <tr>\n",
       "      <th>4611</th>\n",
       "      <td>tracy porter</td>\n",
       "      <td>13.0</td>\n",
       "      <td>llewellyn publications</td>\n",
       "      <td>1.0</td>\n",
       "      <td>0.0</td>\n",
       "      <td>0.0</td>\n",
       "      <td>0.0</td>\n",
       "      <td>0.0</td>\n",
       "      <td>0.0</td>\n",
       "      <td>0.0</td>\n",
       "      <td>...</td>\n",
       "      <td>0.0</td>\n",
       "      <td>0.0</td>\n",
       "      <td>0.000000</td>\n",
       "      <td>0.0</td>\n",
       "      <td>0.000000</td>\n",
       "      <td>0.0</td>\n",
       "      <td>0.0</td>\n",
       "      <td>0.0</td>\n",
       "      <td>0.0</td>\n",
       "      <td>0.000000</td>\n",
       "    </tr>\n",
       "    <tr>\n",
       "      <th>4612</th>\n",
       "      <td>christophe blain</td>\n",
       "      <td>13.0</td>\n",
       "      <td>nbm publishing</td>\n",
       "      <td>0.0</td>\n",
       "      <td>0.0</td>\n",
       "      <td>0.0</td>\n",
       "      <td>0.0</td>\n",
       "      <td>0.0</td>\n",
       "      <td>0.0</td>\n",
       "      <td>0.0</td>\n",
       "      <td>...</td>\n",
       "      <td>0.0</td>\n",
       "      <td>0.0</td>\n",
       "      <td>0.000000</td>\n",
       "      <td>0.0</td>\n",
       "      <td>0.000000</td>\n",
       "      <td>0.0</td>\n",
       "      <td>0.0</td>\n",
       "      <td>0.0</td>\n",
       "      <td>0.0</td>\n",
       "      <td>0.000000</td>\n",
       "    </tr>\n",
       "  </tbody>\n",
       "</table>\n",
       "<p>4613 rows × 604 columns</p>\n",
       "</div>"
      ],
      "text/plain": [
       "                     Authors  PublishYear                       Publisher  \\\n",
       "0          william johnstone         13.0                        pinnacle   \n",
       "1     simon sebag montefiore         13.0                           knopf   \n",
       "2             richard holmes         13.0                     basic books   \n",
       "3             beverly connor         13.0     cumberland house publishing   \n",
       "4          stephen whitfield         12.0  johns hopkins university press   \n",
       "...                      ...          ...                             ...   \n",
       "4608            timothy ross         13.0                           wiley   \n",
       "4609               tami hoag         13.0                orion paperbacks   \n",
       "4610    henry spencer ashbee         12.0                 signet classics   \n",
       "4611            tracy porter         13.0          llewellyn publications   \n",
       "4612        christophe blain         13.0                  nbm publishing   \n",
       "\n",
       "      pagesNumber  survival_guide  everything_need  need_know  civil_right  \\\n",
       "0             1.0             0.0              0.0        0.0          0.0   \n",
       "1             2.0             0.0              0.0        0.0          0.0   \n",
       "2             2.0             0.0              0.0        0.0          0.0   \n",
       "3             1.0             0.0              0.0        0.0          0.0   \n",
       "4             1.0             0.0              0.0        0.0          0.0   \n",
       "...           ...             ...              ...        ...          ...   \n",
       "4608          3.0             0.0              0.0        0.0          0.0   \n",
       "4609          2.0             0.0              0.0        0.0          0.0   \n",
       "4610          2.0             0.0              0.0        0.0          0.0   \n",
       "4611          1.0             0.0              0.0        0.0          0.0   \n",
       "4612          0.0             0.0              0.0        0.0          0.0   \n",
       "\n",
       "      story_behind  every_day  ...  book first  three decade  wall street  \\\n",
       "0              0.0        0.0  ...         0.0           0.0     0.000000   \n",
       "1              0.0        0.0  ...         0.0           0.0     0.000000   \n",
       "2              0.0        0.0  ...         0.0           0.0     0.000000   \n",
       "3              0.0        0.0  ...         0.0           0.0     0.000000   \n",
       "4              0.0        0.0  ...         0.0           0.0     0.567391   \n",
       "...            ...        ...  ...         ...           ...          ...   \n",
       "4608           0.0        0.0  ...         0.0           0.0     0.000000   \n",
       "4609           0.0        0.0  ...         0.0           0.0     0.454344   \n",
       "4610           0.0        0.0  ...         0.0           0.0     0.000000   \n",
       "4611           0.0        0.0  ...         0.0           0.0     0.000000   \n",
       "4612           0.0        0.0  ...         0.0           0.0     0.000000   \n",
       "\n",
       "      little girl  comic book  million copy  help student  old testament  \\\n",
       "0             0.0    0.000000           0.0           0.0            0.0   \n",
       "1             0.0    0.000000           0.0           0.0            0.0   \n",
       "2             0.0    0.000000           0.0           0.0            0.0   \n",
       "3             0.0    0.000000           0.0           0.0            0.0   \n",
       "4             0.0    0.000000           0.0           0.0            0.0   \n",
       "...           ...         ...           ...           ...            ...   \n",
       "4608          0.0    0.000000           0.0           0.0            0.0   \n",
       "4609          0.0    0.248463           0.0           0.0            0.0   \n",
       "4610          0.0    0.000000           0.0           0.0            0.0   \n",
       "4611          0.0    0.000000           0.0           0.0            0.0   \n",
       "4612          0.0    0.000000           0.0           0.0            0.0   \n",
       "\n",
       "      orson scott  scott card  \n",
       "0             0.0    1.000000  \n",
       "1             0.0    0.000000  \n",
       "2             0.0    0.000000  \n",
       "3             0.0    0.000000  \n",
       "4             0.0    0.000000  \n",
       "...           ...         ...  \n",
       "4608          0.0    0.000000  \n",
       "4609          0.0    0.283651  \n",
       "4610          0.0    0.000000  \n",
       "4611          0.0    0.000000  \n",
       "4612          0.0    0.000000  \n",
       "\n",
       "[4613 rows x 604 columns]"
      ]
     },
     "execution_count": 64,
     "metadata": {},
     "output_type": "execute_result"
    }
   ],
   "source": [
    "X_val"
   ]
  },
  {
   "cell_type": "markdown",
   "metadata": {},
   "source": [
    "## Naive Bayes"
   ]
  },
  {
   "cell_type": "code",
   "execution_count": 253,
   "metadata": {},
   "outputs": [],
   "source": [
    "from sklearn.naive_bayes import GaussianNB, MultinomialNB, CategoricalNB\n",
    "from sklearn.linear_model import LogisticRegression"
   ]
  },
  {
   "cell_type": "code",
   "execution_count": 254,
   "metadata": {},
   "outputs": [],
   "source": [
    "GAUSSIAN_FEATURES = ['PublishYear', 'pagesNumber']\n",
    "CATEGORICAL_FEATURES = ['Authors', 'Publisher']\n",
    "MULTINOMIAL_FEATURES = list(X_train.columns)[4:]"
   ]
  },
  {
   "cell_type": "code",
   "execution_count": 270,
   "metadata": {},
   "outputs": [],
   "source": [
    "X_train_gaussian = X_train[GAUSSIAN_FEATURES]\n",
    "X_val_gaussian = X_val[GAUSSIAN_FEATURES]\n",
    "X_train_categorical = X_train[CATEGORICAL_FEATURES]\n",
    "X_val_categorical = X_val[CATEGORICAL_FEATURES]\n",
    "X_train_multinomial = X_train[MULTINOMIAL_FEATURES]\n",
    "X_val_multinomial = X_val[MULTINOMIAL_FEATURES]"
   ]
  },
  {
   "cell_type": "code",
   "execution_count": 271,
   "metadata": {},
   "outputs": [],
   "source": [
    "from sklearn.preprocessing import OrdinalEncoder\n",
    "\n",
    "# CategoricalNB works with numbers - but treats them as categorical instead of ordinal features\n",
    "enc = OrdinalEncoder(handle_unknown = 'use_encoded_value', unknown_value = -1)\n",
    "enc.fit(X_train[CATEGORICAL_FEATURES])\n",
    "X_train_categorical = pd.DataFrame(enc.transform(X_train[CATEGORICAL_FEATURES]))\n",
    "X_val_categorical = pd.DataFrame(enc.transform(X_val[CATEGORICAL_FEATURES]))\n",
    "for feature in X_val_categorical.columns:\n",
    "    X_val_categorical[feature] = X_val_categorical[feature].replace(-1, X_val_categorical[feature].nunique())"
   ]
  },
  {
   "cell_type": "markdown",
   "metadata": {},
   "source": [
    "### Gaussian NB for PublishYear and pagesNumber"
   ]
  },
  {
   "cell_type": "code",
   "execution_count": 263,
   "metadata": {},
   "outputs": [
    {
     "data": {
      "image/png": "[encoded data removed]",
      "text/plain": [
       "<Figure size 432x288 with 1 Axes>"
      ]
     },
     "metadata": {
      "needs_background": "light"
     },
     "output_type": "display_data"
    },
    {
     "data": {
      "image/png": "[encoded data removed]",
      "text/plain": [
       "<Figure size 432x288 with 1 Axes>"
      ]
     },
     "metadata": {
      "needs_background": "light"
     },
     "output_type": "display_data"
    }
   ],
   "source": [
    "# check distribution of PublishYear and pagesNumber\n",
    "for feature in GAUSSIAN_FEATURES:\n",
    "    hist_plot(X_train, feature, bins=X_train[feature].nunique())"
   ]
  },
  {
   "cell_type": "code",
   "execution_count": 264,
   "metadata": {},
   "outputs": [
    {
     "name": "stdout",
     "output_type": "stream",
     "text": [
      "Evaluate on training set:\n",
      "\n",
      "GaussianNB prediction took 0.2952120304107666 seconds\n",
      "    test_3.0_f1-score  test_4.0_f1-score  test_5.0_f1-score  test_accuracy\n",
      "0                 0.0           0.822023           0.125000       0.698808\n",
      "1                 0.0           0.820972           0.000000       0.695558\n",
      "2                 0.0           0.823529           0.130435       0.700975\n",
      "3                 0.0           0.823077           0.160000       0.699892\n",
      "4                 0.0           0.821953           0.000000       0.697725\n",
      "5                 0.0           0.823229           0.046512       0.699892\n",
      "6                 0.0           0.823529           0.130435       0.700975\n",
      "7                 0.0           0.825336           0.212766       0.704225\n",
      "8                 0.0           0.821497           0.085106       0.697725\n",
      "9                 0.0           0.825559           0.177778       0.704225\n",
      "10                0.0           0.825782           0.097561       0.703905\n",
      "11                0.0           0.824808           0.088889       0.701735\n",
      "12                0.0           0.825255           0.048780       0.702820\n",
      "13                0.0           0.825032           0.093023       0.702820\n",
      "14                0.0           0.822777           0.086957       0.699566\n",
      "15                0.0           0.825782           0.047619       0.702820\n",
      "16                0.0           0.825336           0.130435       0.702820\n",
      "17                0.0           0.825112           0.166667       0.702820\n",
      "18                0.0           0.825032           0.093023       0.702820\n",
      "19                0.0           0.827675           0.208333       0.706074\n",
      "test_3.0_f1-score    0.000000\n",
      "test_4.0_f1-score    0.824165\n",
      "test_5.0_f1-score    0.106466\n",
      "test_accuracy        0.701410\n",
      "dtype: float64\n",
      "\n",
      "\n",
      "Evaluate on validation set:\n",
      "\n"
     ]
    },
    {
     "data": {
      "image/png": "[encoded data removed]",
      "text/plain": [
       "<Figure size 432x288 with 2 Axes>"
      ]
     },
     "metadata": {
      "needs_background": "light"
     },
     "output_type": "display_data"
    },
    {
     "name": "stdout",
     "output_type": "stream",
     "text": [
      "              precision    recall  f1-score   support\n",
      "\n",
      "         3.0       0.00      0.00      0.00      1153\n",
      "         4.0       0.71      1.00      0.83      3260\n",
      "         5.0       0.35      0.04      0.07       200\n",
      "\n",
      "    accuracy                           0.71      4613\n",
      "   macro avg       0.35      0.35      0.30      4613\n",
      "weighted avg       0.51      0.71      0.59      4613\n",
      "\n"
     ]
    }
   ],
   "source": [
    "gnb = GaussianNB()\n",
    "gaussian_pred = validate_and_test(gnb, X_train_gaussian, y_train, X_val_gaussian, y_val)"
   ]
  },
  {
   "cell_type": "markdown",
   "metadata": {},
   "source": [
    "### Categorical NB for Authors and Publisher"
   ]
  },
  {
   "cell_type": "code",
   "execution_count": 274,
   "metadata": {},
   "outputs": [
    {
     "name": "stdout",
     "output_type": "stream",
     "text": [
      "Fitting 20 folds for each of 14 candidates, totalling 280 fits\n",
      "[CV] END ..........................................alpha=0.1; total time=   0.0s\n",
      "[CV] END ..........................................alpha=0.1; total time=   0.0s\n",
      "[CV] END ..........................................alpha=0.1; total time=   0.0s\n",
      "[CV] END ..........................................alpha=0.1; total time=   0.0s\n",
      "[CV] END ..........................................alpha=0.1; total time=   0.0s\n",
      "[CV] END ..........................................alpha=0.1; total time=   0.0s\n",
      "[CV] END ..........................................alpha=0.1; total time=   0.0s\n",
      "[CV] END ..........................................alpha=0.1; total time=   0.0s\n",
      "[CV] END ..........................................alpha=0.1; total time=   0.0s\n",
      "[CV] END ..........................................alpha=0.1; total time=   0.0s\n",
      "[CV] END ..........................................alpha=0.1; total time=   0.0s\n",
      "[CV] END ..........................................alpha=0.1; total time=   0.0s\n",
      "[CV] END ..........................................alpha=0.1; total time=   0.0s\n",
      "[CV] END ..........................................alpha=0.1; total time=   0.0s\n",
      "[CV] END ..........................................alpha=0.1; total time=   0.0s\n",
      "[CV] END ..........................................alpha=0.1; total time=   0.0s\n",
      "[CV] END ..........................................alpha=0.1; total time=   0.0s\n",
      "[CV] END ..........................................alpha=0.1; total time=   0.0s\n",
      "[CV] END ..........................................alpha=0.1; total time=   0.0s\n",
      "[CV] END ..........................................alpha=0.1; total time=   0.0s\n",
      "[CV] END ..........................................alpha=0.2; total time=   0.0s\n",
      "[CV] END ..........................................alpha=0.2; total time=   0.0s\n",
      "[CV] END ..........................................alpha=0.2; total time=   0.0s\n",
      "[CV] END ..........................................alpha=0.2; total time=   0.0s\n",
      "[CV] END ..........................................alpha=0.2; total time=   0.0s\n",
      "[CV] END ..........................................alpha=0.2; total time=   0.0s\n",
      "[CV] END ..........................................alpha=0.2; total time=   0.0s\n",
      "[CV] END ..........................................alpha=0.2; total time=   0.0s\n",
      "[CV] END ..........................................alpha=0.2; total time=   0.0s\n",
      "[CV] END ..........................................alpha=0.2; total time=   0.0s\n",
      "[CV] END ..........................................alpha=0.2; total time=   0.0s\n",
      "[CV] END ..........................................alpha=0.2; total time=   0.0s\n",
      "[CV] END ..........................................alpha=0.2; total time=   0.0s\n",
      "[CV] END ..........................................alpha=0.2; total time=   0.0s\n",
      "[CV] END ..........................................alpha=0.2; total time=   0.0s\n",
      "[CV] END ..........................................alpha=0.2; total time=   0.0s\n",
      "[CV] END ..........................................alpha=0.2; total time=   0.0s\n",
      "[CV] END ..........................................alpha=0.2; total time=   0.0s\n",
      "[CV] END ..........................................alpha=0.2; total time=   0.0s\n",
      "[CV] END ..........................................alpha=0.2; total time=   0.0s\n",
      "[CV] END ..........................................alpha=0.3; total time=   0.0s\n",
      "[CV] END ..........................................alpha=0.3; total time=   0.0s\n",
      "[CV] END ..........................................alpha=0.3; total time=   0.0s\n",
      "[CV] END ..........................................alpha=0.3; total time=   0.0s\n",
      "[CV] END ..........................................alpha=0.3; total time=   0.0s\n",
      "[CV] END ..........................................alpha=0.3; total time=   0.0s\n",
      "[CV] END ..........................................alpha=0.3; total time=   0.0s\n",
      "[CV] END ..........................................alpha=0.3; total time=   0.0s\n",
      "[CV] END ..........................................alpha=0.3; total time=   0.0s\n",
      "[CV] END ..........................................alpha=0.3; total time=   0.0s\n",
      "[CV] END ..........................................alpha=0.3; total time=   0.0s\n",
      "[CV] END ..........................................alpha=0.3; total time=   0.0s\n",
      "[CV] END ..........................................alpha=0.3; total time=   0.0s\n",
      "[CV] END ..........................................alpha=0.3; total time=   0.0s\n",
      "[CV] END ..........................................alpha=0.3; total time=   0.0s\n",
      "[CV] END ..........................................alpha=0.3; total time=   0.0s\n",
      "[CV] END ..........................................alpha=0.3; total time=   0.0s\n",
      "[CV] END ..........................................alpha=0.3; total time=   0.0s\n",
      "[CV] END ..........................................alpha=0.3; total time=   0.0s\n",
      "[CV] END ..........................................alpha=0.3; total time=   0.0s\n",
      "[CV] END ..........................................alpha=0.4; total time=   0.0s\n",
      "[CV] END ..........................................alpha=0.4; total time=   0.0s\n",
      "[CV] END ..........................................alpha=0.4; total time=   0.0s\n",
      "[CV] END ..........................................alpha=0.4; total time=   0.0s\n",
      "[CV] END ..........................................alpha=0.4; total time=   0.0s\n",
      "[CV] END ..........................................alpha=0.4; total time=   0.0s\n",
      "[CV] END ..........................................alpha=0.4; total time=   0.0s\n",
      "[CV] END ..........................................alpha=0.4; total time=   0.0s\n",
      "[CV] END ..........................................alpha=0.4; total time=   0.0s\n",
      "[CV] END ..........................................alpha=0.4; total time=   0.0s\n",
      "[CV] END ..........................................alpha=0.4; total time=   0.0s\n",
      "[CV] END ..........................................alpha=0.4; total time=   0.0s\n",
      "[CV] END ..........................................alpha=0.4; total time=   0.0s\n",
      "[CV] END ..........................................alpha=0.4; total time=   0.0s\n",
      "[CV] END ..........................................alpha=0.4; total time=   0.0s\n",
      "[CV] END ..........................................alpha=0.4; total time=   0.0s\n",
      "[CV] END ..........................................alpha=0.4; total time=   0.0s\n",
      "[CV] END ..........................................alpha=0.4; total time=   0.0s\n",
      "[CV] END ..........................................alpha=0.4; total time=   0.0s\n",
      "[CV] END ..........................................alpha=0.4; total time=   0.0s\n",
      "[CV] END ..........................................alpha=0.5; total time=   0.0s\n",
      "[CV] END ..........................................alpha=0.5; total time=   0.0s\n",
      "[CV] END ..........................................alpha=0.5; total time=   0.0s\n",
      "[CV] END ..........................................alpha=0.5; total time=   0.0s\n",
      "[CV] END ..........................................alpha=0.5; total time=   0.0s\n",
      "[CV] END ..........................................alpha=0.5; total time=   0.0s\n",
      "[CV] END ..........................................alpha=0.5; total time=   0.0s\n",
      "[CV] END ..........................................alpha=0.5; total time=   0.0s\n",
      "[CV] END ..........................................alpha=0.5; total time=   0.0s\n",
      "[CV] END ..........................................alpha=0.5; total time=   0.0s\n",
      "[CV] END ..........................................alpha=0.5; total time=   0.0s\n",
      "[CV] END ..........................................alpha=0.5; total time=   0.0s\n",
      "[CV] END ..........................................alpha=0.5; total time=   0.0s\n",
      "[CV] END ..........................................alpha=0.5; total time=   0.0s\n",
      "[CV] END ..........................................alpha=0.5; total time=   0.0s\n",
      "[CV] END ..........................................alpha=0.5; total time=   0.0s\n",
      "[CV] END ..........................................alpha=0.5; total time=   0.0s\n",
      "[CV] END ..........................................alpha=0.5; total time=   0.0s\n",
      "[CV] END ..........................................alpha=0.5; total time=   0.0s\n",
      "[CV] END ..........................................alpha=0.5; total time=   0.0s\n",
      "[CV] END ..........................................alpha=0.6; total time=   0.0s\n"
     ]
    },
    {
     "name": "stdout",
     "output_type": "stream",
     "text": [
      "[CV] END ..........................................alpha=0.6; total time=   0.0s\n",
      "[CV] END ..........................................alpha=0.6; total time=   0.0s\n",
      "[CV] END ..........................................alpha=0.6; total time=   0.0s\n",
      "[CV] END ..........................................alpha=0.6; total time=   0.0s\n",
      "[CV] END ..........................................alpha=0.6; total time=   0.0s\n",
      "[CV] END ..........................................alpha=0.6; total time=   0.0s\n",
      "[CV] END ..........................................alpha=0.6; total time=   0.0s\n",
      "[CV] END ..........................................alpha=0.6; total time=   0.0s\n",
      "[CV] END ..........................................alpha=0.6; total time=   0.0s\n",
      "[CV] END ..........................................alpha=0.6; total time=   0.0s\n",
      "[CV] END ..........................................alpha=0.6; total time=   0.0s\n",
      "[CV] END ..........................................alpha=0.6; total time=   0.0s\n",
      "[CV] END ..........................................alpha=0.6; total time=   0.0s\n",
      "[CV] END ..........................................alpha=0.6; total time=   0.0s\n",
      "[CV] END ..........................................alpha=0.6; total time=   0.0s\n",
      "[CV] END ..........................................alpha=0.6; total time=   0.0s\n",
      "[CV] END ..........................................alpha=0.6; total time=   0.0s\n",
      "[CV] END ..........................................alpha=0.6; total time=   0.0s\n",
      "[CV] END ..........................................alpha=0.6; total time=   0.0s\n",
      "[CV] END ..........................................alpha=0.7; total time=   0.0s\n",
      "[CV] END ..........................................alpha=0.7; total time=   0.0s\n",
      "[CV] END ..........................................alpha=0.7; total time=   0.0s\n",
      "[CV] END ..........................................alpha=0.7; total time=   0.0s\n",
      "[CV] END ..........................................alpha=0.7; total time=   0.0s\n",
      "[CV] END ..........................................alpha=0.7; total time=   0.0s\n",
      "[CV] END ..........................................alpha=0.7; total time=   0.0s\n",
      "[CV] END ..........................................alpha=0.7; total time=   0.0s\n",
      "[CV] END ..........................................alpha=0.7; total time=   0.0s\n",
      "[CV] END ..........................................alpha=0.7; total time=   0.0s\n",
      "[CV] END ..........................................alpha=0.7; total time=   0.0s\n",
      "[CV] END ..........................................alpha=0.7; total time=   0.0s\n",
      "[CV] END ..........................................alpha=0.7; total time=   0.0s\n",
      "[CV] END ..........................................alpha=0.7; total time=   0.0s\n",
      "[CV] END ..........................................alpha=0.7; total time=   0.0s\n",
      "[CV] END ..........................................alpha=0.7; total time=   0.0s\n",
      "[CV] END ..........................................alpha=0.7; total time=   0.0s\n",
      "[CV] END ..........................................alpha=0.7; total time=   0.0s\n",
      "[CV] END ..........................................alpha=0.7; total time=   0.0s\n",
      "[CV] END ..........................................alpha=0.7; total time=   0.0s\n",
      "[CV] END ..........................................alpha=0.8; total time=   0.0s\n",
      "[CV] END ..........................................alpha=0.8; total time=   0.0s\n",
      "[CV] END ..........................................alpha=0.8; total time=   0.0s\n",
      "[CV] END ..........................................alpha=0.8; total time=   0.0s\n",
      "[CV] END ..........................................alpha=0.8; total time=   0.0s\n",
      "[CV] END ..........................................alpha=0.8; total time=   0.0s\n",
      "[CV] END ..........................................alpha=0.8; total time=   0.0s\n",
      "[CV] END ..........................................alpha=0.8; total time=   0.0s\n",
      "[CV] END ..........................................alpha=0.8; total time=   0.0s\n",
      "[CV] END ..........................................alpha=0.8; total time=   0.0s\n",
      "[CV] END ..........................................alpha=0.8; total time=   0.0s\n",
      "[CV] END ..........................................alpha=0.8; total time=   0.0s\n",
      "[CV] END ..........................................alpha=0.8; total time=   0.0s\n",
      "[CV] END ..........................................alpha=0.8; total time=   0.0s\n",
      "[CV] END ..........................................alpha=0.8; total time=   0.0s\n",
      "[CV] END ..........................................alpha=0.8; total time=   0.0s\n",
      "[CV] END ..........................................alpha=0.8; total time=   0.0s\n",
      "[CV] END ..........................................alpha=0.8; total time=   0.0s\n",
      "[CV] END ..........................................alpha=0.8; total time=   0.0s\n",
      "[CV] END ..........................................alpha=0.8; total time=   0.0s\n",
      "[CV] END ..........................................alpha=0.9; total time=   0.0s\n",
      "[CV] END ..........................................alpha=0.9; total time=   0.0s\n",
      "[CV] END ..........................................alpha=0.9; total time=   0.0s\n",
      "[CV] END ..........................................alpha=0.9; total time=   0.0s\n",
      "[CV] END ..........................................alpha=0.9; total time=   0.0s\n",
      "[CV] END ..........................................alpha=0.9; total time=   0.0s\n",
      "[CV] END ..........................................alpha=0.9; total time=   0.0s\n",
      "[CV] END ..........................................alpha=0.9; total time=   0.0s\n",
      "[CV] END ..........................................alpha=0.9; total time=   0.0s\n",
      "[CV] END ..........................................alpha=0.9; total time=   0.0s\n",
      "[CV] END ..........................................alpha=0.9; total time=   0.0s\n",
      "[CV] END ..........................................alpha=0.9; total time=   0.0s\n",
      "[CV] END ..........................................alpha=0.9; total time=   0.0s\n",
      "[CV] END ..........................................alpha=0.9; total time=   0.0s\n",
      "[CV] END ..........................................alpha=0.9; total time=   0.0s\n",
      "[CV] END ..........................................alpha=0.9; total time=   0.0s\n",
      "[CV] END ..........................................alpha=0.9; total time=   0.0s\n",
      "[CV] END ..........................................alpha=0.9; total time=   0.0s\n",
      "[CV] END ..........................................alpha=0.9; total time=   0.0s\n",
      "[CV] END ..........................................alpha=0.9; total time=   0.0s\n",
      "[CV] END ..........................................alpha=1.0; total time=   0.0s\n",
      "[CV] END ..........................................alpha=1.0; total time=   0.0s\n",
      "[CV] END ..........................................alpha=1.0; total time=   0.0s\n",
      "[CV] END ..........................................alpha=1.0; total time=   0.0s\n",
      "[CV] END ..........................................alpha=1.0; total time=   0.0s\n",
      "[CV] END ..........................................alpha=1.0; total time=   0.0s\n",
      "[CV] END ..........................................alpha=1.0; total time=   0.0s\n",
      "[CV] END ..........................................alpha=1.0; total time=   0.0s\n",
      "[CV] END ..........................................alpha=1.0; total time=   0.0s\n",
      "[CV] END ..........................................alpha=1.0; total time=   0.0s\n",
      "[CV] END ..........................................alpha=1.0; total time=   0.0s\n",
      "[CV] END ..........................................alpha=1.0; total time=   0.0s\n",
      "[CV] END ..........................................alpha=1.0; total time=   0.0s\n",
      "[CV] END ..........................................alpha=1.0; total time=   0.0s\n",
      "[CV] END ..........................................alpha=1.0; total time=   0.0s\n",
      "[CV] END ..........................................alpha=1.0; total time=   0.0s\n",
      "[CV] END ..........................................alpha=1.0; total time=   0.0s\n",
      "[CV] END ..........................................alpha=1.0; total time=   0.0s\n",
      "[CV] END ..........................................alpha=1.0; total time=   0.0s\n",
      "[CV] END ..........................................alpha=1.0; total time=   0.0s\n",
      "[CV] END ..........................................alpha=1.1; total time=   0.0s\n",
      "[CV] END ..........................................alpha=1.1; total time=   0.0s\n",
      "[CV] END ..........................................alpha=1.1; total time=   0.0s\n",
      "[CV] END ..........................................alpha=1.1; total time=   0.0s\n"
     ]
    },
    {
     "name": "stdout",
     "output_type": "stream",
     "text": [
      "[CV] END ..........................................alpha=1.1; total time=   0.0s\n",
      "[CV] END ..........................................alpha=1.1; total time=   0.0s\n",
      "[CV] END ..........................................alpha=1.1; total time=   0.0s\n",
      "[CV] END ..........................................alpha=1.1; total time=   0.0s\n",
      "[CV] END ..........................................alpha=1.1; total time=   0.0s\n",
      "[CV] END ..........................................alpha=1.1; total time=   0.0s\n",
      "[CV] END ..........................................alpha=1.1; total time=   0.0s\n",
      "[CV] END ..........................................alpha=1.1; total time=   0.0s\n",
      "[CV] END ..........................................alpha=1.1; total time=   0.0s\n",
      "[CV] END ..........................................alpha=1.1; total time=   0.0s\n",
      "[CV] END ..........................................alpha=1.1; total time=   0.0s\n",
      "[CV] END ..........................................alpha=1.1; total time=   0.0s\n",
      "[CV] END ..........................................alpha=1.1; total time=   0.0s\n",
      "[CV] END ..........................................alpha=1.1; total time=   0.0s\n",
      "[CV] END ..........................................alpha=1.1; total time=   0.0s\n",
      "[CV] END ..........................................alpha=1.1; total time=   0.0s\n",
      "[CV] END ..........................................alpha=1.2; total time=   0.0s\n",
      "[CV] END ..........................................alpha=1.2; total time=   0.0s\n",
      "[CV] END ..........................................alpha=1.2; total time=   0.0s\n",
      "[CV] END ..........................................alpha=1.2; total time=   0.0s\n",
      "[CV] END ..........................................alpha=1.2; total time=   0.0s\n",
      "[CV] END ..........................................alpha=1.2; total time=   0.0s\n",
      "[CV] END ..........................................alpha=1.2; total time=   0.0s\n",
      "[CV] END ..........................................alpha=1.2; total time=   0.0s\n",
      "[CV] END ..........................................alpha=1.2; total time=   0.0s\n",
      "[CV] END ..........................................alpha=1.2; total time=   0.0s\n",
      "[CV] END ..........................................alpha=1.2; total time=   0.0s\n",
      "[CV] END ..........................................alpha=1.2; total time=   0.0s\n",
      "[CV] END ..........................................alpha=1.2; total time=   0.0s\n",
      "[CV] END ..........................................alpha=1.2; total time=   0.0s\n",
      "[CV] END ..........................................alpha=1.2; total time=   0.0s\n",
      "[CV] END ..........................................alpha=1.2; total time=   0.0s\n",
      "[CV] END ..........................................alpha=1.2; total time=   0.0s\n",
      "[CV] END ..........................................alpha=1.2; total time=   0.0s\n",
      "[CV] END ..........................................alpha=1.2; total time=   0.0s\n",
      "[CV] END ..........................................alpha=1.2; total time=   0.0s\n",
      "[CV] END ..........................................alpha=1.3; total time=   0.0s\n",
      "[CV] END ..........................................alpha=1.3; total time=   0.0s\n",
      "[CV] END ..........................................alpha=1.3; total time=   0.0s\n",
      "[CV] END ..........................................alpha=1.3; total time=   0.0s\n",
      "[CV] END ..........................................alpha=1.3; total time=   0.0s\n",
      "[CV] END ..........................................alpha=1.3; total time=   0.0s\n",
      "[CV] END ..........................................alpha=1.3; total time=   0.0s\n",
      "[CV] END ..........................................alpha=1.3; total time=   0.0s\n",
      "[CV] END ..........................................alpha=1.3; total time=   0.0s\n",
      "[CV] END ..........................................alpha=1.3; total time=   0.0s\n",
      "[CV] END ..........................................alpha=1.3; total time=   0.0s\n",
      "[CV] END ..........................................alpha=1.3; total time=   0.0s\n",
      "[CV] END ..........................................alpha=1.3; total time=   0.0s\n",
      "[CV] END ..........................................alpha=1.3; total time=   0.0s\n",
      "[CV] END ..........................................alpha=1.3; total time=   0.0s\n",
      "[CV] END ..........................................alpha=1.3; total time=   0.0s\n",
      "[CV] END ..........................................alpha=1.3; total time=   0.0s\n",
      "[CV] END ..........................................alpha=1.3; total time=   0.0s\n",
      "[CV] END ..........................................alpha=1.3; total time=   0.0s\n",
      "[CV] END ..........................................alpha=1.3; total time=   0.0s\n",
      "[CV] END ..........................................alpha=1.4; total time=   0.0s\n",
      "[CV] END ..........................................alpha=1.4; total time=   0.0s\n",
      "[CV] END ..........................................alpha=1.4; total time=   0.0s\n",
      "[CV] END ..........................................alpha=1.4; total time=   0.0s\n",
      "[CV] END ..........................................alpha=1.4; total time=   0.0s\n",
      "[CV] END ..........................................alpha=1.4; total time=   0.0s\n",
      "[CV] END ..........................................alpha=1.4; total time=   0.0s\n",
      "[CV] END ..........................................alpha=1.4; total time=   0.0s\n",
      "[CV] END ..........................................alpha=1.4; total time=   0.0s\n",
      "[CV] END ..........................................alpha=1.4; total time=   0.0s\n",
      "[CV] END ..........................................alpha=1.4; total time=   0.0s\n",
      "[CV] END ..........................................alpha=1.4; total time=   0.0s\n",
      "[CV] END ..........................................alpha=1.4; total time=   0.0s\n",
      "[CV] END ..........................................alpha=1.4; total time=   0.0s\n",
      "[CV] END ..........................................alpha=1.4; total time=   0.0s\n",
      "[CV] END ..........................................alpha=1.4; total time=   0.0s\n",
      "[CV] END ..........................................alpha=1.4; total time=   0.0s\n",
      "[CV] END ..........................................alpha=1.4; total time=   0.0s\n",
      "[CV] END ..........................................alpha=1.4; total time=   0.0s\n",
      "[CV] END ..........................................alpha=1.4; total time=   0.0s\n"
     ]
    },
    {
     "data": {
      "text/html": [
       "<div>\n",
       "<style scoped>\n",
       "    .dataframe tbody tr th:only-of-type {\n",
       "        vertical-align: middle;\n",
       "    }\n",
       "\n",
       "    .dataframe tbody tr th {\n",
       "        vertical-align: top;\n",
       "    }\n",
       "\n",
       "    .dataframe thead th {\n",
       "        text-align: right;\n",
       "    }\n",
       "</style>\n",
       "<table border=\"1\" class=\"dataframe\">\n",
       "  <thead>\n",
       "    <tr style=\"text-align: right;\">\n",
       "      <th></th>\n",
       "      <th>params</th>\n",
       "      <th>mean_test_3_f1-score</th>\n",
       "      <th>rank_test_3_f1-score</th>\n",
       "      <th>mean_test_4_f1-score</th>\n",
       "      <th>rank_test_4_f1-score</th>\n",
       "      <th>mean_test_5_f1-score</th>\n",
       "      <th>rank_test_5_f1-score</th>\n",
       "      <th>mean_test_accuracy</th>\n",
       "      <th>rank_test_accuracy</th>\n",
       "    </tr>\n",
       "  </thead>\n",
       "  <tbody>\n",
       "    <tr>\n",
       "      <th>0</th>\n",
       "      <td>{'alpha': 0.1}</td>\n",
       "      <td>0.451433</td>\n",
       "      <td>1</td>\n",
       "      <td>0.724275</td>\n",
       "      <td>14</td>\n",
       "      <td>0.241945</td>\n",
       "      <td>6</td>\n",
       "      <td>0.612951</td>\n",
       "      <td>14</td>\n",
       "    </tr>\n",
       "    <tr>\n",
       "      <th>1</th>\n",
       "      <td>{'alpha': 0.2}</td>\n",
       "      <td>0.424490</td>\n",
       "      <td>2</td>\n",
       "      <td>0.751430</td>\n",
       "      <td>13</td>\n",
       "      <td>0.248925</td>\n",
       "      <td>4</td>\n",
       "      <td>0.636420</td>\n",
       "      <td>13</td>\n",
       "    </tr>\n",
       "    <tr>\n",
       "      <th>2</th>\n",
       "      <td>{'alpha': 0.3}</td>\n",
       "      <td>0.412761</td>\n",
       "      <td>3</td>\n",
       "      <td>0.768410</td>\n",
       "      <td>12</td>\n",
       "      <td>0.310519</td>\n",
       "      <td>1</td>\n",
       "      <td>0.661406</td>\n",
       "      <td>12</td>\n",
       "    </tr>\n",
       "    <tr>\n",
       "      <th>3</th>\n",
       "      <td>{'alpha': 0.4}</td>\n",
       "      <td>0.405926</td>\n",
       "      <td>4</td>\n",
       "      <td>0.775756</td>\n",
       "      <td>11</td>\n",
       "      <td>0.288403</td>\n",
       "      <td>2</td>\n",
       "      <td>0.667964</td>\n",
       "      <td>11</td>\n",
       "    </tr>\n",
       "    <tr>\n",
       "      <th>4</th>\n",
       "      <td>{'alpha': 0.5}</td>\n",
       "      <td>0.396606</td>\n",
       "      <td>5</td>\n",
       "      <td>0.782229</td>\n",
       "      <td>10</td>\n",
       "      <td>0.260520</td>\n",
       "      <td>3</td>\n",
       "      <td>0.673710</td>\n",
       "      <td>10</td>\n",
       "    </tr>\n",
       "    <tr>\n",
       "      <th>5</th>\n",
       "      <td>{'alpha': 0.6}</td>\n",
       "      <td>0.386439</td>\n",
       "      <td>6</td>\n",
       "      <td>0.784805</td>\n",
       "      <td>9</td>\n",
       "      <td>0.246931</td>\n",
       "      <td>5</td>\n",
       "      <td>0.675065</td>\n",
       "      <td>9</td>\n",
       "    </tr>\n",
       "    <tr>\n",
       "      <th>6</th>\n",
       "      <td>{'alpha': 0.7}</td>\n",
       "      <td>0.378773</td>\n",
       "      <td>7</td>\n",
       "      <td>0.787925</td>\n",
       "      <td>8</td>\n",
       "      <td>0.214164</td>\n",
       "      <td>7</td>\n",
       "      <td>0.677233</td>\n",
       "      <td>6</td>\n",
       "    </tr>\n",
       "    <tr>\n",
       "      <th>7</th>\n",
       "      <td>{'alpha': 0.8}</td>\n",
       "      <td>0.373553</td>\n",
       "      <td>8</td>\n",
       "      <td>0.789128</td>\n",
       "      <td>7</td>\n",
       "      <td>0.196507</td>\n",
       "      <td>8</td>\n",
       "      <td>0.677721</td>\n",
       "      <td>5</td>\n",
       "    </tr>\n",
       "    <tr>\n",
       "      <th>8</th>\n",
       "      <td>{'alpha': 0.9}</td>\n",
       "      <td>0.364608</td>\n",
       "      <td>9</td>\n",
       "      <td>0.789764</td>\n",
       "      <td>6</td>\n",
       "      <td>0.144934</td>\n",
       "      <td>9</td>\n",
       "      <td>0.676529</td>\n",
       "      <td>7</td>\n",
       "    </tr>\n",
       "    <tr>\n",
       "      <th>9</th>\n",
       "      <td>{'alpha': 1.0}</td>\n",
       "      <td>0.358524</td>\n",
       "      <td>10</td>\n",
       "      <td>0.789772</td>\n",
       "      <td>5</td>\n",
       "      <td>0.142954</td>\n",
       "      <td>10</td>\n",
       "      <td>0.675824</td>\n",
       "      <td>8</td>\n",
       "    </tr>\n",
       "    <tr>\n",
       "      <th>10</th>\n",
       "      <td>{'alpha': 1.1}</td>\n",
       "      <td>0.312702</td>\n",
       "      <td>11</td>\n",
       "      <td>0.824345</td>\n",
       "      <td>2</td>\n",
       "      <td>0.137128</td>\n",
       "      <td>11</td>\n",
       "      <td>0.717560</td>\n",
       "      <td>1</td>\n",
       "    </tr>\n",
       "    <tr>\n",
       "      <th>11</th>\n",
       "      <td>{'alpha': 1.2}</td>\n",
       "      <td>0.305286</td>\n",
       "      <td>12</td>\n",
       "      <td>0.824278</td>\n",
       "      <td>3</td>\n",
       "      <td>0.105369</td>\n",
       "      <td>12</td>\n",
       "      <td>0.716692</td>\n",
       "      <td>2</td>\n",
       "    </tr>\n",
       "    <tr>\n",
       "      <th>12</th>\n",
       "      <td>{'alpha': 1.3}</td>\n",
       "      <td>0.296990</td>\n",
       "      <td>13</td>\n",
       "      <td>0.824057</td>\n",
       "      <td>4</td>\n",
       "      <td>0.091346</td>\n",
       "      <td>13</td>\n",
       "      <td>0.715771</td>\n",
       "      <td>3</td>\n",
       "    </tr>\n",
       "    <tr>\n",
       "      <th>13</th>\n",
       "      <td>{'alpha': 1.4}</td>\n",
       "      <td>0.290192</td>\n",
       "      <td>14</td>\n",
       "      <td>0.824417</td>\n",
       "      <td>1</td>\n",
       "      <td>0.082714</td>\n",
       "      <td>14</td>\n",
       "      <td>0.715771</td>\n",
       "      <td>4</td>\n",
       "    </tr>\n",
       "  </tbody>\n",
       "</table>\n",
       "</div>"
      ],
      "text/plain": [
       "            params  mean_test_3_f1-score  rank_test_3_f1-score  \\\n",
       "0   {'alpha': 0.1}              0.451433                     1   \n",
       "1   {'alpha': 0.2}              0.424490                     2   \n",
       "2   {'alpha': 0.3}              0.412761                     3   \n",
       "3   {'alpha': 0.4}              0.405926                     4   \n",
       "4   {'alpha': 0.5}              0.396606                     5   \n",
       "5   {'alpha': 0.6}              0.386439                     6   \n",
       "6   {'alpha': 0.7}              0.378773                     7   \n",
       "7   {'alpha': 0.8}              0.373553                     8   \n",
       "8   {'alpha': 0.9}              0.364608                     9   \n",
       "9   {'alpha': 1.0}              0.358524                    10   \n",
       "10  {'alpha': 1.1}              0.312702                    11   \n",
       "11  {'alpha': 1.2}              0.305286                    12   \n",
       "12  {'alpha': 1.3}              0.296990                    13   \n",
       "13  {'alpha': 1.4}              0.290192                    14   \n",
       "\n",
       "    mean_test_4_f1-score  rank_test_4_f1-score  mean_test_5_f1-score  \\\n",
       "0               0.724275                    14              0.241945   \n",
       "1               0.751430                    13              0.248925   \n",
       "2               0.768410                    12              0.310519   \n",
       "3               0.775756                    11              0.288403   \n",
       "4               0.782229                    10              0.260520   \n",
       "5               0.784805                     9              0.246931   \n",
       "6               0.787925                     8              0.214164   \n",
       "7               0.789128                     7              0.196507   \n",
       "8               0.789764                     6              0.144934   \n",
       "9               0.789772                     5              0.142954   \n",
       "10              0.824345                     2              0.137128   \n",
       "11              0.824278                     3              0.105369   \n",
       "12              0.824057                     4              0.091346   \n",
       "13              0.824417                     1              0.082714   \n",
       "\n",
       "    rank_test_5_f1-score  mean_test_accuracy  rank_test_accuracy  \n",
       "0                      6            0.612951                  14  \n",
       "1                      4            0.636420                  13  \n",
       "2                      1            0.661406                  12  \n",
       "3                      2            0.667964                  11  \n",
       "4                      3            0.673710                  10  \n",
       "5                      5            0.675065                   9  \n",
       "6                      7            0.677233                   6  \n",
       "7                      8            0.677721                   5  \n",
       "8                      9            0.676529                   7  \n",
       "9                     10            0.675824                   8  \n",
       "10                    11            0.717560                   1  \n",
       "11                    12            0.716692                   2  \n",
       "12                    13            0.715771                   3  \n",
       "13                    14            0.715771                   4  "
      ]
     },
     "execution_count": 274,
     "metadata": {},
     "output_type": "execute_result"
    }
   ],
   "source": [
    "# Tuning for alpha smoothing\n",
    "cnb = CategoricalNB(min_categories = [X_train_categorical[feature].nunique()+1 for feature in X_train_categorical.columns])\n",
    "param_grid = {'alpha': [i/10 for i in range(1, 15, 1)]}\n",
    "tune_hyperparameter(cnb, param_grid, X_train_categorical, y_train.astype(int))\n",
    "\n",
    "# larger alpha -> overestimate the likelihood\n",
    "# could be because there is more samples with label4 ratings, and the missing values are randomly \n",
    "# distributed across the dataset, hence more samples with label4 rating with missing values\n",
    "# -> likelihood of P(x|c=4) overestimated -> more samples predicted to have label=4"
   ]
  },
  {
   "cell_type": "code",
   "execution_count": 276,
   "metadata": {},
   "outputs": [
    {
     "name": "stdout",
     "output_type": "stream",
     "text": [
      "Evaluate on training set:\n",
      "\n",
      "CategoricalNB prediction took 0.3348560333251953 seconds\n",
      "    test_3.0_f1-score  test_4.0_f1-score  test_5.0_f1-score  test_accuracy\n",
      "0            0.318627           0.789360           0.127660       0.668472\n",
      "1            0.357647           0.782293           0.093023       0.668472\n",
      "2            0.377171           0.811159           0.177778       0.700975\n",
      "3            0.386047           0.793003           0.090909       0.681473\n",
      "4            0.372960           0.787172           0.133333       0.674973\n",
      "5            0.320802           0.792291           0.217391       0.676056\n",
      "6            0.392344           0.810382           0.048780       0.698808\n",
      "7            0.345324           0.789017           0.177778       0.673889\n",
      "8            0.418605           0.805252           0.133333       0.698808\n",
      "9            0.364045           0.781457           0.095238       0.665222\n",
      "10           0.387850           0.795918           0.136364       0.685466\n",
      "11           0.357647           0.792453           0.097561       0.676790\n",
      "12           0.385714           0.802899           0.181818       0.693059\n",
      "13           0.333333           0.772032           0.000000       0.652928\n",
      "14           0.324826           0.773626           0.291667       0.656182\n",
      "15           0.355972           0.782545           0.047619       0.667028\n",
      "16           0.338235           0.788227           0.186047       0.674620\n",
      "17           0.331731           0.783550           0.095238       0.665944\n",
      "18           0.374408           0.794481           0.266667       0.685466\n",
      "19           0.327189           0.768328           0.260870       0.651844\n",
      "test_3.0_f1-score    0.358524\n",
      "test_4.0_f1-score    0.789772\n",
      "test_5.0_f1-score    0.142954\n",
      "test_accuracy        0.675824\n",
      "dtype: float64\n",
      "\n",
      "\n",
      "Evaluate on validation set:\n",
      "\n"
     ]
    },
    {
     "data": {
      "image/png": "[encoded data removed]",
      "text/plain": [
       "<Figure size 432x288 with 2 Axes>"
      ]
     },
     "metadata": {
      "needs_background": "light"
     },
     "output_type": "display_data"
    },
    {
     "name": "stdout",
     "output_type": "stream",
     "text": [
      "              precision    recall  f1-score   support\n",
      "\n",
      "         3.0       0.58      0.17      0.26      1153\n",
      "         4.0       0.73      0.96      0.83      3260\n",
      "         5.0       0.75      0.04      0.08       200\n",
      "\n",
      "    accuracy                           0.72      4613\n",
      "   macro avg       0.69      0.39      0.39      4613\n",
      "weighted avg       0.70      0.72      0.66      4613\n",
      "\n"
     ]
    }
   ],
   "source": [
    "cnb = CategoricalNB(alpha = 1, min_categories = [X_train_categorical[feature].nunique()+1 for feature in X_train_categorical.columns])\n",
    "categorical_pred = validate_and_test(cnb, X_train_categorical, y_train, X_val_categorical, y_val)\n"
   ]
  },
  {
   "cell_type": "markdown",
   "metadata": {},
   "source": [
    "### Multinomial NB for Name and Description"
   ]
  },
  {
   "cell_type": "code",
   "execution_count": 277,
   "metadata": {},
   "outputs": [
    {
     "name": "stdout",
     "output_type": "stream",
     "text": [
      "Evaluate on training set:\n",
      "\n",
      "MultinomialNB prediction took 1.4693188667297363 seconds\n",
      "    test_3.0_f1-score  test_4.0_f1-score  test_5.0_f1-score  test_accuracy\n",
      "0            0.077821           0.821244           0.044444       0.698808\n",
      "1            0.079681           0.826031           0.000000       0.705309\n",
      "2            0.062745           0.818418           0.081633       0.694475\n",
      "3            0.121673           0.824447           0.088889       0.706392\n",
      "4            0.080000           0.826787           0.000000       0.706392\n",
      "5            0.048193           0.822165           0.088889       0.699892\n",
      "6            0.077821           0.824822           0.095238       0.704225\n",
      "7            0.069767           0.821012           0.130435       0.698808\n",
      "8            0.101167           0.824903           0.042553       0.704225\n",
      "9            0.071146           0.824289           0.088889       0.703142\n",
      "10           0.055336           0.821705           0.139535       0.700651\n",
      "11           0.064000           0.823985           0.093023       0.703905\n",
      "12           0.071713           0.825806           0.093023       0.706074\n",
      "13           0.101167           0.826649           0.048780       0.708243\n",
      "14           0.048000           0.821935           0.000000       0.697397\n",
      "15           0.055336           0.817887           0.083333       0.694143\n",
      "16           0.040323           0.822394           0.095238       0.700651\n",
      "17           0.094862           0.826649           0.088889       0.708243\n",
      "18           0.106870           0.823912           0.093023       0.704989\n",
      "19           0.062992           0.821012           0.166667       0.699566\n",
      "test_3.0_f1-score    0.074531\n",
      "test_4.0_f1-score    0.823303\n",
      "test_5.0_f1-score    0.078124\n",
      "test_accuracy        0.702276\n",
      "dtype: float64\n",
      "\n",
      "\n",
      "Evaluate on validation set:\n",
      "\n"
     ]
    },
    {
     "data": {
      "image/png": "[encoded data removed]",
      "text/plain": [
       "<Figure size 432x288 with 2 Axes>"
      ]
     },
     "metadata": {
      "needs_background": "light"
     },
     "output_type": "display_data"
    },
    {
     "name": "stdout",
     "output_type": "stream",
     "text": [
      "              precision    recall  f1-score   support\n",
      "\n",
      "         3.0       0.57      0.04      0.07      1153\n",
      "         4.0       0.71      0.99      0.83      3260\n",
      "         5.0       0.30      0.04      0.07       200\n",
      "\n",
      "    accuracy                           0.71      4613\n",
      "   macro avg       0.53      0.36      0.32      4613\n",
      "weighted avg       0.66      0.71      0.61      4613\n",
      "\n"
     ]
    }
   ],
   "source": [
    "# better than complementNB and gaussianNB\n",
    "mnb = MultinomialNB()\n",
    "multinomial_pred = validate_and_test(mnb, X_train_multinomial, y_train, X_val_multinomial, y_val)"
   ]
  },
  {
   "cell_type": "markdown",
   "metadata": {},
   "source": [
    "### Categorical NB for final prediction"
   ]
  },
  {
   "cell_type": "code",
   "execution_count": 278,
   "metadata": {},
   "outputs": [],
   "source": [
    "# use a categorical nb to predict the final rating\n",
    "# training dataframe\n",
    "gnb.fit(X_train_gaussian, y_train)\n",
    "gaussian_pred_training = gnb.predict(X_train_gaussian)\n",
    "cnb.fit(X_train_categorical, y_train)\n",
    "categorical_pred_training = cnb.predict(X_train_categorical)\n",
    "mnb.fit(X_train_multinomial, y_train)\n",
    "multinomial_pred_training = mnb.predict(X_train_multinomial)"
   ]
  },
  {
   "cell_type": "code",
   "execution_count": 279,
   "metadata": {},
   "outputs": [
    {
     "data": {
      "image/png": "[encoded data removed]",
      "text/plain": [
       "<Figure size 432x288 with 2 Axes>"
      ]
     },
     "metadata": {
      "needs_background": "light"
     },
     "output_type": "display_data"
    },
    {
     "name": "stdout",
     "output_type": "stream",
     "text": [
      "              precision    recall  f1-score   support\n",
      "\n",
      "         3.0       0.58      0.17      0.26      1153\n",
      "         4.0       0.73      0.96      0.83      3260\n",
      "         5.0       0.81      0.07      0.12       200\n",
      "\n",
      "    accuracy                           0.72      4613\n",
      "   macro avg       0.71      0.40      0.40      4613\n",
      "weighted avg       0.70      0.72      0.66      4613\n",
      "\n"
     ]
    },
    {
     "data": {
      "text/plain": [
       "array([4., 4., 4., ..., 4., 4., 4.])"
      ]
     },
     "execution_count": 279,
     "metadata": {},
     "output_type": "execute_result"
    }
   ],
   "source": [
    "X_predictions_training = pd.DataFrame({'GaussianNB_Year_Pages' : gaussian_pred_training,\n",
    "                                'CategoricalNB_Author_Publisher' : categorical_pred_training,\n",
    "                                'MultinomialNB_Name_Desc' : multinomial_pred_training})\n",
    "\n",
    "# validation dataframe\n",
    "X_predictions_val = pd.DataFrame({'GaussianNB_Year_Pages' : gaussian_pred,\n",
    "                                'CategoricalNB_Author_Publisher' : categorical_pred,\n",
    "                                'MultinomialNB_Name_Desc' : multinomial_pred})\n",
    "\n",
    "final_nb = CategoricalNB()\n",
    "final_nb.fit(X_predictions_training, y_train)\n",
    "final_nb.predict(X_predictions_training)\n",
    "evaluate(final_nb, X_predictions_val, y_val, print_confusion_matrix=True, print_classification_report=True)"
   ]
  },
  {
   "cell_type": "markdown",
   "metadata": {},
   "source": [
    "### Predict_proba + Logistic Regression for final prediction"
   ]
  },
  {
   "cell_type": "code",
   "execution_count": 280,
   "metadata": {},
   "outputs": [],
   "source": [
    "gnb.fit(X_train_gaussian, y_train)\n",
    "gaussian_pred_training = gnb.predict_proba(X_train_gaussian)\n",
    "cnb.fit(X_train_categorical, y_train)\n",
    "categorical_pred_training = cnb.predict_proba(X_train_categorical)\n",
    "mnb.fit(X_train_multinomial, y_train)\n",
    "multinomial_pred_training = mnb.predict_proba(X_train_multinomial)\n",
    "X_meta_training = np.concatenate([gaussian_pred_training, categorical_pred_training, multinomial_pred_training], axis=1)"
   ]
  },
  {
   "cell_type": "code",
   "execution_count": 281,
   "metadata": {},
   "outputs": [],
   "source": [
    "gaussian_pred_val = gnb.predict_proba(X_val_gaussian)\n",
    "categorical_pred_val = cnb.predict_proba(X_val_categorical)\n",
    "multinomial_pred_val = mnb.predict_proba(X_val_multinomial)\n",
    "X_meta_val = np.concatenate([gaussian_pred_val, categorical_pred_val, multinomial_pred_val], axis=1)"
   ]
  },
  {
   "cell_type": "code",
   "execution_count": 282,
   "metadata": {},
   "outputs": [
    {
     "data": {
      "image/png": "[encoded data removed]",
      "text/plain": [
       "<Figure size 432x288 with 2 Axes>"
      ]
     },
     "metadata": {
      "needs_background": "light"
     },
     "output_type": "display_data"
    },
    {
     "name": "stdout",
     "output_type": "stream",
     "text": [
      "              precision    recall  f1-score   support\n",
      "\n",
      "         3.0       0.52      0.26      0.35      1153\n",
      "         4.0       0.75      0.91      0.82      3260\n",
      "         5.0       0.50      0.20      0.28       200\n",
      "\n",
      "    accuracy                           0.71      4613\n",
      "   macro avg       0.59      0.45      0.48      4613\n",
      "weighted avg       0.68      0.71      0.68      4613\n",
      "\n"
     ]
    },
    {
     "data": {
      "text/plain": [
       "array([4., 4., 4., ..., 4., 4., 4.])"
      ]
     },
     "execution_count": 282,
     "metadata": {},
     "output_type": "execute_result"
    }
   ],
   "source": [
    "from sklearn.linear_model import LogisticRegression\n",
    "meta_classifier_lr = LogisticRegression()\n",
    "meta_classifier_lr.fit(X_meta, y_train)\n",
    "evaluate(meta_classifier_lr, X_meta_val, y_val, print_confusion_matrix=True, print_classification_report=True)"
   ]
  },
  {
   "cell_type": "markdown",
   "metadata": {},
   "source": [
    "### Generate Model"
   ]
  },
  {
   "cell_type": "code",
   "execution_count": 57,
   "metadata": {},
   "outputs": [],
   "source": [
    "FEATURE_SETS = [GAUSSIAN_FEATURES, CATEGORICAL_FEATURES, MULTINOMIAL_FEATURES]"
   ]
  },
  {
   "cell_type": "code",
   "execution_count": 330,
   "metadata": {},
   "outputs": [],
   "source": [
    "from sklearn.metrics import accuracy_score\n",
    "from sklearn.base import ClassifierMixin, BaseEstimator\n",
    "\n",
    "FEATURE_SETS = [GAUSSIAN_FEATURES, CATEGORICAL_FEATURES, MULTINOMIAL_FEATURES]\n",
    "\n",
    "class StackingNB(ClassifierMixin, BaseEstimator):\n",
    "\n",
    "    def __init__(self, classifiers, metaclassifier):\n",
    "        self.classifiers = classifiers\n",
    "        self.metaclassifier = metaclassifier\n",
    "        self.feature_sets = FEATURE_SETS\n",
    "        #self.encoder = encoder\n",
    "        \n",
    "        self.encoder = None\n",
    "\n",
    "    def fit(self, X, y):\n",
    "        X = X.copy()\n",
    "        \n",
    "        self.encoder = OrdinalEncoder(handle_unknown = 'use_encoded_value', unknown_value = -1)\n",
    "        self.encoder.fit(X[CATEGORICAL_FEATURES])\n",
    "        \n",
    "        X[CATEGORICAL_FEATURES] = self.encoder.transform(X[CATEGORICAL_FEATURES])\n",
    "        base_preds = []\n",
    "        for clf, feature_set in zip(self.classifiers, self.feature_sets):\n",
    "            clf.fit(X[feature_set], y)  # classifier uses a subset of features\n",
    "        #print(self.classifiers[1].category_count_)\n",
    "        #print(self.classifiers[1].feature_log_prob_)\n",
    "        \n",
    "        X_meta = self._predict_base(X) # output of the base classifiers = input for meta-classifier\n",
    "        self.metaclassifier.fit(X_meta, y) #output of the base classifiers is the input for the meta classifier\n",
    "        return self\n",
    "    \n",
    "    def _predict_base(self, X):\n",
    "        y_hats = []\n",
    "        for clf, feature_set in zip(self.classifiers, self.feature_sets):\n",
    "            y_hat = clf.predict(X[feature_set])\n",
    "            y_hats.append(y_hat)\n",
    "        \n",
    "        y_hats = pd.DataFrame({'GaussianNB_pred' : y_hats[0],\n",
    "                               'CategoricalNB_pred' : y_hats[1],\n",
    "                               'MultinomialNB_pred' : y_hats[2]})\n",
    "        assert y_hats.shape[0] == X.shape[0] # check that the number of rows yhats matches the number of rows in the input data X\n",
    "        return y_hats\n",
    "    \n",
    "    def predict(self, X):\n",
    "        X = X.copy()\n",
    "        X[CATEGORICAL_FEATURES] = self.encoder.transform(X[CATEGORICAL_FEATURES])\n",
    "        \n",
    "        for i in [0,1]: \n",
    "            X[CATEGORICAL_FEATURES[i]] = X[CATEGORICAL_FEATURES[i]].replace(-1, self.encoder.categories_[i].size)\n",
    "        #print(X[CATEGORICAL_FEATURES])\n",
    "            \n",
    "        X_meta = self._predict_base(X)\n",
    "        y_hat = self.metaclassifier.predict(X_meta)\n",
    "        return y_hat\n",
    "    \n",
    "    def predict_proba(self, X): \n",
    "        X = X.copy()\n",
    "        X[CATEGORICAL_FEATURES] = self.encoder.transform(X[CATEGORICAL_FEATURES])\n",
    "        X_meta = self._predict_base(X)\n",
    "        return self.metaclassifier.predict_proba(X_meta)\n",
    "    \n",
    "    def score(self, X, y):\n",
    "        y_hat = self.predict(X)\n",
    "        return accuracy_score(y, y_hat)"
   ]
  },
  {
   "cell_type": "code",
   "execution_count": 331,
   "metadata": {},
   "outputs": [],
   "source": [
    "base_classifiers = [GaussianNB(),\n",
    "                    CategoricalNB(alpha = 1, min_categories = [X_train[feature].nunique()+1 for feature in CATEGORICAL_FEATURES]),\n",
    "                    MultinomialNB()]\n",
    "\n",
    "\n",
    "# to see the different in output when min_categories is different: \n",
    "#enc = OrdinalEncoder()\n",
    "#enc.fit(pd.concat([X_train[CATEGORICAL_FEATURES], X_val[CATEGORICAL_FEATURES]]))\n",
    "#base_classifiers = [GaussianNB(),\n",
    "#                    CategoricalNB(alpha = 1, min_categories = [enc.categories_[i].size for i in [0,1]]),\n",
    "#                    MultinomialNB()]\n"
   ]
  },
  {
   "cell_type": "code",
   "execution_count": 332,
   "metadata": {},
   "outputs": [
    {
     "data": {
      "text/plain": [
       "13546"
      ]
     },
     "execution_count": 332,
     "metadata": {},
     "output_type": "execute_result"
    }
   ],
   "source": [
    "X_train['Authors'].nunique()"
   ]
  },
  {
   "cell_type": "code",
   "execution_count": 333,
   "metadata": {},
   "outputs": [
    {
     "name": "stdout",
     "output_type": "stream",
     "text": [
      "Evaluate on training set:\n",
      "\n",
      "StackingNB prediction took 9.178498983383179 seconds\n",
      "    test_3.0_f1-score  test_4.0_f1-score  test_5.0_f1-score  test_accuracy\n",
      "0            0.318627           0.789360           0.127660       0.668472\n",
      "1            0.357647           0.782293           0.093023       0.668472\n",
      "2            0.377171           0.811159           0.177778       0.700975\n",
      "3            0.386047           0.794161           0.173913       0.683640\n",
      "4            0.372960           0.787172           0.133333       0.674973\n",
      "5            0.320802           0.792291           0.217391       0.676056\n",
      "6            0.392344           0.811552           0.139535       0.700975\n",
      "7            0.345324           0.790159           0.255319       0.676056\n",
      "8            0.418605           0.805839           0.173913       0.699892\n",
      "9            0.364045           0.782609           0.181818       0.667389\n",
      "10           0.387850           0.796499           0.177778       0.686551\n",
      "11           0.357647           0.793028           0.142857       0.677874\n",
      "12           0.385714           0.802899           0.181818       0.693059\n",
      "13           0.333333           0.772595           0.050000       0.654013\n",
      "14           0.324826           0.773626           0.291667       0.656182\n",
      "15           0.355972           0.783115           0.093023       0.668113\n",
      "16           0.338235           0.788227           0.186047       0.674620\n",
      "17           0.331731           0.783550           0.095238       0.665944\n",
      "18           0.374408           0.794481           0.266667       0.685466\n",
      "19           0.327189           0.769457           0.333333       0.654013\n",
      "test_3.0_f1-score    0.358524\n",
      "test_4.0_f1-score    0.790204\n",
      "test_5.0_f1-score    0.174606\n",
      "test_accuracy        0.676637\n",
      "dtype: float64\n",
      "\n",
      "\n",
      "Evaluate on validation set:\n",
      "\n"
     ]
    },
    {
     "data": {
      "image/png": "[encoded data removed]",
      "text/plain": [
       "<Figure size 432x288 with 2 Axes>"
      ]
     },
     "metadata": {
      "needs_background": "light"
     },
     "output_type": "display_data"
    },
    {
     "name": "stdout",
     "output_type": "stream",
     "text": [
      "              precision    recall  f1-score   support\n",
      "\n",
      "         3.0       0.41      0.32      0.36      1153\n",
      "         4.0       0.75      0.85      0.79      3260\n",
      "         5.0       0.75      0.09      0.16       200\n",
      "\n",
      "    accuracy                           0.68      4613\n",
      "   macro avg       0.64      0.42      0.44      4613\n",
      "weighted avg       0.66      0.68      0.66      4613\n",
      "\n"
     ]
    }
   ],
   "source": [
    "# meta_classifier = categoricalNB\n",
    "meta_classifier = CategoricalNB()\n",
    "snb = StackingNB(base_classifiers, meta_classifier)\n",
    "snb.fit(X_train, y_train)\n",
    "final_pred = validate_and_test(snb, X_train, y_train, X_val, y_val)"
   ]
  },
  {
   "cell_type": "code",
   "execution_count": 334,
   "metadata": {},
   "outputs": [
    {
     "name": "stdout",
     "output_type": "stream",
     "text": [
      "Evaluate on training set:\n",
      "\n",
      "StackingNB prediction took 15.361557960510254 seconds\n",
      "    test_3.0_f1-score  test_4.0_f1-score  test_5.0_f1-score  test_accuracy\n",
      "0            0.320197           0.791098           0.127660       0.670639\n",
      "1            0.357647           0.782293           0.093023       0.668472\n",
      "2            0.377171           0.811159           0.177778       0.700975\n",
      "3            0.384075           0.794182           0.090909       0.682557\n",
      "4            0.372960           0.787172           0.133333       0.674973\n",
      "5            0.320802           0.792291           0.217391       0.676056\n",
      "6            0.392344           0.811552           0.139535       0.700975\n",
      "7            0.345324           0.790159           0.255319       0.676056\n",
      "8            0.418605           0.805839           0.173913       0.699892\n",
      "9            0.364045           0.781457           0.095238       0.665222\n",
      "10           0.387850           0.795918           0.136364       0.685466\n",
      "11           0.357647           0.793028           0.142857       0.677874\n",
      "12           0.385714           0.802899           0.181818       0.693059\n",
      "13           0.333333           0.772595           0.050000       0.654013\n",
      "14           0.324826           0.773626           0.291667       0.656182\n",
      "15           0.355972           0.782545           0.047619       0.667028\n",
      "16           0.338235           0.788227           0.186047       0.674620\n",
      "17           0.331731           0.783550           0.095238       0.665944\n",
      "18           0.374408           0.794481           0.266667       0.685466\n",
      "19           0.327189           0.769457           0.333333       0.654013\n",
      "test_3.0_f1-score    0.358504\n",
      "test_4.0_f1-score    0.790176\n",
      "test_5.0_f1-score    0.161785\n",
      "test_accuracy        0.676474\n",
      "dtype: float64\n",
      "\n",
      "\n",
      "Evaluate on validation set:\n",
      "\n"
     ]
    },
    {
     "data": {
      "image/png": "[encoded data removed]",
      "text/plain": [
       "<Figure size 432x288 with 2 Axes>"
      ]
     },
     "metadata": {
      "needs_background": "light"
     },
     "output_type": "display_data"
    },
    {
     "name": "stdout",
     "output_type": "stream",
     "text": [
      "              precision    recall  f1-score   support\n",
      "\n",
      "         3.0       0.41      0.32      0.36      1153\n",
      "         4.0       0.75      0.85      0.79      3260\n",
      "         5.0       0.68      0.07      0.12       200\n",
      "\n",
      "    accuracy                           0.68      4613\n",
      "   macro avg       0.61      0.41      0.42      4613\n",
      "weighted avg       0.66      0.68      0.66      4613\n",
      "\n"
     ]
    }
   ],
   "source": [
    "# meta classifier = LogisticRegression\n",
    "meta_classifier_lr = LogisticRegression()\n",
    "snb_lr = StackingNB(base_classifiers, meta_classifier_lr)\n",
    "snb_lr.fit(X_train, y_train)\n",
    "final_pred = validate_and_test(snb_lr, X_train, y_train, X_val, y_val)\n",
    "# yields similar result"
   ]
  },
  {
   "cell_type": "markdown",
   "metadata": {},
   "source": [
    "## SVM"
   ]
  },
  {
   "cell_type": "markdown",
   "metadata": {},
   "source": [
    "### Linear"
   ]
  },
  {
   "cell_type": "code",
   "execution_count": null,
   "metadata": {},
   "outputs": [],
   "source": [
    "from sklearn import svm"
   ]
  },
  {
   "cell_type": "code",
   "execution_count": null,
   "metadata": {},
   "outputs": [],
   "source": [
    "linearSVM = svm.LinearSVC(random_state=30027, C=10) # set C?\n",
    "linearSVM.fit(X_train, y_train)\n",
    "validate_and_test(linearSVM, X_train, y_train, X_val, y_val)"
   ]
  },
  {
   "cell_type": "code",
   "execution_count": null,
   "metadata": {},
   "outputs": [],
   "source": [
    "# Linear SVM using Stochastic Gradient Descent\n",
    "from sklearn.linear_model import SGDClassifier\n",
    "\n",
    "# learning_rate='optimal' predicts most 4s as 3s\n",
    "# validation accuracy stops increasing for eta0 < 0.0000001\n",
    "svm_sgd = SGDClassifier(learning_rate='adaptive', eta0 = 0.0000001)  # default: loss='hinge' -> gives a linear SVM\n",
    "validate_and_test(svm_sgd, X_train, y_train, X_val, y_val)"
   ]
  },
  {
   "cell_type": "markdown",
   "metadata": {},
   "source": [
    "### Kernel SVM"
   ]
  },
  {
   "cell_type": "code",
   "execution_count": null,
   "metadata": {},
   "outputs": [],
   "source": [
    "# tune hyperparameter C\n",
    "RBF_svm = svm.SVC(kernel='rbf', gamma=0.9)\n",
    "param_grid = {'C': range(1, 10)}\n",
    "grid_search_result = tune_hyperparameter(RBF_svm, param_grid, X_train, y_train)"
   ]
  },
  {
   "cell_type": "code",
   "execution_count": null,
   "metadata": {},
   "outputs": [],
   "source": [
    "grid_search_result"
   ]
  },
  {
   "cell_type": "code",
   "execution_count": null,
   "metadata": {},
   "outputs": [],
   "source": [
    "# Try kernel SVM\n",
    "RBF_svm = svm.SVC(kernel='rbf', gamma=0.9, C=10)\n",
    "validate_and_test(RBF_svm, X_train, y_train, X_val, y_val)"
   ]
  },
  {
   "cell_type": "markdown",
   "metadata": {},
   "source": [
    "## kNN"
   ]
  },
  {
   "cell_type": "code",
   "execution_count": null,
   "metadata": {},
   "outputs": [],
   "source": [
    "from sklearn.neighbors import KNeighborsClassifier"
   ]
  },
  {
   "cell_type": "code",
   "execution_count": null,
   "metadata": {},
   "outputs": [],
   "source": [
    "# tune hyperparameters p and K\n",
    "knn = KNeighborsClassifier(weights = 'distance')\n",
    "param_grid = {'p': [1,2], 'n_neighbors': range(1,11)}\n",
    "grid_search_result = tune_hyperparameter(knn, param_grid, X_train, y_train)"
   ]
  },
  {
   "cell_type": "code",
   "execution_count": null,
   "metadata": {},
   "outputs": [],
   "source": [
    "grid_search_result\n",
    "# p=2 (euclidean distance) is generally better\n",
    "# larger k models prefers label 4.0 and hence results in higher accuracy due to data imbalance"
   ]
  },
  {
   "cell_type": "code",
   "execution_count": null,
   "metadata": {},
   "outputs": [],
   "source": [
    "knn = KNeighborsClassifier(n_neighbors=5, weights='distance')\n",
    "validate_and_test(knn, X_train, y_train, X_val, y_val)"
   ]
  },
  {
   "cell_type": "markdown",
   "metadata": {},
   "source": [
    "## Decision Tree"
   ]
  },
  {
   "cell_type": "code",
   "execution_count": 123,
   "metadata": {},
   "outputs": [],
   "source": [
    "from sklearn.tree import DecisionTreeClassifier"
   ]
  },
  {
   "cell_type": "code",
   "execution_count": null,
   "metadata": {},
   "outputs": [],
   "source": [
    "# tune hyperparameter max_depth\n",
    "dtc = DecisionTreeClassifier(random_state = 30027)\n",
    "param_grid = {'max_depth': range(2,21)}\n",
    "grid_search_result = tune_hyperparameter(dtc, param_grid, X_train, y_train)"
   ]
  },
  {
   "cell_type": "code",
   "execution_count": null,
   "metadata": {},
   "outputs": [],
   "source": [
    "grid_search_result\n",
    "# smaller depth converge towards 0R and prefers 4.0 label"
   ]
  },
  {
   "cell_type": "code",
   "execution_count": null,
   "metadata": {},
   "outputs": [],
   "source": [
    "dtc = DecisionTreeClassifier(max_depth=20, random_state = 30027)\n",
    "validate_and_test(dtc, X_train, y_train, X_val, y_val)"
   ]
  },
  {
   "cell_type": "markdown",
   "metadata": {},
   "source": [
    "## Logistic Regression"
   ]
  },
  {
   "cell_type": "code",
   "execution_count": null,
   "metadata": {},
   "outputs": [],
   "source": [
    "from sklearn.linear_model import LogisticRegression\n",
    "# using full feature set\n",
    "logr = LogisticRegression()\n",
    "validate_and_test(logr, X_train, y_train, X_val, y_val)"
   ]
  },
  {
   "cell_type": "code",
   "execution_count": null,
   "metadata": {},
   "outputs": [],
   "source": [
    "# Feature selection\n",
    "selector = SelectKBest(k=100)\n",
    "selector.fit(X_train, y_train)\n",
    "X_train_reduced = selector.transform(X_train)\n",
    "X_val_reduced = selector.transform(X_val)\n",
    "print(X_train_reduced.shape)\n",
    "print(X_val_reduced.shape)"
   ]
  },
  {
   "cell_type": "code",
   "execution_count": null,
   "metadata": {},
   "outputs": [],
   "source": [
    "# using reduced feature set\n",
    "validate_and_test(logr, X_train_reduced, y_train, X_val_reduced, y_val)\n",
    "\n"
   ]
  },
  {
   "cell_type": "code",
   "execution_count": null,
   "metadata": {},
   "outputs": [],
   "source": [
    "# Logistic regression using Stochastic Gradient Descent\n",
    "from sklearn.linear_model import SGDClassifier\n",
    "\n",
    "# learning_rate='optimal' -> validation accuracy = 0.535\n",
    "# probabilistic -> different accuracy each time\n",
    "# eta0=0.0000001 -> low variance, capped at 0.698\n",
    "# eta0=0.001 -> high variance, occasionally reached 0.7\n",
    "logr_sgd = SGDClassifier(loss='log_loss', learning_rate='adaptive', eta0=0.0000001)\n",
    "validate_and_test(logr_sgd, X_train, y_train, X_val, y_val)"
   ]
  },
  {
   "cell_type": "markdown",
   "metadata": {},
   "source": [
    "## Boosting"
   ]
  },
  {
   "cell_type": "code",
   "execution_count": null,
   "metadata": {},
   "outputs": [],
   "source": [
    "from sklearn.preprocessing import OneHotEncoder"
   ]
  },
  {
   "cell_type": "code",
   "execution_count": null,
   "metadata": {},
   "outputs": [],
   "source": [
    "def one_hot_encode(df, feature, ohe=None):\n",
    "    if ohe is None:\n",
    "        ohe = OneHotEncoder(handle_unknown='ignore')\n",
    "        ohe.fit(df[[feature]])\n",
    "    \n",
    "    transformed_col = ohe.transform(df[[feature]])  # a sparse matrix\n",
    "    transformed_df = pd.DataFrame.sparse.from_spmatrix(transformed_col).set_axis(ohe.categories_[0], axis=1, inplace=False)\n",
    "    \n",
    "    return transformed_df, ohe"
   ]
  },
  {
   "cell_type": "code",
   "execution_count": null,
   "metadata": {},
   "outputs": [],
   "source": [
    "transformed_author, ohe_author = one_hot_encode(X_train, 'Authors')\n",
    "transformed_publisher, ohe_publisher = one_hot_encode(X_train, 'Publisher')\n",
    "transformed_X_train = pd.concat([transformed_author, transformed_publisher, X_train.reset_index(drop=True)], axis=1)\n",
    "transformed_X_train = transformed_X_train.drop(['Authors', 'Publisher'], axis=1)\n",
    "transformed_X_train"
   ]
  },
  {
   "cell_type": "code",
   "execution_count": null,
   "metadata": {},
   "outputs": [],
   "source": [
    "# Do the same for the validation set\n",
    "transformed_author, _ = one_hot_encode(X_val, 'Authors', ohe=ohe_author)\n",
    "transformed_publisher, _ = one_hot_encode(X_val, 'Publisher', ohe=ohe_publisher)\n",
    "transformed_X_val = pd.concat([transformed_author, transformed_publisher, X_val.reset_index(drop=True)], axis=1)\n",
    "transformed_X_val = transformed_X_val.drop(['Authors', 'Publisher'], axis=1)\n",
    "transformed_X_val"
   ]
  },
  {
   "cell_type": "code",
   "execution_count": null,
   "metadata": {},
   "outputs": [],
   "source": [
    "from sklearn.ensemble import AdaBoostClassifier\n",
    "\n",
    "adab = AdaBoostClassifier(n_estimators=100, random_state=30027)\n",
    "validate_and_test(adab, transformed_X_train, y_train, transformed_X_val, y_val)"
   ]
  },
  {
   "cell_type": "markdown",
   "metadata": {},
   "source": [
    "## Random Forest"
   ]
  },
  {
   "cell_type": "code",
   "execution_count": null,
   "metadata": {},
   "outputs": [],
   "source": [
    "from sklearn.ensemble import RandomForestClassifier\n",
    "\n",
    "rf = RandomForestClassifier(max_depth=2, random_state=30027)\n",
    "validate_and_test(rf, X_train, y_train, X_val, y_val)"
   ]
  },
  {
   "cell_type": "markdown",
   "metadata": {},
   "source": [
    "## Stacking Classifier"
   ]
  },
  {
   "cell_type": "code",
   "execution_count": null,
   "metadata": {},
   "outputs": [],
   "source": [
    "from sklearn.ensemble import StackingClassifier\n",
    "\n",
    "classifiers = [('linearSVM', linearSVM), ('svm_sgd', svm_sgd), ('RBF_svm', RBF_svm), ('knn', knn), ('dtc', dtc)]#, ('logr', logr)]\n",
    "sc = StackingClassifier(classifiers, verbose = 1)\n",
    "validate_and_test(sc, X_train, y_train, X_val, y_val)"
   ]
  },
  {
   "cell_type": "code",
   "execution_count": null,
   "metadata": {},
   "outputs": [],
   "source": [
    "evaluate(stacking_clf, X_val, y_val, print_confusion_matrix=True, print_classification_report=True)"
   ]
  },
  {
   "cell_type": "code",
   "execution_count": null,
   "metadata": {},
   "outputs": [],
   "source": []
  },
  {
   "cell_type": "markdown",
   "metadata": {},
   "source": [
    "## Baseline - 0R & 1R"
   ]
  },
  {
   "cell_type": "code",
   "execution_count": null,
   "metadata": {
    "execution": {
     "iopub.execute_input": "2023-04-16T08:33:57.307355Z",
     "iopub.status.busy": "2023-04-16T08:33:57.306901Z",
     "iopub.status.idle": "2023-04-16T08:33:57.359791Z",
     "shell.execute_reply": "2023-04-16T08:33:57.358692Z",
     "shell.execute_reply.started": "2023-04-16T08:33:57.307317Z"
    }
   },
   "outputs": [],
   "source": [
    "from sklearn.tree import DecisionTreeClassifier\n",
    "from sklearn.preprocessing import KBinsDiscretizer\n",
    "from sklearn.dummy import DummyClassifier"
   ]
  },
  {
   "cell_type": "code",
   "execution_count": null,
   "metadata": {},
   "outputs": [],
   "source": [
    "# build and test 0R and 1R model\n",
    "zero_r = DummyClassifier(strategy='most_frequent')\n",
    "one_r = DecisionTreeClassifier(max_depth=1)\n",
    "baselines = [zero_r, one_r]\n",
    "\n",
    "for baseline in baselines: \n",
    "    validate_and_test(baseline, X_train, y_train, X_val, y_val, print_full_cv_results=False)\n",
    "    print(\"\\n*****************************\\n\")"
   ]
  },
  {
   "cell_type": "code",
   "execution_count": null,
   "metadata": {},
   "outputs": [],
   "source": []
  },
  {
   "cell_type": "code",
   "execution_count": null,
   "metadata": {},
   "outputs": [],
   "source": []
  }
 ],
 "metadata": {
  "kernelspec": {
   "display_name": "Python 3",
   "language": "python",
   "name": "python3"
  },
  "language_info": {
   "codemirror_mode": {
    "name": "ipython",
    "version": 3
   },
   "file_extension": ".py",
   "mimetype": "text/x-python",
   "name": "python",
   "nbconvert_exporter": "python",
   "pygments_lexer": "ipython3",
   "version": "3.8.8"
  }
 },
 "nbformat": 4,
 "nbformat_minor": 4
}
